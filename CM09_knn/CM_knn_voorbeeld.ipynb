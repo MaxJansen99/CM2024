{
 "cells": [
  {
   "cell_type": "markdown",
   "metadata": {},
   "source": [
    "#  *k*-Nearest Neighbours - voorbeeld distance en probability\n",
    "\n",
    "In dit notebook wordt de werking van de hyperparameter `weights` toegelicht. Je kunt kiezen voor `uniform` (= democratische meerderheid) of `distance` (hierbij wordt de afstand meegenomen in de weging).\n",
    "\n",
    "Daarnaast wordt de output variabele `probability` toegelicht: deze zegt iets over de waarschijnlijkheid van een voorspelling.\n"
   ]
  },
  {
   "cell_type": "code",
   "metadata": {
    "ExecuteTime": {
     "end_time": "2024-10-07T13:42:00.763571Z",
     "start_time": "2024-10-07T13:42:00.760781Z"
    }
   },
   "source": [
    "import numpy as np\n",
    "import pandas as pd\n",
    "import matplotlib.pyplot as plt\n",
    "from sklearn.neighbors import KNeighborsClassifier"
   ],
   "outputs": [],
   "execution_count": 20
  },
  {
   "cell_type": "code",
   "metadata": {
    "ExecuteTime": {
     "end_time": "2024-10-07T13:42:00.778336Z",
     "start_time": "2024-10-07T13:42:00.768365Z"
    }
   },
   "source": [
    "# Minidatasetje met twee features en een target\n",
    "\n",
    "data = {'x1': [0, 0, 0, 1, 1, 2, 2, 2],\n",
    "        'x2': [0, 1, 2, 0, 2, 0, 1, 2],\n",
    "        'target': ['red', 'blue', 'red', 'blue', 'blue', 'red', 'blue', 'red']}\n",
    "\n",
    "df = pd.DataFrame (data, columns = ['x1','x2','target'])\n",
    "\n",
    "print (df)"
   ],
   "outputs": [
    {
     "name": "stdout",
     "output_type": "stream",
     "text": [
      "   x1  x2 target\n",
      "0   0   0    red\n",
      "1   0   1   blue\n",
      "2   0   2    red\n",
      "3   1   0   blue\n",
      "4   1   2   blue\n",
      "5   2   0    red\n",
      "6   2   1   blue\n",
      "7   2   2    red\n"
     ]
    }
   ],
   "execution_count": 21
  },
  {
   "cell_type": "code",
   "metadata": {
    "ExecuteTime": {
     "end_time": "2024-10-07T13:42:00.894482Z",
     "start_time": "2024-10-07T13:42:00.816066Z"
    }
   },
   "source": [
    "# Zo zijn de 8 punten verdeeld, we gaan hierna kijken naar het punt op het coördinaat (1, 1)\n",
    "\n",
    "plt.scatter(df['x1'], df['x2'], c=df['target'])"
   ],
   "outputs": [
    {
     "data": {
      "text/plain": [
       "<matplotlib.collections.PathCollection at 0x778995e3ac90>"
      ]
     },
     "execution_count": 22,
     "metadata": {},
     "output_type": "execute_result"
    },
    {
     "data": {
      "text/plain": [
       "<Figure size 640x480 with 1 Axes>"
      ],
      "image/png": "[encoded data removed]"
     },
     "metadata": {},
     "output_type": "display_data"
    }
   ],
   "execution_count": 22
  },
  {
   "cell_type": "code",
   "metadata": {
    "ExecuteTime": {
     "end_time": "2024-10-07T13:42:00.900888Z",
     "start_time": "2024-10-07T13:42:00.899437Z"
    }
   },
   "source": [
    "# Model aanmaken\n",
    "\n",
    "knn = KNeighborsClassifier()"
   ],
   "outputs": [],
   "execution_count": 23
  },
  {
   "cell_type": "code",
   "metadata": {
    "ExecuteTime": {
     "end_time": "2024-10-07T13:42:00.945258Z",
     "start_time": "2024-10-07T13:42:00.942558Z"
    }
   },
   "source": [
    "# Dataset splitsen\n",
    "\n",
    "X = df[['x1', 'x2']]\n",
    "y = df['target']"
   ],
   "outputs": [],
   "execution_count": 24
  },
  {
   "cell_type": "code",
   "metadata": {
    "ExecuteTime": {
     "end_time": "2024-10-07T13:42:00.996614Z",
     "start_time": "2024-10-07T13:42:00.992564Z"
    }
   },
   "source": [
    "# Scenario 1 - 100% blauw\n",
    "# In dit scenario worden de 4 dichtsbijzijnde punten gekozen, dat zijn de 4 blauwe punten\n",
    "# Probability is logischerwijs 100% voor blauw\n",
    "# Merk op: in de praktijk moet k altijd oneven zijn, maar voor dit voorbeeld laat ik dat principe ff varen\n",
    "\n",
    "knn.set_params(n_neighbors = 4, weights = 'uniform')\n",
    "knn.fit(X,y)\n",
    "new_item = [1, 1]\n",
    "pred_new_item_proba = knn.predict_proba([new_item])\n",
    "print(pred_new_item_proba)"
   ],
   "outputs": [
    {
     "name": "stdout",
     "output_type": "stream",
     "text": [
      "[[1. 0.]]\n"
     ]
    },
    {
     "name": "stderr",
     "output_type": "stream",
     "text": [
      "/home/max/.miniconda3/envs/CM2024/lib/python3.12/site-packages/sklearn/base.py:493: UserWarning: X does not have valid feature names, but KNeighborsClassifier was fitted with feature names\n",
      "  warnings.warn(\n"
     ]
    }
   ],
   "execution_count": 25
  },
  {
   "cell_type": "code",
   "metadata": {
    "ExecuteTime": {
     "end_time": "2024-10-07T13:42:01.164332Z",
     "start_time": "2024-10-07T13:42:01.160337Z"
    }
   },
   "source": [
    "# Scenario 2 - 50% blauw, 50% rood vanwege uniforme afstand\n",
    "# Nu pakken we k = 8, nu vallen alle punten daarin\n",
    "# Proba is nu 50% voor rood en 50% voor blauw\n",
    "\n",
    "knn.set_params(n_neighbors = 8, weights = 'uniform')\n",
    "knn.fit(X,y)\n",
    "new_item = [1, 1]\n",
    "pred_new_item_proba = knn.predict_proba([new_item])\n",
    "print(pred_new_item_proba)"
   ],
   "outputs": [
    {
     "name": "stdout",
     "output_type": "stream",
     "text": [
      "[[0.5 0.5]]\n"
     ]
    },
    {
     "name": "stderr",
     "output_type": "stream",
     "text": [
      "/home/max/.miniconda3/envs/CM2024/lib/python3.12/site-packages/sklearn/base.py:493: UserWarning: X does not have valid feature names, but KNeighborsClassifier was fitted with feature names\n",
      "  warnings.warn(\n"
     ]
    }
   ],
   "execution_count": 26
  },
  {
   "cell_type": "code",
   "metadata": {
    "ExecuteTime": {
     "end_time": "2024-10-07T13:42:01.214508Z",
     "start_time": "2024-10-07T13:42:01.210527Z"
    }
   },
   "source": [
    "# Scenario 3 - 100% blauw\n",
    "# We passen nu de weights aan naar distance\n",
    "# Voor dit scenario verandert er niks\n",
    "\n",
    "knn.set_params(n_neighbors = 4, weights = 'distance')\n",
    "knn.fit(X,y)\n",
    "new_item = [1, 1]\n",
    "pred_new_item_proba = knn.predict_proba([new_item])\n",
    "print(pred_new_item_proba)"
   ],
   "outputs": [
    {
     "name": "stdout",
     "output_type": "stream",
     "text": [
      "[[1. 0.]]\n"
     ]
    },
    {
     "name": "stderr",
     "output_type": "stream",
     "text": [
      "/home/max/.miniconda3/envs/CM2024/lib/python3.12/site-packages/sklearn/base.py:493: UserWarning: X does not have valid feature names, but KNeighborsClassifier was fitted with feature names\n",
      "  warnings.warn(\n"
     ]
    }
   ],
   "execution_count": 27
  },
  {
   "cell_type": "code",
   "metadata": {
    "ExecuteTime": {
     "end_time": "2024-10-07T13:42:01.263719Z",
     "start_time": "2024-10-07T13:42:01.259936Z"
    }
   },
   "source": [
    "# Scenario 4 - Meer blauw dan rood vanwege afstand\n",
    "# Maar voor dit scenario verandert er nu wel iets\n",
    "# De stand bij 'uniform' was gelijk, maar nu wint blauw van rood omdat de blauwe punten dichterbij liggen\n",
    "\n",
    "knn.set_params(n_neighbors = 8, weights = 'distance')\n",
    "knn.fit(X,y)\n",
    "new_item = [1, 1]\n",
    "pred_new_item_proba = knn.predict_proba([new_item])\n",
    "print(pred_new_item_proba)"
   ],
   "outputs": [
    {
     "name": "stdout",
     "output_type": "stream",
     "text": [
      "[[0.58578644 0.41421356]]\n"
     ]
    },
    {
     "name": "stderr",
     "output_type": "stream",
     "text": [
      "/home/max/.miniconda3/envs/CM2024/lib/python3.12/site-packages/sklearn/base.py:493: UserWarning: X does not have valid feature names, but KNeighborsClassifier was fitted with feature names\n",
      "  warnings.warn(\n"
     ]
    }
   ],
   "execution_count": 28
  }
 ],
 "metadata": {
  "kernelspec": {
   "display_name": "Python 3 (ipykernel)",
   "language": "python",
   "name": "python3"
  },
  "language_info": {
   "codemirror_mode": {
    "name": "ipython",
    "version": 3
   },
   "file_extension": ".py",
   "mimetype": "text/x-python",
   "name": "python",
   "nbconvert_exporter": "python",
   "pygments_lexer": "ipython3",
   "version": "3.8.2"
  }
 },
 "nbformat": 4,
 "nbformat_minor": 4
}
