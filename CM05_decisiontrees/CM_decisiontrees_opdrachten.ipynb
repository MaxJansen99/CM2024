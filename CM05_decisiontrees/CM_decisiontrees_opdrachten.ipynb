{
 "cells": [
  {
   "cell_type": "markdown",
   "metadata": {},
   "source": [
    "# Decision Trees\n",
    "\n",
    "In dit notebook vind je 3 opdrachten.\n",
    "- <a href=\"#dt_opdracht1\"> Opdracht 1 </a> maak je ter voorbereiding van het college.\n",
    "- <a href=\"#dt_opdracht2\"> Opdracht 2 </a> is optioneel, dit gaat je zeker helpen om decision trees beter te begrijpen, maar is voor dit college niet essentieel. (Het helpt je wel bij DEP, waar je zelf een decision tree gaat implementeren.)\n",
    "- <a href=\"#dt_opdracht3\"> Opdracht 3 </a> maken we in het college."
   ]
  },
  {
   "cell_type": "markdown",
   "metadata": {},
   "source": [
    "<a id =\"dt_opdracht1\"></a>\n",
    "## Opdracht 1\n",
    "\n",
    "We gaan aan de slag met data over woningen in New York  en San Francisco. Is op basis van de kenmerken van een woning te bepalen of deze in New York of San Francisco ligt?\n",
    "\n",
    "We zullen eerst een voorbeeld geven - bestudeer deze goed. Daarna moet je zelf een decision tree trainen."
   ]
  },
  {
   "cell_type": "code",
   "metadata": {
    "ExecuteTime": {
     "end_time": "2024-10-01T13:50:08.046866Z",
     "start_time": "2024-10-01T13:50:07.983860Z"
    }
   },
   "source": [
    "from random import random\n",
    "\n",
    "import numpy as np\n",
    "import pandas as pd\n",
    "import matplotlib.pyplot as plt\n",
    "import graphviz\n",
    "\n",
    "from sklearn.tree import DecisionTreeClassifier, export_graphviz\n",
    "from sklearn.model_selection import train_test_split\n",
    "from sklearn.metrics import accuracy_score"
   ],
   "outputs": [],
   "execution_count": 1
  },
  {
   "cell_type": "markdown",
   "metadata": {},
   "source": [
    "Classificeer de huizen in onderstaande data set met een decision tree. In de kolom `in_sf` staat een 1 als het huis in San Fransisco staat en een 0 als het huis in New York staat."
   ]
  },
  {
   "cell_type": "code",
   "metadata": {
    "scrolled": true,
    "ExecuteTime": {
     "end_time": "2024-10-01T13:50:08.068499Z",
     "start_time": "2024-10-01T13:50:08.059388Z"
    }
   },
   "source": [
    "homes = pd.read_csv('decision_trees_homes_ny_sf.csv', sep=\",\")\n",
    "print(f\"{len(homes)} meetwaarden, waarvan {homes.in_sf.sum()} in San Fransisco\")\n",
    "homes.head()"
   ],
   "outputs": [
    {
     "name": "stdout",
     "output_type": "stream",
     "text": [
      "492 meetwaarden, waarvan 268 in San Fransisco\n"
     ]
    },
    {
     "data": {
      "text/plain": [
       "   in_sf  beds  bath    price  year_built  sqft  price_per_sqft  elevation\n",
       "0      0   2.0   1.0   999000        1960  1000             999         10\n",
       "1      0   2.0   2.0  2750000        2006  1418            1939          0\n",
       "2      0   2.0   2.0  1350000        1900  2150             628          9\n",
       "3      0   1.0   1.0   629000        1903   500            1258          9\n",
       "4      0   0.0   1.0   439000        1930   500             878         10"
      ],
      "text/html": [
       "<div>\n",
       "<style scoped>\n",
       "    .dataframe tbody tr th:only-of-type {\n",
       "        vertical-align: middle;\n",
       "    }\n",
       "\n",
       "    .dataframe tbody tr th {\n",
       "        vertical-align: top;\n",
       "    }\n",
       "\n",
       "    .dataframe thead th {\n",
       "        text-align: right;\n",
       "    }\n",
       "</style>\n",
       "<table border=\"1\" class=\"dataframe\">\n",
       "  <thead>\n",
       "    <tr style=\"text-align: right;\">\n",
       "      <th></th>\n",
       "      <th>in_sf</th>\n",
       "      <th>beds</th>\n",
       "      <th>bath</th>\n",
       "      <th>price</th>\n",
       "      <th>year_built</th>\n",
       "      <th>sqft</th>\n",
       "      <th>price_per_sqft</th>\n",
       "      <th>elevation</th>\n",
       "    </tr>\n",
       "  </thead>\n",
       "  <tbody>\n",
       "    <tr>\n",
       "      <th>0</th>\n",
       "      <td>0</td>\n",
       "      <td>2.0</td>\n",
       "      <td>1.0</td>\n",
       "      <td>999000</td>\n",
       "      <td>1960</td>\n",
       "      <td>1000</td>\n",
       "      <td>999</td>\n",
       "      <td>10</td>\n",
       "    </tr>\n",
       "    <tr>\n",
       "      <th>1</th>\n",
       "      <td>0</td>\n",
       "      <td>2.0</td>\n",
       "      <td>2.0</td>\n",
       "      <td>2750000</td>\n",
       "      <td>2006</td>\n",
       "      <td>1418</td>\n",
       "      <td>1939</td>\n",
       "      <td>0</td>\n",
       "    </tr>\n",
       "    <tr>\n",
       "      <th>2</th>\n",
       "      <td>0</td>\n",
       "      <td>2.0</td>\n",
       "      <td>2.0</td>\n",
       "      <td>1350000</td>\n",
       "      <td>1900</td>\n",
       "      <td>2150</td>\n",
       "      <td>628</td>\n",
       "      <td>9</td>\n",
       "    </tr>\n",
       "    <tr>\n",
       "      <th>3</th>\n",
       "      <td>0</td>\n",
       "      <td>1.0</td>\n",
       "      <td>1.0</td>\n",
       "      <td>629000</td>\n",
       "      <td>1903</td>\n",
       "      <td>500</td>\n",
       "      <td>1258</td>\n",
       "      <td>9</td>\n",
       "    </tr>\n",
       "    <tr>\n",
       "      <th>4</th>\n",
       "      <td>0</td>\n",
       "      <td>0.0</td>\n",
       "      <td>1.0</td>\n",
       "      <td>439000</td>\n",
       "      <td>1930</td>\n",
       "      <td>500</td>\n",
       "      <td>878</td>\n",
       "      <td>10</td>\n",
       "    </tr>\n",
       "  </tbody>\n",
       "</table>\n",
       "</div>"
      ]
     },
     "execution_count": 2,
     "metadata": {},
     "output_type": "execute_result"
    }
   ],
   "execution_count": 2
  },
  {
   "cell_type": "markdown",
   "metadata": {},
   "source": [
    "Een voorbeeld van een simpele beslisboom wordt hieronder gegeven."
   ]
  },
  {
   "cell_type": "markdown",
   "metadata": {},
   "source": [
    "1. Kies het modeltype"
   ]
  },
  {
   "cell_type": "code",
   "metadata": {
    "ExecuteTime": {
     "end_time": "2024-10-01T13:50:08.135677Z",
     "start_time": "2024-10-01T13:50:08.134003Z"
    }
   },
   "source": [
    "model = DecisionTreeClassifier()"
   ],
   "outputs": [],
   "execution_count": 3
  },
  {
   "cell_type": "markdown",
   "metadata": {},
   "source": [
    "2. Kies de features en targetvariabele"
   ]
  },
  {
   "cell_type": "code",
   "metadata": {
    "ExecuteTime": {
     "end_time": "2024-10-01T13:50:08.179592Z",
     "start_time": "2024-10-01T13:50:08.177175Z"
    }
   },
   "source": [
    "feat_names = ['beds', 'bath']\n",
    "cat_names = ['San Francisco', 'New York']\n",
    "feats = np.array(homes[feat_names])\n",
    "cat = homes['in_sf']"
   ],
   "outputs": [],
   "execution_count": 4
  },
  {
   "cell_type": "markdown",
   "metadata": {},
   "source": [
    "3. Maak een train- en testset"
   ]
  },
  {
   "cell_type": "code",
   "metadata": {
    "ExecuteTime": {
     "end_time": "2024-10-01T13:50:08.217688Z",
     "start_time": "2024-10-01T13:50:08.213821Z"
    }
   },
   "source": [
    "feats_train, feats_test, cat_train, cat_test = train_test_split(feats, cat, random_state=10)\n",
    "print(\"{} elementen in de trainset en {} elementen in de testset\".format(len(cat_train), len(feats_test)))"
   ],
   "outputs": [
    {
     "name": "stdout",
     "output_type": "stream",
     "text": [
      "369 elementen in de trainset en 123 elementen in de testset\n"
     ]
    }
   ],
   "execution_count": 5
  },
  {
   "cell_type": "markdown",
   "metadata": {},
   "source": [
    "4. Train het model"
   ]
  },
  {
   "cell_type": "code",
   "metadata": {
    "ExecuteTime": {
     "end_time": "2024-10-01T13:50:08.287451Z",
     "start_time": "2024-10-01T13:50:08.282827Z"
    }
   },
   "source": [
    "model.fit(feats_train, cat_train)"
   ],
   "outputs": [
    {
     "data": {
      "text/plain": [
       "DecisionTreeClassifier()"
      ],
      "text/html": [
       "<style>#sk-container-id-1 {\n",
       "  /* Definition of color scheme common for light and dark mode */\n",
       "  --sklearn-color-text: black;\n",
       "  --sklearn-color-line: gray;\n",
       "  /* Definition of color scheme for unfitted estimators */\n",
       "  --sklearn-color-unfitted-level-0: #fff5e6;\n",
       "  --sklearn-color-unfitted-level-1: #f6e4d2;\n",
       "  --sklearn-color-unfitted-level-2: #ffe0b3;\n",
       "  --sklearn-color-unfitted-level-3: chocolate;\n",
       "  /* Definition of color scheme for fitted estimators */\n",
       "  --sklearn-color-fitted-level-0: #f0f8ff;\n",
       "  --sklearn-color-fitted-level-1: #d4ebff;\n",
       "  --sklearn-color-fitted-level-2: #b3dbfd;\n",
       "  --sklearn-color-fitted-level-3: cornflowerblue;\n",
       "\n",
       "  /* Specific color for light theme */\n",
       "  --sklearn-color-text-on-default-background: var(--sg-text-color, var(--theme-code-foreground, var(--jp-content-font-color1, black)));\n",
       "  --sklearn-color-background: var(--sg-background-color, var(--theme-background, var(--jp-layout-color0, white)));\n",
       "  --sklearn-color-border-box: var(--sg-text-color, var(--theme-code-foreground, var(--jp-content-font-color1, black)));\n",
       "  --sklearn-color-icon: #696969;\n",
       "\n",
       "  @media (prefers-color-scheme: dark) {\n",
       "    /* Redefinition of color scheme for dark theme */\n",
       "    --sklearn-color-text-on-default-background: var(--sg-text-color, var(--theme-code-foreground, var(--jp-content-font-color1, white)));\n",
       "    --sklearn-color-background: var(--sg-background-color, var(--theme-background, var(--jp-layout-color0, #111)));\n",
       "    --sklearn-color-border-box: var(--sg-text-color, var(--theme-code-foreground, var(--jp-content-font-color1, white)));\n",
       "    --sklearn-color-icon: #878787;\n",
       "  }\n",
       "}\n",
       "\n",
       "#sk-container-id-1 {\n",
       "  color: var(--sklearn-color-text);\n",
       "}\n",
       "\n",
       "#sk-container-id-1 pre {\n",
       "  padding: 0;\n",
       "}\n",
       "\n",
       "#sk-container-id-1 input.sk-hidden--visually {\n",
       "  border: 0;\n",
       "  clip: rect(1px 1px 1px 1px);\n",
       "  clip: rect(1px, 1px, 1px, 1px);\n",
       "  height: 1px;\n",
       "  margin: -1px;\n",
       "  overflow: hidden;\n",
       "  padding: 0;\n",
       "  position: absolute;\n",
       "  width: 1px;\n",
       "}\n",
       "\n",
       "#sk-container-id-1 div.sk-dashed-wrapped {\n",
       "  border: 1px dashed var(--sklearn-color-line);\n",
       "  margin: 0 0.4em 0.5em 0.4em;\n",
       "  box-sizing: border-box;\n",
       "  padding-bottom: 0.4em;\n",
       "  background-color: var(--sklearn-color-background);\n",
       "}\n",
       "\n",
       "#sk-container-id-1 div.sk-container {\n",
       "  /* jupyter's `normalize.less` sets `[hidden] { display: none; }`\n",
       "     but bootstrap.min.css set `[hidden] { display: none !important; }`\n",
       "     so we also need the `!important` here to be able to override the\n",
       "     default hidden behavior on the sphinx rendered scikit-learn.org.\n",
       "     See: https://github.com/scikit-learn/scikit-learn/issues/21755 */\n",
       "  display: inline-block !important;\n",
       "  position: relative;\n",
       "}\n",
       "\n",
       "#sk-container-id-1 div.sk-text-repr-fallback {\n",
       "  display: none;\n",
       "}\n",
       "\n",
       "div.sk-parallel-item,\n",
       "div.sk-serial,\n",
       "div.sk-item {\n",
       "  /* draw centered vertical line to link estimators */\n",
       "  background-image: linear-gradient(var(--sklearn-color-text-on-default-background), var(--sklearn-color-text-on-default-background));\n",
       "  background-size: 2px 100%;\n",
       "  background-repeat: no-repeat;\n",
       "  background-position: center center;\n",
       "}\n",
       "\n",
       "/* Parallel-specific style estimator block */\n",
       "\n",
       "#sk-container-id-1 div.sk-parallel-item::after {\n",
       "  content: \"\";\n",
       "  width: 100%;\n",
       "  border-bottom: 2px solid var(--sklearn-color-text-on-default-background);\n",
       "  flex-grow: 1;\n",
       "}\n",
       "\n",
       "#sk-container-id-1 div.sk-parallel {\n",
       "  display: flex;\n",
       "  align-items: stretch;\n",
       "  justify-content: center;\n",
       "  background-color: var(--sklearn-color-background);\n",
       "  position: relative;\n",
       "}\n",
       "\n",
       "#sk-container-id-1 div.sk-parallel-item {\n",
       "  display: flex;\n",
       "  flex-direction: column;\n",
       "}\n",
       "\n",
       "#sk-container-id-1 div.sk-parallel-item:first-child::after {\n",
       "  align-self: flex-end;\n",
       "  width: 50%;\n",
       "}\n",
       "\n",
       "#sk-container-id-1 div.sk-parallel-item:last-child::after {\n",
       "  align-self: flex-start;\n",
       "  width: 50%;\n",
       "}\n",
       "\n",
       "#sk-container-id-1 div.sk-parallel-item:only-child::after {\n",
       "  width: 0;\n",
       "}\n",
       "\n",
       "/* Serial-specific style estimator block */\n",
       "\n",
       "#sk-container-id-1 div.sk-serial {\n",
       "  display: flex;\n",
       "  flex-direction: column;\n",
       "  align-items: center;\n",
       "  background-color: var(--sklearn-color-background);\n",
       "  padding-right: 1em;\n",
       "  padding-left: 1em;\n",
       "}\n",
       "\n",
       "\n",
       "/* Toggleable style: style used for estimator/Pipeline/ColumnTransformer box that is\n",
       "clickable and can be expanded/collapsed.\n",
       "- Pipeline and ColumnTransformer use this feature and define the default style\n",
       "- Estimators will overwrite some part of the style using the `sk-estimator` class\n",
       "*/\n",
       "\n",
       "/* Pipeline and ColumnTransformer style (default) */\n",
       "\n",
       "#sk-container-id-1 div.sk-toggleable {\n",
       "  /* Default theme specific background. It is overwritten whether we have a\n",
       "  specific estimator or a Pipeline/ColumnTransformer */\n",
       "  background-color: var(--sklearn-color-background);\n",
       "}\n",
       "\n",
       "/* Toggleable label */\n",
       "#sk-container-id-1 label.sk-toggleable__label {\n",
       "  cursor: pointer;\n",
       "  display: block;\n",
       "  width: 100%;\n",
       "  margin-bottom: 0;\n",
       "  padding: 0.5em;\n",
       "  box-sizing: border-box;\n",
       "  text-align: center;\n",
       "}\n",
       "\n",
       "#sk-container-id-1 label.sk-toggleable__label-arrow:before {\n",
       "  /* Arrow on the left of the label */\n",
       "  content: \"▸\";\n",
       "  float: left;\n",
       "  margin-right: 0.25em;\n",
       "  color: var(--sklearn-color-icon);\n",
       "}\n",
       "\n",
       "#sk-container-id-1 label.sk-toggleable__label-arrow:hover:before {\n",
       "  color: var(--sklearn-color-text);\n",
       "}\n",
       "\n",
       "/* Toggleable content - dropdown */\n",
       "\n",
       "#sk-container-id-1 div.sk-toggleable__content {\n",
       "  max-height: 0;\n",
       "  max-width: 0;\n",
       "  overflow: hidden;\n",
       "  text-align: left;\n",
       "  /* unfitted */\n",
       "  background-color: var(--sklearn-color-unfitted-level-0);\n",
       "}\n",
       "\n",
       "#sk-container-id-1 div.sk-toggleable__content.fitted {\n",
       "  /* fitted */\n",
       "  background-color: var(--sklearn-color-fitted-level-0);\n",
       "}\n",
       "\n",
       "#sk-container-id-1 div.sk-toggleable__content pre {\n",
       "  margin: 0.2em;\n",
       "  border-radius: 0.25em;\n",
       "  color: var(--sklearn-color-text);\n",
       "  /* unfitted */\n",
       "  background-color: var(--sklearn-color-unfitted-level-0);\n",
       "}\n",
       "\n",
       "#sk-container-id-1 div.sk-toggleable__content.fitted pre {\n",
       "  /* unfitted */\n",
       "  background-color: var(--sklearn-color-fitted-level-0);\n",
       "}\n",
       "\n",
       "#sk-container-id-1 input.sk-toggleable__control:checked~div.sk-toggleable__content {\n",
       "  /* Expand drop-down */\n",
       "  max-height: 200px;\n",
       "  max-width: 100%;\n",
       "  overflow: auto;\n",
       "}\n",
       "\n",
       "#sk-container-id-1 input.sk-toggleable__control:checked~label.sk-toggleable__label-arrow:before {\n",
       "  content: \"▾\";\n",
       "}\n",
       "\n",
       "/* Pipeline/ColumnTransformer-specific style */\n",
       "\n",
       "#sk-container-id-1 div.sk-label input.sk-toggleable__control:checked~label.sk-toggleable__label {\n",
       "  color: var(--sklearn-color-text);\n",
       "  background-color: var(--sklearn-color-unfitted-level-2);\n",
       "}\n",
       "\n",
       "#sk-container-id-1 div.sk-label.fitted input.sk-toggleable__control:checked~label.sk-toggleable__label {\n",
       "  background-color: var(--sklearn-color-fitted-level-2);\n",
       "}\n",
       "\n",
       "/* Estimator-specific style */\n",
       "\n",
       "/* Colorize estimator box */\n",
       "#sk-container-id-1 div.sk-estimator input.sk-toggleable__control:checked~label.sk-toggleable__label {\n",
       "  /* unfitted */\n",
       "  background-color: var(--sklearn-color-unfitted-level-2);\n",
       "}\n",
       "\n",
       "#sk-container-id-1 div.sk-estimator.fitted input.sk-toggleable__control:checked~label.sk-toggleable__label {\n",
       "  /* fitted */\n",
       "  background-color: var(--sklearn-color-fitted-level-2);\n",
       "}\n",
       "\n",
       "#sk-container-id-1 div.sk-label label.sk-toggleable__label,\n",
       "#sk-container-id-1 div.sk-label label {\n",
       "  /* The background is the default theme color */\n",
       "  color: var(--sklearn-color-text-on-default-background);\n",
       "}\n",
       "\n",
       "/* On hover, darken the color of the background */\n",
       "#sk-container-id-1 div.sk-label:hover label.sk-toggleable__label {\n",
       "  color: var(--sklearn-color-text);\n",
       "  background-color: var(--sklearn-color-unfitted-level-2);\n",
       "}\n",
       "\n",
       "/* Label box, darken color on hover, fitted */\n",
       "#sk-container-id-1 div.sk-label.fitted:hover label.sk-toggleable__label.fitted {\n",
       "  color: var(--sklearn-color-text);\n",
       "  background-color: var(--sklearn-color-fitted-level-2);\n",
       "}\n",
       "\n",
       "/* Estimator label */\n",
       "\n",
       "#sk-container-id-1 div.sk-label label {\n",
       "  font-family: monospace;\n",
       "  font-weight: bold;\n",
       "  display: inline-block;\n",
       "  line-height: 1.2em;\n",
       "}\n",
       "\n",
       "#sk-container-id-1 div.sk-label-container {\n",
       "  text-align: center;\n",
       "}\n",
       "\n",
       "/* Estimator-specific */\n",
       "#sk-container-id-1 div.sk-estimator {\n",
       "  font-family: monospace;\n",
       "  border: 1px dotted var(--sklearn-color-border-box);\n",
       "  border-radius: 0.25em;\n",
       "  box-sizing: border-box;\n",
       "  margin-bottom: 0.5em;\n",
       "  /* unfitted */\n",
       "  background-color: var(--sklearn-color-unfitted-level-0);\n",
       "}\n",
       "\n",
       "#sk-container-id-1 div.sk-estimator.fitted {\n",
       "  /* fitted */\n",
       "  background-color: var(--sklearn-color-fitted-level-0);\n",
       "}\n",
       "\n",
       "/* on hover */\n",
       "#sk-container-id-1 div.sk-estimator:hover {\n",
       "  /* unfitted */\n",
       "  background-color: var(--sklearn-color-unfitted-level-2);\n",
       "}\n",
       "\n",
       "#sk-container-id-1 div.sk-estimator.fitted:hover {\n",
       "  /* fitted */\n",
       "  background-color: var(--sklearn-color-fitted-level-2);\n",
       "}\n",
       "\n",
       "/* Specification for estimator info (e.g. \"i\" and \"?\") */\n",
       "\n",
       "/* Common style for \"i\" and \"?\" */\n",
       "\n",
       ".sk-estimator-doc-link,\n",
       "a:link.sk-estimator-doc-link,\n",
       "a:visited.sk-estimator-doc-link {\n",
       "  float: right;\n",
       "  font-size: smaller;\n",
       "  line-height: 1em;\n",
       "  font-family: monospace;\n",
       "  background-color: var(--sklearn-color-background);\n",
       "  border-radius: 1em;\n",
       "  height: 1em;\n",
       "  width: 1em;\n",
       "  text-decoration: none !important;\n",
       "  margin-left: 1ex;\n",
       "  /* unfitted */\n",
       "  border: var(--sklearn-color-unfitted-level-1) 1pt solid;\n",
       "  color: var(--sklearn-color-unfitted-level-1);\n",
       "}\n",
       "\n",
       ".sk-estimator-doc-link.fitted,\n",
       "a:link.sk-estimator-doc-link.fitted,\n",
       "a:visited.sk-estimator-doc-link.fitted {\n",
       "  /* fitted */\n",
       "  border: var(--sklearn-color-fitted-level-1) 1pt solid;\n",
       "  color: var(--sklearn-color-fitted-level-1);\n",
       "}\n",
       "\n",
       "/* On hover */\n",
       "div.sk-estimator:hover .sk-estimator-doc-link:hover,\n",
       ".sk-estimator-doc-link:hover,\n",
       "div.sk-label-container:hover .sk-estimator-doc-link:hover,\n",
       ".sk-estimator-doc-link:hover {\n",
       "  /* unfitted */\n",
       "  background-color: var(--sklearn-color-unfitted-level-3);\n",
       "  color: var(--sklearn-color-background);\n",
       "  text-decoration: none;\n",
       "}\n",
       "\n",
       "div.sk-estimator.fitted:hover .sk-estimator-doc-link.fitted:hover,\n",
       ".sk-estimator-doc-link.fitted:hover,\n",
       "div.sk-label-container:hover .sk-estimator-doc-link.fitted:hover,\n",
       ".sk-estimator-doc-link.fitted:hover {\n",
       "  /* fitted */\n",
       "  background-color: var(--sklearn-color-fitted-level-3);\n",
       "  color: var(--sklearn-color-background);\n",
       "  text-decoration: none;\n",
       "}\n",
       "\n",
       "/* Span, style for the box shown on hovering the info icon */\n",
       ".sk-estimator-doc-link span {\n",
       "  display: none;\n",
       "  z-index: 9999;\n",
       "  position: relative;\n",
       "  font-weight: normal;\n",
       "  right: .2ex;\n",
       "  padding: .5ex;\n",
       "  margin: .5ex;\n",
       "  width: min-content;\n",
       "  min-width: 20ex;\n",
       "  max-width: 50ex;\n",
       "  color: var(--sklearn-color-text);\n",
       "  box-shadow: 2pt 2pt 4pt #999;\n",
       "  /* unfitted */\n",
       "  background: var(--sklearn-color-unfitted-level-0);\n",
       "  border: .5pt solid var(--sklearn-color-unfitted-level-3);\n",
       "}\n",
       "\n",
       ".sk-estimator-doc-link.fitted span {\n",
       "  /* fitted */\n",
       "  background: var(--sklearn-color-fitted-level-0);\n",
       "  border: var(--sklearn-color-fitted-level-3);\n",
       "}\n",
       "\n",
       ".sk-estimator-doc-link:hover span {\n",
       "  display: block;\n",
       "}\n",
       "\n",
       "/* \"?\"-specific style due to the `<a>` HTML tag */\n",
       "\n",
       "#sk-container-id-1 a.estimator_doc_link {\n",
       "  float: right;\n",
       "  font-size: 1rem;\n",
       "  line-height: 1em;\n",
       "  font-family: monospace;\n",
       "  background-color: var(--sklearn-color-background);\n",
       "  border-radius: 1rem;\n",
       "  height: 1rem;\n",
       "  width: 1rem;\n",
       "  text-decoration: none;\n",
       "  /* unfitted */\n",
       "  color: var(--sklearn-color-unfitted-level-1);\n",
       "  border: var(--sklearn-color-unfitted-level-1) 1pt solid;\n",
       "}\n",
       "\n",
       "#sk-container-id-1 a.estimator_doc_link.fitted {\n",
       "  /* fitted */\n",
       "  border: var(--sklearn-color-fitted-level-1) 1pt solid;\n",
       "  color: var(--sklearn-color-fitted-level-1);\n",
       "}\n",
       "\n",
       "/* On hover */\n",
       "#sk-container-id-1 a.estimator_doc_link:hover {\n",
       "  /* unfitted */\n",
       "  background-color: var(--sklearn-color-unfitted-level-3);\n",
       "  color: var(--sklearn-color-background);\n",
       "  text-decoration: none;\n",
       "}\n",
       "\n",
       "#sk-container-id-1 a.estimator_doc_link.fitted:hover {\n",
       "  /* fitted */\n",
       "  background-color: var(--sklearn-color-fitted-level-3);\n",
       "}\n",
       "</style><div id=\"sk-container-id-1\" class=\"sk-top-container\"><div class=\"sk-text-repr-fallback\"><pre>DecisionTreeClassifier()</pre><b>In a Jupyter environment, please rerun this cell to show the HTML representation or trust the notebook. <br />On GitHub, the HTML representation is unable to render, please try loading this page with nbviewer.org.</b></div><div class=\"sk-container\" hidden><div class=\"sk-item\"><div class=\"sk-estimator fitted sk-toggleable\"><input class=\"sk-toggleable__control sk-hidden--visually\" id=\"sk-estimator-id-1\" type=\"checkbox\" checked><label for=\"sk-estimator-id-1\" class=\"sk-toggleable__label fitted sk-toggleable__label-arrow fitted\">&nbsp;&nbsp;DecisionTreeClassifier<a class=\"sk-estimator-doc-link fitted\" rel=\"noreferrer\" target=\"_blank\" href=\"https://scikit-learn.org/1.5/modules/generated/sklearn.tree.DecisionTreeClassifier.html\">?<span>Documentation for DecisionTreeClassifier</span></a><span class=\"sk-estimator-doc-link fitted\">i<span>Fitted</span></span></label><div class=\"sk-toggleable__content fitted\"><pre>DecisionTreeClassifier()</pre></div> </div></div></div></div>"
      ]
     },
     "execution_count": 6,
     "metadata": {},
     "output_type": "execute_result"
    }
   ],
   "execution_count": 6
  },
  {
   "cell_type": "markdown",
   "metadata": {},
   "source": [
    "5. Evalueer de resultaten"
   ]
  },
  {
   "cell_type": "code",
   "metadata": {
    "ExecuteTime": {
     "end_time": "2024-10-01T13:50:08.360516Z",
     "start_time": "2024-10-01T13:50:08.356149Z"
    }
   },
   "source": [
    "# M.b.v. de score wordt de accuracy berekend: het percentage voorspellingen dat correct\n",
    "model.score(feats_test, cat_test)"
   ],
   "outputs": [
    {
     "data": {
      "text/plain": [
       "0.7642276422764228"
      ]
     },
     "execution_count": 7,
     "metadata": {},
     "output_type": "execute_result"
    }
   ],
   "execution_count": 7
  },
  {
   "cell_type": "code",
   "metadata": {
    "ExecuteTime": {
     "end_time": "2024-10-01T13:50:08.430193Z",
     "start_time": "2024-10-01T13:50:08.427429Z"
    }
   },
   "source": [
    "# Alternatieve manier om de voorspellende waarde te berekenen is door het model de klasse te voorspellen voor\n",
    "# de testset van de features en deze te vergelijken met de testset van de klassen.\n",
    "cat_model = model.predict(feats_test)\n",
    "accuracy_score(cat_test, cat_model)"
   ],
   "outputs": [
    {
     "data": {
      "text/plain": [
       "0.7642276422764228"
      ]
     },
     "execution_count": 8,
     "metadata": {},
     "output_type": "execute_result"
    }
   ],
   "execution_count": 8
  },
  {
   "cell_type": "code",
   "metadata": {
    "ExecuteTime": {
     "end_time": "2024-10-01T13:50:08.619645Z",
     "start_time": "2024-10-01T13:50:08.484058Z"
    }
   },
   "source": [
    "# Het is ook interessant om te kijken welke voorspellingen goed gaan en welke niet gaan. \n",
    "# Je ziet dat vooral de NY-huizen niet goed voorspeld worden. Dus het is zaak om onderscheidende features toe te voegen.\n",
    "\n",
    "import seaborn as sns \n",
    "from sklearn.metrics import accuracy_score, confusion_matrix\n",
    "cm = confusion_matrix(cat_test, cat_model)\n",
    "\n",
    "# Maak van de array een pandas dataframe om te visualiseren\n",
    "df_cm = pd.DataFrame(cm)\n",
    "\n",
    "fig, ax = plt.subplots(figsize=(6, 5), dpi=100)\n",
    "\n",
    "ax = sns.heatmap(df_cm, annot=True, cmap='OrRd')\n",
    "bottom, top = ax.get_ylim()\n",
    "ax.set_ylim(bottom + 0.5, top - 0.5)\n",
    "\n",
    "ax.set_xlabel('voorspelde waarde')\n",
    "ax.set_ylabel('echte waarde')\n",
    "\n",
    "plt.show()"
   ],
   "outputs": [
    {
     "data": {
      "text/plain": [
       "<Figure size 600x500 with 2 Axes>"
      ],
      "image/png": "[encoded data removed]"
     },
     "metadata": {},
     "output_type": "display_data"
    }
   ],
   "execution_count": 9
  },
  {
   "cell_type": "markdown",
   "metadata": {},
   "source": [
    "Visualisatie van de decision tree met GraphViz."
   ]
  },
  {
   "cell_type": "code",
   "metadata": {
    "ExecuteTime": {
     "end_time": "2024-10-01T13:50:08.686153Z",
     "start_time": "2024-10-01T13:50:08.632783Z"
    }
   },
   "source": [
    "data = export_graphviz(model, out_file=None, feature_names=feat_names, class_names=cat_names,   \n",
    "                         filled=True, rounded=True, special_characters=True)\n",
    "\n",
    "graph = graphviz.Source(data)\n",
    "graph"
   ],
   "outputs": [
    {
     "data": {
      "image/svg+xml": "<?xml version=\"1.0\" encoding=\"UTF-8\" standalone=\"no\"?>\n<!DOCTYPE svg PUBLIC \"-//W3C//DTD SVG 1.1//EN\"\n \"http://www.w3.org/Graphics/SVG/1.1/DTD/svg11.dtd\">\n<!-- Generated by graphviz version 2.50.0 (0)\n -->\n<!-- Title: Tree Pages: 1 -->\n<svg width=\"2173pt\" height=\"1028pt\"\n viewBox=\"0.00 0.00 2173.00 1028.00\" xmlns=\"http://www.w3.org/2000/svg\" xmlns:xlink=\"http://www.w3.org/1999/xlink\">\n<g id=\"graph0\" class=\"graph\" transform=\"scale(1 1) rotate(0) translate(4 1024)\">\n<title>Tree</title>\n<polygon fill=\"white\" stroke=\"transparent\" points=\"-4,4 -4,-1024 2169,-1024 2169,4 -4,4\"/>\n<!-- 0 -->\n<g id=\"node1\" class=\"node\">\n<title>0</title>\n<path fill=\"#ddeefa\" stroke=\"black\" d=\"M975,-1020C975,-1020 850,-1020 850,-1020 844,-1020 838,-1014 838,-1008 838,-1008 838,-949 838,-949 838,-943 844,-937 850,-937 850,-937 975,-937 975,-937 981,-937 987,-943 987,-949 987,-949 987,-1008 987,-1008 987,-1014 981,-1020 975,-1020\"/>\n<text text-anchor=\"start\" x=\"873.5\" y=\"-1004.8\" font-family=\"Helvetica,sans-Serif\" font-size=\"14.00\">beds ≤ 2.5</text>\n<text text-anchor=\"start\" x=\"868.5\" y=\"-989.8\" font-family=\"Helvetica,sans-Serif\" font-size=\"14.00\">gini = 0.496</text>\n<text text-anchor=\"start\" x=\"859.5\" y=\"-974.8\" font-family=\"Helvetica,sans-Serif\" font-size=\"14.00\">samples = 369</text>\n<text text-anchor=\"start\" x=\"846\" y=\"-959.8\" font-family=\"Helvetica,sans-Serif\" font-size=\"14.00\">value = [167, 202]</text>\n<text text-anchor=\"start\" x=\"852.5\" y=\"-944.8\" font-family=\"Helvetica,sans-Serif\" font-size=\"14.00\">class = New York</text>\n</g>\n<!-- 1 -->\n<g id=\"node2\" class=\"node\">\n<title>1</title>\n<path fill=\"#f8ddca\" stroke=\"black\" d=\"M718,-901C718,-901 575,-901 575,-901 569,-901 563,-895 563,-889 563,-889 563,-830 563,-830 563,-824 569,-818 575,-818 575,-818 718,-818 718,-818 724,-818 730,-824 730,-830 730,-830 730,-889 730,-889 730,-895 724,-901 718,-901\"/>\n<text text-anchor=\"start\" x=\"603\" y=\"-885.8\" font-family=\"Helvetica,sans-Serif\" font-size=\"14.00\">beds ≤ 0.75</text>\n<text text-anchor=\"start\" x=\"602.5\" y=\"-870.8\" font-family=\"Helvetica,sans-Serif\" font-size=\"14.00\">gini = 0.488</text>\n<text text-anchor=\"start\" x=\"593.5\" y=\"-855.8\" font-family=\"Helvetica,sans-Serif\" font-size=\"14.00\">samples = 246</text>\n<text text-anchor=\"start\" x=\"580\" y=\"-840.8\" font-family=\"Helvetica,sans-Serif\" font-size=\"14.00\">value = [142, 104]</text>\n<text text-anchor=\"start\" x=\"571\" y=\"-825.8\" font-family=\"Helvetica,sans-Serif\" font-size=\"14.00\">class = San Francisco</text>\n</g>\n<!-- 0&#45;&gt;1 -->\n<g id=\"edge1\" class=\"edge\">\n<title>0&#45;&gt;1</title>\n<path fill=\"none\" stroke=\"black\" d=\"M837.7,-944.6C807.21,-931.19 771.64,-915.54 739.5,-901.41\"/>\n<polygon fill=\"black\" stroke=\"black\" points=\"740.65,-898.09 730.09,-897.27 737.84,-904.5 740.65,-898.09\"/>\n<text text-anchor=\"middle\" x=\"739.15\" y=\"-916.87\" font-family=\"Helvetica,sans-Serif\" font-size=\"14.00\">True</text>\n</g>\n<!-- 22 -->\n<g id=\"node23\" class=\"node\">\n<title>22</title>\n<path fill=\"#6cb6ec\" stroke=\"black\" d=\"M1257.5,-901C1257.5,-901 1145.5,-901 1145.5,-901 1139.5,-901 1133.5,-895 1133.5,-889 1133.5,-889 1133.5,-830 1133.5,-830 1133.5,-824 1139.5,-818 1145.5,-818 1145.5,-818 1257.5,-818 1257.5,-818 1263.5,-818 1269.5,-824 1269.5,-830 1269.5,-830 1269.5,-889 1269.5,-889 1269.5,-895 1263.5,-901 1257.5,-901\"/>\n<text text-anchor=\"start\" x=\"1159\" y=\"-885.8\" font-family=\"Helvetica,sans-Serif\" font-size=\"14.00\">bath ≤ 2.75</text>\n<text text-anchor=\"start\" x=\"1157.5\" y=\"-870.8\" font-family=\"Helvetica,sans-Serif\" font-size=\"14.00\">gini = 0.324</text>\n<text text-anchor=\"start\" x=\"1148.5\" y=\"-855.8\" font-family=\"Helvetica,sans-Serif\" font-size=\"14.00\">samples = 123</text>\n<text text-anchor=\"start\" x=\"1144\" y=\"-840.8\" font-family=\"Helvetica,sans-Serif\" font-size=\"14.00\">value = [25, 98]</text>\n<text text-anchor=\"start\" x=\"1141.5\" y=\"-825.8\" font-family=\"Helvetica,sans-Serif\" font-size=\"14.00\">class = New York</text>\n</g>\n<!-- 0&#45;&gt;22 -->\n<g id=\"edge22\" class=\"edge\">\n<title>0&#45;&gt;22</title>\n<path fill=\"none\" stroke=\"black\" d=\"M987.3,-947.22C1029.28,-930.22 1081.58,-909.05 1124,-891.88\"/>\n<polygon fill=\"black\" stroke=\"black\" points=\"1125.49,-895.05 1133.44,-888.05 1122.86,-888.56 1125.49,-895.05\"/>\n<text text-anchor=\"middle\" x=\"1123.69\" y=\"-907.37\" font-family=\"Helvetica,sans-Serif\" font-size=\"14.00\">False</text>\n</g>\n<!-- 2 -->\n<g id=\"node3\" class=\"node\">\n<title>2</title>\n<path fill=\"#e99355\" stroke=\"black\" d=\"M441,-782C441,-782 298,-782 298,-782 292,-782 286,-776 286,-770 286,-770 286,-711 286,-711 286,-705 292,-699 298,-699 298,-699 441,-699 441,-699 447,-699 453,-705 453,-711 453,-711 453,-770 453,-770 453,-776 447,-782 441,-782\"/>\n<text text-anchor=\"start\" x=\"326\" y=\"-766.8\" font-family=\"Helvetica,sans-Serif\" font-size=\"14.00\">beds ≤ 0.25</text>\n<text text-anchor=\"start\" x=\"325.5\" y=\"-751.8\" font-family=\"Helvetica,sans-Serif\" font-size=\"14.00\">gini = 0.219</text>\n<text text-anchor=\"start\" x=\"321\" y=\"-736.8\" font-family=\"Helvetica,sans-Serif\" font-size=\"14.00\">samples = 24</text>\n<text text-anchor=\"start\" x=\"316.5\" y=\"-721.8\" font-family=\"Helvetica,sans-Serif\" font-size=\"14.00\">value = [21, 3]</text>\n<text text-anchor=\"start\" x=\"294\" y=\"-706.8\" font-family=\"Helvetica,sans-Serif\" font-size=\"14.00\">class = San Francisco</text>\n</g>\n<!-- 1&#45;&gt;2 -->\n<g id=\"edge2\" class=\"edge\">\n<title>1&#45;&gt;2</title>\n<path fill=\"none\" stroke=\"black\" d=\"M562.64,-823.08C531.04,-809.73 494.93,-794.48 462.55,-780.8\"/>\n<polygon fill=\"black\" stroke=\"black\" points=\"463.65,-777.47 453.08,-776.8 460.93,-783.92 463.65,-777.47\"/>\n</g>\n<!-- 5 -->\n<g id=\"node6\" class=\"node\">\n<title>5</title>\n<path fill=\"#fbeade\" stroke=\"black\" d=\"M718,-782C718,-782 575,-782 575,-782 569,-782 563,-776 563,-770 563,-770 563,-711 563,-711 563,-705 569,-699 575,-699 575,-699 718,-699 718,-699 724,-699 730,-705 730,-711 730,-711 730,-770 730,-770 730,-776 724,-782 718,-782\"/>\n<text text-anchor=\"start\" x=\"604\" y=\"-766.8\" font-family=\"Helvetica,sans-Serif\" font-size=\"14.00\">bath ≤ 1.75</text>\n<text text-anchor=\"start\" x=\"602.5\" y=\"-751.8\" font-family=\"Helvetica,sans-Serif\" font-size=\"14.00\">gini = 0.496</text>\n<text text-anchor=\"start\" x=\"593.5\" y=\"-736.8\" font-family=\"Helvetica,sans-Serif\" font-size=\"14.00\">samples = 222</text>\n<text text-anchor=\"start\" x=\"580\" y=\"-721.8\" font-family=\"Helvetica,sans-Serif\" font-size=\"14.00\">value = [121, 101]</text>\n<text text-anchor=\"start\" x=\"571\" y=\"-706.8\" font-family=\"Helvetica,sans-Serif\" font-size=\"14.00\">class = San Francisco</text>\n</g>\n<!-- 1&#45;&gt;5 -->\n<g id=\"edge5\" class=\"edge\">\n<title>1&#45;&gt;5</title>\n<path fill=\"none\" stroke=\"black\" d=\"M646.5,-817.91C646.5,-809.65 646.5,-800.86 646.5,-792.3\"/>\n<polygon fill=\"black\" stroke=\"black\" points=\"650,-792.02 646.5,-782.02 643,-792.02 650,-792.02\"/>\n</g>\n<!-- 3 -->\n<g id=\"node4\" class=\"node\">\n<title>3</title>\n<path fill=\"#e99457\" stroke=\"black\" d=\"M256,-655.5C256,-655.5 113,-655.5 113,-655.5 107,-655.5 101,-649.5 101,-643.5 101,-643.5 101,-599.5 101,-599.5 101,-593.5 107,-587.5 113,-587.5 113,-587.5 256,-587.5 256,-587.5 262,-587.5 268,-593.5 268,-599.5 268,-599.5 268,-643.5 268,-643.5 268,-649.5 262,-655.5 256,-655.5\"/>\n<text text-anchor=\"start\" x=\"140.5\" y=\"-640.3\" font-family=\"Helvetica,sans-Serif\" font-size=\"14.00\">gini = 0.227</text>\n<text text-anchor=\"start\" x=\"136\" y=\"-625.3\" font-family=\"Helvetica,sans-Serif\" font-size=\"14.00\">samples = 23</text>\n<text text-anchor=\"start\" x=\"131.5\" y=\"-610.3\" font-family=\"Helvetica,sans-Serif\" font-size=\"14.00\">value = [20, 3]</text>\n<text text-anchor=\"start\" x=\"109\" y=\"-595.3\" font-family=\"Helvetica,sans-Serif\" font-size=\"14.00\">class = San Francisco</text>\n</g>\n<!-- 2&#45;&gt;3 -->\n<g id=\"edge3\" class=\"edge\">\n<title>2&#45;&gt;3</title>\n<path fill=\"none\" stroke=\"black\" d=\"M305.32,-698.91C285.95,-686.66 264.75,-673.25 245.59,-661.13\"/>\n<polygon fill=\"black\" stroke=\"black\" points=\"247.27,-658.05 236.94,-655.67 243.52,-663.97 247.27,-658.05\"/>\n</g>\n<!-- 4 -->\n<g id=\"node5\" class=\"node\">\n<title>4</title>\n<path fill=\"#e58139\" stroke=\"black\" d=\"M441,-655.5C441,-655.5 298,-655.5 298,-655.5 292,-655.5 286,-649.5 286,-643.5 286,-643.5 286,-599.5 286,-599.5 286,-593.5 292,-587.5 298,-587.5 298,-587.5 441,-587.5 441,-587.5 447,-587.5 453,-593.5 453,-599.5 453,-599.5 453,-643.5 453,-643.5 453,-649.5 447,-655.5 441,-655.5\"/>\n<text text-anchor=\"start\" x=\"334.5\" y=\"-640.3\" font-family=\"Helvetica,sans-Serif\" font-size=\"14.00\">gini = 0.0</text>\n<text text-anchor=\"start\" x=\"325.5\" y=\"-625.3\" font-family=\"Helvetica,sans-Serif\" font-size=\"14.00\">samples = 1</text>\n<text text-anchor=\"start\" x=\"321\" y=\"-610.3\" font-family=\"Helvetica,sans-Serif\" font-size=\"14.00\">value = [1, 0]</text>\n<text text-anchor=\"start\" x=\"294\" y=\"-595.3\" font-family=\"Helvetica,sans-Serif\" font-size=\"14.00\">class = San Francisco</text>\n</g>\n<!-- 2&#45;&gt;4 -->\n<g id=\"edge4\" class=\"edge\">\n<title>2&#45;&gt;4</title>\n<path fill=\"none\" stroke=\"black\" d=\"M369.5,-698.91C369.5,-688.2 369.5,-676.62 369.5,-665.78\"/>\n<polygon fill=\"black\" stroke=\"black\" points=\"373,-665.67 369.5,-655.67 366,-665.67 373,-665.67\"/>\n</g>\n<!-- 6 -->\n<g id=\"node7\" class=\"node\">\n<title>6</title>\n<path fill=\"#ffffff\" stroke=\"black\" d=\"M626,-663C626,-663 483,-663 483,-663 477,-663 471,-657 471,-651 471,-651 471,-592 471,-592 471,-586 477,-580 483,-580 483,-580 626,-580 626,-580 632,-580 638,-586 638,-592 638,-592 638,-651 638,-651 638,-657 632,-663 626,-663\"/>\n<text text-anchor=\"start\" x=\"515.5\" y=\"-647.8\" font-family=\"Helvetica,sans-Serif\" font-size=\"14.00\">beds ≤ 1.5</text>\n<text text-anchor=\"start\" x=\"519.5\" y=\"-632.8\" font-family=\"Helvetica,sans-Serif\" font-size=\"14.00\">gini = 0.5</text>\n<text text-anchor=\"start\" x=\"501.5\" y=\"-617.8\" font-family=\"Helvetica,sans-Serif\" font-size=\"14.00\">samples = 130</text>\n<text text-anchor=\"start\" x=\"497\" y=\"-602.8\" font-family=\"Helvetica,sans-Serif\" font-size=\"14.00\">value = [65, 65]</text>\n<text text-anchor=\"start\" x=\"479\" y=\"-587.8\" font-family=\"Helvetica,sans-Serif\" font-size=\"14.00\">class = San Francisco</text>\n</g>\n<!-- 5&#45;&gt;6 -->\n<g id=\"edge6\" class=\"edge\">\n<title>5&#45;&gt;6</title>\n<path fill=\"none\" stroke=\"black\" d=\"M614.58,-698.91C607.52,-689.92 599.96,-680.32 592.68,-671.05\"/>\n<polygon fill=\"black\" stroke=\"black\" points=\"595.3,-668.72 586.36,-663.02 589.79,-673.05 595.3,-668.72\"/>\n</g>\n<!-- 15 -->\n<g id=\"node16\" class=\"node\">\n<title>15</title>\n<path fill=\"#f6d2b8\" stroke=\"black\" d=\"M811,-663C811,-663 668,-663 668,-663 662,-663 656,-657 656,-651 656,-651 656,-592 656,-592 656,-586 662,-580 668,-580 668,-580 811,-580 811,-580 817,-580 823,-586 823,-592 823,-592 823,-651 823,-651 823,-657 817,-663 811,-663\"/>\n<text text-anchor=\"start\" x=\"697\" y=\"-647.8\" font-family=\"Helvetica,sans-Serif\" font-size=\"14.00\">bath ≤ 2.75</text>\n<text text-anchor=\"start\" x=\"695.5\" y=\"-632.8\" font-family=\"Helvetica,sans-Serif\" font-size=\"14.00\">gini = 0.476</text>\n<text text-anchor=\"start\" x=\"691\" y=\"-617.8\" font-family=\"Helvetica,sans-Serif\" font-size=\"14.00\">samples = 92</text>\n<text text-anchor=\"start\" x=\"682\" y=\"-602.8\" font-family=\"Helvetica,sans-Serif\" font-size=\"14.00\">value = [56, 36]</text>\n<text text-anchor=\"start\" x=\"664\" y=\"-587.8\" font-family=\"Helvetica,sans-Serif\" font-size=\"14.00\">class = San Francisco</text>\n</g>\n<!-- 5&#45;&gt;15 -->\n<g id=\"edge15\" class=\"edge\">\n<title>5&#45;&gt;15</title>\n<path fill=\"none\" stroke=\"black\" d=\"M678.77,-698.91C685.91,-689.92 693.54,-680.32 700.91,-671.05\"/>\n<polygon fill=\"black\" stroke=\"black\" points=\"703.81,-673.03 707.29,-663.02 698.33,-668.67 703.81,-673.03\"/>\n</g>\n<!-- 7 -->\n<g id=\"node8\" class=\"node\">\n<title>7</title>\n<path fill=\"#f9e2d2\" stroke=\"black\" d=\"M325,-544C325,-544 182,-544 182,-544 176,-544 170,-538 170,-532 170,-532 170,-473 170,-473 170,-467 176,-461 182,-461 182,-461 325,-461 325,-461 331,-461 337,-467 337,-473 337,-473 337,-532 337,-532 337,-538 331,-544 325,-544\"/>\n<text text-anchor=\"start\" x=\"211\" y=\"-528.8\" font-family=\"Helvetica,sans-Serif\" font-size=\"14.00\">bath ≤ 1.25</text>\n<text text-anchor=\"start\" x=\"209.5\" y=\"-513.8\" font-family=\"Helvetica,sans-Serif\" font-size=\"14.00\">gini = 0.492</text>\n<text text-anchor=\"start\" x=\"205\" y=\"-498.8\" font-family=\"Helvetica,sans-Serif\" font-size=\"14.00\">samples = 94</text>\n<text text-anchor=\"start\" x=\"196\" y=\"-483.8\" font-family=\"Helvetica,sans-Serif\" font-size=\"14.00\">value = [53, 41]</text>\n<text text-anchor=\"start\" x=\"178\" y=\"-468.8\" font-family=\"Helvetica,sans-Serif\" font-size=\"14.00\">class = San Francisco</text>\n</g>\n<!-- 6&#45;&gt;7 -->\n<g id=\"edge7\" class=\"edge\">\n<title>6&#45;&gt;7</title>\n<path fill=\"none\" stroke=\"black\" d=\"M470.95,-583.84C467.76,-582.53 464.61,-581.25 461.5,-580 424.21,-565.04 382.74,-549.56 346.7,-536.46\"/>\n<polygon fill=\"black\" stroke=\"black\" points=\"347.77,-533.13 337.17,-533.01 345.38,-539.71 347.77,-533.13\"/>\n</g>\n<!-- 10 -->\n<g id=\"node11\" class=\"node\">\n<title>10</title>\n<path fill=\"#9ccef2\" stroke=\"black\" d=\"M610.5,-544C610.5,-544 498.5,-544 498.5,-544 492.5,-544 486.5,-538 486.5,-532 486.5,-532 486.5,-473 486.5,-473 486.5,-467 492.5,-461 498.5,-461 498.5,-461 610.5,-461 610.5,-461 616.5,-461 622.5,-467 622.5,-473 622.5,-473 622.5,-532 622.5,-532 622.5,-538 616.5,-544 610.5,-544\"/>\n<text text-anchor=\"start\" x=\"512\" y=\"-528.8\" font-family=\"Helvetica,sans-Serif\" font-size=\"14.00\">bath ≤ 1.15</text>\n<text text-anchor=\"start\" x=\"510.5\" y=\"-513.8\" font-family=\"Helvetica,sans-Serif\" font-size=\"14.00\">gini = 0.444</text>\n<text text-anchor=\"start\" x=\"506\" y=\"-498.8\" font-family=\"Helvetica,sans-Serif\" font-size=\"14.00\">samples = 36</text>\n<text text-anchor=\"start\" x=\"497\" y=\"-483.8\" font-family=\"Helvetica,sans-Serif\" font-size=\"14.00\">value = [12, 24]</text>\n<text text-anchor=\"start\" x=\"494.5\" y=\"-468.8\" font-family=\"Helvetica,sans-Serif\" font-size=\"14.00\">class = New York</text>\n</g>\n<!-- 6&#45;&gt;10 -->\n<g id=\"edge10\" class=\"edge\">\n<title>6&#45;&gt;10</title>\n<path fill=\"none\" stroke=\"black\" d=\"M554.5,-579.91C554.5,-571.65 554.5,-562.86 554.5,-554.3\"/>\n<polygon fill=\"black\" stroke=\"black\" points=\"558,-554.02 554.5,-544.02 551,-554.02 558,-554.02\"/>\n</g>\n<!-- 8 -->\n<g id=\"node9\" class=\"node\">\n<title>8</title>\n<path fill=\"#f8dbc7\" stroke=\"black\" d=\"M155,-417.5C155,-417.5 12,-417.5 12,-417.5 6,-417.5 0,-411.5 0,-405.5 0,-405.5 0,-361.5 0,-361.5 0,-355.5 6,-349.5 12,-349.5 12,-349.5 155,-349.5 155,-349.5 161,-349.5 167,-355.5 167,-361.5 167,-361.5 167,-405.5 167,-405.5 167,-411.5 161,-417.5 155,-417.5\"/>\n<text text-anchor=\"start\" x=\"39.5\" y=\"-402.3\" font-family=\"Helvetica,sans-Serif\" font-size=\"14.00\">gini = 0.486</text>\n<text text-anchor=\"start\" x=\"35\" y=\"-387.3\" font-family=\"Helvetica,sans-Serif\" font-size=\"14.00\">samples = 91</text>\n<text text-anchor=\"start\" x=\"12.5\" y=\"-372.3\" font-family=\"Helvetica,sans-Serif\" font-size=\"14.00\">value = [53.0, 38.0]</text>\n<text text-anchor=\"start\" x=\"8\" y=\"-357.3\" font-family=\"Helvetica,sans-Serif\" font-size=\"14.00\">class = San Francisco</text>\n</g>\n<!-- 7&#45;&gt;8 -->\n<g id=\"edge8\" class=\"edge\">\n<title>7&#45;&gt;8</title>\n<path fill=\"none\" stroke=\"black\" d=\"M194.52,-460.91C176.88,-448.77 157.59,-435.49 140.11,-423.46\"/>\n<polygon fill=\"black\" stroke=\"black\" points=\"141.91,-420.45 131.69,-417.67 137.94,-426.22 141.91,-420.45\"/>\n</g>\n<!-- 9 -->\n<g id=\"node10\" class=\"node\">\n<title>9</title>\n<path fill=\"#399de5\" stroke=\"black\" d=\"M309.5,-417.5C309.5,-417.5 197.5,-417.5 197.5,-417.5 191.5,-417.5 185.5,-411.5 185.5,-405.5 185.5,-405.5 185.5,-361.5 185.5,-361.5 185.5,-355.5 191.5,-349.5 197.5,-349.5 197.5,-349.5 309.5,-349.5 309.5,-349.5 315.5,-349.5 321.5,-355.5 321.5,-361.5 321.5,-361.5 321.5,-405.5 321.5,-405.5 321.5,-411.5 315.5,-417.5 309.5,-417.5\"/>\n<text text-anchor=\"start\" x=\"218.5\" y=\"-402.3\" font-family=\"Helvetica,sans-Serif\" font-size=\"14.00\">gini = 0.0</text>\n<text text-anchor=\"start\" x=\"209.5\" y=\"-387.3\" font-family=\"Helvetica,sans-Serif\" font-size=\"14.00\">samples = 3</text>\n<text text-anchor=\"start\" x=\"205\" y=\"-372.3\" font-family=\"Helvetica,sans-Serif\" font-size=\"14.00\">value = [0, 3]</text>\n<text text-anchor=\"start\" x=\"193.5\" y=\"-357.3\" font-family=\"Helvetica,sans-Serif\" font-size=\"14.00\">class = New York</text>\n</g>\n<!-- 7&#45;&gt;9 -->\n<g id=\"edge9\" class=\"edge\">\n<title>7&#45;&gt;9</title>\n<path fill=\"none\" stroke=\"black\" d=\"M253.5,-460.91C253.5,-450.2 253.5,-438.62 253.5,-427.78\"/>\n<polygon fill=\"black\" stroke=\"black\" points=\"257,-427.67 253.5,-417.67 250,-427.67 257,-427.67\"/>\n</g>\n<!-- 11 -->\n<g id=\"node12\" class=\"node\">\n<title>11</title>\n<path fill=\"#a1d0f3\" stroke=\"black\" d=\"M463.5,-417.5C463.5,-417.5 351.5,-417.5 351.5,-417.5 345.5,-417.5 339.5,-411.5 339.5,-405.5 339.5,-405.5 339.5,-361.5 339.5,-361.5 339.5,-355.5 345.5,-349.5 351.5,-349.5 351.5,-349.5 463.5,-349.5 463.5,-349.5 469.5,-349.5 475.5,-355.5 475.5,-361.5 475.5,-361.5 475.5,-405.5 475.5,-405.5 475.5,-411.5 469.5,-417.5 463.5,-417.5\"/>\n<text text-anchor=\"start\" x=\"363.5\" y=\"-402.3\" font-family=\"Helvetica,sans-Serif\" font-size=\"14.00\">gini = 0.451</text>\n<text text-anchor=\"start\" x=\"359\" y=\"-387.3\" font-family=\"Helvetica,sans-Serif\" font-size=\"14.00\">samples = 32</text>\n<text text-anchor=\"start\" x=\"350\" y=\"-372.3\" font-family=\"Helvetica,sans-Serif\" font-size=\"14.00\">value = [11, 21]</text>\n<text text-anchor=\"start\" x=\"347.5\" y=\"-357.3\" font-family=\"Helvetica,sans-Serif\" font-size=\"14.00\">class = New York</text>\n</g>\n<!-- 10&#45;&gt;11 -->\n<g id=\"edge11\" class=\"edge\">\n<title>10&#45;&gt;11</title>\n<path fill=\"none\" stroke=\"black\" d=\"M503.5,-460.91C488.53,-448.99 472.17,-435.98 457.28,-424.12\"/>\n<polygon fill=\"black\" stroke=\"black\" points=\"459.18,-421.16 449.17,-417.67 454.82,-426.63 459.18,-421.16\"/>\n</g>\n<!-- 12 -->\n<g id=\"node13\" class=\"node\">\n<title>12</title>\n<path fill=\"#7bbeee\" stroke=\"black\" d=\"M617.5,-425C617.5,-425 505.5,-425 505.5,-425 499.5,-425 493.5,-419 493.5,-413 493.5,-413 493.5,-354 493.5,-354 493.5,-348 499.5,-342 505.5,-342 505.5,-342 617.5,-342 617.5,-342 623.5,-342 629.5,-348 629.5,-354 629.5,-354 629.5,-413 629.5,-413 629.5,-419 623.5,-425 617.5,-425\"/>\n<text text-anchor=\"start\" x=\"523.5\" y=\"-409.8\" font-family=\"Helvetica,sans-Serif\" font-size=\"14.00\">bath ≤ 1.4</text>\n<text text-anchor=\"start\" x=\"517.5\" y=\"-394.8\" font-family=\"Helvetica,sans-Serif\" font-size=\"14.00\">gini = 0.375</text>\n<text text-anchor=\"start\" x=\"517.5\" y=\"-379.8\" font-family=\"Helvetica,sans-Serif\" font-size=\"14.00\">samples = 4</text>\n<text text-anchor=\"start\" x=\"513\" y=\"-364.8\" font-family=\"Helvetica,sans-Serif\" font-size=\"14.00\">value = [1, 3]</text>\n<text text-anchor=\"start\" x=\"501.5\" y=\"-349.8\" font-family=\"Helvetica,sans-Serif\" font-size=\"14.00\">class = New York</text>\n</g>\n<!-- 10&#45;&gt;12 -->\n<g id=\"edge12\" class=\"edge\">\n<title>10&#45;&gt;12</title>\n<path fill=\"none\" stroke=\"black\" d=\"M556.93,-460.91C557.43,-452.56 557.96,-443.67 558.48,-435.02\"/>\n<polygon fill=\"black\" stroke=\"black\" points=\"561.97,-435.21 559.08,-425.02 554.98,-434.79 561.97,-435.21\"/>\n</g>\n<!-- 13 -->\n<g id=\"node14\" class=\"node\">\n<title>13</title>\n<path fill=\"#399de5\" stroke=\"black\" d=\"M463.5,-298.5C463.5,-298.5 351.5,-298.5 351.5,-298.5 345.5,-298.5 339.5,-292.5 339.5,-286.5 339.5,-286.5 339.5,-242.5 339.5,-242.5 339.5,-236.5 345.5,-230.5 351.5,-230.5 351.5,-230.5 463.5,-230.5 463.5,-230.5 469.5,-230.5 475.5,-236.5 475.5,-242.5 475.5,-242.5 475.5,-286.5 475.5,-286.5 475.5,-292.5 469.5,-298.5 463.5,-298.5\"/>\n<text text-anchor=\"start\" x=\"372.5\" y=\"-283.3\" font-family=\"Helvetica,sans-Serif\" font-size=\"14.00\">gini = 0.0</text>\n<text text-anchor=\"start\" x=\"363.5\" y=\"-268.3\" font-family=\"Helvetica,sans-Serif\" font-size=\"14.00\">samples = 1</text>\n<text text-anchor=\"start\" x=\"359\" y=\"-253.3\" font-family=\"Helvetica,sans-Serif\" font-size=\"14.00\">value = [0, 1]</text>\n<text text-anchor=\"start\" x=\"347.5\" y=\"-238.3\" font-family=\"Helvetica,sans-Serif\" font-size=\"14.00\">class = New York</text>\n</g>\n<!-- 12&#45;&gt;13 -->\n<g id=\"edge13\" class=\"edge\">\n<title>12&#45;&gt;13</title>\n<path fill=\"none\" stroke=\"black\" d=\"M508.07,-341.91C492.24,-329.88 474.94,-316.73 459.22,-304.79\"/>\n<polygon fill=\"black\" stroke=\"black\" points=\"461.24,-301.93 451.16,-298.67 457,-307.5 461.24,-301.93\"/>\n</g>\n<!-- 14 -->\n<g id=\"node15\" class=\"node\">\n<title>14</title>\n<path fill=\"#9ccef2\" stroke=\"black\" d=\"M617.5,-298.5C617.5,-298.5 505.5,-298.5 505.5,-298.5 499.5,-298.5 493.5,-292.5 493.5,-286.5 493.5,-286.5 493.5,-242.5 493.5,-242.5 493.5,-236.5 499.5,-230.5 505.5,-230.5 505.5,-230.5 617.5,-230.5 617.5,-230.5 623.5,-230.5 629.5,-236.5 629.5,-242.5 629.5,-242.5 629.5,-286.5 629.5,-286.5 629.5,-292.5 623.5,-298.5 617.5,-298.5\"/>\n<text text-anchor=\"start\" x=\"517.5\" y=\"-283.3\" font-family=\"Helvetica,sans-Serif\" font-size=\"14.00\">gini = 0.444</text>\n<text text-anchor=\"start\" x=\"517.5\" y=\"-268.3\" font-family=\"Helvetica,sans-Serif\" font-size=\"14.00\">samples = 3</text>\n<text text-anchor=\"start\" x=\"513\" y=\"-253.3\" font-family=\"Helvetica,sans-Serif\" font-size=\"14.00\">value = [1, 2]</text>\n<text text-anchor=\"start\" x=\"501.5\" y=\"-238.3\" font-family=\"Helvetica,sans-Serif\" font-size=\"14.00\">class = New York</text>\n</g>\n<!-- 12&#45;&gt;14 -->\n<g id=\"edge14\" class=\"edge\">\n<title>12&#45;&gt;14</title>\n<path fill=\"none\" stroke=\"black\" d=\"M561.5,-341.91C561.5,-331.2 561.5,-319.62 561.5,-308.78\"/>\n<polygon fill=\"black\" stroke=\"black\" points=\"565,-308.67 561.5,-298.67 558,-308.67 565,-308.67\"/>\n</g>\n<!-- 16 -->\n<g id=\"node17\" class=\"node\">\n<title>16</title>\n<path fill=\"#f7d7bf\" stroke=\"black\" d=\"M803,-544C803,-544 660,-544 660,-544 654,-544 648,-538 648,-532 648,-532 648,-473 648,-473 648,-467 654,-461 660,-461 660,-461 803,-461 803,-461 809,-461 815,-467 815,-473 815,-473 815,-532 815,-532 815,-538 809,-544 803,-544\"/>\n<text text-anchor=\"start\" x=\"689\" y=\"-528.8\" font-family=\"Helvetica,sans-Serif\" font-size=\"14.00\">bath ≤ 2.25</text>\n<text text-anchor=\"start\" x=\"687.5\" y=\"-513.8\" font-family=\"Helvetica,sans-Serif\" font-size=\"14.00\">gini = 0.482</text>\n<text text-anchor=\"start\" x=\"683\" y=\"-498.8\" font-family=\"Helvetica,sans-Serif\" font-size=\"14.00\">samples = 89</text>\n<text text-anchor=\"start\" x=\"674\" y=\"-483.8\" font-family=\"Helvetica,sans-Serif\" font-size=\"14.00\">value = [53, 36]</text>\n<text text-anchor=\"start\" x=\"656\" y=\"-468.8\" font-family=\"Helvetica,sans-Serif\" font-size=\"14.00\">class = San Francisco</text>\n</g>\n<!-- 15&#45;&gt;16 -->\n<g id=\"edge16\" class=\"edge\">\n<title>15&#45;&gt;16</title>\n<path fill=\"none\" stroke=\"black\" d=\"M736.72,-579.91C736.15,-571.56 735.55,-562.67 734.95,-554.02\"/>\n<polygon fill=\"black\" stroke=\"black\" points=\"738.44,-553.76 734.27,-544.02 731.46,-554.24 738.44,-553.76\"/>\n</g>\n<!-- 21 -->\n<g id=\"node22\" class=\"node\">\n<title>21</title>\n<path fill=\"#e58139\" stroke=\"black\" d=\"M988,-536.5C988,-536.5 845,-536.5 845,-536.5 839,-536.5 833,-530.5 833,-524.5 833,-524.5 833,-480.5 833,-480.5 833,-474.5 839,-468.5 845,-468.5 845,-468.5 988,-468.5 988,-468.5 994,-468.5 1000,-474.5 1000,-480.5 1000,-480.5 1000,-524.5 1000,-524.5 1000,-530.5 994,-536.5 988,-536.5\"/>\n<text text-anchor=\"start\" x=\"881.5\" y=\"-521.3\" font-family=\"Helvetica,sans-Serif\" font-size=\"14.00\">gini = 0.0</text>\n<text text-anchor=\"start\" x=\"872.5\" y=\"-506.3\" font-family=\"Helvetica,sans-Serif\" font-size=\"14.00\">samples = 3</text>\n<text text-anchor=\"start\" x=\"868\" y=\"-491.3\" font-family=\"Helvetica,sans-Serif\" font-size=\"14.00\">value = [3, 0]</text>\n<text text-anchor=\"start\" x=\"841\" y=\"-476.3\" font-family=\"Helvetica,sans-Serif\" font-size=\"14.00\">class = San Francisco</text>\n</g>\n<!-- 15&#45;&gt;21 -->\n<g id=\"edge21\" class=\"edge\">\n<title>15&#45;&gt;21</title>\n<path fill=\"none\" stroke=\"black\" d=\"M800.91,-579.91C819.27,-567.77 839.36,-554.49 857.56,-542.46\"/>\n<polygon fill=\"black\" stroke=\"black\" points=\"859.91,-545.1 866.32,-536.67 856.05,-539.26 859.91,-545.1\"/>\n</g>\n<!-- 17 -->\n<g id=\"node18\" class=\"node\">\n<title>17</title>\n<path fill=\"#f5cdb1\" stroke=\"black\" d=\"M803,-425C803,-425 660,-425 660,-425 654,-425 648,-419 648,-413 648,-413 648,-354 648,-354 648,-348 654,-342 660,-342 660,-342 803,-342 803,-342 809,-342 815,-348 815,-354 815,-354 815,-413 815,-413 815,-419 809,-425 803,-425\"/>\n<text text-anchor=\"start\" x=\"692.5\" y=\"-409.8\" font-family=\"Helvetica,sans-Serif\" font-size=\"14.00\">beds ≤ 1.5</text>\n<text text-anchor=\"start\" x=\"687.5\" y=\"-394.8\" font-family=\"Helvetica,sans-Serif\" font-size=\"14.00\">gini = 0.469</text>\n<text text-anchor=\"start\" x=\"683\" y=\"-379.8\" font-family=\"Helvetica,sans-Serif\" font-size=\"14.00\">samples = 85</text>\n<text text-anchor=\"start\" x=\"674\" y=\"-364.8\" font-family=\"Helvetica,sans-Serif\" font-size=\"14.00\">value = [53, 32]</text>\n<text text-anchor=\"start\" x=\"656\" y=\"-349.8\" font-family=\"Helvetica,sans-Serif\" font-size=\"14.00\">class = San Francisco</text>\n</g>\n<!-- 16&#45;&gt;17 -->\n<g id=\"edge17\" class=\"edge\">\n<title>16&#45;&gt;17</title>\n<path fill=\"none\" stroke=\"black\" d=\"M731.5,-460.91C731.5,-452.65 731.5,-443.86 731.5,-435.3\"/>\n<polygon fill=\"black\" stroke=\"black\" points=\"735,-435.02 731.5,-425.02 728,-435.02 735,-435.02\"/>\n</g>\n<!-- 20 -->\n<g id=\"node21\" class=\"node\">\n<title>20</title>\n<path fill=\"#399de5\" stroke=\"black\" d=\"M957.5,-417.5C957.5,-417.5 845.5,-417.5 845.5,-417.5 839.5,-417.5 833.5,-411.5 833.5,-405.5 833.5,-405.5 833.5,-361.5 833.5,-361.5 833.5,-355.5 839.5,-349.5 845.5,-349.5 845.5,-349.5 957.5,-349.5 957.5,-349.5 963.5,-349.5 969.5,-355.5 969.5,-361.5 969.5,-361.5 969.5,-405.5 969.5,-405.5 969.5,-411.5 963.5,-417.5 957.5,-417.5\"/>\n<text text-anchor=\"start\" x=\"866.5\" y=\"-402.3\" font-family=\"Helvetica,sans-Serif\" font-size=\"14.00\">gini = 0.0</text>\n<text text-anchor=\"start\" x=\"857.5\" y=\"-387.3\" font-family=\"Helvetica,sans-Serif\" font-size=\"14.00\">samples = 4</text>\n<text text-anchor=\"start\" x=\"853\" y=\"-372.3\" font-family=\"Helvetica,sans-Serif\" font-size=\"14.00\">value = [0, 4]</text>\n<text text-anchor=\"start\" x=\"841.5\" y=\"-357.3\" font-family=\"Helvetica,sans-Serif\" font-size=\"14.00\">class = New York</text>\n</g>\n<!-- 16&#45;&gt;20 -->\n<g id=\"edge20\" class=\"edge\">\n<title>16&#45;&gt;20</title>\n<path fill=\"none\" stroke=\"black\" d=\"M790.48,-460.91C808.12,-448.77 827.41,-435.49 844.89,-423.46\"/>\n<polygon fill=\"black\" stroke=\"black\" points=\"847.06,-426.22 853.31,-417.67 843.09,-420.45 847.06,-426.22\"/>\n</g>\n<!-- 18 -->\n<g id=\"node19\" class=\"node\">\n<title>18</title>\n<path fill=\"#ffffff\" stroke=\"black\" d=\"M803,-298.5C803,-298.5 660,-298.5 660,-298.5 654,-298.5 648,-292.5 648,-286.5 648,-286.5 648,-242.5 648,-242.5 648,-236.5 654,-230.5 660,-230.5 660,-230.5 803,-230.5 803,-230.5 809,-230.5 815,-236.5 815,-242.5 815,-242.5 815,-286.5 815,-286.5 815,-292.5 809,-298.5 803,-298.5\"/>\n<text text-anchor=\"start\" x=\"696.5\" y=\"-283.3\" font-family=\"Helvetica,sans-Serif\" font-size=\"14.00\">gini = 0.5</text>\n<text text-anchor=\"start\" x=\"687.5\" y=\"-268.3\" font-family=\"Helvetica,sans-Serif\" font-size=\"14.00\">samples = 2</text>\n<text text-anchor=\"start\" x=\"683\" y=\"-253.3\" font-family=\"Helvetica,sans-Serif\" font-size=\"14.00\">value = [1, 1]</text>\n<text text-anchor=\"start\" x=\"656\" y=\"-238.3\" font-family=\"Helvetica,sans-Serif\" font-size=\"14.00\">class = San Francisco</text>\n</g>\n<!-- 17&#45;&gt;18 -->\n<g id=\"edge18\" class=\"edge\">\n<title>17&#45;&gt;18</title>\n<path fill=\"none\" stroke=\"black\" d=\"M731.5,-341.91C731.5,-331.2 731.5,-319.62 731.5,-308.78\"/>\n<polygon fill=\"black\" stroke=\"black\" points=\"735,-308.67 731.5,-298.67 728,-308.67 735,-308.67\"/>\n</g>\n<!-- 19 -->\n<g id=\"node20\" class=\"node\">\n<title>19</title>\n<path fill=\"#f4ccaf\" stroke=\"black\" d=\"M988,-298.5C988,-298.5 845,-298.5 845,-298.5 839,-298.5 833,-292.5 833,-286.5 833,-286.5 833,-242.5 833,-242.5 833,-236.5 839,-230.5 845,-230.5 845,-230.5 988,-230.5 988,-230.5 994,-230.5 1000,-236.5 1000,-242.5 1000,-242.5 1000,-286.5 1000,-286.5 1000,-292.5 994,-298.5 988,-298.5\"/>\n<text text-anchor=\"start\" x=\"872.5\" y=\"-283.3\" font-family=\"Helvetica,sans-Serif\" font-size=\"14.00\">gini = 0.468</text>\n<text text-anchor=\"start\" x=\"868\" y=\"-268.3\" font-family=\"Helvetica,sans-Serif\" font-size=\"14.00\">samples = 83</text>\n<text text-anchor=\"start\" x=\"859\" y=\"-253.3\" font-family=\"Helvetica,sans-Serif\" font-size=\"14.00\">value = [52, 31]</text>\n<text text-anchor=\"start\" x=\"841\" y=\"-238.3\" font-family=\"Helvetica,sans-Serif\" font-size=\"14.00\">class = San Francisco</text>\n</g>\n<!-- 17&#45;&gt;19 -->\n<g id=\"edge19\" class=\"edge\">\n<title>17&#45;&gt;19</title>\n<path fill=\"none\" stroke=\"black\" d=\"M795.68,-341.91C815.05,-329.66 836.25,-316.25 855.41,-304.13\"/>\n<polygon fill=\"black\" stroke=\"black\" points=\"857.48,-306.97 864.06,-298.67 853.73,-301.05 857.48,-306.97\"/>\n</g>\n<!-- 23 -->\n<g id=\"node24\" class=\"node\">\n<title>23</title>\n<path fill=\"#3fa0e6\" stroke=\"black\" d=\"M1257.5,-782C1257.5,-782 1145.5,-782 1145.5,-782 1139.5,-782 1133.5,-776 1133.5,-770 1133.5,-770 1133.5,-711 1133.5,-711 1133.5,-705 1139.5,-699 1145.5,-699 1145.5,-699 1257.5,-699 1257.5,-699 1263.5,-699 1269.5,-705 1269.5,-711 1269.5,-711 1269.5,-770 1269.5,-770 1269.5,-776 1263.5,-782 1257.5,-782\"/>\n<text text-anchor=\"start\" x=\"1159\" y=\"-766.8\" font-family=\"Helvetica,sans-Serif\" font-size=\"14.00\">bath ≤ 2.15</text>\n<text text-anchor=\"start\" x=\"1157.5\" y=\"-751.8\" font-family=\"Helvetica,sans-Serif\" font-size=\"14.00\">gini = 0.059</text>\n<text text-anchor=\"start\" x=\"1153\" y=\"-736.8\" font-family=\"Helvetica,sans-Serif\" font-size=\"14.00\">samples = 66</text>\n<text text-anchor=\"start\" x=\"1148.5\" y=\"-721.8\" font-family=\"Helvetica,sans-Serif\" font-size=\"14.00\">value = [2, 64]</text>\n<text text-anchor=\"start\" x=\"1141.5\" y=\"-706.8\" font-family=\"Helvetica,sans-Serif\" font-size=\"14.00\">class = New York</text>\n</g>\n<!-- 22&#45;&gt;23 -->\n<g id=\"edge23\" class=\"edge\">\n<title>22&#45;&gt;23</title>\n<path fill=\"none\" stroke=\"black\" d=\"M1201.5,-817.91C1201.5,-809.65 1201.5,-800.86 1201.5,-792.3\"/>\n<polygon fill=\"black\" stroke=\"black\" points=\"1205,-792.02 1201.5,-782.02 1198,-792.02 1205,-792.02\"/>\n</g>\n<!-- 30 -->\n<g id=\"node31\" class=\"node\">\n<title>30</title>\n<path fill=\"#bfdff7\" stroke=\"black\" d=\"M1581.5,-782C1581.5,-782 1469.5,-782 1469.5,-782 1463.5,-782 1457.5,-776 1457.5,-770 1457.5,-770 1457.5,-711 1457.5,-711 1457.5,-705 1463.5,-699 1469.5,-699 1469.5,-699 1581.5,-699 1581.5,-699 1587.5,-699 1593.5,-705 1593.5,-711 1593.5,-711 1593.5,-770 1593.5,-770 1593.5,-776 1587.5,-782 1581.5,-782\"/>\n<text text-anchor=\"start\" x=\"1486.5\" y=\"-766.8\" font-family=\"Helvetica,sans-Serif\" font-size=\"14.00\">beds ≤ 3.5</text>\n<text text-anchor=\"start\" x=\"1481.5\" y=\"-751.8\" font-family=\"Helvetica,sans-Serif\" font-size=\"14.00\">gini = 0.481</text>\n<text text-anchor=\"start\" x=\"1477\" y=\"-736.8\" font-family=\"Helvetica,sans-Serif\" font-size=\"14.00\">samples = 57</text>\n<text text-anchor=\"start\" x=\"1468\" y=\"-721.8\" font-family=\"Helvetica,sans-Serif\" font-size=\"14.00\">value = [23, 34]</text>\n<text text-anchor=\"start\" x=\"1465.5\" y=\"-706.8\" font-family=\"Helvetica,sans-Serif\" font-size=\"14.00\">class = New York</text>\n</g>\n<!-- 22&#45;&gt;30 -->\n<g id=\"edge30\" class=\"edge\">\n<title>22&#45;&gt;30</title>\n<path fill=\"none\" stroke=\"black\" d=\"M1269.82,-833.83C1321.83,-815.05 1393.49,-789.17 1447.71,-769.59\"/>\n<polygon fill=\"black\" stroke=\"black\" points=\"1449.06,-772.82 1457.28,-766.14 1446.68,-766.24 1449.06,-772.82\"/>\n</g>\n<!-- 24 -->\n<g id=\"node25\" class=\"node\">\n<title>24</title>\n<path fill=\"#41a1e6\" stroke=\"black\" d=\"M1180.5,-663C1180.5,-663 1068.5,-663 1068.5,-663 1062.5,-663 1056.5,-657 1056.5,-651 1056.5,-651 1056.5,-592 1056.5,-592 1056.5,-586 1062.5,-580 1068.5,-580 1068.5,-580 1180.5,-580 1180.5,-580 1186.5,-580 1192.5,-586 1192.5,-592 1192.5,-592 1192.5,-651 1192.5,-651 1192.5,-657 1186.5,-663 1180.5,-663\"/>\n<text text-anchor=\"start\" x=\"1085.5\" y=\"-647.8\" font-family=\"Helvetica,sans-Serif\" font-size=\"14.00\">beds ≤ 3.5</text>\n<text text-anchor=\"start\" x=\"1080.5\" y=\"-632.8\" font-family=\"Helvetica,sans-Serif\" font-size=\"14.00\">gini = 0.075</text>\n<text text-anchor=\"start\" x=\"1076\" y=\"-617.8\" font-family=\"Helvetica,sans-Serif\" font-size=\"14.00\">samples = 51</text>\n<text text-anchor=\"start\" x=\"1071.5\" y=\"-602.8\" font-family=\"Helvetica,sans-Serif\" font-size=\"14.00\">value = [2, 49]</text>\n<text text-anchor=\"start\" x=\"1064.5\" y=\"-587.8\" font-family=\"Helvetica,sans-Serif\" font-size=\"14.00\">class = New York</text>\n</g>\n<!-- 23&#45;&gt;24 -->\n<g id=\"edge24\" class=\"edge\">\n<title>23&#45;&gt;24</title>\n<path fill=\"none\" stroke=\"black\" d=\"M1174.79,-698.91C1168.99,-690.1 1162.8,-680.7 1156.82,-671.61\"/>\n<polygon fill=\"black\" stroke=\"black\" points=\"1159.59,-669.45 1151.17,-663.02 1153.74,-673.3 1159.59,-669.45\"/>\n</g>\n<!-- 29 -->\n<g id=\"node30\" class=\"node\">\n<title>29</title>\n<path fill=\"#399de5\" stroke=\"black\" d=\"M1334.5,-655.5C1334.5,-655.5 1222.5,-655.5 1222.5,-655.5 1216.5,-655.5 1210.5,-649.5 1210.5,-643.5 1210.5,-643.5 1210.5,-599.5 1210.5,-599.5 1210.5,-593.5 1216.5,-587.5 1222.5,-587.5 1222.5,-587.5 1334.5,-587.5 1334.5,-587.5 1340.5,-587.5 1346.5,-593.5 1346.5,-599.5 1346.5,-599.5 1346.5,-643.5 1346.5,-643.5 1346.5,-649.5 1340.5,-655.5 1334.5,-655.5\"/>\n<text text-anchor=\"start\" x=\"1243.5\" y=\"-640.3\" font-family=\"Helvetica,sans-Serif\" font-size=\"14.00\">gini = 0.0</text>\n<text text-anchor=\"start\" x=\"1230\" y=\"-625.3\" font-family=\"Helvetica,sans-Serif\" font-size=\"14.00\">samples = 15</text>\n<text text-anchor=\"start\" x=\"1225.5\" y=\"-610.3\" font-family=\"Helvetica,sans-Serif\" font-size=\"14.00\">value = [0, 15]</text>\n<text text-anchor=\"start\" x=\"1218.5\" y=\"-595.3\" font-family=\"Helvetica,sans-Serif\" font-size=\"14.00\">class = New York</text>\n</g>\n<!-- 23&#45;&gt;29 -->\n<g id=\"edge29\" class=\"edge\">\n<title>23&#45;&gt;29</title>\n<path fill=\"none\" stroke=\"black\" d=\"M1228.21,-698.91C1235.62,-687.65 1243.67,-675.42 1251.12,-664.11\"/>\n<polygon fill=\"black\" stroke=\"black\" points=\"1254.1,-665.94 1256.67,-655.67 1248.25,-662.1 1254.1,-665.94\"/>\n</g>\n<!-- 25 -->\n<g id=\"node26\" class=\"node\">\n<title>25</title>\n<path fill=\"#43a2e6\" stroke=\"black\" d=\"M1142.5,-544C1142.5,-544 1030.5,-544 1030.5,-544 1024.5,-544 1018.5,-538 1018.5,-532 1018.5,-532 1018.5,-473 1018.5,-473 1018.5,-467 1024.5,-461 1030.5,-461 1030.5,-461 1142.5,-461 1142.5,-461 1148.5,-461 1154.5,-467 1154.5,-473 1154.5,-473 1154.5,-532 1154.5,-532 1154.5,-538 1148.5,-544 1142.5,-544\"/>\n<text text-anchor=\"start\" x=\"1048.5\" y=\"-528.8\" font-family=\"Helvetica,sans-Serif\" font-size=\"14.00\">bath ≤ 1.5</text>\n<text text-anchor=\"start\" x=\"1042.5\" y=\"-513.8\" font-family=\"Helvetica,sans-Serif\" font-size=\"14.00\">gini = 0.089</text>\n<text text-anchor=\"start\" x=\"1038\" y=\"-498.8\" font-family=\"Helvetica,sans-Serif\" font-size=\"14.00\">samples = 43</text>\n<text text-anchor=\"start\" x=\"1033.5\" y=\"-483.8\" font-family=\"Helvetica,sans-Serif\" font-size=\"14.00\">value = [2, 41]</text>\n<text text-anchor=\"start\" x=\"1026.5\" y=\"-468.8\" font-family=\"Helvetica,sans-Serif\" font-size=\"14.00\">class = New York</text>\n</g>\n<!-- 24&#45;&gt;25 -->\n<g id=\"edge25\" class=\"edge\">\n<title>24&#45;&gt;25</title>\n<path fill=\"none\" stroke=\"black\" d=\"M1111.32,-579.91C1108.57,-571.47 1105.66,-562.48 1102.82,-553.74\"/>\n<polygon fill=\"black\" stroke=\"black\" points=\"1106.08,-552.45 1099.66,-544.02 1099.42,-554.61 1106.08,-552.45\"/>\n</g>\n<!-- 28 -->\n<g id=\"node29\" class=\"node\">\n<title>28</title>\n<path fill=\"#399de5\" stroke=\"black\" d=\"M1296.5,-536.5C1296.5,-536.5 1184.5,-536.5 1184.5,-536.5 1178.5,-536.5 1172.5,-530.5 1172.5,-524.5 1172.5,-524.5 1172.5,-480.5 1172.5,-480.5 1172.5,-474.5 1178.5,-468.5 1184.5,-468.5 1184.5,-468.5 1296.5,-468.5 1296.5,-468.5 1302.5,-468.5 1308.5,-474.5 1308.5,-480.5 1308.5,-480.5 1308.5,-524.5 1308.5,-524.5 1308.5,-530.5 1302.5,-536.5 1296.5,-536.5\"/>\n<text text-anchor=\"start\" x=\"1205.5\" y=\"-521.3\" font-family=\"Helvetica,sans-Serif\" font-size=\"14.00\">gini = 0.0</text>\n<text text-anchor=\"start\" x=\"1196.5\" y=\"-506.3\" font-family=\"Helvetica,sans-Serif\" font-size=\"14.00\">samples = 8</text>\n<text text-anchor=\"start\" x=\"1192\" y=\"-491.3\" font-family=\"Helvetica,sans-Serif\" font-size=\"14.00\">value = [0, 8]</text>\n<text text-anchor=\"start\" x=\"1180.5\" y=\"-476.3\" font-family=\"Helvetica,sans-Serif\" font-size=\"14.00\">class = New York</text>\n</g>\n<!-- 24&#45;&gt;28 -->\n<g id=\"edge28\" class=\"edge\">\n<title>24&#45;&gt;28</title>\n<path fill=\"none\" stroke=\"black\" d=\"M1164.75,-579.91C1176.34,-568.21 1188.99,-555.46 1200.56,-543.78\"/>\n<polygon fill=\"black\" stroke=\"black\" points=\"1203.06,-546.23 1207.62,-536.67 1198.09,-541.3 1203.06,-546.23\"/>\n</g>\n<!-- 26 -->\n<g id=\"node27\" class=\"node\">\n<title>26</title>\n<path fill=\"#399de5\" stroke=\"black\" d=\"M1127.5,-417.5C1127.5,-417.5 1015.5,-417.5 1015.5,-417.5 1009.5,-417.5 1003.5,-411.5 1003.5,-405.5 1003.5,-405.5 1003.5,-361.5 1003.5,-361.5 1003.5,-355.5 1009.5,-349.5 1015.5,-349.5 1015.5,-349.5 1127.5,-349.5 1127.5,-349.5 1133.5,-349.5 1139.5,-355.5 1139.5,-361.5 1139.5,-361.5 1139.5,-405.5 1139.5,-405.5 1139.5,-411.5 1133.5,-417.5 1127.5,-417.5\"/>\n<text text-anchor=\"start\" x=\"1036.5\" y=\"-402.3\" font-family=\"Helvetica,sans-Serif\" font-size=\"14.00\">gini = 0.0</text>\n<text text-anchor=\"start\" x=\"1027.5\" y=\"-387.3\" font-family=\"Helvetica,sans-Serif\" font-size=\"14.00\">samples = 4</text>\n<text text-anchor=\"start\" x=\"1023\" y=\"-372.3\" font-family=\"Helvetica,sans-Serif\" font-size=\"14.00\">value = [0, 4]</text>\n<text text-anchor=\"start\" x=\"1011.5\" y=\"-357.3\" font-family=\"Helvetica,sans-Serif\" font-size=\"14.00\">class = New York</text>\n</g>\n<!-- 25&#45;&gt;26 -->\n<g id=\"edge26\" class=\"edge\">\n<title>25&#45;&gt;26</title>\n<path fill=\"none\" stroke=\"black\" d=\"M1081.3,-460.91C1079.92,-450.2 1078.44,-438.62 1077.05,-427.78\"/>\n<polygon fill=\"black\" stroke=\"black\" points=\"1080.5,-427.14 1075.75,-417.67 1073.55,-428.03 1080.5,-427.14\"/>\n</g>\n<!-- 27 -->\n<g id=\"node28\" class=\"node\">\n<title>27</title>\n<path fill=\"#44a2e6\" stroke=\"black\" d=\"M1281.5,-417.5C1281.5,-417.5 1169.5,-417.5 1169.5,-417.5 1163.5,-417.5 1157.5,-411.5 1157.5,-405.5 1157.5,-405.5 1157.5,-361.5 1157.5,-361.5 1157.5,-355.5 1163.5,-349.5 1169.5,-349.5 1169.5,-349.5 1281.5,-349.5 1281.5,-349.5 1287.5,-349.5 1293.5,-355.5 1293.5,-361.5 1293.5,-361.5 1293.5,-405.5 1293.5,-405.5 1293.5,-411.5 1287.5,-417.5 1281.5,-417.5\"/>\n<text text-anchor=\"start\" x=\"1181.5\" y=\"-402.3\" font-family=\"Helvetica,sans-Serif\" font-size=\"14.00\">gini = 0.097</text>\n<text text-anchor=\"start\" x=\"1177\" y=\"-387.3\" font-family=\"Helvetica,sans-Serif\" font-size=\"14.00\">samples = 39</text>\n<text text-anchor=\"start\" x=\"1172.5\" y=\"-372.3\" font-family=\"Helvetica,sans-Serif\" font-size=\"14.00\">value = [2, 37]</text>\n<text text-anchor=\"start\" x=\"1165.5\" y=\"-357.3\" font-family=\"Helvetica,sans-Serif\" font-size=\"14.00\">class = New York</text>\n</g>\n<!-- 25&#45;&gt;27 -->\n<g id=\"edge27\" class=\"edge\">\n<title>25&#45;&gt;27</title>\n<path fill=\"none\" stroke=\"black\" d=\"M1134.73,-460.91C1148.88,-448.99 1164.35,-435.98 1178.43,-424.12\"/>\n<polygon fill=\"black\" stroke=\"black\" points=\"1180.7,-426.78 1186.1,-417.67 1176.19,-421.43 1180.7,-426.78\"/>\n</g>\n<!-- 31 -->\n<g id=\"node32\" class=\"node\">\n<title>31</title>\n<path fill=\"#f6d5bd\" stroke=\"black\" d=\"M1597,-663C1597,-663 1454,-663 1454,-663 1448,-663 1442,-657 1442,-651 1442,-651 1442,-592 1442,-592 1442,-586 1448,-580 1454,-580 1454,-580 1597,-580 1597,-580 1603,-580 1609,-586 1609,-592 1609,-592 1609,-651 1609,-651 1609,-657 1603,-663 1597,-663\"/>\n<text text-anchor=\"start\" x=\"1483\" y=\"-647.8\" font-family=\"Helvetica,sans-Serif\" font-size=\"14.00\">bath ≤ 3.25</text>\n<text text-anchor=\"start\" x=\"1486\" y=\"-632.8\" font-family=\"Helvetica,sans-Serif\" font-size=\"14.00\">gini = 0.48</text>\n<text text-anchor=\"start\" x=\"1477\" y=\"-617.8\" font-family=\"Helvetica,sans-Serif\" font-size=\"14.00\">samples = 20</text>\n<text text-anchor=\"start\" x=\"1472.5\" y=\"-602.8\" font-family=\"Helvetica,sans-Serif\" font-size=\"14.00\">value = [12, 8]</text>\n<text text-anchor=\"start\" x=\"1450\" y=\"-587.8\" font-family=\"Helvetica,sans-Serif\" font-size=\"14.00\">class = San Francisco</text>\n</g>\n<!-- 30&#45;&gt;31 -->\n<g id=\"edge31\" class=\"edge\">\n<title>30&#45;&gt;31</title>\n<path fill=\"none\" stroke=\"black\" d=\"M1525.5,-698.91C1525.5,-690.65 1525.5,-681.86 1525.5,-673.3\"/>\n<polygon fill=\"black\" stroke=\"black\" points=\"1529,-673.02 1525.5,-663.02 1522,-673.02 1529,-673.02\"/>\n</g>\n<!-- 34 -->\n<g id=\"node35\" class=\"node\">\n<title>34</title>\n<path fill=\"#8dc6f0\" stroke=\"black\" d=\"M1790.5,-663C1790.5,-663 1678.5,-663 1678.5,-663 1672.5,-663 1666.5,-657 1666.5,-651 1666.5,-651 1666.5,-592 1666.5,-592 1666.5,-586 1672.5,-580 1678.5,-580 1678.5,-580 1790.5,-580 1790.5,-580 1796.5,-580 1802.5,-586 1802.5,-592 1802.5,-592 1802.5,-651 1802.5,-651 1802.5,-657 1796.5,-663 1790.5,-663\"/>\n<text text-anchor=\"start\" x=\"1692\" y=\"-647.8\" font-family=\"Helvetica,sans-Serif\" font-size=\"14.00\">bath ≤ 3.75</text>\n<text text-anchor=\"start\" x=\"1690.5\" y=\"-632.8\" font-family=\"Helvetica,sans-Serif\" font-size=\"14.00\">gini = 0.418</text>\n<text text-anchor=\"start\" x=\"1686\" y=\"-617.8\" font-family=\"Helvetica,sans-Serif\" font-size=\"14.00\">samples = 37</text>\n<text text-anchor=\"start\" x=\"1677\" y=\"-602.8\" font-family=\"Helvetica,sans-Serif\" font-size=\"14.00\">value = [11, 26]</text>\n<text text-anchor=\"start\" x=\"1674.5\" y=\"-587.8\" font-family=\"Helvetica,sans-Serif\" font-size=\"14.00\">class = New York</text>\n</g>\n<!-- 30&#45;&gt;34 -->\n<g id=\"edge34\" class=\"edge\">\n<title>30&#45;&gt;34</title>\n<path fill=\"none\" stroke=\"black\" d=\"M1593.65,-701.35C1614.07,-689.92 1636.62,-677.29 1657.58,-665.56\"/>\n<polygon fill=\"black\" stroke=\"black\" points=\"1659.43,-668.54 1666.45,-660.6 1656.01,-662.43 1659.43,-668.54\"/>\n</g>\n<!-- 32 -->\n<g id=\"node33\" class=\"node\">\n<title>32</title>\n<path fill=\"#f4caac\" stroke=\"black\" d=\"M1482,-536.5C1482,-536.5 1339,-536.5 1339,-536.5 1333,-536.5 1327,-530.5 1327,-524.5 1327,-524.5 1327,-480.5 1327,-480.5 1327,-474.5 1333,-468.5 1339,-468.5 1339,-468.5 1482,-468.5 1482,-468.5 1488,-468.5 1494,-474.5 1494,-480.5 1494,-480.5 1494,-524.5 1494,-524.5 1494,-530.5 1488,-536.5 1482,-536.5\"/>\n<text text-anchor=\"start\" x=\"1366.5\" y=\"-521.3\" font-family=\"Helvetica,sans-Serif\" font-size=\"14.00\">gini = 0.465</text>\n<text text-anchor=\"start\" x=\"1362\" y=\"-506.3\" font-family=\"Helvetica,sans-Serif\" font-size=\"14.00\">samples = 19</text>\n<text text-anchor=\"start\" x=\"1357.5\" y=\"-491.3\" font-family=\"Helvetica,sans-Serif\" font-size=\"14.00\">value = [12, 7]</text>\n<text text-anchor=\"start\" x=\"1335\" y=\"-476.3\" font-family=\"Helvetica,sans-Serif\" font-size=\"14.00\">class = San Francisco</text>\n</g>\n<!-- 31&#45;&gt;32 -->\n<g id=\"edge32\" class=\"edge\">\n<title>31&#45;&gt;32</title>\n<path fill=\"none\" stroke=\"black\" d=\"M1485.6,-579.91C1474.21,-568.32 1461.81,-555.7 1450.42,-544.11\"/>\n<polygon fill=\"black\" stroke=\"black\" points=\"1452.61,-541.35 1443.1,-536.67 1447.61,-546.25 1452.61,-541.35\"/>\n</g>\n<!-- 33 -->\n<g id=\"node34\" class=\"node\">\n<title>33</title>\n<path fill=\"#399de5\" stroke=\"black\" d=\"M1636.5,-536.5C1636.5,-536.5 1524.5,-536.5 1524.5,-536.5 1518.5,-536.5 1512.5,-530.5 1512.5,-524.5 1512.5,-524.5 1512.5,-480.5 1512.5,-480.5 1512.5,-474.5 1518.5,-468.5 1524.5,-468.5 1524.5,-468.5 1636.5,-468.5 1636.5,-468.5 1642.5,-468.5 1648.5,-474.5 1648.5,-480.5 1648.5,-480.5 1648.5,-524.5 1648.5,-524.5 1648.5,-530.5 1642.5,-536.5 1636.5,-536.5\"/>\n<text text-anchor=\"start\" x=\"1545.5\" y=\"-521.3\" font-family=\"Helvetica,sans-Serif\" font-size=\"14.00\">gini = 0.0</text>\n<text text-anchor=\"start\" x=\"1536.5\" y=\"-506.3\" font-family=\"Helvetica,sans-Serif\" font-size=\"14.00\">samples = 1</text>\n<text text-anchor=\"start\" x=\"1532\" y=\"-491.3\" font-family=\"Helvetica,sans-Serif\" font-size=\"14.00\">value = [0, 1]</text>\n<text text-anchor=\"start\" x=\"1520.5\" y=\"-476.3\" font-family=\"Helvetica,sans-Serif\" font-size=\"14.00\">class = New York</text>\n</g>\n<!-- 31&#45;&gt;33 -->\n<g id=\"edge33\" class=\"edge\">\n<title>31&#45;&gt;33</title>\n<path fill=\"none\" stroke=\"black\" d=\"M1544.58,-579.91C1549.77,-568.87 1555.4,-556.9 1560.63,-545.77\"/>\n<polygon fill=\"black\" stroke=\"black\" points=\"1563.82,-547.21 1564.91,-536.67 1557.49,-544.23 1563.82,-547.21\"/>\n</g>\n<!-- 35 -->\n<g id=\"node36\" class=\"node\">\n<title>35</title>\n<path fill=\"#47a4e7\" stroke=\"black\" d=\"M1790.5,-544C1790.5,-544 1678.5,-544 1678.5,-544 1672.5,-544 1666.5,-538 1666.5,-532 1666.5,-532 1666.5,-473 1666.5,-473 1666.5,-467 1672.5,-461 1678.5,-461 1678.5,-461 1790.5,-461 1790.5,-461 1796.5,-461 1802.5,-467 1802.5,-473 1802.5,-473 1802.5,-532 1802.5,-532 1802.5,-538 1796.5,-544 1790.5,-544\"/>\n<text text-anchor=\"start\" x=\"1692\" y=\"-528.8\" font-family=\"Helvetica,sans-Serif\" font-size=\"14.00\">bath ≤ 3.25</text>\n<text text-anchor=\"start\" x=\"1690.5\" y=\"-513.8\" font-family=\"Helvetica,sans-Serif\" font-size=\"14.00\">gini = 0.124</text>\n<text text-anchor=\"start\" x=\"1686\" y=\"-498.8\" font-family=\"Helvetica,sans-Serif\" font-size=\"14.00\">samples = 15</text>\n<text text-anchor=\"start\" x=\"1681.5\" y=\"-483.8\" font-family=\"Helvetica,sans-Serif\" font-size=\"14.00\">value = [1, 14]</text>\n<text text-anchor=\"start\" x=\"1674.5\" y=\"-468.8\" font-family=\"Helvetica,sans-Serif\" font-size=\"14.00\">class = New York</text>\n</g>\n<!-- 34&#45;&gt;35 -->\n<g id=\"edge35\" class=\"edge\">\n<title>34&#45;&gt;35</title>\n<path fill=\"none\" stroke=\"black\" d=\"M1734.5,-579.91C1734.5,-571.65 1734.5,-562.86 1734.5,-554.3\"/>\n<polygon fill=\"black\" stroke=\"black\" points=\"1738,-554.02 1734.5,-544.02 1731,-554.02 1738,-554.02\"/>\n</g>\n<!-- 40 -->\n<g id=\"node41\" class=\"node\">\n<title>40</title>\n<path fill=\"#deeffb\" stroke=\"black\" d=\"M1944.5,-544C1944.5,-544 1832.5,-544 1832.5,-544 1826.5,-544 1820.5,-538 1820.5,-532 1820.5,-532 1820.5,-473 1820.5,-473 1820.5,-467 1826.5,-461 1832.5,-461 1832.5,-461 1944.5,-461 1944.5,-461 1950.5,-461 1956.5,-467 1956.5,-473 1956.5,-473 1956.5,-532 1956.5,-532 1956.5,-538 1950.5,-544 1944.5,-544\"/>\n<text text-anchor=\"start\" x=\"1849.5\" y=\"-528.8\" font-family=\"Helvetica,sans-Serif\" font-size=\"14.00\">beds ≤ 7.0</text>\n<text text-anchor=\"start\" x=\"1844.5\" y=\"-513.8\" font-family=\"Helvetica,sans-Serif\" font-size=\"14.00\">gini = 0.496</text>\n<text text-anchor=\"start\" x=\"1840\" y=\"-498.8\" font-family=\"Helvetica,sans-Serif\" font-size=\"14.00\">samples = 22</text>\n<text text-anchor=\"start\" x=\"1831\" y=\"-483.8\" font-family=\"Helvetica,sans-Serif\" font-size=\"14.00\">value = [10, 12]</text>\n<text text-anchor=\"start\" x=\"1828.5\" y=\"-468.8\" font-family=\"Helvetica,sans-Serif\" font-size=\"14.00\">class = New York</text>\n</g>\n<!-- 34&#45;&gt;40 -->\n<g id=\"edge40\" class=\"edge\">\n<title>34&#45;&gt;40</title>\n<path fill=\"none\" stroke=\"black\" d=\"M1787.93,-579.91C1800.59,-570.29 1814.19,-559.95 1827.18,-550.09\"/>\n<polygon fill=\"black\" stroke=\"black\" points=\"1829.32,-552.86 1835.16,-544.02 1825.08,-547.28 1829.32,-552.86\"/>\n</g>\n<!-- 36 -->\n<g id=\"node37\" class=\"node\">\n<title>36</title>\n<path fill=\"#5aade9\" stroke=\"black\" d=\"M1636.5,-425C1636.5,-425 1524.5,-425 1524.5,-425 1518.5,-425 1512.5,-419 1512.5,-413 1512.5,-413 1512.5,-354 1512.5,-354 1512.5,-348 1518.5,-342 1524.5,-342 1524.5,-342 1636.5,-342 1636.5,-342 1642.5,-342 1648.5,-348 1648.5,-354 1648.5,-354 1648.5,-413 1648.5,-413 1648.5,-419 1642.5,-425 1636.5,-425\"/>\n<text text-anchor=\"start\" x=\"1541.5\" y=\"-409.8\" font-family=\"Helvetica,sans-Serif\" font-size=\"14.00\">beds ≤ 4.5</text>\n<text text-anchor=\"start\" x=\"1536.5\" y=\"-394.8\" font-family=\"Helvetica,sans-Serif\" font-size=\"14.00\">gini = 0.245</text>\n<text text-anchor=\"start\" x=\"1536.5\" y=\"-379.8\" font-family=\"Helvetica,sans-Serif\" font-size=\"14.00\">samples = 7</text>\n<text text-anchor=\"start\" x=\"1532\" y=\"-364.8\" font-family=\"Helvetica,sans-Serif\" font-size=\"14.00\">value = [1, 6]</text>\n<text text-anchor=\"start\" x=\"1520.5\" y=\"-349.8\" font-family=\"Helvetica,sans-Serif\" font-size=\"14.00\">class = New York</text>\n</g>\n<!-- 35&#45;&gt;36 -->\n<g id=\"edge36\" class=\"edge\">\n<title>35&#45;&gt;36</title>\n<path fill=\"none\" stroke=\"black\" d=\"M1681.07,-460.91C1668.41,-451.29 1654.81,-440.95 1641.82,-431.09\"/>\n<polygon fill=\"black\" stroke=\"black\" points=\"1643.92,-428.28 1633.84,-425.02 1639.68,-433.86 1643.92,-428.28\"/>\n</g>\n<!-- 39 -->\n<g id=\"node40\" class=\"node\">\n<title>39</title>\n<path fill=\"#399de5\" stroke=\"black\" d=\"M1790.5,-417.5C1790.5,-417.5 1678.5,-417.5 1678.5,-417.5 1672.5,-417.5 1666.5,-411.5 1666.5,-405.5 1666.5,-405.5 1666.5,-361.5 1666.5,-361.5 1666.5,-355.5 1672.5,-349.5 1678.5,-349.5 1678.5,-349.5 1790.5,-349.5 1790.5,-349.5 1796.5,-349.5 1802.5,-355.5 1802.5,-361.5 1802.5,-361.5 1802.5,-405.5 1802.5,-405.5 1802.5,-411.5 1796.5,-417.5 1790.5,-417.5\"/>\n<text text-anchor=\"start\" x=\"1699.5\" y=\"-402.3\" font-family=\"Helvetica,sans-Serif\" font-size=\"14.00\">gini = 0.0</text>\n<text text-anchor=\"start\" x=\"1690.5\" y=\"-387.3\" font-family=\"Helvetica,sans-Serif\" font-size=\"14.00\">samples = 8</text>\n<text text-anchor=\"start\" x=\"1686\" y=\"-372.3\" font-family=\"Helvetica,sans-Serif\" font-size=\"14.00\">value = [0, 8]</text>\n<text text-anchor=\"start\" x=\"1674.5\" y=\"-357.3\" font-family=\"Helvetica,sans-Serif\" font-size=\"14.00\">class = New York</text>\n</g>\n<!-- 35&#45;&gt;39 -->\n<g id=\"edge39\" class=\"edge\">\n<title>35&#45;&gt;39</title>\n<path fill=\"none\" stroke=\"black\" d=\"M1734.5,-460.91C1734.5,-450.2 1734.5,-438.62 1734.5,-427.78\"/>\n<polygon fill=\"black\" stroke=\"black\" points=\"1738,-427.67 1734.5,-417.67 1731,-427.67 1738,-427.67\"/>\n</g>\n<!-- 37 -->\n<g id=\"node38\" class=\"node\">\n<title>37</title>\n<path fill=\"#6ab6ec\" stroke=\"black\" d=\"M1482.5,-298.5C1482.5,-298.5 1370.5,-298.5 1370.5,-298.5 1364.5,-298.5 1358.5,-292.5 1358.5,-286.5 1358.5,-286.5 1358.5,-242.5 1358.5,-242.5 1358.5,-236.5 1364.5,-230.5 1370.5,-230.5 1370.5,-230.5 1482.5,-230.5 1482.5,-230.5 1488.5,-230.5 1494.5,-236.5 1494.5,-242.5 1494.5,-242.5 1494.5,-286.5 1494.5,-286.5 1494.5,-292.5 1488.5,-298.5 1482.5,-298.5\"/>\n<text text-anchor=\"start\" x=\"1387\" y=\"-283.3\" font-family=\"Helvetica,sans-Serif\" font-size=\"14.00\">gini = 0.32</text>\n<text text-anchor=\"start\" x=\"1382.5\" y=\"-268.3\" font-family=\"Helvetica,sans-Serif\" font-size=\"14.00\">samples = 5</text>\n<text text-anchor=\"start\" x=\"1378\" y=\"-253.3\" font-family=\"Helvetica,sans-Serif\" font-size=\"14.00\">value = [1, 4]</text>\n<text text-anchor=\"start\" x=\"1366.5\" y=\"-238.3\" font-family=\"Helvetica,sans-Serif\" font-size=\"14.00\">class = New York</text>\n</g>\n<!-- 36&#45;&gt;37 -->\n<g id=\"edge37\" class=\"edge\">\n<title>36&#45;&gt;37</title>\n<path fill=\"none\" stroke=\"black\" d=\"M1527.07,-341.91C1511.24,-329.88 1493.94,-316.73 1478.22,-304.79\"/>\n<polygon fill=\"black\" stroke=\"black\" points=\"1480.24,-301.93 1470.16,-298.67 1476,-307.5 1480.24,-301.93\"/>\n</g>\n<!-- 38 -->\n<g id=\"node39\" class=\"node\">\n<title>38</title>\n<path fill=\"#399de5\" stroke=\"black\" d=\"M1636.5,-298.5C1636.5,-298.5 1524.5,-298.5 1524.5,-298.5 1518.5,-298.5 1512.5,-292.5 1512.5,-286.5 1512.5,-286.5 1512.5,-242.5 1512.5,-242.5 1512.5,-236.5 1518.5,-230.5 1524.5,-230.5 1524.5,-230.5 1636.5,-230.5 1636.5,-230.5 1642.5,-230.5 1648.5,-236.5 1648.5,-242.5 1648.5,-242.5 1648.5,-286.5 1648.5,-286.5 1648.5,-292.5 1642.5,-298.5 1636.5,-298.5\"/>\n<text text-anchor=\"start\" x=\"1545.5\" y=\"-283.3\" font-family=\"Helvetica,sans-Serif\" font-size=\"14.00\">gini = 0.0</text>\n<text text-anchor=\"start\" x=\"1536.5\" y=\"-268.3\" font-family=\"Helvetica,sans-Serif\" font-size=\"14.00\">samples = 2</text>\n<text text-anchor=\"start\" x=\"1532\" y=\"-253.3\" font-family=\"Helvetica,sans-Serif\" font-size=\"14.00\">value = [0, 2]</text>\n<text text-anchor=\"start\" x=\"1520.5\" y=\"-238.3\" font-family=\"Helvetica,sans-Serif\" font-size=\"14.00\">class = New York</text>\n</g>\n<!-- 36&#45;&gt;38 -->\n<g id=\"edge38\" class=\"edge\">\n<title>36&#45;&gt;38</title>\n<path fill=\"none\" stroke=\"black\" d=\"M1580.5,-341.91C1580.5,-331.2 1580.5,-319.62 1580.5,-308.78\"/>\n<polygon fill=\"black\" stroke=\"black\" points=\"1584,-308.67 1580.5,-298.67 1577,-308.67 1584,-308.67\"/>\n</g>\n<!-- 41 -->\n<g id=\"node42\" class=\"node\">\n<title>41</title>\n<path fill=\"#bddef6\" stroke=\"black\" d=\"M1944.5,-425C1944.5,-425 1832.5,-425 1832.5,-425 1826.5,-425 1820.5,-419 1820.5,-413 1820.5,-413 1820.5,-354 1820.5,-354 1820.5,-348 1826.5,-342 1832.5,-342 1832.5,-342 1944.5,-342 1944.5,-342 1950.5,-342 1956.5,-348 1956.5,-354 1956.5,-354 1956.5,-413 1956.5,-413 1956.5,-419 1950.5,-425 1944.5,-425\"/>\n<text text-anchor=\"start\" x=\"1846\" y=\"-409.8\" font-family=\"Helvetica,sans-Serif\" font-size=\"14.00\">bath ≤ 5.25</text>\n<text text-anchor=\"start\" x=\"1849\" y=\"-394.8\" font-family=\"Helvetica,sans-Serif\" font-size=\"14.00\">gini = 0.48</text>\n<text text-anchor=\"start\" x=\"1840\" y=\"-379.8\" font-family=\"Helvetica,sans-Serif\" font-size=\"14.00\">samples = 20</text>\n<text text-anchor=\"start\" x=\"1835.5\" y=\"-364.8\" font-family=\"Helvetica,sans-Serif\" font-size=\"14.00\">value = [8, 12]</text>\n<text text-anchor=\"start\" x=\"1828.5\" y=\"-349.8\" font-family=\"Helvetica,sans-Serif\" font-size=\"14.00\">class = New York</text>\n</g>\n<!-- 40&#45;&gt;41 -->\n<g id=\"edge41\" class=\"edge\">\n<title>40&#45;&gt;41</title>\n<path fill=\"none\" stroke=\"black\" d=\"M1888.5,-460.91C1888.5,-452.65 1888.5,-443.86 1888.5,-435.3\"/>\n<polygon fill=\"black\" stroke=\"black\" points=\"1892,-435.02 1888.5,-425.02 1885,-435.02 1892,-435.02\"/>\n</g>\n<!-- 50 -->\n<g id=\"node51\" class=\"node\">\n<title>50</title>\n<path fill=\"#e58139\" stroke=\"black\" d=\"M2130,-417.5C2130,-417.5 1987,-417.5 1987,-417.5 1981,-417.5 1975,-411.5 1975,-405.5 1975,-405.5 1975,-361.5 1975,-361.5 1975,-355.5 1981,-349.5 1987,-349.5 1987,-349.5 2130,-349.5 2130,-349.5 2136,-349.5 2142,-355.5 2142,-361.5 2142,-361.5 2142,-405.5 2142,-405.5 2142,-411.5 2136,-417.5 2130,-417.5\"/>\n<text text-anchor=\"start\" x=\"2023.5\" y=\"-402.3\" font-family=\"Helvetica,sans-Serif\" font-size=\"14.00\">gini = 0.0</text>\n<text text-anchor=\"start\" x=\"2014.5\" y=\"-387.3\" font-family=\"Helvetica,sans-Serif\" font-size=\"14.00\">samples = 2</text>\n<text text-anchor=\"start\" x=\"2010\" y=\"-372.3\" font-family=\"Helvetica,sans-Serif\" font-size=\"14.00\">value = [2, 0]</text>\n<text text-anchor=\"start\" x=\"1983\" y=\"-357.3\" font-family=\"Helvetica,sans-Serif\" font-size=\"14.00\">class = San Francisco</text>\n</g>\n<!-- 40&#45;&gt;50 -->\n<g id=\"edge50\" class=\"edge\">\n<title>40&#45;&gt;50</title>\n<path fill=\"none\" stroke=\"black\" d=\"M1947.48,-460.91C1965.12,-448.77 1984.41,-435.49 2001.89,-423.46\"/>\n<polygon fill=\"black\" stroke=\"black\" points=\"2004.06,-426.22 2010.31,-417.67 2000.09,-420.45 2004.06,-426.22\"/>\n</g>\n<!-- 42 -->\n<g id=\"node43\" class=\"node\">\n<title>42</title>\n<path fill=\"#e9f4fc\" stroke=\"black\" d=\"M1867.5,-306C1867.5,-306 1755.5,-306 1755.5,-306 1749.5,-306 1743.5,-300 1743.5,-294 1743.5,-294 1743.5,-235 1743.5,-235 1743.5,-229 1749.5,-223 1755.5,-223 1755.5,-223 1867.5,-223 1867.5,-223 1873.5,-223 1879.5,-229 1879.5,-235 1879.5,-235 1879.5,-294 1879.5,-294 1879.5,-300 1873.5,-306 1867.5,-306\"/>\n<text text-anchor=\"start\" x=\"1769\" y=\"-290.8\" font-family=\"Helvetica,sans-Serif\" font-size=\"14.00\">bath ≤ 4.75</text>\n<text text-anchor=\"start\" x=\"1767.5\" y=\"-275.8\" font-family=\"Helvetica,sans-Serif\" font-size=\"14.00\">gini = 0.498</text>\n<text text-anchor=\"start\" x=\"1763\" y=\"-260.8\" font-family=\"Helvetica,sans-Serif\" font-size=\"14.00\">samples = 17</text>\n<text text-anchor=\"start\" x=\"1763\" y=\"-245.8\" font-family=\"Helvetica,sans-Serif\" font-size=\"14.00\">value = [8, 9]</text>\n<text text-anchor=\"start\" x=\"1751.5\" y=\"-230.8\" font-family=\"Helvetica,sans-Serif\" font-size=\"14.00\">class = New York</text>\n</g>\n<!-- 41&#45;&gt;42 -->\n<g id=\"edge42\" class=\"edge\">\n<title>41&#45;&gt;42</title>\n<path fill=\"none\" stroke=\"black\" d=\"M1861.79,-341.91C1855.99,-333.1 1849.8,-323.7 1843.82,-314.61\"/>\n<polygon fill=\"black\" stroke=\"black\" points=\"1846.59,-312.45 1838.17,-306.02 1840.74,-316.3 1846.59,-312.45\"/>\n</g>\n<!-- 49 -->\n<g id=\"node50\" class=\"node\">\n<title>49</title>\n<path fill=\"#399de5\" stroke=\"black\" d=\"M2021.5,-298.5C2021.5,-298.5 1909.5,-298.5 1909.5,-298.5 1903.5,-298.5 1897.5,-292.5 1897.5,-286.5 1897.5,-286.5 1897.5,-242.5 1897.5,-242.5 1897.5,-236.5 1903.5,-230.5 1909.5,-230.5 1909.5,-230.5 2021.5,-230.5 2021.5,-230.5 2027.5,-230.5 2033.5,-236.5 2033.5,-242.5 2033.5,-242.5 2033.5,-286.5 2033.5,-286.5 2033.5,-292.5 2027.5,-298.5 2021.5,-298.5\"/>\n<text text-anchor=\"start\" x=\"1930.5\" y=\"-283.3\" font-family=\"Helvetica,sans-Serif\" font-size=\"14.00\">gini = 0.0</text>\n<text text-anchor=\"start\" x=\"1921.5\" y=\"-268.3\" font-family=\"Helvetica,sans-Serif\" font-size=\"14.00\">samples = 3</text>\n<text text-anchor=\"start\" x=\"1917\" y=\"-253.3\" font-family=\"Helvetica,sans-Serif\" font-size=\"14.00\">value = [0, 3]</text>\n<text text-anchor=\"start\" x=\"1905.5\" y=\"-238.3\" font-family=\"Helvetica,sans-Serif\" font-size=\"14.00\">class = New York</text>\n</g>\n<!-- 41&#45;&gt;49 -->\n<g id=\"edge49\" class=\"edge\">\n<title>41&#45;&gt;49</title>\n<path fill=\"none\" stroke=\"black\" d=\"M1915.21,-341.91C1922.62,-330.65 1930.67,-318.42 1938.12,-307.11\"/>\n<polygon fill=\"black\" stroke=\"black\" points=\"1941.1,-308.94 1943.67,-298.67 1935.25,-305.1 1941.1,-308.94\"/>\n</g>\n<!-- 43 -->\n<g id=\"node44\" class=\"node\">\n<title>43</title>\n<path fill=\"#9ccef2\" stroke=\"black\" d=\"M1782.5,-187C1782.5,-187 1670.5,-187 1670.5,-187 1664.5,-187 1658.5,-181 1658.5,-175 1658.5,-175 1658.5,-116 1658.5,-116 1658.5,-110 1664.5,-104 1670.5,-104 1670.5,-104 1782.5,-104 1782.5,-104 1788.5,-104 1794.5,-110 1794.5,-116 1794.5,-116 1794.5,-175 1794.5,-175 1794.5,-181 1788.5,-187 1782.5,-187\"/>\n<text text-anchor=\"start\" x=\"1684\" y=\"-171.8\" font-family=\"Helvetica,sans-Serif\" font-size=\"14.00\">bath ≤ 4.25</text>\n<text text-anchor=\"start\" x=\"1682.5\" y=\"-156.8\" font-family=\"Helvetica,sans-Serif\" font-size=\"14.00\">gini = 0.444</text>\n<text text-anchor=\"start\" x=\"1678\" y=\"-141.8\" font-family=\"Helvetica,sans-Serif\" font-size=\"14.00\">samples = 12</text>\n<text text-anchor=\"start\" x=\"1678\" y=\"-126.8\" font-family=\"Helvetica,sans-Serif\" font-size=\"14.00\">value = [4, 8]</text>\n<text text-anchor=\"start\" x=\"1666.5\" y=\"-111.8\" font-family=\"Helvetica,sans-Serif\" font-size=\"14.00\">class = New York</text>\n</g>\n<!-- 42&#45;&gt;43 -->\n<g id=\"edge43\" class=\"edge\">\n<title>42&#45;&gt;43</title>\n<path fill=\"none\" stroke=\"black\" d=\"M1782.01,-222.91C1775.55,-214.01 1768.64,-204.51 1761.98,-195.33\"/>\n<polygon fill=\"black\" stroke=\"black\" points=\"1764.65,-193.05 1755.94,-187.02 1758.98,-197.17 1764.65,-193.05\"/>\n</g>\n<!-- 46 -->\n<g id=\"node47\" class=\"node\">\n<title>46</title>\n<path fill=\"#eca06a\" stroke=\"black\" d=\"M1968,-187C1968,-187 1825,-187 1825,-187 1819,-187 1813,-181 1813,-175 1813,-175 1813,-116 1813,-116 1813,-110 1819,-104 1825,-104 1825,-104 1968,-104 1968,-104 1974,-104 1980,-110 1980,-116 1980,-116 1980,-175 1980,-175 1980,-181 1974,-187 1968,-187\"/>\n<text text-anchor=\"start\" x=\"1857.5\" y=\"-171.8\" font-family=\"Helvetica,sans-Serif\" font-size=\"14.00\">beds ≤ 4.5</text>\n<text text-anchor=\"start\" x=\"1857\" y=\"-156.8\" font-family=\"Helvetica,sans-Serif\" font-size=\"14.00\">gini = 0.32</text>\n<text text-anchor=\"start\" x=\"1852.5\" y=\"-141.8\" font-family=\"Helvetica,sans-Serif\" font-size=\"14.00\">samples = 5</text>\n<text text-anchor=\"start\" x=\"1848\" y=\"-126.8\" font-family=\"Helvetica,sans-Serif\" font-size=\"14.00\">value = [4, 1]</text>\n<text text-anchor=\"start\" x=\"1821\" y=\"-111.8\" font-family=\"Helvetica,sans-Serif\" font-size=\"14.00\">class = San Francisco</text>\n</g>\n<!-- 42&#45;&gt;46 -->\n<g id=\"edge46\" class=\"edge\">\n<title>42&#45;&gt;46</title>\n<path fill=\"none\" stroke=\"black\" d=\"M1840.99,-222.91C1847.45,-214.01 1854.36,-204.51 1861.02,-195.33\"/>\n<polygon fill=\"black\" stroke=\"black\" points=\"1864.02,-197.17 1867.06,-187.02 1858.35,-193.05 1864.02,-197.17\"/>\n</g>\n<!-- 44 -->\n<g id=\"node45\" class=\"node\">\n<title>44</title>\n<path fill=\"#aad5f4\" stroke=\"black\" d=\"M1628.5,-68C1628.5,-68 1516.5,-68 1516.5,-68 1510.5,-68 1504.5,-62 1504.5,-56 1504.5,-56 1504.5,-12 1504.5,-12 1504.5,-6 1510.5,0 1516.5,0 1516.5,0 1628.5,0 1628.5,0 1634.5,0 1640.5,-6 1640.5,-12 1640.5,-12 1640.5,-56 1640.5,-56 1640.5,-62 1634.5,-68 1628.5,-68\"/>\n<text text-anchor=\"start\" x=\"1528.5\" y=\"-52.8\" font-family=\"Helvetica,sans-Serif\" font-size=\"14.00\">gini = 0.463</text>\n<text text-anchor=\"start\" x=\"1524\" y=\"-37.8\" font-family=\"Helvetica,sans-Serif\" font-size=\"14.00\">samples = 11</text>\n<text text-anchor=\"start\" x=\"1524\" y=\"-22.8\" font-family=\"Helvetica,sans-Serif\" font-size=\"14.00\">value = [4, 7]</text>\n<text text-anchor=\"start\" x=\"1512.5\" y=\"-7.8\" font-family=\"Helvetica,sans-Serif\" font-size=\"14.00\">class = New York</text>\n</g>\n<!-- 43&#45;&gt;44 -->\n<g id=\"edge44\" class=\"edge\">\n<title>43&#45;&gt;44</title>\n<path fill=\"none\" stroke=\"black\" d=\"M1669.16,-103.73C1655.56,-94.06 1641.09,-83.77 1627.59,-74.17\"/>\n<polygon fill=\"black\" stroke=\"black\" points=\"1629.51,-71.24 1619.33,-68.3 1625.45,-76.95 1629.51,-71.24\"/>\n</g>\n<!-- 45 -->\n<g id=\"node46\" class=\"node\">\n<title>45</title>\n<path fill=\"#399de5\" stroke=\"black\" d=\"M1782.5,-68C1782.5,-68 1670.5,-68 1670.5,-68 1664.5,-68 1658.5,-62 1658.5,-56 1658.5,-56 1658.5,-12 1658.5,-12 1658.5,-6 1664.5,0 1670.5,0 1670.5,0 1782.5,0 1782.5,0 1788.5,0 1794.5,-6 1794.5,-12 1794.5,-12 1794.5,-56 1794.5,-56 1794.5,-62 1788.5,-68 1782.5,-68\"/>\n<text text-anchor=\"start\" x=\"1691.5\" y=\"-52.8\" font-family=\"Helvetica,sans-Serif\" font-size=\"14.00\">gini = 0.0</text>\n<text text-anchor=\"start\" x=\"1682.5\" y=\"-37.8\" font-family=\"Helvetica,sans-Serif\" font-size=\"14.00\">samples = 1</text>\n<text text-anchor=\"start\" x=\"1678\" y=\"-22.8\" font-family=\"Helvetica,sans-Serif\" font-size=\"14.00\">value = [0, 1]</text>\n<text text-anchor=\"start\" x=\"1666.5\" y=\"-7.8\" font-family=\"Helvetica,sans-Serif\" font-size=\"14.00\">class = New York</text>\n</g>\n<!-- 43&#45;&gt;45 -->\n<g id=\"edge45\" class=\"edge\">\n<title>43&#45;&gt;45</title>\n<path fill=\"none\" stroke=\"black\" d=\"M1726.5,-103.73C1726.5,-95.52 1726.5,-86.86 1726.5,-78.56\"/>\n<polygon fill=\"black\" stroke=\"black\" points=\"1730,-78.3 1726.5,-68.3 1723,-78.3 1730,-78.3\"/>\n</g>\n<!-- 47 -->\n<g id=\"node48\" class=\"node\">\n<title>47</title>\n<path fill=\"#e58139\" stroke=\"black\" d=\"M1968,-68C1968,-68 1825,-68 1825,-68 1819,-68 1813,-62 1813,-56 1813,-56 1813,-12 1813,-12 1813,-6 1819,0 1825,0 1825,0 1968,0 1968,0 1974,0 1980,-6 1980,-12 1980,-12 1980,-56 1980,-56 1980,-62 1974,-68 1968,-68\"/>\n<text text-anchor=\"start\" x=\"1861.5\" y=\"-52.8\" font-family=\"Helvetica,sans-Serif\" font-size=\"14.00\">gini = 0.0</text>\n<text text-anchor=\"start\" x=\"1852.5\" y=\"-37.8\" font-family=\"Helvetica,sans-Serif\" font-size=\"14.00\">samples = 1</text>\n<text text-anchor=\"start\" x=\"1848\" y=\"-22.8\" font-family=\"Helvetica,sans-Serif\" font-size=\"14.00\">value = [1, 0]</text>\n<text text-anchor=\"start\" x=\"1821\" y=\"-7.8\" font-family=\"Helvetica,sans-Serif\" font-size=\"14.00\">class = San Francisco</text>\n</g>\n<!-- 46&#45;&gt;47 -->\n<g id=\"edge47\" class=\"edge\">\n<title>46&#45;&gt;47</title>\n<path fill=\"none\" stroke=\"black\" d=\"M1896.5,-103.73C1896.5,-95.52 1896.5,-86.86 1896.5,-78.56\"/>\n<polygon fill=\"black\" stroke=\"black\" points=\"1900,-78.3 1896.5,-68.3 1893,-78.3 1900,-78.3\"/>\n</g>\n<!-- 48 -->\n<g id=\"node49\" class=\"node\">\n<title>48</title>\n<path fill=\"#eeab7b\" stroke=\"black\" d=\"M2153,-68C2153,-68 2010,-68 2010,-68 2004,-68 1998,-62 1998,-56 1998,-56 1998,-12 1998,-12 1998,-6 2004,0 2010,0 2010,0 2153,0 2153,0 2159,0 2165,-6 2165,-12 2165,-12 2165,-56 2165,-56 2165,-62 2159,-68 2153,-68\"/>\n<text text-anchor=\"start\" x=\"2037.5\" y=\"-52.8\" font-family=\"Helvetica,sans-Serif\" font-size=\"14.00\">gini = 0.375</text>\n<text text-anchor=\"start\" x=\"2037.5\" y=\"-37.8\" font-family=\"Helvetica,sans-Serif\" font-size=\"14.00\">samples = 4</text>\n<text text-anchor=\"start\" x=\"2033\" y=\"-22.8\" font-family=\"Helvetica,sans-Serif\" font-size=\"14.00\">value = [3, 1]</text>\n<text text-anchor=\"start\" x=\"2006\" y=\"-7.8\" font-family=\"Helvetica,sans-Serif\" font-size=\"14.00\">class = San Francisco</text>\n</g>\n<!-- 46&#45;&gt;48 -->\n<g id=\"edge48\" class=\"edge\">\n<title>46&#45;&gt;48</title>\n<path fill=\"none\" stroke=\"black\" d=\"M1965.12,-103.88C1982.11,-93.83 2000.25,-83.09 2017.03,-73.16\"/>\n<polygon fill=\"black\" stroke=\"black\" points=\"2018.85,-76.15 2025.67,-68.04 2015.29,-70.12 2018.85,-76.15\"/>\n</g>\n</g>\n</svg>\n",
      "text/plain": [
       "<graphviz.sources.Source at 0x7a2cfa3513d0>"
      ]
     },
     "execution_count": 10,
     "metadata": {},
     "output_type": "execute_result"
    }
   ],
   "execution_count": 10
  },
  {
   "cell_type": "markdown",
   "metadata": {},
   "source": [
    "Maak nu zelf een betere beslisboom. Het is dus de bedoeling om een hogere accuracy te krijgen! \n",
    "\n",
    "Denk aan het toevoegen van features, aanpassen van hyperparameters, etc."
   ]
  },
  {
   "cell_type": "markdown",
   "metadata": {},
   "source": [
    "Selecteer de _features_ en de target _classes_."
   ]
  },
  {
   "cell_type": "code",
   "metadata": {
    "scrolled": true,
    "tags": [
     "student"
    ],
    "ExecuteTime": {
     "end_time": "2024-10-01T13:50:08.698913Z",
     "start_time": "2024-10-01T13:50:08.695380Z"
    }
   },
   "source": [
    "df = pd.read_csv(\"decision_trees_homes_ny_sf.csv\", sep=\",\")\n",
    "f_names = [\"beds\", \"bath\", \"price\", \"year_built\", \"sqft\", \"price_per_sqft\", \"elevation\"]\n",
    "t_names = [\"San Francisco\", \"New York\"]\n",
    "features = df[f_names]\n",
    "target = df[\"in_sf\"]"
   ],
   "outputs": [],
   "execution_count": 11
  },
  {
   "cell_type": "markdown",
   "metadata": {},
   "source": [
    "Opdelen in een train- en een testset."
   ]
  },
  {
   "cell_type": "code",
   "metadata": {
    "tags": [
     "student"
    ],
    "ExecuteTime": {
     "end_time": "2024-10-01T13:50:08.756686Z",
     "start_time": "2024-10-01T13:50:08.753058Z"
    }
   },
   "source": [
    "features_train, features_test, target_train, target_test = train_test_split(features, target, random_state=10)"
   ],
   "outputs": [],
   "execution_count": 12
  },
  {
   "cell_type": "markdown",
   "metadata": {},
   "source": [
    "Maak een _decision tree_ model, train deze en bereken de voorspellende waarde."
   ]
  },
  {
   "cell_type": "code",
   "metadata": {
    "tags": [
     "student"
    ],
    "ExecuteTime": {
     "end_time": "2024-10-01T13:50:08.808807Z",
     "start_time": "2024-10-01T13:50:08.804102Z"
    }
   },
   "source": [
    "model = DecisionTreeClassifier(criterion=\"entropy\", max_depth=6)\n",
    "model.fit(features_train, target_train) "
   ],
   "outputs": [
    {
     "data": {
      "text/plain": [
       "DecisionTreeClassifier(criterion='entropy', max_depth=6)"
      ],
      "text/html": [
       "<style>#sk-container-id-2 {\n",
       "  /* Definition of color scheme common for light and dark mode */\n",
       "  --sklearn-color-text: black;\n",
       "  --sklearn-color-line: gray;\n",
       "  /* Definition of color scheme for unfitted estimators */\n",
       "  --sklearn-color-unfitted-level-0: #fff5e6;\n",
       "  --sklearn-color-unfitted-level-1: #f6e4d2;\n",
       "  --sklearn-color-unfitted-level-2: #ffe0b3;\n",
       "  --sklearn-color-unfitted-level-3: chocolate;\n",
       "  /* Definition of color scheme for fitted estimators */\n",
       "  --sklearn-color-fitted-level-0: #f0f8ff;\n",
       "  --sklearn-color-fitted-level-1: #d4ebff;\n",
       "  --sklearn-color-fitted-level-2: #b3dbfd;\n",
       "  --sklearn-color-fitted-level-3: cornflowerblue;\n",
       "\n",
       "  /* Specific color for light theme */\n",
       "  --sklearn-color-text-on-default-background: var(--sg-text-color, var(--theme-code-foreground, var(--jp-content-font-color1, black)));\n",
       "  --sklearn-color-background: var(--sg-background-color, var(--theme-background, var(--jp-layout-color0, white)));\n",
       "  --sklearn-color-border-box: var(--sg-text-color, var(--theme-code-foreground, var(--jp-content-font-color1, black)));\n",
       "  --sklearn-color-icon: #696969;\n",
       "\n",
       "  @media (prefers-color-scheme: dark) {\n",
       "    /* Redefinition of color scheme for dark theme */\n",
       "    --sklearn-color-text-on-default-background: var(--sg-text-color, var(--theme-code-foreground, var(--jp-content-font-color1, white)));\n",
       "    --sklearn-color-background: var(--sg-background-color, var(--theme-background, var(--jp-layout-color0, #111)));\n",
       "    --sklearn-color-border-box: var(--sg-text-color, var(--theme-code-foreground, var(--jp-content-font-color1, white)));\n",
       "    --sklearn-color-icon: #878787;\n",
       "  }\n",
       "}\n",
       "\n",
       "#sk-container-id-2 {\n",
       "  color: var(--sklearn-color-text);\n",
       "}\n",
       "\n",
       "#sk-container-id-2 pre {\n",
       "  padding: 0;\n",
       "}\n",
       "\n",
       "#sk-container-id-2 input.sk-hidden--visually {\n",
       "  border: 0;\n",
       "  clip: rect(1px 1px 1px 1px);\n",
       "  clip: rect(1px, 1px, 1px, 1px);\n",
       "  height: 1px;\n",
       "  margin: -1px;\n",
       "  overflow: hidden;\n",
       "  padding: 0;\n",
       "  position: absolute;\n",
       "  width: 1px;\n",
       "}\n",
       "\n",
       "#sk-container-id-2 div.sk-dashed-wrapped {\n",
       "  border: 1px dashed var(--sklearn-color-line);\n",
       "  margin: 0 0.4em 0.5em 0.4em;\n",
       "  box-sizing: border-box;\n",
       "  padding-bottom: 0.4em;\n",
       "  background-color: var(--sklearn-color-background);\n",
       "}\n",
       "\n",
       "#sk-container-id-2 div.sk-container {\n",
       "  /* jupyter's `normalize.less` sets `[hidden] { display: none; }`\n",
       "     but bootstrap.min.css set `[hidden] { display: none !important; }`\n",
       "     so we also need the `!important` here to be able to override the\n",
       "     default hidden behavior on the sphinx rendered scikit-learn.org.\n",
       "     See: https://github.com/scikit-learn/scikit-learn/issues/21755 */\n",
       "  display: inline-block !important;\n",
       "  position: relative;\n",
       "}\n",
       "\n",
       "#sk-container-id-2 div.sk-text-repr-fallback {\n",
       "  display: none;\n",
       "}\n",
       "\n",
       "div.sk-parallel-item,\n",
       "div.sk-serial,\n",
       "div.sk-item {\n",
       "  /* draw centered vertical line to link estimators */\n",
       "  background-image: linear-gradient(var(--sklearn-color-text-on-default-background), var(--sklearn-color-text-on-default-background));\n",
       "  background-size: 2px 100%;\n",
       "  background-repeat: no-repeat;\n",
       "  background-position: center center;\n",
       "}\n",
       "\n",
       "/* Parallel-specific style estimator block */\n",
       "\n",
       "#sk-container-id-2 div.sk-parallel-item::after {\n",
       "  content: \"\";\n",
       "  width: 100%;\n",
       "  border-bottom: 2px solid var(--sklearn-color-text-on-default-background);\n",
       "  flex-grow: 1;\n",
       "}\n",
       "\n",
       "#sk-container-id-2 div.sk-parallel {\n",
       "  display: flex;\n",
       "  align-items: stretch;\n",
       "  justify-content: center;\n",
       "  background-color: var(--sklearn-color-background);\n",
       "  position: relative;\n",
       "}\n",
       "\n",
       "#sk-container-id-2 div.sk-parallel-item {\n",
       "  display: flex;\n",
       "  flex-direction: column;\n",
       "}\n",
       "\n",
       "#sk-container-id-2 div.sk-parallel-item:first-child::after {\n",
       "  align-self: flex-end;\n",
       "  width: 50%;\n",
       "}\n",
       "\n",
       "#sk-container-id-2 div.sk-parallel-item:last-child::after {\n",
       "  align-self: flex-start;\n",
       "  width: 50%;\n",
       "}\n",
       "\n",
       "#sk-container-id-2 div.sk-parallel-item:only-child::after {\n",
       "  width: 0;\n",
       "}\n",
       "\n",
       "/* Serial-specific style estimator block */\n",
       "\n",
       "#sk-container-id-2 div.sk-serial {\n",
       "  display: flex;\n",
       "  flex-direction: column;\n",
       "  align-items: center;\n",
       "  background-color: var(--sklearn-color-background);\n",
       "  padding-right: 1em;\n",
       "  padding-left: 1em;\n",
       "}\n",
       "\n",
       "\n",
       "/* Toggleable style: style used for estimator/Pipeline/ColumnTransformer box that is\n",
       "clickable and can be expanded/collapsed.\n",
       "- Pipeline and ColumnTransformer use this feature and define the default style\n",
       "- Estimators will overwrite some part of the style using the `sk-estimator` class\n",
       "*/\n",
       "\n",
       "/* Pipeline and ColumnTransformer style (default) */\n",
       "\n",
       "#sk-container-id-2 div.sk-toggleable {\n",
       "  /* Default theme specific background. It is overwritten whether we have a\n",
       "  specific estimator or a Pipeline/ColumnTransformer */\n",
       "  background-color: var(--sklearn-color-background);\n",
       "}\n",
       "\n",
       "/* Toggleable label */\n",
       "#sk-container-id-2 label.sk-toggleable__label {\n",
       "  cursor: pointer;\n",
       "  display: block;\n",
       "  width: 100%;\n",
       "  margin-bottom: 0;\n",
       "  padding: 0.5em;\n",
       "  box-sizing: border-box;\n",
       "  text-align: center;\n",
       "}\n",
       "\n",
       "#sk-container-id-2 label.sk-toggleable__label-arrow:before {\n",
       "  /* Arrow on the left of the label */\n",
       "  content: \"▸\";\n",
       "  float: left;\n",
       "  margin-right: 0.25em;\n",
       "  color: var(--sklearn-color-icon);\n",
       "}\n",
       "\n",
       "#sk-container-id-2 label.sk-toggleable__label-arrow:hover:before {\n",
       "  color: var(--sklearn-color-text);\n",
       "}\n",
       "\n",
       "/* Toggleable content - dropdown */\n",
       "\n",
       "#sk-container-id-2 div.sk-toggleable__content {\n",
       "  max-height: 0;\n",
       "  max-width: 0;\n",
       "  overflow: hidden;\n",
       "  text-align: left;\n",
       "  /* unfitted */\n",
       "  background-color: var(--sklearn-color-unfitted-level-0);\n",
       "}\n",
       "\n",
       "#sk-container-id-2 div.sk-toggleable__content.fitted {\n",
       "  /* fitted */\n",
       "  background-color: var(--sklearn-color-fitted-level-0);\n",
       "}\n",
       "\n",
       "#sk-container-id-2 div.sk-toggleable__content pre {\n",
       "  margin: 0.2em;\n",
       "  border-radius: 0.25em;\n",
       "  color: var(--sklearn-color-text);\n",
       "  /* unfitted */\n",
       "  background-color: var(--sklearn-color-unfitted-level-0);\n",
       "}\n",
       "\n",
       "#sk-container-id-2 div.sk-toggleable__content.fitted pre {\n",
       "  /* unfitted */\n",
       "  background-color: var(--sklearn-color-fitted-level-0);\n",
       "}\n",
       "\n",
       "#sk-container-id-2 input.sk-toggleable__control:checked~div.sk-toggleable__content {\n",
       "  /* Expand drop-down */\n",
       "  max-height: 200px;\n",
       "  max-width: 100%;\n",
       "  overflow: auto;\n",
       "}\n",
       "\n",
       "#sk-container-id-2 input.sk-toggleable__control:checked~label.sk-toggleable__label-arrow:before {\n",
       "  content: \"▾\";\n",
       "}\n",
       "\n",
       "/* Pipeline/ColumnTransformer-specific style */\n",
       "\n",
       "#sk-container-id-2 div.sk-label input.sk-toggleable__control:checked~label.sk-toggleable__label {\n",
       "  color: var(--sklearn-color-text);\n",
       "  background-color: var(--sklearn-color-unfitted-level-2);\n",
       "}\n",
       "\n",
       "#sk-container-id-2 div.sk-label.fitted input.sk-toggleable__control:checked~label.sk-toggleable__label {\n",
       "  background-color: var(--sklearn-color-fitted-level-2);\n",
       "}\n",
       "\n",
       "/* Estimator-specific style */\n",
       "\n",
       "/* Colorize estimator box */\n",
       "#sk-container-id-2 div.sk-estimator input.sk-toggleable__control:checked~label.sk-toggleable__label {\n",
       "  /* unfitted */\n",
       "  background-color: var(--sklearn-color-unfitted-level-2);\n",
       "}\n",
       "\n",
       "#sk-container-id-2 div.sk-estimator.fitted input.sk-toggleable__control:checked~label.sk-toggleable__label {\n",
       "  /* fitted */\n",
       "  background-color: var(--sklearn-color-fitted-level-2);\n",
       "}\n",
       "\n",
       "#sk-container-id-2 div.sk-label label.sk-toggleable__label,\n",
       "#sk-container-id-2 div.sk-label label {\n",
       "  /* The background is the default theme color */\n",
       "  color: var(--sklearn-color-text-on-default-background);\n",
       "}\n",
       "\n",
       "/* On hover, darken the color of the background */\n",
       "#sk-container-id-2 div.sk-label:hover label.sk-toggleable__label {\n",
       "  color: var(--sklearn-color-text);\n",
       "  background-color: var(--sklearn-color-unfitted-level-2);\n",
       "}\n",
       "\n",
       "/* Label box, darken color on hover, fitted */\n",
       "#sk-container-id-2 div.sk-label.fitted:hover label.sk-toggleable__label.fitted {\n",
       "  color: var(--sklearn-color-text);\n",
       "  background-color: var(--sklearn-color-fitted-level-2);\n",
       "}\n",
       "\n",
       "/* Estimator label */\n",
       "\n",
       "#sk-container-id-2 div.sk-label label {\n",
       "  font-family: monospace;\n",
       "  font-weight: bold;\n",
       "  display: inline-block;\n",
       "  line-height: 1.2em;\n",
       "}\n",
       "\n",
       "#sk-container-id-2 div.sk-label-container {\n",
       "  text-align: center;\n",
       "}\n",
       "\n",
       "/* Estimator-specific */\n",
       "#sk-container-id-2 div.sk-estimator {\n",
       "  font-family: monospace;\n",
       "  border: 1px dotted var(--sklearn-color-border-box);\n",
       "  border-radius: 0.25em;\n",
       "  box-sizing: border-box;\n",
       "  margin-bottom: 0.5em;\n",
       "  /* unfitted */\n",
       "  background-color: var(--sklearn-color-unfitted-level-0);\n",
       "}\n",
       "\n",
       "#sk-container-id-2 div.sk-estimator.fitted {\n",
       "  /* fitted */\n",
       "  background-color: var(--sklearn-color-fitted-level-0);\n",
       "}\n",
       "\n",
       "/* on hover */\n",
       "#sk-container-id-2 div.sk-estimator:hover {\n",
       "  /* unfitted */\n",
       "  background-color: var(--sklearn-color-unfitted-level-2);\n",
       "}\n",
       "\n",
       "#sk-container-id-2 div.sk-estimator.fitted:hover {\n",
       "  /* fitted */\n",
       "  background-color: var(--sklearn-color-fitted-level-2);\n",
       "}\n",
       "\n",
       "/* Specification for estimator info (e.g. \"i\" and \"?\") */\n",
       "\n",
       "/* Common style for \"i\" and \"?\" */\n",
       "\n",
       ".sk-estimator-doc-link,\n",
       "a:link.sk-estimator-doc-link,\n",
       "a:visited.sk-estimator-doc-link {\n",
       "  float: right;\n",
       "  font-size: smaller;\n",
       "  line-height: 1em;\n",
       "  font-family: monospace;\n",
       "  background-color: var(--sklearn-color-background);\n",
       "  border-radius: 1em;\n",
       "  height: 1em;\n",
       "  width: 1em;\n",
       "  text-decoration: none !important;\n",
       "  margin-left: 1ex;\n",
       "  /* unfitted */\n",
       "  border: var(--sklearn-color-unfitted-level-1) 1pt solid;\n",
       "  color: var(--sklearn-color-unfitted-level-1);\n",
       "}\n",
       "\n",
       ".sk-estimator-doc-link.fitted,\n",
       "a:link.sk-estimator-doc-link.fitted,\n",
       "a:visited.sk-estimator-doc-link.fitted {\n",
       "  /* fitted */\n",
       "  border: var(--sklearn-color-fitted-level-1) 1pt solid;\n",
       "  color: var(--sklearn-color-fitted-level-1);\n",
       "}\n",
       "\n",
       "/* On hover */\n",
       "div.sk-estimator:hover .sk-estimator-doc-link:hover,\n",
       ".sk-estimator-doc-link:hover,\n",
       "div.sk-label-container:hover .sk-estimator-doc-link:hover,\n",
       ".sk-estimator-doc-link:hover {\n",
       "  /* unfitted */\n",
       "  background-color: var(--sklearn-color-unfitted-level-3);\n",
       "  color: var(--sklearn-color-background);\n",
       "  text-decoration: none;\n",
       "}\n",
       "\n",
       "div.sk-estimator.fitted:hover .sk-estimator-doc-link.fitted:hover,\n",
       ".sk-estimator-doc-link.fitted:hover,\n",
       "div.sk-label-container:hover .sk-estimator-doc-link.fitted:hover,\n",
       ".sk-estimator-doc-link.fitted:hover {\n",
       "  /* fitted */\n",
       "  background-color: var(--sklearn-color-fitted-level-3);\n",
       "  color: var(--sklearn-color-background);\n",
       "  text-decoration: none;\n",
       "}\n",
       "\n",
       "/* Span, style for the box shown on hovering the info icon */\n",
       ".sk-estimator-doc-link span {\n",
       "  display: none;\n",
       "  z-index: 9999;\n",
       "  position: relative;\n",
       "  font-weight: normal;\n",
       "  right: .2ex;\n",
       "  padding: .5ex;\n",
       "  margin: .5ex;\n",
       "  width: min-content;\n",
       "  min-width: 20ex;\n",
       "  max-width: 50ex;\n",
       "  color: var(--sklearn-color-text);\n",
       "  box-shadow: 2pt 2pt 4pt #999;\n",
       "  /* unfitted */\n",
       "  background: var(--sklearn-color-unfitted-level-0);\n",
       "  border: .5pt solid var(--sklearn-color-unfitted-level-3);\n",
       "}\n",
       "\n",
       ".sk-estimator-doc-link.fitted span {\n",
       "  /* fitted */\n",
       "  background: var(--sklearn-color-fitted-level-0);\n",
       "  border: var(--sklearn-color-fitted-level-3);\n",
       "}\n",
       "\n",
       ".sk-estimator-doc-link:hover span {\n",
       "  display: block;\n",
       "}\n",
       "\n",
       "/* \"?\"-specific style due to the `<a>` HTML tag */\n",
       "\n",
       "#sk-container-id-2 a.estimator_doc_link {\n",
       "  float: right;\n",
       "  font-size: 1rem;\n",
       "  line-height: 1em;\n",
       "  font-family: monospace;\n",
       "  background-color: var(--sklearn-color-background);\n",
       "  border-radius: 1rem;\n",
       "  height: 1rem;\n",
       "  width: 1rem;\n",
       "  text-decoration: none;\n",
       "  /* unfitted */\n",
       "  color: var(--sklearn-color-unfitted-level-1);\n",
       "  border: var(--sklearn-color-unfitted-level-1) 1pt solid;\n",
       "}\n",
       "\n",
       "#sk-container-id-2 a.estimator_doc_link.fitted {\n",
       "  /* fitted */\n",
       "  border: var(--sklearn-color-fitted-level-1) 1pt solid;\n",
       "  color: var(--sklearn-color-fitted-level-1);\n",
       "}\n",
       "\n",
       "/* On hover */\n",
       "#sk-container-id-2 a.estimator_doc_link:hover {\n",
       "  /* unfitted */\n",
       "  background-color: var(--sklearn-color-unfitted-level-3);\n",
       "  color: var(--sklearn-color-background);\n",
       "  text-decoration: none;\n",
       "}\n",
       "\n",
       "#sk-container-id-2 a.estimator_doc_link.fitted:hover {\n",
       "  /* fitted */\n",
       "  background-color: var(--sklearn-color-fitted-level-3);\n",
       "}\n",
       "</style><div id=\"sk-container-id-2\" class=\"sk-top-container\"><div class=\"sk-text-repr-fallback\"><pre>DecisionTreeClassifier(criterion=&#x27;entropy&#x27;, max_depth=6)</pre><b>In a Jupyter environment, please rerun this cell to show the HTML representation or trust the notebook. <br />On GitHub, the HTML representation is unable to render, please try loading this page with nbviewer.org.</b></div><div class=\"sk-container\" hidden><div class=\"sk-item\"><div class=\"sk-estimator fitted sk-toggleable\"><input class=\"sk-toggleable__control sk-hidden--visually\" id=\"sk-estimator-id-2\" type=\"checkbox\" checked><label for=\"sk-estimator-id-2\" class=\"sk-toggleable__label fitted sk-toggleable__label-arrow fitted\">&nbsp;&nbsp;DecisionTreeClassifier<a class=\"sk-estimator-doc-link fitted\" rel=\"noreferrer\" target=\"_blank\" href=\"https://scikit-learn.org/1.5/modules/generated/sklearn.tree.DecisionTreeClassifier.html\">?<span>Documentation for DecisionTreeClassifier</span></a><span class=\"sk-estimator-doc-link fitted\">i<span>Fitted</span></span></label><div class=\"sk-toggleable__content fitted\"><pre>DecisionTreeClassifier(criterion=&#x27;entropy&#x27;, max_depth=6)</pre></div> </div></div></div></div>"
      ]
     },
     "execution_count": 13,
     "metadata": {},
     "output_type": "execute_result"
    }
   ],
   "execution_count": 13
  },
  {
   "cell_type": "markdown",
   "metadata": {},
   "source": [
    "Visualisatie van de decision tree met GraphViz."
   ]
  },
  {
   "cell_type": "code",
   "metadata": {
    "tags": [
     "student"
    ],
    "ExecuteTime": {
     "end_time": "2024-10-01T13:50:08.888757Z",
     "start_time": "2024-10-01T13:50:08.859302Z"
    }
   },
   "source": [
    "data = export_graphviz(\n",
    "    model,\n",
    "    out_file=None,\n",
    "    feature_names=f_names,\n",
    "    class_names=t_names,\n",
    "    filled=True,\n",
    "    rounded=True,\n",
    "    special_characters=True\n",
    ")\n",
    "\n",
    "graph = graphviz.Source(data)\n",
    "graph"
   ],
   "outputs": [
    {
     "data": {
      "image/svg+xml": "<?xml version=\"1.0\" encoding=\"UTF-8\" standalone=\"no\"?>\n<!DOCTYPE svg PUBLIC \"-//W3C//DTD SVG 1.1//EN\"\n \"http://www.w3.org/Graphics/SVG/1.1/DTD/svg11.dtd\">\n<!-- Generated by graphviz version 2.50.0 (0)\n -->\n<!-- Title: Tree Pages: 1 -->\n<svg width=\"2822pt\" height=\"790pt\"\n viewBox=\"0.00 0.00 2821.50 790.00\" xmlns=\"http://www.w3.org/2000/svg\" xmlns:xlink=\"http://www.w3.org/1999/xlink\">\n<g id=\"graph0\" class=\"graph\" transform=\"scale(1 1) rotate(0) translate(4 786)\">\n<title>Tree</title>\n<polygon fill=\"white\" stroke=\"transparent\" points=\"-4,4 -4,-786 2817.5,-786 2817.5,4 -4,4\"/>\n<!-- 0 -->\n<g id=\"node1\" class=\"node\">\n<title>0</title>\n<path fill=\"#ddeefa\" stroke=\"black\" d=\"M2195,-782C2195,-782 2070,-782 2070,-782 2064,-782 2058,-776 2058,-770 2058,-770 2058,-711 2058,-711 2058,-705 2064,-699 2070,-699 2070,-699 2195,-699 2195,-699 2201,-699 2207,-705 2207,-711 2207,-711 2207,-770 2207,-770 2207,-776 2201,-782 2195,-782\"/>\n<text text-anchor=\"start\" x=\"2074.5\" y=\"-766.8\" font-family=\"Helvetica,sans-Serif\" font-size=\"14.00\">elevation ≤ 30.0</text>\n<text text-anchor=\"start\" x=\"2075\" y=\"-751.8\" font-family=\"Helvetica,sans-Serif\" font-size=\"14.00\">entropy = 0.994</text>\n<text text-anchor=\"start\" x=\"2079.5\" y=\"-736.8\" font-family=\"Helvetica,sans-Serif\" font-size=\"14.00\">samples = 369</text>\n<text text-anchor=\"start\" x=\"2066\" y=\"-721.8\" font-family=\"Helvetica,sans-Serif\" font-size=\"14.00\">value = [167, 202]</text>\n<text text-anchor=\"start\" x=\"2072.5\" y=\"-706.8\" font-family=\"Helvetica,sans-Serif\" font-size=\"14.00\">class = New York</text>\n</g>\n<!-- 1 -->\n<g id=\"node2\" class=\"node\">\n<title>1</title>\n<path fill=\"#efb286\" stroke=\"black\" d=\"M2012,-663C2012,-663 1851,-663 1851,-663 1845,-663 1839,-657 1839,-651 1839,-651 1839,-592 1839,-592 1839,-586 1845,-580 1851,-580 1851,-580 2012,-580 2012,-580 2018,-580 2024,-586 2024,-592 2024,-592 2024,-651 2024,-651 2024,-657 2018,-663 2012,-663\"/>\n<text text-anchor=\"start\" x=\"1847\" y=\"-647.8\" font-family=\"Helvetica,sans-Serif\" font-size=\"14.00\">price_per_sqft ≤ 1482.5</text>\n<text text-anchor=\"start\" x=\"1874\" y=\"-632.8\" font-family=\"Helvetica,sans-Serif\" font-size=\"14.00\">entropy = 0.854</text>\n<text text-anchor=\"start\" x=\"1878.5\" y=\"-617.8\" font-family=\"Helvetica,sans-Serif\" font-size=\"14.00\">samples = 226</text>\n<text text-anchor=\"start\" x=\"1869.5\" y=\"-602.8\" font-family=\"Helvetica,sans-Serif\" font-size=\"14.00\">value = [163, 63]</text>\n<text text-anchor=\"start\" x=\"1856\" y=\"-587.8\" font-family=\"Helvetica,sans-Serif\" font-size=\"14.00\">class = San Francisco</text>\n</g>\n<!-- 0&#45;&gt;1 -->\n<g id=\"edge1\" class=\"edge\">\n<title>0&#45;&gt;1</title>\n<path fill=\"none\" stroke=\"black\" d=\"M2062.76,-698.91C2045.77,-689.02 2027.48,-678.37 2010.1,-668.25\"/>\n<polygon fill=\"black\" stroke=\"black\" points=\"2011.52,-665.03 2001.11,-663.02 2007.99,-671.08 2011.52,-665.03\"/>\n<text text-anchor=\"middle\" x=\"2007.5\" y=\"-683.49\" font-family=\"Helvetica,sans-Serif\" font-size=\"14.00\">True</text>\n</g>\n<!-- 40 -->\n<g id=\"node41\" class=\"node\">\n<title>40</title>\n<path fill=\"#3fa0e6\" stroke=\"black\" d=\"M2279.5,-663C2279.5,-663 2163.5,-663 2163.5,-663 2157.5,-663 2151.5,-657 2151.5,-651 2151.5,-651 2151.5,-592 2151.5,-592 2151.5,-586 2157.5,-580 2163.5,-580 2163.5,-580 2279.5,-580 2279.5,-580 2285.5,-580 2291.5,-586 2291.5,-592 2291.5,-592 2291.5,-651 2291.5,-651 2291.5,-657 2285.5,-663 2279.5,-663\"/>\n<text text-anchor=\"start\" x=\"2159.5\" y=\"-647.8\" font-family=\"Helvetica,sans-Serif\" font-size=\"14.00\">price ≤ 572000.0</text>\n<text text-anchor=\"start\" x=\"2164\" y=\"-632.8\" font-family=\"Helvetica,sans-Serif\" font-size=\"14.00\">entropy = 0.184</text>\n<text text-anchor=\"start\" x=\"2168.5\" y=\"-617.8\" font-family=\"Helvetica,sans-Serif\" font-size=\"14.00\">samples = 143</text>\n<text text-anchor=\"start\" x=\"2164\" y=\"-602.8\" font-family=\"Helvetica,sans-Serif\" font-size=\"14.00\">value = [4, 139]</text>\n<text text-anchor=\"start\" x=\"2161.5\" y=\"-587.8\" font-family=\"Helvetica,sans-Serif\" font-size=\"14.00\">class = New York</text>\n</g>\n<!-- 0&#45;&gt;40 -->\n<g id=\"edge40\" class=\"edge\">\n<title>0&#45;&gt;40</title>\n<path fill=\"none\" stroke=\"black\" d=\"M2163.38,-698.91C2170.21,-689.92 2177.52,-680.32 2184.57,-671.05\"/>\n<polygon fill=\"black\" stroke=\"black\" points=\"2187.41,-673.1 2190.68,-663.02 2181.84,-668.86 2187.41,-673.1\"/>\n<text text-anchor=\"middle\" x=\"2194.04\" y=\"-684.09\" font-family=\"Helvetica,sans-Serif\" font-size=\"14.00\">False</text>\n</g>\n<!-- 2 -->\n<g id=\"node3\" class=\"node\">\n<title>2</title>\n<path fill=\"#f8dfcd\" stroke=\"black\" d=\"M1455,-544C1455,-544 1312,-544 1312,-544 1306,-544 1300,-538 1300,-532 1300,-532 1300,-473 1300,-473 1300,-467 1306,-461 1312,-461 1312,-461 1455,-461 1455,-461 1461,-461 1467,-467 1467,-473 1467,-473 1467,-532 1467,-532 1467,-538 1461,-544 1455,-544\"/>\n<text text-anchor=\"start\" x=\"1314\" y=\"-528.8\" font-family=\"Helvetica,sans-Serif\" font-size=\"14.00\">year_built ≤ 1999.5</text>\n<text text-anchor=\"start\" x=\"1326\" y=\"-513.8\" font-family=\"Helvetica,sans-Serif\" font-size=\"14.00\">entropy = 0.985</text>\n<text text-anchor=\"start\" x=\"1330.5\" y=\"-498.8\" font-family=\"Helvetica,sans-Serif\" font-size=\"14.00\">samples = 138</text>\n<text text-anchor=\"start\" x=\"1326\" y=\"-483.8\" font-family=\"Helvetica,sans-Serif\" font-size=\"14.00\">value = [79, 59]</text>\n<text text-anchor=\"start\" x=\"1308\" y=\"-468.8\" font-family=\"Helvetica,sans-Serif\" font-size=\"14.00\">class = San Francisco</text>\n</g>\n<!-- 1&#45;&gt;2 -->\n<g id=\"edge2\" class=\"edge\">\n<title>1&#45;&gt;2</title>\n<path fill=\"none\" stroke=\"black\" d=\"M1838.85,-600.72C1738.13,-579.21 1578.08,-545.04 1477.02,-523.47\"/>\n<polygon fill=\"black\" stroke=\"black\" points=\"1477.63,-520.02 1467.12,-521.35 1476.17,-526.86 1477.63,-520.02\"/>\n</g>\n<!-- 27 -->\n<g id=\"node28\" class=\"node\">\n<title>27</title>\n<path fill=\"#e68742\" stroke=\"black\" d=\"M2003,-544C2003,-544 1860,-544 1860,-544 1854,-544 1848,-538 1848,-532 1848,-532 1848,-473 1848,-473 1848,-467 1854,-461 1860,-461 1860,-461 2003,-461 2003,-461 2009,-461 2015,-467 2015,-473 2015,-473 2015,-532 2015,-532 2015,-538 2009,-544 2003,-544\"/>\n<text text-anchor=\"start\" x=\"1878\" y=\"-528.8\" font-family=\"Helvetica,sans-Serif\" font-size=\"14.00\">elevation ≤ 4.0</text>\n<text text-anchor=\"start\" x=\"1874\" y=\"-513.8\" font-family=\"Helvetica,sans-Serif\" font-size=\"14.00\">entropy = 0.267</text>\n<text text-anchor=\"start\" x=\"1883\" y=\"-498.8\" font-family=\"Helvetica,sans-Serif\" font-size=\"14.00\">samples = 88</text>\n<text text-anchor=\"start\" x=\"1878.5\" y=\"-483.8\" font-family=\"Helvetica,sans-Serif\" font-size=\"14.00\">value = [84, 4]</text>\n<text text-anchor=\"start\" x=\"1856\" y=\"-468.8\" font-family=\"Helvetica,sans-Serif\" font-size=\"14.00\">class = San Francisco</text>\n</g>\n<!-- 1&#45;&gt;27 -->\n<g id=\"edge27\" class=\"edge\">\n<title>1&#45;&gt;27</title>\n<path fill=\"none\" stroke=\"black\" d=\"M1931.5,-579.91C1931.5,-571.65 1931.5,-562.86 1931.5,-554.3\"/>\n<polygon fill=\"black\" stroke=\"black\" points=\"1935,-554.02 1931.5,-544.02 1928,-554.02 1935,-554.02\"/>\n</g>\n<!-- 3 -->\n<g id=\"node4\" class=\"node\">\n<title>3</title>\n<path fill=\"#efb388\" stroke=\"black\" d=\"M861.5,-425C861.5,-425 709.5,-425 709.5,-425 703.5,-425 697.5,-419 697.5,-413 697.5,-413 697.5,-354 697.5,-354 697.5,-348 703.5,-342 709.5,-342 709.5,-342 861.5,-342 861.5,-342 867.5,-342 873.5,-348 873.5,-354 873.5,-354 873.5,-413 873.5,-413 873.5,-419 867.5,-425 861.5,-425\"/>\n<text text-anchor=\"start\" x=\"705.5\" y=\"-409.8\" font-family=\"Helvetica,sans-Serif\" font-size=\"14.00\">price_per_sqft ≤ 830.5</text>\n<text text-anchor=\"start\" x=\"728\" y=\"-394.8\" font-family=\"Helvetica,sans-Serif\" font-size=\"14.00\">entropy = 0.861</text>\n<text text-anchor=\"start\" x=\"732.5\" y=\"-379.8\" font-family=\"Helvetica,sans-Serif\" font-size=\"14.00\">samples = 102</text>\n<text text-anchor=\"start\" x=\"728\" y=\"-364.8\" font-family=\"Helvetica,sans-Serif\" font-size=\"14.00\">value = [73, 29]</text>\n<text text-anchor=\"start\" x=\"710\" y=\"-349.8\" font-family=\"Helvetica,sans-Serif\" font-size=\"14.00\">class = San Francisco</text>\n</g>\n<!-- 2&#45;&gt;3 -->\n<g id=\"edge3\" class=\"edge\">\n<title>2&#45;&gt;3</title>\n<path fill=\"none\" stroke=\"black\" d=\"M1299.72,-485.11C1190.4,-463.72 999.43,-426.36 883.51,-403.68\"/>\n<polygon fill=\"black\" stroke=\"black\" points=\"884.06,-400.22 873.57,-401.73 882.72,-407.09 884.06,-400.22\"/>\n</g>\n<!-- 16 -->\n<g id=\"node17\" class=\"node\">\n<title>16</title>\n<path fill=\"#61b1ea\" stroke=\"black\" d=\"M1464,-425C1464,-425 1303,-425 1303,-425 1297,-425 1291,-419 1291,-413 1291,-413 1291,-354 1291,-354 1291,-348 1297,-342 1303,-342 1303,-342 1464,-342 1464,-342 1470,-342 1476,-348 1476,-354 1476,-354 1476,-413 1476,-413 1476,-419 1470,-425 1464,-425\"/>\n<text text-anchor=\"start\" x=\"1299\" y=\"-409.8\" font-family=\"Helvetica,sans-Serif\" font-size=\"14.00\">price_per_sqft ≤ 1351.0</text>\n<text text-anchor=\"start\" x=\"1330.5\" y=\"-394.8\" font-family=\"Helvetica,sans-Serif\" font-size=\"14.00\">entropy = 0.65</text>\n<text text-anchor=\"start\" x=\"1335\" y=\"-379.8\" font-family=\"Helvetica,sans-Serif\" font-size=\"14.00\">samples = 36</text>\n<text text-anchor=\"start\" x=\"1330.5\" y=\"-364.8\" font-family=\"Helvetica,sans-Serif\" font-size=\"14.00\">value = [6, 30]</text>\n<text text-anchor=\"start\" x=\"1323.5\" y=\"-349.8\" font-family=\"Helvetica,sans-Serif\" font-size=\"14.00\">class = New York</text>\n</g>\n<!-- 2&#45;&gt;16 -->\n<g id=\"edge16\" class=\"edge\">\n<title>2&#45;&gt;16</title>\n<path fill=\"none\" stroke=\"black\" d=\"M1383.5,-460.91C1383.5,-452.65 1383.5,-443.86 1383.5,-435.3\"/>\n<polygon fill=\"black\" stroke=\"black\" points=\"1387,-435.02 1383.5,-425.02 1380,-435.02 1387,-435.02\"/>\n</g>\n<!-- 4 -->\n<g id=\"node5\" class=\"node\">\n<title>4</title>\n<path fill=\"#e1f0fb\" stroke=\"black\" d=\"M544.5,-306C544.5,-306 432.5,-306 432.5,-306 426.5,-306 420.5,-300 420.5,-294 420.5,-294 420.5,-235 420.5,-235 420.5,-229 426.5,-223 432.5,-223 432.5,-223 544.5,-223 544.5,-223 550.5,-223 556.5,-229 556.5,-235 556.5,-235 556.5,-294 556.5,-294 556.5,-300 550.5,-306 544.5,-306\"/>\n<text text-anchor=\"start\" x=\"444.5\" y=\"-290.8\" font-family=\"Helvetica,sans-Serif\" font-size=\"14.00\">sqft ≤ 916.0</text>\n<text text-anchor=\"start\" x=\"431\" y=\"-275.8\" font-family=\"Helvetica,sans-Serif\" font-size=\"14.00\">entropy = 0.995</text>\n<text text-anchor=\"start\" x=\"440\" y=\"-260.8\" font-family=\"Helvetica,sans-Serif\" font-size=\"14.00\">samples = 37</text>\n<text text-anchor=\"start\" x=\"431\" y=\"-245.8\" font-family=\"Helvetica,sans-Serif\" font-size=\"14.00\">value = [17, 20]</text>\n<text text-anchor=\"start\" x=\"428.5\" y=\"-230.8\" font-family=\"Helvetica,sans-Serif\" font-size=\"14.00\">class = New York</text>\n</g>\n<!-- 3&#45;&gt;4 -->\n<g id=\"edge4\" class=\"edge\">\n<title>3&#45;&gt;4</title>\n<path fill=\"none\" stroke=\"black\" d=\"M697.19,-347.71C655.56,-331.31 606.33,-311.92 566.14,-296.09\"/>\n<polygon fill=\"black\" stroke=\"black\" points=\"567.25,-292.76 556.66,-292.35 564.68,-299.27 567.25,-292.76\"/>\n</g>\n<!-- 11 -->\n<g id=\"node12\" class=\"node\">\n<title>11</title>\n<path fill=\"#e99559\" stroke=\"black\" d=\"M857,-306C857,-306 714,-306 714,-306 708,-306 702,-300 702,-294 702,-294 702,-235 702,-235 702,-229 708,-223 714,-223 714,-223 857,-223 857,-223 863,-223 869,-229 869,-235 869,-235 869,-294 869,-294 869,-300 863,-306 857,-306\"/>\n<text text-anchor=\"start\" x=\"741.5\" y=\"-290.8\" font-family=\"Helvetica,sans-Serif\" font-size=\"14.00\">sqft ≤ 759.5</text>\n<text text-anchor=\"start\" x=\"732.5\" y=\"-275.8\" font-family=\"Helvetica,sans-Serif\" font-size=\"14.00\">entropy = 0.58</text>\n<text text-anchor=\"start\" x=\"737\" y=\"-260.8\" font-family=\"Helvetica,sans-Serif\" font-size=\"14.00\">samples = 65</text>\n<text text-anchor=\"start\" x=\"732.5\" y=\"-245.8\" font-family=\"Helvetica,sans-Serif\" font-size=\"14.00\">value = [56, 9]</text>\n<text text-anchor=\"start\" x=\"710\" y=\"-230.8\" font-family=\"Helvetica,sans-Serif\" font-size=\"14.00\">class = San Francisco</text>\n</g>\n<!-- 3&#45;&gt;11 -->\n<g id=\"edge11\" class=\"edge\">\n<title>3&#45;&gt;11</title>\n<path fill=\"none\" stroke=\"black\" d=\"M785.5,-341.91C785.5,-333.65 785.5,-324.86 785.5,-316.3\"/>\n<polygon fill=\"black\" stroke=\"black\" points=\"789,-316.02 785.5,-306.02 782,-316.02 789,-316.02\"/>\n</g>\n<!-- 5 -->\n<g id=\"node6\" class=\"node\">\n<title>5</title>\n<path fill=\"#e99457\" stroke=\"black\" d=\"M340,-187C340,-187 197,-187 197,-187 191,-187 185,-181 185,-175 185,-175 185,-116 185,-116 185,-110 191,-104 197,-104 197,-104 340,-104 340,-104 346,-104 352,-110 352,-116 352,-116 352,-175 352,-175 352,-181 346,-187 340,-187\"/>\n<text text-anchor=\"start\" x=\"210.5\" y=\"-171.8\" font-family=\"Helvetica,sans-Serif\" font-size=\"14.00\">elevation ≤ 12.5</text>\n<text text-anchor=\"start\" x=\"211\" y=\"-156.8\" font-family=\"Helvetica,sans-Serif\" font-size=\"14.00\">entropy = 0.567</text>\n<text text-anchor=\"start\" x=\"220\" y=\"-141.8\" font-family=\"Helvetica,sans-Serif\" font-size=\"14.00\">samples = 15</text>\n<text text-anchor=\"start\" x=\"215.5\" y=\"-126.8\" font-family=\"Helvetica,sans-Serif\" font-size=\"14.00\">value = [13, 2]</text>\n<text text-anchor=\"start\" x=\"193\" y=\"-111.8\" font-family=\"Helvetica,sans-Serif\" font-size=\"14.00\">class = San Francisco</text>\n</g>\n<!-- 4&#45;&gt;5 -->\n<g id=\"edge5\" class=\"edge\">\n<title>4&#45;&gt;5</title>\n<path fill=\"none\" stroke=\"black\" d=\"M420.4,-227.28C399.32,-216.07 375.84,-203.58 353.76,-191.84\"/>\n<polygon fill=\"black\" stroke=\"black\" points=\"355.19,-188.64 344.72,-187.03 351.9,-194.82 355.19,-188.64\"/>\n</g>\n<!-- 8 -->\n<g id=\"node9\" class=\"node\">\n<title>8</title>\n<path fill=\"#65b3eb\" stroke=\"black\" d=\"M544.5,-187C544.5,-187 432.5,-187 432.5,-187 426.5,-187 420.5,-181 420.5,-175 420.5,-175 420.5,-116 420.5,-116 420.5,-110 426.5,-104 432.5,-104 432.5,-104 544.5,-104 544.5,-104 550.5,-104 556.5,-110 556.5,-116 556.5,-116 556.5,-175 556.5,-175 556.5,-181 550.5,-187 544.5,-187\"/>\n<text text-anchor=\"start\" x=\"430.5\" y=\"-171.8\" font-family=\"Helvetica,sans-Serif\" font-size=\"14.00\">elevation ≤ 10.5</text>\n<text text-anchor=\"start\" x=\"431\" y=\"-156.8\" font-family=\"Helvetica,sans-Serif\" font-size=\"14.00\">entropy = 0.684</text>\n<text text-anchor=\"start\" x=\"440\" y=\"-141.8\" font-family=\"Helvetica,sans-Serif\" font-size=\"14.00\">samples = 22</text>\n<text text-anchor=\"start\" x=\"435.5\" y=\"-126.8\" font-family=\"Helvetica,sans-Serif\" font-size=\"14.00\">value = [4, 18]</text>\n<text text-anchor=\"start\" x=\"428.5\" y=\"-111.8\" font-family=\"Helvetica,sans-Serif\" font-size=\"14.00\">class = New York</text>\n</g>\n<!-- 4&#45;&gt;8 -->\n<g id=\"edge8\" class=\"edge\">\n<title>4&#45;&gt;8</title>\n<path fill=\"none\" stroke=\"black\" d=\"M488.5,-222.91C488.5,-214.65 488.5,-205.86 488.5,-197.3\"/>\n<polygon fill=\"black\" stroke=\"black\" points=\"492,-197.02 488.5,-187.02 485,-197.02 492,-197.02\"/>\n</g>\n<!-- 6 -->\n<g id=\"node7\" class=\"node\">\n<title>6</title>\n<path fill=\"#e58139\" stroke=\"black\" d=\"M155,-68C155,-68 12,-68 12,-68 6,-68 0,-62 0,-56 0,-56 0,-12 0,-12 0,-6 6,0 12,0 12,0 155,0 155,0 161,0 167,-6 167,-12 167,-12 167,-56 167,-56 167,-62 161,-68 155,-68\"/>\n<text text-anchor=\"start\" x=\"35\" y=\"-52.8\" font-family=\"Helvetica,sans-Serif\" font-size=\"14.00\">entropy = 0.0</text>\n<text text-anchor=\"start\" x=\"35\" y=\"-37.8\" font-family=\"Helvetica,sans-Serif\" font-size=\"14.00\">samples = 11</text>\n<text text-anchor=\"start\" x=\"30.5\" y=\"-22.8\" font-family=\"Helvetica,sans-Serif\" font-size=\"14.00\">value = [11, 0]</text>\n<text text-anchor=\"start\" x=\"8\" y=\"-7.8\" font-family=\"Helvetica,sans-Serif\" font-size=\"14.00\">class = San Francisco</text>\n</g>\n<!-- 5&#45;&gt;6 -->\n<g id=\"edge6\" class=\"edge\">\n<title>5&#45;&gt;6</title>\n<path fill=\"none\" stroke=\"black\" d=\"M199.88,-103.88C182.89,-93.83 164.75,-83.09 147.97,-73.16\"/>\n<polygon fill=\"black\" stroke=\"black\" points=\"149.71,-70.12 139.33,-68.04 146.15,-76.15 149.71,-70.12\"/>\n</g>\n<!-- 7 -->\n<g id=\"node8\" class=\"node\">\n<title>7</title>\n<path fill=\"#ffffff\" stroke=\"black\" d=\"M340,-68C340,-68 197,-68 197,-68 191,-68 185,-62 185,-56 185,-56 185,-12 185,-12 185,-6 191,0 197,0 197,0 340,0 340,0 346,0 352,-6 352,-12 352,-12 352,-56 352,-56 352,-62 346,-68 340,-68\"/>\n<text text-anchor=\"start\" x=\"220\" y=\"-52.8\" font-family=\"Helvetica,sans-Serif\" font-size=\"14.00\">entropy = 1.0</text>\n<text text-anchor=\"start\" x=\"224.5\" y=\"-37.8\" font-family=\"Helvetica,sans-Serif\" font-size=\"14.00\">samples = 4</text>\n<text text-anchor=\"start\" x=\"220\" y=\"-22.8\" font-family=\"Helvetica,sans-Serif\" font-size=\"14.00\">value = [2, 2]</text>\n<text text-anchor=\"start\" x=\"193\" y=\"-7.8\" font-family=\"Helvetica,sans-Serif\" font-size=\"14.00\">class = San Francisco</text>\n</g>\n<!-- 5&#45;&gt;7 -->\n<g id=\"edge7\" class=\"edge\">\n<title>5&#45;&gt;7</title>\n<path fill=\"none\" stroke=\"black\" d=\"M268.5,-103.73C268.5,-95.52 268.5,-86.86 268.5,-78.56\"/>\n<polygon fill=\"black\" stroke=\"black\" points=\"272,-78.3 268.5,-68.3 265,-78.3 272,-78.3\"/>\n</g>\n<!-- 9 -->\n<g id=\"node10\" class=\"node\">\n<title>9</title>\n<path fill=\"#ffffff\" stroke=\"black\" d=\"M525,-68C525,-68 382,-68 382,-68 376,-68 370,-62 370,-56 370,-56 370,-12 370,-12 370,-6 376,0 382,0 382,0 525,0 525,0 531,0 537,-6 537,-12 537,-12 537,-56 537,-56 537,-62 531,-68 525,-68\"/>\n<text text-anchor=\"start\" x=\"405\" y=\"-52.8\" font-family=\"Helvetica,sans-Serif\" font-size=\"14.00\">entropy = 1.0</text>\n<text text-anchor=\"start\" x=\"409.5\" y=\"-37.8\" font-family=\"Helvetica,sans-Serif\" font-size=\"14.00\">samples = 8</text>\n<text text-anchor=\"start\" x=\"405\" y=\"-22.8\" font-family=\"Helvetica,sans-Serif\" font-size=\"14.00\">value = [4, 4]</text>\n<text text-anchor=\"start\" x=\"378\" y=\"-7.8\" font-family=\"Helvetica,sans-Serif\" font-size=\"14.00\">class = San Francisco</text>\n</g>\n<!-- 8&#45;&gt;9 -->\n<g id=\"edge9\" class=\"edge\">\n<title>8&#45;&gt;9</title>\n<path fill=\"none\" stroke=\"black\" d=\"M475.47,-103.73C472.79,-95.34 469.95,-86.47 467.25,-78.01\"/>\n<polygon fill=\"black\" stroke=\"black\" points=\"470.52,-76.76 464.14,-68.3 463.85,-78.89 470.52,-76.76\"/>\n</g>\n<!-- 10 -->\n<g id=\"node11\" class=\"node\">\n<title>10</title>\n<path fill=\"#399de5\" stroke=\"black\" d=\"M679.5,-68C679.5,-68 567.5,-68 567.5,-68 561.5,-68 555.5,-62 555.5,-56 555.5,-56 555.5,-12 555.5,-12 555.5,-6 561.5,0 567.5,0 567.5,0 679.5,0 679.5,0 685.5,0 691.5,-6 691.5,-12 691.5,-12 691.5,-56 691.5,-56 691.5,-62 685.5,-68 679.5,-68\"/>\n<text text-anchor=\"start\" x=\"575\" y=\"-52.8\" font-family=\"Helvetica,sans-Serif\" font-size=\"14.00\">entropy = 0.0</text>\n<text text-anchor=\"start\" x=\"575\" y=\"-37.8\" font-family=\"Helvetica,sans-Serif\" font-size=\"14.00\">samples = 14</text>\n<text text-anchor=\"start\" x=\"570.5\" y=\"-22.8\" font-family=\"Helvetica,sans-Serif\" font-size=\"14.00\">value = [0, 14]</text>\n<text text-anchor=\"start\" x=\"563.5\" y=\"-7.8\" font-family=\"Helvetica,sans-Serif\" font-size=\"14.00\">class = New York</text>\n</g>\n<!-- 8&#45;&gt;10 -->\n<g id=\"edge10\" class=\"edge\">\n<title>8&#45;&gt;10</title>\n<path fill=\"none\" stroke=\"black\" d=\"M538.77,-103.73C550.46,-94.24 562.9,-84.16 574.54,-74.72\"/>\n<polygon fill=\"black\" stroke=\"black\" points=\"576.88,-77.32 582.45,-68.3 572.47,-71.88 576.88,-77.32\"/>\n</g>\n<!-- 12 -->\n<g id=\"node13\" class=\"node\">\n<title>12</title>\n<path fill=\"#e58139\" stroke=\"black\" d=\"M765,-179.5C765,-179.5 622,-179.5 622,-179.5 616,-179.5 610,-173.5 610,-167.5 610,-167.5 610,-123.5 610,-123.5 610,-117.5 616,-111.5 622,-111.5 622,-111.5 765,-111.5 765,-111.5 771,-111.5 777,-117.5 777,-123.5 777,-123.5 777,-167.5 777,-167.5 777,-173.5 771,-179.5 765,-179.5\"/>\n<text text-anchor=\"start\" x=\"645\" y=\"-164.3\" font-family=\"Helvetica,sans-Serif\" font-size=\"14.00\">entropy = 0.0</text>\n<text text-anchor=\"start\" x=\"645\" y=\"-149.3\" font-family=\"Helvetica,sans-Serif\" font-size=\"14.00\">samples = 21</text>\n<text text-anchor=\"start\" x=\"640.5\" y=\"-134.3\" font-family=\"Helvetica,sans-Serif\" font-size=\"14.00\">value = [21, 0]</text>\n<text text-anchor=\"start\" x=\"618\" y=\"-119.3\" font-family=\"Helvetica,sans-Serif\" font-size=\"14.00\">class = San Francisco</text>\n</g>\n<!-- 11&#45;&gt;12 -->\n<g id=\"edge12\" class=\"edge\">\n<title>11&#45;&gt;12</title>\n<path fill=\"none\" stroke=\"black\" d=\"M753.58,-222.91C744.64,-211.54 734.92,-199.18 725.95,-187.77\"/>\n<polygon fill=\"black\" stroke=\"black\" points=\"728.51,-185.36 719.58,-179.67 723.01,-189.69 728.51,-185.36\"/>\n</g>\n<!-- 13 -->\n<g id=\"node14\" class=\"node\">\n<title>13</title>\n<path fill=\"#eca16c\" stroke=\"black\" d=\"M950,-187C950,-187 807,-187 807,-187 801,-187 795,-181 795,-175 795,-175 795,-116 795,-116 795,-110 801,-104 807,-104 807,-104 950,-104 950,-104 956,-104 962,-110 962,-116 962,-116 962,-175 962,-175 962,-181 956,-187 950,-187\"/>\n<text text-anchor=\"start\" x=\"834.5\" y=\"-171.8\" font-family=\"Helvetica,sans-Serif\" font-size=\"14.00\">sqft ≤ 781.5</text>\n<text text-anchor=\"start\" x=\"821\" y=\"-156.8\" font-family=\"Helvetica,sans-Serif\" font-size=\"14.00\">entropy = 0.731</text>\n<text text-anchor=\"start\" x=\"830\" y=\"-141.8\" font-family=\"Helvetica,sans-Serif\" font-size=\"14.00\">samples = 44</text>\n<text text-anchor=\"start\" x=\"825.5\" y=\"-126.8\" font-family=\"Helvetica,sans-Serif\" font-size=\"14.00\">value = [35, 9]</text>\n<text text-anchor=\"start\" x=\"803\" y=\"-111.8\" font-family=\"Helvetica,sans-Serif\" font-size=\"14.00\">class = San Francisco</text>\n</g>\n<!-- 11&#45;&gt;13 -->\n<g id=\"edge13\" class=\"edge\">\n<title>11&#45;&gt;13</title>\n<path fill=\"none\" stroke=\"black\" d=\"M817.77,-222.91C824.91,-213.92 832.54,-204.32 839.91,-195.05\"/>\n<polygon fill=\"black\" stroke=\"black\" points=\"842.81,-197.03 846.29,-187.02 837.33,-192.67 842.81,-197.03\"/>\n</g>\n<!-- 14 -->\n<g id=\"node15\" class=\"node\">\n<title>14</title>\n<path fill=\"#399de5\" stroke=\"black\" d=\"M833.5,-68C833.5,-68 721.5,-68 721.5,-68 715.5,-68 709.5,-62 709.5,-56 709.5,-56 709.5,-12 709.5,-12 709.5,-6 715.5,0 721.5,0 721.5,0 833.5,0 833.5,0 839.5,0 845.5,-6 845.5,-12 845.5,-12 845.5,-56 845.5,-56 845.5,-62 839.5,-68 833.5,-68\"/>\n<text text-anchor=\"start\" x=\"729\" y=\"-52.8\" font-family=\"Helvetica,sans-Serif\" font-size=\"14.00\">entropy = 0.0</text>\n<text text-anchor=\"start\" x=\"733.5\" y=\"-37.8\" font-family=\"Helvetica,sans-Serif\" font-size=\"14.00\">samples = 2</text>\n<text text-anchor=\"start\" x=\"729\" y=\"-22.8\" font-family=\"Helvetica,sans-Serif\" font-size=\"14.00\">value = [0, 2]</text>\n<text text-anchor=\"start\" x=\"717.5\" y=\"-7.8\" font-family=\"Helvetica,sans-Serif\" font-size=\"14.00\">class = New York</text>\n</g>\n<!-- 13&#45;&gt;14 -->\n<g id=\"edge14\" class=\"edge\">\n<title>13&#45;&gt;14</title>\n<path fill=\"none\" stroke=\"black\" d=\"M840.89,-103.73C832.48,-94.61 823.55,-84.93 815.14,-75.81\"/>\n<polygon fill=\"black\" stroke=\"black\" points=\"817.57,-73.28 808.21,-68.3 812.42,-78.02 817.57,-73.28\"/>\n</g>\n<!-- 15 -->\n<g id=\"node16\" class=\"node\">\n<title>15</title>\n<path fill=\"#ea9a61\" stroke=\"black\" d=\"M1019,-68C1019,-68 876,-68 876,-68 870,-68 864,-62 864,-56 864,-56 864,-12 864,-12 864,-6 870,0 876,0 876,0 1019,0 1019,0 1025,0 1031,-6 1031,-12 1031,-12 1031,-56 1031,-56 1031,-62 1025,-68 1019,-68\"/>\n<text text-anchor=\"start\" x=\"894.5\" y=\"-52.8\" font-family=\"Helvetica,sans-Serif\" font-size=\"14.00\">entropy = 0.65</text>\n<text text-anchor=\"start\" x=\"899\" y=\"-37.8\" font-family=\"Helvetica,sans-Serif\" font-size=\"14.00\">samples = 42</text>\n<text text-anchor=\"start\" x=\"894.5\" y=\"-22.8\" font-family=\"Helvetica,sans-Serif\" font-size=\"14.00\">value = [35, 7]</text>\n<text text-anchor=\"start\" x=\"872\" y=\"-7.8\" font-family=\"Helvetica,sans-Serif\" font-size=\"14.00\">class = San Francisco</text>\n</g>\n<!-- 13&#45;&gt;15 -->\n<g id=\"edge15\" class=\"edge\">\n<title>13&#45;&gt;15</title>\n<path fill=\"none\" stroke=\"black\" d=\"M904.19,-103.73C909.71,-94.97 915.55,-85.7 921.09,-76.91\"/>\n<polygon fill=\"black\" stroke=\"black\" points=\"924.15,-78.63 926.52,-68.3 918.22,-74.89 924.15,-78.63\"/>\n</g>\n<!-- 17 -->\n<g id=\"node18\" class=\"node\">\n<title>17</title>\n<path fill=\"#41a1e6\" stroke=\"black\" d=\"M1359,-306C1359,-306 1228,-306 1228,-306 1222,-306 1216,-300 1216,-294 1216,-294 1216,-235 1216,-235 1216,-229 1222,-223 1228,-223 1228,-223 1359,-223 1359,-223 1365,-223 1371,-229 1371,-235 1371,-235 1371,-294 1371,-294 1371,-300 1365,-306 1359,-306\"/>\n<text text-anchor=\"start\" x=\"1224\" y=\"-290.8\" font-family=\"Helvetica,sans-Serif\" font-size=\"14.00\">year_built ≤ 2010.5</text>\n<text text-anchor=\"start\" x=\"1236\" y=\"-275.8\" font-family=\"Helvetica,sans-Serif\" font-size=\"14.00\">entropy = 0.229</text>\n<text text-anchor=\"start\" x=\"1245\" y=\"-260.8\" font-family=\"Helvetica,sans-Serif\" font-size=\"14.00\">samples = 27</text>\n<text text-anchor=\"start\" x=\"1240.5\" y=\"-245.8\" font-family=\"Helvetica,sans-Serif\" font-size=\"14.00\">value = [1, 26]</text>\n<text text-anchor=\"start\" x=\"1233.5\" y=\"-230.8\" font-family=\"Helvetica,sans-Serif\" font-size=\"14.00\">class = New York</text>\n</g>\n<!-- 16&#45;&gt;17 -->\n<g id=\"edge17\" class=\"edge\">\n<title>16&#45;&gt;17</title>\n<path fill=\"none\" stroke=\"black\" d=\"M1352.27,-341.91C1345.36,-332.92 1337.97,-323.32 1330.85,-314.05\"/>\n<polygon fill=\"black\" stroke=\"black\" points=\"1333.54,-311.81 1324.67,-306.02 1327.99,-316.08 1333.54,-311.81\"/>\n</g>\n<!-- 22 -->\n<g id=\"node23\" class=\"node\">\n<title>22</title>\n<path fill=\"#fae6d7\" stroke=\"black\" d=\"M1544,-306C1544,-306 1401,-306 1401,-306 1395,-306 1389,-300 1389,-294 1389,-294 1389,-235 1389,-235 1389,-229 1395,-223 1401,-223 1401,-223 1544,-223 1544,-223 1550,-223 1556,-229 1556,-235 1556,-235 1556,-294 1556,-294 1556,-300 1550,-306 1544,-306\"/>\n<text text-anchor=\"start\" x=\"1419\" y=\"-290.8\" font-family=\"Helvetica,sans-Serif\" font-size=\"14.00\">elevation ≤ 7.5</text>\n<text text-anchor=\"start\" x=\"1415\" y=\"-275.8\" font-family=\"Helvetica,sans-Serif\" font-size=\"14.00\">entropy = 0.991</text>\n<text text-anchor=\"start\" x=\"1428.5\" y=\"-260.8\" font-family=\"Helvetica,sans-Serif\" font-size=\"14.00\">samples = 9</text>\n<text text-anchor=\"start\" x=\"1424\" y=\"-245.8\" font-family=\"Helvetica,sans-Serif\" font-size=\"14.00\">value = [5, 4]</text>\n<text text-anchor=\"start\" x=\"1397\" y=\"-230.8\" font-family=\"Helvetica,sans-Serif\" font-size=\"14.00\">class = San Francisco</text>\n</g>\n<!-- 16&#45;&gt;22 -->\n<g id=\"edge22\" class=\"edge\">\n<title>16&#45;&gt;22</title>\n<path fill=\"none\" stroke=\"black\" d=\"M1414.38,-341.91C1421.21,-332.92 1428.52,-323.32 1435.57,-314.05\"/>\n<polygon fill=\"black\" stroke=\"black\" points=\"1438.41,-316.1 1441.68,-306.02 1432.84,-311.86 1438.41,-316.1\"/>\n</g>\n<!-- 18 -->\n<g id=\"node19\" class=\"node\">\n<title>18</title>\n<path fill=\"#399de5\" stroke=\"black\" d=\"M1190.5,-179.5C1190.5,-179.5 1078.5,-179.5 1078.5,-179.5 1072.5,-179.5 1066.5,-173.5 1066.5,-167.5 1066.5,-167.5 1066.5,-123.5 1066.5,-123.5 1066.5,-117.5 1072.5,-111.5 1078.5,-111.5 1078.5,-111.5 1190.5,-111.5 1190.5,-111.5 1196.5,-111.5 1202.5,-117.5 1202.5,-123.5 1202.5,-123.5 1202.5,-167.5 1202.5,-167.5 1202.5,-173.5 1196.5,-179.5 1190.5,-179.5\"/>\n<text text-anchor=\"start\" x=\"1086\" y=\"-164.3\" font-family=\"Helvetica,sans-Serif\" font-size=\"14.00\">entropy = 0.0</text>\n<text text-anchor=\"start\" x=\"1086\" y=\"-149.3\" font-family=\"Helvetica,sans-Serif\" font-size=\"14.00\">samples = 20</text>\n<text text-anchor=\"start\" x=\"1081.5\" y=\"-134.3\" font-family=\"Helvetica,sans-Serif\" font-size=\"14.00\">value = [0, 20]</text>\n<text text-anchor=\"start\" x=\"1074.5\" y=\"-119.3\" font-family=\"Helvetica,sans-Serif\" font-size=\"14.00\">class = New York</text>\n</g>\n<!-- 17&#45;&gt;18 -->\n<g id=\"edge18\" class=\"edge\">\n<title>17&#45;&gt;18</title>\n<path fill=\"none\" stroke=\"black\" d=\"M1238.34,-222.91C1221.99,-210.88 1204.13,-197.73 1187.9,-185.79\"/>\n<polygon fill=\"black\" stroke=\"black\" points=\"1189.7,-182.77 1179.57,-179.67 1185.55,-188.41 1189.7,-182.77\"/>\n</g>\n<!-- 19 -->\n<g id=\"node20\" class=\"node\">\n<title>19</title>\n<path fill=\"#5aade9\" stroke=\"black\" d=\"M1364,-187C1364,-187 1233,-187 1233,-187 1227,-187 1221,-181 1221,-175 1221,-175 1221,-116 1221,-116 1221,-110 1227,-104 1233,-104 1233,-104 1364,-104 1364,-104 1370,-104 1376,-110 1376,-116 1376,-116 1376,-175 1376,-175 1376,-181 1370,-187 1364,-187\"/>\n<text text-anchor=\"start\" x=\"1229\" y=\"-171.8\" font-family=\"Helvetica,sans-Serif\" font-size=\"14.00\">year_built ≤ 2011.5</text>\n<text text-anchor=\"start\" x=\"1241\" y=\"-156.8\" font-family=\"Helvetica,sans-Serif\" font-size=\"14.00\">entropy = 0.592</text>\n<text text-anchor=\"start\" x=\"1254.5\" y=\"-141.8\" font-family=\"Helvetica,sans-Serif\" font-size=\"14.00\">samples = 7</text>\n<text text-anchor=\"start\" x=\"1250\" y=\"-126.8\" font-family=\"Helvetica,sans-Serif\" font-size=\"14.00\">value = [1, 6]</text>\n<text text-anchor=\"start\" x=\"1238.5\" y=\"-111.8\" font-family=\"Helvetica,sans-Serif\" font-size=\"14.00\">class = New York</text>\n</g>\n<!-- 17&#45;&gt;19 -->\n<g id=\"edge19\" class=\"edge\">\n<title>17&#45;&gt;19</title>\n<path fill=\"none\" stroke=\"black\" d=\"M1295.23,-222.91C1295.59,-214.56 1295.97,-205.67 1296.34,-197.02\"/>\n<polygon fill=\"black\" stroke=\"black\" points=\"1299.84,-197.16 1296.77,-187.02 1292.84,-196.86 1299.84,-197.16\"/>\n</g>\n<!-- 20 -->\n<g id=\"node21\" class=\"node\">\n<title>20</title>\n<path fill=\"#ffffff\" stroke=\"black\" d=\"M1204,-68C1204,-68 1061,-68 1061,-68 1055,-68 1049,-62 1049,-56 1049,-56 1049,-12 1049,-12 1049,-6 1055,0 1061,0 1061,0 1204,0 1204,0 1210,0 1216,-6 1216,-12 1216,-12 1216,-56 1216,-56 1216,-62 1210,-68 1204,-68\"/>\n<text text-anchor=\"start\" x=\"1084\" y=\"-52.8\" font-family=\"Helvetica,sans-Serif\" font-size=\"14.00\">entropy = 1.0</text>\n<text text-anchor=\"start\" x=\"1088.5\" y=\"-37.8\" font-family=\"Helvetica,sans-Serif\" font-size=\"14.00\">samples = 2</text>\n<text text-anchor=\"start\" x=\"1084\" y=\"-22.8\" font-family=\"Helvetica,sans-Serif\" font-size=\"14.00\">value = [1, 1]</text>\n<text text-anchor=\"start\" x=\"1057\" y=\"-7.8\" font-family=\"Helvetica,sans-Serif\" font-size=\"14.00\">class = San Francisco</text>\n</g>\n<!-- 19&#45;&gt;20 -->\n<g id=\"edge20\" class=\"edge\">\n<title>19&#45;&gt;20</title>\n<path fill=\"none\" stroke=\"black\" d=\"M1236.69,-103.73C1221.82,-93.92 1205.97,-83.46 1191.24,-73.75\"/>\n<polygon fill=\"black\" stroke=\"black\" points=\"1192.99,-70.71 1182.72,-68.13 1189.14,-76.55 1192.99,-70.71\"/>\n</g>\n<!-- 21 -->\n<g id=\"node22\" class=\"node\">\n<title>21</title>\n<path fill=\"#399de5\" stroke=\"black\" d=\"M1358.5,-68C1358.5,-68 1246.5,-68 1246.5,-68 1240.5,-68 1234.5,-62 1234.5,-56 1234.5,-56 1234.5,-12 1234.5,-12 1234.5,-6 1240.5,0 1246.5,0 1246.5,0 1358.5,0 1358.5,0 1364.5,0 1370.5,-6 1370.5,-12 1370.5,-12 1370.5,-56 1370.5,-56 1370.5,-62 1364.5,-68 1358.5,-68\"/>\n<text text-anchor=\"start\" x=\"1254\" y=\"-52.8\" font-family=\"Helvetica,sans-Serif\" font-size=\"14.00\">entropy = 0.0</text>\n<text text-anchor=\"start\" x=\"1258.5\" y=\"-37.8\" font-family=\"Helvetica,sans-Serif\" font-size=\"14.00\">samples = 5</text>\n<text text-anchor=\"start\" x=\"1254\" y=\"-22.8\" font-family=\"Helvetica,sans-Serif\" font-size=\"14.00\">value = [0, 5]</text>\n<text text-anchor=\"start\" x=\"1242.5\" y=\"-7.8\" font-family=\"Helvetica,sans-Serif\" font-size=\"14.00\">class = New York</text>\n</g>\n<!-- 19&#45;&gt;21 -->\n<g id=\"edge21\" class=\"edge\">\n<title>19&#45;&gt;21</title>\n<path fill=\"none\" stroke=\"black\" d=\"M1299.99,-103.73C1300.29,-95.52 1300.61,-86.86 1300.91,-78.56\"/>\n<polygon fill=\"black\" stroke=\"black\" points=\"1304.42,-78.42 1301.28,-68.3 1297.42,-78.17 1304.42,-78.42\"/>\n</g>\n<!-- 23 -->\n<g id=\"node24\" class=\"node\">\n<title>23</title>\n<path fill=\"#9ccef2\" stroke=\"black\" d=\"M1528.5,-187C1528.5,-187 1416.5,-187 1416.5,-187 1410.5,-187 1404.5,-181 1404.5,-175 1404.5,-175 1404.5,-116 1404.5,-116 1404.5,-110 1410.5,-104 1416.5,-104 1416.5,-104 1528.5,-104 1528.5,-104 1534.5,-104 1540.5,-110 1540.5,-116 1540.5,-116 1540.5,-175 1540.5,-175 1540.5,-181 1534.5,-187 1528.5,-187\"/>\n<text text-anchor=\"start\" x=\"1428.5\" y=\"-171.8\" font-family=\"Helvetica,sans-Serif\" font-size=\"14.00\">sqft ≤ 855.5</text>\n<text text-anchor=\"start\" x=\"1415\" y=\"-156.8\" font-family=\"Helvetica,sans-Serif\" font-size=\"14.00\">entropy = 0.918</text>\n<text text-anchor=\"start\" x=\"1428.5\" y=\"-141.8\" font-family=\"Helvetica,sans-Serif\" font-size=\"14.00\">samples = 6</text>\n<text text-anchor=\"start\" x=\"1424\" y=\"-126.8\" font-family=\"Helvetica,sans-Serif\" font-size=\"14.00\">value = [2, 4]</text>\n<text text-anchor=\"start\" x=\"1412.5\" y=\"-111.8\" font-family=\"Helvetica,sans-Serif\" font-size=\"14.00\">class = New York</text>\n</g>\n<!-- 22&#45;&gt;23 -->\n<g id=\"edge23\" class=\"edge\">\n<title>22&#45;&gt;23</title>\n<path fill=\"none\" stroke=\"black\" d=\"M1472.5,-222.91C1472.5,-214.65 1472.5,-205.86 1472.5,-197.3\"/>\n<polygon fill=\"black\" stroke=\"black\" points=\"1476,-197.02 1472.5,-187.02 1469,-197.02 1476,-197.02\"/>\n</g>\n<!-- 26 -->\n<g id=\"node27\" class=\"node\">\n<title>26</title>\n<path fill=\"#e58139\" stroke=\"black\" d=\"M1714,-179.5C1714,-179.5 1571,-179.5 1571,-179.5 1565,-179.5 1559,-173.5 1559,-167.5 1559,-167.5 1559,-123.5 1559,-123.5 1559,-117.5 1565,-111.5 1571,-111.5 1571,-111.5 1714,-111.5 1714,-111.5 1720,-111.5 1726,-117.5 1726,-123.5 1726,-123.5 1726,-167.5 1726,-167.5 1726,-173.5 1720,-179.5 1714,-179.5\"/>\n<text text-anchor=\"start\" x=\"1594\" y=\"-164.3\" font-family=\"Helvetica,sans-Serif\" font-size=\"14.00\">entropy = 0.0</text>\n<text text-anchor=\"start\" x=\"1598.5\" y=\"-149.3\" font-family=\"Helvetica,sans-Serif\" font-size=\"14.00\">samples = 3</text>\n<text text-anchor=\"start\" x=\"1594\" y=\"-134.3\" font-family=\"Helvetica,sans-Serif\" font-size=\"14.00\">value = [3, 0]</text>\n<text text-anchor=\"start\" x=\"1567\" y=\"-119.3\" font-family=\"Helvetica,sans-Serif\" font-size=\"14.00\">class = San Francisco</text>\n</g>\n<!-- 22&#45;&gt;26 -->\n<g id=\"edge26\" class=\"edge\">\n<title>22&#45;&gt;26</title>\n<path fill=\"none\" stroke=\"black\" d=\"M1531.48,-222.91C1549.12,-210.77 1568.41,-197.49 1585.89,-185.46\"/>\n<polygon fill=\"black\" stroke=\"black\" points=\"1588.06,-188.22 1594.31,-179.67 1584.09,-182.45 1588.06,-188.22\"/>\n</g>\n<!-- 24 -->\n<g id=\"node25\" class=\"node\">\n<title>24</title>\n<path fill=\"#e58139\" stroke=\"black\" d=\"M1544,-68C1544,-68 1401,-68 1401,-68 1395,-68 1389,-62 1389,-56 1389,-56 1389,-12 1389,-12 1389,-6 1395,0 1401,0 1401,0 1544,0 1544,0 1550,0 1556,-6 1556,-12 1556,-12 1556,-56 1556,-56 1556,-62 1550,-68 1544,-68\"/>\n<text text-anchor=\"start\" x=\"1424\" y=\"-52.8\" font-family=\"Helvetica,sans-Serif\" font-size=\"14.00\">entropy = 0.0</text>\n<text text-anchor=\"start\" x=\"1428.5\" y=\"-37.8\" font-family=\"Helvetica,sans-Serif\" font-size=\"14.00\">samples = 1</text>\n<text text-anchor=\"start\" x=\"1424\" y=\"-22.8\" font-family=\"Helvetica,sans-Serif\" font-size=\"14.00\">value = [1, 0]</text>\n<text text-anchor=\"start\" x=\"1397\" y=\"-7.8\" font-family=\"Helvetica,sans-Serif\" font-size=\"14.00\">class = San Francisco</text>\n</g>\n<!-- 23&#45;&gt;24 -->\n<g id=\"edge24\" class=\"edge\">\n<title>23&#45;&gt;24</title>\n<path fill=\"none\" stroke=\"black\" d=\"M1472.5,-103.73C1472.5,-95.52 1472.5,-86.86 1472.5,-78.56\"/>\n<polygon fill=\"black\" stroke=\"black\" points=\"1476,-78.3 1472.5,-68.3 1469,-78.3 1476,-78.3\"/>\n</g>\n<!-- 25 -->\n<g id=\"node26\" class=\"node\">\n<title>25</title>\n<path fill=\"#6ab6ec\" stroke=\"black\" d=\"M1698.5,-68C1698.5,-68 1586.5,-68 1586.5,-68 1580.5,-68 1574.5,-62 1574.5,-56 1574.5,-56 1574.5,-12 1574.5,-12 1574.5,-6 1580.5,0 1586.5,0 1586.5,0 1698.5,0 1698.5,0 1704.5,0 1710.5,-6 1710.5,-12 1710.5,-12 1710.5,-56 1710.5,-56 1710.5,-62 1704.5,-68 1698.5,-68\"/>\n<text text-anchor=\"start\" x=\"1585\" y=\"-52.8\" font-family=\"Helvetica,sans-Serif\" font-size=\"14.00\">entropy = 0.722</text>\n<text text-anchor=\"start\" x=\"1598.5\" y=\"-37.8\" font-family=\"Helvetica,sans-Serif\" font-size=\"14.00\">samples = 5</text>\n<text text-anchor=\"start\" x=\"1594\" y=\"-22.8\" font-family=\"Helvetica,sans-Serif\" font-size=\"14.00\">value = [1, 4]</text>\n<text text-anchor=\"start\" x=\"1582.5\" y=\"-7.8\" font-family=\"Helvetica,sans-Serif\" font-size=\"14.00\">class = New York</text>\n</g>\n<!-- 23&#45;&gt;25 -->\n<g id=\"edge25\" class=\"edge\">\n<title>23&#45;&gt;25</title>\n<path fill=\"none\" stroke=\"black\" d=\"M1535.8,-103.73C1551.03,-93.92 1567.26,-83.46 1582.34,-73.75\"/>\n<polygon fill=\"black\" stroke=\"black\" points=\"1584.56,-76.48 1591.07,-68.13 1580.77,-70.6 1584.56,-76.48\"/>\n</g>\n<!-- 28 -->\n<g id=\"node29\" class=\"node\">\n<title>28</title>\n<path fill=\"#f2c09c\" stroke=\"black\" d=\"M1914,-425C1914,-425 1771,-425 1771,-425 1765,-425 1759,-419 1759,-413 1759,-413 1759,-354 1759,-354 1759,-348 1765,-342 1771,-342 1771,-342 1914,-342 1914,-342 1920,-342 1926,-348 1926,-354 1926,-354 1926,-413 1926,-413 1926,-419 1920,-425 1914,-425\"/>\n<text text-anchor=\"start\" x=\"1794\" y=\"-409.8\" font-family=\"Helvetica,sans-Serif\" font-size=\"14.00\">sqft ≤ 1288.5</text>\n<text text-anchor=\"start\" x=\"1785\" y=\"-394.8\" font-family=\"Helvetica,sans-Serif\" font-size=\"14.00\">entropy = 0.918</text>\n<text text-anchor=\"start\" x=\"1798.5\" y=\"-379.8\" font-family=\"Helvetica,sans-Serif\" font-size=\"14.00\">samples = 9</text>\n<text text-anchor=\"start\" x=\"1794\" y=\"-364.8\" font-family=\"Helvetica,sans-Serif\" font-size=\"14.00\">value = [6, 3]</text>\n<text text-anchor=\"start\" x=\"1767\" y=\"-349.8\" font-family=\"Helvetica,sans-Serif\" font-size=\"14.00\">class = San Francisco</text>\n</g>\n<!-- 27&#45;&gt;28 -->\n<g id=\"edge28\" class=\"edge\">\n<title>27&#45;&gt;28</title>\n<path fill=\"none\" stroke=\"black\" d=\"M1900.62,-460.91C1893.79,-451.92 1886.48,-442.32 1879.43,-433.05\"/>\n<polygon fill=\"black\" stroke=\"black\" points=\"1882.16,-430.86 1873.32,-425.02 1876.59,-435.1 1882.16,-430.86\"/>\n</g>\n<!-- 35 -->\n<g id=\"node36\" class=\"node\">\n<title>35</title>\n<path fill=\"#e5833c\" stroke=\"black\" d=\"M2099,-425C2099,-425 1956,-425 1956,-425 1950,-425 1944,-419 1944,-413 1944,-413 1944,-354 1944,-354 1944,-348 1950,-342 1956,-342 1956,-342 2099,-342 2099,-342 2105,-342 2111,-348 2111,-354 2111,-354 2111,-413 2111,-413 2111,-419 2105,-425 2099,-425\"/>\n<text text-anchor=\"start\" x=\"1969.5\" y=\"-409.8\" font-family=\"Helvetica,sans-Serif\" font-size=\"14.00\">elevation ≤ 25.5</text>\n<text text-anchor=\"start\" x=\"1970\" y=\"-394.8\" font-family=\"Helvetica,sans-Serif\" font-size=\"14.00\">entropy = 0.098</text>\n<text text-anchor=\"start\" x=\"1979\" y=\"-379.8\" font-family=\"Helvetica,sans-Serif\" font-size=\"14.00\">samples = 79</text>\n<text text-anchor=\"start\" x=\"1974.5\" y=\"-364.8\" font-family=\"Helvetica,sans-Serif\" font-size=\"14.00\">value = [78, 1]</text>\n<text text-anchor=\"start\" x=\"1952\" y=\"-349.8\" font-family=\"Helvetica,sans-Serif\" font-size=\"14.00\">class = San Francisco</text>\n</g>\n<!-- 27&#45;&gt;35 -->\n<g id=\"edge35\" class=\"edge\">\n<title>27&#45;&gt;35</title>\n<path fill=\"none\" stroke=\"black\" d=\"M1964.81,-460.91C1972.25,-451.83 1980.22,-442.12 1987.89,-432.77\"/>\n<polygon fill=\"black\" stroke=\"black\" points=\"1990.61,-434.97 1994.25,-425.02 1985.2,-430.53 1990.61,-434.97\"/>\n</g>\n<!-- 29 -->\n<g id=\"node30\" class=\"node\">\n<title>29</title>\n<path fill=\"#e58139\" stroke=\"black\" d=\"M1729,-298.5C1729,-298.5 1586,-298.5 1586,-298.5 1580,-298.5 1574,-292.5 1574,-286.5 1574,-286.5 1574,-242.5 1574,-242.5 1574,-236.5 1580,-230.5 1586,-230.5 1586,-230.5 1729,-230.5 1729,-230.5 1735,-230.5 1741,-236.5 1741,-242.5 1741,-242.5 1741,-286.5 1741,-286.5 1741,-292.5 1735,-298.5 1729,-298.5\"/>\n<text text-anchor=\"start\" x=\"1609\" y=\"-283.3\" font-family=\"Helvetica,sans-Serif\" font-size=\"14.00\">entropy = 0.0</text>\n<text text-anchor=\"start\" x=\"1613.5\" y=\"-268.3\" font-family=\"Helvetica,sans-Serif\" font-size=\"14.00\">samples = 3</text>\n<text text-anchor=\"start\" x=\"1609\" y=\"-253.3\" font-family=\"Helvetica,sans-Serif\" font-size=\"14.00\">value = [3, 0]</text>\n<text text-anchor=\"start\" x=\"1582\" y=\"-238.3\" font-family=\"Helvetica,sans-Serif\" font-size=\"14.00\">class = San Francisco</text>\n</g>\n<!-- 28&#45;&gt;29 -->\n<g id=\"edge29\" class=\"edge\">\n<title>28&#45;&gt;29</title>\n<path fill=\"none\" stroke=\"black\" d=\"M1778.32,-341.91C1758.95,-329.66 1737.75,-316.25 1718.59,-304.13\"/>\n<polygon fill=\"black\" stroke=\"black\" points=\"1720.27,-301.05 1709.94,-298.67 1716.52,-306.97 1720.27,-301.05\"/>\n</g>\n<!-- 30 -->\n<g id=\"node31\" class=\"node\">\n<title>30</title>\n<path fill=\"#ffffff\" stroke=\"black\" d=\"M1914,-306C1914,-306 1771,-306 1771,-306 1765,-306 1759,-300 1759,-294 1759,-294 1759,-235 1759,-235 1759,-229 1765,-223 1771,-223 1771,-223 1914,-223 1914,-223 1920,-223 1926,-229 1926,-235 1926,-235 1926,-294 1926,-294 1926,-300 1920,-306 1914,-306\"/>\n<text text-anchor=\"start\" x=\"1776\" y=\"-290.8\" font-family=\"Helvetica,sans-Serif\" font-size=\"14.00\">price ≤ 3747500.0</text>\n<text text-anchor=\"start\" x=\"1794\" y=\"-275.8\" font-family=\"Helvetica,sans-Serif\" font-size=\"14.00\">entropy = 1.0</text>\n<text text-anchor=\"start\" x=\"1798.5\" y=\"-260.8\" font-family=\"Helvetica,sans-Serif\" font-size=\"14.00\">samples = 6</text>\n<text text-anchor=\"start\" x=\"1794\" y=\"-245.8\" font-family=\"Helvetica,sans-Serif\" font-size=\"14.00\">value = [3, 3]</text>\n<text text-anchor=\"start\" x=\"1767\" y=\"-230.8\" font-family=\"Helvetica,sans-Serif\" font-size=\"14.00\">class = San Francisco</text>\n</g>\n<!-- 28&#45;&gt;30 -->\n<g id=\"edge30\" class=\"edge\">\n<title>28&#45;&gt;30</title>\n<path fill=\"none\" stroke=\"black\" d=\"M1842.5,-341.91C1842.5,-333.65 1842.5,-324.86 1842.5,-316.3\"/>\n<polygon fill=\"black\" stroke=\"black\" points=\"1846,-316.02 1842.5,-306.02 1839,-316.02 1846,-316.02\"/>\n</g>\n<!-- 31 -->\n<g id=\"node32\" class=\"node\">\n<title>31</title>\n<path fill=\"#399de5\" stroke=\"black\" d=\"M1883.5,-179.5C1883.5,-179.5 1771.5,-179.5 1771.5,-179.5 1765.5,-179.5 1759.5,-173.5 1759.5,-167.5 1759.5,-167.5 1759.5,-123.5 1759.5,-123.5 1759.5,-117.5 1765.5,-111.5 1771.5,-111.5 1771.5,-111.5 1883.5,-111.5 1883.5,-111.5 1889.5,-111.5 1895.5,-117.5 1895.5,-123.5 1895.5,-123.5 1895.5,-167.5 1895.5,-167.5 1895.5,-173.5 1889.5,-179.5 1883.5,-179.5\"/>\n<text text-anchor=\"start\" x=\"1779\" y=\"-164.3\" font-family=\"Helvetica,sans-Serif\" font-size=\"14.00\">entropy = 0.0</text>\n<text text-anchor=\"start\" x=\"1783.5\" y=\"-149.3\" font-family=\"Helvetica,sans-Serif\" font-size=\"14.00\">samples = 2</text>\n<text text-anchor=\"start\" x=\"1779\" y=\"-134.3\" font-family=\"Helvetica,sans-Serif\" font-size=\"14.00\">value = [0, 2]</text>\n<text text-anchor=\"start\" x=\"1767.5\" y=\"-119.3\" font-family=\"Helvetica,sans-Serif\" font-size=\"14.00\">class = New York</text>\n</g>\n<!-- 30&#45;&gt;31 -->\n<g id=\"edge31\" class=\"edge\">\n<title>30&#45;&gt;31</title>\n<path fill=\"none\" stroke=\"black\" d=\"M1837.3,-222.91C1835.92,-212.2 1834.44,-200.62 1833.05,-189.78\"/>\n<polygon fill=\"black\" stroke=\"black\" points=\"1836.5,-189.14 1831.75,-179.67 1829.55,-190.03 1836.5,-189.14\"/>\n</g>\n<!-- 32 -->\n<g id=\"node33\" class=\"node\">\n<title>32</title>\n<path fill=\"#eeab7b\" stroke=\"black\" d=\"M2069,-187C2069,-187 1926,-187 1926,-187 1920,-187 1914,-181 1914,-175 1914,-175 1914,-116 1914,-116 1914,-110 1920,-104 1926,-104 1926,-104 2069,-104 2069,-104 2075,-104 2081,-110 2081,-116 2081,-116 2081,-175 2081,-175 2081,-181 2075,-187 2069,-187\"/>\n<text text-anchor=\"start\" x=\"1958.5\" y=\"-171.8\" font-family=\"Helvetica,sans-Serif\" font-size=\"14.00\">beds ≤ 5.0</text>\n<text text-anchor=\"start\" x=\"1940\" y=\"-156.8\" font-family=\"Helvetica,sans-Serif\" font-size=\"14.00\">entropy = 0.811</text>\n<text text-anchor=\"start\" x=\"1953.5\" y=\"-141.8\" font-family=\"Helvetica,sans-Serif\" font-size=\"14.00\">samples = 4</text>\n<text text-anchor=\"start\" x=\"1949\" y=\"-126.8\" font-family=\"Helvetica,sans-Serif\" font-size=\"14.00\">value = [3, 1]</text>\n<text text-anchor=\"start\" x=\"1922\" y=\"-111.8\" font-family=\"Helvetica,sans-Serif\" font-size=\"14.00\">class = San Francisco</text>\n</g>\n<!-- 30&#45;&gt;32 -->\n<g id=\"edge32\" class=\"edge\">\n<title>30&#45;&gt;32</title>\n<path fill=\"none\" stroke=\"black\" d=\"M1896.28,-222.91C1909.02,-213.29 1922.71,-202.95 1935.78,-193.09\"/>\n<polygon fill=\"black\" stroke=\"black\" points=\"1937.95,-195.84 1943.82,-187.02 1933.73,-190.25 1937.95,-195.84\"/>\n</g>\n<!-- 33 -->\n<g id=\"node34\" class=\"node\">\n<title>33</title>\n<path fill=\"#e58139\" stroke=\"black\" d=\"M1984,-68C1984,-68 1841,-68 1841,-68 1835,-68 1829,-62 1829,-56 1829,-56 1829,-12 1829,-12 1829,-6 1835,0 1841,0 1841,0 1984,0 1984,0 1990,0 1996,-6 1996,-12 1996,-12 1996,-56 1996,-56 1996,-62 1990,-68 1984,-68\"/>\n<text text-anchor=\"start\" x=\"1864\" y=\"-52.8\" font-family=\"Helvetica,sans-Serif\" font-size=\"14.00\">entropy = 0.0</text>\n<text text-anchor=\"start\" x=\"1868.5\" y=\"-37.8\" font-family=\"Helvetica,sans-Serif\" font-size=\"14.00\">samples = 3</text>\n<text text-anchor=\"start\" x=\"1864\" y=\"-22.8\" font-family=\"Helvetica,sans-Serif\" font-size=\"14.00\">value = [3, 0]</text>\n<text text-anchor=\"start\" x=\"1837\" y=\"-7.8\" font-family=\"Helvetica,sans-Serif\" font-size=\"14.00\">class = San Francisco</text>\n</g>\n<!-- 32&#45;&gt;33 -->\n<g id=\"edge33\" class=\"edge\">\n<title>32&#45;&gt;33</title>\n<path fill=\"none\" stroke=\"black\" d=\"M1965.85,-103.73C1958.91,-94.79 1951.56,-85.32 1944.6,-76.36\"/>\n<polygon fill=\"black\" stroke=\"black\" points=\"1947.25,-74.05 1938.35,-68.3 1941.72,-78.35 1947.25,-74.05\"/>\n</g>\n<!-- 34 -->\n<g id=\"node35\" class=\"node\">\n<title>34</title>\n<path fill=\"#399de5\" stroke=\"black\" d=\"M2138.5,-68C2138.5,-68 2026.5,-68 2026.5,-68 2020.5,-68 2014.5,-62 2014.5,-56 2014.5,-56 2014.5,-12 2014.5,-12 2014.5,-6 2020.5,0 2026.5,0 2026.5,0 2138.5,0 2138.5,0 2144.5,0 2150.5,-6 2150.5,-12 2150.5,-12 2150.5,-56 2150.5,-56 2150.5,-62 2144.5,-68 2138.5,-68\"/>\n<text text-anchor=\"start\" x=\"2034\" y=\"-52.8\" font-family=\"Helvetica,sans-Serif\" font-size=\"14.00\">entropy = 0.0</text>\n<text text-anchor=\"start\" x=\"2038.5\" y=\"-37.8\" font-family=\"Helvetica,sans-Serif\" font-size=\"14.00\">samples = 1</text>\n<text text-anchor=\"start\" x=\"2034\" y=\"-22.8\" font-family=\"Helvetica,sans-Serif\" font-size=\"14.00\">value = [0, 1]</text>\n<text text-anchor=\"start\" x=\"2022.5\" y=\"-7.8\" font-family=\"Helvetica,sans-Serif\" font-size=\"14.00\">class = New York</text>\n</g>\n<!-- 32&#45;&gt;34 -->\n<g id=\"edge34\" class=\"edge\">\n<title>32&#45;&gt;34</title>\n<path fill=\"none\" stroke=\"black\" d=\"M2029.15,-103.73C2036.09,-94.79 2043.44,-85.32 2050.4,-76.36\"/>\n<polygon fill=\"black\" stroke=\"black\" points=\"2053.28,-78.35 2056.65,-68.3 2047.75,-74.05 2053.28,-78.35\"/>\n</g>\n<!-- 36 -->\n<g id=\"node37\" class=\"node\">\n<title>36</title>\n<path fill=\"#e58139\" stroke=\"black\" d=\"M2099,-298.5C2099,-298.5 1956,-298.5 1956,-298.5 1950,-298.5 1944,-292.5 1944,-286.5 1944,-286.5 1944,-242.5 1944,-242.5 1944,-236.5 1950,-230.5 1956,-230.5 1956,-230.5 2099,-230.5 2099,-230.5 2105,-230.5 2111,-236.5 2111,-242.5 2111,-242.5 2111,-286.5 2111,-286.5 2111,-292.5 2105,-298.5 2099,-298.5\"/>\n<text text-anchor=\"start\" x=\"1979\" y=\"-283.3\" font-family=\"Helvetica,sans-Serif\" font-size=\"14.00\">entropy = 0.0</text>\n<text text-anchor=\"start\" x=\"1979\" y=\"-268.3\" font-family=\"Helvetica,sans-Serif\" font-size=\"14.00\">samples = 77</text>\n<text text-anchor=\"start\" x=\"1974.5\" y=\"-253.3\" font-family=\"Helvetica,sans-Serif\" font-size=\"14.00\">value = [77, 0]</text>\n<text text-anchor=\"start\" x=\"1952\" y=\"-238.3\" font-family=\"Helvetica,sans-Serif\" font-size=\"14.00\">class = San Francisco</text>\n</g>\n<!-- 35&#45;&gt;36 -->\n<g id=\"edge36\" class=\"edge\">\n<title>35&#45;&gt;36</title>\n<path fill=\"none\" stroke=\"black\" d=\"M2027.5,-341.91C2027.5,-331.2 2027.5,-319.62 2027.5,-308.78\"/>\n<polygon fill=\"black\" stroke=\"black\" points=\"2031,-308.67 2027.5,-298.67 2024,-308.67 2031,-308.67\"/>\n</g>\n<!-- 37 -->\n<g id=\"node38\" class=\"node\">\n<title>37</title>\n<path fill=\"#ffffff\" stroke=\"black\" d=\"M2302,-306C2302,-306 2141,-306 2141,-306 2135,-306 2129,-300 2129,-294 2129,-294 2129,-235 2129,-235 2129,-229 2135,-223 2141,-223 2141,-223 2302,-223 2302,-223 2308,-223 2314,-229 2314,-235 2314,-235 2314,-294 2314,-294 2314,-300 2308,-306 2302,-306\"/>\n<text text-anchor=\"start\" x=\"2137\" y=\"-290.8\" font-family=\"Helvetica,sans-Serif\" font-size=\"14.00\">price_per_sqft ≤ 2243.0</text>\n<text text-anchor=\"start\" x=\"2173\" y=\"-275.8\" font-family=\"Helvetica,sans-Serif\" font-size=\"14.00\">entropy = 1.0</text>\n<text text-anchor=\"start\" x=\"2177.5\" y=\"-260.8\" font-family=\"Helvetica,sans-Serif\" font-size=\"14.00\">samples = 2</text>\n<text text-anchor=\"start\" x=\"2173\" y=\"-245.8\" font-family=\"Helvetica,sans-Serif\" font-size=\"14.00\">value = [1, 1]</text>\n<text text-anchor=\"start\" x=\"2146\" y=\"-230.8\" font-family=\"Helvetica,sans-Serif\" font-size=\"14.00\">class = San Francisco</text>\n</g>\n<!-- 35&#45;&gt;37 -->\n<g id=\"edge37\" class=\"edge\">\n<title>35&#45;&gt;37</title>\n<path fill=\"none\" stroke=\"black\" d=\"M2094.81,-341.91C2111.21,-332.02 2128.86,-321.37 2145.63,-311.25\"/>\n<polygon fill=\"black\" stroke=\"black\" points=\"2147.56,-314.18 2154.31,-306.02 2143.94,-308.19 2147.56,-314.18\"/>\n</g>\n<!-- 38 -->\n<g id=\"node39\" class=\"node\">\n<title>38</title>\n<path fill=\"#399de5\" stroke=\"black\" d=\"M2250.5,-179.5C2250.5,-179.5 2138.5,-179.5 2138.5,-179.5 2132.5,-179.5 2126.5,-173.5 2126.5,-167.5 2126.5,-167.5 2126.5,-123.5 2126.5,-123.5 2126.5,-117.5 2132.5,-111.5 2138.5,-111.5 2138.5,-111.5 2250.5,-111.5 2250.5,-111.5 2256.5,-111.5 2262.5,-117.5 2262.5,-123.5 2262.5,-123.5 2262.5,-167.5 2262.5,-167.5 2262.5,-173.5 2256.5,-179.5 2250.5,-179.5\"/>\n<text text-anchor=\"start\" x=\"2146\" y=\"-164.3\" font-family=\"Helvetica,sans-Serif\" font-size=\"14.00\">entropy = 0.0</text>\n<text text-anchor=\"start\" x=\"2150.5\" y=\"-149.3\" font-family=\"Helvetica,sans-Serif\" font-size=\"14.00\">samples = 1</text>\n<text text-anchor=\"start\" x=\"2146\" y=\"-134.3\" font-family=\"Helvetica,sans-Serif\" font-size=\"14.00\">value = [0, 1]</text>\n<text text-anchor=\"start\" x=\"2134.5\" y=\"-119.3\" font-family=\"Helvetica,sans-Serif\" font-size=\"14.00\">class = New York</text>\n</g>\n<!-- 37&#45;&gt;38 -->\n<g id=\"edge38\" class=\"edge\">\n<title>37&#45;&gt;38</title>\n<path fill=\"none\" stroke=\"black\" d=\"M2212.13,-222.91C2209.64,-212.09 2206.93,-200.38 2204.41,-189.44\"/>\n<polygon fill=\"black\" stroke=\"black\" points=\"2207.81,-188.62 2202.15,-179.67 2200.99,-190.2 2207.81,-188.62\"/>\n</g>\n<!-- 39 -->\n<g id=\"node40\" class=\"node\">\n<title>39</title>\n<path fill=\"#e58139\" stroke=\"black\" d=\"M2436,-179.5C2436,-179.5 2293,-179.5 2293,-179.5 2287,-179.5 2281,-173.5 2281,-167.5 2281,-167.5 2281,-123.5 2281,-123.5 2281,-117.5 2287,-111.5 2293,-111.5 2293,-111.5 2436,-111.5 2436,-111.5 2442,-111.5 2448,-117.5 2448,-123.5 2448,-123.5 2448,-167.5 2448,-167.5 2448,-173.5 2442,-179.5 2436,-179.5\"/>\n<text text-anchor=\"start\" x=\"2316\" y=\"-164.3\" font-family=\"Helvetica,sans-Serif\" font-size=\"14.00\">entropy = 0.0</text>\n<text text-anchor=\"start\" x=\"2320.5\" y=\"-149.3\" font-family=\"Helvetica,sans-Serif\" font-size=\"14.00\">samples = 1</text>\n<text text-anchor=\"start\" x=\"2316\" y=\"-134.3\" font-family=\"Helvetica,sans-Serif\" font-size=\"14.00\">value = [1, 0]</text>\n<text text-anchor=\"start\" x=\"2289\" y=\"-119.3\" font-family=\"Helvetica,sans-Serif\" font-size=\"14.00\">class = San Francisco</text>\n</g>\n<!-- 37&#45;&gt;39 -->\n<g id=\"edge39\" class=\"edge\">\n<title>37&#45;&gt;39</title>\n<path fill=\"none\" stroke=\"black\" d=\"M2271.11,-222.91C2285.68,-210.99 2301.59,-197.98 2316.08,-186.12\"/>\n<polygon fill=\"black\" stroke=\"black\" points=\"2318.44,-188.71 2323.96,-179.67 2314.01,-183.29 2318.44,-188.71\"/>\n</g>\n<!-- 41 -->\n<g id=\"node42\" class=\"node\">\n<title>41</title>\n<path fill=\"#d7ebfa\" stroke=\"black\" d=\"M2277.5,-544C2277.5,-544 2165.5,-544 2165.5,-544 2159.5,-544 2153.5,-538 2153.5,-532 2153.5,-532 2153.5,-473 2153.5,-473 2153.5,-467 2159.5,-461 2165.5,-461 2165.5,-461 2277.5,-461 2277.5,-461 2283.5,-461 2289.5,-467 2289.5,-473 2289.5,-473 2289.5,-532 2289.5,-532 2289.5,-538 2283.5,-544 2277.5,-544\"/>\n<text text-anchor=\"start\" x=\"2177.5\" y=\"-528.8\" font-family=\"Helvetica,sans-Serif\" font-size=\"14.00\">sqft ≤ 668.0</text>\n<text text-anchor=\"start\" x=\"2164\" y=\"-513.8\" font-family=\"Helvetica,sans-Serif\" font-size=\"14.00\">entropy = 0.991</text>\n<text text-anchor=\"start\" x=\"2177.5\" y=\"-498.8\" font-family=\"Helvetica,sans-Serif\" font-size=\"14.00\">samples = 9</text>\n<text text-anchor=\"start\" x=\"2173\" y=\"-483.8\" font-family=\"Helvetica,sans-Serif\" font-size=\"14.00\">value = [4, 5]</text>\n<text text-anchor=\"start\" x=\"2161.5\" y=\"-468.8\" font-family=\"Helvetica,sans-Serif\" font-size=\"14.00\">class = New York</text>\n</g>\n<!-- 40&#45;&gt;41 -->\n<g id=\"edge41\" class=\"edge\">\n<title>40&#45;&gt;41</title>\n<path fill=\"none\" stroke=\"black\" d=\"M2221.5,-579.91C2221.5,-571.65 2221.5,-562.86 2221.5,-554.3\"/>\n<polygon fill=\"black\" stroke=\"black\" points=\"2225,-554.02 2221.5,-544.02 2218,-554.02 2225,-554.02\"/>\n</g>\n<!-- 48 -->\n<g id=\"node49\" class=\"node\">\n<title>48</title>\n<path fill=\"#399de5\" stroke=\"black\" d=\"M2431.5,-536.5C2431.5,-536.5 2319.5,-536.5 2319.5,-536.5 2313.5,-536.5 2307.5,-530.5 2307.5,-524.5 2307.5,-524.5 2307.5,-480.5 2307.5,-480.5 2307.5,-474.5 2313.5,-468.5 2319.5,-468.5 2319.5,-468.5 2431.5,-468.5 2431.5,-468.5 2437.5,-468.5 2443.5,-474.5 2443.5,-480.5 2443.5,-480.5 2443.5,-524.5 2443.5,-524.5 2443.5,-530.5 2437.5,-536.5 2431.5,-536.5\"/>\n<text text-anchor=\"start\" x=\"2327\" y=\"-521.3\" font-family=\"Helvetica,sans-Serif\" font-size=\"14.00\">entropy = 0.0</text>\n<text text-anchor=\"start\" x=\"2322.5\" y=\"-506.3\" font-family=\"Helvetica,sans-Serif\" font-size=\"14.00\">samples = 134</text>\n<text text-anchor=\"start\" x=\"2318\" y=\"-491.3\" font-family=\"Helvetica,sans-Serif\" font-size=\"14.00\">value = [0, 134]</text>\n<text text-anchor=\"start\" x=\"2315.5\" y=\"-476.3\" font-family=\"Helvetica,sans-Serif\" font-size=\"14.00\">class = New York</text>\n</g>\n<!-- 40&#45;&gt;48 -->\n<g id=\"edge48\" class=\"edge\">\n<title>40&#45;&gt;48</title>\n<path fill=\"none\" stroke=\"black\" d=\"M2274.93,-579.91C2290.76,-567.88 2308.06,-554.73 2323.78,-542.79\"/>\n<polygon fill=\"black\" stroke=\"black\" points=\"2326,-545.5 2331.84,-536.67 2321.76,-539.93 2326,-545.5\"/>\n</g>\n<!-- 42 -->\n<g id=\"node43\" class=\"node\">\n<title>42</title>\n<path fill=\"#399de5\" stroke=\"black\" d=\"M2277.5,-417.5C2277.5,-417.5 2165.5,-417.5 2165.5,-417.5 2159.5,-417.5 2153.5,-411.5 2153.5,-405.5 2153.5,-405.5 2153.5,-361.5 2153.5,-361.5 2153.5,-355.5 2159.5,-349.5 2165.5,-349.5 2165.5,-349.5 2277.5,-349.5 2277.5,-349.5 2283.5,-349.5 2289.5,-355.5 2289.5,-361.5 2289.5,-361.5 2289.5,-405.5 2289.5,-405.5 2289.5,-411.5 2283.5,-417.5 2277.5,-417.5\"/>\n<text text-anchor=\"start\" x=\"2173\" y=\"-402.3\" font-family=\"Helvetica,sans-Serif\" font-size=\"14.00\">entropy = 0.0</text>\n<text text-anchor=\"start\" x=\"2177.5\" y=\"-387.3\" font-family=\"Helvetica,sans-Serif\" font-size=\"14.00\">samples = 4</text>\n<text text-anchor=\"start\" x=\"2173\" y=\"-372.3\" font-family=\"Helvetica,sans-Serif\" font-size=\"14.00\">value = [0, 4]</text>\n<text text-anchor=\"start\" x=\"2161.5\" y=\"-357.3\" font-family=\"Helvetica,sans-Serif\" font-size=\"14.00\">class = New York</text>\n</g>\n<!-- 41&#45;&gt;42 -->\n<g id=\"edge42\" class=\"edge\">\n<title>41&#45;&gt;42</title>\n<path fill=\"none\" stroke=\"black\" d=\"M2221.5,-460.91C2221.5,-450.2 2221.5,-438.62 2221.5,-427.78\"/>\n<polygon fill=\"black\" stroke=\"black\" points=\"2225,-427.67 2221.5,-417.67 2218,-427.67 2225,-427.67\"/>\n</g>\n<!-- 43 -->\n<g id=\"node44\" class=\"node\">\n<title>43</title>\n<path fill=\"#eca06a\" stroke=\"black\" d=\"M2487,-425C2487,-425 2344,-425 2344,-425 2338,-425 2332,-419 2332,-413 2332,-413 2332,-354 2332,-354 2332,-348 2338,-342 2344,-342 2344,-342 2487,-342 2487,-342 2493,-342 2499,-348 2499,-354 2499,-354 2499,-413 2499,-413 2499,-419 2493,-425 2487,-425\"/>\n<text text-anchor=\"start\" x=\"2371.5\" y=\"-409.8\" font-family=\"Helvetica,sans-Serif\" font-size=\"14.00\">sqft ≤ 745.5</text>\n<text text-anchor=\"start\" x=\"2358\" y=\"-394.8\" font-family=\"Helvetica,sans-Serif\" font-size=\"14.00\">entropy = 0.722</text>\n<text text-anchor=\"start\" x=\"2371.5\" y=\"-379.8\" font-family=\"Helvetica,sans-Serif\" font-size=\"14.00\">samples = 5</text>\n<text text-anchor=\"start\" x=\"2367\" y=\"-364.8\" font-family=\"Helvetica,sans-Serif\" font-size=\"14.00\">value = [4, 1]</text>\n<text text-anchor=\"start\" x=\"2340\" y=\"-349.8\" font-family=\"Helvetica,sans-Serif\" font-size=\"14.00\">class = San Francisco</text>\n</g>\n<!-- 41&#45;&gt;43 -->\n<g id=\"edge43\" class=\"edge\">\n<title>41&#45;&gt;43</title>\n<path fill=\"none\" stroke=\"black\" d=\"M2288.81,-460.91C2305.21,-451.02 2322.86,-440.37 2339.63,-430.25\"/>\n<polygon fill=\"black\" stroke=\"black\" points=\"2341.56,-433.18 2348.31,-425.02 2337.94,-427.19 2341.56,-433.18\"/>\n</g>\n<!-- 44 -->\n<g id=\"node45\" class=\"node\">\n<title>44</title>\n<path fill=\"#e58139\" stroke=\"black\" d=\"M2487,-298.5C2487,-298.5 2344,-298.5 2344,-298.5 2338,-298.5 2332,-292.5 2332,-286.5 2332,-286.5 2332,-242.5 2332,-242.5 2332,-236.5 2338,-230.5 2344,-230.5 2344,-230.5 2487,-230.5 2487,-230.5 2493,-230.5 2499,-236.5 2499,-242.5 2499,-242.5 2499,-286.5 2499,-286.5 2499,-292.5 2493,-298.5 2487,-298.5\"/>\n<text text-anchor=\"start\" x=\"2367\" y=\"-283.3\" font-family=\"Helvetica,sans-Serif\" font-size=\"14.00\">entropy = 0.0</text>\n<text text-anchor=\"start\" x=\"2371.5\" y=\"-268.3\" font-family=\"Helvetica,sans-Serif\" font-size=\"14.00\">samples = 3</text>\n<text text-anchor=\"start\" x=\"2367\" y=\"-253.3\" font-family=\"Helvetica,sans-Serif\" font-size=\"14.00\">value = [3, 0]</text>\n<text text-anchor=\"start\" x=\"2340\" y=\"-238.3\" font-family=\"Helvetica,sans-Serif\" font-size=\"14.00\">class = San Francisco</text>\n</g>\n<!-- 43&#45;&gt;44 -->\n<g id=\"edge44\" class=\"edge\">\n<title>43&#45;&gt;44</title>\n<path fill=\"none\" stroke=\"black\" d=\"M2415.5,-341.91C2415.5,-331.2 2415.5,-319.62 2415.5,-308.78\"/>\n<polygon fill=\"black\" stroke=\"black\" points=\"2419,-308.67 2415.5,-298.67 2412,-308.67 2419,-308.67\"/>\n</g>\n<!-- 45 -->\n<g id=\"node46\" class=\"node\">\n<title>45</title>\n<path fill=\"#ffffff\" stroke=\"black\" d=\"M2672,-306C2672,-306 2529,-306 2529,-306 2523,-306 2517,-300 2517,-294 2517,-294 2517,-235 2517,-235 2517,-229 2523,-223 2529,-223 2529,-223 2672,-223 2672,-223 2678,-223 2684,-229 2684,-235 2684,-235 2684,-294 2684,-294 2684,-300 2678,-306 2672,-306\"/>\n<text text-anchor=\"start\" x=\"2531\" y=\"-290.8\" font-family=\"Helvetica,sans-Serif\" font-size=\"14.00\">year_built ≤ 1952.5</text>\n<text text-anchor=\"start\" x=\"2552\" y=\"-275.8\" font-family=\"Helvetica,sans-Serif\" font-size=\"14.00\">entropy = 1.0</text>\n<text text-anchor=\"start\" x=\"2556.5\" y=\"-260.8\" font-family=\"Helvetica,sans-Serif\" font-size=\"14.00\">samples = 2</text>\n<text text-anchor=\"start\" x=\"2552\" y=\"-245.8\" font-family=\"Helvetica,sans-Serif\" font-size=\"14.00\">value = [1, 1]</text>\n<text text-anchor=\"start\" x=\"2525\" y=\"-230.8\" font-family=\"Helvetica,sans-Serif\" font-size=\"14.00\">class = San Francisco</text>\n</g>\n<!-- 43&#45;&gt;45 -->\n<g id=\"edge45\" class=\"edge\">\n<title>43&#45;&gt;45</title>\n<path fill=\"none\" stroke=\"black\" d=\"M2479.68,-341.91C2495.18,-332.11 2511.85,-321.56 2527.71,-311.53\"/>\n<polygon fill=\"black\" stroke=\"black\" points=\"2529.85,-314.32 2536.43,-306.02 2526.11,-308.41 2529.85,-314.32\"/>\n</g>\n<!-- 46 -->\n<g id=\"node47\" class=\"node\">\n<title>46</title>\n<path fill=\"#e58139\" stroke=\"black\" d=\"M2647,-179.5C2647,-179.5 2504,-179.5 2504,-179.5 2498,-179.5 2492,-173.5 2492,-167.5 2492,-167.5 2492,-123.5 2492,-123.5 2492,-117.5 2498,-111.5 2504,-111.5 2504,-111.5 2647,-111.5 2647,-111.5 2653,-111.5 2659,-117.5 2659,-123.5 2659,-123.5 2659,-167.5 2659,-167.5 2659,-173.5 2653,-179.5 2647,-179.5\"/>\n<text text-anchor=\"start\" x=\"2527\" y=\"-164.3\" font-family=\"Helvetica,sans-Serif\" font-size=\"14.00\">entropy = 0.0</text>\n<text text-anchor=\"start\" x=\"2531.5\" y=\"-149.3\" font-family=\"Helvetica,sans-Serif\" font-size=\"14.00\">samples = 1</text>\n<text text-anchor=\"start\" x=\"2527\" y=\"-134.3\" font-family=\"Helvetica,sans-Serif\" font-size=\"14.00\">value = [1, 0]</text>\n<text text-anchor=\"start\" x=\"2500\" y=\"-119.3\" font-family=\"Helvetica,sans-Serif\" font-size=\"14.00\">class = San Francisco</text>\n</g>\n<!-- 45&#45;&gt;46 -->\n<g id=\"edge46\" class=\"edge\">\n<title>45&#45;&gt;46</title>\n<path fill=\"none\" stroke=\"black\" d=\"M2591.83,-222.91C2589.54,-212.2 2587.06,-200.62 2584.75,-189.78\"/>\n<polygon fill=\"black\" stroke=\"black\" points=\"2588.1,-188.71 2582.59,-179.67 2581.25,-190.18 2588.1,-188.71\"/>\n</g>\n<!-- 47 -->\n<g id=\"node48\" class=\"node\">\n<title>47</title>\n<path fill=\"#399de5\" stroke=\"black\" d=\"M2801.5,-179.5C2801.5,-179.5 2689.5,-179.5 2689.5,-179.5 2683.5,-179.5 2677.5,-173.5 2677.5,-167.5 2677.5,-167.5 2677.5,-123.5 2677.5,-123.5 2677.5,-117.5 2683.5,-111.5 2689.5,-111.5 2689.5,-111.5 2801.5,-111.5 2801.5,-111.5 2807.5,-111.5 2813.5,-117.5 2813.5,-123.5 2813.5,-123.5 2813.5,-167.5 2813.5,-167.5 2813.5,-173.5 2807.5,-179.5 2801.5,-179.5\"/>\n<text text-anchor=\"start\" x=\"2697\" y=\"-164.3\" font-family=\"Helvetica,sans-Serif\" font-size=\"14.00\">entropy = 0.0</text>\n<text text-anchor=\"start\" x=\"2701.5\" y=\"-149.3\" font-family=\"Helvetica,sans-Serif\" font-size=\"14.00\">samples = 1</text>\n<text text-anchor=\"start\" x=\"2697\" y=\"-134.3\" font-family=\"Helvetica,sans-Serif\" font-size=\"14.00\">value = [0, 1]</text>\n<text text-anchor=\"start\" x=\"2685.5\" y=\"-119.3\" font-family=\"Helvetica,sans-Serif\" font-size=\"14.00\">class = New York</text>\n</g>\n<!-- 45&#45;&gt;47 -->\n<g id=\"edge47\" class=\"edge\">\n<title>45&#45;&gt;47</title>\n<path fill=\"none\" stroke=\"black\" d=\"M2650.81,-222.91C2665.58,-210.99 2681.71,-197.98 2696.4,-186.12\"/>\n<polygon fill=\"black\" stroke=\"black\" points=\"2698.81,-188.67 2704.4,-179.67 2694.42,-183.22 2698.81,-188.67\"/>\n</g>\n</g>\n</svg>\n",
      "text/plain": [
       "<graphviz.sources.Source at 0x7a2cf8f53710>"
      ]
     },
     "execution_count": 14,
     "metadata": {},
     "output_type": "execute_result"
    }
   ],
   "execution_count": 14
  },
  {
   "cell_type": "markdown",
   "metadata": {},
   "source": [
    "Bepaal de invloed van het aantal lagen van de boom op de voorspellingsscore."
   ]
  },
  {
   "cell_type": "code",
   "metadata": {
    "tags": [
     "student"
    ],
    "ExecuteTime": {
     "end_time": "2024-10-01T13:50:08.944871Z",
     "start_time": "2024-10-01T13:50:08.939406Z"
    }
   },
   "source": [
    "model.score(features_test, target_test)"
   ],
   "outputs": [
    {
     "data": {
      "text/plain": [
       "0.8861788617886179"
      ]
     },
     "execution_count": 15,
     "metadata": {},
     "output_type": "execute_result"
    }
   ],
   "execution_count": 15
  },
  {
   "cell_type": "markdown",
   "metadata": {},
   "source": []
  },
  {
   "cell_type": "markdown",
   "metadata": {},
   "source": [
    "<a id = \"dt_opdracht2\"></a>\n",
    "## Opdracht 2\n",
    "\n",
    "In dit notebook wordt het onderliggende zelflerende algoritme van decision trees uitgelegd. Dit is gebaseerd op entropie. Je kunt in dit notebook zelf spelen met de werking van entropie om zo een beter gevoel te krijgen voor de werking van decision trees."
   ]
  },
  {
   "cell_type": "code",
   "metadata": {
    "ExecuteTime": {
     "end_time": "2024-10-01T13:50:08.996541Z",
     "start_time": "2024-10-01T13:50:08.994508Z"
    }
   },
   "source": [
    "import numpy as np\n",
    "import pandas as pd\n",
    "import matplotlib.pyplot as plt\n",
    "import graphviz\n",
    "import scipy.stats as st\n",
    "\n",
    "from sklearn.tree import DecisionTreeClassifier, export_graphviz\n",
    "from sklearn.model_selection import train_test_split\n",
    "from sklearn.metrics import accuracy_score"
   ],
   "outputs": [],
   "execution_count": 16
  },
  {
   "cell_type": "code",
   "metadata": {
    "ExecuteTime": {
     "end_time": "2024-10-01T13:50:09.042392Z",
     "start_time": "2024-10-01T13:50:09.039740Z"
    }
   },
   "source": [
    "weer = pd.DataFrame({'weertype': ['slecht', 'slecht', 'slecht', 'medium', 'mooi', 'medium', 'mooi'],\n",
    "                     'weerklasse': [0, 0, 0, 1, 2, 1, 2],\n",
    "                     'temperatuur': [3, 18, 32, 36, 19, 7, -10], \n",
    "                     'regen': [True, True, True, False, False, False, False]})"
   ],
   "outputs": [],
   "execution_count": 17
  },
  {
   "cell_type": "markdown",
   "metadata": {},
   "source": [
    "Entropie $E(S)$:\n",
    "\n",
    "$$E(S) = -\\sum_{i=1}^{c}p_{i}\\log_{2}(p_{i})$$\n",
    "\n",
    "Als er twee klassen zijn (dus $c = 2$ mogelijke waarden voor doelvariabele $S$), dan ligt de waarde van de entropie tussen de 0 (alles behoort tot één klasse) en 1 (meetwaarden zijn precies verdeeld over de twee klassen).\n",
    "\n",
    "NB. Als je het aandeel $p_1$ van de eerste klasse $c_1$ weet, dan weet je ook het aandeel $p_2 = 1 - p_1$ van de tweede klasse $c_2$. Bij méér dan twee klassen gaat dit natuurlijk niet meer op."
   ]
  },
  {
   "cell_type": "code",
   "metadata": {
    "ExecuteTime": {
     "end_time": "2024-10-01T13:50:09.288053Z",
     "start_time": "2024-10-01T13:50:09.090288Z"
    }
   },
   "source": [
    "fig, ax = plt.subplots(1, dpi=100)\n",
    "\n",
    "x = np.linspace(.001,.999,100)\n",
    "y = -x * np.log2(x) + -(1-x) * np.log2(1-x)\n",
    "ax.set_xlabel(r\"Aandeel van klasse $c_1$\")\n",
    "ax.set_ylabel(r\"Entropie $E(S)$\")\n",
    "\n",
    "plt.plot(x,y)\n",
    "plt.show()"
   ],
   "outputs": [
    {
     "data": {
      "text/plain": [
       "<Figure size 640x480 with 1 Axes>"
      ],
      "image/png": "[encoded data removed]"
     },
     "metadata": {},
     "output_type": "display_data"
    }
   ],
   "execution_count": 18
  },
  {
   "cell_type": "markdown",
   "metadata": {},
   "source": [
    "Bepaal met bovenstaande formule de entropie van doelvariabele `weertype`."
   ]
  },
  {
   "cell_type": "code",
   "metadata": {
    "ExecuteTime": {
     "end_time": "2024-10-01T13:50:09.305807Z",
     "start_time": "2024-10-01T13:50:09.302708Z"
    }
   },
   "source": [
    "weer"
   ],
   "outputs": [
    {
     "data": {
      "text/plain": [
       "  weertype  weerklasse  temperatuur  regen\n",
       "0   slecht           0            3   True\n",
       "1   slecht           0           18   True\n",
       "2   slecht           0           32   True\n",
       "3   medium           1           36  False\n",
       "4     mooi           2           19  False\n",
       "5   medium           1            7  False\n",
       "6     mooi           2          -10  False"
      ],
      "text/html": [
       "<div>\n",
       "<style scoped>\n",
       "    .dataframe tbody tr th:only-of-type {\n",
       "        vertical-align: middle;\n",
       "    }\n",
       "\n",
       "    .dataframe tbody tr th {\n",
       "        vertical-align: top;\n",
       "    }\n",
       "\n",
       "    .dataframe thead th {\n",
       "        text-align: right;\n",
       "    }\n",
       "</style>\n",
       "<table border=\"1\" class=\"dataframe\">\n",
       "  <thead>\n",
       "    <tr style=\"text-align: right;\">\n",
       "      <th></th>\n",
       "      <th>weertype</th>\n",
       "      <th>weerklasse</th>\n",
       "      <th>temperatuur</th>\n",
       "      <th>regen</th>\n",
       "    </tr>\n",
       "  </thead>\n",
       "  <tbody>\n",
       "    <tr>\n",
       "      <th>0</th>\n",
       "      <td>slecht</td>\n",
       "      <td>0</td>\n",
       "      <td>3</td>\n",
       "      <td>True</td>\n",
       "    </tr>\n",
       "    <tr>\n",
       "      <th>1</th>\n",
       "      <td>slecht</td>\n",
       "      <td>0</td>\n",
       "      <td>18</td>\n",
       "      <td>True</td>\n",
       "    </tr>\n",
       "    <tr>\n",
       "      <th>2</th>\n",
       "      <td>slecht</td>\n",
       "      <td>0</td>\n",
       "      <td>32</td>\n",
       "      <td>True</td>\n",
       "    </tr>\n",
       "    <tr>\n",
       "      <th>3</th>\n",
       "      <td>medium</td>\n",
       "      <td>1</td>\n",
       "      <td>36</td>\n",
       "      <td>False</td>\n",
       "    </tr>\n",
       "    <tr>\n",
       "      <th>4</th>\n",
       "      <td>mooi</td>\n",
       "      <td>2</td>\n",
       "      <td>19</td>\n",
       "      <td>False</td>\n",
       "    </tr>\n",
       "    <tr>\n",
       "      <th>5</th>\n",
       "      <td>medium</td>\n",
       "      <td>1</td>\n",
       "      <td>7</td>\n",
       "      <td>False</td>\n",
       "    </tr>\n",
       "    <tr>\n",
       "      <th>6</th>\n",
       "      <td>mooi</td>\n",
       "      <td>2</td>\n",
       "      <td>-10</td>\n",
       "      <td>False</td>\n",
       "    </tr>\n",
       "  </tbody>\n",
       "</table>\n",
       "</div>"
      ]
     },
     "execution_count": 19,
     "metadata": {},
     "output_type": "execute_result"
    }
   ],
   "execution_count": 19
  },
  {
   "cell_type": "code",
   "metadata": {
    "ExecuteTime": {
     "end_time": "2024-10-01T13:50:09.367102Z",
     "start_time": "2024-10-01T13:50:09.364187Z"
    }
   },
   "source": [
    "# Entropie voor weertype [slecht, medium, mooi]\n",
    "# Berekening 1\n",
    "E_weertype = - ((3/7) * np.log2(3/7) + (2/7) * np.log2(2/7) + (2/7) * np.log2(2/7))\n",
    "E_weertype"
   ],
   "outputs": [
    {
     "data": {
      "text/plain": [
       "1.5566567074628228"
      ]
     },
     "execution_count": 20,
     "metadata": {},
     "output_type": "execute_result"
    }
   ],
   "execution_count": 20
  },
  {
   "cell_type": "code",
   "metadata": {
    "ExecuteTime": {
     "end_time": "2024-10-01T13:50:09.423037Z",
     "start_time": "2024-10-01T13:50:09.419708Z"
    }
   },
   "source": [
    "# Berekening 2\n",
    "st.entropy([3,2,2], base=2)"
   ],
   "outputs": [
    {
     "data": {
      "text/plain": [
       "1.556656707462823"
      ]
     },
     "execution_count": 21,
     "metadata": {},
     "output_type": "execute_result"
    }
   ],
   "execution_count": 21
  },
  {
   "cell_type": "code",
   "metadata": {
    "ExecuteTime": {
     "end_time": "2024-10-01T13:50:09.533979Z",
     "start_time": "2024-10-01T13:50:09.529560Z"
    }
   },
   "source": [
    "# Berekening 3\n",
    "st.entropy(weer.groupby('weertype').count()['weerklasse'], base=2)"
   ],
   "outputs": [
    {
     "data": {
      "text/plain": [
       "1.556656707462823"
      ]
     },
     "execution_count": 22,
     "metadata": {},
     "output_type": "execute_result"
    }
   ],
   "execution_count": 22
  },
  {
   "cell_type": "markdown",
   "metadata": {},
   "source": [
    "### Split 1. Regen of temperatuur?"
   ]
  },
  {
   "cell_type": "markdown",
   "metadata": {},
   "source": [
    "Bereken de entropie en information gain bij een split op `regen`."
   ]
  },
  {
   "cell_type": "code",
   "metadata": {
    "ExecuteTime": {
     "end_time": "2024-10-01T13:50:09.731378Z",
     "start_time": "2024-10-01T13:50:09.727524Z"
    }
   },
   "source": [
    "weer_regen_false = weer[weer.regen == False]\n",
    "weer_regen_false"
   ],
   "outputs": [
    {
     "data": {
      "text/plain": [
       "  weertype  weerklasse  temperatuur  regen\n",
       "3   medium           1           36  False\n",
       "4     mooi           2           19  False\n",
       "5   medium           1            7  False\n",
       "6     mooi           2          -10  False"
      ],
      "text/html": [
       "<div>\n",
       "<style scoped>\n",
       "    .dataframe tbody tr th:only-of-type {\n",
       "        vertical-align: middle;\n",
       "    }\n",
       "\n",
       "    .dataframe tbody tr th {\n",
       "        vertical-align: top;\n",
       "    }\n",
       "\n",
       "    .dataframe thead th {\n",
       "        text-align: right;\n",
       "    }\n",
       "</style>\n",
       "<table border=\"1\" class=\"dataframe\">\n",
       "  <thead>\n",
       "    <tr style=\"text-align: right;\">\n",
       "      <th></th>\n",
       "      <th>weertype</th>\n",
       "      <th>weerklasse</th>\n",
       "      <th>temperatuur</th>\n",
       "      <th>regen</th>\n",
       "    </tr>\n",
       "  </thead>\n",
       "  <tbody>\n",
       "    <tr>\n",
       "      <th>3</th>\n",
       "      <td>medium</td>\n",
       "      <td>1</td>\n",
       "      <td>36</td>\n",
       "      <td>False</td>\n",
       "    </tr>\n",
       "    <tr>\n",
       "      <th>4</th>\n",
       "      <td>mooi</td>\n",
       "      <td>2</td>\n",
       "      <td>19</td>\n",
       "      <td>False</td>\n",
       "    </tr>\n",
       "    <tr>\n",
       "      <th>5</th>\n",
       "      <td>medium</td>\n",
       "      <td>1</td>\n",
       "      <td>7</td>\n",
       "      <td>False</td>\n",
       "    </tr>\n",
       "    <tr>\n",
       "      <th>6</th>\n",
       "      <td>mooi</td>\n",
       "      <td>2</td>\n",
       "      <td>-10</td>\n",
       "      <td>False</td>\n",
       "    </tr>\n",
       "  </tbody>\n",
       "</table>\n",
       "</div>"
      ]
     },
     "execution_count": 23,
     "metadata": {},
     "output_type": "execute_result"
    }
   ],
   "execution_count": 23
  },
  {
   "cell_type": "code",
   "metadata": {
    "tags": [
     "student"
    ],
    "ExecuteTime": {
     "end_time": "2024-10-01T13:50:09.799232Z",
     "start_time": "2024-10-01T13:50:09.797743Z"
    }
   },
   "source": "",
   "outputs": [],
   "execution_count": null
  },
  {
   "cell_type": "markdown",
   "metadata": {},
   "source": [
    "We kunnen ook splitten op `temperatuur` op veel verschillende manieren. Bereken alleen de entropie en de information gain bij een split op `temperatuur` bij 20 graden."
   ]
  },
  {
   "cell_type": "code",
   "metadata": {
    "tags": [
     "student"
    ],
    "ExecuteTime": {
     "end_time": "2024-10-01T13:50:09.846186Z",
     "start_time": "2024-10-01T13:50:09.844569Z"
    }
   },
   "source": [],
   "outputs": [],
   "execution_count": null
  },
  {
   "cell_type": "markdown",
   "metadata": {},
   "source": [
    "Welke split is het beste?"
   ]
  },
  {
   "cell_type": "markdown",
   "metadata": {
    "tags": [
     "student"
    ]
   },
   "source": []
  },
  {
   "cell_type": "markdown",
   "metadata": {},
   "source": [
    "### Split 2. Welke temperatuur?\n",
    "\n",
    "Bereken ná een split op `regen` (dus als tweede laag) de entropie bij een split op `temperatuur` met de scheiding bij $t = 0$, $t = 10$ en $t = 20$ graden."
   ]
  },
  {
   "cell_type": "markdown",
   "metadata": {
    "tags": [
     "student"
    ]
   },
   "source": []
  },
  {
   "cell_type": "markdown",
   "metadata": {},
   "source": [
    "Welke split is het beste?"
   ]
  },
  {
   "cell_type": "markdown",
   "metadata": {
    "tags": [
     "student"
    ]
   },
   "source": []
  },
  {
   "cell_type": "markdown",
   "metadata": {},
   "source": [
    "### Decision Tree\n",
    "\n",
    "Maak de decision tree met `DecisionTreeClassifier`. Kies als parameter `criterion='entropy'`."
   ]
  },
  {
   "cell_type": "code",
   "metadata": {
    "tags": [
     "student"
    ],
    "ExecuteTime": {
     "end_time": "2024-10-01T13:50:09.890137Z",
     "start_time": "2024-10-01T13:50:09.888654Z"
    }
   },
   "source": [],
   "outputs": [],
   "execution_count": null
  },
  {
   "cell_type": "markdown",
   "metadata": {},
   "source": [
    "Visualisatie van de decision tree met GraphViz."
   ]
  },
  {
   "cell_type": "code",
   "metadata": {
    "tags": [
     "student"
    ],
    "ExecuteTime": {
     "end_time": "2024-10-01T13:50:09.934426Z",
     "start_time": "2024-10-01T13:50:09.933035Z"
    }
   },
   "source": [],
   "outputs": [],
   "execution_count": null
  },
  {
   "cell_type": "markdown",
   "metadata": {},
   "source": [
    "<a id=\"dt_opdracht3\"></a>\n",
    "## Opdracht 3 - German Credit Data"
   ]
  },
  {
   "cell_type": "markdown",
   "metadata": {},
   "source": [
    "Voor deze oefening kijken we naar de data set 'german'. Deze data set bevat gegevens van een Duitse bank over mensen die een lening aanvragen. De vraag is of de bank ze deze lening wil verstrekken. Dat doet de bank alleen als er een grote kans is dat mensen de lening kunnen terugbetalen. Wij gaan hiervoor een beslisboom algoritme bouwen."
   ]
  },
  {
   "cell_type": "markdown",
   "metadata": {},
   "source": [
    "#### Initialisatie\n",
    "In de cell hieronder zetten we alle statements die packages inladen netjes bij elkaar. In de loop van het college zullen we hier nog een en ander aan toe moeten voegen."
   ]
  },
  {
   "cell_type": "code",
   "metadata": {
    "ExecuteTime": {
     "end_time": "2024-10-01T13:50:10.014503Z",
     "start_time": "2024-10-01T13:50:09.979455Z"
    }
   },
   "source": [
    "import numpy as np\n",
    "import pandas as pd\n",
    "import matplotlib.pyplot as plt\n",
    "from sklearn.datasets import load_digits\n",
    "from sklearn.model_selection import train_test_split\n",
    "from sklearn.metrics import accuracy_score\n",
    "from sklearn.tree import DecisionTreeClassifier\n",
    "from sklearn import tree"
   ],
   "outputs": [],
   "execution_count": 24
  },
  {
   "cell_type": "markdown",
   "metadata": {},
   "source": [
    "### Data understanding\n",
    "We gaan nu kijken naar de data set 'german.data'. De data staat op Canvas. Daar staat ook het data dictionary van de data set: hierin wordt uitgelegd wat de betekenis is van alle attributen.\n",
    "\n",
    "Lees de data set in, bekijk de data set en krijg een eerste gevoel bij deze data. Zorg dat je in ieder geval de volgende zaken helder hebt:\n",
    "- Wat zijn de meetniveau's van alle attributen?\n",
    "- Zijn er attributen met *rare* waardes?"
   ]
  },
  {
   "cell_type": "code",
   "metadata": {
    "ExecuteTime": {
     "end_time": "2024-10-01T13:50:10.033020Z",
     "start_time": "2024-10-01T13:50:10.029839Z"
    }
   },
   "source": [
    "german = pd.read_csv('german.data', sep = ' ', quotechar = \"'\")"
   ],
   "outputs": [],
   "execution_count": 25
  },
  {
   "cell_type": "code",
   "metadata": {
    "ExecuteTime": {
     "end_time": "2024-10-01T13:50:10.082609Z",
     "start_time": "2024-10-01T13:50:10.076046Z"
    }
   },
   "source": [
    "pd.set_option('display.max_columns', None)\n",
    "german.head()"
   ],
   "outputs": [
    {
     "data": {
      "text/plain": [
       "  Euros op rekening   Duur Lening  Leengeschiedenis Doel vd Lening   \\\n",
       "0               A11              6              A34             A43   \n",
       "1               A12             48              A32             A43   \n",
       "2               A14             12              A34             A46   \n",
       "3               A11             42              A32             A42   \n",
       "4               A11             24              A33             A40   \n",
       "\n",
       "    Bedrag Lening Bedrag op spaarrekening Duur huidige baan  \\\n",
       "0            1169                     A65               A75   \n",
       "1            5951                     A61               A73   \n",
       "2            2096                     A61               A74   \n",
       "3            7882                     A61               A74   \n",
       "4            4870                     A61               A73   \n",
       "\n",
       "   lening als perc van inkomen  persoonlijke status overige schuldeisers  \\\n",
       "0                             4                 A93                 A101   \n",
       "1                             2                 A92                 A101   \n",
       "2                             2                 A93                 A101   \n",
       "3                             2                 A93                 A103   \n",
       "4                             3                 A93                 A101   \n",
       "\n",
       "   huidige woning sinds  eigendom  leeftijd  andere leningen huisvesting  \\\n",
       "0                      4     A121       67.0            A143        A152   \n",
       "1                      2     A121       22.0            A143        A152   \n",
       "2                      3     A121       49.0            A143        A152   \n",
       "3                      4     A122       45.0            A143        A153   \n",
       "4                      4     A124       53.0            A143        A153   \n",
       "\n",
       "   aantal leningen  baan  verantwoordelijk voor  telefoon  \\\n",
       "0                2  A173                       1     A192   \n",
       "1                1  A173                       1     A191   \n",
       "2                1  A172                       2     A191   \n",
       "3                1  A173                       2     A191   \n",
       "4                2  A173                       2     A191   \n",
       "\n",
       "  buitenlandse werknemer  lening terugbetaald  \n",
       "0                   A201                    1  \n",
       "1                   A201                    2  \n",
       "2                   A201                    1  \n",
       "3                   A201                    1  \n",
       "4                   A201                    2  "
      ],
      "text/html": [
       "<div>\n",
       "<style scoped>\n",
       "    .dataframe tbody tr th:only-of-type {\n",
       "        vertical-align: middle;\n",
       "    }\n",
       "\n",
       "    .dataframe tbody tr th {\n",
       "        vertical-align: top;\n",
       "    }\n",
       "\n",
       "    .dataframe thead th {\n",
       "        text-align: right;\n",
       "    }\n",
       "</style>\n",
       "<table border=\"1\" class=\"dataframe\">\n",
       "  <thead>\n",
       "    <tr style=\"text-align: right;\">\n",
       "      <th></th>\n",
       "      <th>Euros op rekening</th>\n",
       "      <th>Duur Lening</th>\n",
       "      <th>Leengeschiedenis</th>\n",
       "      <th>Doel vd Lening</th>\n",
       "      <th>Bedrag Lening</th>\n",
       "      <th>Bedrag op spaarrekening</th>\n",
       "      <th>Duur huidige baan</th>\n",
       "      <th>lening als perc van inkomen</th>\n",
       "      <th>persoonlijke status</th>\n",
       "      <th>overige schuldeisers</th>\n",
       "      <th>huidige woning sinds</th>\n",
       "      <th>eigendom</th>\n",
       "      <th>leeftijd</th>\n",
       "      <th>andere leningen</th>\n",
       "      <th>huisvesting</th>\n",
       "      <th>aantal leningen</th>\n",
       "      <th>baan</th>\n",
       "      <th>verantwoordelijk voor</th>\n",
       "      <th>telefoon</th>\n",
       "      <th>buitenlandse werknemer</th>\n",
       "      <th>lening terugbetaald</th>\n",
       "    </tr>\n",
       "  </thead>\n",
       "  <tbody>\n",
       "    <tr>\n",
       "      <th>0</th>\n",
       "      <td>A11</td>\n",
       "      <td>6</td>\n",
       "      <td>A34</td>\n",
       "      <td>A43</td>\n",
       "      <td>1169</td>\n",
       "      <td>A65</td>\n",
       "      <td>A75</td>\n",
       "      <td>4</td>\n",
       "      <td>A93</td>\n",
       "      <td>A101</td>\n",
       "      <td>4</td>\n",
       "      <td>A121</td>\n",
       "      <td>67.0</td>\n",
       "      <td>A143</td>\n",
       "      <td>A152</td>\n",
       "      <td>2</td>\n",
       "      <td>A173</td>\n",
       "      <td>1</td>\n",
       "      <td>A192</td>\n",
       "      <td>A201</td>\n",
       "      <td>1</td>\n",
       "    </tr>\n",
       "    <tr>\n",
       "      <th>1</th>\n",
       "      <td>A12</td>\n",
       "      <td>48</td>\n",
       "      <td>A32</td>\n",
       "      <td>A43</td>\n",
       "      <td>5951</td>\n",
       "      <td>A61</td>\n",
       "      <td>A73</td>\n",
       "      <td>2</td>\n",
       "      <td>A92</td>\n",
       "      <td>A101</td>\n",
       "      <td>2</td>\n",
       "      <td>A121</td>\n",
       "      <td>22.0</td>\n",
       "      <td>A143</td>\n",
       "      <td>A152</td>\n",
       "      <td>1</td>\n",
       "      <td>A173</td>\n",
       "      <td>1</td>\n",
       "      <td>A191</td>\n",
       "      <td>A201</td>\n",
       "      <td>2</td>\n",
       "    </tr>\n",
       "    <tr>\n",
       "      <th>2</th>\n",
       "      <td>A14</td>\n",
       "      <td>12</td>\n",
       "      <td>A34</td>\n",
       "      <td>A46</td>\n",
       "      <td>2096</td>\n",
       "      <td>A61</td>\n",
       "      <td>A74</td>\n",
       "      <td>2</td>\n",
       "      <td>A93</td>\n",
       "      <td>A101</td>\n",
       "      <td>3</td>\n",
       "      <td>A121</td>\n",
       "      <td>49.0</td>\n",
       "      <td>A143</td>\n",
       "      <td>A152</td>\n",
       "      <td>1</td>\n",
       "      <td>A172</td>\n",
       "      <td>2</td>\n",
       "      <td>A191</td>\n",
       "      <td>A201</td>\n",
       "      <td>1</td>\n",
       "    </tr>\n",
       "    <tr>\n",
       "      <th>3</th>\n",
       "      <td>A11</td>\n",
       "      <td>42</td>\n",
       "      <td>A32</td>\n",
       "      <td>A42</td>\n",
       "      <td>7882</td>\n",
       "      <td>A61</td>\n",
       "      <td>A74</td>\n",
       "      <td>2</td>\n",
       "      <td>A93</td>\n",
       "      <td>A103</td>\n",
       "      <td>4</td>\n",
       "      <td>A122</td>\n",
       "      <td>45.0</td>\n",
       "      <td>A143</td>\n",
       "      <td>A153</td>\n",
       "      <td>1</td>\n",
       "      <td>A173</td>\n",
       "      <td>2</td>\n",
       "      <td>A191</td>\n",
       "      <td>A201</td>\n",
       "      <td>1</td>\n",
       "    </tr>\n",
       "    <tr>\n",
       "      <th>4</th>\n",
       "      <td>A11</td>\n",
       "      <td>24</td>\n",
       "      <td>A33</td>\n",
       "      <td>A40</td>\n",
       "      <td>4870</td>\n",
       "      <td>A61</td>\n",
       "      <td>A73</td>\n",
       "      <td>3</td>\n",
       "      <td>A93</td>\n",
       "      <td>A101</td>\n",
       "      <td>4</td>\n",
       "      <td>A124</td>\n",
       "      <td>53.0</td>\n",
       "      <td>A143</td>\n",
       "      <td>A153</td>\n",
       "      <td>2</td>\n",
       "      <td>A173</td>\n",
       "      <td>2</td>\n",
       "      <td>A191</td>\n",
       "      <td>A201</td>\n",
       "      <td>2</td>\n",
       "    </tr>\n",
       "  </tbody>\n",
       "</table>\n",
       "</div>"
      ]
     },
     "execution_count": 26,
     "metadata": {},
     "output_type": "execute_result"
    }
   ],
   "execution_count": 26
  },
  {
   "cell_type": "code",
   "metadata": {
    "ExecuteTime": {
     "end_time": "2024-10-01T13:50:10.145137Z",
     "start_time": "2024-10-01T13:50:10.143596Z"
    }
   },
   "source": [],
   "outputs": [],
   "execution_count": null
  },
  {
   "cell_type": "markdown",
   "metadata": {},
   "source": [
    "Maak nu een boxplot van de leeftijd. Merk op dat standaard toepassen van plt.boxplot niet lukt als gevolg van de missende waarden in de data. Hoe kunnen we nu wel zo'n boxplot krijgen?\n",
    "\n",
    "Trek ook conclusies over eventuele uitschieters en of we *iets* moeten doen met die uitschieters."
   ]
  },
  {
   "cell_type": "code",
   "metadata": {
    "ExecuteTime": {
     "end_time": "2024-10-01T13:50:10.191137Z",
     "start_time": "2024-10-01T13:50:10.189772Z"
    }
   },
   "source": [],
   "outputs": [],
   "execution_count": null
  },
  {
   "cell_type": "markdown",
   "metadata": {},
   "source": [
    "We gaan straks proberen een beslisboom te maken die voorspeld aan wie de bank zonder veel risico een lening kan verstrekken op basis van deze data. Probeer de target feature te vinden en maak een staafdiagram ('bar chart') voor deze feature. In dit staafdiagram moet je duidelijk kunnen aflezen hoe vaak de target feature welke waarde aanneemt. "
   ]
  },
  {
   "cell_type": "code",
   "metadata": {
    "ExecuteTime": {
     "end_time": "2024-10-01T13:50:10.218682Z",
     "start_time": "2024-10-01T13:50:10.217212Z"
    }
   },
   "source": [],
   "outputs": [],
   "execution_count": null
  },
  {
   "cell_type": "markdown",
   "metadata": {},
   "source": [
    "### Data preparation\n",
    "We gaan de dataset nu klaarstomen voor een decision tree met behulp van een aantal opschoningsacties.\n",
    "\n",
    "Niet alleen de waardes van een attribuut kunnen *rotzooi* bevatten, ook de attribuutnamen ofwel kolomnamen. Als er spaties in de kolomnaam staan, dan kun je niet meer gebruik maken van de dot-notatie van pandas. Kijk bijvoorbeeld maar eens naar het attribuut *leeftijd*. Bij opdracht 2. heb je waarschijnlijk al gemerkt dat de kolomnaam eigenlijk 'leeftijd ' is met een extra spatie die daar op een of andere manier ingekomen is. Waarschijnlijk bij het exporteren van een Excelsheet naar een CSV bestand... \n",
    "\n",
    "Anyway, dit spatie moet weg! Je kunt bijvoorbeeld niet de kolom leeftijd selecteren door german.leeftijd. Wat wel altijd werkt is het selecteren van kolommen door middel van de brackets [], bijvoorbeeld german['leeftijd ']. Maar stel dat we nu gewoon de kolomnaam van leeftijd willen hernoemen en de spatie weghalen, hoe kunnen we dit doen?"
   ]
  },
  {
   "cell_type": "code",
   "metadata": {
    "ExecuteTime": {
     "end_time": "2024-10-01T13:50:10.262793Z",
     "start_time": "2024-10-01T13:50:10.261270Z"
    }
   },
   "source": [],
   "outputs": [],
   "execution_count": null
  },
  {
   "cell_type": "markdown",
   "metadata": {},
   "source": [
    "\n",
    "De laatste stap voordat we kunnen gaan modelleren is het selecteren van de juiste features. Ten eerste moeten we ons afvragen of het **ethisch verantwoord** om het attribuut te gebruiken. Maak een selectie van de attributen die wel geschikt zijn en licht toe waarom je bepaalde attributen niet geschikt vindt."
   ]
  },
  {
   "cell_type": "code",
   "metadata": {
    "ExecuteTime": {
     "end_time": "2024-10-01T13:50:10.307953Z",
     "start_time": "2024-10-01T13:50:10.306509Z"
    }
   },
   "source": [],
   "outputs": [],
   "execution_count": null
  },
  {
   "cell_type": "markdown",
   "metadata": {},
   "source": [
    "\n",
    "Ten tweede moeten we kijken naar het meetniveau van de attributen: niet alle meetniveau's zijn geschikt voor een beslisboom. Het Decision Tree algoritme van sci-kit learn kan alleen kwantitatieve features aan als input en kan ook niet omgaan met missende waarden. Een mogelijke oplossing is om de rijen met missende waarden weg te laten en de kwalitatieve features om te zetten met behulp van get_dummies.\n",
    "\n",
    "Merk op: hoewel deze oplossing niet optimaal is voor wat betreft de performance, zullen we hier nu voor kiezen. Alternatieven zijn om de beslisboom te maken in R (waar wel een standaardimplementatie is die overweg kan met categoriale features en missings) of te kiezen voor een ander python package. Voor dit laatste zijn er verschillende mogelijkheden onder andere: CatBoost, LightGBM, of H2O, maar elk ook weer met hun eigen nadelen. Zo kan CatBoost bijvoorbeeld  alleen symmetrische decision trees leren en is de visualisatie van een boom niet begrijpelijk. "
   ]
  },
  {
   "cell_type": "code",
   "metadata": {
    "ExecuteTime": {
     "end_time": "2024-10-01T13:50:10.354546Z",
     "start_time": "2024-10-01T13:50:10.352966Z"
    }
   },
   "source": [],
   "outputs": [],
   "execution_count": null
  },
  {
   "cell_type": "markdown",
   "metadata": {},
   "source": [
    "### Modelling\n",
    "De dataset is klaar voor het decision tree algoritme.\n",
    "\n",
    "Doorloop de bekende stappen om tot een beslisboom komen. Bepaal de kwaliteit van de beslisboom met de juiste metrics. Pas de hyperparameters aan om tot een zo hoog mogelijke score te komen."
   ]
  },
  {
   "cell_type": "code",
   "metadata": {
    "ExecuteTime": {
     "end_time": "2024-10-01T13:50:10.404886Z",
     "start_time": "2024-10-01T13:50:10.403289Z"
    }
   },
   "source": [],
   "outputs": [],
   "execution_count": null
  },
  {
   "cell_type": "markdown",
   "metadata": {},
   "source": [
    "Beargumenteer of de hoogst gevonden accuracy *goed* is of niet."
   ]
  },
  {
   "cell_type": "code",
   "metadata": {
    "ExecuteTime": {
     "end_time": "2024-10-01T13:50:10.451498Z",
     "start_time": "2024-10-01T13:50:10.449942Z"
    }
   },
   "source": [],
   "outputs": [],
   "execution_count": null
  },
  {
   "cell_type": "markdown",
   "metadata": {},
   "source": [
    "Visualiseer tenslotte deze beslisboom. Is deze in de praktijk te gebruiken in een oplossing / applicatie? En is deze uit te leggen aan de *business* of klant?"
   ]
  },
  {
   "cell_type": "code",
   "metadata": {
    "ExecuteTime": {
     "end_time": "2024-10-01T13:50:10.498138Z",
     "start_time": "2024-10-01T13:50:10.496430Z"
    }
   },
   "source": [],
   "outputs": [],
   "execution_count": null
  }
 ],
 "metadata": {
  "celltoolbar": "Tags",
  "kernelspec": {
   "display_name": "Python 3 (ipykernel)",
   "language": "python",
   "name": "python3"
  },
  "language_info": {
   "codemirror_mode": {
    "name": "ipython",
    "version": 3
   },
   "file_extension": ".py",
   "mimetype": "text/x-python",
   "name": "python",
   "nbconvert_exporter": "python",
   "pygments_lexer": "ipython3",
   "version": "3.12.5"
  }
 },
 "nbformat": 4,
 "nbformat_minor": 4
}
