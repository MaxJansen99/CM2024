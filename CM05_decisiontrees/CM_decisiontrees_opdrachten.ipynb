{
 "cells": [
  {
   "cell_type": "markdown",
   "metadata": {},
   "source": [
    "# Decision Trees\n",
    "\n",
    "In dit notebook vind je 3 opdrachten.\n",
    "- <a href=\"#dt_opdracht1\"> Opdracht 1 </a> maak je ter voorbereiding van het college.\n",
    "- <a href=\"#dt_opdracht2\"> Opdracht 2 </a> is optioneel, dit gaat je zeker helpen om decision trees beter te begrijpen, maar is voor dit college niet essentieel. (Het helpt je wel bij DEP, waar je zelf een decision tree gaat implementeren.)\n",
    "- <a href=\"#dt_opdracht3\"> Opdracht 3 </a> maken we in het college."
   ]
  },
  {
   "cell_type": "markdown",
   "metadata": {},
   "source": [
    "<a id =\"dt_opdracht1\"></a>\n",
    "## Opdracht 1\n",
    "\n",
    "We gaan aan de slag met data over woningen in New York  en San Francisco. Is op basis van de kenmerken van een woning te bepalen of deze in New York of San Francisco ligt?\n",
    "\n",
    "We zullen eerst een voorbeeld geven - bestudeer deze goed. Daarna moet je zelf een decision tree trainen."
   ]
  },
  {
   "cell_type": "code",
   "metadata": {
    "ExecuteTime": {
     "end_time": "2024-10-01T15:51:13.358695Z",
     "start_time": "2024-10-01T15:51:13.356004Z"
    }
   },
   "source": [
    "from random import random\n",
    "\n",
    "import numpy as np\n",
    "import pandas as pd\n",
    "import matplotlib.pyplot as plt\n",
    "import graphviz\n",
    "\n",
    "from sklearn.tree import DecisionTreeClassifier, export_graphviz\n",
    "from sklearn.model_selection import train_test_split\n",
    "from sklearn.metrics import accuracy_score"
   ],
   "outputs": [],
   "execution_count": 279
  },
  {
   "cell_type": "markdown",
   "metadata": {},
   "source": [
    "Classificeer de huizen in onderstaande data set met een decision tree. In de kolom `in_sf` staat een 1 als het huis in San Fransisco staat en een 0 als het huis in New York staat."
   ]
  },
  {
   "cell_type": "code",
   "metadata": {
    "scrolled": true,
    "ExecuteTime": {
     "end_time": "2024-10-01T15:51:13.379350Z",
     "start_time": "2024-10-01T15:51:13.368295Z"
    }
   },
   "source": [
    "homes = pd.read_csv('decision_trees_homes_ny_sf.csv', sep=\",\")\n",
    "print(f\"{len(homes)} meetwaarden, waarvan {homes.in_sf.sum()} in San Fransisco\")\n",
    "homes.head()"
   ],
   "outputs": [
    {
     "name": "stdout",
     "output_type": "stream",
     "text": [
      "492 meetwaarden, waarvan 268 in San Fransisco\n"
     ]
    },
    {
     "data": {
      "text/plain": [
       "   in_sf  beds  bath    price  year_built  sqft  price_per_sqft  elevation\n",
       "0      0   2.0   1.0   999000        1960  1000             999         10\n",
       "1      0   2.0   2.0  2750000        2006  1418            1939          0\n",
       "2      0   2.0   2.0  1350000        1900  2150             628          9\n",
       "3      0   1.0   1.0   629000        1903   500            1258          9\n",
       "4      0   0.0   1.0   439000        1930   500             878         10"
      ],
      "text/html": [
       "<div>\n",
       "<style scoped>\n",
       "    .dataframe tbody tr th:only-of-type {\n",
       "        vertical-align: middle;\n",
       "    }\n",
       "\n",
       "    .dataframe tbody tr th {\n",
       "        vertical-align: top;\n",
       "    }\n",
       "\n",
       "    .dataframe thead th {\n",
       "        text-align: right;\n",
       "    }\n",
       "</style>\n",
       "<table border=\"1\" class=\"dataframe\">\n",
       "  <thead>\n",
       "    <tr style=\"text-align: right;\">\n",
       "      <th></th>\n",
       "      <th>in_sf</th>\n",
       "      <th>beds</th>\n",
       "      <th>bath</th>\n",
       "      <th>price</th>\n",
       "      <th>year_built</th>\n",
       "      <th>sqft</th>\n",
       "      <th>price_per_sqft</th>\n",
       "      <th>elevation</th>\n",
       "    </tr>\n",
       "  </thead>\n",
       "  <tbody>\n",
       "    <tr>\n",
       "      <th>0</th>\n",
       "      <td>0</td>\n",
       "      <td>2.0</td>\n",
       "      <td>1.0</td>\n",
       "      <td>999000</td>\n",
       "      <td>1960</td>\n",
       "      <td>1000</td>\n",
       "      <td>999</td>\n",
       "      <td>10</td>\n",
       "    </tr>\n",
       "    <tr>\n",
       "      <th>1</th>\n",
       "      <td>0</td>\n",
       "      <td>2.0</td>\n",
       "      <td>2.0</td>\n",
       "      <td>2750000</td>\n",
       "      <td>2006</td>\n",
       "      <td>1418</td>\n",
       "      <td>1939</td>\n",
       "      <td>0</td>\n",
       "    </tr>\n",
       "    <tr>\n",
       "      <th>2</th>\n",
       "      <td>0</td>\n",
       "      <td>2.0</td>\n",
       "      <td>2.0</td>\n",
       "      <td>1350000</td>\n",
       "      <td>1900</td>\n",
       "      <td>2150</td>\n",
       "      <td>628</td>\n",
       "      <td>9</td>\n",
       "    </tr>\n",
       "    <tr>\n",
       "      <th>3</th>\n",
       "      <td>0</td>\n",
       "      <td>1.0</td>\n",
       "      <td>1.0</td>\n",
       "      <td>629000</td>\n",
       "      <td>1903</td>\n",
       "      <td>500</td>\n",
       "      <td>1258</td>\n",
       "      <td>9</td>\n",
       "    </tr>\n",
       "    <tr>\n",
       "      <th>4</th>\n",
       "      <td>0</td>\n",
       "      <td>0.0</td>\n",
       "      <td>1.0</td>\n",
       "      <td>439000</td>\n",
       "      <td>1930</td>\n",
       "      <td>500</td>\n",
       "      <td>878</td>\n",
       "      <td>10</td>\n",
       "    </tr>\n",
       "  </tbody>\n",
       "</table>\n",
       "</div>"
      ]
     },
     "execution_count": 280,
     "metadata": {},
     "output_type": "execute_result"
    }
   ],
   "execution_count": 280
  },
  {
   "cell_type": "markdown",
   "metadata": {},
   "source": [
    "Een voorbeeld van een simpele beslisboom wordt hieronder gegeven."
   ]
  },
  {
   "cell_type": "markdown",
   "metadata": {},
   "source": [
    "1. Kies het modeltype"
   ]
  },
  {
   "cell_type": "code",
   "metadata": {
    "ExecuteTime": {
     "end_time": "2024-10-01T15:51:13.432498Z",
     "start_time": "2024-10-01T15:51:13.430761Z"
    }
   },
   "source": [
    "model = DecisionTreeClassifier()"
   ],
   "outputs": [],
   "execution_count": 281
  },
  {
   "cell_type": "markdown",
   "metadata": {},
   "source": [
    "2. Kies de features en targetvariabele"
   ]
  },
  {
   "cell_type": "code",
   "metadata": {
    "ExecuteTime": {
     "end_time": "2024-10-01T15:51:13.476188Z",
     "start_time": "2024-10-01T15:51:13.473508Z"
    }
   },
   "source": [
    "feat_names = ['beds', 'bath']\n",
    "cat_names = ['San Francisco', 'New York']\n",
    "feats = np.array(homes[feat_names])\n",
    "cat = homes['in_sf']"
   ],
   "outputs": [],
   "execution_count": 282
  },
  {
   "cell_type": "markdown",
   "metadata": {},
   "source": [
    "3. Maak een train- en testset"
   ]
  },
  {
   "cell_type": "code",
   "metadata": {
    "ExecuteTime": {
     "end_time": "2024-10-01T15:51:13.509065Z",
     "start_time": "2024-10-01T15:51:13.505446Z"
    }
   },
   "source": [
    "feats_train, feats_test, cat_train, cat_test = train_test_split(feats, cat, random_state=10)\n",
    "print(\"{} elementen in de trainset en {} elementen in de testset\".format(len(cat_train), len(feats_test)))"
   ],
   "outputs": [
    {
     "name": "stdout",
     "output_type": "stream",
     "text": [
      "369 elementen in de trainset en 123 elementen in de testset\n"
     ]
    }
   ],
   "execution_count": 283
  },
  {
   "cell_type": "markdown",
   "metadata": {},
   "source": [
    "4. Train het model"
   ]
  },
  {
   "cell_type": "code",
   "metadata": {
    "ExecuteTime": {
     "end_time": "2024-10-01T15:51:13.569141Z",
     "start_time": "2024-10-01T15:51:13.565397Z"
    }
   },
   "source": [
    "model.fit(feats_train, cat_train)"
   ],
   "outputs": [
    {
     "data": {
      "text/plain": [
       "DecisionTreeClassifier()"
      ],
      "text/html": [
       "<style>#sk-container-id-16 {\n",
       "  /* Definition of color scheme common for light and dark mode */\n",
       "  --sklearn-color-text: black;\n",
       "  --sklearn-color-line: gray;\n",
       "  /* Definition of color scheme for unfitted estimators */\n",
       "  --sklearn-color-unfitted-level-0: #fff5e6;\n",
       "  --sklearn-color-unfitted-level-1: #f6e4d2;\n",
       "  --sklearn-color-unfitted-level-2: #ffe0b3;\n",
       "  --sklearn-color-unfitted-level-3: chocolate;\n",
       "  /* Definition of color scheme for fitted estimators */\n",
       "  --sklearn-color-fitted-level-0: #f0f8ff;\n",
       "  --sklearn-color-fitted-level-1: #d4ebff;\n",
       "  --sklearn-color-fitted-level-2: #b3dbfd;\n",
       "  --sklearn-color-fitted-level-3: cornflowerblue;\n",
       "\n",
       "  /* Specific color for light theme */\n",
       "  --sklearn-color-text-on-default-background: var(--sg-text-color, var(--theme-code-foreground, var(--jp-content-font-color1, black)));\n",
       "  --sklearn-color-background: var(--sg-background-color, var(--theme-background, var(--jp-layout-color0, white)));\n",
       "  --sklearn-color-border-box: var(--sg-text-color, var(--theme-code-foreground, var(--jp-content-font-color1, black)));\n",
       "  --sklearn-color-icon: #696969;\n",
       "\n",
       "  @media (prefers-color-scheme: dark) {\n",
       "    /* Redefinition of color scheme for dark theme */\n",
       "    --sklearn-color-text-on-default-background: var(--sg-text-color, var(--theme-code-foreground, var(--jp-content-font-color1, white)));\n",
       "    --sklearn-color-background: var(--sg-background-color, var(--theme-background, var(--jp-layout-color0, #111)));\n",
       "    --sklearn-color-border-box: var(--sg-text-color, var(--theme-code-foreground, var(--jp-content-font-color1, white)));\n",
       "    --sklearn-color-icon: #878787;\n",
       "  }\n",
       "}\n",
       "\n",
       "#sk-container-id-16 {\n",
       "  color: var(--sklearn-color-text);\n",
       "}\n",
       "\n",
       "#sk-container-id-16 pre {\n",
       "  padding: 0;\n",
       "}\n",
       "\n",
       "#sk-container-id-16 input.sk-hidden--visually {\n",
       "  border: 0;\n",
       "  clip: rect(1px 1px 1px 1px);\n",
       "  clip: rect(1px, 1px, 1px, 1px);\n",
       "  height: 1px;\n",
       "  margin: -1px;\n",
       "  overflow: hidden;\n",
       "  padding: 0;\n",
       "  position: absolute;\n",
       "  width: 1px;\n",
       "}\n",
       "\n",
       "#sk-container-id-16 div.sk-dashed-wrapped {\n",
       "  border: 1px dashed var(--sklearn-color-line);\n",
       "  margin: 0 0.4em 0.5em 0.4em;\n",
       "  box-sizing: border-box;\n",
       "  padding-bottom: 0.4em;\n",
       "  background-color: var(--sklearn-color-background);\n",
       "}\n",
       "\n",
       "#sk-container-id-16 div.sk-container {\n",
       "  /* jupyter's `normalize.less` sets `[hidden] { display: none; }`\n",
       "     but bootstrap.min.css set `[hidden] { display: none !important; }`\n",
       "     so we also need the `!important` here to be able to override the\n",
       "     default hidden behavior on the sphinx rendered scikit-learn.org.\n",
       "     See: https://github.com/scikit-learn/scikit-learn/issues/21755 */\n",
       "  display: inline-block !important;\n",
       "  position: relative;\n",
       "}\n",
       "\n",
       "#sk-container-id-16 div.sk-text-repr-fallback {\n",
       "  display: none;\n",
       "}\n",
       "\n",
       "div.sk-parallel-item,\n",
       "div.sk-serial,\n",
       "div.sk-item {\n",
       "  /* draw centered vertical line to link estimators */\n",
       "  background-image: linear-gradient(var(--sklearn-color-text-on-default-background), var(--sklearn-color-text-on-default-background));\n",
       "  background-size: 2px 100%;\n",
       "  background-repeat: no-repeat;\n",
       "  background-position: center center;\n",
       "}\n",
       "\n",
       "/* Parallel-specific style estimator block */\n",
       "\n",
       "#sk-container-id-16 div.sk-parallel-item::after {\n",
       "  content: \"\";\n",
       "  width: 100%;\n",
       "  border-bottom: 2px solid var(--sklearn-color-text-on-default-background);\n",
       "  flex-grow: 1;\n",
       "}\n",
       "\n",
       "#sk-container-id-16 div.sk-parallel {\n",
       "  display: flex;\n",
       "  align-items: stretch;\n",
       "  justify-content: center;\n",
       "  background-color: var(--sklearn-color-background);\n",
       "  position: relative;\n",
       "}\n",
       "\n",
       "#sk-container-id-16 div.sk-parallel-item {\n",
       "  display: flex;\n",
       "  flex-direction: column;\n",
       "}\n",
       "\n",
       "#sk-container-id-16 div.sk-parallel-item:first-child::after {\n",
       "  align-self: flex-end;\n",
       "  width: 50%;\n",
       "}\n",
       "\n",
       "#sk-container-id-16 div.sk-parallel-item:last-child::after {\n",
       "  align-self: flex-start;\n",
       "  width: 50%;\n",
       "}\n",
       "\n",
       "#sk-container-id-16 div.sk-parallel-item:only-child::after {\n",
       "  width: 0;\n",
       "}\n",
       "\n",
       "/* Serial-specific style estimator block */\n",
       "\n",
       "#sk-container-id-16 div.sk-serial {\n",
       "  display: flex;\n",
       "  flex-direction: column;\n",
       "  align-items: center;\n",
       "  background-color: var(--sklearn-color-background);\n",
       "  padding-right: 1em;\n",
       "  padding-left: 1em;\n",
       "}\n",
       "\n",
       "\n",
       "/* Toggleable style: style used for estimator/Pipeline/ColumnTransformer box that is\n",
       "clickable and can be expanded/collapsed.\n",
       "- Pipeline and ColumnTransformer use this feature and define the default style\n",
       "- Estimators will overwrite some part of the style using the `sk-estimator` class\n",
       "*/\n",
       "\n",
       "/* Pipeline and ColumnTransformer style (default) */\n",
       "\n",
       "#sk-container-id-16 div.sk-toggleable {\n",
       "  /* Default theme specific background. It is overwritten whether we have a\n",
       "  specific estimator or a Pipeline/ColumnTransformer */\n",
       "  background-color: var(--sklearn-color-background);\n",
       "}\n",
       "\n",
       "/* Toggleable label */\n",
       "#sk-container-id-16 label.sk-toggleable__label {\n",
       "  cursor: pointer;\n",
       "  display: block;\n",
       "  width: 100%;\n",
       "  margin-bottom: 0;\n",
       "  padding: 0.5em;\n",
       "  box-sizing: border-box;\n",
       "  text-align: center;\n",
       "}\n",
       "\n",
       "#sk-container-id-16 label.sk-toggleable__label-arrow:before {\n",
       "  /* Arrow on the left of the label */\n",
       "  content: \"▸\";\n",
       "  float: left;\n",
       "  margin-right: 0.25em;\n",
       "  color: var(--sklearn-color-icon);\n",
       "}\n",
       "\n",
       "#sk-container-id-16 label.sk-toggleable__label-arrow:hover:before {\n",
       "  color: var(--sklearn-color-text);\n",
       "}\n",
       "\n",
       "/* Toggleable content - dropdown */\n",
       "\n",
       "#sk-container-id-16 div.sk-toggleable__content {\n",
       "  max-height: 0;\n",
       "  max-width: 0;\n",
       "  overflow: hidden;\n",
       "  text-align: left;\n",
       "  /* unfitted */\n",
       "  background-color: var(--sklearn-color-unfitted-level-0);\n",
       "}\n",
       "\n",
       "#sk-container-id-16 div.sk-toggleable__content.fitted {\n",
       "  /* fitted */\n",
       "  background-color: var(--sklearn-color-fitted-level-0);\n",
       "}\n",
       "\n",
       "#sk-container-id-16 div.sk-toggleable__content pre {\n",
       "  margin: 0.2em;\n",
       "  border-radius: 0.25em;\n",
       "  color: var(--sklearn-color-text);\n",
       "  /* unfitted */\n",
       "  background-color: var(--sklearn-color-unfitted-level-0);\n",
       "}\n",
       "\n",
       "#sk-container-id-16 div.sk-toggleable__content.fitted pre {\n",
       "  /* unfitted */\n",
       "  background-color: var(--sklearn-color-fitted-level-0);\n",
       "}\n",
       "\n",
       "#sk-container-id-16 input.sk-toggleable__control:checked~div.sk-toggleable__content {\n",
       "  /* Expand drop-down */\n",
       "  max-height: 200px;\n",
       "  max-width: 100%;\n",
       "  overflow: auto;\n",
       "}\n",
       "\n",
       "#sk-container-id-16 input.sk-toggleable__control:checked~label.sk-toggleable__label-arrow:before {\n",
       "  content: \"▾\";\n",
       "}\n",
       "\n",
       "/* Pipeline/ColumnTransformer-specific style */\n",
       "\n",
       "#sk-container-id-16 div.sk-label input.sk-toggleable__control:checked~label.sk-toggleable__label {\n",
       "  color: var(--sklearn-color-text);\n",
       "  background-color: var(--sklearn-color-unfitted-level-2);\n",
       "}\n",
       "\n",
       "#sk-container-id-16 div.sk-label.fitted input.sk-toggleable__control:checked~label.sk-toggleable__label {\n",
       "  background-color: var(--sklearn-color-fitted-level-2);\n",
       "}\n",
       "\n",
       "/* Estimator-specific style */\n",
       "\n",
       "/* Colorize estimator box */\n",
       "#sk-container-id-16 div.sk-estimator input.sk-toggleable__control:checked~label.sk-toggleable__label {\n",
       "  /* unfitted */\n",
       "  background-color: var(--sklearn-color-unfitted-level-2);\n",
       "}\n",
       "\n",
       "#sk-container-id-16 div.sk-estimator.fitted input.sk-toggleable__control:checked~label.sk-toggleable__label {\n",
       "  /* fitted */\n",
       "  background-color: var(--sklearn-color-fitted-level-2);\n",
       "}\n",
       "\n",
       "#sk-container-id-16 div.sk-label label.sk-toggleable__label,\n",
       "#sk-container-id-16 div.sk-label label {\n",
       "  /* The background is the default theme color */\n",
       "  color: var(--sklearn-color-text-on-default-background);\n",
       "}\n",
       "\n",
       "/* On hover, darken the color of the background */\n",
       "#sk-container-id-16 div.sk-label:hover label.sk-toggleable__label {\n",
       "  color: var(--sklearn-color-text);\n",
       "  background-color: var(--sklearn-color-unfitted-level-2);\n",
       "}\n",
       "\n",
       "/* Label box, darken color on hover, fitted */\n",
       "#sk-container-id-16 div.sk-label.fitted:hover label.sk-toggleable__label.fitted {\n",
       "  color: var(--sklearn-color-text);\n",
       "  background-color: var(--sklearn-color-fitted-level-2);\n",
       "}\n",
       "\n",
       "/* Estimator label */\n",
       "\n",
       "#sk-container-id-16 div.sk-label label {\n",
       "  font-family: monospace;\n",
       "  font-weight: bold;\n",
       "  display: inline-block;\n",
       "  line-height: 1.2em;\n",
       "}\n",
       "\n",
       "#sk-container-id-16 div.sk-label-container {\n",
       "  text-align: center;\n",
       "}\n",
       "\n",
       "/* Estimator-specific */\n",
       "#sk-container-id-16 div.sk-estimator {\n",
       "  font-family: monospace;\n",
       "  border: 1px dotted var(--sklearn-color-border-box);\n",
       "  border-radius: 0.25em;\n",
       "  box-sizing: border-box;\n",
       "  margin-bottom: 0.5em;\n",
       "  /* unfitted */\n",
       "  background-color: var(--sklearn-color-unfitted-level-0);\n",
       "}\n",
       "\n",
       "#sk-container-id-16 div.sk-estimator.fitted {\n",
       "  /* fitted */\n",
       "  background-color: var(--sklearn-color-fitted-level-0);\n",
       "}\n",
       "\n",
       "/* on hover */\n",
       "#sk-container-id-16 div.sk-estimator:hover {\n",
       "  /* unfitted */\n",
       "  background-color: var(--sklearn-color-unfitted-level-2);\n",
       "}\n",
       "\n",
       "#sk-container-id-16 div.sk-estimator.fitted:hover {\n",
       "  /* fitted */\n",
       "  background-color: var(--sklearn-color-fitted-level-2);\n",
       "}\n",
       "\n",
       "/* Specification for estimator info (e.g. \"i\" and \"?\") */\n",
       "\n",
       "/* Common style for \"i\" and \"?\" */\n",
       "\n",
       ".sk-estimator-doc-link,\n",
       "a:link.sk-estimator-doc-link,\n",
       "a:visited.sk-estimator-doc-link {\n",
       "  float: right;\n",
       "  font-size: smaller;\n",
       "  line-height: 1em;\n",
       "  font-family: monospace;\n",
       "  background-color: var(--sklearn-color-background);\n",
       "  border-radius: 1em;\n",
       "  height: 1em;\n",
       "  width: 1em;\n",
       "  text-decoration: none !important;\n",
       "  margin-left: 1ex;\n",
       "  /* unfitted */\n",
       "  border: var(--sklearn-color-unfitted-level-1) 1pt solid;\n",
       "  color: var(--sklearn-color-unfitted-level-1);\n",
       "}\n",
       "\n",
       ".sk-estimator-doc-link.fitted,\n",
       "a:link.sk-estimator-doc-link.fitted,\n",
       "a:visited.sk-estimator-doc-link.fitted {\n",
       "  /* fitted */\n",
       "  border: var(--sklearn-color-fitted-level-1) 1pt solid;\n",
       "  color: var(--sklearn-color-fitted-level-1);\n",
       "}\n",
       "\n",
       "/* On hover */\n",
       "div.sk-estimator:hover .sk-estimator-doc-link:hover,\n",
       ".sk-estimator-doc-link:hover,\n",
       "div.sk-label-container:hover .sk-estimator-doc-link:hover,\n",
       ".sk-estimator-doc-link:hover {\n",
       "  /* unfitted */\n",
       "  background-color: var(--sklearn-color-unfitted-level-3);\n",
       "  color: var(--sklearn-color-background);\n",
       "  text-decoration: none;\n",
       "}\n",
       "\n",
       "div.sk-estimator.fitted:hover .sk-estimator-doc-link.fitted:hover,\n",
       ".sk-estimator-doc-link.fitted:hover,\n",
       "div.sk-label-container:hover .sk-estimator-doc-link.fitted:hover,\n",
       ".sk-estimator-doc-link.fitted:hover {\n",
       "  /* fitted */\n",
       "  background-color: var(--sklearn-color-fitted-level-3);\n",
       "  color: var(--sklearn-color-background);\n",
       "  text-decoration: none;\n",
       "}\n",
       "\n",
       "/* Span, style for the box shown on hovering the info icon */\n",
       ".sk-estimator-doc-link span {\n",
       "  display: none;\n",
       "  z-index: 9999;\n",
       "  position: relative;\n",
       "  font-weight: normal;\n",
       "  right: .2ex;\n",
       "  padding: .5ex;\n",
       "  margin: .5ex;\n",
       "  width: min-content;\n",
       "  min-width: 20ex;\n",
       "  max-width: 50ex;\n",
       "  color: var(--sklearn-color-text);\n",
       "  box-shadow: 2pt 2pt 4pt #999;\n",
       "  /* unfitted */\n",
       "  background: var(--sklearn-color-unfitted-level-0);\n",
       "  border: .5pt solid var(--sklearn-color-unfitted-level-3);\n",
       "}\n",
       "\n",
       ".sk-estimator-doc-link.fitted span {\n",
       "  /* fitted */\n",
       "  background: var(--sklearn-color-fitted-level-0);\n",
       "  border: var(--sklearn-color-fitted-level-3);\n",
       "}\n",
       "\n",
       ".sk-estimator-doc-link:hover span {\n",
       "  display: block;\n",
       "}\n",
       "\n",
       "/* \"?\"-specific style due to the `<a>` HTML tag */\n",
       "\n",
       "#sk-container-id-16 a.estimator_doc_link {\n",
       "  float: right;\n",
       "  font-size: 1rem;\n",
       "  line-height: 1em;\n",
       "  font-family: monospace;\n",
       "  background-color: var(--sklearn-color-background);\n",
       "  border-radius: 1rem;\n",
       "  height: 1rem;\n",
       "  width: 1rem;\n",
       "  text-decoration: none;\n",
       "  /* unfitted */\n",
       "  color: var(--sklearn-color-unfitted-level-1);\n",
       "  border: var(--sklearn-color-unfitted-level-1) 1pt solid;\n",
       "}\n",
       "\n",
       "#sk-container-id-16 a.estimator_doc_link.fitted {\n",
       "  /* fitted */\n",
       "  border: var(--sklearn-color-fitted-level-1) 1pt solid;\n",
       "  color: var(--sklearn-color-fitted-level-1);\n",
       "}\n",
       "\n",
       "/* On hover */\n",
       "#sk-container-id-16 a.estimator_doc_link:hover {\n",
       "  /* unfitted */\n",
       "  background-color: var(--sklearn-color-unfitted-level-3);\n",
       "  color: var(--sklearn-color-background);\n",
       "  text-decoration: none;\n",
       "}\n",
       "\n",
       "#sk-container-id-16 a.estimator_doc_link.fitted:hover {\n",
       "  /* fitted */\n",
       "  background-color: var(--sklearn-color-fitted-level-3);\n",
       "}\n",
       "</style><div id=\"sk-container-id-16\" class=\"sk-top-container\"><div class=\"sk-text-repr-fallback\"><pre>DecisionTreeClassifier()</pre><b>In a Jupyter environment, please rerun this cell to show the HTML representation or trust the notebook. <br />On GitHub, the HTML representation is unable to render, please try loading this page with nbviewer.org.</b></div><div class=\"sk-container\" hidden><div class=\"sk-item\"><div class=\"sk-estimator fitted sk-toggleable\"><input class=\"sk-toggleable__control sk-hidden--visually\" id=\"sk-estimator-id-16\" type=\"checkbox\" checked><label for=\"sk-estimator-id-16\" class=\"sk-toggleable__label fitted sk-toggleable__label-arrow fitted\">&nbsp;&nbsp;DecisionTreeClassifier<a class=\"sk-estimator-doc-link fitted\" rel=\"noreferrer\" target=\"_blank\" href=\"https://scikit-learn.org/1.5/modules/generated/sklearn.tree.DecisionTreeClassifier.html\">?<span>Documentation for DecisionTreeClassifier</span></a><span class=\"sk-estimator-doc-link fitted\">i<span>Fitted</span></span></label><div class=\"sk-toggleable__content fitted\"><pre>DecisionTreeClassifier()</pre></div> </div></div></div></div>"
      ]
     },
     "execution_count": 284,
     "metadata": {},
     "output_type": "execute_result"
    }
   ],
   "execution_count": 284
  },
  {
   "cell_type": "markdown",
   "metadata": {},
   "source": [
    "5. Evalueer de resultaten"
   ]
  },
  {
   "cell_type": "code",
   "metadata": {
    "ExecuteTime": {
     "end_time": "2024-10-01T15:51:13.625140Z",
     "start_time": "2024-10-01T15:51:13.622137Z"
    }
   },
   "source": [
    "# M.b.v. de score wordt de accuracy berekend: het percentage voorspellingen dat correct\n",
    "model.score(feats_test, cat_test)"
   ],
   "outputs": [
    {
     "data": {
      "text/plain": [
       "0.7723577235772358"
      ]
     },
     "execution_count": 285,
     "metadata": {},
     "output_type": "execute_result"
    }
   ],
   "execution_count": 285
  },
  {
   "cell_type": "code",
   "metadata": {
    "ExecuteTime": {
     "end_time": "2024-10-01T15:51:13.679935Z",
     "start_time": "2024-10-01T15:51:13.676876Z"
    }
   },
   "source": [
    "# Alternatieve manier om de voorspellende waarde te berekenen is door het model de klasse te voorspellen voor\n",
    "# de testset van de features en deze te vergelijken met de testset van de klassen.\n",
    "cat_model = model.predict(feats_test)\n",
    "accuracy_score(cat_test, cat_model)"
   ],
   "outputs": [
    {
     "data": {
      "text/plain": [
       "0.7723577235772358"
      ]
     },
     "execution_count": 286,
     "metadata": {},
     "output_type": "execute_result"
    }
   ],
   "execution_count": 286
  },
  {
   "cell_type": "code",
   "metadata": {
    "ExecuteTime": {
     "end_time": "2024-10-01T15:51:13.791836Z",
     "start_time": "2024-10-01T15:51:13.733298Z"
    }
   },
   "source": [
    "# Het is ook interessant om te kijken welke voorspellingen goed gaan en welke niet gaan. \n",
    "# Je ziet dat vooral de NY-huizen niet goed voorspeld worden. Dus het is zaak om onderscheidende features toe te voegen.\n",
    "\n",
    "import seaborn as sns \n",
    "from sklearn.metrics import accuracy_score, confusion_matrix\n",
    "cm = confusion_matrix(cat_test, cat_model)\n",
    "\n",
    "# Maak van de array een pandas dataframe om te visualiseren\n",
    "df_cm = pd.DataFrame(cm)\n",
    "\n",
    "fig, ax = plt.subplots(figsize=(6, 5), dpi=100)\n",
    "\n",
    "ax = sns.heatmap(df_cm, annot=True, cmap='OrRd')\n",
    "bottom, top = ax.get_ylim()\n",
    "ax.set_ylim(bottom + 0.5, top - 0.5)\n",
    "\n",
    "ax.set_xlabel('voorspelde waarde')\n",
    "ax.set_ylabel('echte waarde')\n",
    "\n",
    "plt.show()"
   ],
   "outputs": [
    {
     "data": {
      "text/plain": [
       "<Figure size 600x500 with 2 Axes>"
      ],
      "image/png": "[encoded data removed]"
     },
     "metadata": {},
     "output_type": "display_data"
    }
   ],
   "execution_count": 287
  },
  {
   "cell_type": "markdown",
   "metadata": {},
   "source": [
    "Visualisatie van de decision tree met GraphViz."
   ]
  },
  {
   "cell_type": "code",
   "metadata": {
    "ExecuteTime": {
     "end_time": "2024-10-01T15:51:13.838036Z",
     "start_time": "2024-10-01T15:51:13.816347Z"
    }
   },
   "source": [
    "data = export_graphviz(model, out_file=None, feature_names=feat_names, class_names=cat_names,   \n",
    "                         filled=True, rounded=True, special_characters=True)\n",
    "\n",
    "graph = graphviz.Source(data)\n",
    "graph"
   ],
   "outputs": [
    {
     "data": {
      "image/svg+xml": "<?xml version=\"1.0\" encoding=\"UTF-8\" standalone=\"no\"?>\n<!DOCTYPE svg PUBLIC \"-//W3C//DTD SVG 1.1//EN\"\n \"http://www.w3.org/Graphics/SVG/1.1/DTD/svg11.dtd\">\n<!-- Generated by graphviz version 2.50.0 (0)\n -->\n<!-- Title: Tree Pages: 1 -->\n<svg width=\"2173pt\" height=\"1028pt\"\n viewBox=\"0.00 0.00 2173.00 1028.00\" xmlns=\"http://www.w3.org/2000/svg\" xmlns:xlink=\"http://www.w3.org/1999/xlink\">\n<g id=\"graph0\" class=\"graph\" transform=\"scale(1 1) rotate(0) translate(4 1024)\">\n<title>Tree</title>\n<polygon fill=\"white\" stroke=\"transparent\" points=\"-4,4 -4,-1024 2169,-1024 2169,4 -4,4\"/>\n<!-- 0 -->\n<g id=\"node1\" class=\"node\">\n<title>0</title>\n<path fill=\"#ddeefa\" stroke=\"black\" d=\"M975,-1020C975,-1020 850,-1020 850,-1020 844,-1020 838,-1014 838,-1008 838,-1008 838,-949 838,-949 838,-943 844,-937 850,-937 850,-937 975,-937 975,-937 981,-937 987,-943 987,-949 987,-949 987,-1008 987,-1008 987,-1014 981,-1020 975,-1020\"/>\n<text text-anchor=\"start\" x=\"873.5\" y=\"-1004.8\" font-family=\"Helvetica,sans-Serif\" font-size=\"14.00\">beds ≤ 2.5</text>\n<text text-anchor=\"start\" x=\"868.5\" y=\"-989.8\" font-family=\"Helvetica,sans-Serif\" font-size=\"14.00\">gini = 0.496</text>\n<text text-anchor=\"start\" x=\"859.5\" y=\"-974.8\" font-family=\"Helvetica,sans-Serif\" font-size=\"14.00\">samples = 369</text>\n<text text-anchor=\"start\" x=\"846\" y=\"-959.8\" font-family=\"Helvetica,sans-Serif\" font-size=\"14.00\">value = [167, 202]</text>\n<text text-anchor=\"start\" x=\"852.5\" y=\"-944.8\" font-family=\"Helvetica,sans-Serif\" font-size=\"14.00\">class = New York</text>\n</g>\n<!-- 1 -->\n<g id=\"node2\" class=\"node\">\n<title>1</title>\n<path fill=\"#f8ddca\" stroke=\"black\" d=\"M718,-901C718,-901 575,-901 575,-901 569,-901 563,-895 563,-889 563,-889 563,-830 563,-830 563,-824 569,-818 575,-818 575,-818 718,-818 718,-818 724,-818 730,-824 730,-830 730,-830 730,-889 730,-889 730,-895 724,-901 718,-901\"/>\n<text text-anchor=\"start\" x=\"603\" y=\"-885.8\" font-family=\"Helvetica,sans-Serif\" font-size=\"14.00\">beds ≤ 0.75</text>\n<text text-anchor=\"start\" x=\"602.5\" y=\"-870.8\" font-family=\"Helvetica,sans-Serif\" font-size=\"14.00\">gini = 0.488</text>\n<text text-anchor=\"start\" x=\"593.5\" y=\"-855.8\" font-family=\"Helvetica,sans-Serif\" font-size=\"14.00\">samples = 246</text>\n<text text-anchor=\"start\" x=\"580\" y=\"-840.8\" font-family=\"Helvetica,sans-Serif\" font-size=\"14.00\">value = [142, 104]</text>\n<text text-anchor=\"start\" x=\"571\" y=\"-825.8\" font-family=\"Helvetica,sans-Serif\" font-size=\"14.00\">class = San Francisco</text>\n</g>\n<!-- 0&#45;&gt;1 -->\n<g id=\"edge1\" class=\"edge\">\n<title>0&#45;&gt;1</title>\n<path fill=\"none\" stroke=\"black\" d=\"M837.7,-944.6C807.21,-931.19 771.64,-915.54 739.5,-901.41\"/>\n<polygon fill=\"black\" stroke=\"black\" points=\"740.65,-898.09 730.09,-897.27 737.84,-904.5 740.65,-898.09\"/>\n<text text-anchor=\"middle\" x=\"739.15\" y=\"-916.87\" font-family=\"Helvetica,sans-Serif\" font-size=\"14.00\">True</text>\n</g>\n<!-- 22 -->\n<g id=\"node23\" class=\"node\">\n<title>22</title>\n<path fill=\"#6cb6ec\" stroke=\"black\" d=\"M1257.5,-901C1257.5,-901 1145.5,-901 1145.5,-901 1139.5,-901 1133.5,-895 1133.5,-889 1133.5,-889 1133.5,-830 1133.5,-830 1133.5,-824 1139.5,-818 1145.5,-818 1145.5,-818 1257.5,-818 1257.5,-818 1263.5,-818 1269.5,-824 1269.5,-830 1269.5,-830 1269.5,-889 1269.5,-889 1269.5,-895 1263.5,-901 1257.5,-901\"/>\n<text text-anchor=\"start\" x=\"1159\" y=\"-885.8\" font-family=\"Helvetica,sans-Serif\" font-size=\"14.00\">bath ≤ 2.75</text>\n<text text-anchor=\"start\" x=\"1157.5\" y=\"-870.8\" font-family=\"Helvetica,sans-Serif\" font-size=\"14.00\">gini = 0.324</text>\n<text text-anchor=\"start\" x=\"1148.5\" y=\"-855.8\" font-family=\"Helvetica,sans-Serif\" font-size=\"14.00\">samples = 123</text>\n<text text-anchor=\"start\" x=\"1144\" y=\"-840.8\" font-family=\"Helvetica,sans-Serif\" font-size=\"14.00\">value = [25, 98]</text>\n<text text-anchor=\"start\" x=\"1141.5\" y=\"-825.8\" font-family=\"Helvetica,sans-Serif\" font-size=\"14.00\">class = New York</text>\n</g>\n<!-- 0&#45;&gt;22 -->\n<g id=\"edge22\" class=\"edge\">\n<title>0&#45;&gt;22</title>\n<path fill=\"none\" stroke=\"black\" d=\"M987.3,-947.22C1029.28,-930.22 1081.58,-909.05 1124,-891.88\"/>\n<polygon fill=\"black\" stroke=\"black\" points=\"1125.49,-895.05 1133.44,-888.05 1122.86,-888.56 1125.49,-895.05\"/>\n<text text-anchor=\"middle\" x=\"1123.69\" y=\"-907.37\" font-family=\"Helvetica,sans-Serif\" font-size=\"14.00\">False</text>\n</g>\n<!-- 2 -->\n<g id=\"node3\" class=\"node\">\n<title>2</title>\n<path fill=\"#e99355\" stroke=\"black\" d=\"M441,-782C441,-782 298,-782 298,-782 292,-782 286,-776 286,-770 286,-770 286,-711 286,-711 286,-705 292,-699 298,-699 298,-699 441,-699 441,-699 447,-699 453,-705 453,-711 453,-711 453,-770 453,-770 453,-776 447,-782 441,-782\"/>\n<text text-anchor=\"start\" x=\"326\" y=\"-766.8\" font-family=\"Helvetica,sans-Serif\" font-size=\"14.00\">beds ≤ 0.25</text>\n<text text-anchor=\"start\" x=\"325.5\" y=\"-751.8\" font-family=\"Helvetica,sans-Serif\" font-size=\"14.00\">gini = 0.219</text>\n<text text-anchor=\"start\" x=\"321\" y=\"-736.8\" font-family=\"Helvetica,sans-Serif\" font-size=\"14.00\">samples = 24</text>\n<text text-anchor=\"start\" x=\"316.5\" y=\"-721.8\" font-family=\"Helvetica,sans-Serif\" font-size=\"14.00\">value = [21, 3]</text>\n<text text-anchor=\"start\" x=\"294\" y=\"-706.8\" font-family=\"Helvetica,sans-Serif\" font-size=\"14.00\">class = San Francisco</text>\n</g>\n<!-- 1&#45;&gt;2 -->\n<g id=\"edge2\" class=\"edge\">\n<title>1&#45;&gt;2</title>\n<path fill=\"none\" stroke=\"black\" d=\"M562.64,-823.08C531.04,-809.73 494.93,-794.48 462.55,-780.8\"/>\n<polygon fill=\"black\" stroke=\"black\" points=\"463.65,-777.47 453.08,-776.8 460.93,-783.92 463.65,-777.47\"/>\n</g>\n<!-- 5 -->\n<g id=\"node6\" class=\"node\">\n<title>5</title>\n<path fill=\"#fbeade\" stroke=\"black\" d=\"M718,-782C718,-782 575,-782 575,-782 569,-782 563,-776 563,-770 563,-770 563,-711 563,-711 563,-705 569,-699 575,-699 575,-699 718,-699 718,-699 724,-699 730,-705 730,-711 730,-711 730,-770 730,-770 730,-776 724,-782 718,-782\"/>\n<text text-anchor=\"start\" x=\"604\" y=\"-766.8\" font-family=\"Helvetica,sans-Serif\" font-size=\"14.00\">bath ≤ 1.75</text>\n<text text-anchor=\"start\" x=\"602.5\" y=\"-751.8\" font-family=\"Helvetica,sans-Serif\" font-size=\"14.00\">gini = 0.496</text>\n<text text-anchor=\"start\" x=\"593.5\" y=\"-736.8\" font-family=\"Helvetica,sans-Serif\" font-size=\"14.00\">samples = 222</text>\n<text text-anchor=\"start\" x=\"580\" y=\"-721.8\" font-family=\"Helvetica,sans-Serif\" font-size=\"14.00\">value = [121, 101]</text>\n<text text-anchor=\"start\" x=\"571\" y=\"-706.8\" font-family=\"Helvetica,sans-Serif\" font-size=\"14.00\">class = San Francisco</text>\n</g>\n<!-- 1&#45;&gt;5 -->\n<g id=\"edge5\" class=\"edge\">\n<title>1&#45;&gt;5</title>\n<path fill=\"none\" stroke=\"black\" d=\"M646.5,-817.91C646.5,-809.65 646.5,-800.86 646.5,-792.3\"/>\n<polygon fill=\"black\" stroke=\"black\" points=\"650,-792.02 646.5,-782.02 643,-792.02 650,-792.02\"/>\n</g>\n<!-- 3 -->\n<g id=\"node4\" class=\"node\">\n<title>3</title>\n<path fill=\"#e99457\" stroke=\"black\" d=\"M256,-655.5C256,-655.5 113,-655.5 113,-655.5 107,-655.5 101,-649.5 101,-643.5 101,-643.5 101,-599.5 101,-599.5 101,-593.5 107,-587.5 113,-587.5 113,-587.5 256,-587.5 256,-587.5 262,-587.5 268,-593.5 268,-599.5 268,-599.5 268,-643.5 268,-643.5 268,-649.5 262,-655.5 256,-655.5\"/>\n<text text-anchor=\"start\" x=\"140.5\" y=\"-640.3\" font-family=\"Helvetica,sans-Serif\" font-size=\"14.00\">gini = 0.227</text>\n<text text-anchor=\"start\" x=\"136\" y=\"-625.3\" font-family=\"Helvetica,sans-Serif\" font-size=\"14.00\">samples = 23</text>\n<text text-anchor=\"start\" x=\"131.5\" y=\"-610.3\" font-family=\"Helvetica,sans-Serif\" font-size=\"14.00\">value = [20, 3]</text>\n<text text-anchor=\"start\" x=\"109\" y=\"-595.3\" font-family=\"Helvetica,sans-Serif\" font-size=\"14.00\">class = San Francisco</text>\n</g>\n<!-- 2&#45;&gt;3 -->\n<g id=\"edge3\" class=\"edge\">\n<title>2&#45;&gt;3</title>\n<path fill=\"none\" stroke=\"black\" d=\"M305.32,-698.91C285.95,-686.66 264.75,-673.25 245.59,-661.13\"/>\n<polygon fill=\"black\" stroke=\"black\" points=\"247.27,-658.05 236.94,-655.67 243.52,-663.97 247.27,-658.05\"/>\n</g>\n<!-- 4 -->\n<g id=\"node5\" class=\"node\">\n<title>4</title>\n<path fill=\"#e58139\" stroke=\"black\" d=\"M441,-655.5C441,-655.5 298,-655.5 298,-655.5 292,-655.5 286,-649.5 286,-643.5 286,-643.5 286,-599.5 286,-599.5 286,-593.5 292,-587.5 298,-587.5 298,-587.5 441,-587.5 441,-587.5 447,-587.5 453,-593.5 453,-599.5 453,-599.5 453,-643.5 453,-643.5 453,-649.5 447,-655.5 441,-655.5\"/>\n<text text-anchor=\"start\" x=\"334.5\" y=\"-640.3\" font-family=\"Helvetica,sans-Serif\" font-size=\"14.00\">gini = 0.0</text>\n<text text-anchor=\"start\" x=\"325.5\" y=\"-625.3\" font-family=\"Helvetica,sans-Serif\" font-size=\"14.00\">samples = 1</text>\n<text text-anchor=\"start\" x=\"321\" y=\"-610.3\" font-family=\"Helvetica,sans-Serif\" font-size=\"14.00\">value = [1, 0]</text>\n<text text-anchor=\"start\" x=\"294\" y=\"-595.3\" font-family=\"Helvetica,sans-Serif\" font-size=\"14.00\">class = San Francisco</text>\n</g>\n<!-- 2&#45;&gt;4 -->\n<g id=\"edge4\" class=\"edge\">\n<title>2&#45;&gt;4</title>\n<path fill=\"none\" stroke=\"black\" d=\"M369.5,-698.91C369.5,-688.2 369.5,-676.62 369.5,-665.78\"/>\n<polygon fill=\"black\" stroke=\"black\" points=\"373,-665.67 369.5,-655.67 366,-665.67 373,-665.67\"/>\n</g>\n<!-- 6 -->\n<g id=\"node7\" class=\"node\">\n<title>6</title>\n<path fill=\"#ffffff\" stroke=\"black\" d=\"M626,-663C626,-663 483,-663 483,-663 477,-663 471,-657 471,-651 471,-651 471,-592 471,-592 471,-586 477,-580 483,-580 483,-580 626,-580 626,-580 632,-580 638,-586 638,-592 638,-592 638,-651 638,-651 638,-657 632,-663 626,-663\"/>\n<text text-anchor=\"start\" x=\"515.5\" y=\"-647.8\" font-family=\"Helvetica,sans-Serif\" font-size=\"14.00\">beds ≤ 1.5</text>\n<text text-anchor=\"start\" x=\"519.5\" y=\"-632.8\" font-family=\"Helvetica,sans-Serif\" font-size=\"14.00\">gini = 0.5</text>\n<text text-anchor=\"start\" x=\"501.5\" y=\"-617.8\" font-family=\"Helvetica,sans-Serif\" font-size=\"14.00\">samples = 130</text>\n<text text-anchor=\"start\" x=\"497\" y=\"-602.8\" font-family=\"Helvetica,sans-Serif\" font-size=\"14.00\">value = [65, 65]</text>\n<text text-anchor=\"start\" x=\"479\" y=\"-587.8\" font-family=\"Helvetica,sans-Serif\" font-size=\"14.00\">class = San Francisco</text>\n</g>\n<!-- 5&#45;&gt;6 -->\n<g id=\"edge6\" class=\"edge\">\n<title>5&#45;&gt;6</title>\n<path fill=\"none\" stroke=\"black\" d=\"M614.58,-698.91C607.52,-689.92 599.96,-680.32 592.68,-671.05\"/>\n<polygon fill=\"black\" stroke=\"black\" points=\"595.3,-668.72 586.36,-663.02 589.79,-673.05 595.3,-668.72\"/>\n</g>\n<!-- 15 -->\n<g id=\"node16\" class=\"node\">\n<title>15</title>\n<path fill=\"#f6d2b8\" stroke=\"black\" d=\"M811,-663C811,-663 668,-663 668,-663 662,-663 656,-657 656,-651 656,-651 656,-592 656,-592 656,-586 662,-580 668,-580 668,-580 811,-580 811,-580 817,-580 823,-586 823,-592 823,-592 823,-651 823,-651 823,-657 817,-663 811,-663\"/>\n<text text-anchor=\"start\" x=\"697\" y=\"-647.8\" font-family=\"Helvetica,sans-Serif\" font-size=\"14.00\">bath ≤ 2.75</text>\n<text text-anchor=\"start\" x=\"695.5\" y=\"-632.8\" font-family=\"Helvetica,sans-Serif\" font-size=\"14.00\">gini = 0.476</text>\n<text text-anchor=\"start\" x=\"691\" y=\"-617.8\" font-family=\"Helvetica,sans-Serif\" font-size=\"14.00\">samples = 92</text>\n<text text-anchor=\"start\" x=\"682\" y=\"-602.8\" font-family=\"Helvetica,sans-Serif\" font-size=\"14.00\">value = [56, 36]</text>\n<text text-anchor=\"start\" x=\"664\" y=\"-587.8\" font-family=\"Helvetica,sans-Serif\" font-size=\"14.00\">class = San Francisco</text>\n</g>\n<!-- 5&#45;&gt;15 -->\n<g id=\"edge15\" class=\"edge\">\n<title>5&#45;&gt;15</title>\n<path fill=\"none\" stroke=\"black\" d=\"M678.77,-698.91C685.91,-689.92 693.54,-680.32 700.91,-671.05\"/>\n<polygon fill=\"black\" stroke=\"black\" points=\"703.81,-673.03 707.29,-663.02 698.33,-668.67 703.81,-673.03\"/>\n</g>\n<!-- 7 -->\n<g id=\"node8\" class=\"node\">\n<title>7</title>\n<path fill=\"#f9e2d2\" stroke=\"black\" d=\"M325,-544C325,-544 182,-544 182,-544 176,-544 170,-538 170,-532 170,-532 170,-473 170,-473 170,-467 176,-461 182,-461 182,-461 325,-461 325,-461 331,-461 337,-467 337,-473 337,-473 337,-532 337,-532 337,-538 331,-544 325,-544\"/>\n<text text-anchor=\"start\" x=\"211\" y=\"-528.8\" font-family=\"Helvetica,sans-Serif\" font-size=\"14.00\">bath ≤ 1.25</text>\n<text text-anchor=\"start\" x=\"209.5\" y=\"-513.8\" font-family=\"Helvetica,sans-Serif\" font-size=\"14.00\">gini = 0.492</text>\n<text text-anchor=\"start\" x=\"205\" y=\"-498.8\" font-family=\"Helvetica,sans-Serif\" font-size=\"14.00\">samples = 94</text>\n<text text-anchor=\"start\" x=\"196\" y=\"-483.8\" font-family=\"Helvetica,sans-Serif\" font-size=\"14.00\">value = [53, 41]</text>\n<text text-anchor=\"start\" x=\"178\" y=\"-468.8\" font-family=\"Helvetica,sans-Serif\" font-size=\"14.00\">class = San Francisco</text>\n</g>\n<!-- 6&#45;&gt;7 -->\n<g id=\"edge7\" class=\"edge\">\n<title>6&#45;&gt;7</title>\n<path fill=\"none\" stroke=\"black\" d=\"M470.95,-583.84C467.76,-582.53 464.61,-581.25 461.5,-580 424.21,-565.04 382.74,-549.56 346.7,-536.46\"/>\n<polygon fill=\"black\" stroke=\"black\" points=\"347.77,-533.13 337.17,-533.01 345.38,-539.71 347.77,-533.13\"/>\n</g>\n<!-- 10 -->\n<g id=\"node11\" class=\"node\">\n<title>10</title>\n<path fill=\"#9ccef2\" stroke=\"black\" d=\"M610.5,-544C610.5,-544 498.5,-544 498.5,-544 492.5,-544 486.5,-538 486.5,-532 486.5,-532 486.5,-473 486.5,-473 486.5,-467 492.5,-461 498.5,-461 498.5,-461 610.5,-461 610.5,-461 616.5,-461 622.5,-467 622.5,-473 622.5,-473 622.5,-532 622.5,-532 622.5,-538 616.5,-544 610.5,-544\"/>\n<text text-anchor=\"start\" x=\"512\" y=\"-528.8\" font-family=\"Helvetica,sans-Serif\" font-size=\"14.00\">bath ≤ 1.15</text>\n<text text-anchor=\"start\" x=\"510.5\" y=\"-513.8\" font-family=\"Helvetica,sans-Serif\" font-size=\"14.00\">gini = 0.444</text>\n<text text-anchor=\"start\" x=\"506\" y=\"-498.8\" font-family=\"Helvetica,sans-Serif\" font-size=\"14.00\">samples = 36</text>\n<text text-anchor=\"start\" x=\"497\" y=\"-483.8\" font-family=\"Helvetica,sans-Serif\" font-size=\"14.00\">value = [12, 24]</text>\n<text text-anchor=\"start\" x=\"494.5\" y=\"-468.8\" font-family=\"Helvetica,sans-Serif\" font-size=\"14.00\">class = New York</text>\n</g>\n<!-- 6&#45;&gt;10 -->\n<g id=\"edge10\" class=\"edge\">\n<title>6&#45;&gt;10</title>\n<path fill=\"none\" stroke=\"black\" d=\"M554.5,-579.91C554.5,-571.65 554.5,-562.86 554.5,-554.3\"/>\n<polygon fill=\"black\" stroke=\"black\" points=\"558,-554.02 554.5,-544.02 551,-554.02 558,-554.02\"/>\n</g>\n<!-- 8 -->\n<g id=\"node9\" class=\"node\">\n<title>8</title>\n<path fill=\"#f8dbc7\" stroke=\"black\" d=\"M155,-417.5C155,-417.5 12,-417.5 12,-417.5 6,-417.5 0,-411.5 0,-405.5 0,-405.5 0,-361.5 0,-361.5 0,-355.5 6,-349.5 12,-349.5 12,-349.5 155,-349.5 155,-349.5 161,-349.5 167,-355.5 167,-361.5 167,-361.5 167,-405.5 167,-405.5 167,-411.5 161,-417.5 155,-417.5\"/>\n<text text-anchor=\"start\" x=\"39.5\" y=\"-402.3\" font-family=\"Helvetica,sans-Serif\" font-size=\"14.00\">gini = 0.486</text>\n<text text-anchor=\"start\" x=\"35\" y=\"-387.3\" font-family=\"Helvetica,sans-Serif\" font-size=\"14.00\">samples = 91</text>\n<text text-anchor=\"start\" x=\"12.5\" y=\"-372.3\" font-family=\"Helvetica,sans-Serif\" font-size=\"14.00\">value = [53.0, 38.0]</text>\n<text text-anchor=\"start\" x=\"8\" y=\"-357.3\" font-family=\"Helvetica,sans-Serif\" font-size=\"14.00\">class = San Francisco</text>\n</g>\n<!-- 7&#45;&gt;8 -->\n<g id=\"edge8\" class=\"edge\">\n<title>7&#45;&gt;8</title>\n<path fill=\"none\" stroke=\"black\" d=\"M194.52,-460.91C176.88,-448.77 157.59,-435.49 140.11,-423.46\"/>\n<polygon fill=\"black\" stroke=\"black\" points=\"141.91,-420.45 131.69,-417.67 137.94,-426.22 141.91,-420.45\"/>\n</g>\n<!-- 9 -->\n<g id=\"node10\" class=\"node\">\n<title>9</title>\n<path fill=\"#399de5\" stroke=\"black\" d=\"M309.5,-417.5C309.5,-417.5 197.5,-417.5 197.5,-417.5 191.5,-417.5 185.5,-411.5 185.5,-405.5 185.5,-405.5 185.5,-361.5 185.5,-361.5 185.5,-355.5 191.5,-349.5 197.5,-349.5 197.5,-349.5 309.5,-349.5 309.5,-349.5 315.5,-349.5 321.5,-355.5 321.5,-361.5 321.5,-361.5 321.5,-405.5 321.5,-405.5 321.5,-411.5 315.5,-417.5 309.5,-417.5\"/>\n<text text-anchor=\"start\" x=\"218.5\" y=\"-402.3\" font-family=\"Helvetica,sans-Serif\" font-size=\"14.00\">gini = 0.0</text>\n<text text-anchor=\"start\" x=\"209.5\" y=\"-387.3\" font-family=\"Helvetica,sans-Serif\" font-size=\"14.00\">samples = 3</text>\n<text text-anchor=\"start\" x=\"205\" y=\"-372.3\" font-family=\"Helvetica,sans-Serif\" font-size=\"14.00\">value = [0, 3]</text>\n<text text-anchor=\"start\" x=\"193.5\" y=\"-357.3\" font-family=\"Helvetica,sans-Serif\" font-size=\"14.00\">class = New York</text>\n</g>\n<!-- 7&#45;&gt;9 -->\n<g id=\"edge9\" class=\"edge\">\n<title>7&#45;&gt;9</title>\n<path fill=\"none\" stroke=\"black\" d=\"M253.5,-460.91C253.5,-450.2 253.5,-438.62 253.5,-427.78\"/>\n<polygon fill=\"black\" stroke=\"black\" points=\"257,-427.67 253.5,-417.67 250,-427.67 257,-427.67\"/>\n</g>\n<!-- 11 -->\n<g id=\"node12\" class=\"node\">\n<title>11</title>\n<path fill=\"#a1d0f3\" stroke=\"black\" d=\"M463.5,-417.5C463.5,-417.5 351.5,-417.5 351.5,-417.5 345.5,-417.5 339.5,-411.5 339.5,-405.5 339.5,-405.5 339.5,-361.5 339.5,-361.5 339.5,-355.5 345.5,-349.5 351.5,-349.5 351.5,-349.5 463.5,-349.5 463.5,-349.5 469.5,-349.5 475.5,-355.5 475.5,-361.5 475.5,-361.5 475.5,-405.5 475.5,-405.5 475.5,-411.5 469.5,-417.5 463.5,-417.5\"/>\n<text text-anchor=\"start\" x=\"363.5\" y=\"-402.3\" font-family=\"Helvetica,sans-Serif\" font-size=\"14.00\">gini = 0.451</text>\n<text text-anchor=\"start\" x=\"359\" y=\"-387.3\" font-family=\"Helvetica,sans-Serif\" font-size=\"14.00\">samples = 32</text>\n<text text-anchor=\"start\" x=\"350\" y=\"-372.3\" font-family=\"Helvetica,sans-Serif\" font-size=\"14.00\">value = [11, 21]</text>\n<text text-anchor=\"start\" x=\"347.5\" y=\"-357.3\" font-family=\"Helvetica,sans-Serif\" font-size=\"14.00\">class = New York</text>\n</g>\n<!-- 10&#45;&gt;11 -->\n<g id=\"edge11\" class=\"edge\">\n<title>10&#45;&gt;11</title>\n<path fill=\"none\" stroke=\"black\" d=\"M503.5,-460.91C488.53,-448.99 472.17,-435.98 457.28,-424.12\"/>\n<polygon fill=\"black\" stroke=\"black\" points=\"459.18,-421.16 449.17,-417.67 454.82,-426.63 459.18,-421.16\"/>\n</g>\n<!-- 12 -->\n<g id=\"node13\" class=\"node\">\n<title>12</title>\n<path fill=\"#7bbeee\" stroke=\"black\" d=\"M617.5,-425C617.5,-425 505.5,-425 505.5,-425 499.5,-425 493.5,-419 493.5,-413 493.5,-413 493.5,-354 493.5,-354 493.5,-348 499.5,-342 505.5,-342 505.5,-342 617.5,-342 617.5,-342 623.5,-342 629.5,-348 629.5,-354 629.5,-354 629.5,-413 629.5,-413 629.5,-419 623.5,-425 617.5,-425\"/>\n<text text-anchor=\"start\" x=\"523.5\" y=\"-409.8\" font-family=\"Helvetica,sans-Serif\" font-size=\"14.00\">bath ≤ 1.4</text>\n<text text-anchor=\"start\" x=\"517.5\" y=\"-394.8\" font-family=\"Helvetica,sans-Serif\" font-size=\"14.00\">gini = 0.375</text>\n<text text-anchor=\"start\" x=\"517.5\" y=\"-379.8\" font-family=\"Helvetica,sans-Serif\" font-size=\"14.00\">samples = 4</text>\n<text text-anchor=\"start\" x=\"513\" y=\"-364.8\" font-family=\"Helvetica,sans-Serif\" font-size=\"14.00\">value = [1, 3]</text>\n<text text-anchor=\"start\" x=\"501.5\" y=\"-349.8\" font-family=\"Helvetica,sans-Serif\" font-size=\"14.00\">class = New York</text>\n</g>\n<!-- 10&#45;&gt;12 -->\n<g id=\"edge12\" class=\"edge\">\n<title>10&#45;&gt;12</title>\n<path fill=\"none\" stroke=\"black\" d=\"M556.93,-460.91C557.43,-452.56 557.96,-443.67 558.48,-435.02\"/>\n<polygon fill=\"black\" stroke=\"black\" points=\"561.97,-435.21 559.08,-425.02 554.98,-434.79 561.97,-435.21\"/>\n</g>\n<!-- 13 -->\n<g id=\"node14\" class=\"node\">\n<title>13</title>\n<path fill=\"#399de5\" stroke=\"black\" d=\"M463.5,-298.5C463.5,-298.5 351.5,-298.5 351.5,-298.5 345.5,-298.5 339.5,-292.5 339.5,-286.5 339.5,-286.5 339.5,-242.5 339.5,-242.5 339.5,-236.5 345.5,-230.5 351.5,-230.5 351.5,-230.5 463.5,-230.5 463.5,-230.5 469.5,-230.5 475.5,-236.5 475.5,-242.5 475.5,-242.5 475.5,-286.5 475.5,-286.5 475.5,-292.5 469.5,-298.5 463.5,-298.5\"/>\n<text text-anchor=\"start\" x=\"372.5\" y=\"-283.3\" font-family=\"Helvetica,sans-Serif\" font-size=\"14.00\">gini = 0.0</text>\n<text text-anchor=\"start\" x=\"363.5\" y=\"-268.3\" font-family=\"Helvetica,sans-Serif\" font-size=\"14.00\">samples = 1</text>\n<text text-anchor=\"start\" x=\"359\" y=\"-253.3\" font-family=\"Helvetica,sans-Serif\" font-size=\"14.00\">value = [0, 1]</text>\n<text text-anchor=\"start\" x=\"347.5\" y=\"-238.3\" font-family=\"Helvetica,sans-Serif\" font-size=\"14.00\">class = New York</text>\n</g>\n<!-- 12&#45;&gt;13 -->\n<g id=\"edge13\" class=\"edge\">\n<title>12&#45;&gt;13</title>\n<path fill=\"none\" stroke=\"black\" d=\"M508.07,-341.91C492.24,-329.88 474.94,-316.73 459.22,-304.79\"/>\n<polygon fill=\"black\" stroke=\"black\" points=\"461.24,-301.93 451.16,-298.67 457,-307.5 461.24,-301.93\"/>\n</g>\n<!-- 14 -->\n<g id=\"node15\" class=\"node\">\n<title>14</title>\n<path fill=\"#9ccef2\" stroke=\"black\" d=\"M617.5,-298.5C617.5,-298.5 505.5,-298.5 505.5,-298.5 499.5,-298.5 493.5,-292.5 493.5,-286.5 493.5,-286.5 493.5,-242.5 493.5,-242.5 493.5,-236.5 499.5,-230.5 505.5,-230.5 505.5,-230.5 617.5,-230.5 617.5,-230.5 623.5,-230.5 629.5,-236.5 629.5,-242.5 629.5,-242.5 629.5,-286.5 629.5,-286.5 629.5,-292.5 623.5,-298.5 617.5,-298.5\"/>\n<text text-anchor=\"start\" x=\"517.5\" y=\"-283.3\" font-family=\"Helvetica,sans-Serif\" font-size=\"14.00\">gini = 0.444</text>\n<text text-anchor=\"start\" x=\"517.5\" y=\"-268.3\" font-family=\"Helvetica,sans-Serif\" font-size=\"14.00\">samples = 3</text>\n<text text-anchor=\"start\" x=\"513\" y=\"-253.3\" font-family=\"Helvetica,sans-Serif\" font-size=\"14.00\">value = [1, 2]</text>\n<text text-anchor=\"start\" x=\"501.5\" y=\"-238.3\" font-family=\"Helvetica,sans-Serif\" font-size=\"14.00\">class = New York</text>\n</g>\n<!-- 12&#45;&gt;14 -->\n<g id=\"edge14\" class=\"edge\">\n<title>12&#45;&gt;14</title>\n<path fill=\"none\" stroke=\"black\" d=\"M561.5,-341.91C561.5,-331.2 561.5,-319.62 561.5,-308.78\"/>\n<polygon fill=\"black\" stroke=\"black\" points=\"565,-308.67 561.5,-298.67 558,-308.67 565,-308.67\"/>\n</g>\n<!-- 16 -->\n<g id=\"node17\" class=\"node\">\n<title>16</title>\n<path fill=\"#f7d7bf\" stroke=\"black\" d=\"M803,-544C803,-544 660,-544 660,-544 654,-544 648,-538 648,-532 648,-532 648,-473 648,-473 648,-467 654,-461 660,-461 660,-461 803,-461 803,-461 809,-461 815,-467 815,-473 815,-473 815,-532 815,-532 815,-538 809,-544 803,-544\"/>\n<text text-anchor=\"start\" x=\"689\" y=\"-528.8\" font-family=\"Helvetica,sans-Serif\" font-size=\"14.00\">bath ≤ 2.25</text>\n<text text-anchor=\"start\" x=\"687.5\" y=\"-513.8\" font-family=\"Helvetica,sans-Serif\" font-size=\"14.00\">gini = 0.482</text>\n<text text-anchor=\"start\" x=\"683\" y=\"-498.8\" font-family=\"Helvetica,sans-Serif\" font-size=\"14.00\">samples = 89</text>\n<text text-anchor=\"start\" x=\"674\" y=\"-483.8\" font-family=\"Helvetica,sans-Serif\" font-size=\"14.00\">value = [53, 36]</text>\n<text text-anchor=\"start\" x=\"656\" y=\"-468.8\" font-family=\"Helvetica,sans-Serif\" font-size=\"14.00\">class = San Francisco</text>\n</g>\n<!-- 15&#45;&gt;16 -->\n<g id=\"edge16\" class=\"edge\">\n<title>15&#45;&gt;16</title>\n<path fill=\"none\" stroke=\"black\" d=\"M736.72,-579.91C736.15,-571.56 735.55,-562.67 734.95,-554.02\"/>\n<polygon fill=\"black\" stroke=\"black\" points=\"738.44,-553.76 734.27,-544.02 731.46,-554.24 738.44,-553.76\"/>\n</g>\n<!-- 21 -->\n<g id=\"node22\" class=\"node\">\n<title>21</title>\n<path fill=\"#e58139\" stroke=\"black\" d=\"M988,-536.5C988,-536.5 845,-536.5 845,-536.5 839,-536.5 833,-530.5 833,-524.5 833,-524.5 833,-480.5 833,-480.5 833,-474.5 839,-468.5 845,-468.5 845,-468.5 988,-468.5 988,-468.5 994,-468.5 1000,-474.5 1000,-480.5 1000,-480.5 1000,-524.5 1000,-524.5 1000,-530.5 994,-536.5 988,-536.5\"/>\n<text text-anchor=\"start\" x=\"881.5\" y=\"-521.3\" font-family=\"Helvetica,sans-Serif\" font-size=\"14.00\">gini = 0.0</text>\n<text text-anchor=\"start\" x=\"872.5\" y=\"-506.3\" font-family=\"Helvetica,sans-Serif\" font-size=\"14.00\">samples = 3</text>\n<text text-anchor=\"start\" x=\"868\" y=\"-491.3\" font-family=\"Helvetica,sans-Serif\" font-size=\"14.00\">value = [3, 0]</text>\n<text text-anchor=\"start\" x=\"841\" y=\"-476.3\" font-family=\"Helvetica,sans-Serif\" font-size=\"14.00\">class = San Francisco</text>\n</g>\n<!-- 15&#45;&gt;21 -->\n<g id=\"edge21\" class=\"edge\">\n<title>15&#45;&gt;21</title>\n<path fill=\"none\" stroke=\"black\" d=\"M800.91,-579.91C819.27,-567.77 839.36,-554.49 857.56,-542.46\"/>\n<polygon fill=\"black\" stroke=\"black\" points=\"859.91,-545.1 866.32,-536.67 856.05,-539.26 859.91,-545.1\"/>\n</g>\n<!-- 17 -->\n<g id=\"node18\" class=\"node\">\n<title>17</title>\n<path fill=\"#f5cdb1\" stroke=\"black\" d=\"M803,-425C803,-425 660,-425 660,-425 654,-425 648,-419 648,-413 648,-413 648,-354 648,-354 648,-348 654,-342 660,-342 660,-342 803,-342 803,-342 809,-342 815,-348 815,-354 815,-354 815,-413 815,-413 815,-419 809,-425 803,-425\"/>\n<text text-anchor=\"start\" x=\"692.5\" y=\"-409.8\" font-family=\"Helvetica,sans-Serif\" font-size=\"14.00\">beds ≤ 1.5</text>\n<text text-anchor=\"start\" x=\"687.5\" y=\"-394.8\" font-family=\"Helvetica,sans-Serif\" font-size=\"14.00\">gini = 0.469</text>\n<text text-anchor=\"start\" x=\"683\" y=\"-379.8\" font-family=\"Helvetica,sans-Serif\" font-size=\"14.00\">samples = 85</text>\n<text text-anchor=\"start\" x=\"674\" y=\"-364.8\" font-family=\"Helvetica,sans-Serif\" font-size=\"14.00\">value = [53, 32]</text>\n<text text-anchor=\"start\" x=\"656\" y=\"-349.8\" font-family=\"Helvetica,sans-Serif\" font-size=\"14.00\">class = San Francisco</text>\n</g>\n<!-- 16&#45;&gt;17 -->\n<g id=\"edge17\" class=\"edge\">\n<title>16&#45;&gt;17</title>\n<path fill=\"none\" stroke=\"black\" d=\"M731.5,-460.91C731.5,-452.65 731.5,-443.86 731.5,-435.3\"/>\n<polygon fill=\"black\" stroke=\"black\" points=\"735,-435.02 731.5,-425.02 728,-435.02 735,-435.02\"/>\n</g>\n<!-- 20 -->\n<g id=\"node21\" class=\"node\">\n<title>20</title>\n<path fill=\"#399de5\" stroke=\"black\" d=\"M957.5,-417.5C957.5,-417.5 845.5,-417.5 845.5,-417.5 839.5,-417.5 833.5,-411.5 833.5,-405.5 833.5,-405.5 833.5,-361.5 833.5,-361.5 833.5,-355.5 839.5,-349.5 845.5,-349.5 845.5,-349.5 957.5,-349.5 957.5,-349.5 963.5,-349.5 969.5,-355.5 969.5,-361.5 969.5,-361.5 969.5,-405.5 969.5,-405.5 969.5,-411.5 963.5,-417.5 957.5,-417.5\"/>\n<text text-anchor=\"start\" x=\"866.5\" y=\"-402.3\" font-family=\"Helvetica,sans-Serif\" font-size=\"14.00\">gini = 0.0</text>\n<text text-anchor=\"start\" x=\"857.5\" y=\"-387.3\" font-family=\"Helvetica,sans-Serif\" font-size=\"14.00\">samples = 4</text>\n<text text-anchor=\"start\" x=\"853\" y=\"-372.3\" font-family=\"Helvetica,sans-Serif\" font-size=\"14.00\">value = [0, 4]</text>\n<text text-anchor=\"start\" x=\"841.5\" y=\"-357.3\" font-family=\"Helvetica,sans-Serif\" font-size=\"14.00\">class = New York</text>\n</g>\n<!-- 16&#45;&gt;20 -->\n<g id=\"edge20\" class=\"edge\">\n<title>16&#45;&gt;20</title>\n<path fill=\"none\" stroke=\"black\" d=\"M790.48,-460.91C808.12,-448.77 827.41,-435.49 844.89,-423.46\"/>\n<polygon fill=\"black\" stroke=\"black\" points=\"847.06,-426.22 853.31,-417.67 843.09,-420.45 847.06,-426.22\"/>\n</g>\n<!-- 18 -->\n<g id=\"node19\" class=\"node\">\n<title>18</title>\n<path fill=\"#ffffff\" stroke=\"black\" d=\"M803,-298.5C803,-298.5 660,-298.5 660,-298.5 654,-298.5 648,-292.5 648,-286.5 648,-286.5 648,-242.5 648,-242.5 648,-236.5 654,-230.5 660,-230.5 660,-230.5 803,-230.5 803,-230.5 809,-230.5 815,-236.5 815,-242.5 815,-242.5 815,-286.5 815,-286.5 815,-292.5 809,-298.5 803,-298.5\"/>\n<text text-anchor=\"start\" x=\"696.5\" y=\"-283.3\" font-family=\"Helvetica,sans-Serif\" font-size=\"14.00\">gini = 0.5</text>\n<text text-anchor=\"start\" x=\"687.5\" y=\"-268.3\" font-family=\"Helvetica,sans-Serif\" font-size=\"14.00\">samples = 2</text>\n<text text-anchor=\"start\" x=\"683\" y=\"-253.3\" font-family=\"Helvetica,sans-Serif\" font-size=\"14.00\">value = [1, 1]</text>\n<text text-anchor=\"start\" x=\"656\" y=\"-238.3\" font-family=\"Helvetica,sans-Serif\" font-size=\"14.00\">class = San Francisco</text>\n</g>\n<!-- 17&#45;&gt;18 -->\n<g id=\"edge18\" class=\"edge\">\n<title>17&#45;&gt;18</title>\n<path fill=\"none\" stroke=\"black\" d=\"M731.5,-341.91C731.5,-331.2 731.5,-319.62 731.5,-308.78\"/>\n<polygon fill=\"black\" stroke=\"black\" points=\"735,-308.67 731.5,-298.67 728,-308.67 735,-308.67\"/>\n</g>\n<!-- 19 -->\n<g id=\"node20\" class=\"node\">\n<title>19</title>\n<path fill=\"#f4ccaf\" stroke=\"black\" d=\"M988,-298.5C988,-298.5 845,-298.5 845,-298.5 839,-298.5 833,-292.5 833,-286.5 833,-286.5 833,-242.5 833,-242.5 833,-236.5 839,-230.5 845,-230.5 845,-230.5 988,-230.5 988,-230.5 994,-230.5 1000,-236.5 1000,-242.5 1000,-242.5 1000,-286.5 1000,-286.5 1000,-292.5 994,-298.5 988,-298.5\"/>\n<text text-anchor=\"start\" x=\"872.5\" y=\"-283.3\" font-family=\"Helvetica,sans-Serif\" font-size=\"14.00\">gini = 0.468</text>\n<text text-anchor=\"start\" x=\"868\" y=\"-268.3\" font-family=\"Helvetica,sans-Serif\" font-size=\"14.00\">samples = 83</text>\n<text text-anchor=\"start\" x=\"859\" y=\"-253.3\" font-family=\"Helvetica,sans-Serif\" font-size=\"14.00\">value = [52, 31]</text>\n<text text-anchor=\"start\" x=\"841\" y=\"-238.3\" font-family=\"Helvetica,sans-Serif\" font-size=\"14.00\">class = San Francisco</text>\n</g>\n<!-- 17&#45;&gt;19 -->\n<g id=\"edge19\" class=\"edge\">\n<title>17&#45;&gt;19</title>\n<path fill=\"none\" stroke=\"black\" d=\"M795.68,-341.91C815.05,-329.66 836.25,-316.25 855.41,-304.13\"/>\n<polygon fill=\"black\" stroke=\"black\" points=\"857.48,-306.97 864.06,-298.67 853.73,-301.05 857.48,-306.97\"/>\n</g>\n<!-- 23 -->\n<g id=\"node24\" class=\"node\">\n<title>23</title>\n<path fill=\"#3fa0e6\" stroke=\"black\" d=\"M1257.5,-782C1257.5,-782 1145.5,-782 1145.5,-782 1139.5,-782 1133.5,-776 1133.5,-770 1133.5,-770 1133.5,-711 1133.5,-711 1133.5,-705 1139.5,-699 1145.5,-699 1145.5,-699 1257.5,-699 1257.5,-699 1263.5,-699 1269.5,-705 1269.5,-711 1269.5,-711 1269.5,-770 1269.5,-770 1269.5,-776 1263.5,-782 1257.5,-782\"/>\n<text text-anchor=\"start\" x=\"1159\" y=\"-766.8\" font-family=\"Helvetica,sans-Serif\" font-size=\"14.00\">bath ≤ 2.15</text>\n<text text-anchor=\"start\" x=\"1157.5\" y=\"-751.8\" font-family=\"Helvetica,sans-Serif\" font-size=\"14.00\">gini = 0.059</text>\n<text text-anchor=\"start\" x=\"1153\" y=\"-736.8\" font-family=\"Helvetica,sans-Serif\" font-size=\"14.00\">samples = 66</text>\n<text text-anchor=\"start\" x=\"1148.5\" y=\"-721.8\" font-family=\"Helvetica,sans-Serif\" font-size=\"14.00\">value = [2, 64]</text>\n<text text-anchor=\"start\" x=\"1141.5\" y=\"-706.8\" font-family=\"Helvetica,sans-Serif\" font-size=\"14.00\">class = New York</text>\n</g>\n<!-- 22&#45;&gt;23 -->\n<g id=\"edge23\" class=\"edge\">\n<title>22&#45;&gt;23</title>\n<path fill=\"none\" stroke=\"black\" d=\"M1201.5,-817.91C1201.5,-809.65 1201.5,-800.86 1201.5,-792.3\"/>\n<polygon fill=\"black\" stroke=\"black\" points=\"1205,-792.02 1201.5,-782.02 1198,-792.02 1205,-792.02\"/>\n</g>\n<!-- 30 -->\n<g id=\"node31\" class=\"node\">\n<title>30</title>\n<path fill=\"#bfdff7\" stroke=\"black\" d=\"M1581.5,-782C1581.5,-782 1469.5,-782 1469.5,-782 1463.5,-782 1457.5,-776 1457.5,-770 1457.5,-770 1457.5,-711 1457.5,-711 1457.5,-705 1463.5,-699 1469.5,-699 1469.5,-699 1581.5,-699 1581.5,-699 1587.5,-699 1593.5,-705 1593.5,-711 1593.5,-711 1593.5,-770 1593.5,-770 1593.5,-776 1587.5,-782 1581.5,-782\"/>\n<text text-anchor=\"start\" x=\"1486.5\" y=\"-766.8\" font-family=\"Helvetica,sans-Serif\" font-size=\"14.00\">beds ≤ 3.5</text>\n<text text-anchor=\"start\" x=\"1481.5\" y=\"-751.8\" font-family=\"Helvetica,sans-Serif\" font-size=\"14.00\">gini = 0.481</text>\n<text text-anchor=\"start\" x=\"1477\" y=\"-736.8\" font-family=\"Helvetica,sans-Serif\" font-size=\"14.00\">samples = 57</text>\n<text text-anchor=\"start\" x=\"1468\" y=\"-721.8\" font-family=\"Helvetica,sans-Serif\" font-size=\"14.00\">value = [23, 34]</text>\n<text text-anchor=\"start\" x=\"1465.5\" y=\"-706.8\" font-family=\"Helvetica,sans-Serif\" font-size=\"14.00\">class = New York</text>\n</g>\n<!-- 22&#45;&gt;30 -->\n<g id=\"edge30\" class=\"edge\">\n<title>22&#45;&gt;30</title>\n<path fill=\"none\" stroke=\"black\" d=\"M1269.82,-833.83C1321.83,-815.05 1393.49,-789.17 1447.71,-769.59\"/>\n<polygon fill=\"black\" stroke=\"black\" points=\"1449.06,-772.82 1457.28,-766.14 1446.68,-766.24 1449.06,-772.82\"/>\n</g>\n<!-- 24 -->\n<g id=\"node25\" class=\"node\">\n<title>24</title>\n<path fill=\"#41a1e6\" stroke=\"black\" d=\"M1180.5,-663C1180.5,-663 1068.5,-663 1068.5,-663 1062.5,-663 1056.5,-657 1056.5,-651 1056.5,-651 1056.5,-592 1056.5,-592 1056.5,-586 1062.5,-580 1068.5,-580 1068.5,-580 1180.5,-580 1180.5,-580 1186.5,-580 1192.5,-586 1192.5,-592 1192.5,-592 1192.5,-651 1192.5,-651 1192.5,-657 1186.5,-663 1180.5,-663\"/>\n<text text-anchor=\"start\" x=\"1085.5\" y=\"-647.8\" font-family=\"Helvetica,sans-Serif\" font-size=\"14.00\">beds ≤ 3.5</text>\n<text text-anchor=\"start\" x=\"1080.5\" y=\"-632.8\" font-family=\"Helvetica,sans-Serif\" font-size=\"14.00\">gini = 0.075</text>\n<text text-anchor=\"start\" x=\"1076\" y=\"-617.8\" font-family=\"Helvetica,sans-Serif\" font-size=\"14.00\">samples = 51</text>\n<text text-anchor=\"start\" x=\"1071.5\" y=\"-602.8\" font-family=\"Helvetica,sans-Serif\" font-size=\"14.00\">value = [2, 49]</text>\n<text text-anchor=\"start\" x=\"1064.5\" y=\"-587.8\" font-family=\"Helvetica,sans-Serif\" font-size=\"14.00\">class = New York</text>\n</g>\n<!-- 23&#45;&gt;24 -->\n<g id=\"edge24\" class=\"edge\">\n<title>23&#45;&gt;24</title>\n<path fill=\"none\" stroke=\"black\" d=\"M1174.79,-698.91C1168.99,-690.1 1162.8,-680.7 1156.82,-671.61\"/>\n<polygon fill=\"black\" stroke=\"black\" points=\"1159.59,-669.45 1151.17,-663.02 1153.74,-673.3 1159.59,-669.45\"/>\n</g>\n<!-- 29 -->\n<g id=\"node30\" class=\"node\">\n<title>29</title>\n<path fill=\"#399de5\" stroke=\"black\" d=\"M1334.5,-655.5C1334.5,-655.5 1222.5,-655.5 1222.5,-655.5 1216.5,-655.5 1210.5,-649.5 1210.5,-643.5 1210.5,-643.5 1210.5,-599.5 1210.5,-599.5 1210.5,-593.5 1216.5,-587.5 1222.5,-587.5 1222.5,-587.5 1334.5,-587.5 1334.5,-587.5 1340.5,-587.5 1346.5,-593.5 1346.5,-599.5 1346.5,-599.5 1346.5,-643.5 1346.5,-643.5 1346.5,-649.5 1340.5,-655.5 1334.5,-655.5\"/>\n<text text-anchor=\"start\" x=\"1243.5\" y=\"-640.3\" font-family=\"Helvetica,sans-Serif\" font-size=\"14.00\">gini = 0.0</text>\n<text text-anchor=\"start\" x=\"1230\" y=\"-625.3\" font-family=\"Helvetica,sans-Serif\" font-size=\"14.00\">samples = 15</text>\n<text text-anchor=\"start\" x=\"1225.5\" y=\"-610.3\" font-family=\"Helvetica,sans-Serif\" font-size=\"14.00\">value = [0, 15]</text>\n<text text-anchor=\"start\" x=\"1218.5\" y=\"-595.3\" font-family=\"Helvetica,sans-Serif\" font-size=\"14.00\">class = New York</text>\n</g>\n<!-- 23&#45;&gt;29 -->\n<g id=\"edge29\" class=\"edge\">\n<title>23&#45;&gt;29</title>\n<path fill=\"none\" stroke=\"black\" d=\"M1228.21,-698.91C1235.62,-687.65 1243.67,-675.42 1251.12,-664.11\"/>\n<polygon fill=\"black\" stroke=\"black\" points=\"1254.1,-665.94 1256.67,-655.67 1248.25,-662.1 1254.1,-665.94\"/>\n</g>\n<!-- 25 -->\n<g id=\"node26\" class=\"node\">\n<title>25</title>\n<path fill=\"#43a2e6\" stroke=\"black\" d=\"M1142.5,-544C1142.5,-544 1030.5,-544 1030.5,-544 1024.5,-544 1018.5,-538 1018.5,-532 1018.5,-532 1018.5,-473 1018.5,-473 1018.5,-467 1024.5,-461 1030.5,-461 1030.5,-461 1142.5,-461 1142.5,-461 1148.5,-461 1154.5,-467 1154.5,-473 1154.5,-473 1154.5,-532 1154.5,-532 1154.5,-538 1148.5,-544 1142.5,-544\"/>\n<text text-anchor=\"start\" x=\"1048.5\" y=\"-528.8\" font-family=\"Helvetica,sans-Serif\" font-size=\"14.00\">bath ≤ 1.5</text>\n<text text-anchor=\"start\" x=\"1042.5\" y=\"-513.8\" font-family=\"Helvetica,sans-Serif\" font-size=\"14.00\">gini = 0.089</text>\n<text text-anchor=\"start\" x=\"1038\" y=\"-498.8\" font-family=\"Helvetica,sans-Serif\" font-size=\"14.00\">samples = 43</text>\n<text text-anchor=\"start\" x=\"1033.5\" y=\"-483.8\" font-family=\"Helvetica,sans-Serif\" font-size=\"14.00\">value = [2, 41]</text>\n<text text-anchor=\"start\" x=\"1026.5\" y=\"-468.8\" font-family=\"Helvetica,sans-Serif\" font-size=\"14.00\">class = New York</text>\n</g>\n<!-- 24&#45;&gt;25 -->\n<g id=\"edge25\" class=\"edge\">\n<title>24&#45;&gt;25</title>\n<path fill=\"none\" stroke=\"black\" d=\"M1111.32,-579.91C1108.57,-571.47 1105.66,-562.48 1102.82,-553.74\"/>\n<polygon fill=\"black\" stroke=\"black\" points=\"1106.08,-552.45 1099.66,-544.02 1099.42,-554.61 1106.08,-552.45\"/>\n</g>\n<!-- 28 -->\n<g id=\"node29\" class=\"node\">\n<title>28</title>\n<path fill=\"#399de5\" stroke=\"black\" d=\"M1296.5,-536.5C1296.5,-536.5 1184.5,-536.5 1184.5,-536.5 1178.5,-536.5 1172.5,-530.5 1172.5,-524.5 1172.5,-524.5 1172.5,-480.5 1172.5,-480.5 1172.5,-474.5 1178.5,-468.5 1184.5,-468.5 1184.5,-468.5 1296.5,-468.5 1296.5,-468.5 1302.5,-468.5 1308.5,-474.5 1308.5,-480.5 1308.5,-480.5 1308.5,-524.5 1308.5,-524.5 1308.5,-530.5 1302.5,-536.5 1296.5,-536.5\"/>\n<text text-anchor=\"start\" x=\"1205.5\" y=\"-521.3\" font-family=\"Helvetica,sans-Serif\" font-size=\"14.00\">gini = 0.0</text>\n<text text-anchor=\"start\" x=\"1196.5\" y=\"-506.3\" font-family=\"Helvetica,sans-Serif\" font-size=\"14.00\">samples = 8</text>\n<text text-anchor=\"start\" x=\"1192\" y=\"-491.3\" font-family=\"Helvetica,sans-Serif\" font-size=\"14.00\">value = [0, 8]</text>\n<text text-anchor=\"start\" x=\"1180.5\" y=\"-476.3\" font-family=\"Helvetica,sans-Serif\" font-size=\"14.00\">class = New York</text>\n</g>\n<!-- 24&#45;&gt;28 -->\n<g id=\"edge28\" class=\"edge\">\n<title>24&#45;&gt;28</title>\n<path fill=\"none\" stroke=\"black\" d=\"M1164.75,-579.91C1176.34,-568.21 1188.99,-555.46 1200.56,-543.78\"/>\n<polygon fill=\"black\" stroke=\"black\" points=\"1203.06,-546.23 1207.62,-536.67 1198.09,-541.3 1203.06,-546.23\"/>\n</g>\n<!-- 26 -->\n<g id=\"node27\" class=\"node\">\n<title>26</title>\n<path fill=\"#399de5\" stroke=\"black\" d=\"M1127.5,-417.5C1127.5,-417.5 1015.5,-417.5 1015.5,-417.5 1009.5,-417.5 1003.5,-411.5 1003.5,-405.5 1003.5,-405.5 1003.5,-361.5 1003.5,-361.5 1003.5,-355.5 1009.5,-349.5 1015.5,-349.5 1015.5,-349.5 1127.5,-349.5 1127.5,-349.5 1133.5,-349.5 1139.5,-355.5 1139.5,-361.5 1139.5,-361.5 1139.5,-405.5 1139.5,-405.5 1139.5,-411.5 1133.5,-417.5 1127.5,-417.5\"/>\n<text text-anchor=\"start\" x=\"1036.5\" y=\"-402.3\" font-family=\"Helvetica,sans-Serif\" font-size=\"14.00\">gini = 0.0</text>\n<text text-anchor=\"start\" x=\"1027.5\" y=\"-387.3\" font-family=\"Helvetica,sans-Serif\" font-size=\"14.00\">samples = 4</text>\n<text text-anchor=\"start\" x=\"1023\" y=\"-372.3\" font-family=\"Helvetica,sans-Serif\" font-size=\"14.00\">value = [0, 4]</text>\n<text text-anchor=\"start\" x=\"1011.5\" y=\"-357.3\" font-family=\"Helvetica,sans-Serif\" font-size=\"14.00\">class = New York</text>\n</g>\n<!-- 25&#45;&gt;26 -->\n<g id=\"edge26\" class=\"edge\">\n<title>25&#45;&gt;26</title>\n<path fill=\"none\" stroke=\"black\" d=\"M1081.3,-460.91C1079.92,-450.2 1078.44,-438.62 1077.05,-427.78\"/>\n<polygon fill=\"black\" stroke=\"black\" points=\"1080.5,-427.14 1075.75,-417.67 1073.55,-428.03 1080.5,-427.14\"/>\n</g>\n<!-- 27 -->\n<g id=\"node28\" class=\"node\">\n<title>27</title>\n<path fill=\"#44a2e6\" stroke=\"black\" d=\"M1281.5,-417.5C1281.5,-417.5 1169.5,-417.5 1169.5,-417.5 1163.5,-417.5 1157.5,-411.5 1157.5,-405.5 1157.5,-405.5 1157.5,-361.5 1157.5,-361.5 1157.5,-355.5 1163.5,-349.5 1169.5,-349.5 1169.5,-349.5 1281.5,-349.5 1281.5,-349.5 1287.5,-349.5 1293.5,-355.5 1293.5,-361.5 1293.5,-361.5 1293.5,-405.5 1293.5,-405.5 1293.5,-411.5 1287.5,-417.5 1281.5,-417.5\"/>\n<text text-anchor=\"start\" x=\"1181.5\" y=\"-402.3\" font-family=\"Helvetica,sans-Serif\" font-size=\"14.00\">gini = 0.097</text>\n<text text-anchor=\"start\" x=\"1177\" y=\"-387.3\" font-family=\"Helvetica,sans-Serif\" font-size=\"14.00\">samples = 39</text>\n<text text-anchor=\"start\" x=\"1172.5\" y=\"-372.3\" font-family=\"Helvetica,sans-Serif\" font-size=\"14.00\">value = [2, 37]</text>\n<text text-anchor=\"start\" x=\"1165.5\" y=\"-357.3\" font-family=\"Helvetica,sans-Serif\" font-size=\"14.00\">class = New York</text>\n</g>\n<!-- 25&#45;&gt;27 -->\n<g id=\"edge27\" class=\"edge\">\n<title>25&#45;&gt;27</title>\n<path fill=\"none\" stroke=\"black\" d=\"M1134.73,-460.91C1148.88,-448.99 1164.35,-435.98 1178.43,-424.12\"/>\n<polygon fill=\"black\" stroke=\"black\" points=\"1180.7,-426.78 1186.1,-417.67 1176.19,-421.43 1180.7,-426.78\"/>\n</g>\n<!-- 31 -->\n<g id=\"node32\" class=\"node\">\n<title>31</title>\n<path fill=\"#f6d5bd\" stroke=\"black\" d=\"M1597,-663C1597,-663 1454,-663 1454,-663 1448,-663 1442,-657 1442,-651 1442,-651 1442,-592 1442,-592 1442,-586 1448,-580 1454,-580 1454,-580 1597,-580 1597,-580 1603,-580 1609,-586 1609,-592 1609,-592 1609,-651 1609,-651 1609,-657 1603,-663 1597,-663\"/>\n<text text-anchor=\"start\" x=\"1483\" y=\"-647.8\" font-family=\"Helvetica,sans-Serif\" font-size=\"14.00\">bath ≤ 3.25</text>\n<text text-anchor=\"start\" x=\"1486\" y=\"-632.8\" font-family=\"Helvetica,sans-Serif\" font-size=\"14.00\">gini = 0.48</text>\n<text text-anchor=\"start\" x=\"1477\" y=\"-617.8\" font-family=\"Helvetica,sans-Serif\" font-size=\"14.00\">samples = 20</text>\n<text text-anchor=\"start\" x=\"1472.5\" y=\"-602.8\" font-family=\"Helvetica,sans-Serif\" font-size=\"14.00\">value = [12, 8]</text>\n<text text-anchor=\"start\" x=\"1450\" y=\"-587.8\" font-family=\"Helvetica,sans-Serif\" font-size=\"14.00\">class = San Francisco</text>\n</g>\n<!-- 30&#45;&gt;31 -->\n<g id=\"edge31\" class=\"edge\">\n<title>30&#45;&gt;31</title>\n<path fill=\"none\" stroke=\"black\" d=\"M1525.5,-698.91C1525.5,-690.65 1525.5,-681.86 1525.5,-673.3\"/>\n<polygon fill=\"black\" stroke=\"black\" points=\"1529,-673.02 1525.5,-663.02 1522,-673.02 1529,-673.02\"/>\n</g>\n<!-- 34 -->\n<g id=\"node35\" class=\"node\">\n<title>34</title>\n<path fill=\"#8dc6f0\" stroke=\"black\" d=\"M1790.5,-663C1790.5,-663 1678.5,-663 1678.5,-663 1672.5,-663 1666.5,-657 1666.5,-651 1666.5,-651 1666.5,-592 1666.5,-592 1666.5,-586 1672.5,-580 1678.5,-580 1678.5,-580 1790.5,-580 1790.5,-580 1796.5,-580 1802.5,-586 1802.5,-592 1802.5,-592 1802.5,-651 1802.5,-651 1802.5,-657 1796.5,-663 1790.5,-663\"/>\n<text text-anchor=\"start\" x=\"1692\" y=\"-647.8\" font-family=\"Helvetica,sans-Serif\" font-size=\"14.00\">bath ≤ 3.75</text>\n<text text-anchor=\"start\" x=\"1690.5\" y=\"-632.8\" font-family=\"Helvetica,sans-Serif\" font-size=\"14.00\">gini = 0.418</text>\n<text text-anchor=\"start\" x=\"1686\" y=\"-617.8\" font-family=\"Helvetica,sans-Serif\" font-size=\"14.00\">samples = 37</text>\n<text text-anchor=\"start\" x=\"1677\" y=\"-602.8\" font-family=\"Helvetica,sans-Serif\" font-size=\"14.00\">value = [11, 26]</text>\n<text text-anchor=\"start\" x=\"1674.5\" y=\"-587.8\" font-family=\"Helvetica,sans-Serif\" font-size=\"14.00\">class = New York</text>\n</g>\n<!-- 30&#45;&gt;34 -->\n<g id=\"edge34\" class=\"edge\">\n<title>30&#45;&gt;34</title>\n<path fill=\"none\" stroke=\"black\" d=\"M1593.65,-701.35C1614.07,-689.92 1636.62,-677.29 1657.58,-665.56\"/>\n<polygon fill=\"black\" stroke=\"black\" points=\"1659.43,-668.54 1666.45,-660.6 1656.01,-662.43 1659.43,-668.54\"/>\n</g>\n<!-- 32 -->\n<g id=\"node33\" class=\"node\">\n<title>32</title>\n<path fill=\"#f4caac\" stroke=\"black\" d=\"M1482,-536.5C1482,-536.5 1339,-536.5 1339,-536.5 1333,-536.5 1327,-530.5 1327,-524.5 1327,-524.5 1327,-480.5 1327,-480.5 1327,-474.5 1333,-468.5 1339,-468.5 1339,-468.5 1482,-468.5 1482,-468.5 1488,-468.5 1494,-474.5 1494,-480.5 1494,-480.5 1494,-524.5 1494,-524.5 1494,-530.5 1488,-536.5 1482,-536.5\"/>\n<text text-anchor=\"start\" x=\"1366.5\" y=\"-521.3\" font-family=\"Helvetica,sans-Serif\" font-size=\"14.00\">gini = 0.465</text>\n<text text-anchor=\"start\" x=\"1362\" y=\"-506.3\" font-family=\"Helvetica,sans-Serif\" font-size=\"14.00\">samples = 19</text>\n<text text-anchor=\"start\" x=\"1357.5\" y=\"-491.3\" font-family=\"Helvetica,sans-Serif\" font-size=\"14.00\">value = [12, 7]</text>\n<text text-anchor=\"start\" x=\"1335\" y=\"-476.3\" font-family=\"Helvetica,sans-Serif\" font-size=\"14.00\">class = San Francisco</text>\n</g>\n<!-- 31&#45;&gt;32 -->\n<g id=\"edge32\" class=\"edge\">\n<title>31&#45;&gt;32</title>\n<path fill=\"none\" stroke=\"black\" d=\"M1485.6,-579.91C1474.21,-568.32 1461.81,-555.7 1450.42,-544.11\"/>\n<polygon fill=\"black\" stroke=\"black\" points=\"1452.61,-541.35 1443.1,-536.67 1447.61,-546.25 1452.61,-541.35\"/>\n</g>\n<!-- 33 -->\n<g id=\"node34\" class=\"node\">\n<title>33</title>\n<path fill=\"#399de5\" stroke=\"black\" d=\"M1636.5,-536.5C1636.5,-536.5 1524.5,-536.5 1524.5,-536.5 1518.5,-536.5 1512.5,-530.5 1512.5,-524.5 1512.5,-524.5 1512.5,-480.5 1512.5,-480.5 1512.5,-474.5 1518.5,-468.5 1524.5,-468.5 1524.5,-468.5 1636.5,-468.5 1636.5,-468.5 1642.5,-468.5 1648.5,-474.5 1648.5,-480.5 1648.5,-480.5 1648.5,-524.5 1648.5,-524.5 1648.5,-530.5 1642.5,-536.5 1636.5,-536.5\"/>\n<text text-anchor=\"start\" x=\"1545.5\" y=\"-521.3\" font-family=\"Helvetica,sans-Serif\" font-size=\"14.00\">gini = 0.0</text>\n<text text-anchor=\"start\" x=\"1536.5\" y=\"-506.3\" font-family=\"Helvetica,sans-Serif\" font-size=\"14.00\">samples = 1</text>\n<text text-anchor=\"start\" x=\"1532\" y=\"-491.3\" font-family=\"Helvetica,sans-Serif\" font-size=\"14.00\">value = [0, 1]</text>\n<text text-anchor=\"start\" x=\"1520.5\" y=\"-476.3\" font-family=\"Helvetica,sans-Serif\" font-size=\"14.00\">class = New York</text>\n</g>\n<!-- 31&#45;&gt;33 -->\n<g id=\"edge33\" class=\"edge\">\n<title>31&#45;&gt;33</title>\n<path fill=\"none\" stroke=\"black\" d=\"M1544.58,-579.91C1549.77,-568.87 1555.4,-556.9 1560.63,-545.77\"/>\n<polygon fill=\"black\" stroke=\"black\" points=\"1563.82,-547.21 1564.91,-536.67 1557.49,-544.23 1563.82,-547.21\"/>\n</g>\n<!-- 35 -->\n<g id=\"node36\" class=\"node\">\n<title>35</title>\n<path fill=\"#47a4e7\" stroke=\"black\" d=\"M1790.5,-544C1790.5,-544 1678.5,-544 1678.5,-544 1672.5,-544 1666.5,-538 1666.5,-532 1666.5,-532 1666.5,-473 1666.5,-473 1666.5,-467 1672.5,-461 1678.5,-461 1678.5,-461 1790.5,-461 1790.5,-461 1796.5,-461 1802.5,-467 1802.5,-473 1802.5,-473 1802.5,-532 1802.5,-532 1802.5,-538 1796.5,-544 1790.5,-544\"/>\n<text text-anchor=\"start\" x=\"1695.5\" y=\"-528.8\" font-family=\"Helvetica,sans-Serif\" font-size=\"14.00\">beds ≤ 4.5</text>\n<text text-anchor=\"start\" x=\"1690.5\" y=\"-513.8\" font-family=\"Helvetica,sans-Serif\" font-size=\"14.00\">gini = 0.124</text>\n<text text-anchor=\"start\" x=\"1686\" y=\"-498.8\" font-family=\"Helvetica,sans-Serif\" font-size=\"14.00\">samples = 15</text>\n<text text-anchor=\"start\" x=\"1681.5\" y=\"-483.8\" font-family=\"Helvetica,sans-Serif\" font-size=\"14.00\">value = [1, 14]</text>\n<text text-anchor=\"start\" x=\"1674.5\" y=\"-468.8\" font-family=\"Helvetica,sans-Serif\" font-size=\"14.00\">class = New York</text>\n</g>\n<!-- 34&#45;&gt;35 -->\n<g id=\"edge35\" class=\"edge\">\n<title>34&#45;&gt;35</title>\n<path fill=\"none\" stroke=\"black\" d=\"M1734.5,-579.91C1734.5,-571.65 1734.5,-562.86 1734.5,-554.3\"/>\n<polygon fill=\"black\" stroke=\"black\" points=\"1738,-554.02 1734.5,-544.02 1731,-554.02 1738,-554.02\"/>\n</g>\n<!-- 40 -->\n<g id=\"node41\" class=\"node\">\n<title>40</title>\n<path fill=\"#deeffb\" stroke=\"black\" d=\"M1944.5,-544C1944.5,-544 1832.5,-544 1832.5,-544 1826.5,-544 1820.5,-538 1820.5,-532 1820.5,-532 1820.5,-473 1820.5,-473 1820.5,-467 1826.5,-461 1832.5,-461 1832.5,-461 1944.5,-461 1944.5,-461 1950.5,-461 1956.5,-467 1956.5,-473 1956.5,-473 1956.5,-532 1956.5,-532 1956.5,-538 1950.5,-544 1944.5,-544\"/>\n<text text-anchor=\"start\" x=\"1846\" y=\"-528.8\" font-family=\"Helvetica,sans-Serif\" font-size=\"14.00\">bath ≤ 6.75</text>\n<text text-anchor=\"start\" x=\"1844.5\" y=\"-513.8\" font-family=\"Helvetica,sans-Serif\" font-size=\"14.00\">gini = 0.496</text>\n<text text-anchor=\"start\" x=\"1840\" y=\"-498.8\" font-family=\"Helvetica,sans-Serif\" font-size=\"14.00\">samples = 22</text>\n<text text-anchor=\"start\" x=\"1831\" y=\"-483.8\" font-family=\"Helvetica,sans-Serif\" font-size=\"14.00\">value = [10, 12]</text>\n<text text-anchor=\"start\" x=\"1828.5\" y=\"-468.8\" font-family=\"Helvetica,sans-Serif\" font-size=\"14.00\">class = New York</text>\n</g>\n<!-- 34&#45;&gt;40 -->\n<g id=\"edge40\" class=\"edge\">\n<title>34&#45;&gt;40</title>\n<path fill=\"none\" stroke=\"black\" d=\"M1787.93,-579.91C1800.59,-570.29 1814.19,-559.95 1827.18,-550.09\"/>\n<polygon fill=\"black\" stroke=\"black\" points=\"1829.32,-552.86 1835.16,-544.02 1825.08,-547.28 1829.32,-552.86\"/>\n</g>\n<!-- 36 -->\n<g id=\"node37\" class=\"node\">\n<title>36</title>\n<path fill=\"#5aade9\" stroke=\"black\" d=\"M1636.5,-425C1636.5,-425 1524.5,-425 1524.5,-425 1518.5,-425 1512.5,-419 1512.5,-413 1512.5,-413 1512.5,-354 1512.5,-354 1512.5,-348 1518.5,-342 1524.5,-342 1524.5,-342 1636.5,-342 1636.5,-342 1642.5,-342 1648.5,-348 1648.5,-354 1648.5,-354 1648.5,-413 1648.5,-413 1648.5,-419 1642.5,-425 1636.5,-425\"/>\n<text text-anchor=\"start\" x=\"1538\" y=\"-409.8\" font-family=\"Helvetica,sans-Serif\" font-size=\"14.00\">bath ≤ 3.25</text>\n<text text-anchor=\"start\" x=\"1536.5\" y=\"-394.8\" font-family=\"Helvetica,sans-Serif\" font-size=\"14.00\">gini = 0.245</text>\n<text text-anchor=\"start\" x=\"1536.5\" y=\"-379.8\" font-family=\"Helvetica,sans-Serif\" font-size=\"14.00\">samples = 7</text>\n<text text-anchor=\"start\" x=\"1532\" y=\"-364.8\" font-family=\"Helvetica,sans-Serif\" font-size=\"14.00\">value = [1, 6]</text>\n<text text-anchor=\"start\" x=\"1520.5\" y=\"-349.8\" font-family=\"Helvetica,sans-Serif\" font-size=\"14.00\">class = New York</text>\n</g>\n<!-- 35&#45;&gt;36 -->\n<g id=\"edge36\" class=\"edge\">\n<title>35&#45;&gt;36</title>\n<path fill=\"none\" stroke=\"black\" d=\"M1681.07,-460.91C1668.41,-451.29 1654.81,-440.95 1641.82,-431.09\"/>\n<polygon fill=\"black\" stroke=\"black\" points=\"1643.92,-428.28 1633.84,-425.02 1639.68,-433.86 1643.92,-428.28\"/>\n</g>\n<!-- 39 -->\n<g id=\"node40\" class=\"node\">\n<title>39</title>\n<path fill=\"#399de5\" stroke=\"black\" d=\"M1790.5,-417.5C1790.5,-417.5 1678.5,-417.5 1678.5,-417.5 1672.5,-417.5 1666.5,-411.5 1666.5,-405.5 1666.5,-405.5 1666.5,-361.5 1666.5,-361.5 1666.5,-355.5 1672.5,-349.5 1678.5,-349.5 1678.5,-349.5 1790.5,-349.5 1790.5,-349.5 1796.5,-349.5 1802.5,-355.5 1802.5,-361.5 1802.5,-361.5 1802.5,-405.5 1802.5,-405.5 1802.5,-411.5 1796.5,-417.5 1790.5,-417.5\"/>\n<text text-anchor=\"start\" x=\"1699.5\" y=\"-402.3\" font-family=\"Helvetica,sans-Serif\" font-size=\"14.00\">gini = 0.0</text>\n<text text-anchor=\"start\" x=\"1690.5\" y=\"-387.3\" font-family=\"Helvetica,sans-Serif\" font-size=\"14.00\">samples = 8</text>\n<text text-anchor=\"start\" x=\"1686\" y=\"-372.3\" font-family=\"Helvetica,sans-Serif\" font-size=\"14.00\">value = [0, 8]</text>\n<text text-anchor=\"start\" x=\"1674.5\" y=\"-357.3\" font-family=\"Helvetica,sans-Serif\" font-size=\"14.00\">class = New York</text>\n</g>\n<!-- 35&#45;&gt;39 -->\n<g id=\"edge39\" class=\"edge\">\n<title>35&#45;&gt;39</title>\n<path fill=\"none\" stroke=\"black\" d=\"M1734.5,-460.91C1734.5,-450.2 1734.5,-438.62 1734.5,-427.78\"/>\n<polygon fill=\"black\" stroke=\"black\" points=\"1738,-427.67 1734.5,-417.67 1731,-427.67 1738,-427.67\"/>\n</g>\n<!-- 37 -->\n<g id=\"node38\" class=\"node\">\n<title>37</title>\n<path fill=\"#6ab6ec\" stroke=\"black\" d=\"M1482.5,-298.5C1482.5,-298.5 1370.5,-298.5 1370.5,-298.5 1364.5,-298.5 1358.5,-292.5 1358.5,-286.5 1358.5,-286.5 1358.5,-242.5 1358.5,-242.5 1358.5,-236.5 1364.5,-230.5 1370.5,-230.5 1370.5,-230.5 1482.5,-230.5 1482.5,-230.5 1488.5,-230.5 1494.5,-236.5 1494.5,-242.5 1494.5,-242.5 1494.5,-286.5 1494.5,-286.5 1494.5,-292.5 1488.5,-298.5 1482.5,-298.5\"/>\n<text text-anchor=\"start\" x=\"1387\" y=\"-283.3\" font-family=\"Helvetica,sans-Serif\" font-size=\"14.00\">gini = 0.32</text>\n<text text-anchor=\"start\" x=\"1382.5\" y=\"-268.3\" font-family=\"Helvetica,sans-Serif\" font-size=\"14.00\">samples = 5</text>\n<text text-anchor=\"start\" x=\"1378\" y=\"-253.3\" font-family=\"Helvetica,sans-Serif\" font-size=\"14.00\">value = [1, 4]</text>\n<text text-anchor=\"start\" x=\"1366.5\" y=\"-238.3\" font-family=\"Helvetica,sans-Serif\" font-size=\"14.00\">class = New York</text>\n</g>\n<!-- 36&#45;&gt;37 -->\n<g id=\"edge37\" class=\"edge\">\n<title>36&#45;&gt;37</title>\n<path fill=\"none\" stroke=\"black\" d=\"M1527.07,-341.91C1511.24,-329.88 1493.94,-316.73 1478.22,-304.79\"/>\n<polygon fill=\"black\" stroke=\"black\" points=\"1480.24,-301.93 1470.16,-298.67 1476,-307.5 1480.24,-301.93\"/>\n</g>\n<!-- 38 -->\n<g id=\"node39\" class=\"node\">\n<title>38</title>\n<path fill=\"#399de5\" stroke=\"black\" d=\"M1636.5,-298.5C1636.5,-298.5 1524.5,-298.5 1524.5,-298.5 1518.5,-298.5 1512.5,-292.5 1512.5,-286.5 1512.5,-286.5 1512.5,-242.5 1512.5,-242.5 1512.5,-236.5 1518.5,-230.5 1524.5,-230.5 1524.5,-230.5 1636.5,-230.5 1636.5,-230.5 1642.5,-230.5 1648.5,-236.5 1648.5,-242.5 1648.5,-242.5 1648.5,-286.5 1648.5,-286.5 1648.5,-292.5 1642.5,-298.5 1636.5,-298.5\"/>\n<text text-anchor=\"start\" x=\"1545.5\" y=\"-283.3\" font-family=\"Helvetica,sans-Serif\" font-size=\"14.00\">gini = 0.0</text>\n<text text-anchor=\"start\" x=\"1536.5\" y=\"-268.3\" font-family=\"Helvetica,sans-Serif\" font-size=\"14.00\">samples = 2</text>\n<text text-anchor=\"start\" x=\"1532\" y=\"-253.3\" font-family=\"Helvetica,sans-Serif\" font-size=\"14.00\">value = [0, 2]</text>\n<text text-anchor=\"start\" x=\"1520.5\" y=\"-238.3\" font-family=\"Helvetica,sans-Serif\" font-size=\"14.00\">class = New York</text>\n</g>\n<!-- 36&#45;&gt;38 -->\n<g id=\"edge38\" class=\"edge\">\n<title>36&#45;&gt;38</title>\n<path fill=\"none\" stroke=\"black\" d=\"M1580.5,-341.91C1580.5,-331.2 1580.5,-319.62 1580.5,-308.78\"/>\n<polygon fill=\"black\" stroke=\"black\" points=\"1584,-308.67 1580.5,-298.67 1577,-308.67 1584,-308.67\"/>\n</g>\n<!-- 41 -->\n<g id=\"node42\" class=\"node\">\n<title>41</title>\n<path fill=\"#bddef6\" stroke=\"black\" d=\"M1944.5,-425C1944.5,-425 1832.5,-425 1832.5,-425 1826.5,-425 1820.5,-419 1820.5,-413 1820.5,-413 1820.5,-354 1820.5,-354 1820.5,-348 1826.5,-342 1832.5,-342 1832.5,-342 1944.5,-342 1944.5,-342 1950.5,-342 1956.5,-348 1956.5,-354 1956.5,-354 1956.5,-413 1956.5,-413 1956.5,-419 1950.5,-425 1944.5,-425\"/>\n<text text-anchor=\"start\" x=\"1846\" y=\"-409.8\" font-family=\"Helvetica,sans-Serif\" font-size=\"14.00\">bath ≤ 5.25</text>\n<text text-anchor=\"start\" x=\"1849\" y=\"-394.8\" font-family=\"Helvetica,sans-Serif\" font-size=\"14.00\">gini = 0.48</text>\n<text text-anchor=\"start\" x=\"1840\" y=\"-379.8\" font-family=\"Helvetica,sans-Serif\" font-size=\"14.00\">samples = 20</text>\n<text text-anchor=\"start\" x=\"1835.5\" y=\"-364.8\" font-family=\"Helvetica,sans-Serif\" font-size=\"14.00\">value = [8, 12]</text>\n<text text-anchor=\"start\" x=\"1828.5\" y=\"-349.8\" font-family=\"Helvetica,sans-Serif\" font-size=\"14.00\">class = New York</text>\n</g>\n<!-- 40&#45;&gt;41 -->\n<g id=\"edge41\" class=\"edge\">\n<title>40&#45;&gt;41</title>\n<path fill=\"none\" stroke=\"black\" d=\"M1888.5,-460.91C1888.5,-452.65 1888.5,-443.86 1888.5,-435.3\"/>\n<polygon fill=\"black\" stroke=\"black\" points=\"1892,-435.02 1888.5,-425.02 1885,-435.02 1892,-435.02\"/>\n</g>\n<!-- 50 -->\n<g id=\"node51\" class=\"node\">\n<title>50</title>\n<path fill=\"#e58139\" stroke=\"black\" d=\"M2130,-417.5C2130,-417.5 1987,-417.5 1987,-417.5 1981,-417.5 1975,-411.5 1975,-405.5 1975,-405.5 1975,-361.5 1975,-361.5 1975,-355.5 1981,-349.5 1987,-349.5 1987,-349.5 2130,-349.5 2130,-349.5 2136,-349.5 2142,-355.5 2142,-361.5 2142,-361.5 2142,-405.5 2142,-405.5 2142,-411.5 2136,-417.5 2130,-417.5\"/>\n<text text-anchor=\"start\" x=\"2023.5\" y=\"-402.3\" font-family=\"Helvetica,sans-Serif\" font-size=\"14.00\">gini = 0.0</text>\n<text text-anchor=\"start\" x=\"2014.5\" y=\"-387.3\" font-family=\"Helvetica,sans-Serif\" font-size=\"14.00\">samples = 2</text>\n<text text-anchor=\"start\" x=\"2010\" y=\"-372.3\" font-family=\"Helvetica,sans-Serif\" font-size=\"14.00\">value = [2, 0]</text>\n<text text-anchor=\"start\" x=\"1983\" y=\"-357.3\" font-family=\"Helvetica,sans-Serif\" font-size=\"14.00\">class = San Francisco</text>\n</g>\n<!-- 40&#45;&gt;50 -->\n<g id=\"edge50\" class=\"edge\">\n<title>40&#45;&gt;50</title>\n<path fill=\"none\" stroke=\"black\" d=\"M1947.48,-460.91C1965.12,-448.77 1984.41,-435.49 2001.89,-423.46\"/>\n<polygon fill=\"black\" stroke=\"black\" points=\"2004.06,-426.22 2010.31,-417.67 2000.09,-420.45 2004.06,-426.22\"/>\n</g>\n<!-- 42 -->\n<g id=\"node43\" class=\"node\">\n<title>42</title>\n<path fill=\"#e9f4fc\" stroke=\"black\" d=\"M1867.5,-306C1867.5,-306 1755.5,-306 1755.5,-306 1749.5,-306 1743.5,-300 1743.5,-294 1743.5,-294 1743.5,-235 1743.5,-235 1743.5,-229 1749.5,-223 1755.5,-223 1755.5,-223 1867.5,-223 1867.5,-223 1873.5,-223 1879.5,-229 1879.5,-235 1879.5,-235 1879.5,-294 1879.5,-294 1879.5,-300 1873.5,-306 1867.5,-306\"/>\n<text text-anchor=\"start\" x=\"1769\" y=\"-290.8\" font-family=\"Helvetica,sans-Serif\" font-size=\"14.00\">bath ≤ 4.75</text>\n<text text-anchor=\"start\" x=\"1767.5\" y=\"-275.8\" font-family=\"Helvetica,sans-Serif\" font-size=\"14.00\">gini = 0.498</text>\n<text text-anchor=\"start\" x=\"1763\" y=\"-260.8\" font-family=\"Helvetica,sans-Serif\" font-size=\"14.00\">samples = 17</text>\n<text text-anchor=\"start\" x=\"1763\" y=\"-245.8\" font-family=\"Helvetica,sans-Serif\" font-size=\"14.00\">value = [8, 9]</text>\n<text text-anchor=\"start\" x=\"1751.5\" y=\"-230.8\" font-family=\"Helvetica,sans-Serif\" font-size=\"14.00\">class = New York</text>\n</g>\n<!-- 41&#45;&gt;42 -->\n<g id=\"edge42\" class=\"edge\">\n<title>41&#45;&gt;42</title>\n<path fill=\"none\" stroke=\"black\" d=\"M1861.79,-341.91C1855.99,-333.1 1849.8,-323.7 1843.82,-314.61\"/>\n<polygon fill=\"black\" stroke=\"black\" points=\"1846.59,-312.45 1838.17,-306.02 1840.74,-316.3 1846.59,-312.45\"/>\n</g>\n<!-- 49 -->\n<g id=\"node50\" class=\"node\">\n<title>49</title>\n<path fill=\"#399de5\" stroke=\"black\" d=\"M2021.5,-298.5C2021.5,-298.5 1909.5,-298.5 1909.5,-298.5 1903.5,-298.5 1897.5,-292.5 1897.5,-286.5 1897.5,-286.5 1897.5,-242.5 1897.5,-242.5 1897.5,-236.5 1903.5,-230.5 1909.5,-230.5 1909.5,-230.5 2021.5,-230.5 2021.5,-230.5 2027.5,-230.5 2033.5,-236.5 2033.5,-242.5 2033.5,-242.5 2033.5,-286.5 2033.5,-286.5 2033.5,-292.5 2027.5,-298.5 2021.5,-298.5\"/>\n<text text-anchor=\"start\" x=\"1930.5\" y=\"-283.3\" font-family=\"Helvetica,sans-Serif\" font-size=\"14.00\">gini = 0.0</text>\n<text text-anchor=\"start\" x=\"1921.5\" y=\"-268.3\" font-family=\"Helvetica,sans-Serif\" font-size=\"14.00\">samples = 3</text>\n<text text-anchor=\"start\" x=\"1917\" y=\"-253.3\" font-family=\"Helvetica,sans-Serif\" font-size=\"14.00\">value = [0, 3]</text>\n<text text-anchor=\"start\" x=\"1905.5\" y=\"-238.3\" font-family=\"Helvetica,sans-Serif\" font-size=\"14.00\">class = New York</text>\n</g>\n<!-- 41&#45;&gt;49 -->\n<g id=\"edge49\" class=\"edge\">\n<title>41&#45;&gt;49</title>\n<path fill=\"none\" stroke=\"black\" d=\"M1915.21,-341.91C1922.62,-330.65 1930.67,-318.42 1938.12,-307.11\"/>\n<polygon fill=\"black\" stroke=\"black\" points=\"1941.1,-308.94 1943.67,-298.67 1935.25,-305.1 1941.1,-308.94\"/>\n</g>\n<!-- 43 -->\n<g id=\"node44\" class=\"node\">\n<title>43</title>\n<path fill=\"#9ccef2\" stroke=\"black\" d=\"M1782.5,-187C1782.5,-187 1670.5,-187 1670.5,-187 1664.5,-187 1658.5,-181 1658.5,-175 1658.5,-175 1658.5,-116 1658.5,-116 1658.5,-110 1664.5,-104 1670.5,-104 1670.5,-104 1782.5,-104 1782.5,-104 1788.5,-104 1794.5,-110 1794.5,-116 1794.5,-116 1794.5,-175 1794.5,-175 1794.5,-181 1788.5,-187 1782.5,-187\"/>\n<text text-anchor=\"start\" x=\"1684\" y=\"-171.8\" font-family=\"Helvetica,sans-Serif\" font-size=\"14.00\">bath ≤ 4.25</text>\n<text text-anchor=\"start\" x=\"1682.5\" y=\"-156.8\" font-family=\"Helvetica,sans-Serif\" font-size=\"14.00\">gini = 0.444</text>\n<text text-anchor=\"start\" x=\"1678\" y=\"-141.8\" font-family=\"Helvetica,sans-Serif\" font-size=\"14.00\">samples = 12</text>\n<text text-anchor=\"start\" x=\"1678\" y=\"-126.8\" font-family=\"Helvetica,sans-Serif\" font-size=\"14.00\">value = [4, 8]</text>\n<text text-anchor=\"start\" x=\"1666.5\" y=\"-111.8\" font-family=\"Helvetica,sans-Serif\" font-size=\"14.00\">class = New York</text>\n</g>\n<!-- 42&#45;&gt;43 -->\n<g id=\"edge43\" class=\"edge\">\n<title>42&#45;&gt;43</title>\n<path fill=\"none\" stroke=\"black\" d=\"M1782.01,-222.91C1775.55,-214.01 1768.64,-204.51 1761.98,-195.33\"/>\n<polygon fill=\"black\" stroke=\"black\" points=\"1764.65,-193.05 1755.94,-187.02 1758.98,-197.17 1764.65,-193.05\"/>\n</g>\n<!-- 46 -->\n<g id=\"node47\" class=\"node\">\n<title>46</title>\n<path fill=\"#eca06a\" stroke=\"black\" d=\"M1968,-187C1968,-187 1825,-187 1825,-187 1819,-187 1813,-181 1813,-175 1813,-175 1813,-116 1813,-116 1813,-110 1819,-104 1825,-104 1825,-104 1968,-104 1968,-104 1974,-104 1980,-110 1980,-116 1980,-116 1980,-175 1980,-175 1980,-181 1974,-187 1968,-187\"/>\n<text text-anchor=\"start\" x=\"1857.5\" y=\"-171.8\" font-family=\"Helvetica,sans-Serif\" font-size=\"14.00\">beds ≤ 4.5</text>\n<text text-anchor=\"start\" x=\"1857\" y=\"-156.8\" font-family=\"Helvetica,sans-Serif\" font-size=\"14.00\">gini = 0.32</text>\n<text text-anchor=\"start\" x=\"1852.5\" y=\"-141.8\" font-family=\"Helvetica,sans-Serif\" font-size=\"14.00\">samples = 5</text>\n<text text-anchor=\"start\" x=\"1848\" y=\"-126.8\" font-family=\"Helvetica,sans-Serif\" font-size=\"14.00\">value = [4, 1]</text>\n<text text-anchor=\"start\" x=\"1821\" y=\"-111.8\" font-family=\"Helvetica,sans-Serif\" font-size=\"14.00\">class = San Francisco</text>\n</g>\n<!-- 42&#45;&gt;46 -->\n<g id=\"edge46\" class=\"edge\">\n<title>42&#45;&gt;46</title>\n<path fill=\"none\" stroke=\"black\" d=\"M1840.99,-222.91C1847.45,-214.01 1854.36,-204.51 1861.02,-195.33\"/>\n<polygon fill=\"black\" stroke=\"black\" points=\"1864.02,-197.17 1867.06,-187.02 1858.35,-193.05 1864.02,-197.17\"/>\n</g>\n<!-- 44 -->\n<g id=\"node45\" class=\"node\">\n<title>44</title>\n<path fill=\"#aad5f4\" stroke=\"black\" d=\"M1628.5,-68C1628.5,-68 1516.5,-68 1516.5,-68 1510.5,-68 1504.5,-62 1504.5,-56 1504.5,-56 1504.5,-12 1504.5,-12 1504.5,-6 1510.5,0 1516.5,0 1516.5,0 1628.5,0 1628.5,0 1634.5,0 1640.5,-6 1640.5,-12 1640.5,-12 1640.5,-56 1640.5,-56 1640.5,-62 1634.5,-68 1628.5,-68\"/>\n<text text-anchor=\"start\" x=\"1528.5\" y=\"-52.8\" font-family=\"Helvetica,sans-Serif\" font-size=\"14.00\">gini = 0.463</text>\n<text text-anchor=\"start\" x=\"1524\" y=\"-37.8\" font-family=\"Helvetica,sans-Serif\" font-size=\"14.00\">samples = 11</text>\n<text text-anchor=\"start\" x=\"1524\" y=\"-22.8\" font-family=\"Helvetica,sans-Serif\" font-size=\"14.00\">value = [4, 7]</text>\n<text text-anchor=\"start\" x=\"1512.5\" y=\"-7.8\" font-family=\"Helvetica,sans-Serif\" font-size=\"14.00\">class = New York</text>\n</g>\n<!-- 43&#45;&gt;44 -->\n<g id=\"edge44\" class=\"edge\">\n<title>43&#45;&gt;44</title>\n<path fill=\"none\" stroke=\"black\" d=\"M1669.16,-103.73C1655.56,-94.06 1641.09,-83.77 1627.59,-74.17\"/>\n<polygon fill=\"black\" stroke=\"black\" points=\"1629.51,-71.24 1619.33,-68.3 1625.45,-76.95 1629.51,-71.24\"/>\n</g>\n<!-- 45 -->\n<g id=\"node46\" class=\"node\">\n<title>45</title>\n<path fill=\"#399de5\" stroke=\"black\" d=\"M1782.5,-68C1782.5,-68 1670.5,-68 1670.5,-68 1664.5,-68 1658.5,-62 1658.5,-56 1658.5,-56 1658.5,-12 1658.5,-12 1658.5,-6 1664.5,0 1670.5,0 1670.5,0 1782.5,0 1782.5,0 1788.5,0 1794.5,-6 1794.5,-12 1794.5,-12 1794.5,-56 1794.5,-56 1794.5,-62 1788.5,-68 1782.5,-68\"/>\n<text text-anchor=\"start\" x=\"1691.5\" y=\"-52.8\" font-family=\"Helvetica,sans-Serif\" font-size=\"14.00\">gini = 0.0</text>\n<text text-anchor=\"start\" x=\"1682.5\" y=\"-37.8\" font-family=\"Helvetica,sans-Serif\" font-size=\"14.00\">samples = 1</text>\n<text text-anchor=\"start\" x=\"1678\" y=\"-22.8\" font-family=\"Helvetica,sans-Serif\" font-size=\"14.00\">value = [0, 1]</text>\n<text text-anchor=\"start\" x=\"1666.5\" y=\"-7.8\" font-family=\"Helvetica,sans-Serif\" font-size=\"14.00\">class = New York</text>\n</g>\n<!-- 43&#45;&gt;45 -->\n<g id=\"edge45\" class=\"edge\">\n<title>43&#45;&gt;45</title>\n<path fill=\"none\" stroke=\"black\" d=\"M1726.5,-103.73C1726.5,-95.52 1726.5,-86.86 1726.5,-78.56\"/>\n<polygon fill=\"black\" stroke=\"black\" points=\"1730,-78.3 1726.5,-68.3 1723,-78.3 1730,-78.3\"/>\n</g>\n<!-- 47 -->\n<g id=\"node48\" class=\"node\">\n<title>47</title>\n<path fill=\"#e58139\" stroke=\"black\" d=\"M1968,-68C1968,-68 1825,-68 1825,-68 1819,-68 1813,-62 1813,-56 1813,-56 1813,-12 1813,-12 1813,-6 1819,0 1825,0 1825,0 1968,0 1968,0 1974,0 1980,-6 1980,-12 1980,-12 1980,-56 1980,-56 1980,-62 1974,-68 1968,-68\"/>\n<text text-anchor=\"start\" x=\"1861.5\" y=\"-52.8\" font-family=\"Helvetica,sans-Serif\" font-size=\"14.00\">gini = 0.0</text>\n<text text-anchor=\"start\" x=\"1852.5\" y=\"-37.8\" font-family=\"Helvetica,sans-Serif\" font-size=\"14.00\">samples = 1</text>\n<text text-anchor=\"start\" x=\"1848\" y=\"-22.8\" font-family=\"Helvetica,sans-Serif\" font-size=\"14.00\">value = [1, 0]</text>\n<text text-anchor=\"start\" x=\"1821\" y=\"-7.8\" font-family=\"Helvetica,sans-Serif\" font-size=\"14.00\">class = San Francisco</text>\n</g>\n<!-- 46&#45;&gt;47 -->\n<g id=\"edge47\" class=\"edge\">\n<title>46&#45;&gt;47</title>\n<path fill=\"none\" stroke=\"black\" d=\"M1896.5,-103.73C1896.5,-95.52 1896.5,-86.86 1896.5,-78.56\"/>\n<polygon fill=\"black\" stroke=\"black\" points=\"1900,-78.3 1896.5,-68.3 1893,-78.3 1900,-78.3\"/>\n</g>\n<!-- 48 -->\n<g id=\"node49\" class=\"node\">\n<title>48</title>\n<path fill=\"#eeab7b\" stroke=\"black\" d=\"M2153,-68C2153,-68 2010,-68 2010,-68 2004,-68 1998,-62 1998,-56 1998,-56 1998,-12 1998,-12 1998,-6 2004,0 2010,0 2010,0 2153,0 2153,0 2159,0 2165,-6 2165,-12 2165,-12 2165,-56 2165,-56 2165,-62 2159,-68 2153,-68\"/>\n<text text-anchor=\"start\" x=\"2037.5\" y=\"-52.8\" font-family=\"Helvetica,sans-Serif\" font-size=\"14.00\">gini = 0.375</text>\n<text text-anchor=\"start\" x=\"2037.5\" y=\"-37.8\" font-family=\"Helvetica,sans-Serif\" font-size=\"14.00\">samples = 4</text>\n<text text-anchor=\"start\" x=\"2033\" y=\"-22.8\" font-family=\"Helvetica,sans-Serif\" font-size=\"14.00\">value = [3, 1]</text>\n<text text-anchor=\"start\" x=\"2006\" y=\"-7.8\" font-family=\"Helvetica,sans-Serif\" font-size=\"14.00\">class = San Francisco</text>\n</g>\n<!-- 46&#45;&gt;48 -->\n<g id=\"edge48\" class=\"edge\">\n<title>46&#45;&gt;48</title>\n<path fill=\"none\" stroke=\"black\" d=\"M1965.12,-103.88C1982.11,-93.83 2000.25,-83.09 2017.03,-73.16\"/>\n<polygon fill=\"black\" stroke=\"black\" points=\"2018.85,-76.15 2025.67,-68.04 2015.29,-70.12 2018.85,-76.15\"/>\n</g>\n</g>\n</svg>\n",
      "text/plain": [
       "<graphviz.sources.Source at 0x740256d077d0>"
      ]
     },
     "execution_count": 288,
     "metadata": {},
     "output_type": "execute_result"
    }
   ],
   "execution_count": 288
  },
  {
   "cell_type": "markdown",
   "metadata": {},
   "source": [
    "Maak nu zelf een betere beslisboom. Het is dus de bedoeling om een hogere accuracy te krijgen! \n",
    "\n",
    "Denk aan het toevoegen van features, aanpassen van hyperparameters, etc."
   ]
  },
  {
   "cell_type": "markdown",
   "metadata": {},
   "source": [
    "Selecteer de _features_ en de target _classes_."
   ]
  },
  {
   "cell_type": "code",
   "metadata": {
    "scrolled": true,
    "tags": [
     "student"
    ],
    "ExecuteTime": {
     "end_time": "2024-10-01T15:51:13.887630Z",
     "start_time": "2024-10-01T15:51:13.883730Z"
    }
   },
   "source": [
    "df = pd.read_csv(\"decision_trees_homes_ny_sf.csv\", sep=\",\")\n",
    "f_names = [\"beds\", \"bath\", \"price\", \"year_built\", \"sqft\", \"price_per_sqft\", \"elevation\"]\n",
    "t_names = [\"San Francisco\", \"New York\"]\n",
    "features = df[f_names]\n",
    "target = df[\"in_sf\"]"
   ],
   "outputs": [],
   "execution_count": 289
  },
  {
   "cell_type": "markdown",
   "metadata": {},
   "source": [
    "Opdelen in een train- en een testset."
   ]
  },
  {
   "cell_type": "code",
   "metadata": {
    "tags": [
     "student"
    ],
    "ExecuteTime": {
     "end_time": "2024-10-01T15:51:13.935730Z",
     "start_time": "2024-10-01T15:51:13.933262Z"
    }
   },
   "source": [
    "features_train, features_test, target_train, target_test = train_test_split(features, target, random_state=10)"
   ],
   "outputs": [],
   "execution_count": 290
  },
  {
   "cell_type": "markdown",
   "metadata": {},
   "source": [
    "Maak een _decision tree_ model, train deze en bereken de voorspellende waarde."
   ]
  },
  {
   "cell_type": "code",
   "metadata": {
    "tags": [
     "student"
    ],
    "ExecuteTime": {
     "end_time": "2024-10-01T15:51:13.990884Z",
     "start_time": "2024-10-01T15:51:13.986253Z"
    }
   },
   "source": [
    "model = DecisionTreeClassifier(max_depth=6)\n",
    "model.fit(features_train, target_train) "
   ],
   "outputs": [
    {
     "data": {
      "text/plain": [
       "DecisionTreeClassifier(max_depth=6)"
      ],
      "text/html": [
       "<style>#sk-container-id-17 {\n",
       "  /* Definition of color scheme common for light and dark mode */\n",
       "  --sklearn-color-text: black;\n",
       "  --sklearn-color-line: gray;\n",
       "  /* Definition of color scheme for unfitted estimators */\n",
       "  --sklearn-color-unfitted-level-0: #fff5e6;\n",
       "  --sklearn-color-unfitted-level-1: #f6e4d2;\n",
       "  --sklearn-color-unfitted-level-2: #ffe0b3;\n",
       "  --sklearn-color-unfitted-level-3: chocolate;\n",
       "  /* Definition of color scheme for fitted estimators */\n",
       "  --sklearn-color-fitted-level-0: #f0f8ff;\n",
       "  --sklearn-color-fitted-level-1: #d4ebff;\n",
       "  --sklearn-color-fitted-level-2: #b3dbfd;\n",
       "  --sklearn-color-fitted-level-3: cornflowerblue;\n",
       "\n",
       "  /* Specific color for light theme */\n",
       "  --sklearn-color-text-on-default-background: var(--sg-text-color, var(--theme-code-foreground, var(--jp-content-font-color1, black)));\n",
       "  --sklearn-color-background: var(--sg-background-color, var(--theme-background, var(--jp-layout-color0, white)));\n",
       "  --sklearn-color-border-box: var(--sg-text-color, var(--theme-code-foreground, var(--jp-content-font-color1, black)));\n",
       "  --sklearn-color-icon: #696969;\n",
       "\n",
       "  @media (prefers-color-scheme: dark) {\n",
       "    /* Redefinition of color scheme for dark theme */\n",
       "    --sklearn-color-text-on-default-background: var(--sg-text-color, var(--theme-code-foreground, var(--jp-content-font-color1, white)));\n",
       "    --sklearn-color-background: var(--sg-background-color, var(--theme-background, var(--jp-layout-color0, #111)));\n",
       "    --sklearn-color-border-box: var(--sg-text-color, var(--theme-code-foreground, var(--jp-content-font-color1, white)));\n",
       "    --sklearn-color-icon: #878787;\n",
       "  }\n",
       "}\n",
       "\n",
       "#sk-container-id-17 {\n",
       "  color: var(--sklearn-color-text);\n",
       "}\n",
       "\n",
       "#sk-container-id-17 pre {\n",
       "  padding: 0;\n",
       "}\n",
       "\n",
       "#sk-container-id-17 input.sk-hidden--visually {\n",
       "  border: 0;\n",
       "  clip: rect(1px 1px 1px 1px);\n",
       "  clip: rect(1px, 1px, 1px, 1px);\n",
       "  height: 1px;\n",
       "  margin: -1px;\n",
       "  overflow: hidden;\n",
       "  padding: 0;\n",
       "  position: absolute;\n",
       "  width: 1px;\n",
       "}\n",
       "\n",
       "#sk-container-id-17 div.sk-dashed-wrapped {\n",
       "  border: 1px dashed var(--sklearn-color-line);\n",
       "  margin: 0 0.4em 0.5em 0.4em;\n",
       "  box-sizing: border-box;\n",
       "  padding-bottom: 0.4em;\n",
       "  background-color: var(--sklearn-color-background);\n",
       "}\n",
       "\n",
       "#sk-container-id-17 div.sk-container {\n",
       "  /* jupyter's `normalize.less` sets `[hidden] { display: none; }`\n",
       "     but bootstrap.min.css set `[hidden] { display: none !important; }`\n",
       "     so we also need the `!important` here to be able to override the\n",
       "     default hidden behavior on the sphinx rendered scikit-learn.org.\n",
       "     See: https://github.com/scikit-learn/scikit-learn/issues/21755 */\n",
       "  display: inline-block !important;\n",
       "  position: relative;\n",
       "}\n",
       "\n",
       "#sk-container-id-17 div.sk-text-repr-fallback {\n",
       "  display: none;\n",
       "}\n",
       "\n",
       "div.sk-parallel-item,\n",
       "div.sk-serial,\n",
       "div.sk-item {\n",
       "  /* draw centered vertical line to link estimators */\n",
       "  background-image: linear-gradient(var(--sklearn-color-text-on-default-background), var(--sklearn-color-text-on-default-background));\n",
       "  background-size: 2px 100%;\n",
       "  background-repeat: no-repeat;\n",
       "  background-position: center center;\n",
       "}\n",
       "\n",
       "/* Parallel-specific style estimator block */\n",
       "\n",
       "#sk-container-id-17 div.sk-parallel-item::after {\n",
       "  content: \"\";\n",
       "  width: 100%;\n",
       "  border-bottom: 2px solid var(--sklearn-color-text-on-default-background);\n",
       "  flex-grow: 1;\n",
       "}\n",
       "\n",
       "#sk-container-id-17 div.sk-parallel {\n",
       "  display: flex;\n",
       "  align-items: stretch;\n",
       "  justify-content: center;\n",
       "  background-color: var(--sklearn-color-background);\n",
       "  position: relative;\n",
       "}\n",
       "\n",
       "#sk-container-id-17 div.sk-parallel-item {\n",
       "  display: flex;\n",
       "  flex-direction: column;\n",
       "}\n",
       "\n",
       "#sk-container-id-17 div.sk-parallel-item:first-child::after {\n",
       "  align-self: flex-end;\n",
       "  width: 50%;\n",
       "}\n",
       "\n",
       "#sk-container-id-17 div.sk-parallel-item:last-child::after {\n",
       "  align-self: flex-start;\n",
       "  width: 50%;\n",
       "}\n",
       "\n",
       "#sk-container-id-17 div.sk-parallel-item:only-child::after {\n",
       "  width: 0;\n",
       "}\n",
       "\n",
       "/* Serial-specific style estimator block */\n",
       "\n",
       "#sk-container-id-17 div.sk-serial {\n",
       "  display: flex;\n",
       "  flex-direction: column;\n",
       "  align-items: center;\n",
       "  background-color: var(--sklearn-color-background);\n",
       "  padding-right: 1em;\n",
       "  padding-left: 1em;\n",
       "}\n",
       "\n",
       "\n",
       "/* Toggleable style: style used for estimator/Pipeline/ColumnTransformer box that is\n",
       "clickable and can be expanded/collapsed.\n",
       "- Pipeline and ColumnTransformer use this feature and define the default style\n",
       "- Estimators will overwrite some part of the style using the `sk-estimator` class\n",
       "*/\n",
       "\n",
       "/* Pipeline and ColumnTransformer style (default) */\n",
       "\n",
       "#sk-container-id-17 div.sk-toggleable {\n",
       "  /* Default theme specific background. It is overwritten whether we have a\n",
       "  specific estimator or a Pipeline/ColumnTransformer */\n",
       "  background-color: var(--sklearn-color-background);\n",
       "}\n",
       "\n",
       "/* Toggleable label */\n",
       "#sk-container-id-17 label.sk-toggleable__label {\n",
       "  cursor: pointer;\n",
       "  display: block;\n",
       "  width: 100%;\n",
       "  margin-bottom: 0;\n",
       "  padding: 0.5em;\n",
       "  box-sizing: border-box;\n",
       "  text-align: center;\n",
       "}\n",
       "\n",
       "#sk-container-id-17 label.sk-toggleable__label-arrow:before {\n",
       "  /* Arrow on the left of the label */\n",
       "  content: \"▸\";\n",
       "  float: left;\n",
       "  margin-right: 0.25em;\n",
       "  color: var(--sklearn-color-icon);\n",
       "}\n",
       "\n",
       "#sk-container-id-17 label.sk-toggleable__label-arrow:hover:before {\n",
       "  color: var(--sklearn-color-text);\n",
       "}\n",
       "\n",
       "/* Toggleable content - dropdown */\n",
       "\n",
       "#sk-container-id-17 div.sk-toggleable__content {\n",
       "  max-height: 0;\n",
       "  max-width: 0;\n",
       "  overflow: hidden;\n",
       "  text-align: left;\n",
       "  /* unfitted */\n",
       "  background-color: var(--sklearn-color-unfitted-level-0);\n",
       "}\n",
       "\n",
       "#sk-container-id-17 div.sk-toggleable__content.fitted {\n",
       "  /* fitted */\n",
       "  background-color: var(--sklearn-color-fitted-level-0);\n",
       "}\n",
       "\n",
       "#sk-container-id-17 div.sk-toggleable__content pre {\n",
       "  margin: 0.2em;\n",
       "  border-radius: 0.25em;\n",
       "  color: var(--sklearn-color-text);\n",
       "  /* unfitted */\n",
       "  background-color: var(--sklearn-color-unfitted-level-0);\n",
       "}\n",
       "\n",
       "#sk-container-id-17 div.sk-toggleable__content.fitted pre {\n",
       "  /* unfitted */\n",
       "  background-color: var(--sklearn-color-fitted-level-0);\n",
       "}\n",
       "\n",
       "#sk-container-id-17 input.sk-toggleable__control:checked~div.sk-toggleable__content {\n",
       "  /* Expand drop-down */\n",
       "  max-height: 200px;\n",
       "  max-width: 100%;\n",
       "  overflow: auto;\n",
       "}\n",
       "\n",
       "#sk-container-id-17 input.sk-toggleable__control:checked~label.sk-toggleable__label-arrow:before {\n",
       "  content: \"▾\";\n",
       "}\n",
       "\n",
       "/* Pipeline/ColumnTransformer-specific style */\n",
       "\n",
       "#sk-container-id-17 div.sk-label input.sk-toggleable__control:checked~label.sk-toggleable__label {\n",
       "  color: var(--sklearn-color-text);\n",
       "  background-color: var(--sklearn-color-unfitted-level-2);\n",
       "}\n",
       "\n",
       "#sk-container-id-17 div.sk-label.fitted input.sk-toggleable__control:checked~label.sk-toggleable__label {\n",
       "  background-color: var(--sklearn-color-fitted-level-2);\n",
       "}\n",
       "\n",
       "/* Estimator-specific style */\n",
       "\n",
       "/* Colorize estimator box */\n",
       "#sk-container-id-17 div.sk-estimator input.sk-toggleable__control:checked~label.sk-toggleable__label {\n",
       "  /* unfitted */\n",
       "  background-color: var(--sklearn-color-unfitted-level-2);\n",
       "}\n",
       "\n",
       "#sk-container-id-17 div.sk-estimator.fitted input.sk-toggleable__control:checked~label.sk-toggleable__label {\n",
       "  /* fitted */\n",
       "  background-color: var(--sklearn-color-fitted-level-2);\n",
       "}\n",
       "\n",
       "#sk-container-id-17 div.sk-label label.sk-toggleable__label,\n",
       "#sk-container-id-17 div.sk-label label {\n",
       "  /* The background is the default theme color */\n",
       "  color: var(--sklearn-color-text-on-default-background);\n",
       "}\n",
       "\n",
       "/* On hover, darken the color of the background */\n",
       "#sk-container-id-17 div.sk-label:hover label.sk-toggleable__label {\n",
       "  color: var(--sklearn-color-text);\n",
       "  background-color: var(--sklearn-color-unfitted-level-2);\n",
       "}\n",
       "\n",
       "/* Label box, darken color on hover, fitted */\n",
       "#sk-container-id-17 div.sk-label.fitted:hover label.sk-toggleable__label.fitted {\n",
       "  color: var(--sklearn-color-text);\n",
       "  background-color: var(--sklearn-color-fitted-level-2);\n",
       "}\n",
       "\n",
       "/* Estimator label */\n",
       "\n",
       "#sk-container-id-17 div.sk-label label {\n",
       "  font-family: monospace;\n",
       "  font-weight: bold;\n",
       "  display: inline-block;\n",
       "  line-height: 1.2em;\n",
       "}\n",
       "\n",
       "#sk-container-id-17 div.sk-label-container {\n",
       "  text-align: center;\n",
       "}\n",
       "\n",
       "/* Estimator-specific */\n",
       "#sk-container-id-17 div.sk-estimator {\n",
       "  font-family: monospace;\n",
       "  border: 1px dotted var(--sklearn-color-border-box);\n",
       "  border-radius: 0.25em;\n",
       "  box-sizing: border-box;\n",
       "  margin-bottom: 0.5em;\n",
       "  /* unfitted */\n",
       "  background-color: var(--sklearn-color-unfitted-level-0);\n",
       "}\n",
       "\n",
       "#sk-container-id-17 div.sk-estimator.fitted {\n",
       "  /* fitted */\n",
       "  background-color: var(--sklearn-color-fitted-level-0);\n",
       "}\n",
       "\n",
       "/* on hover */\n",
       "#sk-container-id-17 div.sk-estimator:hover {\n",
       "  /* unfitted */\n",
       "  background-color: var(--sklearn-color-unfitted-level-2);\n",
       "}\n",
       "\n",
       "#sk-container-id-17 div.sk-estimator.fitted:hover {\n",
       "  /* fitted */\n",
       "  background-color: var(--sklearn-color-fitted-level-2);\n",
       "}\n",
       "\n",
       "/* Specification for estimator info (e.g. \"i\" and \"?\") */\n",
       "\n",
       "/* Common style for \"i\" and \"?\" */\n",
       "\n",
       ".sk-estimator-doc-link,\n",
       "a:link.sk-estimator-doc-link,\n",
       "a:visited.sk-estimator-doc-link {\n",
       "  float: right;\n",
       "  font-size: smaller;\n",
       "  line-height: 1em;\n",
       "  font-family: monospace;\n",
       "  background-color: var(--sklearn-color-background);\n",
       "  border-radius: 1em;\n",
       "  height: 1em;\n",
       "  width: 1em;\n",
       "  text-decoration: none !important;\n",
       "  margin-left: 1ex;\n",
       "  /* unfitted */\n",
       "  border: var(--sklearn-color-unfitted-level-1) 1pt solid;\n",
       "  color: var(--sklearn-color-unfitted-level-1);\n",
       "}\n",
       "\n",
       ".sk-estimator-doc-link.fitted,\n",
       "a:link.sk-estimator-doc-link.fitted,\n",
       "a:visited.sk-estimator-doc-link.fitted {\n",
       "  /* fitted */\n",
       "  border: var(--sklearn-color-fitted-level-1) 1pt solid;\n",
       "  color: var(--sklearn-color-fitted-level-1);\n",
       "}\n",
       "\n",
       "/* On hover */\n",
       "div.sk-estimator:hover .sk-estimator-doc-link:hover,\n",
       ".sk-estimator-doc-link:hover,\n",
       "div.sk-label-container:hover .sk-estimator-doc-link:hover,\n",
       ".sk-estimator-doc-link:hover {\n",
       "  /* unfitted */\n",
       "  background-color: var(--sklearn-color-unfitted-level-3);\n",
       "  color: var(--sklearn-color-background);\n",
       "  text-decoration: none;\n",
       "}\n",
       "\n",
       "div.sk-estimator.fitted:hover .sk-estimator-doc-link.fitted:hover,\n",
       ".sk-estimator-doc-link.fitted:hover,\n",
       "div.sk-label-container:hover .sk-estimator-doc-link.fitted:hover,\n",
       ".sk-estimator-doc-link.fitted:hover {\n",
       "  /* fitted */\n",
       "  background-color: var(--sklearn-color-fitted-level-3);\n",
       "  color: var(--sklearn-color-background);\n",
       "  text-decoration: none;\n",
       "}\n",
       "\n",
       "/* Span, style for the box shown on hovering the info icon */\n",
       ".sk-estimator-doc-link span {\n",
       "  display: none;\n",
       "  z-index: 9999;\n",
       "  position: relative;\n",
       "  font-weight: normal;\n",
       "  right: .2ex;\n",
       "  padding: .5ex;\n",
       "  margin: .5ex;\n",
       "  width: min-content;\n",
       "  min-width: 20ex;\n",
       "  max-width: 50ex;\n",
       "  color: var(--sklearn-color-text);\n",
       "  box-shadow: 2pt 2pt 4pt #999;\n",
       "  /* unfitted */\n",
       "  background: var(--sklearn-color-unfitted-level-0);\n",
       "  border: .5pt solid var(--sklearn-color-unfitted-level-3);\n",
       "}\n",
       "\n",
       ".sk-estimator-doc-link.fitted span {\n",
       "  /* fitted */\n",
       "  background: var(--sklearn-color-fitted-level-0);\n",
       "  border: var(--sklearn-color-fitted-level-3);\n",
       "}\n",
       "\n",
       ".sk-estimator-doc-link:hover span {\n",
       "  display: block;\n",
       "}\n",
       "\n",
       "/* \"?\"-specific style due to the `<a>` HTML tag */\n",
       "\n",
       "#sk-container-id-17 a.estimator_doc_link {\n",
       "  float: right;\n",
       "  font-size: 1rem;\n",
       "  line-height: 1em;\n",
       "  font-family: monospace;\n",
       "  background-color: var(--sklearn-color-background);\n",
       "  border-radius: 1rem;\n",
       "  height: 1rem;\n",
       "  width: 1rem;\n",
       "  text-decoration: none;\n",
       "  /* unfitted */\n",
       "  color: var(--sklearn-color-unfitted-level-1);\n",
       "  border: var(--sklearn-color-unfitted-level-1) 1pt solid;\n",
       "}\n",
       "\n",
       "#sk-container-id-17 a.estimator_doc_link.fitted {\n",
       "  /* fitted */\n",
       "  border: var(--sklearn-color-fitted-level-1) 1pt solid;\n",
       "  color: var(--sklearn-color-fitted-level-1);\n",
       "}\n",
       "\n",
       "/* On hover */\n",
       "#sk-container-id-17 a.estimator_doc_link:hover {\n",
       "  /* unfitted */\n",
       "  background-color: var(--sklearn-color-unfitted-level-3);\n",
       "  color: var(--sklearn-color-background);\n",
       "  text-decoration: none;\n",
       "}\n",
       "\n",
       "#sk-container-id-17 a.estimator_doc_link.fitted:hover {\n",
       "  /* fitted */\n",
       "  background-color: var(--sklearn-color-fitted-level-3);\n",
       "}\n",
       "</style><div id=\"sk-container-id-17\" class=\"sk-top-container\"><div class=\"sk-text-repr-fallback\"><pre>DecisionTreeClassifier(max_depth=6)</pre><b>In a Jupyter environment, please rerun this cell to show the HTML representation or trust the notebook. <br />On GitHub, the HTML representation is unable to render, please try loading this page with nbviewer.org.</b></div><div class=\"sk-container\" hidden><div class=\"sk-item\"><div class=\"sk-estimator fitted sk-toggleable\"><input class=\"sk-toggleable__control sk-hidden--visually\" id=\"sk-estimator-id-17\" type=\"checkbox\" checked><label for=\"sk-estimator-id-17\" class=\"sk-toggleable__label fitted sk-toggleable__label-arrow fitted\">&nbsp;&nbsp;DecisionTreeClassifier<a class=\"sk-estimator-doc-link fitted\" rel=\"noreferrer\" target=\"_blank\" href=\"https://scikit-learn.org/1.5/modules/generated/sklearn.tree.DecisionTreeClassifier.html\">?<span>Documentation for DecisionTreeClassifier</span></a><span class=\"sk-estimator-doc-link fitted\">i<span>Fitted</span></span></label><div class=\"sk-toggleable__content fitted\"><pre>DecisionTreeClassifier(max_depth=6)</pre></div> </div></div></div></div>"
      ]
     },
     "execution_count": 291,
     "metadata": {},
     "output_type": "execute_result"
    }
   ],
   "execution_count": 291
  },
  {
   "cell_type": "markdown",
   "metadata": {},
   "source": [
    "Visualisatie van de decision tree met GraphViz."
   ]
  },
  {
   "cell_type": "code",
   "metadata": {
    "tags": [
     "student"
    ],
    "ExecuteTime": {
     "end_time": "2024-10-01T15:51:14.069320Z",
     "start_time": "2024-10-01T15:51:14.042396Z"
    }
   },
   "source": [
    "data = export_graphviz(\n",
    "    model,\n",
    "    out_file=None,\n",
    "    feature_names=f_names,\n",
    "    class_names=t_names,\n",
    "    filled=True,\n",
    "    rounded=True,\n",
    "    special_characters=True\n",
    ")\n",
    "\n",
    "graph = graphviz.Source(data)\n",
    "graph"
   ],
   "outputs": [
    {
     "data": {
      "image/svg+xml": "<?xml version=\"1.0\" encoding=\"UTF-8\" standalone=\"no\"?>\n<!DOCTYPE svg PUBLIC \"-//W3C//DTD SVG 1.1//EN\"\n \"http://www.w3.org/Graphics/SVG/1.1/DTD/svg11.dtd\">\n<!-- Generated by graphviz version 2.50.0 (0)\n -->\n<!-- Title: Tree Pages: 1 -->\n<svg width=\"3174pt\" height=\"790pt\"\n viewBox=\"0.00 0.00 3173.50 790.00\" xmlns=\"http://www.w3.org/2000/svg\" xmlns:xlink=\"http://www.w3.org/1999/xlink\">\n<g id=\"graph0\" class=\"graph\" transform=\"scale(1 1) rotate(0) translate(4 786)\">\n<title>Tree</title>\n<polygon fill=\"white\" stroke=\"transparent\" points=\"-4,4 -4,-786 3169.5,-786 3169.5,4 -4,4\"/>\n<!-- 0 -->\n<g id=\"node1\" class=\"node\">\n<title>0</title>\n<path fill=\"#ddeefa\" stroke=\"black\" d=\"M2476,-782C2476,-782 2351,-782 2351,-782 2345,-782 2339,-776 2339,-770 2339,-770 2339,-711 2339,-711 2339,-705 2345,-699 2351,-699 2351,-699 2476,-699 2476,-699 2482,-699 2488,-705 2488,-711 2488,-711 2488,-770 2488,-770 2488,-776 2482,-782 2476,-782\"/>\n<text text-anchor=\"start\" x=\"2355.5\" y=\"-766.8\" font-family=\"Helvetica,sans-Serif\" font-size=\"14.00\">elevation ≤ 30.0</text>\n<text text-anchor=\"start\" x=\"2369.5\" y=\"-751.8\" font-family=\"Helvetica,sans-Serif\" font-size=\"14.00\">gini = 0.496</text>\n<text text-anchor=\"start\" x=\"2360.5\" y=\"-736.8\" font-family=\"Helvetica,sans-Serif\" font-size=\"14.00\">samples = 369</text>\n<text text-anchor=\"start\" x=\"2347\" y=\"-721.8\" font-family=\"Helvetica,sans-Serif\" font-size=\"14.00\">value = [167, 202]</text>\n<text text-anchor=\"start\" x=\"2353.5\" y=\"-706.8\" font-family=\"Helvetica,sans-Serif\" font-size=\"14.00\">class = New York</text>\n</g>\n<!-- 1 -->\n<g id=\"node2\" class=\"node\">\n<title>1</title>\n<path fill=\"#efb286\" stroke=\"black\" d=\"M2114,-663C2114,-663 1953,-663 1953,-663 1947,-663 1941,-657 1941,-651 1941,-651 1941,-592 1941,-592 1941,-586 1947,-580 1953,-580 1953,-580 2114,-580 2114,-580 2120,-580 2126,-586 2126,-592 2126,-592 2126,-651 2126,-651 2126,-657 2120,-663 2114,-663\"/>\n<text text-anchor=\"start\" x=\"1949\" y=\"-647.8\" font-family=\"Helvetica,sans-Serif\" font-size=\"14.00\">price_per_sqft ≤ 1072.5</text>\n<text text-anchor=\"start\" x=\"1989.5\" y=\"-632.8\" font-family=\"Helvetica,sans-Serif\" font-size=\"14.00\">gini = 0.402</text>\n<text text-anchor=\"start\" x=\"1980.5\" y=\"-617.8\" font-family=\"Helvetica,sans-Serif\" font-size=\"14.00\">samples = 226</text>\n<text text-anchor=\"start\" x=\"1971.5\" y=\"-602.8\" font-family=\"Helvetica,sans-Serif\" font-size=\"14.00\">value = [163, 63]</text>\n<text text-anchor=\"start\" x=\"1958\" y=\"-587.8\" font-family=\"Helvetica,sans-Serif\" font-size=\"14.00\">class = San Francisco</text>\n</g>\n<!-- 0&#45;&gt;1 -->\n<g id=\"edge1\" class=\"edge\">\n<title>0&#45;&gt;1</title>\n<path fill=\"none\" stroke=\"black\" d=\"M2338.88,-716.52C2280.9,-698.67 2199.86,-673.72 2135.83,-654.01\"/>\n<polygon fill=\"black\" stroke=\"black\" points=\"2136.69,-650.61 2126.11,-651.01 2134.63,-657.3 2136.69,-650.61\"/>\n<text text-anchor=\"middle\" x=\"2137.8\" y=\"-669.41\" font-family=\"Helvetica,sans-Serif\" font-size=\"14.00\">True</text>\n</g>\n<!-- 46 -->\n<g id=\"node47\" class=\"node\">\n<title>46</title>\n<path fill=\"#3fa0e6\" stroke=\"black\" d=\"M2615.5,-663C2615.5,-663 2499.5,-663 2499.5,-663 2493.5,-663 2487.5,-657 2487.5,-651 2487.5,-651 2487.5,-592 2487.5,-592 2487.5,-586 2493.5,-580 2499.5,-580 2499.5,-580 2615.5,-580 2615.5,-580 2621.5,-580 2627.5,-586 2627.5,-592 2627.5,-592 2627.5,-651 2627.5,-651 2627.5,-657 2621.5,-663 2615.5,-663\"/>\n<text text-anchor=\"start\" x=\"2495.5\" y=\"-647.8\" font-family=\"Helvetica,sans-Serif\" font-size=\"14.00\">price ≤ 572000.0</text>\n<text text-anchor=\"start\" x=\"2513.5\" y=\"-632.8\" font-family=\"Helvetica,sans-Serif\" font-size=\"14.00\">gini = 0.054</text>\n<text text-anchor=\"start\" x=\"2504.5\" y=\"-617.8\" font-family=\"Helvetica,sans-Serif\" font-size=\"14.00\">samples = 143</text>\n<text text-anchor=\"start\" x=\"2500\" y=\"-602.8\" font-family=\"Helvetica,sans-Serif\" font-size=\"14.00\">value = [4, 139]</text>\n<text text-anchor=\"start\" x=\"2497.5\" y=\"-587.8\" font-family=\"Helvetica,sans-Serif\" font-size=\"14.00\">class = New York</text>\n</g>\n<!-- 0&#45;&gt;46 -->\n<g id=\"edge46\" class=\"edge\">\n<title>0&#45;&gt;46</title>\n<path fill=\"none\" stroke=\"black\" d=\"M2463.46,-698.91C2475.19,-689.38 2487.78,-679.15 2499.81,-669.37\"/>\n<polygon fill=\"black\" stroke=\"black\" points=\"2502.07,-672.04 2507.63,-663.02 2497.66,-666.61 2502.07,-672.04\"/>\n<text text-anchor=\"middle\" x=\"2505.06\" y=\"-684.19\" font-family=\"Helvetica,sans-Serif\" font-size=\"14.00\">False</text>\n</g>\n<!-- 2 -->\n<g id=\"node3\" class=\"node\">\n<title>2</title>\n<path fill=\"#e0f0fb\" stroke=\"black\" d=\"M1153,-544C1153,-544 1022,-544 1022,-544 1016,-544 1010,-538 1010,-532 1010,-532 1010,-473 1010,-473 1010,-467 1016,-461 1022,-461 1022,-461 1153,-461 1153,-461 1159,-461 1165,-467 1165,-473 1165,-473 1165,-532 1165,-532 1165,-538 1159,-544 1153,-544\"/>\n<text text-anchor=\"start\" x=\"1018\" y=\"-528.8\" font-family=\"Helvetica,sans-Serif\" font-size=\"14.00\">year_built ≤ 1976.0</text>\n<text text-anchor=\"start\" x=\"1043.5\" y=\"-513.8\" font-family=\"Helvetica,sans-Serif\" font-size=\"14.00\">gini = 0.496</text>\n<text text-anchor=\"start\" x=\"1039\" y=\"-498.8\" font-family=\"Helvetica,sans-Serif\" font-size=\"14.00\">samples = 83</text>\n<text text-anchor=\"start\" x=\"1030\" y=\"-483.8\" font-family=\"Helvetica,sans-Serif\" font-size=\"14.00\">value = [38, 45]</text>\n<text text-anchor=\"start\" x=\"1027.5\" y=\"-468.8\" font-family=\"Helvetica,sans-Serif\" font-size=\"14.00\">class = New York</text>\n</g>\n<!-- 1&#45;&gt;2 -->\n<g id=\"edge2\" class=\"edge\">\n<title>1&#45;&gt;2</title>\n<path fill=\"none\" stroke=\"black\" d=\"M1940.64,-609.02C1757.86,-586.41 1353.71,-536.42 1175.19,-514.35\"/>\n<polygon fill=\"black\" stroke=\"black\" points=\"1175.41,-510.85 1165.06,-513.09 1174.55,-517.79 1175.41,-510.85\"/>\n</g>\n<!-- 23 -->\n<g id=\"node24\" class=\"node\">\n<title>23</title>\n<path fill=\"#e99356\" stroke=\"black\" d=\"M2105,-544C2105,-544 1962,-544 1962,-544 1956,-544 1950,-538 1950,-532 1950,-532 1950,-473 1950,-473 1950,-467 1956,-461 1962,-461 1962,-461 2105,-461 2105,-461 2111,-461 2117,-467 2117,-473 2117,-473 2117,-532 2117,-532 2117,-538 2111,-544 2105,-544\"/>\n<text text-anchor=\"start\" x=\"1980\" y=\"-528.8\" font-family=\"Helvetica,sans-Serif\" font-size=\"14.00\">elevation ≤ 4.5</text>\n<text text-anchor=\"start\" x=\"1994\" y=\"-513.8\" font-family=\"Helvetica,sans-Serif\" font-size=\"14.00\">gini = 0.22</text>\n<text text-anchor=\"start\" x=\"1980.5\" y=\"-498.8\" font-family=\"Helvetica,sans-Serif\" font-size=\"14.00\">samples = 143</text>\n<text text-anchor=\"start\" x=\"1971.5\" y=\"-483.8\" font-family=\"Helvetica,sans-Serif\" font-size=\"14.00\">value = [125, 18]</text>\n<text text-anchor=\"start\" x=\"1958\" y=\"-468.8\" font-family=\"Helvetica,sans-Serif\" font-size=\"14.00\">class = San Francisco</text>\n</g>\n<!-- 1&#45;&gt;23 -->\n<g id=\"edge23\" class=\"edge\">\n<title>1&#45;&gt;23</title>\n<path fill=\"none\" stroke=\"black\" d=\"M2033.5,-579.91C2033.5,-571.65 2033.5,-562.86 2033.5,-554.3\"/>\n<polygon fill=\"black\" stroke=\"black\" points=\"2037,-554.02 2033.5,-544.02 2030,-554.02 2037,-554.02\"/>\n</g>\n<!-- 3 -->\n<g id=\"node4\" class=\"node\">\n<title>3</title>\n<path fill=\"#f2c29f\" stroke=\"black\" d=\"M830,-425C830,-425 687,-425 687,-425 681,-425 675,-419 675,-413 675,-413 675,-354 675,-354 675,-348 681,-342 687,-342 687,-342 830,-342 830,-342 836,-342 842,-348 842,-354 842,-354 842,-413 842,-413 842,-419 836,-425 830,-425\"/>\n<text text-anchor=\"start\" x=\"710\" y=\"-409.8\" font-family=\"Helvetica,sans-Serif\" font-size=\"14.00\">sqft ≤ 1068.0</text>\n<text text-anchor=\"start\" x=\"714.5\" y=\"-394.8\" font-family=\"Helvetica,sans-Serif\" font-size=\"14.00\">gini = 0.449</text>\n<text text-anchor=\"start\" x=\"710\" y=\"-379.8\" font-family=\"Helvetica,sans-Serif\" font-size=\"14.00\">samples = 53</text>\n<text text-anchor=\"start\" x=\"701\" y=\"-364.8\" font-family=\"Helvetica,sans-Serif\" font-size=\"14.00\">value = [35, 18]</text>\n<text text-anchor=\"start\" x=\"683\" y=\"-349.8\" font-family=\"Helvetica,sans-Serif\" font-size=\"14.00\">class = San Francisco</text>\n</g>\n<!-- 2&#45;&gt;3 -->\n<g id=\"edge3\" class=\"edge\">\n<title>2&#45;&gt;3</title>\n<path fill=\"none\" stroke=\"black\" d=\"M1009.95,-473.92C962.56,-457.07 901.67,-435.42 851.68,-417.64\"/>\n<polygon fill=\"black\" stroke=\"black\" points=\"852.75,-414.3 842.16,-414.25 850.41,-420.9 852.75,-414.3\"/>\n</g>\n<!-- 16 -->\n<g id=\"node17\" class=\"node\">\n<title>16</title>\n<path fill=\"#4fa8e8\" stroke=\"black\" d=\"M1143.5,-425C1143.5,-425 1031.5,-425 1031.5,-425 1025.5,-425 1019.5,-419 1019.5,-413 1019.5,-413 1019.5,-354 1019.5,-354 1019.5,-348 1025.5,-342 1031.5,-342 1031.5,-342 1143.5,-342 1143.5,-342 1149.5,-342 1155.5,-348 1155.5,-354 1155.5,-354 1155.5,-413 1155.5,-413 1155.5,-419 1149.5,-425 1143.5,-425\"/>\n<text text-anchor=\"start\" x=\"1034\" y=\"-409.8\" font-family=\"Helvetica,sans-Serif\" font-size=\"14.00\">elevation ≤ 0.5</text>\n<text text-anchor=\"start\" x=\"1048\" y=\"-394.8\" font-family=\"Helvetica,sans-Serif\" font-size=\"14.00\">gini = 0.18</text>\n<text text-anchor=\"start\" x=\"1039\" y=\"-379.8\" font-family=\"Helvetica,sans-Serif\" font-size=\"14.00\">samples = 30</text>\n<text text-anchor=\"start\" x=\"1034.5\" y=\"-364.8\" font-family=\"Helvetica,sans-Serif\" font-size=\"14.00\">value = [3, 27]</text>\n<text text-anchor=\"start\" x=\"1027.5\" y=\"-349.8\" font-family=\"Helvetica,sans-Serif\" font-size=\"14.00\">class = New York</text>\n</g>\n<!-- 2&#45;&gt;16 -->\n<g id=\"edge16\" class=\"edge\">\n<title>2&#45;&gt;16</title>\n<path fill=\"none\" stroke=\"black\" d=\"M1087.5,-460.91C1087.5,-452.65 1087.5,-443.86 1087.5,-435.3\"/>\n<polygon fill=\"black\" stroke=\"black\" points=\"1091,-435.02 1087.5,-425.02 1084,-435.02 1091,-435.02\"/>\n</g>\n<!-- 4 -->\n<g id=\"node5\" class=\"node\">\n<title>4</title>\n<path fill=\"#e89152\" stroke=\"black\" d=\"M526,-306C526,-306 383,-306 383,-306 377,-306 371,-300 371,-294 371,-294 371,-235 371,-235 371,-229 377,-223 383,-223 383,-223 526,-223 526,-223 532,-223 538,-229 538,-235 538,-235 538,-294 538,-294 538,-300 532,-306 526,-306\"/>\n<text text-anchor=\"start\" x=\"396.5\" y=\"-290.8\" font-family=\"Helvetica,sans-Serif\" font-size=\"14.00\">elevation ≤ 26.0</text>\n<text text-anchor=\"start\" x=\"410.5\" y=\"-275.8\" font-family=\"Helvetica,sans-Serif\" font-size=\"14.00\">gini = 0.198</text>\n<text text-anchor=\"start\" x=\"406\" y=\"-260.8\" font-family=\"Helvetica,sans-Serif\" font-size=\"14.00\">samples = 27</text>\n<text text-anchor=\"start\" x=\"401.5\" y=\"-245.8\" font-family=\"Helvetica,sans-Serif\" font-size=\"14.00\">value = [24, 3]</text>\n<text text-anchor=\"start\" x=\"379\" y=\"-230.8\" font-family=\"Helvetica,sans-Serif\" font-size=\"14.00\">class = San Francisco</text>\n</g>\n<!-- 3&#45;&gt;4 -->\n<g id=\"edge4\" class=\"edge\">\n<title>3&#45;&gt;4</title>\n<path fill=\"none\" stroke=\"black\" d=\"M674.63,-350.22C635.17,-335.03 587.99,-316.88 547.45,-301.27\"/>\n<polygon fill=\"black\" stroke=\"black\" points=\"548.69,-298 538.1,-297.68 546.18,-304.53 548.69,-298\"/>\n</g>\n<!-- 9 -->\n<g id=\"node10\" class=\"node\">\n<title>9</title>\n<path fill=\"#cae5f8\" stroke=\"black\" d=\"M834.5,-306C834.5,-306 682.5,-306 682.5,-306 676.5,-306 670.5,-300 670.5,-294 670.5,-294 670.5,-235 670.5,-235 670.5,-229 676.5,-223 682.5,-223 682.5,-223 834.5,-223 834.5,-223 840.5,-223 846.5,-229 846.5,-235 846.5,-235 846.5,-294 846.5,-294 846.5,-300 840.5,-306 834.5,-306\"/>\n<text text-anchor=\"start\" x=\"678.5\" y=\"-290.8\" font-family=\"Helvetica,sans-Serif\" font-size=\"14.00\">price_per_sqft ≤ 830.5</text>\n<text text-anchor=\"start\" x=\"714.5\" y=\"-275.8\" font-family=\"Helvetica,sans-Serif\" font-size=\"14.00\">gini = 0.488</text>\n<text text-anchor=\"start\" x=\"710\" y=\"-260.8\" font-family=\"Helvetica,sans-Serif\" font-size=\"14.00\">samples = 26</text>\n<text text-anchor=\"start\" x=\"687.5\" y=\"-245.8\" font-family=\"Helvetica,sans-Serif\" font-size=\"14.00\">value = [11.0, 15.0]</text>\n<text text-anchor=\"start\" x=\"698.5\" y=\"-230.8\" font-family=\"Helvetica,sans-Serif\" font-size=\"14.00\">class = New York</text>\n</g>\n<!-- 3&#45;&gt;9 -->\n<g id=\"edge9\" class=\"edge\">\n<title>3&#45;&gt;9</title>\n<path fill=\"none\" stroke=\"black\" d=\"M758.5,-341.91C758.5,-333.65 758.5,-324.86 758.5,-316.3\"/>\n<polygon fill=\"black\" stroke=\"black\" points=\"762,-316.02 758.5,-306.02 755,-316.02 762,-316.02\"/>\n</g>\n<!-- 5 -->\n<g id=\"node6\" class=\"node\">\n<title>5</title>\n<path fill=\"#e78c49\" stroke=\"black\" d=\"M349,-187C349,-187 188,-187 188,-187 182,-187 176,-181 176,-175 176,-175 176,-116 176,-116 176,-110 182,-104 188,-104 188,-104 349,-104 349,-104 355,-104 361,-110 361,-116 361,-116 361,-175 361,-175 361,-181 355,-187 349,-187\"/>\n<text text-anchor=\"start\" x=\"184\" y=\"-171.8\" font-family=\"Helvetica,sans-Serif\" font-size=\"14.00\">price_per_sqft ≤ 1018.5</text>\n<text text-anchor=\"start\" x=\"224.5\" y=\"-156.8\" font-family=\"Helvetica,sans-Serif\" font-size=\"14.00\">gini = 0.142</text>\n<text text-anchor=\"start\" x=\"220\" y=\"-141.8\" font-family=\"Helvetica,sans-Serif\" font-size=\"14.00\">samples = 26</text>\n<text text-anchor=\"start\" x=\"215.5\" y=\"-126.8\" font-family=\"Helvetica,sans-Serif\" font-size=\"14.00\">value = [24, 2]</text>\n<text text-anchor=\"start\" x=\"193\" y=\"-111.8\" font-family=\"Helvetica,sans-Serif\" font-size=\"14.00\">class = San Francisco</text>\n</g>\n<!-- 4&#45;&gt;5 -->\n<g id=\"edge5\" class=\"edge\">\n<title>4&#45;&gt;5</title>\n<path fill=\"none\" stroke=\"black\" d=\"M389.97,-222.91C374.39,-213.11 357.63,-202.56 341.68,-192.53\"/>\n<polygon fill=\"black\" stroke=\"black\" points=\"343.25,-189.38 332.92,-187.02 339.52,-195.31 343.25,-189.38\"/>\n</g>\n<!-- 8 -->\n<g id=\"node9\" class=\"node\">\n<title>8</title>\n<path fill=\"#399de5\" stroke=\"black\" d=\"M510.5,-179.5C510.5,-179.5 398.5,-179.5 398.5,-179.5 392.5,-179.5 386.5,-173.5 386.5,-167.5 386.5,-167.5 386.5,-123.5 386.5,-123.5 386.5,-117.5 392.5,-111.5 398.5,-111.5 398.5,-111.5 510.5,-111.5 510.5,-111.5 516.5,-111.5 522.5,-117.5 522.5,-123.5 522.5,-123.5 522.5,-167.5 522.5,-167.5 522.5,-173.5 516.5,-179.5 510.5,-179.5\"/>\n<text text-anchor=\"start\" x=\"419.5\" y=\"-164.3\" font-family=\"Helvetica,sans-Serif\" font-size=\"14.00\">gini = 0.0</text>\n<text text-anchor=\"start\" x=\"410.5\" y=\"-149.3\" font-family=\"Helvetica,sans-Serif\" font-size=\"14.00\">samples = 1</text>\n<text text-anchor=\"start\" x=\"406\" y=\"-134.3\" font-family=\"Helvetica,sans-Serif\" font-size=\"14.00\">value = [0, 1]</text>\n<text text-anchor=\"start\" x=\"394.5\" y=\"-119.3\" font-family=\"Helvetica,sans-Serif\" font-size=\"14.00\">class = New York</text>\n</g>\n<!-- 4&#45;&gt;8 -->\n<g id=\"edge8\" class=\"edge\">\n<title>4&#45;&gt;8</title>\n<path fill=\"none\" stroke=\"black\" d=\"M454.5,-222.91C454.5,-212.2 454.5,-200.62 454.5,-189.78\"/>\n<polygon fill=\"black\" stroke=\"black\" points=\"458,-189.67 454.5,-179.67 451,-189.67 458,-189.67\"/>\n</g>\n<!-- 6 -->\n<g id=\"node7\" class=\"node\">\n<title>6</title>\n<path fill=\"#e68642\" stroke=\"black\" d=\"M155,-68C155,-68 12,-68 12,-68 6,-68 0,-62 0,-56 0,-56 0,-12 0,-12 0,-6 6,0 12,0 12,0 155,0 155,0 161,0 167,-6 167,-12 167,-12 167,-56 167,-56 167,-62 161,-68 155,-68\"/>\n<text text-anchor=\"start\" x=\"44\" y=\"-52.8\" font-family=\"Helvetica,sans-Serif\" font-size=\"14.00\">gini = 0.08</text>\n<text text-anchor=\"start\" x=\"35\" y=\"-37.8\" font-family=\"Helvetica,sans-Serif\" font-size=\"14.00\">samples = 24</text>\n<text text-anchor=\"start\" x=\"30.5\" y=\"-22.8\" font-family=\"Helvetica,sans-Serif\" font-size=\"14.00\">value = [23, 1]</text>\n<text text-anchor=\"start\" x=\"8\" y=\"-7.8\" font-family=\"Helvetica,sans-Serif\" font-size=\"14.00\">class = San Francisco</text>\n</g>\n<!-- 5&#45;&gt;6 -->\n<g id=\"edge6\" class=\"edge\">\n<title>5&#45;&gt;6</title>\n<path fill=\"none\" stroke=\"black\" d=\"M199.88,-103.88C182.89,-93.83 164.75,-83.09 147.97,-73.16\"/>\n<polygon fill=\"black\" stroke=\"black\" points=\"149.71,-70.12 139.33,-68.04 146.15,-76.15 149.71,-70.12\"/>\n</g>\n<!-- 7 -->\n<g id=\"node8\" class=\"node\">\n<title>7</title>\n<path fill=\"#ffffff\" stroke=\"black\" d=\"M340,-68C340,-68 197,-68 197,-68 191,-68 185,-62 185,-56 185,-56 185,-12 185,-12 185,-6 191,0 197,0 197,0 340,0 340,0 346,0 352,-6 352,-12 352,-12 352,-56 352,-56 352,-62 346,-68 340,-68\"/>\n<text text-anchor=\"start\" x=\"233.5\" y=\"-52.8\" font-family=\"Helvetica,sans-Serif\" font-size=\"14.00\">gini = 0.5</text>\n<text text-anchor=\"start\" x=\"224.5\" y=\"-37.8\" font-family=\"Helvetica,sans-Serif\" font-size=\"14.00\">samples = 2</text>\n<text text-anchor=\"start\" x=\"220\" y=\"-22.8\" font-family=\"Helvetica,sans-Serif\" font-size=\"14.00\">value = [1, 1]</text>\n<text text-anchor=\"start\" x=\"193\" y=\"-7.8\" font-family=\"Helvetica,sans-Serif\" font-size=\"14.00\">class = San Francisco</text>\n</g>\n<!-- 5&#45;&gt;7 -->\n<g id=\"edge7\" class=\"edge\">\n<title>5&#45;&gt;7</title>\n<path fill=\"none\" stroke=\"black\" d=\"M268.5,-103.73C268.5,-95.52 268.5,-86.86 268.5,-78.56\"/>\n<polygon fill=\"black\" stroke=\"black\" points=\"272,-78.3 268.5,-68.3 265,-78.3 272,-78.3\"/>\n</g>\n<!-- 10 -->\n<g id=\"node11\" class=\"node\">\n<title>10</title>\n<path fill=\"#67b4eb\" stroke=\"black\" d=\"M675.5,-187C675.5,-187 563.5,-187 563.5,-187 557.5,-187 551.5,-181 551.5,-175 551.5,-175 551.5,-116 551.5,-116 551.5,-110 557.5,-104 563.5,-104 563.5,-104 675.5,-104 675.5,-104 681.5,-104 687.5,-110 687.5,-116 687.5,-116 687.5,-175 687.5,-175 687.5,-181 681.5,-187 675.5,-187\"/>\n<text text-anchor=\"start\" x=\"561.5\" y=\"-171.8\" font-family=\"Helvetica,sans-Serif\" font-size=\"14.00\">elevation ≤ 10.5</text>\n<text text-anchor=\"start\" x=\"575.5\" y=\"-156.8\" font-family=\"Helvetica,sans-Serif\" font-size=\"14.00\">gini = 0.305</text>\n<text text-anchor=\"start\" x=\"571\" y=\"-141.8\" font-family=\"Helvetica,sans-Serif\" font-size=\"14.00\">samples = 16</text>\n<text text-anchor=\"start\" x=\"566.5\" y=\"-126.8\" font-family=\"Helvetica,sans-Serif\" font-size=\"14.00\">value = [3, 13]</text>\n<text text-anchor=\"start\" x=\"559.5\" y=\"-111.8\" font-family=\"Helvetica,sans-Serif\" font-size=\"14.00\">class = New York</text>\n</g>\n<!-- 9&#45;&gt;10 -->\n<g id=\"edge10\" class=\"edge\">\n<title>9&#45;&gt;10</title>\n<path fill=\"none\" stroke=\"black\" d=\"M710.27,-222.91C699.06,-213.47 687.03,-203.34 675.51,-193.65\"/>\n<polygon fill=\"black\" stroke=\"black\" points=\"677.54,-190.78 667.64,-187.02 673.04,-196.14 677.54,-190.78\"/>\n</g>\n<!-- 13 -->\n<g id=\"node14\" class=\"node\">\n<title>13</title>\n<path fill=\"#eca06a\" stroke=\"black\" d=\"M879,-187C879,-187 718,-187 718,-187 712,-187 706,-181 706,-175 706,-175 706,-116 706,-116 706,-110 712,-104 718,-104 718,-104 879,-104 879,-104 885,-104 891,-110 891,-116 891,-116 891,-175 891,-175 891,-181 885,-187 879,-187\"/>\n<text text-anchor=\"start\" x=\"714\" y=\"-171.8\" font-family=\"Helvetica,sans-Serif\" font-size=\"14.00\">price_per_sqft ≤ 1003.0</text>\n<text text-anchor=\"start\" x=\"759\" y=\"-156.8\" font-family=\"Helvetica,sans-Serif\" font-size=\"14.00\">gini = 0.32</text>\n<text text-anchor=\"start\" x=\"750\" y=\"-141.8\" font-family=\"Helvetica,sans-Serif\" font-size=\"14.00\">samples = 10</text>\n<text text-anchor=\"start\" x=\"750\" y=\"-126.8\" font-family=\"Helvetica,sans-Serif\" font-size=\"14.00\">value = [8, 2]</text>\n<text text-anchor=\"start\" x=\"723\" y=\"-111.8\" font-family=\"Helvetica,sans-Serif\" font-size=\"14.00\">class = San Francisco</text>\n</g>\n<!-- 9&#45;&gt;13 -->\n<g id=\"edge13\" class=\"edge\">\n<title>9&#45;&gt;13</title>\n<path fill=\"none\" stroke=\"black\" d=\"M772.38,-222.91C775.26,-214.47 778.34,-205.48 781.32,-196.74\"/>\n<polygon fill=\"black\" stroke=\"black\" points=\"784.72,-197.62 784.65,-187.02 778.1,-195.35 784.72,-197.62\"/>\n</g>\n<!-- 11 -->\n<g id=\"node12\" class=\"node\">\n<title>11</title>\n<path fill=\"#ffffff\" stroke=\"black\" d=\"M525,-68C525,-68 382,-68 382,-68 376,-68 370,-62 370,-56 370,-56 370,-12 370,-12 370,-6 376,0 382,0 382,0 525,0 525,0 531,0 537,-6 537,-12 537,-12 537,-56 537,-56 537,-62 531,-68 525,-68\"/>\n<text text-anchor=\"start\" x=\"418.5\" y=\"-52.8\" font-family=\"Helvetica,sans-Serif\" font-size=\"14.00\">gini = 0.5</text>\n<text text-anchor=\"start\" x=\"409.5\" y=\"-37.8\" font-family=\"Helvetica,sans-Serif\" font-size=\"14.00\">samples = 6</text>\n<text text-anchor=\"start\" x=\"405\" y=\"-22.8\" font-family=\"Helvetica,sans-Serif\" font-size=\"14.00\">value = [3, 3]</text>\n<text text-anchor=\"start\" x=\"378\" y=\"-7.8\" font-family=\"Helvetica,sans-Serif\" font-size=\"14.00\">class = San Francisco</text>\n</g>\n<!-- 10&#45;&gt;11 -->\n<g id=\"edge11\" class=\"edge\">\n<title>10&#45;&gt;11</title>\n<path fill=\"none\" stroke=\"black\" d=\"M557.69,-103.73C542.82,-93.92 526.97,-83.46 512.24,-73.75\"/>\n<polygon fill=\"black\" stroke=\"black\" points=\"513.99,-70.71 503.72,-68.13 510.14,-76.55 513.99,-70.71\"/>\n</g>\n<!-- 12 -->\n<g id=\"node13\" class=\"node\">\n<title>12</title>\n<path fill=\"#399de5\" stroke=\"black\" d=\"M679.5,-68C679.5,-68 567.5,-68 567.5,-68 561.5,-68 555.5,-62 555.5,-56 555.5,-56 555.5,-12 555.5,-12 555.5,-6 561.5,0 567.5,0 567.5,0 679.5,0 679.5,0 685.5,0 691.5,-6 691.5,-12 691.5,-12 691.5,-56 691.5,-56 691.5,-62 685.5,-68 679.5,-68\"/>\n<text text-anchor=\"start\" x=\"588.5\" y=\"-52.8\" font-family=\"Helvetica,sans-Serif\" font-size=\"14.00\">gini = 0.0</text>\n<text text-anchor=\"start\" x=\"575\" y=\"-37.8\" font-family=\"Helvetica,sans-Serif\" font-size=\"14.00\">samples = 10</text>\n<text text-anchor=\"start\" x=\"570.5\" y=\"-22.8\" font-family=\"Helvetica,sans-Serif\" font-size=\"14.00\">value = [0, 10]</text>\n<text text-anchor=\"start\" x=\"563.5\" y=\"-7.8\" font-family=\"Helvetica,sans-Serif\" font-size=\"14.00\">class = New York</text>\n</g>\n<!-- 10&#45;&gt;12 -->\n<g id=\"edge12\" class=\"edge\">\n<title>10&#45;&gt;12</title>\n<path fill=\"none\" stroke=\"black\" d=\"M620.99,-103.73C621.29,-95.52 621.61,-86.86 621.91,-78.56\"/>\n<polygon fill=\"black\" stroke=\"black\" points=\"625.42,-78.42 622.28,-68.3 618.42,-78.17 625.42,-78.42\"/>\n</g>\n<!-- 14 -->\n<g id=\"node15\" class=\"node\">\n<title>14</title>\n<path fill=\"#e58139\" stroke=\"black\" d=\"M865,-68C865,-68 722,-68 722,-68 716,-68 710,-62 710,-56 710,-56 710,-12 710,-12 710,-6 716,0 722,0 722,0 865,0 865,0 871,0 877,-6 877,-12 877,-12 877,-56 877,-56 877,-62 871,-68 865,-68\"/>\n<text text-anchor=\"start\" x=\"758.5\" y=\"-52.8\" font-family=\"Helvetica,sans-Serif\" font-size=\"14.00\">gini = 0.0</text>\n<text text-anchor=\"start\" x=\"749.5\" y=\"-37.8\" font-family=\"Helvetica,sans-Serif\" font-size=\"14.00\">samples = 7</text>\n<text text-anchor=\"start\" x=\"745\" y=\"-22.8\" font-family=\"Helvetica,sans-Serif\" font-size=\"14.00\">value = [7, 0]</text>\n<text text-anchor=\"start\" x=\"718\" y=\"-7.8\" font-family=\"Helvetica,sans-Serif\" font-size=\"14.00\">class = San Francisco</text>\n</g>\n<!-- 13&#45;&gt;14 -->\n<g id=\"edge14\" class=\"edge\">\n<title>13&#45;&gt;14</title>\n<path fill=\"none\" stroke=\"black\" d=\"M796.64,-103.73C796.26,-95.52 795.87,-86.86 795.49,-78.56\"/>\n<polygon fill=\"black\" stroke=\"black\" points=\"798.97,-78.13 795.02,-68.3 791.98,-78.45 798.97,-78.13\"/>\n</g>\n<!-- 15 -->\n<g id=\"node16\" class=\"node\">\n<title>15</title>\n<path fill=\"#9ccef2\" stroke=\"black\" d=\"M1019.5,-68C1019.5,-68 907.5,-68 907.5,-68 901.5,-68 895.5,-62 895.5,-56 895.5,-56 895.5,-12 895.5,-12 895.5,-6 901.5,0 907.5,0 907.5,0 1019.5,0 1019.5,0 1025.5,0 1031.5,-6 1031.5,-12 1031.5,-12 1031.5,-56 1031.5,-56 1031.5,-62 1025.5,-68 1019.5,-68\"/>\n<text text-anchor=\"start\" x=\"919.5\" y=\"-52.8\" font-family=\"Helvetica,sans-Serif\" font-size=\"14.00\">gini = 0.444</text>\n<text text-anchor=\"start\" x=\"919.5\" y=\"-37.8\" font-family=\"Helvetica,sans-Serif\" font-size=\"14.00\">samples = 3</text>\n<text text-anchor=\"start\" x=\"915\" y=\"-22.8\" font-family=\"Helvetica,sans-Serif\" font-size=\"14.00\">value = [1, 2]</text>\n<text text-anchor=\"start\" x=\"903.5\" y=\"-7.8\" font-family=\"Helvetica,sans-Serif\" font-size=\"14.00\">class = New York</text>\n</g>\n<!-- 13&#45;&gt;15 -->\n<g id=\"edge15\" class=\"edge\">\n<title>13&#45;&gt;15</title>\n<path fill=\"none\" stroke=\"black\" d=\"M859.94,-103.73C874.72,-93.92 890.47,-83.46 905.11,-73.75\"/>\n<polygon fill=\"black\" stroke=\"black\" points=\"907.19,-76.57 913.59,-68.13 903.32,-70.74 907.19,-76.57\"/>\n</g>\n<!-- 17 -->\n<g id=\"node18\" class=\"node\">\n<title>17</title>\n<path fill=\"#e58139\" stroke=\"black\" d=\"M1074,-298.5C1074,-298.5 931,-298.5 931,-298.5 925,-298.5 919,-292.5 919,-286.5 919,-286.5 919,-242.5 919,-242.5 919,-236.5 925,-230.5 931,-230.5 931,-230.5 1074,-230.5 1074,-230.5 1080,-230.5 1086,-236.5 1086,-242.5 1086,-242.5 1086,-286.5 1086,-286.5 1086,-292.5 1080,-298.5 1074,-298.5\"/>\n<text text-anchor=\"start\" x=\"967.5\" y=\"-283.3\" font-family=\"Helvetica,sans-Serif\" font-size=\"14.00\">gini = 0.0</text>\n<text text-anchor=\"start\" x=\"958.5\" y=\"-268.3\" font-family=\"Helvetica,sans-Serif\" font-size=\"14.00\">samples = 1</text>\n<text text-anchor=\"start\" x=\"954\" y=\"-253.3\" font-family=\"Helvetica,sans-Serif\" font-size=\"14.00\">value = [1, 0]</text>\n<text text-anchor=\"start\" x=\"927\" y=\"-238.3\" font-family=\"Helvetica,sans-Serif\" font-size=\"14.00\">class = San Francisco</text>\n</g>\n<!-- 16&#45;&gt;17 -->\n<g id=\"edge17\" class=\"edge\">\n<title>16&#45;&gt;17</title>\n<path fill=\"none\" stroke=\"black\" d=\"M1058.01,-341.91C1049.75,-330.54 1040.77,-318.18 1032.49,-306.77\"/>\n<polygon fill=\"black\" stroke=\"black\" points=\"1035.3,-304.7 1026.6,-298.67 1029.64,-308.81 1035.3,-304.7\"/>\n</g>\n<!-- 18 -->\n<g id=\"node19\" class=\"node\">\n<title>18</title>\n<path fill=\"#48a4e7\" stroke=\"black\" d=\"M1228.5,-306C1228.5,-306 1116.5,-306 1116.5,-306 1110.5,-306 1104.5,-300 1104.5,-294 1104.5,-294 1104.5,-235 1104.5,-235 1104.5,-229 1110.5,-223 1116.5,-223 1116.5,-223 1228.5,-223 1228.5,-223 1234.5,-223 1240.5,-229 1240.5,-235 1240.5,-235 1240.5,-294 1240.5,-294 1240.5,-300 1234.5,-306 1228.5,-306\"/>\n<text text-anchor=\"start\" x=\"1128.5\" y=\"-290.8\" font-family=\"Helvetica,sans-Serif\" font-size=\"14.00\">sqft ≤ 827.5</text>\n<text text-anchor=\"start\" x=\"1128.5\" y=\"-275.8\" font-family=\"Helvetica,sans-Serif\" font-size=\"14.00\">gini = 0.128</text>\n<text text-anchor=\"start\" x=\"1124\" y=\"-260.8\" font-family=\"Helvetica,sans-Serif\" font-size=\"14.00\">samples = 29</text>\n<text text-anchor=\"start\" x=\"1119.5\" y=\"-245.8\" font-family=\"Helvetica,sans-Serif\" font-size=\"14.00\">value = [2, 27]</text>\n<text text-anchor=\"start\" x=\"1112.5\" y=\"-230.8\" font-family=\"Helvetica,sans-Serif\" font-size=\"14.00\">class = New York</text>\n</g>\n<!-- 16&#45;&gt;18 -->\n<g id=\"edge18\" class=\"edge\">\n<title>16&#45;&gt;18</title>\n<path fill=\"none\" stroke=\"black\" d=\"M1116.99,-341.91C1123.45,-333.01 1130.36,-323.51 1137.02,-314.33\"/>\n<polygon fill=\"black\" stroke=\"black\" points=\"1140.02,-316.17 1143.06,-306.02 1134.35,-312.05 1140.02,-316.17\"/>\n</g>\n<!-- 19 -->\n<g id=\"node20\" class=\"node\">\n<title>19</title>\n<path fill=\"#6ab6ec\" stroke=\"black\" d=\"M1188.5,-187C1188.5,-187 1076.5,-187 1076.5,-187 1070.5,-187 1064.5,-181 1064.5,-175 1064.5,-175 1064.5,-116 1064.5,-116 1064.5,-110 1070.5,-104 1076.5,-104 1076.5,-104 1188.5,-104 1188.5,-104 1194.5,-104 1200.5,-110 1200.5,-116 1200.5,-116 1200.5,-175 1200.5,-175 1200.5,-181 1194.5,-187 1188.5,-187\"/>\n<text text-anchor=\"start\" x=\"1088.5\" y=\"-171.8\" font-family=\"Helvetica,sans-Serif\" font-size=\"14.00\">sqft ≤ 814.0</text>\n<text text-anchor=\"start\" x=\"1093\" y=\"-156.8\" font-family=\"Helvetica,sans-Serif\" font-size=\"14.00\">gini = 0.32</text>\n<text text-anchor=\"start\" x=\"1084\" y=\"-141.8\" font-family=\"Helvetica,sans-Serif\" font-size=\"14.00\">samples = 10</text>\n<text text-anchor=\"start\" x=\"1084\" y=\"-126.8\" font-family=\"Helvetica,sans-Serif\" font-size=\"14.00\">value = [2, 8]</text>\n<text text-anchor=\"start\" x=\"1072.5\" y=\"-111.8\" font-family=\"Helvetica,sans-Serif\" font-size=\"14.00\">class = New York</text>\n</g>\n<!-- 18&#45;&gt;19 -->\n<g id=\"edge19\" class=\"edge\">\n<title>18&#45;&gt;19</title>\n<path fill=\"none\" stroke=\"black\" d=\"M1158.62,-222.91C1155.74,-214.47 1152.66,-205.48 1149.68,-196.74\"/>\n<polygon fill=\"black\" stroke=\"black\" points=\"1152.9,-195.35 1146.35,-187.02 1146.28,-197.62 1152.9,-195.35\"/>\n</g>\n<!-- 22 -->\n<g id=\"node23\" class=\"node\">\n<title>22</title>\n<path fill=\"#399de5\" stroke=\"black\" d=\"M1342.5,-179.5C1342.5,-179.5 1230.5,-179.5 1230.5,-179.5 1224.5,-179.5 1218.5,-173.5 1218.5,-167.5 1218.5,-167.5 1218.5,-123.5 1218.5,-123.5 1218.5,-117.5 1224.5,-111.5 1230.5,-111.5 1230.5,-111.5 1342.5,-111.5 1342.5,-111.5 1348.5,-111.5 1354.5,-117.5 1354.5,-123.5 1354.5,-123.5 1354.5,-167.5 1354.5,-167.5 1354.5,-173.5 1348.5,-179.5 1342.5,-179.5\"/>\n<text text-anchor=\"start\" x=\"1251.5\" y=\"-164.3\" font-family=\"Helvetica,sans-Serif\" font-size=\"14.00\">gini = 0.0</text>\n<text text-anchor=\"start\" x=\"1238\" y=\"-149.3\" font-family=\"Helvetica,sans-Serif\" font-size=\"14.00\">samples = 19</text>\n<text text-anchor=\"start\" x=\"1233.5\" y=\"-134.3\" font-family=\"Helvetica,sans-Serif\" font-size=\"14.00\">value = [0, 19]</text>\n<text text-anchor=\"start\" x=\"1226.5\" y=\"-119.3\" font-family=\"Helvetica,sans-Serif\" font-size=\"14.00\">class = New York</text>\n</g>\n<!-- 18&#45;&gt;22 -->\n<g id=\"edge22\" class=\"edge\">\n<title>18&#45;&gt;22</title>\n<path fill=\"none\" stroke=\"black\" d=\"M1212.05,-222.91C1223.34,-211.32 1235.64,-198.7 1246.93,-187.11\"/>\n<polygon fill=\"black\" stroke=\"black\" points=\"1249.71,-189.27 1254.18,-179.67 1244.7,-184.39 1249.71,-189.27\"/>\n</g>\n<!-- 20 -->\n<g id=\"node21\" class=\"node\">\n<title>20</title>\n<path fill=\"#52a9e8\" stroke=\"black\" d=\"M1173.5,-68C1173.5,-68 1061.5,-68 1061.5,-68 1055.5,-68 1049.5,-62 1049.5,-56 1049.5,-56 1049.5,-12 1049.5,-12 1049.5,-6 1055.5,0 1061.5,0 1061.5,0 1173.5,0 1173.5,0 1179.5,0 1185.5,-6 1185.5,-12 1185.5,-12 1185.5,-56 1185.5,-56 1185.5,-62 1179.5,-68 1173.5,-68\"/>\n<text text-anchor=\"start\" x=\"1073.5\" y=\"-52.8\" font-family=\"Helvetica,sans-Serif\" font-size=\"14.00\">gini = 0.198</text>\n<text text-anchor=\"start\" x=\"1073.5\" y=\"-37.8\" font-family=\"Helvetica,sans-Serif\" font-size=\"14.00\">samples = 9</text>\n<text text-anchor=\"start\" x=\"1069\" y=\"-22.8\" font-family=\"Helvetica,sans-Serif\" font-size=\"14.00\">value = [1, 8]</text>\n<text text-anchor=\"start\" x=\"1057.5\" y=\"-7.8\" font-family=\"Helvetica,sans-Serif\" font-size=\"14.00\">class = New York</text>\n</g>\n<!-- 19&#45;&gt;20 -->\n<g id=\"edge20\" class=\"edge\">\n<title>19&#45;&gt;20</title>\n<path fill=\"none\" stroke=\"black\" d=\"M1126.91,-103.73C1125.78,-95.43 1124.58,-86.67 1123.43,-78.28\"/>\n<polygon fill=\"black\" stroke=\"black\" points=\"1126.89,-77.73 1122.06,-68.3 1119.95,-78.68 1126.89,-77.73\"/>\n</g>\n<!-- 21 -->\n<g id=\"node22\" class=\"node\">\n<title>21</title>\n<path fill=\"#e58139\" stroke=\"black\" d=\"M1359,-68C1359,-68 1216,-68 1216,-68 1210,-68 1204,-62 1204,-56 1204,-56 1204,-12 1204,-12 1204,-6 1210,0 1216,0 1216,0 1359,0 1359,0 1365,0 1371,-6 1371,-12 1371,-12 1371,-56 1371,-56 1371,-62 1365,-68 1359,-68\"/>\n<text text-anchor=\"start\" x=\"1252.5\" y=\"-52.8\" font-family=\"Helvetica,sans-Serif\" font-size=\"14.00\">gini = 0.0</text>\n<text text-anchor=\"start\" x=\"1243.5\" y=\"-37.8\" font-family=\"Helvetica,sans-Serif\" font-size=\"14.00\">samples = 1</text>\n<text text-anchor=\"start\" x=\"1239\" y=\"-22.8\" font-family=\"Helvetica,sans-Serif\" font-size=\"14.00\">value = [1, 0]</text>\n<text text-anchor=\"start\" x=\"1212\" y=\"-7.8\" font-family=\"Helvetica,sans-Serif\" font-size=\"14.00\">class = San Francisco</text>\n</g>\n<!-- 19&#45;&gt;21 -->\n<g id=\"edge21\" class=\"edge\">\n<title>19&#45;&gt;21</title>\n<path fill=\"none\" stroke=\"black\" d=\"M1190.22,-103.73C1203.9,-94.06 1218.47,-83.77 1232.05,-74.17\"/>\n<polygon fill=\"black\" stroke=\"black\" points=\"1234.22,-76.93 1240.36,-68.3 1230.18,-71.21 1234.22,-76.93\"/>\n</g>\n<!-- 24 -->\n<g id=\"node25\" class=\"node\">\n<title>24</title>\n<path fill=\"#fae6d7\" stroke=\"black\" d=\"M1961,-425C1961,-425 1818,-425 1818,-425 1812,-425 1806,-419 1806,-413 1806,-413 1806,-354 1806,-354 1806,-348 1812,-342 1818,-342 1818,-342 1961,-342 1961,-342 1967,-342 1973,-348 1973,-354 1973,-354 1973,-413 1973,-413 1973,-419 1967,-425 1961,-425\"/>\n<text text-anchor=\"start\" x=\"1820\" y=\"-409.8\" font-family=\"Helvetica,sans-Serif\" font-size=\"14.00\">year_built ≤ 2005.5</text>\n<text text-anchor=\"start\" x=\"1845.5\" y=\"-394.8\" font-family=\"Helvetica,sans-Serif\" font-size=\"14.00\">gini = 0.494</text>\n<text text-anchor=\"start\" x=\"1841\" y=\"-379.8\" font-family=\"Helvetica,sans-Serif\" font-size=\"14.00\">samples = 18</text>\n<text text-anchor=\"start\" x=\"1836.5\" y=\"-364.8\" font-family=\"Helvetica,sans-Serif\" font-size=\"14.00\">value = [10, 8]</text>\n<text text-anchor=\"start\" x=\"1814\" y=\"-349.8\" font-family=\"Helvetica,sans-Serif\" font-size=\"14.00\">class = San Francisco</text>\n</g>\n<!-- 23&#45;&gt;24 -->\n<g id=\"edge24\" class=\"edge\">\n<title>23&#45;&gt;24</title>\n<path fill=\"none\" stroke=\"black\" d=\"M1983.54,-460.91C1971.81,-451.38 1959.22,-441.15 1947.19,-431.37\"/>\n<polygon fill=\"black\" stroke=\"black\" points=\"1949.34,-428.61 1939.37,-425.02 1944.93,-434.04 1949.34,-428.61\"/>\n</g>\n<!-- 33 -->\n<g id=\"node34\" class=\"node\">\n<title>33</title>\n<path fill=\"#e78c4a\" stroke=\"black\" d=\"M2343,-425C2343,-425 2182,-425 2182,-425 2176,-425 2170,-419 2170,-413 2170,-413 2170,-354 2170,-354 2170,-348 2176,-342 2182,-342 2182,-342 2343,-342 2343,-342 2349,-342 2355,-348 2355,-354 2355,-354 2355,-413 2355,-413 2355,-419 2349,-425 2343,-425\"/>\n<text text-anchor=\"start\" x=\"2178\" y=\"-409.8\" font-family=\"Helvetica,sans-Serif\" font-size=\"14.00\">price_per_sqft ≤ 1379.5</text>\n<text text-anchor=\"start\" x=\"2218.5\" y=\"-394.8\" font-family=\"Helvetica,sans-Serif\" font-size=\"14.00\">gini = 0.147</text>\n<text text-anchor=\"start\" x=\"2209.5\" y=\"-379.8\" font-family=\"Helvetica,sans-Serif\" font-size=\"14.00\">samples = 125</text>\n<text text-anchor=\"start\" x=\"2200.5\" y=\"-364.8\" font-family=\"Helvetica,sans-Serif\" font-size=\"14.00\">value = [115, 10]</text>\n<text text-anchor=\"start\" x=\"2187\" y=\"-349.8\" font-family=\"Helvetica,sans-Serif\" font-size=\"14.00\">class = San Francisco</text>\n</g>\n<!-- 23&#45;&gt;33 -->\n<g id=\"edge33\" class=\"edge\">\n<title>23&#45;&gt;33</title>\n<path fill=\"none\" stroke=\"black\" d=\"M2112.95,-460.91C2132.67,-450.83 2153.92,-439.98 2174.04,-429.7\"/>\n<polygon fill=\"black\" stroke=\"black\" points=\"2175.88,-432.69 2183.19,-425.02 2172.69,-426.45 2175.88,-432.69\"/>\n</g>\n<!-- 25 -->\n<g id=\"node26\" class=\"node\">\n<title>25</title>\n<path fill=\"#eca06a\" stroke=\"black\" d=\"M1714,-306C1714,-306 1571,-306 1571,-306 1565,-306 1559,-300 1559,-294 1559,-294 1559,-235 1559,-235 1559,-229 1565,-223 1571,-223 1571,-223 1714,-223 1714,-223 1720,-223 1726,-229 1726,-235 1726,-235 1726,-294 1726,-294 1726,-300 1720,-306 1714,-306\"/>\n<text text-anchor=\"start\" x=\"1594\" y=\"-290.8\" font-family=\"Helvetica,sans-Serif\" font-size=\"14.00\">sqft ≤ 4360.0</text>\n<text text-anchor=\"start\" x=\"1603\" y=\"-275.8\" font-family=\"Helvetica,sans-Serif\" font-size=\"14.00\">gini = 0.32</text>\n<text text-anchor=\"start\" x=\"1594\" y=\"-260.8\" font-family=\"Helvetica,sans-Serif\" font-size=\"14.00\">samples = 10</text>\n<text text-anchor=\"start\" x=\"1594\" y=\"-245.8\" font-family=\"Helvetica,sans-Serif\" font-size=\"14.00\">value = [8, 2]</text>\n<text text-anchor=\"start\" x=\"1567\" y=\"-230.8\" font-family=\"Helvetica,sans-Serif\" font-size=\"14.00\">class = San Francisco</text>\n</g>\n<!-- 24&#45;&gt;25 -->\n<g id=\"edge25\" class=\"edge\">\n<title>24&#45;&gt;25</title>\n<path fill=\"none\" stroke=\"black\" d=\"M1805.88,-342.89C1783.14,-332.12 1758.39,-320.4 1735.19,-309.4\"/>\n<polygon fill=\"black\" stroke=\"black\" points=\"1736.57,-306.19 1726.04,-305.07 1733.58,-312.51 1736.57,-306.19\"/>\n</g>\n<!-- 30 -->\n<g id=\"node31\" class=\"node\">\n<title>30</title>\n<path fill=\"#7bbeee\" stroke=\"black\" d=\"M1945.5,-306C1945.5,-306 1833.5,-306 1833.5,-306 1827.5,-306 1821.5,-300 1821.5,-294 1821.5,-294 1821.5,-235 1821.5,-235 1821.5,-229 1827.5,-223 1833.5,-223 1833.5,-223 1945.5,-223 1945.5,-223 1951.5,-223 1957.5,-229 1957.5,-235 1957.5,-235 1957.5,-294 1957.5,-294 1957.5,-300 1951.5,-306 1945.5,-306\"/>\n<text text-anchor=\"start\" x=\"1841\" y=\"-290.8\" font-family=\"Helvetica,sans-Serif\" font-size=\"14.00\">sqft ≤ 1821.5</text>\n<text text-anchor=\"start\" x=\"1845.5\" y=\"-275.8\" font-family=\"Helvetica,sans-Serif\" font-size=\"14.00\">gini = 0.375</text>\n<text text-anchor=\"start\" x=\"1845.5\" y=\"-260.8\" font-family=\"Helvetica,sans-Serif\" font-size=\"14.00\">samples = 8</text>\n<text text-anchor=\"start\" x=\"1841\" y=\"-245.8\" font-family=\"Helvetica,sans-Serif\" font-size=\"14.00\">value = [2, 6]</text>\n<text text-anchor=\"start\" x=\"1829.5\" y=\"-230.8\" font-family=\"Helvetica,sans-Serif\" font-size=\"14.00\">class = New York</text>\n</g>\n<!-- 24&#45;&gt;30 -->\n<g id=\"edge30\" class=\"edge\">\n<title>24&#45;&gt;30</title>\n<path fill=\"none\" stroke=\"black\" d=\"M1889.5,-341.91C1889.5,-333.65 1889.5,-324.86 1889.5,-316.3\"/>\n<polygon fill=\"black\" stroke=\"black\" points=\"1893,-316.02 1889.5,-306.02 1886,-316.02 1893,-316.02\"/>\n</g>\n<!-- 26 -->\n<g id=\"node27\" class=\"node\">\n<title>26</title>\n<path fill=\"#e89152\" stroke=\"black\" d=\"M1544,-187C1544,-187 1401,-187 1401,-187 1395,-187 1389,-181 1389,-175 1389,-175 1389,-116 1389,-116 1389,-110 1395,-104 1401,-104 1401,-104 1544,-104 1544,-104 1550,-104 1556,-110 1556,-116 1556,-116 1556,-175 1556,-175 1556,-181 1550,-187 1544,-187\"/>\n<text text-anchor=\"start\" x=\"1419\" y=\"-171.8\" font-family=\"Helvetica,sans-Serif\" font-size=\"14.00\">elevation ≤ 3.5</text>\n<text text-anchor=\"start\" x=\"1428.5\" y=\"-156.8\" font-family=\"Helvetica,sans-Serif\" font-size=\"14.00\">gini = 0.198</text>\n<text text-anchor=\"start\" x=\"1428.5\" y=\"-141.8\" font-family=\"Helvetica,sans-Serif\" font-size=\"14.00\">samples = 9</text>\n<text text-anchor=\"start\" x=\"1424\" y=\"-126.8\" font-family=\"Helvetica,sans-Serif\" font-size=\"14.00\">value = [8, 1]</text>\n<text text-anchor=\"start\" x=\"1397\" y=\"-111.8\" font-family=\"Helvetica,sans-Serif\" font-size=\"14.00\">class = San Francisco</text>\n</g>\n<!-- 25&#45;&gt;26 -->\n<g id=\"edge26\" class=\"edge\">\n<title>25&#45;&gt;26</title>\n<path fill=\"none\" stroke=\"black\" d=\"M1583.52,-222.91C1569.41,-213.2 1554.24,-202.76 1539.79,-192.81\"/>\n<polygon fill=\"black\" stroke=\"black\" points=\"1541.6,-189.81 1531.38,-187.02 1537.63,-195.57 1541.6,-189.81\"/>\n</g>\n<!-- 29 -->\n<g id=\"node30\" class=\"node\">\n<title>29</title>\n<path fill=\"#399de5\" stroke=\"black\" d=\"M1698.5,-179.5C1698.5,-179.5 1586.5,-179.5 1586.5,-179.5 1580.5,-179.5 1574.5,-173.5 1574.5,-167.5 1574.5,-167.5 1574.5,-123.5 1574.5,-123.5 1574.5,-117.5 1580.5,-111.5 1586.5,-111.5 1586.5,-111.5 1698.5,-111.5 1698.5,-111.5 1704.5,-111.5 1710.5,-117.5 1710.5,-123.5 1710.5,-123.5 1710.5,-167.5 1710.5,-167.5 1710.5,-173.5 1704.5,-179.5 1698.5,-179.5\"/>\n<text text-anchor=\"start\" x=\"1607.5\" y=\"-164.3\" font-family=\"Helvetica,sans-Serif\" font-size=\"14.00\">gini = 0.0</text>\n<text text-anchor=\"start\" x=\"1598.5\" y=\"-149.3\" font-family=\"Helvetica,sans-Serif\" font-size=\"14.00\">samples = 1</text>\n<text text-anchor=\"start\" x=\"1594\" y=\"-134.3\" font-family=\"Helvetica,sans-Serif\" font-size=\"14.00\">value = [0, 1]</text>\n<text text-anchor=\"start\" x=\"1582.5\" y=\"-119.3\" font-family=\"Helvetica,sans-Serif\" font-size=\"14.00\">class = New York</text>\n</g>\n<!-- 25&#45;&gt;29 -->\n<g id=\"edge29\" class=\"edge\">\n<title>25&#45;&gt;29</title>\n<path fill=\"none\" stroke=\"black\" d=\"M1642.5,-222.91C1642.5,-212.2 1642.5,-200.62 1642.5,-189.78\"/>\n<polygon fill=\"black\" stroke=\"black\" points=\"1646,-189.67 1642.5,-179.67 1639,-189.67 1646,-189.67\"/>\n</g>\n<!-- 27 -->\n<g id=\"node28\" class=\"node\">\n<title>27</title>\n<path fill=\"#e58139\" stroke=\"black\" d=\"M1544,-68C1544,-68 1401,-68 1401,-68 1395,-68 1389,-62 1389,-56 1389,-56 1389,-12 1389,-12 1389,-6 1395,0 1401,0 1401,0 1544,0 1544,0 1550,0 1556,-6 1556,-12 1556,-12 1556,-56 1556,-56 1556,-62 1550,-68 1544,-68\"/>\n<text text-anchor=\"start\" x=\"1437.5\" y=\"-52.8\" font-family=\"Helvetica,sans-Serif\" font-size=\"14.00\">gini = 0.0</text>\n<text text-anchor=\"start\" x=\"1428.5\" y=\"-37.8\" font-family=\"Helvetica,sans-Serif\" font-size=\"14.00\">samples = 7</text>\n<text text-anchor=\"start\" x=\"1424\" y=\"-22.8\" font-family=\"Helvetica,sans-Serif\" font-size=\"14.00\">value = [7, 0]</text>\n<text text-anchor=\"start\" x=\"1397\" y=\"-7.8\" font-family=\"Helvetica,sans-Serif\" font-size=\"14.00\">class = San Francisco</text>\n</g>\n<!-- 26&#45;&gt;27 -->\n<g id=\"edge27\" class=\"edge\">\n<title>26&#45;&gt;27</title>\n<path fill=\"none\" stroke=\"black\" d=\"M1472.5,-103.73C1472.5,-95.52 1472.5,-86.86 1472.5,-78.56\"/>\n<polygon fill=\"black\" stroke=\"black\" points=\"1476,-78.3 1472.5,-68.3 1469,-78.3 1476,-78.3\"/>\n</g>\n<!-- 28 -->\n<g id=\"node29\" class=\"node\">\n<title>28</title>\n<path fill=\"#ffffff\" stroke=\"black\" d=\"M1729,-68C1729,-68 1586,-68 1586,-68 1580,-68 1574,-62 1574,-56 1574,-56 1574,-12 1574,-12 1574,-6 1580,0 1586,0 1586,0 1729,0 1729,0 1735,0 1741,-6 1741,-12 1741,-12 1741,-56 1741,-56 1741,-62 1735,-68 1729,-68\"/>\n<text text-anchor=\"start\" x=\"1622.5\" y=\"-52.8\" font-family=\"Helvetica,sans-Serif\" font-size=\"14.00\">gini = 0.5</text>\n<text text-anchor=\"start\" x=\"1613.5\" y=\"-37.8\" font-family=\"Helvetica,sans-Serif\" font-size=\"14.00\">samples = 2</text>\n<text text-anchor=\"start\" x=\"1609\" y=\"-22.8\" font-family=\"Helvetica,sans-Serif\" font-size=\"14.00\">value = [1, 1]</text>\n<text text-anchor=\"start\" x=\"1582\" y=\"-7.8\" font-family=\"Helvetica,sans-Serif\" font-size=\"14.00\">class = San Francisco</text>\n</g>\n<!-- 26&#45;&gt;28 -->\n<g id=\"edge28\" class=\"edge\">\n<title>26&#45;&gt;28</title>\n<path fill=\"none\" stroke=\"black\" d=\"M1541.12,-103.88C1558.11,-93.83 1576.25,-83.09 1593.03,-73.16\"/>\n<polygon fill=\"black\" stroke=\"black\" points=\"1594.85,-76.15 1601.67,-68.04 1591.29,-70.12 1594.85,-76.15\"/>\n</g>\n<!-- 31 -->\n<g id=\"node32\" class=\"node\">\n<title>31</title>\n<path fill=\"#399de5\" stroke=\"black\" d=\"M1852.5,-179.5C1852.5,-179.5 1740.5,-179.5 1740.5,-179.5 1734.5,-179.5 1728.5,-173.5 1728.5,-167.5 1728.5,-167.5 1728.5,-123.5 1728.5,-123.5 1728.5,-117.5 1734.5,-111.5 1740.5,-111.5 1740.5,-111.5 1852.5,-111.5 1852.5,-111.5 1858.5,-111.5 1864.5,-117.5 1864.5,-123.5 1864.5,-123.5 1864.5,-167.5 1864.5,-167.5 1864.5,-173.5 1858.5,-179.5 1852.5,-179.5\"/>\n<text text-anchor=\"start\" x=\"1761.5\" y=\"-164.3\" font-family=\"Helvetica,sans-Serif\" font-size=\"14.00\">gini = 0.0</text>\n<text text-anchor=\"start\" x=\"1752.5\" y=\"-149.3\" font-family=\"Helvetica,sans-Serif\" font-size=\"14.00\">samples = 6</text>\n<text text-anchor=\"start\" x=\"1748\" y=\"-134.3\" font-family=\"Helvetica,sans-Serif\" font-size=\"14.00\">value = [0, 6]</text>\n<text text-anchor=\"start\" x=\"1736.5\" y=\"-119.3\" font-family=\"Helvetica,sans-Serif\" font-size=\"14.00\">class = New York</text>\n</g>\n<!-- 30&#45;&gt;31 -->\n<g id=\"edge31\" class=\"edge\">\n<title>30&#45;&gt;31</title>\n<path fill=\"none\" stroke=\"black\" d=\"M1857.23,-222.91C1848.2,-211.54 1838.37,-199.18 1829.31,-187.77\"/>\n<polygon fill=\"black\" stroke=\"black\" points=\"1831.83,-185.32 1822.86,-179.67 1826.35,-189.67 1831.83,-185.32\"/>\n</g>\n<!-- 32 -->\n<g id=\"node33\" class=\"node\">\n<title>32</title>\n<path fill=\"#e58139\" stroke=\"black\" d=\"M2038,-179.5C2038,-179.5 1895,-179.5 1895,-179.5 1889,-179.5 1883,-173.5 1883,-167.5 1883,-167.5 1883,-123.5 1883,-123.5 1883,-117.5 1889,-111.5 1895,-111.5 1895,-111.5 2038,-111.5 2038,-111.5 2044,-111.5 2050,-117.5 2050,-123.5 2050,-123.5 2050,-167.5 2050,-167.5 2050,-173.5 2044,-179.5 2038,-179.5\"/>\n<text text-anchor=\"start\" x=\"1931.5\" y=\"-164.3\" font-family=\"Helvetica,sans-Serif\" font-size=\"14.00\">gini = 0.0</text>\n<text text-anchor=\"start\" x=\"1922.5\" y=\"-149.3\" font-family=\"Helvetica,sans-Serif\" font-size=\"14.00\">samples = 2</text>\n<text text-anchor=\"start\" x=\"1918\" y=\"-134.3\" font-family=\"Helvetica,sans-Serif\" font-size=\"14.00\">value = [2, 0]</text>\n<text text-anchor=\"start\" x=\"1891\" y=\"-119.3\" font-family=\"Helvetica,sans-Serif\" font-size=\"14.00\">class = San Francisco</text>\n</g>\n<!-- 30&#45;&gt;32 -->\n<g id=\"edge32\" class=\"edge\">\n<title>30&#45;&gt;32</title>\n<path fill=\"none\" stroke=\"black\" d=\"M1916.21,-222.91C1923.62,-211.65 1931.67,-199.42 1939.12,-188.11\"/>\n<polygon fill=\"black\" stroke=\"black\" points=\"1942.1,-189.94 1944.67,-179.67 1936.25,-186.1 1942.1,-189.94\"/>\n</g>\n<!-- 34 -->\n<g id=\"node35\" class=\"node\">\n<title>34</title>\n<path fill=\"#eda672\" stroke=\"black\" d=\"M2334,-306C2334,-306 2191,-306 2191,-306 2185,-306 2179,-300 2179,-294 2179,-294 2179,-235 2179,-235 2179,-229 2185,-223 2191,-223 2191,-223 2334,-223 2334,-223 2340,-223 2346,-229 2346,-235 2346,-235 2346,-294 2346,-294 2346,-300 2340,-306 2334,-306\"/>\n<text text-anchor=\"start\" x=\"2193\" y=\"-290.8\" font-family=\"Helvetica,sans-Serif\" font-size=\"14.00\">year_built ≤ 1996.0</text>\n<text text-anchor=\"start\" x=\"2218.5\" y=\"-275.8\" font-family=\"Helvetica,sans-Serif\" font-size=\"14.00\">gini = 0.349</text>\n<text text-anchor=\"start\" x=\"2214\" y=\"-260.8\" font-family=\"Helvetica,sans-Serif\" font-size=\"14.00\">samples = 40</text>\n<text text-anchor=\"start\" x=\"2209.5\" y=\"-245.8\" font-family=\"Helvetica,sans-Serif\" font-size=\"14.00\">value = [31, 9]</text>\n<text text-anchor=\"start\" x=\"2187\" y=\"-230.8\" font-family=\"Helvetica,sans-Serif\" font-size=\"14.00\">class = San Francisco</text>\n</g>\n<!-- 33&#45;&gt;34 -->\n<g id=\"edge34\" class=\"edge\">\n<title>33&#45;&gt;34</title>\n<path fill=\"none\" stroke=\"black\" d=\"M2262.5,-341.91C2262.5,-333.65 2262.5,-324.86 2262.5,-316.3\"/>\n<polygon fill=\"black\" stroke=\"black\" points=\"2266,-316.02 2262.5,-306.02 2259,-316.02 2266,-316.02\"/>\n</g>\n<!-- 41 -->\n<g id=\"node42\" class=\"node\">\n<title>41</title>\n<path fill=\"#e5823b\" stroke=\"black\" d=\"M2629,-306C2629,-306 2486,-306 2486,-306 2480,-306 2474,-300 2474,-294 2474,-294 2474,-235 2474,-235 2474,-229 2480,-223 2486,-223 2486,-223 2629,-223 2629,-223 2635,-223 2641,-229 2641,-235 2641,-235 2641,-294 2641,-294 2641,-300 2635,-306 2629,-306\"/>\n<text text-anchor=\"start\" x=\"2499.5\" y=\"-290.8\" font-family=\"Helvetica,sans-Serif\" font-size=\"14.00\">elevation ≤ 25.5</text>\n<text text-anchor=\"start\" x=\"2513.5\" y=\"-275.8\" font-family=\"Helvetica,sans-Serif\" font-size=\"14.00\">gini = 0.023</text>\n<text text-anchor=\"start\" x=\"2509\" y=\"-260.8\" font-family=\"Helvetica,sans-Serif\" font-size=\"14.00\">samples = 85</text>\n<text text-anchor=\"start\" x=\"2504.5\" y=\"-245.8\" font-family=\"Helvetica,sans-Serif\" font-size=\"14.00\">value = [84, 1]</text>\n<text text-anchor=\"start\" x=\"2482\" y=\"-230.8\" font-family=\"Helvetica,sans-Serif\" font-size=\"14.00\">class = San Francisco</text>\n</g>\n<!-- 33&#45;&gt;41 -->\n<g id=\"edge41\" class=\"edge\">\n<title>33&#45;&gt;41</title>\n<path fill=\"none\" stroke=\"black\" d=\"M2355.03,-345.8C2389.78,-332.02 2429.28,-316.35 2464.11,-302.54\"/>\n<polygon fill=\"black\" stroke=\"black\" points=\"2465.8,-305.63 2473.8,-298.69 2463.22,-299.13 2465.8,-305.63\"/>\n</g>\n<!-- 35 -->\n<g id=\"node36\" class=\"node\">\n<title>35</title>\n<path fill=\"#e88e4e\" stroke=\"black\" d=\"M2241,-187C2241,-187 2080,-187 2080,-187 2074,-187 2068,-181 2068,-175 2068,-175 2068,-116 2068,-116 2068,-110 2074,-104 2080,-104 2080,-104 2241,-104 2241,-104 2247,-104 2253,-110 2253,-116 2253,-116 2253,-175 2253,-175 2253,-181 2247,-187 2241,-187\"/>\n<text text-anchor=\"start\" x=\"2076\" y=\"-171.8\" font-family=\"Helvetica,sans-Serif\" font-size=\"14.00\">price_per_sqft ≤ 1344.5</text>\n<text text-anchor=\"start\" x=\"2116.5\" y=\"-156.8\" font-family=\"Helvetica,sans-Serif\" font-size=\"14.00\">gini = 0.175</text>\n<text text-anchor=\"start\" x=\"2112\" y=\"-141.8\" font-family=\"Helvetica,sans-Serif\" font-size=\"14.00\">samples = 31</text>\n<text text-anchor=\"start\" x=\"2107.5\" y=\"-126.8\" font-family=\"Helvetica,sans-Serif\" font-size=\"14.00\">value = [28, 3]</text>\n<text text-anchor=\"start\" x=\"2085\" y=\"-111.8\" font-family=\"Helvetica,sans-Serif\" font-size=\"14.00\">class = San Francisco</text>\n</g>\n<!-- 34&#45;&gt;35 -->\n<g id=\"edge35\" class=\"edge\">\n<title>34&#45;&gt;35</title>\n<path fill=\"none\" stroke=\"black\" d=\"M2227.11,-222.91C2219.2,-213.83 2210.73,-204.12 2202.58,-194.77\"/>\n<polygon fill=\"black\" stroke=\"black\" points=\"2205.04,-192.26 2195.83,-187.02 2199.76,-196.86 2205.04,-192.26\"/>\n</g>\n<!-- 38 -->\n<g id=\"node39\" class=\"node\">\n<title>38</title>\n<path fill=\"#9ccef2\" stroke=\"black\" d=\"M2444,-187C2444,-187 2283,-187 2283,-187 2277,-187 2271,-181 2271,-175 2271,-175 2271,-116 2271,-116 2271,-110 2277,-104 2283,-104 2283,-104 2444,-104 2444,-104 2450,-104 2456,-110 2456,-116 2456,-116 2456,-175 2456,-175 2456,-181 2450,-187 2444,-187\"/>\n<text text-anchor=\"start\" x=\"2279\" y=\"-171.8\" font-family=\"Helvetica,sans-Serif\" font-size=\"14.00\">price_per_sqft ≤ 1365.5</text>\n<text text-anchor=\"start\" x=\"2319.5\" y=\"-156.8\" font-family=\"Helvetica,sans-Serif\" font-size=\"14.00\">gini = 0.444</text>\n<text text-anchor=\"start\" x=\"2319.5\" y=\"-141.8\" font-family=\"Helvetica,sans-Serif\" font-size=\"14.00\">samples = 9</text>\n<text text-anchor=\"start\" x=\"2315\" y=\"-126.8\" font-family=\"Helvetica,sans-Serif\" font-size=\"14.00\">value = [3, 6]</text>\n<text text-anchor=\"start\" x=\"2303.5\" y=\"-111.8\" font-family=\"Helvetica,sans-Serif\" font-size=\"14.00\">class = New York</text>\n</g>\n<!-- 34&#45;&gt;38 -->\n<g id=\"edge38\" class=\"edge\">\n<title>34&#45;&gt;38</title>\n<path fill=\"none\" stroke=\"black\" d=\"M2297.54,-222.91C2305.38,-213.83 2313.76,-204.12 2321.83,-194.77\"/>\n<polygon fill=\"black\" stroke=\"black\" points=\"2324.64,-196.88 2328.52,-187.02 2319.34,-192.3 2324.64,-196.88\"/>\n</g>\n<!-- 36 -->\n<g id=\"node37\" class=\"node\">\n<title>36</title>\n<path fill=\"#e78a47\" stroke=\"black\" d=\"M2075,-68C2075,-68 1932,-68 1932,-68 1926,-68 1920,-62 1920,-56 1920,-56 1920,-12 1920,-12 1920,-6 1926,0 1932,0 1932,0 2075,0 2075,0 2081,0 2087,-6 2087,-12 2087,-12 2087,-56 2087,-56 2087,-62 2081,-68 2075,-68\"/>\n<text text-anchor=\"start\" x=\"1959.5\" y=\"-52.8\" font-family=\"Helvetica,sans-Serif\" font-size=\"14.00\">gini = 0.124</text>\n<text text-anchor=\"start\" x=\"1955\" y=\"-37.8\" font-family=\"Helvetica,sans-Serif\" font-size=\"14.00\">samples = 30</text>\n<text text-anchor=\"start\" x=\"1950.5\" y=\"-22.8\" font-family=\"Helvetica,sans-Serif\" font-size=\"14.00\">value = [28, 2]</text>\n<text text-anchor=\"start\" x=\"1928\" y=\"-7.8\" font-family=\"Helvetica,sans-Serif\" font-size=\"14.00\">class = San Francisco</text>\n</g>\n<!-- 35&#45;&gt;36 -->\n<g id=\"edge36\" class=\"edge\">\n<title>35&#45;&gt;36</title>\n<path fill=\"none\" stroke=\"black\" d=\"M2102.04,-103.73C2088.18,-94.06 2073.42,-83.77 2059.66,-74.17\"/>\n<polygon fill=\"black\" stroke=\"black\" points=\"2061.45,-71.15 2051.24,-68.3 2057.44,-76.89 2061.45,-71.15\"/>\n</g>\n<!-- 37 -->\n<g id=\"node38\" class=\"node\">\n<title>37</title>\n<path fill=\"#399de5\" stroke=\"black\" d=\"M2229.5,-68C2229.5,-68 2117.5,-68 2117.5,-68 2111.5,-68 2105.5,-62 2105.5,-56 2105.5,-56 2105.5,-12 2105.5,-12 2105.5,-6 2111.5,0 2117.5,0 2117.5,0 2229.5,0 2229.5,0 2235.5,0 2241.5,-6 2241.5,-12 2241.5,-12 2241.5,-56 2241.5,-56 2241.5,-62 2235.5,-68 2229.5,-68\"/>\n<text text-anchor=\"start\" x=\"2138.5\" y=\"-52.8\" font-family=\"Helvetica,sans-Serif\" font-size=\"14.00\">gini = 0.0</text>\n<text text-anchor=\"start\" x=\"2129.5\" y=\"-37.8\" font-family=\"Helvetica,sans-Serif\" font-size=\"14.00\">samples = 1</text>\n<text text-anchor=\"start\" x=\"2125\" y=\"-22.8\" font-family=\"Helvetica,sans-Serif\" font-size=\"14.00\">value = [0, 1]</text>\n<text text-anchor=\"start\" x=\"2113.5\" y=\"-7.8\" font-family=\"Helvetica,sans-Serif\" font-size=\"14.00\">class = New York</text>\n</g>\n<!-- 35&#45;&gt;37 -->\n<g id=\"edge37\" class=\"edge\">\n<title>35&#45;&gt;37</title>\n<path fill=\"none\" stroke=\"black\" d=\"M2165.34,-103.73C2166.33,-95.43 2167.37,-86.67 2168.36,-78.28\"/>\n<polygon fill=\"black\" stroke=\"black\" points=\"2171.84,-78.64 2169.55,-68.3 2164.89,-77.82 2171.84,-78.64\"/>\n</g>\n<!-- 39 -->\n<g id=\"node40\" class=\"node\">\n<title>39</title>\n<path fill=\"#399de5\" stroke=\"black\" d=\"M2407.5,-68C2407.5,-68 2295.5,-68 2295.5,-68 2289.5,-68 2283.5,-62 2283.5,-56 2283.5,-56 2283.5,-12 2283.5,-12 2283.5,-6 2289.5,0 2295.5,0 2295.5,0 2407.5,0 2407.5,0 2413.5,0 2419.5,-6 2419.5,-12 2419.5,-12 2419.5,-56 2419.5,-56 2419.5,-62 2413.5,-68 2407.5,-68\"/>\n<text text-anchor=\"start\" x=\"2316.5\" y=\"-52.8\" font-family=\"Helvetica,sans-Serif\" font-size=\"14.00\">gini = 0.0</text>\n<text text-anchor=\"start\" x=\"2307.5\" y=\"-37.8\" font-family=\"Helvetica,sans-Serif\" font-size=\"14.00\">samples = 5</text>\n<text text-anchor=\"start\" x=\"2303\" y=\"-22.8\" font-family=\"Helvetica,sans-Serif\" font-size=\"14.00\">value = [0, 5]</text>\n<text text-anchor=\"start\" x=\"2291.5\" y=\"-7.8\" font-family=\"Helvetica,sans-Serif\" font-size=\"14.00\">class = New York</text>\n</g>\n<!-- 38&#45;&gt;39 -->\n<g id=\"edge39\" class=\"edge\">\n<title>38&#45;&gt;39</title>\n<path fill=\"none\" stroke=\"black\" d=\"M2359.03,-103.73C2358.12,-95.43 2357.16,-86.67 2356.24,-78.28\"/>\n<polygon fill=\"black\" stroke=\"black\" points=\"2359.72,-77.86 2355.15,-68.3 2352.76,-78.62 2359.72,-77.86\"/>\n</g>\n<!-- 40 -->\n<g id=\"node41\" class=\"node\">\n<title>40</title>\n<path fill=\"#eeab7b\" stroke=\"black\" d=\"M2593,-68C2593,-68 2450,-68 2450,-68 2444,-68 2438,-62 2438,-56 2438,-56 2438,-12 2438,-12 2438,-6 2444,0 2450,0 2450,0 2593,0 2593,0 2599,0 2605,-6 2605,-12 2605,-12 2605,-56 2605,-56 2605,-62 2599,-68 2593,-68\"/>\n<text text-anchor=\"start\" x=\"2477.5\" y=\"-52.8\" font-family=\"Helvetica,sans-Serif\" font-size=\"14.00\">gini = 0.375</text>\n<text text-anchor=\"start\" x=\"2477.5\" y=\"-37.8\" font-family=\"Helvetica,sans-Serif\" font-size=\"14.00\">samples = 4</text>\n<text text-anchor=\"start\" x=\"2473\" y=\"-22.8\" font-family=\"Helvetica,sans-Serif\" font-size=\"14.00\">value = [3, 1]</text>\n<text text-anchor=\"start\" x=\"2446\" y=\"-7.8\" font-family=\"Helvetica,sans-Serif\" font-size=\"14.00\">class = San Francisco</text>\n</g>\n<!-- 38&#45;&gt;40 -->\n<g id=\"edge40\" class=\"edge\">\n<title>38&#45;&gt;40</title>\n<path fill=\"none\" stroke=\"black\" d=\"M2422.33,-103.73C2436.36,-94.01 2451.29,-83.66 2465.19,-74.02\"/>\n<polygon fill=\"black\" stroke=\"black\" points=\"2467.48,-76.7 2473.7,-68.13 2463.49,-70.94 2467.48,-76.7\"/>\n</g>\n<!-- 42 -->\n<g id=\"node43\" class=\"node\">\n<title>42</title>\n<path fill=\"#e58139\" stroke=\"black\" d=\"M2629,-179.5C2629,-179.5 2486,-179.5 2486,-179.5 2480,-179.5 2474,-173.5 2474,-167.5 2474,-167.5 2474,-123.5 2474,-123.5 2474,-117.5 2480,-111.5 2486,-111.5 2486,-111.5 2629,-111.5 2629,-111.5 2635,-111.5 2641,-117.5 2641,-123.5 2641,-123.5 2641,-167.5 2641,-167.5 2641,-173.5 2635,-179.5 2629,-179.5\"/>\n<text text-anchor=\"start\" x=\"2522.5\" y=\"-164.3\" font-family=\"Helvetica,sans-Serif\" font-size=\"14.00\">gini = 0.0</text>\n<text text-anchor=\"start\" x=\"2509\" y=\"-149.3\" font-family=\"Helvetica,sans-Serif\" font-size=\"14.00\">samples = 83</text>\n<text text-anchor=\"start\" x=\"2504.5\" y=\"-134.3\" font-family=\"Helvetica,sans-Serif\" font-size=\"14.00\">value = [83, 0]</text>\n<text text-anchor=\"start\" x=\"2482\" y=\"-119.3\" font-family=\"Helvetica,sans-Serif\" font-size=\"14.00\">class = San Francisco</text>\n</g>\n<!-- 41&#45;&gt;42 -->\n<g id=\"edge42\" class=\"edge\">\n<title>41&#45;&gt;42</title>\n<path fill=\"none\" stroke=\"black\" d=\"M2557.5,-222.91C2557.5,-212.2 2557.5,-200.62 2557.5,-189.78\"/>\n<polygon fill=\"black\" stroke=\"black\" points=\"2561,-189.67 2557.5,-179.67 2554,-189.67 2561,-189.67\"/>\n</g>\n<!-- 43 -->\n<g id=\"node44\" class=\"node\">\n<title>43</title>\n<path fill=\"#ffffff\" stroke=\"black\" d=\"M2814,-187C2814,-187 2671,-187 2671,-187 2665,-187 2659,-181 2659,-175 2659,-175 2659,-116 2659,-116 2659,-110 2665,-104 2671,-104 2671,-104 2814,-104 2814,-104 2820,-104 2826,-110 2826,-116 2826,-116 2826,-175 2826,-175 2826,-181 2820,-187 2814,-187\"/>\n<text text-anchor=\"start\" x=\"2694\" y=\"-171.8\" font-family=\"Helvetica,sans-Serif\" font-size=\"14.00\">sqft ≤ 2640.0</text>\n<text text-anchor=\"start\" x=\"2707.5\" y=\"-156.8\" font-family=\"Helvetica,sans-Serif\" font-size=\"14.00\">gini = 0.5</text>\n<text text-anchor=\"start\" x=\"2698.5\" y=\"-141.8\" font-family=\"Helvetica,sans-Serif\" font-size=\"14.00\">samples = 2</text>\n<text text-anchor=\"start\" x=\"2694\" y=\"-126.8\" font-family=\"Helvetica,sans-Serif\" font-size=\"14.00\">value = [1, 1]</text>\n<text text-anchor=\"start\" x=\"2667\" y=\"-111.8\" font-family=\"Helvetica,sans-Serif\" font-size=\"14.00\">class = San Francisco</text>\n</g>\n<!-- 41&#45;&gt;43 -->\n<g id=\"edge43\" class=\"edge\">\n<title>41&#45;&gt;43</title>\n<path fill=\"none\" stroke=\"black\" d=\"M2621.68,-222.91C2637.18,-213.11 2653.85,-202.56 2669.71,-192.53\"/>\n<polygon fill=\"black\" stroke=\"black\" points=\"2671.85,-195.32 2678.43,-187.02 2668.11,-189.41 2671.85,-195.32\"/>\n</g>\n<!-- 44 -->\n<g id=\"node45\" class=\"node\">\n<title>44</title>\n<path fill=\"#e58139\" stroke=\"black\" d=\"M2796,-68C2796,-68 2653,-68 2653,-68 2647,-68 2641,-62 2641,-56 2641,-56 2641,-12 2641,-12 2641,-6 2647,0 2653,0 2653,0 2796,0 2796,0 2802,0 2808,-6 2808,-12 2808,-12 2808,-56 2808,-56 2808,-62 2802,-68 2796,-68\"/>\n<text text-anchor=\"start\" x=\"2689.5\" y=\"-52.8\" font-family=\"Helvetica,sans-Serif\" font-size=\"14.00\">gini = 0.0</text>\n<text text-anchor=\"start\" x=\"2680.5\" y=\"-37.8\" font-family=\"Helvetica,sans-Serif\" font-size=\"14.00\">samples = 1</text>\n<text text-anchor=\"start\" x=\"2676\" y=\"-22.8\" font-family=\"Helvetica,sans-Serif\" font-size=\"14.00\">value = [1, 0]</text>\n<text text-anchor=\"start\" x=\"2649\" y=\"-7.8\" font-family=\"Helvetica,sans-Serif\" font-size=\"14.00\">class = San Francisco</text>\n</g>\n<!-- 43&#45;&gt;44 -->\n<g id=\"edge44\" class=\"edge\">\n<title>43&#45;&gt;44</title>\n<path fill=\"none\" stroke=\"black\" d=\"M2735.8,-103.73C2734.43,-95.43 2732.99,-86.67 2731.62,-78.28\"/>\n<polygon fill=\"black\" stroke=\"black\" points=\"2735.05,-77.6 2729.97,-68.3 2728.14,-78.73 2735.05,-77.6\"/>\n</g>\n<!-- 45 -->\n<g id=\"node46\" class=\"node\">\n<title>45</title>\n<path fill=\"#399de5\" stroke=\"black\" d=\"M2950.5,-68C2950.5,-68 2838.5,-68 2838.5,-68 2832.5,-68 2826.5,-62 2826.5,-56 2826.5,-56 2826.5,-12 2826.5,-12 2826.5,-6 2832.5,0 2838.5,0 2838.5,0 2950.5,0 2950.5,0 2956.5,0 2962.5,-6 2962.5,-12 2962.5,-12 2962.5,-56 2962.5,-56 2962.5,-62 2956.5,-68 2950.5,-68\"/>\n<text text-anchor=\"start\" x=\"2859.5\" y=\"-52.8\" font-family=\"Helvetica,sans-Serif\" font-size=\"14.00\">gini = 0.0</text>\n<text text-anchor=\"start\" x=\"2850.5\" y=\"-37.8\" font-family=\"Helvetica,sans-Serif\" font-size=\"14.00\">samples = 1</text>\n<text text-anchor=\"start\" x=\"2846\" y=\"-22.8\" font-family=\"Helvetica,sans-Serif\" font-size=\"14.00\">value = [0, 1]</text>\n<text text-anchor=\"start\" x=\"2834.5\" y=\"-7.8\" font-family=\"Helvetica,sans-Serif\" font-size=\"14.00\">class = New York</text>\n</g>\n<!-- 43&#45;&gt;45 -->\n<g id=\"edge45\" class=\"edge\">\n<title>43&#45;&gt;45</title>\n<path fill=\"none\" stroke=\"black\" d=\"M2799.1,-103.73C2812.52,-94.06 2826.81,-83.77 2840.12,-74.17\"/>\n<polygon fill=\"black\" stroke=\"black\" points=\"2842.21,-76.98 2848.28,-68.3 2838.12,-71.3 2842.21,-76.98\"/>\n</g>\n<!-- 47 -->\n<g id=\"node48\" class=\"node\">\n<title>47</title>\n<path fill=\"#d7ebfa\" stroke=\"black\" d=\"M2613.5,-544C2613.5,-544 2501.5,-544 2501.5,-544 2495.5,-544 2489.5,-538 2489.5,-532 2489.5,-532 2489.5,-473 2489.5,-473 2489.5,-467 2495.5,-461 2501.5,-461 2501.5,-461 2613.5,-461 2613.5,-461 2619.5,-461 2625.5,-467 2625.5,-473 2625.5,-473 2625.5,-532 2625.5,-532 2625.5,-538 2619.5,-544 2613.5,-544\"/>\n<text text-anchor=\"start\" x=\"2513.5\" y=\"-528.8\" font-family=\"Helvetica,sans-Serif\" font-size=\"14.00\">sqft ≤ 668.0</text>\n<text text-anchor=\"start\" x=\"2513.5\" y=\"-513.8\" font-family=\"Helvetica,sans-Serif\" font-size=\"14.00\">gini = 0.494</text>\n<text text-anchor=\"start\" x=\"2513.5\" y=\"-498.8\" font-family=\"Helvetica,sans-Serif\" font-size=\"14.00\">samples = 9</text>\n<text text-anchor=\"start\" x=\"2509\" y=\"-483.8\" font-family=\"Helvetica,sans-Serif\" font-size=\"14.00\">value = [4, 5]</text>\n<text text-anchor=\"start\" x=\"2497.5\" y=\"-468.8\" font-family=\"Helvetica,sans-Serif\" font-size=\"14.00\">class = New York</text>\n</g>\n<!-- 46&#45;&gt;47 -->\n<g id=\"edge47\" class=\"edge\">\n<title>46&#45;&gt;47</title>\n<path fill=\"none\" stroke=\"black\" d=\"M2557.5,-579.91C2557.5,-571.65 2557.5,-562.86 2557.5,-554.3\"/>\n<polygon fill=\"black\" stroke=\"black\" points=\"2561,-554.02 2557.5,-544.02 2554,-554.02 2561,-554.02\"/>\n</g>\n<!-- 54 -->\n<g id=\"node55\" class=\"node\">\n<title>54</title>\n<path fill=\"#399de5\" stroke=\"black\" d=\"M2767.5,-536.5C2767.5,-536.5 2655.5,-536.5 2655.5,-536.5 2649.5,-536.5 2643.5,-530.5 2643.5,-524.5 2643.5,-524.5 2643.5,-480.5 2643.5,-480.5 2643.5,-474.5 2649.5,-468.5 2655.5,-468.5 2655.5,-468.5 2767.5,-468.5 2767.5,-468.5 2773.5,-468.5 2779.5,-474.5 2779.5,-480.5 2779.5,-480.5 2779.5,-524.5 2779.5,-524.5 2779.5,-530.5 2773.5,-536.5 2767.5,-536.5\"/>\n<text text-anchor=\"start\" x=\"2676.5\" y=\"-521.3\" font-family=\"Helvetica,sans-Serif\" font-size=\"14.00\">gini = 0.0</text>\n<text text-anchor=\"start\" x=\"2658.5\" y=\"-506.3\" font-family=\"Helvetica,sans-Serif\" font-size=\"14.00\">samples = 134</text>\n<text text-anchor=\"start\" x=\"2654\" y=\"-491.3\" font-family=\"Helvetica,sans-Serif\" font-size=\"14.00\">value = [0, 134]</text>\n<text text-anchor=\"start\" x=\"2651.5\" y=\"-476.3\" font-family=\"Helvetica,sans-Serif\" font-size=\"14.00\">class = New York</text>\n</g>\n<!-- 46&#45;&gt;54 -->\n<g id=\"edge54\" class=\"edge\">\n<title>46&#45;&gt;54</title>\n<path fill=\"none\" stroke=\"black\" d=\"M2610.93,-579.91C2626.76,-567.88 2644.06,-554.73 2659.78,-542.79\"/>\n<polygon fill=\"black\" stroke=\"black\" points=\"2662,-545.5 2667.84,-536.67 2657.76,-539.93 2662,-545.5\"/>\n</g>\n<!-- 48 -->\n<g id=\"node49\" class=\"node\">\n<title>48</title>\n<path fill=\"#399de5\" stroke=\"black\" d=\"M2613.5,-417.5C2613.5,-417.5 2501.5,-417.5 2501.5,-417.5 2495.5,-417.5 2489.5,-411.5 2489.5,-405.5 2489.5,-405.5 2489.5,-361.5 2489.5,-361.5 2489.5,-355.5 2495.5,-349.5 2501.5,-349.5 2501.5,-349.5 2613.5,-349.5 2613.5,-349.5 2619.5,-349.5 2625.5,-355.5 2625.5,-361.5 2625.5,-361.5 2625.5,-405.5 2625.5,-405.5 2625.5,-411.5 2619.5,-417.5 2613.5,-417.5\"/>\n<text text-anchor=\"start\" x=\"2522.5\" y=\"-402.3\" font-family=\"Helvetica,sans-Serif\" font-size=\"14.00\">gini = 0.0</text>\n<text text-anchor=\"start\" x=\"2513.5\" y=\"-387.3\" font-family=\"Helvetica,sans-Serif\" font-size=\"14.00\">samples = 4</text>\n<text text-anchor=\"start\" x=\"2509\" y=\"-372.3\" font-family=\"Helvetica,sans-Serif\" font-size=\"14.00\">value = [0, 4]</text>\n<text text-anchor=\"start\" x=\"2497.5\" y=\"-357.3\" font-family=\"Helvetica,sans-Serif\" font-size=\"14.00\">class = New York</text>\n</g>\n<!-- 47&#45;&gt;48 -->\n<g id=\"edge48\" class=\"edge\">\n<title>47&#45;&gt;48</title>\n<path fill=\"none\" stroke=\"black\" d=\"M2557.5,-460.91C2557.5,-450.2 2557.5,-438.62 2557.5,-427.78\"/>\n<polygon fill=\"black\" stroke=\"black\" points=\"2561,-427.67 2557.5,-417.67 2554,-427.67 2561,-427.67\"/>\n</g>\n<!-- 49 -->\n<g id=\"node50\" class=\"node\">\n<title>49</title>\n<path fill=\"#eca06a\" stroke=\"black\" d=\"M2814,-425C2814,-425 2671,-425 2671,-425 2665,-425 2659,-419 2659,-413 2659,-413 2659,-354 2659,-354 2659,-348 2665,-342 2671,-342 2671,-342 2814,-342 2814,-342 2820,-342 2826,-348 2826,-354 2826,-354 2826,-413 2826,-413 2826,-419 2820,-425 2814,-425\"/>\n<text text-anchor=\"start\" x=\"2680.5\" y=\"-409.8\" font-family=\"Helvetica,sans-Serif\" font-size=\"14.00\">price ≤ 514499.5</text>\n<text text-anchor=\"start\" x=\"2703\" y=\"-394.8\" font-family=\"Helvetica,sans-Serif\" font-size=\"14.00\">gini = 0.32</text>\n<text text-anchor=\"start\" x=\"2698.5\" y=\"-379.8\" font-family=\"Helvetica,sans-Serif\" font-size=\"14.00\">samples = 5</text>\n<text text-anchor=\"start\" x=\"2694\" y=\"-364.8\" font-family=\"Helvetica,sans-Serif\" font-size=\"14.00\">value = [4, 1]</text>\n<text text-anchor=\"start\" x=\"2667\" y=\"-349.8\" font-family=\"Helvetica,sans-Serif\" font-size=\"14.00\">class = San Francisco</text>\n</g>\n<!-- 47&#45;&gt;49 -->\n<g id=\"edge49\" class=\"edge\">\n<title>47&#45;&gt;49</title>\n<path fill=\"none\" stroke=\"black\" d=\"M2621.68,-460.91C2637.18,-451.11 2653.85,-440.56 2669.71,-430.53\"/>\n<polygon fill=\"black\" stroke=\"black\" points=\"2671.85,-433.32 2678.43,-425.02 2668.11,-427.41 2671.85,-433.32\"/>\n</g>\n<!-- 50 -->\n<g id=\"node51\" class=\"node\">\n<title>50</title>\n<path fill=\"#e58139\" stroke=\"black\" d=\"M2814,-298.5C2814,-298.5 2671,-298.5 2671,-298.5 2665,-298.5 2659,-292.5 2659,-286.5 2659,-286.5 2659,-242.5 2659,-242.5 2659,-236.5 2665,-230.5 2671,-230.5 2671,-230.5 2814,-230.5 2814,-230.5 2820,-230.5 2826,-236.5 2826,-242.5 2826,-242.5 2826,-286.5 2826,-286.5 2826,-292.5 2820,-298.5 2814,-298.5\"/>\n<text text-anchor=\"start\" x=\"2707.5\" y=\"-283.3\" font-family=\"Helvetica,sans-Serif\" font-size=\"14.00\">gini = 0.0</text>\n<text text-anchor=\"start\" x=\"2698.5\" y=\"-268.3\" font-family=\"Helvetica,sans-Serif\" font-size=\"14.00\">samples = 3</text>\n<text text-anchor=\"start\" x=\"2694\" y=\"-253.3\" font-family=\"Helvetica,sans-Serif\" font-size=\"14.00\">value = [3, 0]</text>\n<text text-anchor=\"start\" x=\"2667\" y=\"-238.3\" font-family=\"Helvetica,sans-Serif\" font-size=\"14.00\">class = San Francisco</text>\n</g>\n<!-- 49&#45;&gt;50 -->\n<g id=\"edge50\" class=\"edge\">\n<title>49&#45;&gt;50</title>\n<path fill=\"none\" stroke=\"black\" d=\"M2742.5,-341.91C2742.5,-331.2 2742.5,-319.62 2742.5,-308.78\"/>\n<polygon fill=\"black\" stroke=\"black\" points=\"2746,-308.67 2742.5,-298.67 2739,-308.67 2746,-308.67\"/>\n</g>\n<!-- 51 -->\n<g id=\"node52\" class=\"node\">\n<title>51</title>\n<path fill=\"#ffffff\" stroke=\"black\" d=\"M2999,-306C2999,-306 2856,-306 2856,-306 2850,-306 2844,-300 2844,-294 2844,-294 2844,-235 2844,-235 2844,-229 2850,-223 2856,-223 2856,-223 2999,-223 2999,-223 3005,-223 3011,-229 3011,-235 3011,-235 3011,-294 3011,-294 3011,-300 3005,-306 2999,-306\"/>\n<text text-anchor=\"start\" x=\"2858\" y=\"-290.8\" font-family=\"Helvetica,sans-Serif\" font-size=\"14.00\">year_built ≤ 1952.5</text>\n<text text-anchor=\"start\" x=\"2892.5\" y=\"-275.8\" font-family=\"Helvetica,sans-Serif\" font-size=\"14.00\">gini = 0.5</text>\n<text text-anchor=\"start\" x=\"2883.5\" y=\"-260.8\" font-family=\"Helvetica,sans-Serif\" font-size=\"14.00\">samples = 2</text>\n<text text-anchor=\"start\" x=\"2879\" y=\"-245.8\" font-family=\"Helvetica,sans-Serif\" font-size=\"14.00\">value = [1, 1]</text>\n<text text-anchor=\"start\" x=\"2852\" y=\"-230.8\" font-family=\"Helvetica,sans-Serif\" font-size=\"14.00\">class = San Francisco</text>\n</g>\n<!-- 49&#45;&gt;51 -->\n<g id=\"edge51\" class=\"edge\">\n<title>49&#45;&gt;51</title>\n<path fill=\"none\" stroke=\"black\" d=\"M2806.68,-341.91C2822.18,-332.11 2838.85,-321.56 2854.71,-311.53\"/>\n<polygon fill=\"black\" stroke=\"black\" points=\"2856.85,-314.32 2863.43,-306.02 2853.11,-308.41 2856.85,-314.32\"/>\n</g>\n<!-- 52 -->\n<g id=\"node53\" class=\"node\">\n<title>52</title>\n<path fill=\"#e58139\" stroke=\"black\" d=\"M2999,-179.5C2999,-179.5 2856,-179.5 2856,-179.5 2850,-179.5 2844,-173.5 2844,-167.5 2844,-167.5 2844,-123.5 2844,-123.5 2844,-117.5 2850,-111.5 2856,-111.5 2856,-111.5 2999,-111.5 2999,-111.5 3005,-111.5 3011,-117.5 3011,-123.5 3011,-123.5 3011,-167.5 3011,-167.5 3011,-173.5 3005,-179.5 2999,-179.5\"/>\n<text text-anchor=\"start\" x=\"2892.5\" y=\"-164.3\" font-family=\"Helvetica,sans-Serif\" font-size=\"14.00\">gini = 0.0</text>\n<text text-anchor=\"start\" x=\"2883.5\" y=\"-149.3\" font-family=\"Helvetica,sans-Serif\" font-size=\"14.00\">samples = 1</text>\n<text text-anchor=\"start\" x=\"2879\" y=\"-134.3\" font-family=\"Helvetica,sans-Serif\" font-size=\"14.00\">value = [1, 0]</text>\n<text text-anchor=\"start\" x=\"2852\" y=\"-119.3\" font-family=\"Helvetica,sans-Serif\" font-size=\"14.00\">class = San Francisco</text>\n</g>\n<!-- 51&#45;&gt;52 -->\n<g id=\"edge52\" class=\"edge\">\n<title>51&#45;&gt;52</title>\n<path fill=\"none\" stroke=\"black\" d=\"M2927.5,-222.91C2927.5,-212.2 2927.5,-200.62 2927.5,-189.78\"/>\n<polygon fill=\"black\" stroke=\"black\" points=\"2931,-189.67 2927.5,-179.67 2924,-189.67 2931,-189.67\"/>\n</g>\n<!-- 53 -->\n<g id=\"node54\" class=\"node\">\n<title>53</title>\n<path fill=\"#399de5\" stroke=\"black\" d=\"M3153.5,-179.5C3153.5,-179.5 3041.5,-179.5 3041.5,-179.5 3035.5,-179.5 3029.5,-173.5 3029.5,-167.5 3029.5,-167.5 3029.5,-123.5 3029.5,-123.5 3029.5,-117.5 3035.5,-111.5 3041.5,-111.5 3041.5,-111.5 3153.5,-111.5 3153.5,-111.5 3159.5,-111.5 3165.5,-117.5 3165.5,-123.5 3165.5,-123.5 3165.5,-167.5 3165.5,-167.5 3165.5,-173.5 3159.5,-179.5 3153.5,-179.5\"/>\n<text text-anchor=\"start\" x=\"3062.5\" y=\"-164.3\" font-family=\"Helvetica,sans-Serif\" font-size=\"14.00\">gini = 0.0</text>\n<text text-anchor=\"start\" x=\"3053.5\" y=\"-149.3\" font-family=\"Helvetica,sans-Serif\" font-size=\"14.00\">samples = 1</text>\n<text text-anchor=\"start\" x=\"3049\" y=\"-134.3\" font-family=\"Helvetica,sans-Serif\" font-size=\"14.00\">value = [0, 1]</text>\n<text text-anchor=\"start\" x=\"3037.5\" y=\"-119.3\" font-family=\"Helvetica,sans-Serif\" font-size=\"14.00\">class = New York</text>\n</g>\n<!-- 51&#45;&gt;53 -->\n<g id=\"edge53\" class=\"edge\">\n<title>51&#45;&gt;53</title>\n<path fill=\"none\" stroke=\"black\" d=\"M2986.48,-222.91C3004.12,-210.77 3023.41,-197.49 3040.89,-185.46\"/>\n<polygon fill=\"black\" stroke=\"black\" points=\"3043.06,-188.22 3049.31,-179.67 3039.09,-182.45 3043.06,-188.22\"/>\n</g>\n</g>\n</svg>\n",
      "text/plain": [
       "<graphviz.sources.Source at 0x740256dd9a60>"
      ]
     },
     "execution_count": 292,
     "metadata": {},
     "output_type": "execute_result"
    }
   ],
   "execution_count": 292
  },
  {
   "cell_type": "markdown",
   "metadata": {},
   "source": [
    "Bepaal de invloed van het aantal lagen van de boom op de voorspellingsscore."
   ]
  },
  {
   "cell_type": "code",
   "metadata": {
    "tags": [
     "student"
    ],
    "ExecuteTime": {
     "end_time": "2024-10-01T15:51:14.122046Z",
     "start_time": "2024-10-01T15:51:14.118192Z"
    }
   },
   "source": [
    "model.score(features_test, target_test)"
   ],
   "outputs": [
    {
     "data": {
      "text/plain": [
       "0.9024390243902439"
      ]
     },
     "execution_count": 293,
     "metadata": {},
     "output_type": "execute_result"
    }
   ],
   "execution_count": 293
  },
  {
   "cell_type": "markdown",
   "metadata": {},
   "source": []
  },
  {
   "cell_type": "markdown",
   "metadata": {},
   "source": [
    "<a id = \"dt_opdracht2\"></a>\n",
    "## Opdracht 2\n",
    "\n",
    "In dit notebook wordt het onderliggende zelflerende algoritme van decision trees uitgelegd. Dit is gebaseerd op entropie. Je kunt in dit notebook zelf spelen met de werking van entropie om zo een beter gevoel te krijgen voor de werking van decision trees."
   ]
  },
  {
   "cell_type": "code",
   "metadata": {
    "ExecuteTime": {
     "end_time": "2024-10-01T15:51:14.170318Z",
     "start_time": "2024-10-01T15:51:14.168288Z"
    }
   },
   "source": [
    "import numpy as np\n",
    "import pandas as pd\n",
    "import matplotlib.pyplot as plt\n",
    "import graphviz\n",
    "import scipy.stats as st\n",
    "\n",
    "from sklearn.tree import DecisionTreeClassifier, export_graphviz\n",
    "from sklearn.model_selection import train_test_split\n",
    "from sklearn.metrics import accuracy_score"
   ],
   "outputs": [],
   "execution_count": 294
  },
  {
   "cell_type": "code",
   "metadata": {
    "ExecuteTime": {
     "end_time": "2024-10-01T15:51:14.219034Z",
     "start_time": "2024-10-01T15:51:14.215979Z"
    }
   },
   "source": [
    "weer = pd.DataFrame({'weertype': ['slecht', 'slecht', 'slecht', 'medium', 'mooi', 'medium', 'mooi'],\n",
    "                     'weerklasse': [0, 0, 0, 1, 2, 1, 2],\n",
    "                     'temperatuur': [3, 18, 32, 36, 19, 7, -10], \n",
    "                     'regen': [True, True, True, False, False, False, False]})"
   ],
   "outputs": [],
   "execution_count": 295
  },
  {
   "cell_type": "markdown",
   "metadata": {},
   "source": [
    "Entropie $E(S)$:\n",
    "\n",
    "$$E(S) = -\\sum_{i=1}^{c}p_{i}\\log_{2}(p_{i})$$\n",
    "\n",
    "Als er twee klassen zijn (dus $c = 2$ mogelijke waarden voor doelvariabele $S$), dan ligt de waarde van de entropie tussen de 0 (alles behoort tot één klasse) en 1 (meetwaarden zijn precies verdeeld over de twee klassen).\n",
    "\n",
    "NB. Als je het aandeel $p_1$ van de eerste klasse $c_1$ weet, dan weet je ook het aandeel $p_2 = 1 - p_1$ van de tweede klasse $c_2$. Bij méér dan twee klassen gaat dit natuurlijk niet meer op."
   ]
  },
  {
   "cell_type": "code",
   "metadata": {
    "ExecuteTime": {
     "end_time": "2024-10-01T15:51:14.326942Z",
     "start_time": "2024-10-01T15:51:14.267669Z"
    }
   },
   "source": [
    "fig, ax = plt.subplots(1, dpi=100)\n",
    "\n",
    "x = np.linspace(.001,.999,100)\n",
    "y = -x * np.log2(x) + -(1-x) * np.log2(1-x)\n",
    "ax.set_xlabel(r\"Aandeel van klasse $c_1$\")\n",
    "ax.set_ylabel(r\"Entropie $E(S)$\")\n",
    "\n",
    "plt.plot(x,y)\n",
    "plt.show()\n"
   ],
   "outputs": [
    {
     "data": {
      "text/plain": [
       "<Figure size 640x480 with 1 Axes>"
      ],
      "image/png": "[encoded data removed]"
     },
     "metadata": {},
     "output_type": "display_data"
    }
   ],
   "execution_count": 296
  },
  {
   "cell_type": "markdown",
   "metadata": {},
   "source": [
    "Bepaal met bovenstaande formule de entropie van doelvariabele `weertype`."
   ]
  },
  {
   "cell_type": "code",
   "metadata": {
    "ExecuteTime": {
     "end_time": "2024-10-01T15:51:14.350923Z",
     "start_time": "2024-10-01T15:51:14.347255Z"
    }
   },
   "source": [
    "weer"
   ],
   "outputs": [
    {
     "data": {
      "text/plain": [
       "  weertype  weerklasse  temperatuur  regen\n",
       "0   slecht           0            3   True\n",
       "1   slecht           0           18   True\n",
       "2   slecht           0           32   True\n",
       "3   medium           1           36  False\n",
       "4     mooi           2           19  False\n",
       "5   medium           1            7  False\n",
       "6     mooi           2          -10  False"
      ],
      "text/html": [
       "<div>\n",
       "<style scoped>\n",
       "    .dataframe tbody tr th:only-of-type {\n",
       "        vertical-align: middle;\n",
       "    }\n",
       "\n",
       "    .dataframe tbody tr th {\n",
       "        vertical-align: top;\n",
       "    }\n",
       "\n",
       "    .dataframe thead th {\n",
       "        text-align: right;\n",
       "    }\n",
       "</style>\n",
       "<table border=\"1\" class=\"dataframe\">\n",
       "  <thead>\n",
       "    <tr style=\"text-align: right;\">\n",
       "      <th></th>\n",
       "      <th>weertype</th>\n",
       "      <th>weerklasse</th>\n",
       "      <th>temperatuur</th>\n",
       "      <th>regen</th>\n",
       "    </tr>\n",
       "  </thead>\n",
       "  <tbody>\n",
       "    <tr>\n",
       "      <th>0</th>\n",
       "      <td>slecht</td>\n",
       "      <td>0</td>\n",
       "      <td>3</td>\n",
       "      <td>True</td>\n",
       "    </tr>\n",
       "    <tr>\n",
       "      <th>1</th>\n",
       "      <td>slecht</td>\n",
       "      <td>0</td>\n",
       "      <td>18</td>\n",
       "      <td>True</td>\n",
       "    </tr>\n",
       "    <tr>\n",
       "      <th>2</th>\n",
       "      <td>slecht</td>\n",
       "      <td>0</td>\n",
       "      <td>32</td>\n",
       "      <td>True</td>\n",
       "    </tr>\n",
       "    <tr>\n",
       "      <th>3</th>\n",
       "      <td>medium</td>\n",
       "      <td>1</td>\n",
       "      <td>36</td>\n",
       "      <td>False</td>\n",
       "    </tr>\n",
       "    <tr>\n",
       "      <th>4</th>\n",
       "      <td>mooi</td>\n",
       "      <td>2</td>\n",
       "      <td>19</td>\n",
       "      <td>False</td>\n",
       "    </tr>\n",
       "    <tr>\n",
       "      <th>5</th>\n",
       "      <td>medium</td>\n",
       "      <td>1</td>\n",
       "      <td>7</td>\n",
       "      <td>False</td>\n",
       "    </tr>\n",
       "    <tr>\n",
       "      <th>6</th>\n",
       "      <td>mooi</td>\n",
       "      <td>2</td>\n",
       "      <td>-10</td>\n",
       "      <td>False</td>\n",
       "    </tr>\n",
       "  </tbody>\n",
       "</table>\n",
       "</div>"
      ]
     },
     "execution_count": 297,
     "metadata": {},
     "output_type": "execute_result"
    }
   ],
   "execution_count": 297
  },
  {
   "cell_type": "code",
   "metadata": {
    "ExecuteTime": {
     "end_time": "2024-10-01T15:51:14.387030Z",
     "start_time": "2024-10-01T15:51:14.384511Z"
    }
   },
   "source": [
    "# Entropie voor weertype [slecht, medium, mooi]\n",
    "# Berekening 1\n",
    "E_weertype = - ((3/7) * np.log2(3/7) + (2/7) * np.log2(2/7) + (2/7) * np.log2(2/7))\n",
    "E_weertype"
   ],
   "outputs": [
    {
     "data": {
      "text/plain": [
       "1.5566567074628228"
      ]
     },
     "execution_count": 298,
     "metadata": {},
     "output_type": "execute_result"
    }
   ],
   "execution_count": 298
  },
  {
   "cell_type": "code",
   "metadata": {
    "ExecuteTime": {
     "end_time": "2024-10-01T15:51:14.438045Z",
     "start_time": "2024-10-01T15:51:14.435173Z"
    }
   },
   "source": [
    "# Berekening 2\n",
    "st.entropy([3,2,2], base=2)"
   ],
   "outputs": [
    {
     "data": {
      "text/plain": [
       "1.556656707462823"
      ]
     },
     "execution_count": 299,
     "metadata": {},
     "output_type": "execute_result"
    }
   ],
   "execution_count": 299
  },
  {
   "cell_type": "code",
   "metadata": {
    "ExecuteTime": {
     "end_time": "2024-10-01T15:51:14.505300Z",
     "start_time": "2024-10-01T15:51:14.501885Z"
    }
   },
   "source": [
    "# Berekening 3\n",
    "st.entropy(weer.groupby('weertype').count()['weerklasse'], base=2)"
   ],
   "outputs": [
    {
     "data": {
      "text/plain": [
       "1.556656707462823"
      ]
     },
     "execution_count": 300,
     "metadata": {},
     "output_type": "execute_result"
    }
   ],
   "execution_count": 300
  },
  {
   "cell_type": "markdown",
   "metadata": {},
   "source": [
    "### Split 1. Regen of temperatuur?"
   ]
  },
  {
   "cell_type": "markdown",
   "metadata": {},
   "source": [
    "Bereken de entropie en information gain bij een split op `regen`."
   ]
  },
  {
   "metadata": {
    "ExecuteTime": {
     "end_time": "2024-10-01T16:00:36.314175Z",
     "start_time": "2024-10-01T16:00:36.310352Z"
    }
   },
   "cell_type": "code",
   "source": "weer",
   "outputs": [
    {
     "data": {
      "text/plain": [
       "  weertype  weerklasse  temperatuur  regen\n",
       "0   slecht           0            3   True\n",
       "1   slecht           0           18   True\n",
       "2   slecht           0           32   True\n",
       "3   medium           1           36  False\n",
       "4     mooi           2           19  False\n",
       "5   medium           1            7  False\n",
       "6     mooi           2          -10  False"
      ],
      "text/html": [
       "<div>\n",
       "<style scoped>\n",
       "    .dataframe tbody tr th:only-of-type {\n",
       "        vertical-align: middle;\n",
       "    }\n",
       "\n",
       "    .dataframe tbody tr th {\n",
       "        vertical-align: top;\n",
       "    }\n",
       "\n",
       "    .dataframe thead th {\n",
       "        text-align: right;\n",
       "    }\n",
       "</style>\n",
       "<table border=\"1\" class=\"dataframe\">\n",
       "  <thead>\n",
       "    <tr style=\"text-align: right;\">\n",
       "      <th></th>\n",
       "      <th>weertype</th>\n",
       "      <th>weerklasse</th>\n",
       "      <th>temperatuur</th>\n",
       "      <th>regen</th>\n",
       "    </tr>\n",
       "  </thead>\n",
       "  <tbody>\n",
       "    <tr>\n",
       "      <th>0</th>\n",
       "      <td>slecht</td>\n",
       "      <td>0</td>\n",
       "      <td>3</td>\n",
       "      <td>True</td>\n",
       "    </tr>\n",
       "    <tr>\n",
       "      <th>1</th>\n",
       "      <td>slecht</td>\n",
       "      <td>0</td>\n",
       "      <td>18</td>\n",
       "      <td>True</td>\n",
       "    </tr>\n",
       "    <tr>\n",
       "      <th>2</th>\n",
       "      <td>slecht</td>\n",
       "      <td>0</td>\n",
       "      <td>32</td>\n",
       "      <td>True</td>\n",
       "    </tr>\n",
       "    <tr>\n",
       "      <th>3</th>\n",
       "      <td>medium</td>\n",
       "      <td>1</td>\n",
       "      <td>36</td>\n",
       "      <td>False</td>\n",
       "    </tr>\n",
       "    <tr>\n",
       "      <th>4</th>\n",
       "      <td>mooi</td>\n",
       "      <td>2</td>\n",
       "      <td>19</td>\n",
       "      <td>False</td>\n",
       "    </tr>\n",
       "    <tr>\n",
       "      <th>5</th>\n",
       "      <td>medium</td>\n",
       "      <td>1</td>\n",
       "      <td>7</td>\n",
       "      <td>False</td>\n",
       "    </tr>\n",
       "    <tr>\n",
       "      <th>6</th>\n",
       "      <td>mooi</td>\n",
       "      <td>2</td>\n",
       "      <td>-10</td>\n",
       "      <td>False</td>\n",
       "    </tr>\n",
       "  </tbody>\n",
       "</table>\n",
       "</div>"
      ]
     },
     "execution_count": 312,
     "metadata": {},
     "output_type": "execute_result"
    }
   ],
   "execution_count": 312
  },
  {
   "cell_type": "code",
   "metadata": {
    "ExecuteTime": {
     "end_time": "2024-10-01T15:51:14.560393Z",
     "start_time": "2024-10-01T15:51:14.557645Z"
    }
   },
   "source": [
    "weather_rain_true = weer[weer[\"regen\"] == True]\n",
    "weather_rain_false = weer[weer[\"regen\"] == False]"
   ],
   "outputs": [],
   "execution_count": 301
  },
  {
   "metadata": {
    "ExecuteTime": {
     "end_time": "2024-10-01T15:51:14.608310Z",
     "start_time": "2024-10-01T15:51:14.606453Z"
    }
   },
   "cell_type": "code",
   "source": [
    "entropy_weather_type = -((3/7 * np.log2(3/7)) + (2/7 * np.log2(2/7)) + (2/7 * np.log2(2/7)))\n",
    "\n",
    "entropy_rain_true = -(1 / 1 * np.log2(1 / 1))\n",
    "entropy_rain_false = -((2/4 * np.log2(2/4)) + (2/4 * np.log2(2/4)))\n",
    "\n",
    "information_gain_rain = entropy_weather_type - ((3/7 * entropy_rain_true) + (4/7 * entropy_rain_false)) "
   ],
   "outputs": [],
   "execution_count": 302
  },
  {
   "metadata": {
    "ExecuteTime": {
     "end_time": "2024-10-01T15:51:14.660015Z",
     "start_time": "2024-10-01T15:51:14.657781Z"
    }
   },
   "cell_type": "code",
   "source": "information_gain_rain",
   "outputs": [
    {
     "data": {
      "text/plain": [
       "0.9852281360342514"
      ]
     },
     "execution_count": 303,
     "metadata": {},
     "output_type": "execute_result"
    }
   ],
   "execution_count": 303
  },
  {
   "cell_type": "markdown",
   "metadata": {},
   "source": [
    "We kunnen ook splitten op `temperatuur` op veel verschillende manieren. Bereken alleen de entropie en de information gain bij een split op `temperatuur` bij 20 graden."
   ]
  },
  {
   "metadata": {
    "ExecuteTime": {
     "end_time": "2024-10-01T16:00:42.247629Z",
     "start_time": "2024-10-01T16:00:42.243821Z"
    }
   },
   "cell_type": "code",
   "source": "weer",
   "outputs": [
    {
     "data": {
      "text/plain": [
       "  weertype  weerklasse  temperatuur  regen\n",
       "0   slecht           0            3   True\n",
       "1   slecht           0           18   True\n",
       "2   slecht           0           32   True\n",
       "3   medium           1           36  False\n",
       "4     mooi           2           19  False\n",
       "5   medium           1            7  False\n",
       "6     mooi           2          -10  False"
      ],
      "text/html": [
       "<div>\n",
       "<style scoped>\n",
       "    .dataframe tbody tr th:only-of-type {\n",
       "        vertical-align: middle;\n",
       "    }\n",
       "\n",
       "    .dataframe tbody tr th {\n",
       "        vertical-align: top;\n",
       "    }\n",
       "\n",
       "    .dataframe thead th {\n",
       "        text-align: right;\n",
       "    }\n",
       "</style>\n",
       "<table border=\"1\" class=\"dataframe\">\n",
       "  <thead>\n",
       "    <tr style=\"text-align: right;\">\n",
       "      <th></th>\n",
       "      <th>weertype</th>\n",
       "      <th>weerklasse</th>\n",
       "      <th>temperatuur</th>\n",
       "      <th>regen</th>\n",
       "    </tr>\n",
       "  </thead>\n",
       "  <tbody>\n",
       "    <tr>\n",
       "      <th>0</th>\n",
       "      <td>slecht</td>\n",
       "      <td>0</td>\n",
       "      <td>3</td>\n",
       "      <td>True</td>\n",
       "    </tr>\n",
       "    <tr>\n",
       "      <th>1</th>\n",
       "      <td>slecht</td>\n",
       "      <td>0</td>\n",
       "      <td>18</td>\n",
       "      <td>True</td>\n",
       "    </tr>\n",
       "    <tr>\n",
       "      <th>2</th>\n",
       "      <td>slecht</td>\n",
       "      <td>0</td>\n",
       "      <td>32</td>\n",
       "      <td>True</td>\n",
       "    </tr>\n",
       "    <tr>\n",
       "      <th>3</th>\n",
       "      <td>medium</td>\n",
       "      <td>1</td>\n",
       "      <td>36</td>\n",
       "      <td>False</td>\n",
       "    </tr>\n",
       "    <tr>\n",
       "      <th>4</th>\n",
       "      <td>mooi</td>\n",
       "      <td>2</td>\n",
       "      <td>19</td>\n",
       "      <td>False</td>\n",
       "    </tr>\n",
       "    <tr>\n",
       "      <th>5</th>\n",
       "      <td>medium</td>\n",
       "      <td>1</td>\n",
       "      <td>7</td>\n",
       "      <td>False</td>\n",
       "    </tr>\n",
       "    <tr>\n",
       "      <th>6</th>\n",
       "      <td>mooi</td>\n",
       "      <td>2</td>\n",
       "      <td>-10</td>\n",
       "      <td>False</td>\n",
       "    </tr>\n",
       "  </tbody>\n",
       "</table>\n",
       "</div>"
      ]
     },
     "execution_count": 313,
     "metadata": {},
     "output_type": "execute_result"
    }
   ],
   "execution_count": 313
  },
  {
   "cell_type": "code",
   "metadata": {
    "tags": [
     "student"
    ],
    "ExecuteTime": {
     "end_time": "2024-10-01T15:51:14.709502Z",
     "start_time": "2024-10-01T15:51:14.706844Z"
    }
   },
   "source": [
    "weather_temperature_above = weer[weer[\"temperatuur\"] > 20]\n",
    "weather_temperature_below = weer[weer[\"temperatuur\"] <= 20]"
   ],
   "outputs": [],
   "execution_count": 304
  },
  {
   "metadata": {
    "ExecuteTime": {
     "end_time": "2024-10-01T15:51:14.755142Z",
     "start_time": "2024-10-01T15:51:14.752903Z"
    }
   },
   "cell_type": "code",
   "source": [
    "entropy_weather_type = -((3/7 * np.log2(3/7)) + (2/7 * np.log2(2/7)) + (2/7 * np.log2(2/7)))\n",
    "\n",
    "entropy_temperature_above = -((1/2 * np.log2(1/2)) + (1/2 * np.log2(1/2)))\n",
    "entropy_temperature_below = -((2/5 * np.log2(2/5)) + (2/5 * np.log2(2/5)) + (1/5 * np.log2(1/5)))\n",
    "\n",
    "information_gain_temperature = entropy_weather_type - ((2/7 * entropy_temperature_above) + (5/7 * entropy_temperature_below))"
   ],
   "outputs": [],
   "execution_count": 305
  },
  {
   "metadata": {
    "ExecuteTime": {
     "end_time": "2024-10-01T15:51:14.806575Z",
     "start_time": "2024-10-01T15:51:14.804117Z"
    }
   },
   "cell_type": "code",
   "source": "information_gain_temperature",
   "outputs": [
    {
     "data": {
      "text/plain": [
       "0.18385092540042125"
      ]
     },
     "execution_count": 306,
     "metadata": {},
     "output_type": "execute_result"
    }
   ],
   "execution_count": 306
  },
  {
   "metadata": {},
   "cell_type": "markdown",
   "source": "Welke split is het beste?"
  },
  {
   "cell_type": "markdown",
   "metadata": {},
   "source": [
    "### Split 2. Welke temperatuur?\n",
    "\n",
    "Bereken ná een split op `regen` (dus als tweede laag) de entropie bij een split op `temperatuur` met de scheiding bij $t = 0$, $t = 10$ en $t = 20$ graden."
   ]
  },
  {
   "cell_type": "markdown",
   "metadata": {},
   "source": [
    "Welke split is het beste?"
   ]
  },
  {
   "metadata": {
    "ExecuteTime": {
     "end_time": "2024-10-01T16:04:53.022523Z",
     "start_time": "2024-10-01T16:04:53.018288Z"
    }
   },
   "cell_type": "code",
   "source": "t = 0",
   "outputs": [],
   "execution_count": 315
  },
  {
   "metadata": {
    "ExecuteTime": {
     "end_time": "2024-10-01T16:04:53.503587Z",
     "start_time": "2024-10-01T16:04:53.499631Z"
    }
   },
   "cell_type": "code",
   "source": "weather_rain_true",
   "outputs": [
    {
     "data": {
      "text/plain": [
       "  weertype  weerklasse  temperatuur  regen\n",
       "0   slecht           0            3   True\n",
       "1   slecht           0           18   True\n",
       "2   slecht           0           32   True"
      ],
      "text/html": [
       "<div>\n",
       "<style scoped>\n",
       "    .dataframe tbody tr th:only-of-type {\n",
       "        vertical-align: middle;\n",
       "    }\n",
       "\n",
       "    .dataframe tbody tr th {\n",
       "        vertical-align: top;\n",
       "    }\n",
       "\n",
       "    .dataframe thead th {\n",
       "        text-align: right;\n",
       "    }\n",
       "</style>\n",
       "<table border=\"1\" class=\"dataframe\">\n",
       "  <thead>\n",
       "    <tr style=\"text-align: right;\">\n",
       "      <th></th>\n",
       "      <th>weertype</th>\n",
       "      <th>weerklasse</th>\n",
       "      <th>temperatuur</th>\n",
       "      <th>regen</th>\n",
       "    </tr>\n",
       "  </thead>\n",
       "  <tbody>\n",
       "    <tr>\n",
       "      <th>0</th>\n",
       "      <td>slecht</td>\n",
       "      <td>0</td>\n",
       "      <td>3</td>\n",
       "      <td>True</td>\n",
       "    </tr>\n",
       "    <tr>\n",
       "      <th>1</th>\n",
       "      <td>slecht</td>\n",
       "      <td>0</td>\n",
       "      <td>18</td>\n",
       "      <td>True</td>\n",
       "    </tr>\n",
       "    <tr>\n",
       "      <th>2</th>\n",
       "      <td>slecht</td>\n",
       "      <td>0</td>\n",
       "      <td>32</td>\n",
       "      <td>True</td>\n",
       "    </tr>\n",
       "  </tbody>\n",
       "</table>\n",
       "</div>"
      ]
     },
     "execution_count": 316,
     "metadata": {},
     "output_type": "execute_result"
    }
   ],
   "execution_count": 316
  },
  {
   "metadata": {
    "ExecuteTime": {
     "end_time": "2024-10-01T16:04:54.085251Z",
     "start_time": "2024-10-01T16:04:54.082896Z"
    }
   },
   "cell_type": "code",
   "source": [
    "weather_rain_low_above = weather_rain_true[weather_rain_true[\"temperatuur\"] > t]\n",
    "weather_rain_low_below = weather_rain_true[weather_rain_true[\"temperatuur\"] <= t]"
   ],
   "outputs": [],
   "execution_count": 317
  },
  {
   "metadata": {},
   "cell_type": "code",
   "outputs": [],
   "execution_count": null,
   "source": "entropy_rain_true = "
  },
  {
   "metadata": {},
   "cell_type": "code",
   "outputs": [],
   "execution_count": null,
   "source": ""
  },
  {
   "metadata": {},
   "cell_type": "code",
   "outputs": [],
   "execution_count": null,
   "source": ""
  },
  {
   "metadata": {},
   "cell_type": "code",
   "outputs": [],
   "execution_count": null,
   "source": ""
  },
  {
   "metadata": {},
   "cell_type": "code",
   "outputs": [],
   "execution_count": null,
   "source": ""
  },
  {
   "metadata": {},
   "cell_type": "code",
   "outputs": [],
   "execution_count": null,
   "source": ""
  },
  {
   "cell_type": "markdown",
   "metadata": {},
   "source": [
    "### Decision Tree\n",
    "\n",
    "Maak de decision tree met `DecisionTreeClassifier`. Kies als parameter `criterion='entropy'`."
   ]
  },
  {
   "cell_type": "code",
   "metadata": {
    "tags": [
     "student"
    ],
    "ExecuteTime": {
     "end_time": "2024-10-01T15:51:14.911316Z",
     "start_time": "2024-10-01T15:51:14.909612Z"
    }
   },
   "source": [],
   "outputs": [],
   "execution_count": null
  },
  {
   "cell_type": "markdown",
   "metadata": {},
   "source": [
    "Visualisatie van de decision tree met GraphViz."
   ]
  },
  {
   "cell_type": "code",
   "metadata": {
    "tags": [
     "student"
    ],
    "ExecuteTime": {
     "end_time": "2024-10-01T15:51:14.957644Z",
     "start_time": "2024-10-01T15:51:14.956225Z"
    }
   },
   "source": [],
   "outputs": [],
   "execution_count": null
  },
  {
   "cell_type": "markdown",
   "metadata": {},
   "source": [
    "<a id=\"dt_opdracht3\"></a>\n",
    "## Opdracht 3 - German Credit Data"
   ]
  },
  {
   "cell_type": "markdown",
   "metadata": {},
   "source": [
    "Voor deze oefening kijken we naar de data set 'german'. Deze data set bevat gegevens van een Duitse bank over mensen die een lening aanvragen. De vraag is of de bank ze deze lening wil verstrekken. Dat doet de bank alleen als er een grote kans is dat mensen de lening kunnen terugbetalen. Wij gaan hiervoor een beslisboom algoritme bouwen."
   ]
  },
  {
   "cell_type": "markdown",
   "metadata": {},
   "source": [
    "#### Initialisatie\n",
    "In de cell hieronder zetten we alle statements die packages inladen netjes bij elkaar. In de loop van het college zullen we hier nog een en ander aan toe moeten voegen."
   ]
  },
  {
   "cell_type": "code",
   "metadata": {
    "ExecuteTime": {
     "end_time": "2024-10-01T15:51:15.001437Z",
     "start_time": "2024-10-01T15:51:14.999417Z"
    }
   },
   "source": [
    "import numpy as np\n",
    "import pandas as pd\n",
    "import matplotlib.pyplot as plt\n",
    "from sklearn.datasets import load_digits\n",
    "from sklearn.model_selection import train_test_split\n",
    "from sklearn.metrics import accuracy_score\n",
    "from sklearn.tree import DecisionTreeClassifier\n",
    "from sklearn import tree"
   ],
   "outputs": [],
   "execution_count": 307
  },
  {
   "cell_type": "markdown",
   "metadata": {},
   "source": [
    "### Data understanding\n",
    "We gaan nu kijken naar de data set 'german.data'. De data staat op Canvas. Daar staat ook het data dictionary van de data set: hierin wordt uitgelegd wat de betekenis is van alle attributen.\n",
    "\n",
    "Lees de data set in, bekijk de data set en krijg een eerste gevoel bij deze data. Zorg dat je in ieder geval de volgende zaken helder hebt:\n",
    "- Wat zijn de meetniveau's van alle attributen?\n",
    "- Zijn er attributen met *rare* waardes?"
   ]
  },
  {
   "cell_type": "code",
   "metadata": {
    "ExecuteTime": {
     "end_time": "2024-10-01T15:51:15.046016Z",
     "start_time": "2024-10-01T15:51:15.042600Z"
    }
   },
   "source": [
    "german = pd.read_csv('german.data', sep = ' ', quotechar = \"'\")"
   ],
   "outputs": [],
   "execution_count": 308
  },
  {
   "cell_type": "code",
   "metadata": {
    "ExecuteTime": {
     "end_time": "2024-10-01T15:51:15.096669Z",
     "start_time": "2024-10-01T15:51:15.087436Z"
    }
   },
   "source": [
    "pd.set_option('display.max_columns', None)\n",
    "german.head()"
   ],
   "outputs": [
    {
     "data": {
      "text/plain": [
       "  Euros op rekening   Duur Lening  Leengeschiedenis Doel vd Lening   \\\n",
       "0               A11              6              A34             A43   \n",
       "1               A12             48              A32             A43   \n",
       "2               A14             12              A34             A46   \n",
       "3               A11             42              A32             A42   \n",
       "4               A11             24              A33             A40   \n",
       "\n",
       "    Bedrag Lening Bedrag op spaarrekening Duur huidige baan  \\\n",
       "0            1169                     A65               A75   \n",
       "1            5951                     A61               A73   \n",
       "2            2096                     A61               A74   \n",
       "3            7882                     A61               A74   \n",
       "4            4870                     A61               A73   \n",
       "\n",
       "   lening als perc van inkomen  persoonlijke status overige schuldeisers  \\\n",
       "0                             4                 A93                 A101   \n",
       "1                             2                 A92                 A101   \n",
       "2                             2                 A93                 A101   \n",
       "3                             2                 A93                 A103   \n",
       "4                             3                 A93                 A101   \n",
       "\n",
       "   huidige woning sinds  eigendom  leeftijd  andere leningen huisvesting  \\\n",
       "0                      4     A121       67.0            A143        A152   \n",
       "1                      2     A121       22.0            A143        A152   \n",
       "2                      3     A121       49.0            A143        A152   \n",
       "3                      4     A122       45.0            A143        A153   \n",
       "4                      4     A124       53.0            A143        A153   \n",
       "\n",
       "   aantal leningen  baan  verantwoordelijk voor  telefoon  \\\n",
       "0                2  A173                       1     A192   \n",
       "1                1  A173                       1     A191   \n",
       "2                1  A172                       2     A191   \n",
       "3                1  A173                       2     A191   \n",
       "4                2  A173                       2     A191   \n",
       "\n",
       "  buitenlandse werknemer  lening terugbetaald  \n",
       "0                   A201                    1  \n",
       "1                   A201                    2  \n",
       "2                   A201                    1  \n",
       "3                   A201                    1  \n",
       "4                   A201                    2  "
      ],
      "text/html": [
       "<div>\n",
       "<style scoped>\n",
       "    .dataframe tbody tr th:only-of-type {\n",
       "        vertical-align: middle;\n",
       "    }\n",
       "\n",
       "    .dataframe tbody tr th {\n",
       "        vertical-align: top;\n",
       "    }\n",
       "\n",
       "    .dataframe thead th {\n",
       "        text-align: right;\n",
       "    }\n",
       "</style>\n",
       "<table border=\"1\" class=\"dataframe\">\n",
       "  <thead>\n",
       "    <tr style=\"text-align: right;\">\n",
       "      <th></th>\n",
       "      <th>Euros op rekening</th>\n",
       "      <th>Duur Lening</th>\n",
       "      <th>Leengeschiedenis</th>\n",
       "      <th>Doel vd Lening</th>\n",
       "      <th>Bedrag Lening</th>\n",
       "      <th>Bedrag op spaarrekening</th>\n",
       "      <th>Duur huidige baan</th>\n",
       "      <th>lening als perc van inkomen</th>\n",
       "      <th>persoonlijke status</th>\n",
       "      <th>overige schuldeisers</th>\n",
       "      <th>huidige woning sinds</th>\n",
       "      <th>eigendom</th>\n",
       "      <th>leeftijd</th>\n",
       "      <th>andere leningen</th>\n",
       "      <th>huisvesting</th>\n",
       "      <th>aantal leningen</th>\n",
       "      <th>baan</th>\n",
       "      <th>verantwoordelijk voor</th>\n",
       "      <th>telefoon</th>\n",
       "      <th>buitenlandse werknemer</th>\n",
       "      <th>lening terugbetaald</th>\n",
       "    </tr>\n",
       "  </thead>\n",
       "  <tbody>\n",
       "    <tr>\n",
       "      <th>0</th>\n",
       "      <td>A11</td>\n",
       "      <td>6</td>\n",
       "      <td>A34</td>\n",
       "      <td>A43</td>\n",
       "      <td>1169</td>\n",
       "      <td>A65</td>\n",
       "      <td>A75</td>\n",
       "      <td>4</td>\n",
       "      <td>A93</td>\n",
       "      <td>A101</td>\n",
       "      <td>4</td>\n",
       "      <td>A121</td>\n",
       "      <td>67.0</td>\n",
       "      <td>A143</td>\n",
       "      <td>A152</td>\n",
       "      <td>2</td>\n",
       "      <td>A173</td>\n",
       "      <td>1</td>\n",
       "      <td>A192</td>\n",
       "      <td>A201</td>\n",
       "      <td>1</td>\n",
       "    </tr>\n",
       "    <tr>\n",
       "      <th>1</th>\n",
       "      <td>A12</td>\n",
       "      <td>48</td>\n",
       "      <td>A32</td>\n",
       "      <td>A43</td>\n",
       "      <td>5951</td>\n",
       "      <td>A61</td>\n",
       "      <td>A73</td>\n",
       "      <td>2</td>\n",
       "      <td>A92</td>\n",
       "      <td>A101</td>\n",
       "      <td>2</td>\n",
       "      <td>A121</td>\n",
       "      <td>22.0</td>\n",
       "      <td>A143</td>\n",
       "      <td>A152</td>\n",
       "      <td>1</td>\n",
       "      <td>A173</td>\n",
       "      <td>1</td>\n",
       "      <td>A191</td>\n",
       "      <td>A201</td>\n",
       "      <td>2</td>\n",
       "    </tr>\n",
       "    <tr>\n",
       "      <th>2</th>\n",
       "      <td>A14</td>\n",
       "      <td>12</td>\n",
       "      <td>A34</td>\n",
       "      <td>A46</td>\n",
       "      <td>2096</td>\n",
       "      <td>A61</td>\n",
       "      <td>A74</td>\n",
       "      <td>2</td>\n",
       "      <td>A93</td>\n",
       "      <td>A101</td>\n",
       "      <td>3</td>\n",
       "      <td>A121</td>\n",
       "      <td>49.0</td>\n",
       "      <td>A143</td>\n",
       "      <td>A152</td>\n",
       "      <td>1</td>\n",
       "      <td>A172</td>\n",
       "      <td>2</td>\n",
       "      <td>A191</td>\n",
       "      <td>A201</td>\n",
       "      <td>1</td>\n",
       "    </tr>\n",
       "    <tr>\n",
       "      <th>3</th>\n",
       "      <td>A11</td>\n",
       "      <td>42</td>\n",
       "      <td>A32</td>\n",
       "      <td>A42</td>\n",
       "      <td>7882</td>\n",
       "      <td>A61</td>\n",
       "      <td>A74</td>\n",
       "      <td>2</td>\n",
       "      <td>A93</td>\n",
       "      <td>A103</td>\n",
       "      <td>4</td>\n",
       "      <td>A122</td>\n",
       "      <td>45.0</td>\n",
       "      <td>A143</td>\n",
       "      <td>A153</td>\n",
       "      <td>1</td>\n",
       "      <td>A173</td>\n",
       "      <td>2</td>\n",
       "      <td>A191</td>\n",
       "      <td>A201</td>\n",
       "      <td>1</td>\n",
       "    </tr>\n",
       "    <tr>\n",
       "      <th>4</th>\n",
       "      <td>A11</td>\n",
       "      <td>24</td>\n",
       "      <td>A33</td>\n",
       "      <td>A40</td>\n",
       "      <td>4870</td>\n",
       "      <td>A61</td>\n",
       "      <td>A73</td>\n",
       "      <td>3</td>\n",
       "      <td>A93</td>\n",
       "      <td>A101</td>\n",
       "      <td>4</td>\n",
       "      <td>A124</td>\n",
       "      <td>53.0</td>\n",
       "      <td>A143</td>\n",
       "      <td>A153</td>\n",
       "      <td>2</td>\n",
       "      <td>A173</td>\n",
       "      <td>2</td>\n",
       "      <td>A191</td>\n",
       "      <td>A201</td>\n",
       "      <td>2</td>\n",
       "    </tr>\n",
       "  </tbody>\n",
       "</table>\n",
       "</div>"
      ]
     },
     "execution_count": 309,
     "metadata": {},
     "output_type": "execute_result"
    }
   ],
   "execution_count": 309
  },
  {
   "cell_type": "code",
   "metadata": {
    "ExecuteTime": {
     "end_time": "2024-10-01T15:51:15.161559Z",
     "start_time": "2024-10-01T15:51:15.158610Z"
    }
   },
   "source": [],
   "outputs": [],
   "execution_count": null
  },
  {
   "cell_type": "markdown",
   "metadata": {},
   "source": [
    "Maak nu een boxplot van de leeftijd. Merk op dat standaard toepassen van plt.boxplot niet lukt als gevolg van de missende waarden in de data. Hoe kunnen we nu wel zo'n boxplot krijgen?\n",
    "\n",
    "Trek ook conclusies over eventuele uitschieters en of we *iets* moeten doen met die uitschieters."
   ]
  },
  {
   "cell_type": "code",
   "metadata": {
    "ExecuteTime": {
     "end_time": "2024-10-01T15:51:15.207535Z",
     "start_time": "2024-10-01T15:51:15.205919Z"
    }
   },
   "source": [],
   "outputs": [],
   "execution_count": null
  },
  {
   "cell_type": "markdown",
   "metadata": {},
   "source": [
    "We gaan straks proberen een beslisboom te maken die voorspeld aan wie de bank zonder veel risico een lening kan verstrekken op basis van deze data. Probeer de target feature te vinden en maak een staafdiagram ('bar chart') voor deze feature. In dit staafdiagram moet je duidelijk kunnen aflezen hoe vaak de target feature welke waarde aanneemt. "
   ]
  },
  {
   "cell_type": "code",
   "metadata": {
    "ExecuteTime": {
     "end_time": "2024-10-01T15:51:15.230004Z",
     "start_time": "2024-10-01T15:51:15.228597Z"
    }
   },
   "source": [],
   "outputs": [],
   "execution_count": null
  },
  {
   "cell_type": "markdown",
   "metadata": {},
   "source": [
    "### Data preparation\n",
    "We gaan de dataset nu klaarstomen voor een decision tree met behulp van een aantal opschoningsacties.\n",
    "\n",
    "Niet alleen de waardes van een attribuut kunnen *rotzooi* bevatten, ook de attribuutnamen ofwel kolomnamen. Als er spaties in de kolomnaam staan, dan kun je niet meer gebruik maken van de dot-notatie van pandas. Kijk bijvoorbeeld maar eens naar het attribuut *leeftijd*. Bij opdracht 2. heb je waarschijnlijk al gemerkt dat de kolomnaam eigenlijk 'leeftijd ' is met een extra spatie die daar op een of andere manier ingekomen is. Waarschijnlijk bij het exporteren van een Excelsheet naar een CSV bestand... \n",
    "\n",
    "Anyway, dit spatie moet weg! Je kunt bijvoorbeeld niet de kolom leeftijd selecteren door german.leeftijd. Wat wel altijd werkt is het selecteren van kolommen door middel van de brackets [], bijvoorbeeld german['leeftijd ']. Maar stel dat we nu gewoon de kolomnaam van leeftijd willen hernoemen en de spatie weghalen, hoe kunnen we dit doen?"
   ]
  },
  {
   "cell_type": "code",
   "metadata": {
    "ExecuteTime": {
     "end_time": "2024-10-01T15:51:15.274972Z",
     "start_time": "2024-10-01T15:51:15.273507Z"
    }
   },
   "source": [],
   "outputs": [],
   "execution_count": null
  },
  {
   "cell_type": "markdown",
   "metadata": {},
   "source": [
    "\n",
    "De laatste stap voordat we kunnen gaan modelleren is het selecteren van de juiste features. Ten eerste moeten we ons afvragen of het **ethisch verantwoord** om het attribuut te gebruiken. Maak een selectie van de attributen die wel geschikt zijn en licht toe waarom je bepaalde attributen niet geschikt vindt."
   ]
  },
  {
   "cell_type": "code",
   "metadata": {
    "ExecuteTime": {
     "end_time": "2024-10-01T15:51:15.322459Z",
     "start_time": "2024-10-01T15:51:15.320601Z"
    }
   },
   "source": [],
   "outputs": [],
   "execution_count": null
  },
  {
   "cell_type": "markdown",
   "metadata": {},
   "source": [
    "\n",
    "Ten tweede moeten we kijken naar het meetniveau van de attributen: niet alle meetniveau's zijn geschikt voor een beslisboom. Het Decision Tree algoritme van sci-kit learn kan alleen kwantitatieve features aan als input en kan ook niet omgaan met missende waarden. Een mogelijke oplossing is om de rijen met missende waarden weg te laten en de kwalitatieve features om te zetten met behulp van get_dummies.\n",
    "\n",
    "Merk op: hoewel deze oplossing niet optimaal is voor wat betreft de performance, zullen we hier nu voor kiezen. Alternatieven zijn om de beslisboom te maken in R (waar wel een standaardimplementatie is die overweg kan met categoriale features en missings) of te kiezen voor een ander python package. Voor dit laatste zijn er verschillende mogelijkheden onder andere: CatBoost, LightGBM, of H2O, maar elk ook weer met hun eigen nadelen. Zo kan CatBoost bijvoorbeeld  alleen symmetrische decision trees leren en is de visualisatie van een boom niet begrijpelijk. "
   ]
  },
  {
   "cell_type": "code",
   "metadata": {
    "ExecuteTime": {
     "end_time": "2024-10-01T15:51:15.367965Z",
     "start_time": "2024-10-01T15:51:15.366475Z"
    }
   },
   "source": [],
   "outputs": [],
   "execution_count": null
  },
  {
   "cell_type": "markdown",
   "metadata": {},
   "source": [
    "### Modelling\n",
    "De dataset is klaar voor het decision tree algoritme.\n",
    "\n",
    "Doorloop de bekende stappen om tot een beslisboom komen. Bepaal de kwaliteit van de beslisboom met de juiste metrics. Pas de hyperparameters aan om tot een zo hoog mogelijke score te komen."
   ]
  },
  {
   "cell_type": "code",
   "metadata": {
    "ExecuteTime": {
     "end_time": "2024-10-01T15:51:15.411159Z",
     "start_time": "2024-10-01T15:51:15.409575Z"
    }
   },
   "source": [],
   "outputs": [],
   "execution_count": null
  },
  {
   "cell_type": "markdown",
   "metadata": {},
   "source": [
    "Beargumenteer of de hoogst gevonden accuracy *goed* is of niet."
   ]
  },
  {
   "cell_type": "code",
   "metadata": {
    "ExecuteTime": {
     "end_time": "2024-10-01T15:51:15.454082Z",
     "start_time": "2024-10-01T15:51:15.452712Z"
    }
   },
   "source": [],
   "outputs": [],
   "execution_count": null
  },
  {
   "cell_type": "markdown",
   "metadata": {},
   "source": [
    "Visualiseer tenslotte deze beslisboom. Is deze in de praktijk te gebruiken in een oplossing / applicatie? En is deze uit te leggen aan de *business* of klant?"
   ]
  },
  {
   "cell_type": "code",
   "metadata": {
    "ExecuteTime": {
     "end_time": "2024-10-01T15:51:15.497912Z",
     "start_time": "2024-10-01T15:51:15.496547Z"
    }
   },
   "source": [],
   "outputs": [],
   "execution_count": null
  }
 ],
 "metadata": {
  "celltoolbar": "Tags",
  "kernelspec": {
   "display_name": "Python 3 (ipykernel)",
   "language": "python",
   "name": "python3"
  },
  "language_info": {
   "codemirror_mode": {
    "name": "ipython",
    "version": 3
   },
   "file_extension": ".py",
   "mimetype": "text/x-python",
   "name": "python",
   "nbconvert_exporter": "python",
   "pygments_lexer": "ipython3",
   "version": "3.12.5"
  }
 },
 "nbformat": 4,
 "nbformat_minor": 4
}
