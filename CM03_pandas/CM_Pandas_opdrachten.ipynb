{
 "cells": [
  {
   "cell_type": "markdown",
   "metadata": {},
   "source": [
    "# CM3 Pandas Opdrachten\n",
    "\n",
    "In dit notebook vind je de volgende opdrachten\n",
    "- [Opdracht 1 - Series](#Opdracht-1-Series)\n",
    "- [Opdracht 2 - Dataframe](#Opdracht-2-Dataframe)\n",
    "- [Opdracht 3 - Cijfers](#Opdracht-3-Cijfers)\n",
    "- [Opdracht 4 - datetime](#Opdracht-4-datetime)\n",
    "import pandas as pd\n",
    "import numpy as np\n",
    "\n",
    "# Assuming `cijferlijst` is the DataFrame containing the grades\n",
    "\n",
    "# 1. Minimum, maximum, and average of all grades\n",
    "all_grades = cijferlijst[['RAD', 'ANA', 'CBA']].values.flatten()\n",
    "min_all = np.min(all_grades)\n",
    "max_all = np.max(all_grades)\n",
    "mean_all = np.mean(all_grades)\n",
    "\n",
    "print(f\"All grades - Min: {min_all}, Max: {max_all}, Mean: {mean_all}\")\n",
    "\n",
    "# 2. Minimum, maximum, and average for each subject\n",
    "subject_stats = cijferlijst[['RAD', 'ANA', 'CBA']].agg(['min', 'max', 'mean'])\n",
    "print(subject_stats)\n",
    "\n",
    "# 3. Minimum, maximum, and average for each student\n",
    "student_stats = cijferlijst[['RAD', 'ANA', 'CBA']].agg(['min', 'max', 'mean'], axis=1)\n",
    "print(student_stats)"
   ]
  },
  {
   "cell_type": "markdown",
   "metadata": {},
   "source": [
    "## Opdracht 1 Series"
   ]
  },
  {
   "cell_type": "code",
   "metadata": {
    "ExecuteTime": {
     "end_time": "2024-10-06T15:35:55.544489Z",
     "start_time": "2024-10-06T15:35:55.542425Z"
    }
   },
   "source": [
    "from datetime import datetime\n",
    "\n",
    "import pandas as pd\n",
    "import numpy as np"
   ],
   "outputs": [],
   "execution_count": 3
  },
  {
   "cell_type": "code",
   "metadata": {
    "ExecuteTime": {
     "end_time": "2024-10-06T15:35:55.596199Z",
     "start_time": "2024-10-06T15:35:55.593389Z"
    }
   },
   "source": [
    "#values = [7.0, 6.5, 9.0, 8.0]\n",
    "#index = [ 'DS', 'IAC', 'NET', 'IAC']\n",
    "values = [7.0, 6.5, 9.0]\n",
    "index = [ 'DS', 'IAC', 'NET']\n",
    "cijfers = pd.Series(values, index=index)\n",
    "print(cijfers)"
   ],
   "outputs": [
    {
     "name": "stdout",
     "output_type": "stream",
     "text": [
      "DS     7.0\n",
      "IAC    6.5\n",
      "NET    9.0\n",
      "dtype: float64\n"
     ]
    }
   ],
   "execution_count": 4
  },
  {
   "cell_type": "markdown",
   "metadata": {},
   "source": [
    "- Haal het cijfer 6.5 op uit de Series door middel van:\n",
    "  1. de expliciete key methode\n",
    "  2. de impliciete key methode\n",
    "  3. rechtstreeks met de expliciete key\n",
    "  4. rechtstreeks met de impliciete key"
   ]
  },
  {
   "cell_type": "code",
   "metadata": {
    "tags": [
     "student"
    ],
    "ExecuteTime": {
     "end_time": "2024-10-06T15:35:55.708181Z",
     "start_time": "2024-10-06T15:35:55.705941Z"
    }
   },
   "source": [
    "print(cijfers[\"IAC\"])\n",
    "print(cijfers.iloc[1])"
   ],
   "outputs": [
    {
     "name": "stdout",
     "output_type": "stream",
     "text": [
      "6.5\n",
      "6.5\n"
     ]
    }
   ],
   "execution_count": 5
  },
  {
   "cell_type": "markdown",
   "metadata": {},
   "source": [
    "- Retourneer de cijfers van de laatste twee vakken uit de Series."
   ]
  },
  {
   "cell_type": "code",
   "metadata": {
    "tags": [
     "student"
    ],
    "ExecuteTime": {
     "end_time": "2024-10-06T15:35:55.832803Z",
     "start_time": "2024-10-06T15:35:55.830288Z"
    }
   },
   "source": "print(cijfers[1:])",
   "outputs": [
    {
     "name": "stdout",
     "output_type": "stream",
     "text": [
      "IAC    6.5\n",
      "NET    9.0\n",
      "dtype: float64\n"
     ]
    }
   ],
   "execution_count": 6
  },
  {
   "cell_type": "markdown",
   "metadata": {},
   "source": [
    "- Bepaal gemiddelde, mediaan, minimum en maximum van de cijfers."
   ]
  },
  {
   "cell_type": "code",
   "metadata": {
    "tags": [
     "student"
    ],
    "ExecuteTime": {
     "end_time": "2024-10-06T15:35:55.888321Z",
     "start_time": "2024-10-06T15:35:55.884839Z"
    }
   },
   "source": [
    "cijfers.mean()\n",
    "cijfers.median()\n",
    "cijfers.min()\n",
    "cijfers.max()"
   ],
   "outputs": [
    {
     "data": {
      "text/plain": [
       "9.0"
      ]
     },
     "execution_count": 7,
     "metadata": {},
     "output_type": "execute_result"
    }
   ],
   "execution_count": 7
  },
  {
   "cell_type": "markdown",
   "metadata": {},
   "source": [
    "## Opdracht 2 Dataframe "
   ]
  },
  {
   "cell_type": "code",
   "metadata": {
    "ExecuteTime": {
     "end_time": "2024-10-06T15:35:55.945761Z",
     "start_time": "2024-10-06T15:35:55.940795Z"
    }
   },
   "source": [
    "student1 = pd.Series({'Nummer':'s1', 'Naam':'Joop', 'Tentamen':99.9, 'Opdracht': 7.5})\n",
    "student2 = pd.Series({'Nummer':'s2', 'Naam':'Piet', 'Tentamen':8.0, 'Opdracht': 7.0})\n",
    "student3 = pd.Series({'Nummer': None, 'Naam':'Fout', 'Tentamen':99.9, 'Opdracht': 99.9})\n",
    "student4 = pd.Series({'Nummer':'s3', 'Naam':'Kees', 'Tentamen':4.0, 'Opdracht': 6.0})\n",
    "studenten = pd.DataFrame([student1, student2,student3, student4])\n",
    "print(studenten)"
   ],
   "outputs": [
    {
     "name": "stdout",
     "output_type": "stream",
     "text": [
      "  Nummer  Naam  Tentamen  Opdracht\n",
      "0     s1  Joop      99.9       7.5\n",
      "1     s2  Piet       8.0       7.0\n",
      "2   None  Fout      99.9      99.9\n",
      "3     s3  Kees       4.0       6.0\n"
     ]
    }
   ],
   "execution_count": 8
  },
  {
   "cell_type": "markdown",
   "metadata": {},
   "source": [
    "- Bepaal het totaal aantal niet-bestaande waarden."
   ]
  },
  {
   "metadata": {
    "tags": [
     "student"
    ],
    "ExecuteTime": {
     "end_time": "2024-10-06T15:35:55.999275Z",
     "start_time": "2024-10-06T15:35:55.996932Z"
    }
   },
   "cell_type": "code",
   "source": "print(studenten.isnull().sum())",
   "outputs": [
    {
     "name": "stdout",
     "output_type": "stream",
     "text": [
      "Nummer      1\n",
      "Naam        0\n",
      "Tentamen    0\n",
      "Opdracht    0\n",
      "dtype: int64\n"
     ]
    }
   ],
   "execution_count": 9
  },
  {
   "cell_type": "markdown",
   "metadata": {},
   "source": [
    "- Zet de opdracht- en tentamencijfers met waarde 99.9 om naar NaN waarde"
   ]
  },
  {
   "cell_type": "code",
   "metadata": {
    "tags": [
     "student"
    ],
    "ExecuteTime": {
     "end_time": "2024-10-06T15:35:56.047382Z",
     "start_time": "2024-10-06T15:35:56.044552Z"
    }
   },
   "source": [
    "studenten = studenten.replace(99.9, np.nan)\n",
    "print(studenten)"
   ],
   "outputs": [
    {
     "name": "stdout",
     "output_type": "stream",
     "text": [
      "  Nummer  Naam  Tentamen  Opdracht\n",
      "0     s1  Joop       NaN       7.5\n",
      "1     s2  Piet       8.0       7.0\n",
      "2   None  Fout       NaN       NaN\n",
      "3     s3  Kees       4.0       6.0\n"
     ]
    }
   ],
   "execution_count": 10
  },
  {
   "cell_type": "markdown",
   "metadata": {},
   "source": [
    "- Haal de missing values uit het DataFrame"
   ]
  },
  {
   "cell_type": "code",
   "metadata": {
    "tags": [
     "student"
    ],
    "ExecuteTime": {
     "end_time": "2024-10-06T15:35:56.104600Z",
     "start_time": "2024-10-06T15:35:56.100822Z"
    }
   },
   "source": [
    "studenten = studenten.dropna(subset=[\"Opdracht\"])\n",
    "print(studenten)"
   ],
   "outputs": [
    {
     "name": "stdout",
     "output_type": "stream",
     "text": [
      "  Nummer  Naam  Tentamen  Opdracht\n",
      "0     s1  Joop       NaN       7.5\n",
      "1     s2  Piet       8.0       7.0\n",
      "3     s3  Kees       4.0       6.0\n"
     ]
    }
   ],
   "execution_count": 11
  },
  {
   "cell_type": "markdown",
   "metadata": {},
   "source": [
    "- Zet `Nummer` als index."
   ]
  },
  {
   "cell_type": "code",
   "metadata": {
    "tags": [
     "student"
    ],
    "ExecuteTime": {
     "end_time": "2024-10-06T15:35:56.155423Z",
     "start_time": "2024-10-06T15:35:56.152332Z"
    }
   },
   "source": [
    "studenten = studenten.set_index(\"Nummer\")\n",
    "print(studenten)"
   ],
   "outputs": [
    {
     "name": "stdout",
     "output_type": "stream",
     "text": [
      "        Naam  Tentamen  Opdracht\n",
      "Nummer                          \n",
      "s1      Joop       NaN       7.5\n",
      "s2      Piet       8.0       7.0\n",
      "s3      Kees       4.0       6.0\n"
     ]
    }
   ],
   "execution_count": 12
  },
  {
   "cell_type": "markdown",
   "metadata": {},
   "source": "- Het eindcijfer van het vak is 70% tentamen en 30% opdracht; voeg dit als kolom `Eindcijfer` toe"
  },
  {
   "cell_type": "code",
   "metadata": {
    "tags": [
     "student"
    ],
    "ExecuteTime": {
     "end_time": "2024-10-06T15:35:56.204013Z",
     "start_time": "2024-10-06T15:35:56.200573Z"
    }
   },
   "source": [
    "studenten[\"Eindcijfer\"] = (0.7 * studenten[\"Tentamen\"]) + (0.3 * studenten[\"Opdracht\"])\n",
    "print(studenten)"
   ],
   "outputs": [
    {
     "name": "stdout",
     "output_type": "stream",
     "text": [
      "        Naam  Tentamen  Opdracht  Eindcijfer\n",
      "Nummer                                      \n",
      "s1      Joop       NaN       7.5         NaN\n",
      "s2      Piet       8.0       7.0         7.7\n",
      "s3      Kees       4.0       6.0         4.6\n"
     ]
    }
   ],
   "execution_count": 13
  },
  {
   "cell_type": "markdown",
   "metadata": {},
   "source": [
    "- Bepaal het gemiddelde eindcijfer"
   ]
  },
  {
   "cell_type": "code",
   "metadata": {
    "tags": [
     "student"
    ],
    "ExecuteTime": {
     "end_time": "2024-10-06T15:35:56.254079Z",
     "start_time": "2024-10-06T15:35:56.252260Z"
    }
   },
   "source": "print(studenten[\"Eindcijfer\"].mean())",
   "outputs": [
    {
     "name": "stdout",
     "output_type": "stream",
     "text": [
      "6.1499999999999995\n"
     ]
    }
   ],
   "execution_count": 14
  },
  {
   "cell_type": "markdown",
   "metadata": {},
   "source": [
    "- Wat geeft `studenten.describe()` weer?"
   ]
  },
  {
   "cell_type": "code",
   "metadata": {
    "tags": [
     "student"
    ],
    "ExecuteTime": {
     "end_time": "2024-10-06T15:35:56.306493Z",
     "start_time": "2024-10-06T15:35:56.300398Z"
    }
   },
   "source": "print(studenten.describe())",
   "outputs": [
    {
     "name": "stdout",
     "output_type": "stream",
     "text": [
      "       Tentamen  Opdracht  Eindcijfer\n",
      "count  2.000000  3.000000    2.000000\n",
      "mean   6.000000  6.833333    6.150000\n",
      "std    2.828427  0.763763    2.192031\n",
      "min    4.000000  6.000000    4.600000\n",
      "25%    5.000000  6.500000    5.375000\n",
      "50%    6.000000  7.000000    6.150000\n",
      "75%    7.000000  7.250000    6.925000\n",
      "max    8.000000  7.500000    7.700000\n"
     ]
    }
   ],
   "execution_count": 15
  },
  {
   "cell_type": "markdown",
   "metadata": {},
   "source": [
    "- Selecteer alle namen en cijfers van de studenten met een voldoende als eindcijfer."
   ]
  },
  {
   "cell_type": "code",
   "metadata": {
    "tags": [
     "student"
    ],
    "ExecuteTime": {
     "end_time": "2024-10-06T15:35:56.351386Z",
     "start_time": "2024-10-06T15:35:56.348508Z"
    }
   },
   "source": "print(studenten[studenten[\"Eindcijfer\"] >= 5.5])",
   "outputs": [
    {
     "name": "stdout",
     "output_type": "stream",
     "text": [
      "        Naam  Tentamen  Opdracht  Eindcijfer\n",
      "Nummer                                      \n",
      "s2      Piet       8.0       7.0         7.7\n"
     ]
    }
   ],
   "execution_count": 16
  },
  {
   "cell_type": "markdown",
   "metadata": {},
   "source": [
    "## Opdracht 3 Cijfers\n",
    "\n",
    "Numpy arrays kunnen alleen uniforme waarden bevatten. Pandas arrays kunnen juist meer bevatten. We doen de opdracht in numpy nu in pandas. Tip: maak gebruik van de cheat sheets!\n",
    "\n",
    "Aanvullende bron:\n",
    "-\thttp://nbviewer.jupyter.org/github/justmarkham/pandas-videos/blob/master/pandas.ipynb "
   ]
  },
  {
   "cell_type": "markdown",
   "metadata": {},
   "source": [
    "De blokcoördinator D.O. Cent van blok A, SIE-V2  wil graag de cijfers analyseren en verwerken. het blok bestaat uit 3 vakken, die door 10 studenten gevolgd zijn. Analyse omvat o.a. het bepalen van gemiddelde cijfer, het aantal voldoendes en cursusrendement. De verwerking bestaat uit het corrigeren van de cijfers. \n",
    "\n",
    "\n",
    "In `blokAcijfers.txt` staan de cijfers per vak (naast elkaar staan de vakken, onder elkaar de studenten):\n",
    "\n",
    "vak1 | vak2 | vak3\n",
    "----|-------|------\n",
    "6.5 | 7.3   | 6.4\n",
    "8.0 | 8.0\t| 8.5\n",
    "3.2\t| 4.0\t| 5.0\n",
    "7.9\t| 7.1\t| 3.5\n",
    "7.3\t| 7.8\t| 8.0\n",
    "8.6\t| 8.0\t| 9.0\n",
    "4.0\t| 6.0\t| 5.5\n",
    "7.3\t| 7.8\t| 7.8\n",
    "4.5\t| 5.6\t| 7.7\n",
    "5.0\t| 7.0\t| 7.2\n",
    "\n",
    "In `blokAStudenten.csv` staan de studentgegevens:\n",
    "\n",
    "\"Studentnr\"|\"Naam\"|\"Vooropleiding\"\n",
    "--|--|--\n",
    "1502000|\"Jan Jansen\"|\"HAVO\"\n",
    "1501677|\"Ali ElMoune\"|\"MBO\"\n",
    "1503190|\"Bert de Graaf\"|\"HAVO\"\n",
    "1506700|\"Koos Alberts\"|\"MBO\"\n",
    "1504503|\"Willie Napoli\"|\"MBO\"\n",
    "1507878|\"Jorrit Beeks\"|\"VWO\"\n",
    "1502507|\"Frits Wielenga\"|\"HAVO\"\n",
    "1503684|\"Cornee Nijsten\"|\"VWO\"\n",
    "1503831|\"Sabine Honing\"|\"HAVO\"\n",
    "1506001|\"George Belfore\"|\"HAVO\""
   ]
  },
  {
   "cell_type": "code",
   "metadata": {
    "ExecuteTime": {
     "end_time": "2024-10-06T15:35:56.397497Z",
     "start_time": "2024-10-06T15:35:56.395916Z"
    }
   },
   "source": [
    "# Deze imports zijn nodig voor de opdracht.\n",
    "import pandas as pd\n",
    "import numpy as np"
   ],
   "outputs": [],
   "execution_count": 17
  },
  {
   "cell_type": "markdown",
   "metadata": {},
   "source": [
    "De docent wil de gegevens in een Jupyter Notebook verwerken.\n",
    "-\tLees tekstbestand: blokAcijfers.txt in, in een dataframe `cijfers`.\n",
    "-\tLaat zien dat de gegevens goed ingelezen zijn.\n",
    "-\tWijzig de kolomnrs in de vaknamen: vakken = ['RAD','ANA', CBA'].\n",
    "-\tToon de dataframe attributen.\n",
    "-\tToon de index gegevens."
   ]
  },
  {
   "cell_type": "code",
   "metadata": {
    "tags": [
     "student"
    ],
    "ExecuteTime": {
     "end_time": "2024-10-06T15:35:56.446032Z",
     "start_time": "2024-10-06T15:35:56.440899Z"
    }
   },
   "source": [
    "cijfers = pd.read_csv(\"blokAcijfers.txt\", sep=\"\\t\", names=[\"RAD\", \"ANA\", \"CBA\"])\n",
    "print(cijfers)"
   ],
   "outputs": [
    {
     "name": "stdout",
     "output_type": "stream",
     "text": [
      "   RAD  ANA  CBA\n",
      "0  6.5  7.3  6.4\n",
      "1  8.0  8.0  8.5\n",
      "2  3.2  4.0  5.0\n",
      "3  7.9  7.1  3.5\n",
      "4  7.3  7.8  8.0\n",
      "5  8.6  8.0  9.0\n",
      "6  4.0  6.0  5.5\n",
      "7  7.3  7.8  7.8\n",
      "8  4.5  5.6  7.7\n",
      "9  5.0  7.0  7.2\n"
     ]
    }
   ],
   "execution_count": 18
  },
  {
   "cell_type": "markdown",
   "metadata": {},
   "source": [
    "De docent ziet dat er 2 cijfers fout zijn en wil deze corrigeren (NB. Elke regel heeft een numeriek index gelijk aan het regelnummer.)\n",
    "-\t Wijzig de volgende cijfers\t\t\t\t\t\t\t\n",
    "    *\tvak-2, student-3  cijfer 4.0 moet 4.3 worden.\n",
    "    *\tvak-1, student-10, cijfer 5.0 moet 4.8 worden."
   ]
  },
  {
   "cell_type": "code",
   "metadata": {
    "tags": [
     "student"
    ],
    "ExecuteTime": {
     "end_time": "2024-10-06T15:35:56.495063Z",
     "start_time": "2024-10-06T15:35:56.492045Z"
    }
   },
   "source": [
    "cijfers.iloc[2, 1] = 4.3\n",
    "cijfers.iloc[9, 0] = 4.8\n",
    "print(cijfers)"
   ],
   "outputs": [
    {
     "name": "stdout",
     "output_type": "stream",
     "text": [
      "   RAD  ANA  CBA\n",
      "0  6.5  7.3  6.4\n",
      "1  8.0  8.0  8.5\n",
      "2  3.2  4.3  5.0\n",
      "3  7.9  7.1  3.5\n",
      "4  7.3  7.8  8.0\n",
      "5  8.6  8.0  9.0\n",
      "6  4.0  6.0  5.5\n",
      "7  7.3  7.8  7.8\n",
      "8  4.5  5.6  7.7\n",
      "9  4.8  7.0  7.2\n"
     ]
    }
   ],
   "execution_count": 19
  },
  {
   "cell_type": "markdown",
   "metadata": {},
   "source": [
    "De docent wil de studentgegevens ook aan het dataframe toevoegen.\n",
    "-\tLees tekstbestand: `blokAStudenten.csv` in, in een dataframe `studenten`. Let op dat je de juiste instellingen voor sep en header meegeeft.\n",
    "-\tLaat zien dat de gegevens correct zijn ingelezen."
   ]
  },
  {
   "cell_type": "code",
   "metadata": {
    "tags": [
     "student"
    ],
    "ExecuteTime": {
     "end_time": "2024-10-06T15:35:56.546890Z",
     "start_time": "2024-10-06T15:35:56.543610Z"
    }
   },
   "source": [
    "studenten = pd.read_csv(\"blokAStudenten.csv\", sep=\";\")\n",
    "print(studenten)"
   ],
   "outputs": [
    {
     "name": "stdout",
     "output_type": "stream",
     "text": [
      "   Studentnr            Naam Vooropleiding\n",
      "0    1502000      Jan Jansen          HAVO\n",
      "1    1501677     Ali ElMoune           MBO\n",
      "2    1503190   Bert de Graaf          HAVO\n",
      "3    1506700    Koos Alberts           MBO\n",
      "4    1504503   Willie Napoli           MBO\n",
      "5    1507878    Jorrit Beeks           VWO\n",
      "6    1502507  Frits Wielenga          HAVO\n",
      "7    1503684  Cornee Nijsten           VWO\n",
      "8    1503831   Sabine Honing          HAVO\n",
      "9    1506001  George Belfore          HAVO\n"
     ]
    }
   ],
   "execution_count": 20
  },
  {
   "cell_type": "markdown",
   "metadata": {},
   "source": [
    "Nu gaan we ``studenten`` en ``cijfers`` samenvoegen tot een cijferslijst. We mogen er vanuitgaan dat de volgorde van beiden dezelfde index hebben (hier de rijwaarde 0 t/m 9).\n",
    "-\tCombineer de beide dataframes met behulp van `p.merge()`:\n",
    "    *\tJe kunt hier een inner join gebruiken.\n",
    "    *\tJe kunt van beide zijden de index gebruiken .\n",
    "-\tLaat zien dat de gegevens correct zijn samengevoegd tot één dataframe cijferlijst met de kolommen: `Studentnr`; `Naam`; `Vooropleiding`; `RAD`; `ANA`; en `CBA`."
   ]
  },
  {
   "cell_type": "code",
   "metadata": {
    "tags": [
     "student"
    ],
    "ExecuteTime": {
     "end_time": "2024-10-06T15:35:56.595774Z",
     "start_time": "2024-10-06T15:35:56.591913Z"
    }
   },
   "source": [
    "school = pd.concat([studenten, cijfers], axis=1)\n",
    "print(school)"
   ],
   "outputs": [
    {
     "name": "stdout",
     "output_type": "stream",
     "text": [
      "   Studentnr            Naam Vooropleiding  RAD  ANA  CBA\n",
      "0    1502000      Jan Jansen          HAVO  6.5  7.3  6.4\n",
      "1    1501677     Ali ElMoune           MBO  8.0  8.0  8.5\n",
      "2    1503190   Bert de Graaf          HAVO  3.2  4.3  5.0\n",
      "3    1506700    Koos Alberts           MBO  7.9  7.1  3.5\n",
      "4    1504503   Willie Napoli           MBO  7.3  7.8  8.0\n",
      "5    1507878    Jorrit Beeks           VWO  8.6  8.0  9.0\n",
      "6    1502507  Frits Wielenga          HAVO  4.0  6.0  5.5\n",
      "7    1503684  Cornee Nijsten           VWO  7.3  7.8  7.8\n",
      "8    1503831   Sabine Honing          HAVO  4.5  5.6  7.7\n",
      "9    1506001  George Belfore          HAVO  4.8  7.0  7.2\n"
     ]
    }
   ],
   "execution_count": 21
  },
  {
   "cell_type": "markdown",
   "metadata": {},
   "source": [
    "Het is handig om een dataframe een sprekende index te geven:\n",
    "-\tMaak `Studentnr` de rij-index. NB. Gebruik indien nodig de optie `inplace=True`."
   ]
  },
  {
   "metadata": {
    "ExecuteTime": {
     "end_time": "2024-10-06T15:35:56.647219Z",
     "start_time": "2024-10-06T15:35:56.643655Z"
    }
   },
   "cell_type": "code",
   "source": [
    "cijferlijst = school.set_index(\"Studentnr\")\n",
    "print(school)"
   ],
   "outputs": [
    {
     "name": "stdout",
     "output_type": "stream",
     "text": [
      "   Studentnr            Naam Vooropleiding  RAD  ANA  CBA\n",
      "0    1502000      Jan Jansen          HAVO  6.5  7.3  6.4\n",
      "1    1501677     Ali ElMoune           MBO  8.0  8.0  8.5\n",
      "2    1503190   Bert de Graaf          HAVO  3.2  4.3  5.0\n",
      "3    1506700    Koos Alberts           MBO  7.9  7.1  3.5\n",
      "4    1504503   Willie Napoli           MBO  7.3  7.8  8.0\n",
      "5    1507878    Jorrit Beeks           VWO  8.6  8.0  9.0\n",
      "6    1502507  Frits Wielenga          HAVO  4.0  6.0  5.5\n",
      "7    1503684  Cornee Nijsten           VWO  7.3  7.8  7.8\n",
      "8    1503831   Sabine Honing          HAVO  4.5  5.6  7.7\n",
      "9    1506001  George Belfore          HAVO  4.8  7.0  7.2\n"
     ]
    }
   ],
   "execution_count": 22
  },
  {
   "cell_type": "markdown",
   "metadata": {},
   "source": [
    "De docent wil wat basisgegevens: minimum, maximum, gemiddelde van de cijfers weten. Het grote voordeel is dat numpy heel goed kan omgaan met de numerieke kolommen van een dataframe. Voorbeeld: het berekenen van het gemiddelde cijfer voor het vak ‘RAD’ kan met de opdracht: `np.mean(cijferlijst['RAD']`.\n",
    "-\tBepaal minimum, maximum en gemiddelde van alle cijfers.\n",
    "-\tBepaal minimum, maximum en gemiddelde van elk vak (3 getallen).\n",
    "-\tBepaal minimum, maximum en gemiddelde van elke student (10 getallen)."
   ]
  },
  {
   "metadata": {
    "ExecuteTime": {
     "end_time": "2024-10-06T15:35:56.701413Z",
     "start_time": "2024-10-06T15:35:56.691558Z"
    }
   },
   "cell_type": "code",
   "source": [
    "all_grades = cijferlijst[['RAD', 'ANA', 'CBA']].values.flatten()\n",
    "min_all = np.min(all_grades)\n",
    "max_all = np.max(all_grades)\n",
    "mean_all = np.mean(all_grades)\n",
    "\n",
    "print(f\"All grades - Min: {min_all}, Max: {max_all}, Mean: {mean_all}\")\n",
    "\n",
    "subject_stats = cijferlijst[['RAD', 'ANA', 'CBA']].agg(['min', 'max', 'mean'])\n",
    "print(subject_stats)\n",
    "\n",
    "student_stats = cijferlijst[['RAD', 'ANA', 'CBA']].agg(['min', 'max', 'mean'], axis=1)\n",
    "print(student_stats)"
   ],
   "outputs": [
    {
     "name": "stdout",
     "output_type": "stream",
     "text": [
      "All grades - Min: 3.2, Max: 9.0, Mean: 6.653333333333333\n",
      "       RAD   ANA   CBA\n",
      "min   3.20  4.30  3.50\n",
      "max   8.60  8.00  9.00\n",
      "mean  6.21  6.89  6.86\n",
      "           min  max      mean\n",
      "Studentnr                    \n",
      "1502000    6.4  7.3  6.733333\n",
      "1501677    8.0  8.5  8.166667\n",
      "1503190    3.2  5.0  4.166667\n",
      "1506700    3.5  7.9  6.166667\n",
      "1504503    7.3  8.0  7.700000\n",
      "1507878    8.0  9.0  8.533333\n",
      "1502507    4.0  6.0  5.166667\n",
      "1503684    7.3  7.8  7.633333\n",
      "1503831    4.5  7.7  5.933333\n",
      "1506001    4.8  7.2  6.333333\n"
     ]
    }
   ],
   "execution_count": 23
  },
  {
   "cell_type": "markdown",
   "metadata": {},
   "source": [
    "Er is een fout gemaakt bij de cijfers van het 3e vak (RAD). Iedere student krijgt 0.5 punt extra erbij.\n",
    "-\tDoe dit met één opdrachtregel."
   ]
  },
  {
   "cell_type": "code",
   "metadata": {
    "tags": [
     "student"
    ],
    "ExecuteTime": {
     "end_time": "2024-10-06T15:35:56.751098Z",
     "start_time": "2024-10-06T15:35:56.747698Z"
    }
   },
   "source": [
    "cijferlijst['RAD'] += 0.5\n",
    "print(cijferlijst)"
   ],
   "outputs": [
    {
     "name": "stdout",
     "output_type": "stream",
     "text": [
      "                     Naam Vooropleiding  RAD  ANA  CBA\n",
      "Studentnr                                             \n",
      "1502000        Jan Jansen          HAVO  7.0  7.3  6.4\n",
      "1501677       Ali ElMoune           MBO  8.5  8.0  8.5\n",
      "1503190     Bert de Graaf          HAVO  3.7  4.3  5.0\n",
      "1506700      Koos Alberts           MBO  8.4  7.1  3.5\n",
      "1504503     Willie Napoli           MBO  7.8  7.8  8.0\n",
      "1507878      Jorrit Beeks           VWO  9.1  8.0  9.0\n",
      "1502507    Frits Wielenga          HAVO  4.5  6.0  5.5\n",
      "1503684    Cornee Nijsten           VWO  7.8  7.8  7.8\n",
      "1503831     Sabine Honing          HAVO  5.0  5.6  7.7\n",
      "1506001    George Belfore          HAVO  5.3  7.0  7.2\n"
     ]
    }
   ],
   "execution_count": 24
  },
  {
   "cell_type": "markdown",
   "metadata": {},
   "source": [
    "De docent wil graag weten of er verschil in studentprestaties is afhankelijk van de vooropleiding. \n",
    "-\tToon voor elk vak het vooropleiding groepsgemiddelde.\n",
    "-\tWat is je conclusie ?"
   ]
  },
  {
   "cell_type": "code",
   "metadata": {
    "tags": [
     "student"
    ],
    "ExecuteTime": {
     "end_time": "2024-10-06T15:35:56.802858Z",
     "start_time": "2024-10-06T15:35:56.799449Z"
    }
   },
   "source": [
    "group = cijferlijst.groupby('Vooropleiding')[['RAD', 'ANA', 'CBA']].mean()\n",
    "print(group)"
   ],
   "outputs": [
    {
     "name": "stdout",
     "output_type": "stream",
     "text": [
      "                    RAD       ANA       CBA\n",
      "Vooropleiding                              \n",
      "HAVO           5.100000  6.040000  6.360000\n",
      "MBO            8.233333  7.633333  6.666667\n",
      "VWO            8.450000  7.900000  8.400000\n"
     ]
    }
   ],
   "execution_count": 25
  },
  {
   "cell_type": "markdown",
   "metadata": {
    "tags": [
     "student"
    ]
   },
   "source": [
    "Conclusie:"
   ]
  },
  {
   "cell_type": "markdown",
   "metadata": {},
   "source": [
    "## Opdracht 4 datetime\n",
    "\n",
    "Maak een Jupyter notebook waarin je met Pandas de volgende casus realiseert: een storingsmedewerker wil graag onderzoeken hoe het weer geweest is op 1 Januari 2017. Hiervoor vraagt hij bij het KNMI de weergegevens op van drie meetstations.\n",
    "\n",
    "Aanvullende bronnen:\n",
    "- http://chrisalbon.com/python/pandas_time_series_basics.html\n",
    "- http://chrisalbon.com/python/date_and_time_basics.html\n",
    "- http://chrisalbon.com/python/pandas_group_by_time.html "
   ]
  },
  {
   "cell_type": "code",
   "metadata": {
    "ExecuteTime": {
     "end_time": "2024-10-06T15:35:57.065077Z",
     "start_time": "2024-10-06T15:35:56.847505Z"
    }
   },
   "source": [
    "# Aanvullende imports\n",
    "import datetime as dt\n",
    "import matplotlib.pyplot as pyplot\n",
    "\n",
    "# De data die we gaan gebruiken.\n",
    "data = {'meetpunt': ['De Bilt','Maastricht', 'Leeuwarden',\n",
    "                     'De Bilt','Maastricht', 'Leeuwarden',\n",
    "                     'De Bilt','Maastricht', 'Leeuwarden',\n",
    "                     'De Bilt','Maastricht', 'Leeuwarden'],\n",
    "        'datum': ['2017-01-01 13:00:05.069722', '2017-01-01 13:00:01.119994', '2017-01-01 13:00:07.178768',\n",
    "                  '2017-01-02 13:00:01.043200', '2017-01-02 13:00:03.119401', '2017-01-02 13:00:03.876898',\n",
    "                  '2017-01-03 13:00:03.043450', '2017-01-03 13:00:02.669401', '2017-01-03 13:00:01.321898',\n",
    "                  '2017-01-04 13:00:04.042015', '2017-01-04 13:00:04.321564', '2017-01-04 13:00:04.394866'],\n",
    "        'temperatuur': [-0.3, 1.9, 0.8,\n",
    "                        1.8, 7.1, 5.7,\n",
    "                        2.9, 7.3, 5.1,\n",
    "                        0.1, 6.8, 2.1,]}"
   ],
   "outputs": [],
   "execution_count": 26
  },
  {
   "cell_type": "markdown",
   "metadata": {},
   "source": [
    "Bewerk de data zodat deze netjes in een dataframe komt.\n",
    "-\tMaak een dataframe met kolommen: ‘datum’, ‘temperatuur, ‘meetpunt’.\n",
    "-\tMaak van de datum kolom een kolom met datatype datetime."
   ]
  },
  {
   "cell_type": "code",
   "metadata": {
    "tags": [
     "student"
    ],
    "ExecuteTime": {
     "end_time": "2024-10-06T15:35:57.078950Z",
     "start_time": "2024-10-06T15:35:57.075938Z"
    }
   },
   "source": [
    "df = pd.DataFrame(data)\n",
    "df['datum'] = df['datum'].astype('datetime64[ns]')\n",
    "print(df)"
   ],
   "outputs": [
    {
     "name": "stdout",
     "output_type": "stream",
     "text": [
      "      meetpunt                      datum  temperatuur\n",
      "0      De Bilt 2017-01-01 13:00:05.069722         -0.3\n",
      "1   Maastricht 2017-01-01 13:00:01.119994          1.9\n",
      "2   Leeuwarden 2017-01-01 13:00:07.178768          0.8\n",
      "3      De Bilt 2017-01-02 13:00:01.043200          1.8\n",
      "4   Maastricht 2017-01-02 13:00:03.119401          7.1\n",
      "5   Leeuwarden 2017-01-02 13:00:03.876898          5.7\n",
      "6      De Bilt 2017-01-03 13:00:03.043450          2.9\n",
      "7   Maastricht 2017-01-03 13:00:02.669401          7.3\n",
      "8   Leeuwarden 2017-01-03 13:00:01.321898          5.1\n",
      "9      De Bilt 2017-01-04 13:00:04.042015          0.1\n",
      "10  Maastricht 2017-01-04 13:00:04.321564          6.8\n",
      "11  Leeuwarden 2017-01-04 13:00:04.394866          2.1\n"
     ]
    }
   ],
   "execution_count": 27
  },
  {
   "cell_type": "markdown",
   "metadata": {},
   "source": [
    "Doe de volgende analyse op de datum gegevens.\n",
    "-\tHaal de eerste datumwaarde uit de tabel.\n",
    "-\tBepaal van de eerste datumwaarden: jaar, maand, dag, uur, minuut en seconde.\n",
    "-\tBepaal het tijdsverschil tussen de 1e en laatste waarde.\n",
    "-\tBepaal van het tijdsverschil het aantal dagen.\n",
    "-\tBepaal van het tijdsverschil het aantal uren."
   ]
  },
  {
   "cell_type": "code",
   "metadata": {
    "tags": [
     "student"
    ],
    "ExecuteTime": {
     "end_time": "2024-10-06T15:35:57.122300Z",
     "start_time": "2024-10-06T15:35:57.119748Z"
    }
   },
   "source": [
    "# Haal de eerste datumwaarde uit de tabel\n",
    "first_date = df['datum'].iloc[0]\n",
    "print(\"First date:\", first_date)\n",
    "\n",
    "# Bepaal van de eerste datumwaarden: jaar, maand, dag, uur, minuut en seconde\n",
    "year = first_date.year\n",
    "month = first_date.month\n",
    "day = first_date.day\n",
    "hour = first_date.hour\n",
    "minute = first_date.minute\n",
    "second = first_date.second\n",
    "print(f\"Year: {year}, Month: {month}, Day: {day}, Hour: {hour}, Minute: {minute}, Second: {second}\")\n",
    "\n",
    "# Bepaal het tijdsverschil tussen de 1e en laatste waarde\n",
    "last_date = df['datum'].iloc[-1]\n",
    "time_difference = last_date - first_date\n",
    "print(\"Time difference:\", time_difference)\n",
    "\n",
    "# Bepaal van het tijdsverschil het aantal dagen\n",
    "days_difference = time_difference.days\n",
    "print(\"Days difference:\", days_difference)\n",
    "\n",
    "# Bepaal van het tijdsverschil het aantal uren\n",
    "hours_difference = time_difference.total_seconds() / 3600\n",
    "print(\"Hours difference:\", hours_difference)"
   ],
   "outputs": [
    {
     "name": "stdout",
     "output_type": "stream",
     "text": [
      "First date: 2017-01-01 13:00:05.069722\n",
      "Year: 2017, Month: 1, Day: 1, Hour: 13, Minute: 0, Second: 5\n",
      "Time difference: 2 days 23:59:59.325144\n",
      "Days difference: 2\n",
      "Hours difference: 71.99981254\n"
     ]
    }
   ],
   "execution_count": 28
  },
  {
   "cell_type": "markdown",
   "metadata": {},
   "source": [
    "De storingsmedewerker wil graag de volgende gegevens van dagen. Daarom is het handig om de dataframe te voorzien van een index. Voer dan de volgende opdrachten uit en verklaar deze.\n",
    "-\tMaak van de datum kolom een index.\n",
    "-\tDe temperaturen op 1 januari.\n",
    "-\tDe temperaturen na 3 januari.\n",
    "-\tDe temperatuur gemiddeld per dag .\n",
    "-\tLeg nu zelf uit wat de functie shift() doet.\n",
    "-\tHaal de datum kolom index weer weg."
   ]
  },
  {
   "cell_type": "code",
   "metadata": {
    "tags": [
     "student"
    ],
    "ExecuteTime": {
     "end_time": "2024-10-06T15:35:59.211617Z",
     "start_time": "2024-10-06T15:35:57.171600Z"
    }
   },
   "source": [
    "df = pd.DataFrame(data)\n",
    "df['datum'] = df['datum'].astype('datetime64[ns]')\n",
    "\n",
    "# Set the 'datum' column as the index and sort it\n",
    "df.set_index('datum', inplace=True)\n",
    "df.sort_index(inplace=True)\n",
    "print(df)\n",
    "\n",
    "# De temperaturen op 1 januari\n",
    "temps_jan1 = df.loc['2017-01-01']\n",
    "print(\"Temperatures on January 1st:\", temps_jan1)\n",
    "\n",
    "# De temperaturen na 3 januari\n",
    "temps_after_jan3 = df.loc['2017-01-04':]\n",
    "print(\"Temperatures after January 3rd:\", temps_after_jan3)\n",
    "\n",
    "# De temperatuur gemiddeld per dag\n",
    "avg_temp_per_day = df.resample('D').mean()\n",
    "print(\"Average temperature per day:\", avg_temp_per_day)\n",
    "\n",
    "# Leg nu zelf uit wat de functie shift() doet\n",
    "# The shift() function shifts the index by a specified number of periods with an optional time frequency.\n",
    "# For example, shifting the temperatures by one day:\n",
    "shifted_temps = df['temperatuur'].shift(1)\n",
    "print(\"Shifted temperatures:\", shifted_temps)\n",
    "\n",
    "# Haal de datum kolom index weer weg\n",
    "df.reset_index(inplace=True)\n",
    "print(df)"
   ],
   "outputs": [
    {
     "name": "stdout",
     "output_type": "stream",
     "text": [
      "                              meetpunt  temperatuur\n",
      "datum                                              \n",
      "2017-01-01 13:00:01.119994  Maastricht          1.9\n",
      "2017-01-01 13:00:05.069722     De Bilt         -0.3\n",
      "2017-01-01 13:00:07.178768  Leeuwarden          0.8\n",
      "2017-01-02 13:00:01.043200     De Bilt          1.8\n",
      "2017-01-02 13:00:03.119401  Maastricht          7.1\n",
      "2017-01-02 13:00:03.876898  Leeuwarden          5.7\n",
      "2017-01-03 13:00:01.321898  Leeuwarden          5.1\n",
      "2017-01-03 13:00:02.669401  Maastricht          7.3\n",
      "2017-01-03 13:00:03.043450     De Bilt          2.9\n",
      "2017-01-04 13:00:04.042015     De Bilt          0.1\n",
      "2017-01-04 13:00:04.321564  Maastricht          6.8\n",
      "2017-01-04 13:00:04.394866  Leeuwarden          2.1\n",
      "Temperatures on January 1st:                               meetpunt  temperatuur\n",
      "datum                                              \n",
      "2017-01-01 13:00:01.119994  Maastricht          1.9\n",
      "2017-01-01 13:00:05.069722     De Bilt         -0.3\n",
      "2017-01-01 13:00:07.178768  Leeuwarden          0.8\n",
      "Temperatures after January 3rd:                               meetpunt  temperatuur\n",
      "datum                                              \n",
      "2017-01-04 13:00:04.042015     De Bilt          0.1\n",
      "2017-01-04 13:00:04.321564  Maastricht          6.8\n",
      "2017-01-04 13:00:04.394866  Leeuwarden          2.1\n"
     ]
    },
    {
     "ename": "TypeError",
     "evalue": "agg function failed [how->mean,dtype->object]",
     "output_type": "error",
     "traceback": [
      "\u001B[0;31m---------------------------------------------------------------------------\u001B[0m",
      "\u001B[0;31mTypeError\u001B[0m                                 Traceback (most recent call last)",
      "File \u001B[0;32m~/.anaconda3/lib/python3.12/site-packages/pandas/core/groupby/groupby.py:1942\u001B[0m, in \u001B[0;36mGroupBy._agg_py_fallback\u001B[0;34m(self, how, values, ndim, alt)\u001B[0m\n\u001B[1;32m   1941\u001B[0m \u001B[38;5;28;01mtry\u001B[39;00m:\n\u001B[0;32m-> 1942\u001B[0m     res_values \u001B[38;5;241m=\u001B[39m \u001B[38;5;28mself\u001B[39m\u001B[38;5;241m.\u001B[39m_grouper\u001B[38;5;241m.\u001B[39magg_series(ser, alt, preserve_dtype\u001B[38;5;241m=\u001B[39m\u001B[38;5;28;01mTrue\u001B[39;00m)\n\u001B[1;32m   1943\u001B[0m \u001B[38;5;28;01mexcept\u001B[39;00m \u001B[38;5;167;01mException\u001B[39;00m \u001B[38;5;28;01mas\u001B[39;00m err:\n",
      "File \u001B[0;32m~/.anaconda3/lib/python3.12/site-packages/pandas/core/groupby/ops.py:864\u001B[0m, in \u001B[0;36mBaseGrouper.agg_series\u001B[0;34m(self, obj, func, preserve_dtype)\u001B[0m\n\u001B[1;32m    862\u001B[0m     preserve_dtype \u001B[38;5;241m=\u001B[39m \u001B[38;5;28;01mTrue\u001B[39;00m\n\u001B[0;32m--> 864\u001B[0m result \u001B[38;5;241m=\u001B[39m \u001B[38;5;28mself\u001B[39m\u001B[38;5;241m.\u001B[39m_aggregate_series_pure_python(obj, func)\n\u001B[1;32m    866\u001B[0m npvalues \u001B[38;5;241m=\u001B[39m lib\u001B[38;5;241m.\u001B[39mmaybe_convert_objects(result, try_float\u001B[38;5;241m=\u001B[39m\u001B[38;5;28;01mFalse\u001B[39;00m)\n",
      "File \u001B[0;32m~/.anaconda3/lib/python3.12/site-packages/pandas/core/groupby/ops.py:885\u001B[0m, in \u001B[0;36mBaseGrouper._aggregate_series_pure_python\u001B[0;34m(self, obj, func)\u001B[0m\n\u001B[1;32m    884\u001B[0m \u001B[38;5;28;01mfor\u001B[39;00m i, group \u001B[38;5;129;01min\u001B[39;00m \u001B[38;5;28menumerate\u001B[39m(splitter):\n\u001B[0;32m--> 885\u001B[0m     res \u001B[38;5;241m=\u001B[39m func(group)\n\u001B[1;32m    886\u001B[0m     res \u001B[38;5;241m=\u001B[39m extract_result(res)\n",
      "File \u001B[0;32m~/.anaconda3/lib/python3.12/site-packages/pandas/core/groupby/groupby.py:2454\u001B[0m, in \u001B[0;36mGroupBy.mean.<locals>.<lambda>\u001B[0;34m(x)\u001B[0m\n\u001B[1;32m   2451\u001B[0m \u001B[38;5;28;01melse\u001B[39;00m:\n\u001B[1;32m   2452\u001B[0m     result \u001B[38;5;241m=\u001B[39m \u001B[38;5;28mself\u001B[39m\u001B[38;5;241m.\u001B[39m_cython_agg_general(\n\u001B[1;32m   2453\u001B[0m         \u001B[38;5;124m\"\u001B[39m\u001B[38;5;124mmean\u001B[39m\u001B[38;5;124m\"\u001B[39m,\n\u001B[0;32m-> 2454\u001B[0m         alt\u001B[38;5;241m=\u001B[39m\u001B[38;5;28;01mlambda\u001B[39;00m x: Series(x, copy\u001B[38;5;241m=\u001B[39m\u001B[38;5;28;01mFalse\u001B[39;00m)\u001B[38;5;241m.\u001B[39mmean(numeric_only\u001B[38;5;241m=\u001B[39mnumeric_only),\n\u001B[1;32m   2455\u001B[0m         numeric_only\u001B[38;5;241m=\u001B[39mnumeric_only,\n\u001B[1;32m   2456\u001B[0m     )\n\u001B[1;32m   2457\u001B[0m     \u001B[38;5;28;01mreturn\u001B[39;00m result\u001B[38;5;241m.\u001B[39m__finalize__(\u001B[38;5;28mself\u001B[39m\u001B[38;5;241m.\u001B[39mobj, method\u001B[38;5;241m=\u001B[39m\u001B[38;5;124m\"\u001B[39m\u001B[38;5;124mgroupby\u001B[39m\u001B[38;5;124m\"\u001B[39m)\n",
      "File \u001B[0;32m~/.anaconda3/lib/python3.12/site-packages/pandas/core/series.py:6549\u001B[0m, in \u001B[0;36mSeries.mean\u001B[0;34m(self, axis, skipna, numeric_only, **kwargs)\u001B[0m\n\u001B[1;32m   6541\u001B[0m \u001B[38;5;129m@doc\u001B[39m(make_doc(\u001B[38;5;124m\"\u001B[39m\u001B[38;5;124mmean\u001B[39m\u001B[38;5;124m\"\u001B[39m, ndim\u001B[38;5;241m=\u001B[39m\u001B[38;5;241m1\u001B[39m))\n\u001B[1;32m   6542\u001B[0m \u001B[38;5;28;01mdef\u001B[39;00m \u001B[38;5;21mmean\u001B[39m(\n\u001B[1;32m   6543\u001B[0m     \u001B[38;5;28mself\u001B[39m,\n\u001B[0;32m   (...)\u001B[0m\n\u001B[1;32m   6547\u001B[0m     \u001B[38;5;241m*\u001B[39m\u001B[38;5;241m*\u001B[39mkwargs,\n\u001B[1;32m   6548\u001B[0m ):\n\u001B[0;32m-> 6549\u001B[0m     \u001B[38;5;28;01mreturn\u001B[39;00m NDFrame\u001B[38;5;241m.\u001B[39mmean(\u001B[38;5;28mself\u001B[39m, axis, skipna, numeric_only, \u001B[38;5;241m*\u001B[39m\u001B[38;5;241m*\u001B[39mkwargs)\n",
      "File \u001B[0;32m~/.anaconda3/lib/python3.12/site-packages/pandas/core/generic.py:12420\u001B[0m, in \u001B[0;36mNDFrame.mean\u001B[0;34m(self, axis, skipna, numeric_only, **kwargs)\u001B[0m\n\u001B[1;32m  12413\u001B[0m \u001B[38;5;28;01mdef\u001B[39;00m \u001B[38;5;21mmean\u001B[39m(\n\u001B[1;32m  12414\u001B[0m     \u001B[38;5;28mself\u001B[39m,\n\u001B[1;32m  12415\u001B[0m     axis: Axis \u001B[38;5;241m|\u001B[39m \u001B[38;5;28;01mNone\u001B[39;00m \u001B[38;5;241m=\u001B[39m \u001B[38;5;241m0\u001B[39m,\n\u001B[0;32m   (...)\u001B[0m\n\u001B[1;32m  12418\u001B[0m     \u001B[38;5;241m*\u001B[39m\u001B[38;5;241m*\u001B[39mkwargs,\n\u001B[1;32m  12419\u001B[0m ) \u001B[38;5;241m-\u001B[39m\u001B[38;5;241m>\u001B[39m Series \u001B[38;5;241m|\u001B[39m \u001B[38;5;28mfloat\u001B[39m:\n\u001B[0;32m> 12420\u001B[0m     \u001B[38;5;28;01mreturn\u001B[39;00m \u001B[38;5;28mself\u001B[39m\u001B[38;5;241m.\u001B[39m_stat_function(\n\u001B[1;32m  12421\u001B[0m         \u001B[38;5;124m\"\u001B[39m\u001B[38;5;124mmean\u001B[39m\u001B[38;5;124m\"\u001B[39m, nanops\u001B[38;5;241m.\u001B[39mnanmean, axis, skipna, numeric_only, \u001B[38;5;241m*\u001B[39m\u001B[38;5;241m*\u001B[39mkwargs\n\u001B[1;32m  12422\u001B[0m     )\n",
      "File \u001B[0;32m~/.anaconda3/lib/python3.12/site-packages/pandas/core/generic.py:12377\u001B[0m, in \u001B[0;36mNDFrame._stat_function\u001B[0;34m(self, name, func, axis, skipna, numeric_only, **kwargs)\u001B[0m\n\u001B[1;32m  12375\u001B[0m validate_bool_kwarg(skipna, \u001B[38;5;124m\"\u001B[39m\u001B[38;5;124mskipna\u001B[39m\u001B[38;5;124m\"\u001B[39m, none_allowed\u001B[38;5;241m=\u001B[39m\u001B[38;5;28;01mFalse\u001B[39;00m)\n\u001B[0;32m> 12377\u001B[0m \u001B[38;5;28;01mreturn\u001B[39;00m \u001B[38;5;28mself\u001B[39m\u001B[38;5;241m.\u001B[39m_reduce(\n\u001B[1;32m  12378\u001B[0m     func, name\u001B[38;5;241m=\u001B[39mname, axis\u001B[38;5;241m=\u001B[39maxis, skipna\u001B[38;5;241m=\u001B[39mskipna, numeric_only\u001B[38;5;241m=\u001B[39mnumeric_only\n\u001B[1;32m  12379\u001B[0m )\n",
      "File \u001B[0;32m~/.anaconda3/lib/python3.12/site-packages/pandas/core/series.py:6457\u001B[0m, in \u001B[0;36mSeries._reduce\u001B[0;34m(self, op, name, axis, skipna, numeric_only, filter_type, **kwds)\u001B[0m\n\u001B[1;32m   6453\u001B[0m     \u001B[38;5;28;01mraise\u001B[39;00m \u001B[38;5;167;01mTypeError\u001B[39;00m(\n\u001B[1;32m   6454\u001B[0m         \u001B[38;5;124mf\u001B[39m\u001B[38;5;124m\"\u001B[39m\u001B[38;5;124mSeries.\u001B[39m\u001B[38;5;132;01m{\u001B[39;00mname\u001B[38;5;132;01m}\u001B[39;00m\u001B[38;5;124m does not allow \u001B[39m\u001B[38;5;132;01m{\u001B[39;00mkwd_name\u001B[38;5;132;01m}\u001B[39;00m\u001B[38;5;124m=\u001B[39m\u001B[38;5;132;01m{\u001B[39;00mnumeric_only\u001B[38;5;132;01m}\u001B[39;00m\u001B[38;5;124m \u001B[39m\u001B[38;5;124m\"\u001B[39m\n\u001B[1;32m   6455\u001B[0m         \u001B[38;5;124m\"\u001B[39m\u001B[38;5;124mwith non-numeric dtypes.\u001B[39m\u001B[38;5;124m\"\u001B[39m\n\u001B[1;32m   6456\u001B[0m     )\n\u001B[0;32m-> 6457\u001B[0m \u001B[38;5;28;01mreturn\u001B[39;00m op(delegate, skipna\u001B[38;5;241m=\u001B[39mskipna, \u001B[38;5;241m*\u001B[39m\u001B[38;5;241m*\u001B[39mkwds)\n",
      "File \u001B[0;32m~/.anaconda3/lib/python3.12/site-packages/pandas/core/nanops.py:147\u001B[0m, in \u001B[0;36mbottleneck_switch.__call__.<locals>.f\u001B[0;34m(values, axis, skipna, **kwds)\u001B[0m\n\u001B[1;32m    146\u001B[0m \u001B[38;5;28;01melse\u001B[39;00m:\n\u001B[0;32m--> 147\u001B[0m     result \u001B[38;5;241m=\u001B[39m alt(values, axis\u001B[38;5;241m=\u001B[39maxis, skipna\u001B[38;5;241m=\u001B[39mskipna, \u001B[38;5;241m*\u001B[39m\u001B[38;5;241m*\u001B[39mkwds)\n\u001B[1;32m    149\u001B[0m \u001B[38;5;28;01mreturn\u001B[39;00m result\n",
      "File \u001B[0;32m~/.anaconda3/lib/python3.12/site-packages/pandas/core/nanops.py:404\u001B[0m, in \u001B[0;36m_datetimelike_compat.<locals>.new_func\u001B[0;34m(values, axis, skipna, mask, **kwargs)\u001B[0m\n\u001B[1;32m    402\u001B[0m     mask \u001B[38;5;241m=\u001B[39m isna(values)\n\u001B[0;32m--> 404\u001B[0m result \u001B[38;5;241m=\u001B[39m func(values, axis\u001B[38;5;241m=\u001B[39maxis, skipna\u001B[38;5;241m=\u001B[39mskipna, mask\u001B[38;5;241m=\u001B[39mmask, \u001B[38;5;241m*\u001B[39m\u001B[38;5;241m*\u001B[39mkwargs)\n\u001B[1;32m    406\u001B[0m \u001B[38;5;28;01mif\u001B[39;00m datetimelike:\n",
      "File \u001B[0;32m~/.anaconda3/lib/python3.12/site-packages/pandas/core/nanops.py:720\u001B[0m, in \u001B[0;36mnanmean\u001B[0;34m(values, axis, skipna, mask)\u001B[0m\n\u001B[1;32m    719\u001B[0m the_sum \u001B[38;5;241m=\u001B[39m values\u001B[38;5;241m.\u001B[39msum(axis, dtype\u001B[38;5;241m=\u001B[39mdtype_sum)\n\u001B[0;32m--> 720\u001B[0m the_sum \u001B[38;5;241m=\u001B[39m _ensure_numeric(the_sum)\n\u001B[1;32m    722\u001B[0m \u001B[38;5;28;01mif\u001B[39;00m axis \u001B[38;5;129;01mis\u001B[39;00m \u001B[38;5;129;01mnot\u001B[39;00m \u001B[38;5;28;01mNone\u001B[39;00m \u001B[38;5;129;01mand\u001B[39;00m \u001B[38;5;28mgetattr\u001B[39m(the_sum, \u001B[38;5;124m\"\u001B[39m\u001B[38;5;124mndim\u001B[39m\u001B[38;5;124m\"\u001B[39m, \u001B[38;5;28;01mFalse\u001B[39;00m):\n",
      "File \u001B[0;32m~/.anaconda3/lib/python3.12/site-packages/pandas/core/nanops.py:1701\u001B[0m, in \u001B[0;36m_ensure_numeric\u001B[0;34m(x)\u001B[0m\n\u001B[1;32m   1699\u001B[0m \u001B[38;5;28;01mif\u001B[39;00m \u001B[38;5;28misinstance\u001B[39m(x, \u001B[38;5;28mstr\u001B[39m):\n\u001B[1;32m   1700\u001B[0m     \u001B[38;5;66;03m# GH#44008, GH#36703 avoid casting e.g. strings to numeric\u001B[39;00m\n\u001B[0;32m-> 1701\u001B[0m     \u001B[38;5;28;01mraise\u001B[39;00m \u001B[38;5;167;01mTypeError\u001B[39;00m(\u001B[38;5;124mf\u001B[39m\u001B[38;5;124m\"\u001B[39m\u001B[38;5;124mCould not convert string \u001B[39m\u001B[38;5;124m'\u001B[39m\u001B[38;5;132;01m{\u001B[39;00mx\u001B[38;5;132;01m}\u001B[39;00m\u001B[38;5;124m'\u001B[39m\u001B[38;5;124m to numeric\u001B[39m\u001B[38;5;124m\"\u001B[39m)\n\u001B[1;32m   1702\u001B[0m \u001B[38;5;28;01mtry\u001B[39;00m:\n",
      "\u001B[0;31mTypeError\u001B[0m: Could not convert string 'MaastrichtDe BiltLeeuwarden' to numeric",
      "\nThe above exception was the direct cause of the following exception:\n",
      "\u001B[0;31mTypeError\u001B[0m                                 Traceback (most recent call last)",
      "Cell \u001B[0;32mIn[29], line 18\u001B[0m\n\u001B[1;32m     15\u001B[0m \u001B[38;5;28mprint\u001B[39m(\u001B[38;5;124m\"\u001B[39m\u001B[38;5;124mTemperatures after January 3rd:\u001B[39m\u001B[38;5;124m\"\u001B[39m, temps_after_jan3)\n\u001B[1;32m     17\u001B[0m \u001B[38;5;66;03m# De temperatuur gemiddeld per dag\u001B[39;00m\n\u001B[0;32m---> 18\u001B[0m avg_temp_per_day \u001B[38;5;241m=\u001B[39m df\u001B[38;5;241m.\u001B[39mresample(\u001B[38;5;124m'\u001B[39m\u001B[38;5;124mD\u001B[39m\u001B[38;5;124m'\u001B[39m)\u001B[38;5;241m.\u001B[39mmean()\n\u001B[1;32m     19\u001B[0m \u001B[38;5;28mprint\u001B[39m(\u001B[38;5;124m\"\u001B[39m\u001B[38;5;124mAverage temperature per day:\u001B[39m\u001B[38;5;124m\"\u001B[39m, avg_temp_per_day)\n\u001B[1;32m     21\u001B[0m \u001B[38;5;66;03m# Leg nu zelf uit wat de functie shift() doet\u001B[39;00m\n\u001B[1;32m     22\u001B[0m \u001B[38;5;66;03m# The shift() function shifts the index by a specified number of periods with an optional time frequency.\u001B[39;00m\n\u001B[1;32m     23\u001B[0m \u001B[38;5;66;03m# For example, shifting the temperatures by one day:\u001B[39;00m\n",
      "File \u001B[0;32m~/.anaconda3/lib/python3.12/site-packages/pandas/core/resample.py:1384\u001B[0m, in \u001B[0;36mResampler.mean\u001B[0;34m(self, numeric_only, *args, **kwargs)\u001B[0m\n\u001B[1;32m   1382\u001B[0m maybe_warn_args_and_kwargs(\u001B[38;5;28mtype\u001B[39m(\u001B[38;5;28mself\u001B[39m), \u001B[38;5;124m\"\u001B[39m\u001B[38;5;124mmean\u001B[39m\u001B[38;5;124m\"\u001B[39m, args, kwargs)\n\u001B[1;32m   1383\u001B[0m nv\u001B[38;5;241m.\u001B[39mvalidate_resampler_func(\u001B[38;5;124m\"\u001B[39m\u001B[38;5;124mmean\u001B[39m\u001B[38;5;124m\"\u001B[39m, args, kwargs)\n\u001B[0;32m-> 1384\u001B[0m \u001B[38;5;28;01mreturn\u001B[39;00m \u001B[38;5;28mself\u001B[39m\u001B[38;5;241m.\u001B[39m_downsample(\u001B[38;5;124m\"\u001B[39m\u001B[38;5;124mmean\u001B[39m\u001B[38;5;124m\"\u001B[39m, numeric_only\u001B[38;5;241m=\u001B[39mnumeric_only)\n",
      "File \u001B[0;32m~/.anaconda3/lib/python3.12/site-packages/pandas/core/resample.py:1782\u001B[0m, in \u001B[0;36mDatetimeIndexResampler._downsample\u001B[0;34m(self, how, **kwargs)\u001B[0m\n\u001B[1;32m   1779\u001B[0m \u001B[38;5;66;03m# we are downsampling\u001B[39;00m\n\u001B[1;32m   1780\u001B[0m \u001B[38;5;66;03m# we want to call the actual grouper method here\u001B[39;00m\n\u001B[1;32m   1781\u001B[0m \u001B[38;5;28;01mif\u001B[39;00m \u001B[38;5;28mself\u001B[39m\u001B[38;5;241m.\u001B[39maxis \u001B[38;5;241m==\u001B[39m \u001B[38;5;241m0\u001B[39m:\n\u001B[0;32m-> 1782\u001B[0m     result \u001B[38;5;241m=\u001B[39m obj\u001B[38;5;241m.\u001B[39mgroupby(\u001B[38;5;28mself\u001B[39m\u001B[38;5;241m.\u001B[39m_grouper)\u001B[38;5;241m.\u001B[39maggregate(how, \u001B[38;5;241m*\u001B[39m\u001B[38;5;241m*\u001B[39mkwargs)\n\u001B[1;32m   1783\u001B[0m \u001B[38;5;28;01melse\u001B[39;00m:\n\u001B[1;32m   1784\u001B[0m     \u001B[38;5;66;03m# test_resample_axis1\u001B[39;00m\n\u001B[1;32m   1785\u001B[0m     result \u001B[38;5;241m=\u001B[39m obj\u001B[38;5;241m.\u001B[39mT\u001B[38;5;241m.\u001B[39mgroupby(\u001B[38;5;28mself\u001B[39m\u001B[38;5;241m.\u001B[39m_grouper)\u001B[38;5;241m.\u001B[39maggregate(how, \u001B[38;5;241m*\u001B[39m\u001B[38;5;241m*\u001B[39mkwargs)\u001B[38;5;241m.\u001B[39mT\n",
      "File \u001B[0;32m~/.anaconda3/lib/python3.12/site-packages/pandas/core/groupby/generic.py:1432\u001B[0m, in \u001B[0;36mDataFrameGroupBy.aggregate\u001B[0;34m(self, func, engine, engine_kwargs, *args, **kwargs)\u001B[0m\n\u001B[1;32m   1429\u001B[0m     kwargs[\u001B[38;5;124m\"\u001B[39m\u001B[38;5;124mengine_kwargs\u001B[39m\u001B[38;5;124m\"\u001B[39m] \u001B[38;5;241m=\u001B[39m engine_kwargs\n\u001B[1;32m   1431\u001B[0m op \u001B[38;5;241m=\u001B[39m GroupByApply(\u001B[38;5;28mself\u001B[39m, func, args\u001B[38;5;241m=\u001B[39margs, kwargs\u001B[38;5;241m=\u001B[39mkwargs)\n\u001B[0;32m-> 1432\u001B[0m result \u001B[38;5;241m=\u001B[39m op\u001B[38;5;241m.\u001B[39magg()\n\u001B[1;32m   1433\u001B[0m \u001B[38;5;28;01mif\u001B[39;00m \u001B[38;5;129;01mnot\u001B[39;00m is_dict_like(func) \u001B[38;5;129;01mand\u001B[39;00m result \u001B[38;5;129;01mis\u001B[39;00m \u001B[38;5;129;01mnot\u001B[39;00m \u001B[38;5;28;01mNone\u001B[39;00m:\n\u001B[1;32m   1434\u001B[0m     \u001B[38;5;66;03m# GH #52849\u001B[39;00m\n\u001B[1;32m   1435\u001B[0m     \u001B[38;5;28;01mif\u001B[39;00m \u001B[38;5;129;01mnot\u001B[39;00m \u001B[38;5;28mself\u001B[39m\u001B[38;5;241m.\u001B[39mas_index \u001B[38;5;129;01mand\u001B[39;00m is_list_like(func):\n",
      "File \u001B[0;32m~/.anaconda3/lib/python3.12/site-packages/pandas/core/apply.py:187\u001B[0m, in \u001B[0;36mApply.agg\u001B[0;34m(self)\u001B[0m\n\u001B[1;32m    184\u001B[0m kwargs \u001B[38;5;241m=\u001B[39m \u001B[38;5;28mself\u001B[39m\u001B[38;5;241m.\u001B[39mkwargs\n\u001B[1;32m    186\u001B[0m \u001B[38;5;28;01mif\u001B[39;00m \u001B[38;5;28misinstance\u001B[39m(func, \u001B[38;5;28mstr\u001B[39m):\n\u001B[0;32m--> 187\u001B[0m     \u001B[38;5;28;01mreturn\u001B[39;00m \u001B[38;5;28mself\u001B[39m\u001B[38;5;241m.\u001B[39mapply_str()\n\u001B[1;32m    189\u001B[0m \u001B[38;5;28;01mif\u001B[39;00m is_dict_like(func):\n\u001B[1;32m    190\u001B[0m     \u001B[38;5;28;01mreturn\u001B[39;00m \u001B[38;5;28mself\u001B[39m\u001B[38;5;241m.\u001B[39magg_dict_like()\n",
      "File \u001B[0;32m~/.anaconda3/lib/python3.12/site-packages/pandas/core/apply.py:603\u001B[0m, in \u001B[0;36mApply.apply_str\u001B[0;34m(self)\u001B[0m\n\u001B[1;32m    601\u001B[0m         \u001B[38;5;28;01melse\u001B[39;00m:\n\u001B[1;32m    602\u001B[0m             \u001B[38;5;28mself\u001B[39m\u001B[38;5;241m.\u001B[39mkwargs[\u001B[38;5;124m\"\u001B[39m\u001B[38;5;124maxis\u001B[39m\u001B[38;5;124m\"\u001B[39m] \u001B[38;5;241m=\u001B[39m \u001B[38;5;28mself\u001B[39m\u001B[38;5;241m.\u001B[39maxis\n\u001B[0;32m--> 603\u001B[0m \u001B[38;5;28;01mreturn\u001B[39;00m \u001B[38;5;28mself\u001B[39m\u001B[38;5;241m.\u001B[39m_apply_str(obj, func, \u001B[38;5;241m*\u001B[39m\u001B[38;5;28mself\u001B[39m\u001B[38;5;241m.\u001B[39margs, \u001B[38;5;241m*\u001B[39m\u001B[38;5;241m*\u001B[39m\u001B[38;5;28mself\u001B[39m\u001B[38;5;241m.\u001B[39mkwargs)\n",
      "File \u001B[0;32m~/.anaconda3/lib/python3.12/site-packages/pandas/core/apply.py:693\u001B[0m, in \u001B[0;36mApply._apply_str\u001B[0;34m(self, obj, func, *args, **kwargs)\u001B[0m\n\u001B[1;32m    691\u001B[0m f \u001B[38;5;241m=\u001B[39m \u001B[38;5;28mgetattr\u001B[39m(obj, func)\n\u001B[1;32m    692\u001B[0m \u001B[38;5;28;01mif\u001B[39;00m \u001B[38;5;28mcallable\u001B[39m(f):\n\u001B[0;32m--> 693\u001B[0m     \u001B[38;5;28;01mreturn\u001B[39;00m f(\u001B[38;5;241m*\u001B[39margs, \u001B[38;5;241m*\u001B[39m\u001B[38;5;241m*\u001B[39mkwargs)\n\u001B[1;32m    695\u001B[0m \u001B[38;5;66;03m# people may aggregate on a non-callable attribute\u001B[39;00m\n\u001B[1;32m    696\u001B[0m \u001B[38;5;66;03m# but don't let them think they can pass args to it\u001B[39;00m\n\u001B[1;32m    697\u001B[0m \u001B[38;5;28;01massert\u001B[39;00m \u001B[38;5;28mlen\u001B[39m(args) \u001B[38;5;241m==\u001B[39m \u001B[38;5;241m0\u001B[39m\n",
      "File \u001B[0;32m~/.anaconda3/lib/python3.12/site-packages/pandas/core/groupby/groupby.py:2452\u001B[0m, in \u001B[0;36mGroupBy.mean\u001B[0;34m(self, numeric_only, engine, engine_kwargs)\u001B[0m\n\u001B[1;32m   2445\u001B[0m     \u001B[38;5;28;01mreturn\u001B[39;00m \u001B[38;5;28mself\u001B[39m\u001B[38;5;241m.\u001B[39m_numba_agg_general(\n\u001B[1;32m   2446\u001B[0m         grouped_mean,\n\u001B[1;32m   2447\u001B[0m         executor\u001B[38;5;241m.\u001B[39mfloat_dtype_mapping,\n\u001B[1;32m   2448\u001B[0m         engine_kwargs,\n\u001B[1;32m   2449\u001B[0m         min_periods\u001B[38;5;241m=\u001B[39m\u001B[38;5;241m0\u001B[39m,\n\u001B[1;32m   2450\u001B[0m     )\n\u001B[1;32m   2451\u001B[0m \u001B[38;5;28;01melse\u001B[39;00m:\n\u001B[0;32m-> 2452\u001B[0m     result \u001B[38;5;241m=\u001B[39m \u001B[38;5;28mself\u001B[39m\u001B[38;5;241m.\u001B[39m_cython_agg_general(\n\u001B[1;32m   2453\u001B[0m         \u001B[38;5;124m\"\u001B[39m\u001B[38;5;124mmean\u001B[39m\u001B[38;5;124m\"\u001B[39m,\n\u001B[1;32m   2454\u001B[0m         alt\u001B[38;5;241m=\u001B[39m\u001B[38;5;28;01mlambda\u001B[39;00m x: Series(x, copy\u001B[38;5;241m=\u001B[39m\u001B[38;5;28;01mFalse\u001B[39;00m)\u001B[38;5;241m.\u001B[39mmean(numeric_only\u001B[38;5;241m=\u001B[39mnumeric_only),\n\u001B[1;32m   2455\u001B[0m         numeric_only\u001B[38;5;241m=\u001B[39mnumeric_only,\n\u001B[1;32m   2456\u001B[0m     )\n\u001B[1;32m   2457\u001B[0m     \u001B[38;5;28;01mreturn\u001B[39;00m result\u001B[38;5;241m.\u001B[39m__finalize__(\u001B[38;5;28mself\u001B[39m\u001B[38;5;241m.\u001B[39mobj, method\u001B[38;5;241m=\u001B[39m\u001B[38;5;124m\"\u001B[39m\u001B[38;5;124mgroupby\u001B[39m\u001B[38;5;124m\"\u001B[39m)\n",
      "File \u001B[0;32m~/.anaconda3/lib/python3.12/site-packages/pandas/core/groupby/groupby.py:1998\u001B[0m, in \u001B[0;36mGroupBy._cython_agg_general\u001B[0;34m(self, how, alt, numeric_only, min_count, **kwargs)\u001B[0m\n\u001B[1;32m   1995\u001B[0m     result \u001B[38;5;241m=\u001B[39m \u001B[38;5;28mself\u001B[39m\u001B[38;5;241m.\u001B[39m_agg_py_fallback(how, values, ndim\u001B[38;5;241m=\u001B[39mdata\u001B[38;5;241m.\u001B[39mndim, alt\u001B[38;5;241m=\u001B[39malt)\n\u001B[1;32m   1996\u001B[0m     \u001B[38;5;28;01mreturn\u001B[39;00m result\n\u001B[0;32m-> 1998\u001B[0m new_mgr \u001B[38;5;241m=\u001B[39m data\u001B[38;5;241m.\u001B[39mgrouped_reduce(array_func)\n\u001B[1;32m   1999\u001B[0m res \u001B[38;5;241m=\u001B[39m \u001B[38;5;28mself\u001B[39m\u001B[38;5;241m.\u001B[39m_wrap_agged_manager(new_mgr)\n\u001B[1;32m   2000\u001B[0m \u001B[38;5;28;01mif\u001B[39;00m how \u001B[38;5;129;01min\u001B[39;00m [\u001B[38;5;124m\"\u001B[39m\u001B[38;5;124midxmin\u001B[39m\u001B[38;5;124m\"\u001B[39m, \u001B[38;5;124m\"\u001B[39m\u001B[38;5;124midxmax\u001B[39m\u001B[38;5;124m\"\u001B[39m]:\n",
      "File \u001B[0;32m~/.anaconda3/lib/python3.12/site-packages/pandas/core/internals/managers.py:1469\u001B[0m, in \u001B[0;36mBlockManager.grouped_reduce\u001B[0;34m(self, func)\u001B[0m\n\u001B[1;32m   1465\u001B[0m \u001B[38;5;28;01mif\u001B[39;00m blk\u001B[38;5;241m.\u001B[39mis_object:\n\u001B[1;32m   1466\u001B[0m     \u001B[38;5;66;03m# split on object-dtype blocks bc some columns may raise\u001B[39;00m\n\u001B[1;32m   1467\u001B[0m     \u001B[38;5;66;03m#  while others do not.\u001B[39;00m\n\u001B[1;32m   1468\u001B[0m     \u001B[38;5;28;01mfor\u001B[39;00m sb \u001B[38;5;129;01min\u001B[39;00m blk\u001B[38;5;241m.\u001B[39m_split():\n\u001B[0;32m-> 1469\u001B[0m         applied \u001B[38;5;241m=\u001B[39m sb\u001B[38;5;241m.\u001B[39mapply(func)\n\u001B[1;32m   1470\u001B[0m         result_blocks \u001B[38;5;241m=\u001B[39m extend_blocks(applied, result_blocks)\n\u001B[1;32m   1471\u001B[0m \u001B[38;5;28;01melse\u001B[39;00m:\n",
      "File \u001B[0;32m~/.anaconda3/lib/python3.12/site-packages/pandas/core/internals/blocks.py:393\u001B[0m, in \u001B[0;36mBlock.apply\u001B[0;34m(self, func, **kwargs)\u001B[0m\n\u001B[1;32m    387\u001B[0m \u001B[38;5;129m@final\u001B[39m\n\u001B[1;32m    388\u001B[0m \u001B[38;5;28;01mdef\u001B[39;00m \u001B[38;5;21mapply\u001B[39m(\u001B[38;5;28mself\u001B[39m, func, \u001B[38;5;241m*\u001B[39m\u001B[38;5;241m*\u001B[39mkwargs) \u001B[38;5;241m-\u001B[39m\u001B[38;5;241m>\u001B[39m \u001B[38;5;28mlist\u001B[39m[Block]:\n\u001B[1;32m    389\u001B[0m \u001B[38;5;250m    \u001B[39m\u001B[38;5;124;03m\"\"\"\u001B[39;00m\n\u001B[1;32m    390\u001B[0m \u001B[38;5;124;03m    apply the function to my values; return a block if we are not\u001B[39;00m\n\u001B[1;32m    391\u001B[0m \u001B[38;5;124;03m    one\u001B[39;00m\n\u001B[1;32m    392\u001B[0m \u001B[38;5;124;03m    \"\"\"\u001B[39;00m\n\u001B[0;32m--> 393\u001B[0m     result \u001B[38;5;241m=\u001B[39m func(\u001B[38;5;28mself\u001B[39m\u001B[38;5;241m.\u001B[39mvalues, \u001B[38;5;241m*\u001B[39m\u001B[38;5;241m*\u001B[39mkwargs)\n\u001B[1;32m    395\u001B[0m     result \u001B[38;5;241m=\u001B[39m maybe_coerce_values(result)\n\u001B[1;32m    396\u001B[0m     \u001B[38;5;28;01mreturn\u001B[39;00m \u001B[38;5;28mself\u001B[39m\u001B[38;5;241m.\u001B[39m_split_op_result(result)\n",
      "File \u001B[0;32m~/.anaconda3/lib/python3.12/site-packages/pandas/core/groupby/groupby.py:1995\u001B[0m, in \u001B[0;36mGroupBy._cython_agg_general.<locals>.array_func\u001B[0;34m(values)\u001B[0m\n\u001B[1;32m   1992\u001B[0m     \u001B[38;5;28;01mreturn\u001B[39;00m result\n\u001B[1;32m   1994\u001B[0m \u001B[38;5;28;01massert\u001B[39;00m alt \u001B[38;5;129;01mis\u001B[39;00m \u001B[38;5;129;01mnot\u001B[39;00m \u001B[38;5;28;01mNone\u001B[39;00m\n\u001B[0;32m-> 1995\u001B[0m result \u001B[38;5;241m=\u001B[39m \u001B[38;5;28mself\u001B[39m\u001B[38;5;241m.\u001B[39m_agg_py_fallback(how, values, ndim\u001B[38;5;241m=\u001B[39mdata\u001B[38;5;241m.\u001B[39mndim, alt\u001B[38;5;241m=\u001B[39malt)\n\u001B[1;32m   1996\u001B[0m \u001B[38;5;28;01mreturn\u001B[39;00m result\n",
      "File \u001B[0;32m~/.anaconda3/lib/python3.12/site-packages/pandas/core/groupby/groupby.py:1946\u001B[0m, in \u001B[0;36mGroupBy._agg_py_fallback\u001B[0;34m(self, how, values, ndim, alt)\u001B[0m\n\u001B[1;32m   1944\u001B[0m     msg \u001B[38;5;241m=\u001B[39m \u001B[38;5;124mf\u001B[39m\u001B[38;5;124m\"\u001B[39m\u001B[38;5;124magg function failed [how->\u001B[39m\u001B[38;5;132;01m{\u001B[39;00mhow\u001B[38;5;132;01m}\u001B[39;00m\u001B[38;5;124m,dtype->\u001B[39m\u001B[38;5;132;01m{\u001B[39;00mser\u001B[38;5;241m.\u001B[39mdtype\u001B[38;5;132;01m}\u001B[39;00m\u001B[38;5;124m]\u001B[39m\u001B[38;5;124m\"\u001B[39m\n\u001B[1;32m   1945\u001B[0m     \u001B[38;5;66;03m# preserve the kind of exception that raised\u001B[39;00m\n\u001B[0;32m-> 1946\u001B[0m     \u001B[38;5;28;01mraise\u001B[39;00m \u001B[38;5;28mtype\u001B[39m(err)(msg) \u001B[38;5;28;01mfrom\u001B[39;00m \u001B[38;5;21;01merr\u001B[39;00m\n\u001B[1;32m   1948\u001B[0m \u001B[38;5;28;01mif\u001B[39;00m ser\u001B[38;5;241m.\u001B[39mdtype \u001B[38;5;241m==\u001B[39m \u001B[38;5;28mobject\u001B[39m:\n\u001B[1;32m   1949\u001B[0m     res_values \u001B[38;5;241m=\u001B[39m res_values\u001B[38;5;241m.\u001B[39mastype(\u001B[38;5;28mobject\u001B[39m, copy\u001B[38;5;241m=\u001B[39m\u001B[38;5;28;01mFalse\u001B[39;00m)\n",
      "\u001B[0;31mTypeError\u001B[0m: agg function failed [how->mean,dtype->object]"
     ]
    }
   ],
   "execution_count": 29
  },
  {
   "metadata": {},
   "cell_type": "code",
   "outputs": [],
   "execution_count": null,
   "source": ""
  }
 ],
 "metadata": {
  "celltoolbar": "Tags",
  "kernelspec": {
   "display_name": "Python 3 (ipykernel)",
   "language": "python",
   "name": "python3"
  },
  "language_info": {
   "codemirror_mode": {
    "name": "ipython",
    "version": 3
   },
   "file_extension": ".py",
   "mimetype": "text/x-python",
   "name": "python",
   "nbconvert_exporter": "python",
   "pygments_lexer": "ipython3",
   "version": "3.8.2"
  }
 },
 "nbformat": 4,
 "nbformat_minor": 4
}
