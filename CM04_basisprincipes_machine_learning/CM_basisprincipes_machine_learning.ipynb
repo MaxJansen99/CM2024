{
 "cells": [
  {
   "metadata": {},
   "cell_type": "markdown",
   "source": [
    "    ## 1.\n",
    "- Age = Discreet\n",
    "- Cabin = Ordinaal\n",
    "- Mean = 29.70\n",
    "- Std = 14.53"
   ],
   "id": "4beb7f3d87912e61"
  },
  {
   "metadata": {},
   "cell_type": "markdown",
   "source": [
    "## 2.\n",
    "- Dat vrouwen een hogere kans hebben om te overleven\n",
    "- Ik zou er een classificatie model over heen laten lopen"
   ],
   "id": "8be587977d4af512"
  },
  {
   "metadata": {},
   "cell_type": "markdown",
   "source": [
    "## 3.\n",
    "- Dat de mensen met een hogere klassen een betere kans hebben om te overleven\n",
    "- Ik zou er een classificatie model over heen laten lopen\n"
   ],
   "id": "d30edb59147e79bb"
  },
  {
   "metadata": {},
   "cell_type": "markdown",
   "source": [
    "## 4.\n",
    "- Om een duidelijk onderschijd te maken tussen de groepen. In plaats van iedere leeftijd indivueel aan te pakken\n",
    "- Dat het van discreet naar ordinaal"
   ],
   "id": "b86c97589960bd68"
  },
  {
   "metadata": {},
   "cell_type": "markdown",
   "source": [
    "## 5.\n",
    "- Die heeft hij in een categorie \"Unknown\" gestopt. Verder heeft hij er niet veel mee gedaan."
   ],
   "id": "7854122eaaaf3745"
  },
  {
   "metadata": {},
   "cell_type": "markdown",
   "source": [
    "## 6.\n",
    "- Hij gaat er van uit dat mensen waarvan hun cabine bekend waren meer kans hadden om te overleven."
   ],
   "id": "68e534e58fbd034e"
  },
  {
   "metadata": {},
   "cell_type": "markdown",
   "source": [
    "## 7.\n",
    "- Features: Survived, PassengerId\n",
    "- Target: Survived\n",
    "- Survived: Nominaal\n",
    "- PassengerId: Nominaal"
   ],
   "id": "d9f5572ee05bf135"
  },
  {
   "metadata": {},
   "cell_type": "markdown",
   "source": [
    "## 8.\n",
    "- De jongen zou het overleven"
   ],
   "id": "1dde8f8ad3f4e86c"
  },
  {
   "metadata": {},
   "cell_type": "markdown",
   "source": [
    "## 9.\n",
    "- Nee\n",
    "- Omdat het iets is wat al gebeurd is en daarvoor al data heeft. Het heeft dus geen nut om unsupervised te voorspellen"
   ],
   "id": "fd74ea4ca4ac1b59"
  },
  {
   "metadata": {},
   "cell_type": "markdown",
   "source": [
    "## 10.\n",
    "- Gradient Boosting Classifier: 84.77\n",
    "- Dat het 84.77% accuraat is"
   ],
   "id": "8c4ef67dba7c8bac"
  }
 ],
 "metadata": {
  "kernelspec": {
   "display_name": "Python 3",
   "language": "python",
   "name": "python3"
  },
  "language_info": {
   "codemirror_mode": {
    "name": "ipython",
    "version": 2
   },
   "file_extension": ".py",
   "mimetype": "text/x-python",
   "name": "python",
   "nbconvert_exporter": "python",
   "pygments_lexer": "ipython2",
   "version": "2.7.6"
  }
 },
 "nbformat": 4,
 "nbformat_minor": 5
}
