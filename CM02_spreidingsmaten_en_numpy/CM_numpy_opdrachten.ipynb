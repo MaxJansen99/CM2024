{
 "cells": [
  {
   "cell_type": "markdown",
   "metadata": {},
   "source": [
    "    # NumPy Opdrachten\n",
    "\n",
    "In dit notebook vind je de volgende opdrachten:\n",
    "\n",
    "\n",
    "- <a href=\"#np_opdracht1\"> Opdracht 1</a> Maak deze opdracht ter voorbereiding op het college over NumPy.\n",
    "- <a href=\"#np_opdracht2\"> Opdracht 2</a> Hiermee gaan we in het college aan de slag.\n",
    "- <a href=\"#np_opdracht3\"> Opdracht 3</a> Hiermee gaan we in het college aan de slag.\n",
    "- <a href=\"#np_opdracht4\"> Opdracht 4</a> Deze opdracht is facultatief, voor als je meer uitdaging wilt."
   ]
  },
  {
   "cell_type": "markdown",
   "metadata": {
    "tags": []
   },
   "source": [
    "<a id=\"np_opdracht1\"></a>\n",
    "## Opdracht 1 \n",
    "**Maak deze opdracht ter voorbereiding op het college**"
   ]
  },
  {
   "cell_type": "code",
   "metadata": {
    "ExecuteTime": {
     "end_time": "2024-10-06T15:35:01.268086Z",
     "start_time": "2024-10-06T15:35:01.266376Z"
    }
   },
   "source": [
    "import numpy as np"
   ],
   "outputs": [],
   "execution_count": 60
  },
  {
   "cell_type": "markdown",
   "metadata": {},
   "source": [
    "- Maak een 1D array x aan met de cijfers 0 t/m 5"
   ]
  },
  {
   "cell_type": "code",
   "metadata": {
    "tags": [
     "student"
    ],
    "ExecuteTime": {
     "end_time": "2024-10-06T15:35:01.274282Z",
     "start_time": "2024-10-06T15:35:01.272774Z"
    }
   },
   "source": [
    "x = np.arange(0, 6)"
   ],
   "outputs": [],
   "execution_count": 61
  },
  {
   "cell_type": "markdown",
   "metadata": {},
   "source": [
    "- Laat de vorm (grootte van de dimensies) van de array zien"
   ]
  },
  {
   "cell_type": "code",
   "metadata": {
    "tags": [
     "student"
    ],
    "ExecuteTime": {
     "end_time": "2024-10-06T15:35:01.319547Z",
     "start_time": "2024-10-06T15:35:01.317596Z"
    }
   },
   "source": [
    "np.shape(x)"
   ],
   "outputs": [
    {
     "data": {
      "text/plain": [
       "(6,)"
      ]
     },
     "execution_count": 62,
     "metadata": {},
     "output_type": "execute_result"
    }
   ],
   "execution_count": 62
  },
  {
   "cell_type": "markdown",
   "metadata": {},
   "source": [
    "- Hervorm de array x tot een 2D array (2, 3) "
   ]
  },
  {
   "cell_type": "code",
   "metadata": {
    "tags": [
     "student"
    ],
    "ExecuteTime": {
     "end_time": "2024-10-06T15:35:01.432606Z",
     "start_time": "2024-10-06T15:35:01.430157Z"
    }
   },
   "source": [
    "x = np.reshape(x, (2, 3))\n",
    "x"
   ],
   "outputs": [
    {
     "data": {
      "text/plain": [
       "array([[0, 1, 2],\n",
       "       [3, 4, 5]])"
      ]
     },
     "execution_count": 63,
     "metadata": {},
     "output_type": "execute_result"
    }
   ],
   "execution_count": 63
  },
  {
   "cell_type": "markdown",
   "metadata": {},
   "source": [
    "- Wat is nu de vorm?\n"
   ]
  },
  {
   "cell_type": "code",
   "metadata": {
    "tags": [
     "student"
    ],
    "ExecuteTime": {
     "end_time": "2024-10-06T15:35:01.495066Z",
     "start_time": "2024-10-06T15:35:01.493158Z"
    }
   },
   "source": [
    "np.shape(x)"
   ],
   "outputs": [
    {
     "data": {
      "text/plain": [
       "(2, 3)"
      ]
     },
     "execution_count": 64,
     "metadata": {},
     "output_type": "execute_result"
    }
   ],
   "execution_count": 64
  },
  {
   "cell_type": "markdown",
   "metadata": {},
   "source": [
    "- Laat het datatype zien\n"
   ]
  },
  {
   "cell_type": "code",
   "metadata": {
    "tags": [
     "student"
    ],
    "ExecuteTime": {
     "end_time": "2024-10-06T15:35:01.546225Z",
     "start_time": "2024-10-06T15:35:01.544248Z"
    }
   },
   "source": [
    "type(x)"
   ],
   "outputs": [
    {
     "data": {
      "text/plain": [
       "numpy.ndarray"
      ]
     },
     "execution_count": 65,
     "metadata": {},
     "output_type": "execute_result"
    }
   ],
   "execution_count": 65
  },
  {
   "cell_type": "markdown",
   "metadata": {},
   "source": [
    "- Sla een kopie van de array op in y\n"
   ]
  },
  {
   "cell_type": "code",
   "metadata": {
    "tags": [
     "student"
    ],
    "ExecuteTime": {
     "end_time": "2024-10-06T15:35:01.644507Z",
     "start_time": "2024-10-06T15:35:01.642760Z"
    }
   },
   "source": [
    "y = np.copy(x)"
   ],
   "outputs": [],
   "execution_count": 66
  },
  {
   "cell_type": "markdown",
   "metadata": {},
   "source": [
    "- Maak een transpose van x\n",
    "\n"
   ]
  },
  {
   "cell_type": "code",
   "metadata": {
    "tags": [
     "student"
    ],
    "ExecuteTime": {
     "end_time": "2024-10-06T15:35:01.679860Z",
     "start_time": "2024-10-06T15:35:01.678149Z"
    }
   },
   "source": [
    "x = np.transpose(x)"
   ],
   "outputs": [],
   "execution_count": 67
  },
  {
   "cell_type": "markdown",
   "metadata": {},
   "source": [
    "- Maak een transpose van y\n"
   ]
  },
  {
   "cell_type": "code",
   "metadata": {
    "tags": [
     "student"
    ],
    "ExecuteTime": {
     "end_time": "2024-10-06T15:35:01.733034Z",
     "start_time": "2024-10-06T15:35:01.730328Z"
    }
   },
   "source": [
    "y = np.transpose(y)\n",
    "y"
   ],
   "outputs": [
    {
     "data": {
      "text/plain": [
       "array([[0, 3],\n",
       "       [1, 4],\n",
       "       [2, 5]])"
      ]
     },
     "execution_count": 68,
     "metadata": {},
     "output_type": "execute_result"
    }
   ],
   "execution_count": 68
  },
  {
   "cell_type": "markdown",
   "metadata": {},
   "source": [
    "- Vermenigvuldig alle waarden van y met 2\n"
   ]
  },
  {
   "cell_type": "code",
   "metadata": {
    "tags": [
     "student"
    ],
    "ExecuteTime": {
     "end_time": "2024-10-06T15:35:01.797527Z",
     "start_time": "2024-10-06T15:35:01.795380Z"
    }
   },
   "source": [
    "y = np.multiply(y, 2)\n",
    "y"
   ],
   "outputs": [
    {
     "data": {
      "text/plain": [
       "array([[ 0,  6],\n",
       "       [ 2,  8],\n",
       "       [ 4, 10]])"
      ]
     },
     "execution_count": 69,
     "metadata": {},
     "output_type": "execute_result"
    }
   ],
   "execution_count": 69
  },
  {
   "cell_type": "markdown",
   "metadata": {},
   "source": [
    "- Concateneer de twee arrays in een nieuwe array `z`\n"
   ]
  },
  {
   "cell_type": "code",
   "metadata": {
    "tags": [
     "student"
    ],
    "ExecuteTime": {
     "end_time": "2024-10-06T15:35:01.854918Z",
     "start_time": "2024-10-06T15:35:01.852783Z"
    }
   },
   "source": [
    "z = np.concatenate((x, y), axis=0)\n",
    "z"
   ],
   "outputs": [
    {
     "data": {
      "text/plain": [
       "array([[ 0,  3],\n",
       "       [ 1,  4],\n",
       "       [ 2,  5],\n",
       "       [ 0,  6],\n",
       "       [ 2,  8],\n",
       "       [ 4, 10]])"
      ]
     },
     "execution_count": 70,
     "metadata": {},
     "output_type": "execute_result"
    }
   ],
   "execution_count": 70
  },
  {
   "cell_type": "markdown",
   "metadata": {},
   "source": [
    "- Geef het gemiddelde, modus, mediaan en de standaarddeviatie van z\n"
   ]
  },
  {
   "cell_type": "code",
   "metadata": {
    "tags": [
     "student"
    ],
    "ExecuteTime": {
     "end_time": "2024-10-06T15:35:01.921729Z",
     "start_time": "2024-10-06T15:35:01.920092Z"
    }
   },
   "source": [
    "z_mean = np.mean(z)\n",
    "z_median = np.median(z)\n",
    "z_std = np.std(z)"
   ],
   "outputs": [],
   "execution_count": 71
  },
  {
   "cell_type": "markdown",
   "metadata": {
    "tags": []
   },
   "source": [
    "<a id=\"np_opdracht2\"></a>\n",
    "## Opdracht 2\n",
    "**Python list vs. NumPy**"
   ]
  },
  {
   "cell_type": "markdown",
   "metadata": {
    "tags": []
   },
   "source": [
    "- Maak een list `lst` met 1.000.001 willekeurige getallen tussen 0 en 10 (gebruik `random.randint(0, 10)`)\n",
    "- Bepaal de mediaan\n",
    "- Maak een list met daarin het kwadraat van elk element in `lst`\n",
    "- Maak een list met daarin alleen alle even getallen uit `lst`\n",
    "- Maak een tweede list `lst2` met 1.000.001 willekeurige getallen\n",
    "- Maak een list met daarin de som van de elementen uit `lst` en `lst2`, dus:\n",
    "  - `lst_samen[0] = lst[0] + lst2[0]`,\n",
    "  - `lst_samen[1] = lst[1] + lst2[1]`,\n",
    "  - etc.\n",
    "\n",
    "- Doe bovenstaande ook met Numpy\n",
    "\n",
    "- Gebruik `%timeit` voor je code om de snelheid te vergelijken"
   ]
  },
  {
   "cell_type": "code",
   "metadata": {
    "tags": [],
    "ExecuteTime": {
     "end_time": "2024-10-06T15:35:01.975869Z",
     "start_time": "2024-10-06T15:35:01.974151Z"
    }
   },
   "source": [
    "import math\n",
    "import random\n",
    "import numpy as np"
   ],
   "outputs": [],
   "execution_count": 72
  },
  {
   "cell_type": "code",
   "metadata": {
    "ExecuteTime": {
     "end_time": "2024-10-06T15:35:07.898436Z",
     "start_time": "2024-10-06T15:35:02.055917Z"
    }
   },
   "source": [
    "lst1 = [random.randint(0, 10) for _ in range(10000001)]\n",
    "lst2 = [random.randint(0, 10) for _ in range(10000001)]\n",
    "\n",
    "def py_median(x):\n",
    "    if len(x) % 2 == 0:\n",
    "        idx_l = math.floor((len(x) -1) / 2)\n",
    "        idx_r = math.ceil((len(x) -1) / 2)\n",
    "        return (x[idx_l] + x[idx_r]) / 2\n",
    "    else:\n",
    "        idx = int(len(x) / 2)\n",
    "        return x[idx]\n",
    "        \n",
    "def py_square(x):\n",
    "    return [math.sqrt(i) for i in x]\n",
    "\n",
    "def py_even(x):\n",
    "    return [x for x in x if x % 2 == 0]\n",
    "\n",
    "\n",
    "def py_sum(x, y):\n",
    "    z = x + y   \n",
    "    print(sum(z))\n",
    "    \n",
    "py_median(lst1)\n",
    "py_square(lst1)\n",
    "py_even(lst1)\n",
    "py_sum(lst1, lst2)"
   ],
   "outputs": [
    {
     "name": "stdout",
     "output_type": "stream",
     "text": [
      "100018752\n"
     ]
    }
   ],
   "execution_count": 73
  },
  {
   "metadata": {
    "ExecuteTime": {
     "end_time": "2024-10-06T15:35:08.291864Z",
     "start_time": "2024-10-06T15:35:07.901404Z"
    }
   },
   "cell_type": "code",
   "source": [
    "lst3 = np.random.randint(0, 10, 10000001)\n",
    "lst4 = np.random.randint(0, 10, 10000001)\n",
    "\n",
    "def np_median(x):\n",
    "    return np.median(x)\n",
    "        \n",
    "def np_square(x):\n",
    "    return np.sqrt(x)\n",
    "\n",
    "def np_even(x):\n",
    "    return x[x % 2 == 0]\n",
    "\n",
    "def np_sum(x, y):\n",
    "    return np.sum(x + y)\n",
    "        \n",
    "np_median(lst3)\n",
    "np_square(lst3)\n",
    "np_even(lst3)\n",
    "np_sum(lst3, lst4)\n"
   ],
   "outputs": [
    {
     "data": {
      "text/plain": [
       "89969977"
      ]
     },
     "execution_count": 74,
     "metadata": {},
     "output_type": "execute_result"
    }
   ],
   "execution_count": 74
  },
  {
   "cell_type": "markdown",
   "metadata": {},
   "source": [
    "<a id=\"np_opdracht3\"></a>\n",
    "## Opdracht 3\n",
    "\n",
    "De blokcoördinator D.O. Cent van blok A  wil graag de cijfers analyseren en verwerken. Het blok bestaat uit 3 vakken, die door 10 studenten gevolgd zijn. Analyse omvat o.a. het bepalen van gemiddelde cijfer, het aantal voldoendes en cursusrendement. De verwerking bestaat uit het corrigeren van de cijfers.\n",
    "\n",
    "In `blokAcijfers.txt` staan de cijfers per vak (naast elkaar staan de vakken, onder elkaar de studenten):\n",
    "\n",
    "vak1 | vak2 | vak3\n",
    "----|-------|------\n",
    "6.5 | 7.3   | 6.4\n",
    "8.0 | 8.0\t| 8.5\n",
    "3.2\t| 4.0\t| 5.0\n",
    "7.9\t| 7.1\t| 3.5\n",
    "7.3\t| 7.8\t| 8.0\n",
    "8.6\t| 8.0\t| 9.0\n",
    "4.0\t| 6.0\t| 5.5\n",
    "7.3\t| 7.8\t| 7.8\n",
    "4.5\t| 5.6\t| 7.7\n",
    "5.0\t| 7.0\t| 7.2\n"
   ]
  },
  {
   "cell_type": "code",
   "metadata": {
    "ExecuteTime": {
     "end_time": "2024-10-06T15:35:08.301657Z",
     "start_time": "2024-10-06T15:35:08.300246Z"
    }
   },
   "source": [
    "import numpy as np"
   ],
   "outputs": [],
   "execution_count": 75
  },
  {
   "cell_type": "markdown",
   "metadata": {},
   "source": [
    "Start met de data verzamelen:\n",
    "- Lees tekstbestand: blokAcijfers.txt in met `np.loadtxt`, sla de data op in een numpy array met naam `vCijfers`.\n",
    "- Laat zien dat de gegevens goed ingelezen zijn.\n",
    "- Toon de array attributen."
   ]
  },
  {
   "cell_type": "code",
   "metadata": {
    "scrolled": true,
    "tags": [
     "student"
    ],
    "ExecuteTime": {
     "end_time": "2024-10-06T15:35:08.347844Z",
     "start_time": "2024-10-06T15:35:08.345549Z"
    }
   },
   "source": [
    "vCijfers = np.loadtxt('blokAcijfers.txt')\n",
    "vCijfers"
   ],
   "outputs": [
    {
     "data": {
      "text/plain": [
       "array([[6.5, 7.3, 6.4],\n",
       "       [8. , 8. , 8.5],\n",
       "       [3.2, 4. , 5. ],\n",
       "       [7.9, 7.1, 3.5],\n",
       "       [7.3, 7.8, 8. ],\n",
       "       [8.6, 8. , 9. ],\n",
       "       [4. , 6. , 5.5],\n",
       "       [7.3, 7.8, 7.8],\n",
       "       [4.5, 5.6, 7.7],\n",
       "       [5. , 7. , 7.2]])"
      ]
     },
     "execution_count": 76,
     "metadata": {},
     "output_type": "execute_result"
    }
   ],
   "execution_count": 76
  },
  {
   "cell_type": "markdown",
   "metadata": {},
   "source": [
    "De docent ziet dat er 2 cijfers fout zijn en wil deze corrigeren\n",
    "-\tWijzig de volgende cijfers:\n",
    "    *\tvak-2, student-3  cijfer 4.0 moet 4.3 worden.\n",
    "    *\tvak-1, student-10, cijfer 5.0 moet 4.8 worden."
   ]
  },
  {
   "cell_type": "code",
   "metadata": {
    "tags": [
     "student"
    ],
    "ExecuteTime": {
     "end_time": "2024-10-06T15:35:08.445640Z",
     "start_time": "2024-10-06T15:35:08.443475Z"
    }
   },
   "source": [
    "vCijfers[2, 1] = 4.3\n",
    "vCijfers[9, 0] = 4.6\n",
    "vCijfers"
   ],
   "outputs": [
    {
     "data": {
      "text/plain": [
       "array([[6.5, 7.3, 6.4],\n",
       "       [8. , 8. , 8.5],\n",
       "       [3.2, 4.3, 5. ],\n",
       "       [7.9, 7.1, 3.5],\n",
       "       [7.3, 7.8, 8. ],\n",
       "       [8.6, 8. , 9. ],\n",
       "       [4. , 6. , 5.5],\n",
       "       [7.3, 7.8, 7.8],\n",
       "       [4.5, 5.6, 7.7],\n",
       "       [4.6, 7. , 7.2]])"
      ]
     },
     "execution_count": 77,
     "metadata": {},
     "output_type": "execute_result"
    }
   ],
   "execution_count": 77
  },
  {
   "cell_type": "markdown",
   "metadata": {},
   "source": [
    "De docent wil wat basisgegevens weten.\n",
    "-\tBepaal minimum, maximum en gemiddelde van alle cijfers.\n",
    "-\tBepaal minimum, maximum en gemiddelde van elk vak (3 getallen).\n",
    "-\tBepaal minimum, maximum en gemiddelde van elke student (10 getallen)."
   ]
  },
  {
   "cell_type": "code",
   "metadata": {
    "tags": [
     "student"
    ],
    "ExecuteTime": {
     "end_time": "2024-10-06T15:35:08.569713Z",
     "start_time": "2024-10-06T15:35:08.568025Z"
    }
   },
   "source": [
    "for i in vCijfers:\n",
    "    print(f\"Min: {np.min(i)}\")"
   ],
   "outputs": [
    {
     "name": "stdout",
     "output_type": "stream",
     "text": [
      "Min: 6.4\n",
      "Min: 8.0\n",
      "Min: 3.2\n",
      "Min: 3.5\n",
      "Min: 7.3\n",
      "Min: 8.0\n",
      "Min: 4.0\n",
      "Min: 7.3\n",
      "Min: 4.5\n",
      "Min: 4.6\n"
     ]
    }
   ],
   "execution_count": 78
  },
  {
   "cell_type": "code",
   "metadata": {
    "ExecuteTime": {
     "end_time": "2024-10-06T15:35:08.611811Z",
     "start_time": "2024-10-06T15:35:08.609912Z"
    }
   },
   "source": [
    "for i in vCijfers:\n",
    "    print(f\"Max: {np.max(i)}\")"
   ],
   "outputs": [
    {
     "name": "stdout",
     "output_type": "stream",
     "text": [
      "Max: 7.3\n",
      "Max: 8.5\n",
      "Max: 5.0\n",
      "Max: 7.9\n",
      "Max: 8.0\n",
      "Max: 9.0\n",
      "Max: 6.0\n",
      "Max: 7.8\n",
      "Max: 7.7\n",
      "Max: 7.2\n"
     ]
    }
   ],
   "execution_count": 79
  },
  {
   "cell_type": "code",
   "metadata": {
    "ExecuteTime": {
     "end_time": "2024-10-06T15:35:08.633584Z",
     "start_time": "2024-10-06T15:35:08.631892Z"
    }
   },
   "source": [
    "for i in vCijfers:\n",
    "    print(f\"Mean: {np.mean(i)}\")"
   ],
   "outputs": [
    {
     "name": "stdout",
     "output_type": "stream",
     "text": [
      "Mean: 6.733333333333334\n",
      "Mean: 8.166666666666666\n",
      "Mean: 4.166666666666667\n",
      "Mean: 6.166666666666667\n",
      "Mean: 7.7\n",
      "Mean: 8.533333333333333\n",
      "Mean: 5.166666666666667\n",
      "Mean: 7.633333333333333\n",
      "Mean: 5.933333333333334\n",
      "Mean: 6.266666666666667\n"
     ]
    }
   ],
   "execution_count": 80
  },
  {
   "cell_type": "markdown",
   "metadata": {},
   "source": [
    "De docent wil graag zien wat de cijfers zijn als ze afgerond worden op hele getallen.\n",
    "-\tKopieer de array naar een nieuwe array.\n",
    "-\tRond de waarden af.\n",
    "-\tLaat de resultaten zien."
   ]
  },
  {
   "cell_type": "code",
   "metadata": {
    "tags": [
     "student"
    ],
    "ExecuteTime": {
     "end_time": "2024-10-06T15:35:08.677187Z",
     "start_time": "2024-10-06T15:35:08.674794Z"
    }
   },
   "source": [
    "vCijfers2 = np.copy(vCijfers)\n",
    "np.round(vCijfers2)"
   ],
   "outputs": [
    {
     "data": {
      "text/plain": [
       "array([[6., 7., 6.],\n",
       "       [8., 8., 8.],\n",
       "       [3., 4., 5.],\n",
       "       [8., 7., 4.],\n",
       "       [7., 8., 8.],\n",
       "       [9., 8., 9.],\n",
       "       [4., 6., 6.],\n",
       "       [7., 8., 8.],\n",
       "       [4., 6., 8.],\n",
       "       [5., 7., 7.]])"
      ]
     },
     "execution_count": 81,
     "metadata": {},
     "output_type": "execute_result"
    }
   ],
   "execution_count": 81
  },
  {
   "cell_type": "markdown",
   "metadata": {},
   "source": [
    "Er is een fout gemaakt bij de cijfers van het 1e vak. Iedere student krijgt 0.5 punt extra erbij.\n",
    "-\tVul een ‘ophoogarray’ bestaande uit 3 kolommen en elk 10 rijen en vul deze eerst met 0.0 en daarna de eerste rij met de waarden 0.5.\n",
    "-\tTel de ophoogarray op bij de cijfer array."
   ]
  },
  {
   "cell_type": "code",
   "metadata": {
    "tags": [
     "student"
    ],
    "ExecuteTime": {
     "end_time": "2024-10-06T15:35:08.737576Z",
     "start_time": "2024-10-06T15:35:08.735374Z"
    }
   },
   "source": [
    "ophoogarray = np.zeros((10,3))\n",
    "ophoogarray[:,0] += 0.5 \n",
    "vCijfers2 += ophoogarray\n",
    "vCijfers2"
   ],
   "outputs": [
    {
     "data": {
      "text/plain": [
       "array([[7. , 7.3, 6.4],\n",
       "       [8.5, 8. , 8.5],\n",
       "       [3.7, 4.3, 5. ],\n",
       "       [8.4, 7.1, 3.5],\n",
       "       [7.8, 7.8, 8. ],\n",
       "       [9.1, 8. , 9. ],\n",
       "       [4.5, 6. , 5.5],\n",
       "       [7.8, 7.8, 7.8],\n",
       "       [5. , 5.6, 7.7],\n",
       "       [5.1, 7. , 7.2]])"
      ]
     },
     "execution_count": 82,
     "metadata": {},
     "output_type": "execute_result"
    }
   ],
   "execution_count": 82
  },
  {
   "metadata": {
    "tags": [
     "student"
    ],
    "ExecuteTime": {
     "end_time": "2024-10-06T15:35:08.794Z",
     "start_time": "2024-10-06T15:35:08.791857Z"
    }
   },
   "cell_type": "code",
   "source": [
    "isVld = vCijfers2 >= 5.5\n",
    "isVld"
   ],
   "outputs": [
    {
     "data": {
      "text/plain": [
       "array([[ True,  True,  True],\n",
       "       [ True,  True,  True],\n",
       "       [False, False, False],\n",
       "       [ True,  True, False],\n",
       "       [ True,  True,  True],\n",
       "       [ True,  True,  True],\n",
       "       [False,  True,  True],\n",
       "       [ True,  True,  True],\n",
       "       [False,  True,  True],\n",
       "       [False,  True,  True]])"
      ]
     },
     "execution_count": 83,
     "metadata": {},
     "output_type": "execute_result"
    }
   ],
   "execution_count": 83
  },
  {
   "metadata": {},
   "cell_type": "markdown",
   "source": [
    "De docent wil een lijstje waarin hij in één opslag ziet waar een voldoende (`True`) en waar een onvoldoende (`False`) staat.  \n",
    "-\tMaakt dit lijstje."
   ]
  },
  {
   "cell_type": "markdown",
   "metadata": {},
   "source": [
    "<a id=\"np_opdracht4\"></a>\n",
    "## Opdracht 4\n",
    "**Deze opdracht is facultatief**"
   ]
  },
  {
   "cell_type": "code",
   "metadata": {
    "ExecuteTime": {
     "end_time": "2024-10-06T15:35:08.854768Z",
     "start_time": "2024-10-06T15:35:08.853307Z"
    }
   },
   "source": [
    "import numpy as np"
   ],
   "outputs": [],
   "execution_count": 84
  },
  {
   "cell_type": "markdown",
   "metadata": {},
   "source": [
    "#### 3. Create a null vector of size 10"
   ]
  },
  {
   "cell_type": "code",
   "metadata": {
    "tags": [
     "student"
    ],
    "ExecuteTime": {
     "end_time": "2024-10-06T15:35:08.904160Z",
     "start_time": "2024-10-06T15:35:08.901431Z"
    }
   },
   "source": [
    "a = np.zeros(10)\n",
    "a"
   ],
   "outputs": [
    {
     "data": {
      "text/plain": [
       "array([0., 0., 0., 0., 0., 0., 0., 0., 0., 0.])"
      ]
     },
     "execution_count": 85,
     "metadata": {},
     "output_type": "execute_result"
    }
   ],
   "execution_count": 85
  },
  {
   "cell_type": "markdown",
   "metadata": {},
   "source": [
    "#### 6.  Create a null vector of size 10 but the fifth value which is 1"
   ]
  },
  {
   "cell_type": "code",
   "metadata": {
    "tags": [
     "student"
    ],
    "ExecuteTime": {
     "end_time": "2024-10-06T15:35:08.930333Z",
     "start_time": "2024-10-06T15:35:08.928175Z"
    }
   },
   "source": [
    "b = np.zeros(10)\n",
    "b[4] = 1\n",
    "b"
   ],
   "outputs": [
    {
     "data": {
      "text/plain": [
       "array([0., 0., 0., 0., 1., 0., 0., 0., 0., 0.])"
      ]
     },
     "execution_count": 86,
     "metadata": {},
     "output_type": "execute_result"
    }
   ],
   "execution_count": 86
  },
  {
   "cell_type": "markdown",
   "metadata": {},
   "source": [
    "#### 8.  Reverse a vector with values ranging from 10 to 49 (first element becomes last)"
   ]
  },
  {
   "cell_type": "code",
   "metadata": {
    "tags": [
     "student"
    ],
    "ExecuteTime": {
     "end_time": "2024-10-06T15:35:08.967877Z",
     "start_time": "2024-10-06T15:35:08.965838Z"
    }
   },
   "source": [
    "c = np.arange(10, 50)\n",
    "print(c[::-1])"
   ],
   "outputs": [
    {
     "name": "stdout",
     "output_type": "stream",
     "text": [
      "[49 48 47 46 45 44 43 42 41 40 39 38 37 36 35 34 33 32 31 30 29 28 27 26\n",
      " 25 24 23 22 21 20 19 18 17 16 15 14 13 12 11 10]\n"
     ]
    }
   ],
   "execution_count": 87
  },
  {
   "cell_type": "markdown",
   "metadata": {},
   "source": [
    "#### 9.  Create a 3x3 matrix with values ranging from 0 to 8"
   ]
  },
  {
   "cell_type": "code",
   "metadata": {
    "tags": [
     "student"
    ],
    "ExecuteTime": {
     "end_time": "2024-10-06T15:35:09.016786Z",
     "start_time": "2024-10-06T15:35:09.014163Z"
    }
   },
   "source": [
    "d = np.arange(0, 9).reshape([3, 3])\n",
    "print(d)"
   ],
   "outputs": [
    {
     "name": "stdout",
     "output_type": "stream",
     "text": [
      "[[0 1 2]\n",
      " [3 4 5]\n",
      " [6 7 8]]\n"
     ]
    }
   ],
   "execution_count": 88
  },
  {
   "cell_type": "markdown",
   "metadata": {},
   "source": [
    "#### 10. Find indices of non-zero elements from \\[1,2,0,0,4,0\\]"
   ]
  },
  {
   "cell_type": "code",
   "metadata": {
    "tags": [
     "student"
    ],
    "ExecuteTime": {
     "end_time": "2024-10-06T15:35:09.066935Z",
     "start_time": "2024-10-06T15:35:09.064981Z"
    }
   },
   "source": [
    "e = np.array([1, 2, 0, 0, 4, 0])\n",
    "e = np.nonzero(e)[0]\n",
    "print(e)"
   ],
   "outputs": [
    {
     "name": "stdout",
     "output_type": "stream",
     "text": [
      "[0 1 4]\n"
     ]
    }
   ],
   "execution_count": 89
  },
  {
   "cell_type": "markdown",
   "metadata": {},
   "source": [
    "#### 11. Create a 3x3 identity matrix"
   ]
  },
  {
   "cell_type": "code",
   "metadata": {
    "tags": [
     "student"
    ],
    "ExecuteTime": {
     "end_time": "2024-10-06T15:35:09.110708Z",
     "start_time": "2024-10-06T15:35:09.108878Z"
    }
   },
   "source": [
    "f = np.identity(3)\n",
    "print(f)"
   ],
   "outputs": [
    {
     "name": "stdout",
     "output_type": "stream",
     "text": [
      "[[1. 0. 0.]\n",
      " [0. 1. 0.]\n",
      " [0. 0. 1.]]\n"
     ]
    }
   ],
   "execution_count": 90
  },
  {
   "cell_type": "markdown",
   "metadata": {},
   "source": [
    "#### 13. Create a 10x10 array with random values and find the minimum and maximum values"
   ]
  },
  {
   "cell_type": "code",
   "metadata": {
    "tags": [
     "student"
    ],
    "ExecuteTime": {
     "end_time": "2024-10-06T15:35:09.154930Z",
     "start_time": "2024-10-06T15:35:09.152910Z"
    }
   },
   "source": [
    "g = np.random.randint(0, 100, 100).reshape([10, 10])\n",
    "print(g.min())\n",
    "print(g.max())"
   ],
   "outputs": [
    {
     "name": "stdout",
     "output_type": "stream",
     "text": [
      "0\n",
      "99\n"
     ]
    }
   ],
   "execution_count": 91
  },
  {
   "cell_type": "markdown",
   "metadata": {},
   "source": [
    "#### 15. Create a 2d array with 1 on the border and 0 inside"
   ]
  },
  {
   "cell_type": "code",
   "metadata": {
    "tags": [
     "student"
    ],
    "ExecuteTime": {
     "end_time": "2024-10-06T15:35:09.199914Z",
     "start_time": "2024-10-06T15:35:09.197323Z"
    }
   },
   "source": [
    "h = np.zeros((5, 5))\n",
    "h[0,:] = 1\n",
    "h[-1,:] = 1\n",
    "h[:,0] = 1\n",
    "h[:,-1] = 1\n",
    "print(h)"
   ],
   "outputs": [
    {
     "name": "stdout",
     "output_type": "stream",
     "text": [
      "[[1. 1. 1. 1. 1.]\n",
      " [1. 0. 0. 0. 1.]\n",
      " [1. 0. 0. 0. 1.]\n",
      " [1. 0. 0. 0. 1.]\n",
      " [1. 1. 1. 1. 1.]]\n"
     ]
    }
   ],
   "execution_count": 92
  },
  {
   "cell_type": "markdown",
   "metadata": {},
   "source": [
    "#### 19. Create a 8x8 matrix and fill it with a checkerboard pattern"
   ]
  },
  {
   "cell_type": "code",
   "metadata": {
    "tags": [
     "student"
    ],
    "ExecuteTime": {
     "end_time": "2024-10-06T15:35:09.247821Z",
     "start_time": "2024-10-06T15:35:09.245163Z"
    }
   },
   "source": [
    "i = np.zeros((8,8))\n",
    "i[1::2, ::2] = 1\n",
    "i[::2, 1::2] = 1\n",
    "print(i)"
   ],
   "outputs": [
    {
     "name": "stdout",
     "output_type": "stream",
     "text": [
      "[[0. 1. 0. 1. 0. 1. 0. 1.]\n",
      " [1. 0. 1. 0. 1. 0. 1. 0.]\n",
      " [0. 1. 0. 1. 0. 1. 0. 1.]\n",
      " [1. 0. 1. 0. 1. 0. 1. 0.]\n",
      " [0. 1. 0. 1. 0. 1. 0. 1.]\n",
      " [1. 0. 1. 0. 1. 0. 1. 0.]\n",
      " [0. 1. 0. 1. 0. 1. 0. 1.]\n",
      " [1. 0. 1. 0. 1. 0. 1. 0.]]\n"
     ]
    }
   ],
   "execution_count": 93
  },
  {
   "cell_type": "markdown",
   "metadata": {},
   "source": [
    "#### 25. Given a 1D array, negate all elements which are between 3 and 8, in place."
   ]
  },
  {
   "cell_type": "code",
   "metadata": {
    "tags": [
     "student"
    ],
    "ExecuteTime": {
     "end_time": "2024-10-06T15:35:09.295059Z",
     "start_time": "2024-10-06T15:35:09.292816Z"
    }
   },
   "source": [
    "j = np.array([1, 4, 6, 8, 10, 3, 7, 2])\n",
    "j[(j >= 3) & (j <= 8)] *= -1\n",
    "print(j)"
   ],
   "outputs": [
    {
     "name": "stdout",
     "output_type": "stream",
     "text": [
      "[ 1 -4 -6 -8 10 -3 -7  2]\n"
     ]
    }
   ],
   "execution_count": 94
  },
  {
   "cell_type": "markdown",
   "metadata": {},
   "source": [
    "#### 29. How to round away from zero a float array ?"
   ]
  },
  {
   "cell_type": "code",
   "metadata": {
    "tags": [
     "student"
    ],
    "ExecuteTime": {
     "end_time": "2024-10-06T15:35:09.338070Z",
     "start_time": "2024-10-06T15:35:09.336585Z"
    }
   },
   "source": "k = None",
   "outputs": [],
   "execution_count": 95
  },
  {
   "cell_type": "markdown",
   "metadata": {},
   "source": [
    "#### 30. How to find common values between two arrays?"
   ]
  },
  {
   "cell_type": "code",
   "metadata": {
    "tags": [
     "student"
    ],
    "ExecuteTime": {
     "end_time": "2024-10-06T15:35:09.381631Z",
     "start_time": "2024-10-06T15:35:09.380148Z"
    }
   },
   "source": "l = None",
   "outputs": [],
   "execution_count": 96
  },
  {
   "cell_type": "markdown",
   "metadata": {},
   "source": [
    "#### 36. Extract the integer part of a random array using 5 different methods"
   ]
  },
  {
   "cell_type": "code",
   "metadata": {
    "ExecuteTime": {
     "end_time": "2024-10-06T15:35:09.425850Z",
     "start_time": "2024-10-06T15:35:09.424273Z"
    }
   },
   "source": "m = np.random.uniform(0,10,10)",
   "outputs": [],
   "execution_count": 97
  },
  {
   "cell_type": "code",
   "metadata": {
    "tags": [
     "student"
    ],
    "ExecuteTime": {
     "end_time": "2024-10-06T15:35:09.470646Z",
     "start_time": "2024-10-06T15:35:09.468513Z"
    }
   },
   "source": [
    "print(np.floor(m))\n",
    "print(np.ceil(m))\n",
    "print(np.trunc(m))\n",
    "print(m.astype(int))\n",
    "print(np.vectorize())"
   ],
   "outputs": [
    {
     "name": "stdout",
     "output_type": "stream",
     "text": [
      "[7. 0. 7. 7. 3. 3. 5. 0. 7. 4.]\n",
      "[8. 1. 8. 8. 4. 4. 6. 1. 8. 5.]\n",
      "[7. 0. 7. 7. 3. 3. 5. 0. 7. 4.]\n",
      "[7 0 7 7 3 3 5 0 7 4]\n",
      "<numpy.vectorize object at 0x7f7ac2563dd0>\n"
     ]
    }
   ],
   "execution_count": 98
  },
  {
   "cell_type": "markdown",
   "metadata": {},
   "source": [
    "#### 37. Create a 5x5 matrix with row values ranging from 0 to 4"
   ]
  },
  {
   "cell_type": "code",
   "metadata": {
    "tags": [
     "student"
    ],
    "ExecuteTime": {
     "end_time": "2024-10-06T15:35:09.514634Z",
     "start_time": "2024-10-06T15:35:09.512851Z"
    }
   },
   "source": [
    "n = np.tile(np.arange(5), (5, 1))\n",
    "print(n)"
   ],
   "outputs": [
    {
     "name": "stdout",
     "output_type": "stream",
     "text": [
      "[[0 1 2 3 4]\n",
      " [0 1 2 3 4]\n",
      " [0 1 2 3 4]\n",
      " [0 1 2 3 4]\n",
      " [0 1 2 3 4]]\n"
     ]
    }
   ],
   "execution_count": 99
  },
  {
   "cell_type": "markdown",
   "metadata": {},
   "source": [
    "#### 39. Create a vector of size 10 with values ranging from 0 to 1, both excluded"
   ]
  },
  {
   "cell_type": "code",
   "metadata": {
    "tags": [
     "student"
    ],
    "ExecuteTime": {
     "end_time": "2024-10-06T15:35:09.558534Z",
     "start_time": "2024-10-06T15:35:09.556724Z"
    }
   },
   "source": [
    "o = np.linspace(0, 1, 12)[1:-1]\n",
    "print(o)"
   ],
   "outputs": [
    {
     "name": "stdout",
     "output_type": "stream",
     "text": [
      "[0.09090909 0.18181818 0.27272727 0.36363636 0.45454545 0.54545455\n",
      " 0.63636364 0.72727273 0.81818182 0.90909091]\n"
     ]
    }
   ],
   "execution_count": 100
  },
  {
   "cell_type": "markdown",
   "metadata": {},
   "source": [
    "#### 40. Create a random vector of size 10 and sort it"
   ]
  },
  {
   "cell_type": "code",
   "metadata": {
    "tags": [
     "student"
    ],
    "ExecuteTime": {
     "end_time": "2024-10-06T15:35:09.602456Z",
     "start_time": "2024-10-06T15:35:09.600672Z"
    }
   },
   "source": [
    "p = np.random.random(10)\n",
    "p.sort()\n",
    "print(p)"
   ],
   "outputs": [
    {
     "name": "stdout",
     "output_type": "stream",
     "text": [
      "[0.09049769 0.15099455 0.3568897  0.4705566  0.58769727 0.801483\n",
      " 0.83557312 0.95240405 0.96180303 0.96737861]\n"
     ]
    }
   ],
   "execution_count": 101
  },
  {
   "cell_type": "markdown",
   "metadata": {},
   "source": [
    "#### 42. Consider two random array A and B, check if they are equal"
   ]
  },
  {
   "cell_type": "code",
   "metadata": {
    "tags": [
     "student"
    ],
    "ExecuteTime": {
     "end_time": "2024-10-06T15:35:09.646557Z",
     "start_time": "2024-10-06T15:35:09.644805Z"
    }
   },
   "source": [
    "q = np.random.random(10)\n",
    "r = np.random.random(10)\n",
    "print(np.array_equal(q, r))"
   ],
   "outputs": [
    {
     "name": "stdout",
     "output_type": "stream",
     "text": [
      "False\n"
     ]
    }
   ],
   "execution_count": 102
  },
  {
   "cell_type": "markdown",
   "metadata": {},
   "source": [
    "#### 45. Create random vector of size 10 and replace the maximum value by 0"
   ]
  },
  {
   "cell_type": "code",
   "metadata": {
    "tags": [
     "student"
    ],
    "ExecuteTime": {
     "end_time": "2024-10-06T15:35:09.690417Z",
     "start_time": "2024-10-06T15:35:09.688692Z"
    }
   },
   "source": [
    "s = np.random.random(10)\n",
    "s[s.argmax()] = 0\n",
    "print(s)"
   ],
   "outputs": [
    {
     "name": "stdout",
     "output_type": "stream",
     "text": [
      "[0.79154714 0.35559974 0.57175887 0.11389351 0.41106888 0.18031028\n",
      " 0.76572529 0.21453571 0.         0.66920154]\n"
     ]
    }
   ],
   "execution_count": 103
  },
  {
   "cell_type": "markdown",
   "metadata": {},
   "source": [
    "#### 50. How to find the closest value (to a given scalar) in a vector?"
   ]
  },
  {
   "cell_type": "code",
   "metadata": {
    "ExecuteTime": {
     "end_time": "2024-10-06T15:35:09.734341Z",
     "start_time": "2024-10-06T15:35:09.732760Z"
    }
   },
   "source": "t = np.random.uniform(0,100,10)",
   "outputs": [],
   "execution_count": 104
  },
  {
   "cell_type": "code",
   "metadata": {
    "tags": [
     "student"
    ],
    "ExecuteTime": {
     "end_time": "2024-10-06T15:35:09.817858Z",
     "start_time": "2024-10-06T15:35:09.815680Z"
    }
   },
   "source": [
    "scalar = 50\n",
    "closest_value = t[np.abs(t - scalar).argmin()]\n",
    "print(scalar, closest_value)"
   ],
   "outputs": [
    {
     "name": "stdout",
     "output_type": "stream",
     "text": [
      "50 43.51242299385169\n"
     ]
    }
   ],
   "execution_count": 105
  },
  {
   "cell_type": "markdown",
   "metadata": {},
   "source": [
    "#### 52. Consider a random vector with shape (10,2) representing coordinates, find point by point distances"
   ]
  },
  {
   "cell_type": "code",
   "metadata": {
    "ExecuteTime": {
     "end_time": "2024-10-06T15:35:09.911819Z",
     "start_time": "2024-10-06T15:35:09.909955Z"
    }
   },
   "source": "u = np.random.random((10,2))\n",
   "outputs": [],
   "execution_count": 106
  },
  {
   "cell_type": "code",
   "metadata": {
    "tags": [
     "student"
    ],
    "ExecuteTime": {
     "end_time": "2024-10-06T15:35:09.963446Z",
     "start_time": "2024-10-06T15:35:09.960913Z"
    }
   },
   "source": [
    "distances = np.sqrt(((u[:, np.newaxis, :] - u[np.newaxis, :, :]) ** 2).sum(axis=2))\n",
    "print(u, distances)"
   ],
   "outputs": [
    {
     "name": "stdout",
     "output_type": "stream",
     "text": [
      "[[0.02737611 0.98244754]\n",
      " [0.31783306 0.58960856]\n",
      " [0.49585328 0.69843606]\n",
      " [0.662314   0.41216844]\n",
      " [0.98470996 0.59528686]\n",
      " [0.0617719  0.20390926]\n",
      " [0.37168358 0.24315827]\n",
      " [0.67377249 0.72576122]\n",
      " [0.73386783 0.53915181]\n",
      " [0.82949966 0.90879016]] [[0.         0.48855676 0.54784431 0.85344266 1.0326575  0.77929772\n",
      "  0.81553434 0.69549706 0.83405136 0.80549836]\n",
      " [0.48855676 0.         0.20864952 0.38749466 0.66690107 0.46295925\n",
      "  0.35061044 0.38109109 0.4190833  0.60305853]\n",
      " [0.54784431 0.20864952 0.         0.33114698 0.49962047 0.65801474\n",
      "  0.47190675 0.1800053  0.28639553 0.39442205]\n",
      " [0.85344266 0.38749466 0.33114698 0.         0.37077151 0.6356278\n",
      "  0.33620006 0.31380205 0.14575571 0.5240078 ]\n",
      " [1.0326575  0.66690107 0.49962047 0.37077151 0.         1.00249243\n",
      "  0.70696244 0.33720271 0.25704653 0.34982075]\n",
      " [0.77929772 0.46295925 0.65801474 0.6356278  1.00249243 0.\n",
      "  0.31238715 0.80428489 0.75106624 1.04223941]\n",
      " [0.81553434 0.35061044 0.47190675 0.33620006 0.70696244 0.31238715\n",
      "  0.         0.56935342 0.46774952 0.80787461]\n",
      " [0.69549706 0.38109109 0.1800053  0.31380205 0.33720271 0.80428489\n",
      "  0.56935342 0.         0.19604725 0.24031343]\n",
      " [0.83405136 0.4190833  0.28639553 0.14575571 0.25704653 0.75106624\n",
      "  0.46774952 0.19604725 0.         0.3818088 ]\n",
      " [0.80549836 0.60305853 0.39442205 0.5240078  0.34982075 1.04223941\n",
      "  0.80787461 0.24031343 0.3818088  0.        ]]\n"
     ]
    }
   ],
   "execution_count": 107
  },
  {
   "cell_type": "markdown",
   "metadata": {},
   "source": [
    "#### 57. How to randomly place p elements in a 2D array?"
   ]
  },
  {
   "cell_type": "code",
   "metadata": {
    "tags": [
     "student"
    ],
    "ExecuteTime": {
     "end_time": "2024-10-06T15:35:10.015586Z",
     "start_time": "2024-10-06T15:35:10.013574Z"
    }
   },
   "source": [
    "v = np.zeros((5, 5), dtype=int)\n",
    "positions = np.random.choice(5 * 5, 5, replace=False)\n",
    "np.put(v, positions, 1)\n",
    "print(v)"
   ],
   "outputs": [
    {
     "name": "stdout",
     "output_type": "stream",
     "text": [
      "[[0 0 0 0 0]\n",
      " [0 0 0 1 0]\n",
      " [0 0 0 0 0]\n",
      " [0 0 1 0 0]\n",
      " [1 0 1 1 0]]\n"
     ]
    }
   ],
   "execution_count": 108
  },
  {
   "cell_type": "markdown",
   "metadata": {},
   "source": [
    "#### 58. Subtract the mean of each row of a matrix"
   ]
  },
  {
   "cell_type": "code",
   "metadata": {
    "tags": [
     "student"
    ],
    "ExecuteTime": {
     "end_time": "2024-10-06T15:35:10.071525Z",
     "start_time": "2024-10-06T15:35:10.069265Z"
    }
   },
   "source": [
    "w = np.random.random((5, 5))\n",
    "\n",
    "row_means = w.mean(axis=1, keepdims=True)\n",
    "result = w - row_means\n",
    "print(w, result)"
   ],
   "outputs": [
    {
     "name": "stdout",
     "output_type": "stream",
     "text": [
      "[[0.84295363 0.47521552 0.37114081 0.74729138 0.16723156]\n",
      " [0.90017106 0.0224779  0.38999481 0.10531432 0.02204958]\n",
      " [0.17207853 0.91034755 0.47059361 0.32948084 0.71287322]\n",
      " [0.90024896 0.61634968 0.9922393  0.98971509 0.51768907]\n",
      " [0.84457662 0.4197709  0.19453039 0.78965267 0.79402306]] [[ 0.32218705 -0.04555106 -0.14962577  0.2265248  -0.35353502]\n",
      " [ 0.61216952 -0.26552363  0.10199328 -0.18268721 -0.26595195]\n",
      " [-0.34699622  0.3912728  -0.04848114 -0.18959391  0.19379847]\n",
      " [ 0.09700054 -0.18689874  0.18899088  0.18646667 -0.28555935]\n",
      " [ 0.23606589 -0.18873982 -0.41398034  0.18114194  0.18551233]]\n"
     ]
    }
   ],
   "execution_count": 109
  },
  {
   "cell_type": "markdown",
   "metadata": {},
   "source": [
    "#### 59. How to sort an array by the nth column?"
   ]
  },
  {
   "cell_type": "code",
   "metadata": {
    "tags": [
     "student"
    ],
    "ExecuteTime": {
     "end_time": "2024-10-06T15:35:10.123345Z",
     "start_time": "2024-10-06T15:35:10.121203Z"
    }
   },
   "source": [
    "x = np.random.randint(0, 100, (5, 5))\n",
    "n = 2\n",
    "sorted_indices = np.argsort(x[:, n])\n",
    "sorted_array = x[sorted_indices]\n",
    "print(n, sorted_array)"
   ],
   "outputs": [
    {
     "name": "stdout",
     "output_type": "stream",
     "text": [
      "2 [[40 22 16 87 64]\n",
      " [69 31 45 54 81]\n",
      " [54 66 52 35 94]\n",
      " [81 37 79 12 91]\n",
      " [49  3 89 82  0]]\n"
     ]
    }
   ],
   "execution_count": 110
  },
  {
   "metadata": {},
   "cell_type": "markdown",
   "source": "#### 60. How to tell if a given 2D array has null columns?"
  },
  {
   "metadata": {
    "ExecuteTime": {
     "end_time": "2024-10-06T15:35:10.171141Z",
     "start_time": "2024-10-06T15:35:10.169120Z"
    }
   },
   "cell_type": "code",
   "source": [
    "y = np.array([\n",
    "    [1, 0, 3],\n",
    "    [4, 0, 6],\n",
    "    [7, 0, 9]\n",
    "])\n",
    "\n",
    "# Check for null columns\n",
    "null_columns = np.all(y == 0, axis=0)\n",
    "\n",
    "print(y, null_columns)"
   ],
   "outputs": [
    {
     "name": "stdout",
     "output_type": "stream",
     "text": [
      "[[1 0 3]\n",
      " [4 0 6]\n",
      " [7 0 9]] [False  True False]\n"
     ]
    }
   ],
   "execution_count": 111
  },
  {
   "cell_type": "markdown",
   "metadata": {},
   "source": [
    "#### 61. Find the nearest value from a given value in an array"
   ]
  },
  {
   "cell_type": "code",
   "metadata": {
    "ExecuteTime": {
     "end_time": "2024-10-06T15:35:10.221625Z",
     "start_time": "2024-10-06T15:35:10.219847Z"
    }
   },
   "source": [
    "z = np.random.uniform(0,1,10)\n",
    "value = 0.5"
   ],
   "outputs": [],
   "execution_count": 112
  },
  {
   "cell_type": "code",
   "metadata": {
    "tags": [
     "student"
    ],
    "ExecuteTime": {
     "end_time": "2024-10-06T15:35:10.266606Z",
     "start_time": "2024-10-06T15:35:10.264697Z"
    }
   },
   "source": [
    "nearest_value = z[np.abs(z - value).argmin()]\n",
    "print(z, value, nearest_value)"
   ],
   "outputs": [
    {
     "name": "stdout",
     "output_type": "stream",
     "text": [
      "[0.6797468  0.30926392 0.81744493 0.13225571 0.86453354 0.27053069\n",
      " 0.90574314 0.97381738 0.80469346 0.5761265 ] 0.5 0.5761265003927198\n"
     ]
    }
   ],
   "execution_count": 113
  },
  {
   "cell_type": "markdown",
   "metadata": {},
   "source": [
    "#### 70. Consider the vector \\[1, 2, 3, 4, 5\\], how to build a new vector with 3 consecutive zeros interleaved between each value?"
   ]
  },
  {
   "cell_type": "code",
   "metadata": {
    "tags": [
     "student"
    ],
    "ExecuteTime": {
     "end_time": "2024-10-06T15:35:10.315039Z",
     "start_time": "2024-10-06T15:35:10.312991Z"
    }
   },
   "source": [
    "A = np.array([1, 2, 3, 4, 5])\n",
    "B = np.zeros(len(A) * 4 - 3, dtype=int)\n",
    "B[::4] = A\n",
    "print(B)"
   ],
   "outputs": [
    {
     "name": "stdout",
     "output_type": "stream",
     "text": [
      "[1 0 0 0 2 0 0 0 3 0 0 0 4 0 0 0 5]\n"
     ]
    }
   ],
   "execution_count": 114
  },
  {
   "cell_type": "markdown",
   "metadata": {},
   "source": [
    "#### 72. How to swap two rows of an array?"
   ]
  },
  {
   "cell_type": "code",
   "metadata": {
    "tags": [
     "student"
    ],
    "ExecuteTime": {
     "end_time": "2024-10-06T15:35:10.363781Z",
     "start_time": "2024-10-06T15:35:10.361364Z"
    }
   },
   "source": [
    "import numpy as np\n",
    "\n",
    "C = np.array([\n",
    "    [1, 2, 3],\n",
    "    [4, 5, 6],\n",
    "    [7, 8, 9]\n",
    "])\n",
    "\n",
    "row1, row2 = 0, 2\n",
    "C[[row1, row2]] = C[[row2, row1]]\n",
    "print(C)"
   ],
   "outputs": [
    {
     "name": "stdout",
     "output_type": "stream",
     "text": [
      "[[7 8 9]\n",
      " [4 5 6]\n",
      " [1 2 3]]\n"
     ]
    }
   ],
   "execution_count": 115
  },
  {
   "cell_type": "markdown",
   "metadata": {},
   "source": [
    "#### 77. How to negate a boolean, or to change the sign of a float inplace?"
   ]
  },
  {
   "cell_type": "code",
   "metadata": {
    "tags": [
     "student"
    ],
    "ExecuteTime": {
     "end_time": "2024-10-06T15:35:10.419373Z",
     "start_time": "2024-10-06T15:35:10.417052Z"
    }
   },
   "source": [
    "D = np.array([True, False, True, False])\n",
    "np.logical_not(D, out=D)\n",
    "print(\"Negated boolean array:\", D)\n",
    "\n",
    "float_array = np.array([1.0, -2.0, 3.0, -4.0])\n",
    "float_array *= -1\n",
    "print(\"Sign-changed float array:\", float_array)"
   ],
   "outputs": [
    {
     "name": "stdout",
     "output_type": "stream",
     "text": [
      "Negated boolean array: [False  True False  True]\n",
      "Sign-changed float array: [-1.  2. -3.  4.]\n"
     ]
    }
   ],
   "execution_count": 116
  },
  {
   "cell_type": "markdown",
   "metadata": {},
   "source": [
    "#### 83. How to find the most frequent value in an array?"
   ]
  },
  {
   "cell_type": "code",
   "metadata": {
    "tags": [
     "student"
    ],
    "ExecuteTime": {
     "end_time": "2024-10-06T15:35:10.473708Z",
     "start_time": "2024-10-06T15:35:10.471114Z"
    }
   },
   "source": [
    "E = np.array([1, 2, 2, 3, 3, 3, 4, 4, 4, 4])\n",
    "most_frequent_value = np.bincount(E).argmax()\n",
    "print(\"Most frequent value:\", most_frequent_value)"
   ],
   "outputs": [
    {
     "name": "stdout",
     "output_type": "stream",
     "text": [
      "Most frequent value: 4\n"
     ]
    }
   ],
   "execution_count": 117
  },
  {
   "cell_type": "markdown",
   "metadata": {},
   "source": [
    "#### 89. How to get the n largest values of an array"
   ]
  },
  {
   "cell_type": "code",
   "metadata": {
    "tags": [
     "student"
    ],
    "ExecuteTime": {
     "end_time": "2024-10-06T15:35:10.522606Z",
     "start_time": "2024-10-06T15:35:10.520447Z"
    }
   },
   "source": [
    "F = np.array([1, 3, 5, 7, 9, 2, 4, 6, 8, 0])\n",
    "n = 3\n",
    "\n",
    "n_largest_values = np.partition(F, -n)[-n:]\n",
    "n_largest_values = np.sort(n_largest_values)[::-1]\n",
    "\n",
    "print(\"The\", n, \"largest values are:\", n_largest_values)"
   ],
   "outputs": [
    {
     "name": "stdout",
     "output_type": "stream",
     "text": [
      "The 3 largest values are: [9 8 7]\n"
     ]
    }
   ],
   "execution_count": 118
  }
 ],
 "metadata": {
  "celltoolbar": "Tags",
  "kernelspec": {
   "display_name": "Python 3 (ipykernel)",
   "language": "python",
   "name": "python3"
  },
  "language_info": {
   "codemirror_mode": {
    "name": "ipython",
    "version": 3
   },
   "file_extension": ".py",
   "mimetype": "text/x-python",
   "name": "python",
   "nbconvert_exporter": "python",
   "pygments_lexer": "ipython3",
   "version": "3.11.9"
  }
 },
 "nbformat": 4,
 "nbformat_minor": 4
}
