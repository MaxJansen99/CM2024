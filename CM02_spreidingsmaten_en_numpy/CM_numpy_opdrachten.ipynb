{
 "cells": [
  {
   "cell_type": "markdown",
   "metadata": {},
   "source": [
    "    # NumPy Opdrachten\n",
    "\n",
    "In dit notebook vind je de volgende opdrachten:\n",
    "\n",
    "\n",
    "- <a href=\"#np_opdracht1\"> Opdracht 1</a> Maak deze opdracht ter voorbereiding op het college over NumPy.\n",
    "- <a href=\"#np_opdracht2\"> Opdracht 2</a> Hiermee gaan we in het college aan de slag.\n",
    "- <a href=\"#np_opdracht3\"> Opdracht 3</a> Hiermee gaan we in het college aan de slag.\n",
    "- <a href=\"#np_opdracht4\"> Opdracht 4</a> Deze opdracht is facultatief, voor als je meer uitdaging wilt."
   ]
  },
  {
   "cell_type": "markdown",
   "metadata": {
    "tags": []
   },
   "source": [
    "<a id=\"np_opdracht1\"></a>\n",
    "## Opdracht 1 \n",
    "**Maak deze opdracht ter voorbereiding op het college**"
   ]
  },
  {
   "cell_type": "code",
   "metadata": {
    "ExecuteTime": {
     "end_time": "2024-09-24T13:03:31.753934Z",
     "start_time": "2024-09-24T13:03:31.672958Z"
    }
   },
   "source": [
    "import numpy as np"
   ],
   "outputs": [],
   "execution_count": 1
  },
  {
   "cell_type": "markdown",
   "metadata": {},
   "source": [
    "- Maak een 1D array x aan met de cijfers 0 t/m 5"
   ]
  },
  {
   "cell_type": "code",
   "metadata": {
    "tags": [
     "student"
    ],
    "ExecuteTime": {
     "end_time": "2024-09-24T13:03:31.789418Z",
     "start_time": "2024-09-24T13:03:31.787546Z"
    }
   },
   "source": [
    "x = np.arange(0, 6)"
   ],
   "outputs": [],
   "execution_count": 2
  },
  {
   "cell_type": "markdown",
   "metadata": {},
   "source": [
    "- Laat de vorm (grootte van de dimensies) van de array zien"
   ]
  },
  {
   "cell_type": "code",
   "metadata": {
    "tags": [
     "student"
    ],
    "ExecuteTime": {
     "end_time": "2024-09-24T13:03:31.846635Z",
     "start_time": "2024-09-24T13:03:31.842199Z"
    }
   },
   "source": [
    "np.shape(x)"
   ],
   "outputs": [
    {
     "data": {
      "text/plain": [
       "(6,)"
      ]
     },
     "execution_count": 3,
     "metadata": {},
     "output_type": "execute_result"
    }
   ],
   "execution_count": 3
  },
  {
   "cell_type": "markdown",
   "metadata": {},
   "source": [
    "- Hervorm de array x tot een 2D array (2, 3) "
   ]
  },
  {
   "cell_type": "code",
   "metadata": {
    "tags": [
     "student"
    ],
    "ExecuteTime": {
     "end_time": "2024-09-24T13:03:31.954237Z",
     "start_time": "2024-09-24T13:03:31.949480Z"
    }
   },
   "source": [
    "x = np.reshape(x, (2, 3))\n",
    "x"
   ],
   "outputs": [
    {
     "data": {
      "text/plain": [
       "array([[0, 1, 2],\n",
       "       [3, 4, 5]])"
      ]
     },
     "execution_count": 4,
     "metadata": {},
     "output_type": "execute_result"
    }
   ],
   "execution_count": 4
  },
  {
   "cell_type": "markdown",
   "metadata": {},
   "source": [
    "- Wat is nu de vorm?\n"
   ]
  },
  {
   "cell_type": "code",
   "metadata": {
    "tags": [
     "student"
    ],
    "ExecuteTime": {
     "end_time": "2024-09-24T13:03:32.156110Z",
     "start_time": "2024-09-24T13:03:32.153307Z"
    }
   },
   "source": [
    "np.shape(x)"
   ],
   "outputs": [
    {
     "data": {
      "text/plain": [
       "(2, 3)"
      ]
     },
     "execution_count": 5,
     "metadata": {},
     "output_type": "execute_result"
    }
   ],
   "execution_count": 5
  },
  {
   "cell_type": "markdown",
   "metadata": {},
   "source": [
    "- Laat het datatype zien\n"
   ]
  },
  {
   "cell_type": "code",
   "metadata": {
    "tags": [
     "student"
    ],
    "ExecuteTime": {
     "end_time": "2024-09-24T13:03:32.213301Z",
     "start_time": "2024-09-24T13:03:32.209873Z"
    }
   },
   "source": [
    "type(x)"
   ],
   "outputs": [
    {
     "data": {
      "text/plain": [
       "numpy.ndarray"
      ]
     },
     "execution_count": 6,
     "metadata": {},
     "output_type": "execute_result"
    }
   ],
   "execution_count": 6
  },
  {
   "cell_type": "markdown",
   "metadata": {},
   "source": [
    "- Sla een kopie van de array op in y\n"
   ]
  },
  {
   "cell_type": "code",
   "metadata": {
    "tags": [
     "student"
    ],
    "ExecuteTime": {
     "end_time": "2024-09-24T13:03:32.329195Z",
     "start_time": "2024-09-24T13:03:32.325643Z"
    }
   },
   "source": [
    "y = np.copy(x)"
   ],
   "outputs": [],
   "execution_count": 7
  },
  {
   "cell_type": "markdown",
   "metadata": {},
   "source": [
    "- Maak een transpose van x\n",
    "\n"
   ]
  },
  {
   "cell_type": "code",
   "metadata": {
    "tags": [
     "student"
    ],
    "ExecuteTime": {
     "end_time": "2024-09-24T13:03:32.398703Z",
     "start_time": "2024-09-24T13:03:32.396121Z"
    }
   },
   "source": [
    "x = np.transpose(x)"
   ],
   "outputs": [],
   "execution_count": 8
  },
  {
   "cell_type": "markdown",
   "metadata": {},
   "source": [
    "- Maak een transpose van y\n"
   ]
  },
  {
   "cell_type": "code",
   "metadata": {
    "tags": [
     "student"
    ],
    "ExecuteTime": {
     "end_time": "2024-09-24T13:03:32.487305Z",
     "start_time": "2024-09-24T13:03:32.484455Z"
    }
   },
   "source": [
    "y = np.transpose(y)\n",
    "y"
   ],
   "outputs": [
    {
     "data": {
      "text/plain": [
       "array([[0, 3],\n",
       "       [1, 4],\n",
       "       [2, 5]])"
      ]
     },
     "execution_count": 9,
     "metadata": {},
     "output_type": "execute_result"
    }
   ],
   "execution_count": 9
  },
  {
   "cell_type": "markdown",
   "metadata": {},
   "source": [
    "- Vermenigvuldig alle waarden van y met 2\n"
   ]
  },
  {
   "cell_type": "code",
   "metadata": {
    "tags": [
     "student"
    ],
    "ExecuteTime": {
     "end_time": "2024-09-24T13:03:32.621696Z",
     "start_time": "2024-09-24T13:03:32.618267Z"
    }
   },
   "source": [
    "y = np.multiply(y, 2)\n",
    "y"
   ],
   "outputs": [
    {
     "data": {
      "text/plain": [
       "array([[ 0,  6],\n",
       "       [ 2,  8],\n",
       "       [ 4, 10]])"
      ]
     },
     "execution_count": 10,
     "metadata": {},
     "output_type": "execute_result"
    }
   ],
   "execution_count": 10
  },
  {
   "cell_type": "markdown",
   "metadata": {},
   "source": [
    "- Concateneer de twee arrays in een nieuwe array `z`\n"
   ]
  },
  {
   "cell_type": "code",
   "metadata": {
    "tags": [
     "student"
    ],
    "ExecuteTime": {
     "end_time": "2024-09-24T13:03:32.739604Z",
     "start_time": "2024-09-24T13:03:32.735127Z"
    }
   },
   "source": [
    "z = np.concatenate((x, y), axis=0)\n",
    "z"
   ],
   "outputs": [
    {
     "data": {
      "text/plain": [
       "array([[ 0,  3],\n",
       "       [ 1,  4],\n",
       "       [ 2,  5],\n",
       "       [ 0,  6],\n",
       "       [ 2,  8],\n",
       "       [ 4, 10]])"
      ]
     },
     "execution_count": 11,
     "metadata": {},
     "output_type": "execute_result"
    }
   ],
   "execution_count": 11
  },
  {
   "cell_type": "markdown",
   "metadata": {},
   "source": [
    "- Geef het gemiddelde, modus, mediaan en de standaarddeviatie van z\n"
   ]
  },
  {
   "cell_type": "code",
   "metadata": {
    "tags": [
     "student"
    ],
    "ExecuteTime": {
     "end_time": "2024-09-24T13:03:32.825251Z",
     "start_time": "2024-09-24T13:03:32.822416Z"
    }
   },
   "source": [
    "z_mean = np.mean(z)\n",
    "z_median = np.median(z)\n",
    "z_std = np.std(z)"
   ],
   "outputs": [],
   "execution_count": 12
  },
  {
   "cell_type": "markdown",
   "metadata": {
    "tags": []
   },
   "source": [
    "<a id=\"np_opdracht2\"></a>\n",
    "## Opdracht 2\n",
    "**Python list vs. NumPy**"
   ]
  },
  {
   "cell_type": "markdown",
   "metadata": {
    "tags": []
   },
   "source": [
    "- Maak een list `lst` met 1.000.001 willekeurige getallen tussen 0 en 10 (gebruik `random.randint(0, 10)`)\n",
    "- Bepaal de mediaan\n",
    "- Maak een list met daarin het kwadraat van elk element in `lst`\n",
    "- Maak een list met daarin alleen alle even getallen uit `lst`\n",
    "- Maak een tweede list `lst2` met 1.000.001 willekeurige getallen\n",
    "- Maak een list met daarin de som van de elementen uit `lst` en `lst2`, dus:\n",
    "  - `lst_samen[0] = lst[0] + lst2[0]`,\n",
    "  - `lst_samen[1] = lst[1] + lst2[1]`,\n",
    "  - etc.\n",
    "\n",
    "- Doe bovenstaande ook met Numpy\n",
    "\n",
    "- Gebruik `%timeit` voor je code om de snelheid te vergelijken"
   ]
  },
  {
   "cell_type": "code",
   "metadata": {
    "tags": [],
    "ExecuteTime": {
     "end_time": "2024-09-24T13:03:32.919797Z",
     "start_time": "2024-09-24T13:03:32.917812Z"
    }
   },
   "source": [
    "import math\n",
    "import random\n",
    "import numpy as np"
   ],
   "outputs": [],
   "execution_count": 13
  },
  {
   "cell_type": "code",
   "metadata": {
    "ExecuteTime": {
     "end_time": "2024-09-24T13:03:37.398483Z",
     "start_time": "2024-09-24T13:03:33.033009Z"
    }
   },
   "source": [
    "lst1 = [random.randint(0, 10) for _ in range(10000001)]\n",
    "lst2 = [random.randint(0, 10) for _ in range(10000001)]\n",
    "\n",
    "def py_median(x):\n",
    "    if len(x) % 2 == 0:\n",
    "        idx_l = math.floor((len(x) -1) / 2)\n",
    "        idx_r = math.ceil((len(x) -1) / 2)\n",
    "        return (x[idx_l] + x[idx_r]) / 2\n",
    "    else:\n",
    "        idx = int(len(x) / 2)\n",
    "        return x[idx]\n",
    "        \n",
    "def py_square(x):\n",
    "    return [math.sqrt(i) for i in x]\n",
    "\n",
    "def py_even(x):\n",
    "    return [x for x in x if x % 2 == 0]\n",
    "\n",
    "\n",
    "def py_sum(x, y):\n",
    "    z = x + y   \n",
    "    print(sum(z))\n",
    "    \n",
    "py_median(lst1)\n",
    "py_square(lst1)\n",
    "py_even(lst1)\n",
    "py_sum(lst1, lst2)"
   ],
   "outputs": [
    {
     "name": "stdout",
     "output_type": "stream",
     "text": [
      "99999967\n"
     ]
    }
   ],
   "execution_count": 14
  },
  {
   "metadata": {
    "ExecuteTime": {
     "end_time": "2024-09-24T13:03:37.786406Z",
     "start_time": "2024-09-24T13:03:37.417599Z"
    }
   },
   "cell_type": "code",
   "source": [
    "lst3 = np.random.randint(0, 10, 10000001)\n",
    "lst4 = np.random.randint(0, 10, 10000001)\n",
    "\n",
    "def np_median(x):\n",
    "    return np.median(x)\n",
    "        \n",
    "def np_square(x):\n",
    "    return np.sqrt(x)\n",
    "\n",
    "def np_even(x):\n",
    "    return x[x % 2 == 0]\n",
    "\n",
    "def np_sum(x, y):\n",
    "    return np.sum(x + y)\n",
    "        \n",
    "np_median(lst3)\n",
    "np_square(lst3)\n",
    "np_even(lst3)\n",
    "np_sum(lst3, lst4)\n"
   ],
   "outputs": [
    {
     "data": {
      "text/plain": [
       "89985859"
      ]
     },
     "execution_count": 15,
     "metadata": {},
     "output_type": "execute_result"
    }
   ],
   "execution_count": 15
  },
  {
   "cell_type": "markdown",
   "metadata": {},
   "source": [
    "<a id=\"np_opdracht3\"></a>\n",
    "## Opdracht 3\n",
    "\n",
    "De blokcoördinator D.O. Cent van blok A  wil graag de cijfers analyseren en verwerken. Het blok bestaat uit 3 vakken, die door 10 studenten gevolgd zijn. Analyse omvat o.a. het bepalen van gemiddelde cijfer, het aantal voldoendes en cursusrendement. De verwerking bestaat uit het corrigeren van de cijfers.\n",
    "\n",
    "In `blokAcijfers.txt` staan de cijfers per vak (naast elkaar staan de vakken, onder elkaar de studenten):\n",
    "\n",
    "vak1 | vak2 | vak3\n",
    "----|-------|------\n",
    "6.5 | 7.3   | 6.4\n",
    "8.0 | 8.0\t| 8.5\n",
    "3.2\t| 4.0\t| 5.0\n",
    "7.9\t| 7.1\t| 3.5\n",
    "7.3\t| 7.8\t| 8.0\n",
    "8.6\t| 8.0\t| 9.0\n",
    "4.0\t| 6.0\t| 5.5\n",
    "7.3\t| 7.8\t| 7.8\n",
    "4.5\t| 5.6\t| 7.7\n",
    "5.0\t| 7.0\t| 7.2\n"
   ]
  },
  {
   "cell_type": "code",
   "metadata": {
    "ExecuteTime": {
     "end_time": "2024-09-24T13:03:37.799054Z",
     "start_time": "2024-09-24T13:03:37.797232Z"
    }
   },
   "source": [
    "import numpy as np"
   ],
   "outputs": [],
   "execution_count": 16
  },
  {
   "cell_type": "markdown",
   "metadata": {},
   "source": [
    "Start met de data verzamelen:\n",
    "- Lees tekstbestand: blokAcijfers.txt in met `np.loadtxt`, sla de data op in een numpy array met naam `vCijfers`.\n",
    "- Laat zien dat de gegevens goed ingelezen zijn.\n",
    "- Toon de array attributen."
   ]
  },
  {
   "cell_type": "code",
   "metadata": {
    "scrolled": true,
    "tags": [
     "student"
    ],
    "ExecuteTime": {
     "end_time": "2024-09-24T13:03:37.857984Z",
     "start_time": "2024-09-24T13:03:37.853150Z"
    }
   },
   "source": [
    "vCijfers = np.loadtxt('blokAcijfers.txt')\n",
    "vCijfers"
   ],
   "outputs": [
    {
     "data": {
      "text/plain": [
       "array([[6.5, 7.3, 6.4],\n",
       "       [8. , 8. , 8.5],\n",
       "       [3.2, 4. , 5. ],\n",
       "       [7.9, 7.1, 3.5],\n",
       "       [7.3, 7.8, 8. ],\n",
       "       [8.6, 8. , 9. ],\n",
       "       [4. , 6. , 5.5],\n",
       "       [7.3, 7.8, 7.8],\n",
       "       [4.5, 5.6, 7.7],\n",
       "       [5. , 7. , 7.2]])"
      ]
     },
     "execution_count": 17,
     "metadata": {},
     "output_type": "execute_result"
    }
   ],
   "execution_count": 17
  },
  {
   "cell_type": "markdown",
   "metadata": {},
   "source": [
    "De docent ziet dat er 2 cijfers fout zijn en wil deze corrigeren\n",
    "-\tWijzig de volgende cijfers:\n",
    "    *\tvak-2, student-3  cijfer 4.0 moet 4.3 worden.\n",
    "    *\tvak-1, student-10, cijfer 5.0 moet 4.8 worden."
   ]
  },
  {
   "cell_type": "code",
   "metadata": {
    "tags": [
     "student"
    ],
    "ExecuteTime": {
     "end_time": "2024-09-24T13:03:38.014986Z",
     "start_time": "2024-09-24T13:03:38.010273Z"
    }
   },
   "source": [
    "vCijfers[2, 1] = 4.3\n",
    "vCijfers[9, 0] = 4.6\n",
    "vCijfers"
   ],
   "outputs": [
    {
     "data": {
      "text/plain": [
       "array([[6.5, 7.3, 6.4],\n",
       "       [8. , 8. , 8.5],\n",
       "       [3.2, 4.3, 5. ],\n",
       "       [7.9, 7.1, 3.5],\n",
       "       [7.3, 7.8, 8. ],\n",
       "       [8.6, 8. , 9. ],\n",
       "       [4. , 6. , 5.5],\n",
       "       [7.3, 7.8, 7.8],\n",
       "       [4.5, 5.6, 7.7],\n",
       "       [4.6, 7. , 7.2]])"
      ]
     },
     "execution_count": 18,
     "metadata": {},
     "output_type": "execute_result"
    }
   ],
   "execution_count": 18
  },
  {
   "cell_type": "markdown",
   "metadata": {},
   "source": [
    "De docent wil wat basisgegevens weten.\n",
    "-\tBepaal minimum, maximum en gemiddelde van alle cijfers.\n",
    "-\tBepaal minimum, maximum en gemiddelde van elk vak (3 getallen).\n",
    "-\tBepaal minimum, maximum en gemiddelde van elke student (10 getallen)."
   ]
  },
  {
   "cell_type": "code",
   "metadata": {
    "tags": [
     "student"
    ],
    "ExecuteTime": {
     "end_time": "2024-09-24T13:03:38.071158Z",
     "start_time": "2024-09-24T13:03:38.067488Z"
    }
   },
   "source": [
    "for i in vCijfers:\n",
    "    print(f\"Min: {np.min(i)}\")"
   ],
   "outputs": [
    {
     "name": "stdout",
     "output_type": "stream",
     "text": [
      "Min: 6.4\n",
      "Min: 8.0\n",
      "Min: 3.2\n",
      "Min: 3.5\n",
      "Min: 7.3\n",
      "Min: 8.0\n",
      "Min: 4.0\n",
      "Min: 7.3\n",
      "Min: 4.5\n",
      "Min: 4.6\n"
     ]
    }
   ],
   "execution_count": 19
  },
  {
   "cell_type": "code",
   "metadata": {
    "ExecuteTime": {
     "end_time": "2024-09-24T13:03:38.244717Z",
     "start_time": "2024-09-24T13:03:38.241866Z"
    }
   },
   "source": [
    "for i in vCijfers:\n",
    "    print(f\"Max: {np.max(i)}\")"
   ],
   "outputs": [
    {
     "name": "stdout",
     "output_type": "stream",
     "text": [
      "Max: 7.3\n",
      "Max: 8.5\n",
      "Max: 5.0\n",
      "Max: 7.9\n",
      "Max: 8.0\n",
      "Max: 9.0\n",
      "Max: 6.0\n",
      "Max: 7.8\n",
      "Max: 7.7\n",
      "Max: 7.2\n"
     ]
    }
   ],
   "execution_count": 20
  },
  {
   "cell_type": "code",
   "metadata": {
    "ExecuteTime": {
     "end_time": "2024-09-24T13:03:38.303998Z",
     "start_time": "2024-09-24T13:03:38.301190Z"
    }
   },
   "source": [
    "for i in vCijfers:\n",
    "    print(f\"Mean: {np.mean(i)}\")"
   ],
   "outputs": [
    {
     "name": "stdout",
     "output_type": "stream",
     "text": [
      "Mean: 6.733333333333334\n",
      "Mean: 8.166666666666666\n",
      "Mean: 4.166666666666667\n",
      "Mean: 6.166666666666667\n",
      "Mean: 7.7\n",
      "Mean: 8.533333333333333\n",
      "Mean: 5.166666666666667\n",
      "Mean: 7.633333333333333\n",
      "Mean: 5.933333333333334\n",
      "Mean: 6.266666666666667\n"
     ]
    }
   ],
   "execution_count": 21
  },
  {
   "cell_type": "markdown",
   "metadata": {},
   "source": [
    "De docent wil graag zien wat de cijfers zijn als ze afgerond worden op hele getallen.\n",
    "-\tKopieer de array naar een nieuwe array.\n",
    "-\tRond de waarden af.\n",
    "-\tLaat de resultaten zien."
   ]
  },
  {
   "cell_type": "code",
   "metadata": {
    "tags": [
     "student"
    ],
    "ExecuteTime": {
     "end_time": "2024-09-24T13:03:38.418643Z",
     "start_time": "2024-09-24T13:03:38.414564Z"
    }
   },
   "source": [
    "vCijfers2 = np.copy(vCijfers)\n",
    "np.round(vCijfers2)"
   ],
   "outputs": [
    {
     "data": {
      "text/plain": [
       "array([[6., 7., 6.],\n",
       "       [8., 8., 8.],\n",
       "       [3., 4., 5.],\n",
       "       [8., 7., 4.],\n",
       "       [7., 8., 8.],\n",
       "       [9., 8., 9.],\n",
       "       [4., 6., 6.],\n",
       "       [7., 8., 8.],\n",
       "       [4., 6., 8.],\n",
       "       [5., 7., 7.]])"
      ]
     },
     "execution_count": 22,
     "metadata": {},
     "output_type": "execute_result"
    }
   ],
   "execution_count": 22
  },
  {
   "cell_type": "markdown",
   "metadata": {},
   "source": [
    "Er is een fout gemaakt bij de cijfers van het 1e vak. Iedere student krijgt 0.5 punt extra erbij.\n",
    "-\tVul een ‘ophoogarray’ bestaande uit 3 kolommen en elk 10 rijen en vul deze eerst met 0.0 en daarna de eerste rij met de waarden 0.5.\n",
    "-\tTel de ophoogarray op bij de cijfer array."
   ]
  },
  {
   "cell_type": "code",
   "metadata": {
    "tags": [
     "student"
    ],
    "ExecuteTime": {
     "end_time": "2024-09-24T13:03:38.507427Z",
     "start_time": "2024-09-24T13:03:38.503647Z"
    }
   },
   "source": [
    "ophoogarray = np.zeros((10,3))\n",
    "ophoogarray[:,0] += 0.5 \n",
    "vCijfers2 += ophoogarray\n",
    "vCijfers2"
   ],
   "outputs": [
    {
     "data": {
      "text/plain": [
       "array([[7. , 7.3, 6.4],\n",
       "       [8.5, 8. , 8.5],\n",
       "       [3.7, 4.3, 5. ],\n",
       "       [8.4, 7.1, 3.5],\n",
       "       [7.8, 7.8, 8. ],\n",
       "       [9.1, 8. , 9. ],\n",
       "       [4.5, 6. , 5.5],\n",
       "       [7.8, 7.8, 7.8],\n",
       "       [5. , 5.6, 7.7],\n",
       "       [5.1, 7. , 7.2]])"
      ]
     },
     "execution_count": 23,
     "metadata": {},
     "output_type": "execute_result"
    }
   ],
   "execution_count": 23
  },
  {
   "metadata": {
    "tags": [
     "student"
    ],
    "ExecuteTime": {
     "end_time": "2024-09-24T13:03:38.656188Z",
     "start_time": "2024-09-24T13:03:38.653074Z"
    }
   },
   "cell_type": "code",
   "source": [
    "isVld = vCijfers2 >= 5.5\n",
    "isVld"
   ],
   "outputs": [
    {
     "data": {
      "text/plain": [
       "array([[ True,  True,  True],\n",
       "       [ True,  True,  True],\n",
       "       [False, False, False],\n",
       "       [ True,  True, False],\n",
       "       [ True,  True,  True],\n",
       "       [ True,  True,  True],\n",
       "       [False,  True,  True],\n",
       "       [ True,  True,  True],\n",
       "       [False,  True,  True],\n",
       "       [False,  True,  True]])"
      ]
     },
     "execution_count": 24,
     "metadata": {},
     "output_type": "execute_result"
    }
   ],
   "execution_count": 24
  },
  {
   "metadata": {},
   "cell_type": "markdown",
   "source": [
    "De docent wil een lijstje waarin hij in één opslag ziet waar een voldoende (`True`) en waar een onvoldoende (`False`) staat.  \n",
    "-\tMaakt dit lijstje."
   ]
  },
  {
   "cell_type": "markdown",
   "metadata": {},
   "source": [
    "<a id=\"np_opdracht4\"></a>\n",
    "## Opdracht 4\n",
    "**Deze opdracht is facultatief**"
   ]
  },
  {
   "cell_type": "code",
   "metadata": {
    "ExecuteTime": {
     "end_time": "2024-09-24T13:03:38.765004Z",
     "start_time": "2024-09-24T13:03:38.762969Z"
    }
   },
   "source": [
    "import numpy as np"
   ],
   "outputs": [],
   "execution_count": 25
  },
  {
   "cell_type": "markdown",
   "metadata": {},
   "source": [
    "#### 3. Create a null vector of size 10"
   ]
  },
  {
   "cell_type": "code",
   "metadata": {
    "tags": [
     "student"
    ],
    "ExecuteTime": {
     "end_time": "2024-09-24T13:03:38.829065Z",
     "start_time": "2024-09-24T13:03:38.825787Z"
    }
   },
   "source": [
    "a = np.zeros(10)\n",
    "a"
   ],
   "outputs": [
    {
     "data": {
      "text/plain": [
       "array([0., 0., 0., 0., 0., 0., 0., 0., 0., 0.])"
      ]
     },
     "execution_count": 26,
     "metadata": {},
     "output_type": "execute_result"
    }
   ],
   "execution_count": 26
  },
  {
   "cell_type": "markdown",
   "metadata": {},
   "source": [
    "#### 6.  Create a null vector of size 10 but the fifth value which is 1"
   ]
  },
  {
   "cell_type": "code",
   "metadata": {
    "tags": [
     "student"
    ],
    "ExecuteTime": {
     "end_time": "2024-09-24T13:03:38.997069Z",
     "start_time": "2024-09-24T13:03:38.993984Z"
    }
   },
   "source": [
    "b = np.zeros(10)\n",
    "b[4] = 1\n",
    "b"
   ],
   "outputs": [
    {
     "data": {
      "text/plain": [
       "array([0., 0., 0., 0., 1., 0., 0., 0., 0., 0.])"
      ]
     },
     "execution_count": 27,
     "metadata": {},
     "output_type": "execute_result"
    }
   ],
   "execution_count": 27
  },
  {
   "cell_type": "markdown",
   "metadata": {},
   "source": [
    "#### 8.  Reverse a vector with values ranging from 10 to 49 (first element becomes last)"
   ]
  },
  {
   "cell_type": "code",
   "metadata": {
    "tags": [
     "student"
    ],
    "ExecuteTime": {
     "end_time": "2024-09-24T13:03:39.155667Z",
     "start_time": "2024-09-24T13:03:39.151465Z"
    }
   },
   "source": [
    "c = np.arange(10, 50)\n",
    "print(c[::-1])"
   ],
   "outputs": [
    {
     "name": "stdout",
     "output_type": "stream",
     "text": [
      "[49 48 47 46 45 44 43 42 41 40 39 38 37 36 35 34 33 32 31 30 29 28 27 26\n",
      " 25 24 23 22 21 20 19 18 17 16 15 14 13 12 11 10]\n"
     ]
    }
   ],
   "execution_count": 28
  },
  {
   "cell_type": "markdown",
   "metadata": {},
   "source": [
    "#### 9.  Create a 3x3 matrix with values ranging from 0 to 8"
   ]
  },
  {
   "cell_type": "code",
   "metadata": {
    "tags": [
     "student"
    ],
    "ExecuteTime": {
     "end_time": "2024-09-24T13:03:39.218252Z",
     "start_time": "2024-09-24T13:03:39.214887Z"
    }
   },
   "source": [
    "d = np.arange(0, 9).reshape([3, 3])\n",
    "print(d)"
   ],
   "outputs": [
    {
     "name": "stdout",
     "output_type": "stream",
     "text": [
      "[[0 1 2]\n",
      " [3 4 5]\n",
      " [6 7 8]]\n"
     ]
    }
   ],
   "execution_count": 29
  },
  {
   "cell_type": "markdown",
   "metadata": {},
   "source": [
    "#### 10. Find indices of non-zero elements from \\[1,2,0,0,4,0\\]"
   ]
  },
  {
   "cell_type": "code",
   "metadata": {
    "tags": [
     "student"
    ],
    "ExecuteTime": {
     "end_time": "2024-09-24T13:03:39.272767Z",
     "start_time": "2024-09-24T13:03:39.268948Z"
    }
   },
   "source": [
    "e = np.array([1, 2, 0, 0, 4, 0])\n",
    "e = np.nonzero(e)[0]\n",
    "print(e)"
   ],
   "outputs": [
    {
     "name": "stdout",
     "output_type": "stream",
     "text": [
      "[0 1 4]\n"
     ]
    }
   ],
   "execution_count": 30
  },
  {
   "cell_type": "markdown",
   "metadata": {},
   "source": [
    "#### 11. Create a 3x3 identity matrix"
   ]
  },
  {
   "cell_type": "code",
   "metadata": {
    "tags": [
     "student"
    ],
    "ExecuteTime": {
     "end_time": "2024-09-24T13:03:39.328820Z",
     "start_time": "2024-09-24T13:03:39.325721Z"
    }
   },
   "source": [
    "f = np.identity(3)\n",
    "print(f)"
   ],
   "outputs": [
    {
     "name": "stdout",
     "output_type": "stream",
     "text": [
      "[[1. 0. 0.]\n",
      " [0. 1. 0.]\n",
      " [0. 0. 1.]]\n"
     ]
    }
   ],
   "execution_count": 31
  },
  {
   "cell_type": "markdown",
   "metadata": {},
   "source": [
    "#### 13. Create a 10x10 array with random values and find the minimum and maximum values"
   ]
  },
  {
   "cell_type": "code",
   "metadata": {
    "tags": [
     "student"
    ],
    "ExecuteTime": {
     "end_time": "2024-09-24T13:03:39.384970Z",
     "start_time": "2024-09-24T13:03:39.382286Z"
    }
   },
   "source": [
    "g = np.random.randint(0, 100, 100).reshape([10, 10])\n",
    "print(g.min())\n",
    "print(g.max())"
   ],
   "outputs": [
    {
     "name": "stdout",
     "output_type": "stream",
     "text": [
      "0\n",
      "99\n"
     ]
    }
   ],
   "execution_count": 32
  },
  {
   "cell_type": "markdown",
   "metadata": {},
   "source": [
    "#### 15. Create a 2d array with 1 on the border and 0 inside"
   ]
  },
  {
   "cell_type": "code",
   "metadata": {
    "tags": [
     "student"
    ],
    "ExecuteTime": {
     "end_time": "2024-09-24T13:03:39.438241Z",
     "start_time": "2024-09-24T13:03:39.434920Z"
    }
   },
   "source": [
    "h = np.zeros((5, 5))\n",
    "h[0,:] = 1\n",
    "h[-1,:] = 1\n",
    "h[:,0] = 1\n",
    "h[:,-1] = 1\n",
    "print(h)"
   ],
   "outputs": [
    {
     "name": "stdout",
     "output_type": "stream",
     "text": [
      "[[1. 1. 1. 1. 1.]\n",
      " [1. 0. 0. 0. 1.]\n",
      " [1. 0. 0. 0. 1.]\n",
      " [1. 0. 0. 0. 1.]\n",
      " [1. 1. 1. 1. 1.]]\n"
     ]
    }
   ],
   "execution_count": 33
  },
  {
   "cell_type": "markdown",
   "metadata": {},
   "source": [
    "#### 19. Create a 8x8 matrix and fill it with a checkerboard pattern"
   ]
  },
  {
   "cell_type": "code",
   "metadata": {
    "tags": [
     "student"
    ],
    "ExecuteTime": {
     "end_time": "2024-09-24T13:03:39.491995Z",
     "start_time": "2024-09-24T13:03:39.488941Z"
    }
   },
   "source": [
    "i = np.zeros((8,8))\n",
    "i[1::2, ::2] = 1\n",
    "i[::2, 1::2] = 1\n",
    "print(i)"
   ],
   "outputs": [
    {
     "name": "stdout",
     "output_type": "stream",
     "text": [
      "[[0. 1. 0. 1. 0. 1. 0. 1.]\n",
      " [1. 0. 1. 0. 1. 0. 1. 0.]\n",
      " [0. 1. 0. 1. 0. 1. 0. 1.]\n",
      " [1. 0. 1. 0. 1. 0. 1. 0.]\n",
      " [0. 1. 0. 1. 0. 1. 0. 1.]\n",
      " [1. 0. 1. 0. 1. 0. 1. 0.]\n",
      " [0. 1. 0. 1. 0. 1. 0. 1.]\n",
      " [1. 0. 1. 0. 1. 0. 1. 0.]]\n"
     ]
    }
   ],
   "execution_count": 34
  },
  {
   "cell_type": "markdown",
   "metadata": {},
   "source": [
    "#### 25. Given a 1D array, negate all elements which are between 3 and 8, in place."
   ]
  },
  {
   "cell_type": "code",
   "metadata": {
    "tags": [
     "student"
    ],
    "ExecuteTime": {
     "end_time": "2024-09-24T13:03:39.546364Z",
     "start_time": "2024-09-24T13:03:39.543506Z"
    }
   },
   "source": [
    "j = np.array([1, 4, 6, 8, 10, 3, 7, 2])\n",
    "j[(j >= 3) & (j <= 8)] *= -1\n",
    "print(j)"
   ],
   "outputs": [
    {
     "name": "stdout",
     "output_type": "stream",
     "text": [
      "[ 1 -4 -6 -8 10 -3 -7  2]\n"
     ]
    }
   ],
   "execution_count": 35
  },
  {
   "cell_type": "markdown",
   "metadata": {},
   "source": [
    "#### 29. How to round away from zero a float array ?"
   ]
  },
  {
   "cell_type": "code",
   "metadata": {
    "tags": [
     "student"
    ],
    "ExecuteTime": {
     "end_time": "2024-09-24T13:03:39.601811Z",
     "start_time": "2024-09-24T13:03:39.599131Z"
    }
   },
   "source": "k = None",
   "outputs": [],
   "execution_count": 36
  },
  {
   "cell_type": "markdown",
   "metadata": {},
   "source": [
    "#### 30. How to find common values between two arrays?"
   ]
  },
  {
   "cell_type": "code",
   "metadata": {
    "tags": [
     "student"
    ],
    "ExecuteTime": {
     "end_time": "2024-09-24T13:03:39.648216Z",
     "start_time": "2024-09-24T13:03:39.644837Z"
    }
   },
   "source": "l = None",
   "outputs": [],
   "execution_count": 37
  },
  {
   "cell_type": "markdown",
   "metadata": {},
   "source": [
    "#### 36. Extract the integer part of a random array using 5 different methods"
   ]
  },
  {
   "cell_type": "code",
   "metadata": {
    "ExecuteTime": {
     "end_time": "2024-09-24T13:03:39.694211Z",
     "start_time": "2024-09-24T13:03:39.691496Z"
    }
   },
   "source": "m = np.random.uniform(0,10,10)",
   "outputs": [],
   "execution_count": 38
  },
  {
   "cell_type": "code",
   "metadata": {
    "tags": [
     "student"
    ],
    "ExecuteTime": {
     "end_time": "2024-09-24T13:03:39.741422Z",
     "start_time": "2024-09-24T13:03:39.738167Z"
    }
   },
   "source": [
    "print(np.floor(m))\n",
    "print(np.ceil(m))\n",
    "print(np.trunc(m))\n",
    "print(m.astype(int))\n",
    "print(np.vectorize())"
   ],
   "outputs": [
    {
     "name": "stdout",
     "output_type": "stream",
     "text": [
      "[2. 7. 9. 6. 3. 0. 0. 6. 7. 6.]\n",
      "[ 3.  8. 10.  7.  4.  1.  1.  7.  8.  7.]\n",
      "[2. 7. 9. 6. 3. 0. 0. 6. 7. 6.]\n",
      "[2 7 9 6 3 0 0 6 7 6]\n",
      "<numpy.vectorize object at 0x71969b165820>\n"
     ]
    }
   ],
   "execution_count": 39
  },
  {
   "cell_type": "markdown",
   "metadata": {},
   "source": [
    "#### 37. Create a 5x5 matrix with row values ranging from 0 to 4"
   ]
  },
  {
   "cell_type": "code",
   "metadata": {
    "tags": [
     "student"
    ],
    "ExecuteTime": {
     "end_time": "2024-09-24T13:11:48.726848Z",
     "start_time": "2024-09-24T13:11:48.722631Z"
    }
   },
   "source": [
    "n = np.tile(np.arange(5), (5, 1))\n",
    "print(n)"
   ],
   "outputs": [
    {
     "name": "stdout",
     "output_type": "stream",
     "text": [
      "[[0 1 2 3 4]\n",
      " [0 1 2 3 4]\n",
      " [0 1 2 3 4]\n",
      " [0 1 2 3 4]\n",
      " [0 1 2 3 4]]\n"
     ]
    }
   ],
   "execution_count": 44
  },
  {
   "cell_type": "markdown",
   "metadata": {},
   "source": [
    "#### 39. Create a vector of size 10 with values ranging from 0 to 1, both excluded"
   ]
  },
  {
   "cell_type": "code",
   "metadata": {
    "tags": [
     "student"
    ],
    "ExecuteTime": {
     "end_time": "2024-09-24T13:12:26.858244Z",
     "start_time": "2024-09-24T13:12:26.854283Z"
    }
   },
   "source": [
    "o = np.linspace(0, 1, 12)[1:-1]\n",
    "print(o)"
   ],
   "outputs": [
    {
     "name": "stdout",
     "output_type": "stream",
     "text": [
      "[0.09090909 0.18181818 0.27272727 0.36363636 0.45454545 0.54545455\n",
      " 0.63636364 0.72727273 0.81818182 0.90909091]\n"
     ]
    }
   ],
   "execution_count": 45
  },
  {
   "cell_type": "markdown",
   "metadata": {},
   "source": [
    "#### 40. Create a random vector of size 10 and sort it"
   ]
  },
  {
   "cell_type": "code",
   "metadata": {
    "tags": [
     "student"
    ],
    "ExecuteTime": {
     "end_time": "2024-09-24T13:18:49.398941Z",
     "start_time": "2024-09-24T13:18:49.395417Z"
    }
   },
   "source": [
    "p = np.random.random(10)\n",
    "p.sort()\n",
    "print(p)"
   ],
   "outputs": [
    {
     "name": "stdout",
     "output_type": "stream",
     "text": [
      "[0.06441468 0.20249184 0.22511499 0.48867172 0.50997608 0.55300645\n",
      " 0.58544869 0.6563124  0.6806621  0.68969873]\n"
     ]
    }
   ],
   "execution_count": 52
  },
  {
   "cell_type": "markdown",
   "metadata": {},
   "source": [
    "#### 42. Consider two random array A and B, check if they are equal"
   ]
  },
  {
   "cell_type": "code",
   "metadata": {
    "tags": [
     "student"
    ],
    "ExecuteTime": {
     "end_time": "2024-09-24T13:19:48.047854Z",
     "start_time": "2024-09-24T13:19:48.044064Z"
    }
   },
   "source": [
    "q = np.random.random(10)\n",
    "r = np.random.random(10)\n",
    "print(np.array_equal(q, r))"
   ],
   "outputs": [
    {
     "name": "stdout",
     "output_type": "stream",
     "text": [
      "False\n"
     ]
    }
   ],
   "execution_count": 56
  },
  {
   "cell_type": "markdown",
   "metadata": {},
   "source": [
    "#### 45. Create random vector of size 10 and replace the maximum value by 0"
   ]
  },
  {
   "cell_type": "code",
   "metadata": {
    "tags": [
     "student"
    ],
    "ExecuteTime": {
     "end_time": "2024-09-24T13:28:09.591845Z",
     "start_time": "2024-09-24T13:28:09.589056Z"
    }
   },
   "source": [
    "s = np.random.random(10)\n",
    "s[s.argmax()] = 0\n",
    "print(s)"
   ],
   "outputs": [
    {
     "name": "stdout",
     "output_type": "stream",
     "text": [
      "[0.63560703 0.67950179 0.         0.2745721  0.6270531  0.697392\n",
      " 0.00415836 0.36806397 0.17022984 0.41479514]\n"
     ]
    }
   ],
   "execution_count": 64
  },
  {
   "cell_type": "markdown",
   "metadata": {},
   "source": [
    "#### 50. How to find the closest value (to a given scalar) in a vector?"
   ]
  },
  {
   "cell_type": "code",
   "metadata": {
    "ExecuteTime": {
     "end_time": "2024-09-24T13:33:53.220883Z",
     "start_time": "2024-09-24T13:33:53.217968Z"
    }
   },
   "source": "t = np.random.uniform(0,100,10)",
   "outputs": [],
   "execution_count": 68
  },
  {
   "cell_type": "code",
   "metadata": {
    "tags": [
     "student"
    ],
    "ExecuteTime": {
     "end_time": "2024-09-24T13:33:53.636046Z",
     "start_time": "2024-09-24T13:33:53.633342Z"
    }
   },
   "source": [
    "scalar = 50\n",
    "closest_value = t[np.abs(t - scalar).argmin()]\n",
    "print(scalar, closest_value)"
   ],
   "outputs": [
    {
     "name": "stdout",
     "output_type": "stream",
     "text": [
      "50 65.7387460978817\n"
     ]
    }
   ],
   "execution_count": 69
  },
  {
   "cell_type": "markdown",
   "metadata": {},
   "source": [
    "#### 52. Consider a random vector with shape (10,2) representing coordinates, find point by point distances"
   ]
  },
  {
   "cell_type": "code",
   "metadata": {
    "ExecuteTime": {
     "end_time": "2024-09-24T13:35:47.981479Z",
     "start_time": "2024-09-24T13:35:47.978761Z"
    }
   },
   "source": "u = np.random.random((10,2))\n",
   "outputs": [],
   "execution_count": 71
  },
  {
   "cell_type": "code",
   "metadata": {
    "tags": [
     "student"
    ],
    "ExecuteTime": {
     "end_time": "2024-09-24T13:35:51.483508Z",
     "start_time": "2024-09-24T13:35:51.479594Z"
    }
   },
   "source": [
    "distances = np.sqrt(((u[:, np.newaxis, :] - u[np.newaxis, :, :]) ** 2).sum(axis=2))\n",
    "print(u, distances)"
   ],
   "outputs": [
    {
     "name": "stdout",
     "output_type": "stream",
     "text": [
      "[[0.30571798 0.43839985]\n",
      " [0.1901278  0.24009195]\n",
      " [0.59584197 0.39173168]\n",
      " [0.44372108 0.99802026]\n",
      " [0.82959773 0.19815848]\n",
      " [0.18699288 0.91565121]\n",
      " [0.96535149 0.08687186]\n",
      " [0.76069855 0.75078634]\n",
      " [0.09020044 0.74394665]\n",
      " [0.82022733 0.44165986]] [[0.         0.22953673 0.29385344 0.57638516 0.57633836 0.49179722\n",
      "  0.74745454 0.55189912 0.37390728 0.51451968]\n",
      " [0.22953673 0.         0.43312653 0.79922767 0.64084335 0.67556653\n",
      "  0.79022032 0.7657413  0.51366821 0.66155501]\n",
      " [0.29385344 0.43312653 0.         0.62508128 0.30350015 0.66456696\n",
      "  0.47903736 0.39509232 0.61622134 0.22987304]\n",
      " [0.57638516 0.79922767 0.62508128 0.         0.88807638 0.2696183\n",
      "  1.04989985 0.40199419 0.43535072 0.67178408]\n",
      " [0.57633836 0.64084335 0.30350015 0.88807638 0.         0.96319095\n",
      "  0.17553859 0.55690631 0.91901745 0.2436816 ]\n",
      " [0.49179722 0.67556653 0.66456696 0.2696183  0.96319095 0.\n",
      "  1.13697727 0.5969243  0.19710717 0.79098272]\n",
      " [0.74745454 0.79022032 0.47903736 1.04989985 0.17553859 1.13697727\n",
      "  0.         0.69474114 1.09436586 0.38332172]\n",
      " [0.55189912 0.7657413  0.39509232 0.40199419 0.55690631 0.5969243\n",
      "  0.69474114 0.         0.670533   0.31480606]\n",
      " [0.37390728 0.51366821 0.61622134 0.43535072 0.91901745 0.19710717\n",
      "  1.09436586 0.670533   0.         0.79013706]\n",
      " [0.51451968 0.66155501 0.22987304 0.67178408 0.2436816  0.79098272\n",
      "  0.38332172 0.31480606 0.79013706 0.        ]]\n"
     ]
    }
   ],
   "execution_count": 73
  },
  {
   "cell_type": "markdown",
   "metadata": {},
   "source": [
    "#### 57. How to randomly place p elements in a 2D array?"
   ]
  },
  {
   "cell_type": "code",
   "metadata": {
    "tags": [
     "student"
    ],
    "ExecuteTime": {
     "end_time": "2024-09-24T13:41:10.189264Z",
     "start_time": "2024-09-24T13:41:10.185128Z"
    }
   },
   "source": [
    "v = np.zeros((5, 5), dtype=int)\n",
    "positions = np.random.choice(5 * 5, 5, replace=False)\n",
    "np.put(v, positions, 1)\n",
    "print(v)"
   ],
   "outputs": [
    {
     "name": "stdout",
     "output_type": "stream",
     "text": [
      "[[0 0 1 0 0]\n",
      " [0 0 1 0 0]\n",
      " [1 0 0 1 0]\n",
      " [0 0 0 0 0]\n",
      " [0 0 1 0 0]]\n"
     ]
    }
   ],
   "execution_count": 78
  },
  {
   "cell_type": "markdown",
   "metadata": {},
   "source": [
    "#### 58. Subtract the mean of each row of a matrix"
   ]
  },
  {
   "cell_type": "code",
   "metadata": {
    "tags": [
     "student"
    ],
    "ExecuteTime": {
     "end_time": "2024-09-24T13:56:51.123935Z",
     "start_time": "2024-09-24T13:56:51.121589Z"
    }
   },
   "source": [
    "w = np.random.random((5, 5))\n",
    "\n",
    "row_means = w.mean(axis=1, keepdims=True)\n",
    "result = w - row_means\n",
    "print(w, result)"
   ],
   "outputs": [
    {
     "name": "stdout",
     "output_type": "stream",
     "text": [
      "[[0.1510405  0.57556582 0.04862838 0.16040424 0.94381368]\n",
      " [0.29854463 0.47476409 0.5062905  0.9159649  0.48977753]\n",
      " [0.90420831 0.99390146 0.33609078 0.64440165 0.58531936]\n",
      " [0.92683039 0.84393701 0.67359747 0.13302124 0.53380553]\n",
      " [0.3238503  0.16641894 0.75061084 0.02974482 0.60166392]] [[-0.22485002  0.19967529 -0.32726215 -0.21548628  0.56792316]\n",
      " [-0.2385237  -0.06230424 -0.03077783  0.37889657 -0.0472908 ]\n",
      " [ 0.211424    0.30111715 -0.35669353 -0.04838267 -0.10746495]\n",
      " [ 0.30459206  0.22169868  0.05135914 -0.48921708 -0.0884328 ]\n",
      " [-0.05060746 -0.20803882  0.37615308 -0.34471295  0.22720615]]\n"
     ]
    }
   ],
   "execution_count": 79
  },
  {
   "cell_type": "markdown",
   "metadata": {},
   "source": [
    "#### 59. How to sort an array by the nth column?"
   ]
  },
  {
   "cell_type": "code",
   "metadata": {
    "tags": [
     "student"
    ],
    "ExecuteTime": {
     "end_time": "2024-09-24T13:57:58.397386Z",
     "start_time": "2024-09-24T13:57:58.395079Z"
    }
   },
   "source": [
    "x = np.random.randint(0, 100, (5, 5))\n",
    "n = 2\n",
    "sorted_indices = np.argsort(x[:, n])\n",
    "sorted_array = x[sorted_indices]\n",
    "print(n, sorted_array)"
   ],
   "outputs": [
    {
     "name": "stdout",
     "output_type": "stream",
     "text": [
      "2 [[38 53  0  8  9]\n",
      " [93 25 13 42 17]\n",
      " [62 16 57 65 50]\n",
      " [14 46 59 74 29]\n",
      " [ 6 26 69 59 35]]\n"
     ]
    }
   ],
   "execution_count": 81
  },
  {
   "metadata": {},
   "cell_type": "markdown",
   "source": "#### 60. How to tell if a given 2D array has null columns?"
  },
  {
   "metadata": {
    "ExecuteTime": {
     "end_time": "2024-09-24T13:58:57.031196Z",
     "start_time": "2024-09-24T13:58:57.028506Z"
    }
   },
   "cell_type": "code",
   "source": [
    "y = np.array([\n",
    "    [1, 0, 3],\n",
    "    [4, 0, 6],\n",
    "    [7, 0, 9]\n",
    "])\n",
    "\n",
    "# Check for null columns\n",
    "null_columns = np.all(y == 0, axis=0)\n",
    "\n",
    "print(y, null_columns)"
   ],
   "outputs": [
    {
     "name": "stdout",
     "output_type": "stream",
     "text": [
      "[[1 0 3]\n",
      " [4 0 6]\n",
      " [7 0 9]] [False  True False]\n"
     ]
    }
   ],
   "execution_count": 84
  },
  {
   "cell_type": "markdown",
   "metadata": {},
   "source": [
    "#### 61. Find the nearest value from a given value in an array"
   ]
  },
  {
   "cell_type": "code",
   "metadata": {
    "ExecuteTime": {
     "end_time": "2024-09-24T14:01:28.639633Z",
     "start_time": "2024-09-24T14:01:28.637222Z"
    }
   },
   "source": [
    "z = np.random.uniform(0,1,10)\n",
    "value = 0.5"
   ],
   "outputs": [],
   "execution_count": 86
  },
  {
   "cell_type": "code",
   "metadata": {
    "tags": [
     "student"
    ],
    "ExecuteTime": {
     "end_time": "2024-09-24T14:01:29.124744Z",
     "start_time": "2024-09-24T14:01:29.122929Z"
    }
   },
   "source": [
    "nearest_value = z[np.abs(z - value).argmin()]\n",
    "print(z, value, nearest_value)"
   ],
   "outputs": [
    {
     "name": "stdout",
     "output_type": "stream",
     "text": [
      "[0.17774738 0.07069271 0.78689445 0.02730573 0.83729732 0.82219082\n",
      " 0.53053487 0.75718559 0.54170133 0.76993485] 0.5 0.5305348741891731\n"
     ]
    }
   ],
   "execution_count": 87
  },
  {
   "cell_type": "markdown",
   "metadata": {},
   "source": [
    "#### 70. Consider the vector \\[1, 2, 3, 4, 5\\], how to build a new vector with 3 consecutive zeros interleaved between each value?"
   ]
  },
  {
   "cell_type": "code",
   "metadata": {
    "tags": [
     "student"
    ],
    "ExecuteTime": {
     "end_time": "2024-09-24T14:05:55.412389Z",
     "start_time": "2024-09-24T14:05:55.410016Z"
    }
   },
   "source": [
    "A = np.array([1, 2, 3, 4, 5])\n",
    "B = np.zeros(len(A) * 4 - 3, dtype=int)\n",
    "B[::4] = A\n",
    "print(B)"
   ],
   "outputs": [
    {
     "name": "stdout",
     "output_type": "stream",
     "text": [
      "[1 0 0 0 2 0 0 0 3 0 0 0 4 0 0 0 5]\n"
     ]
    }
   ],
   "execution_count": 88
  },
  {
   "cell_type": "markdown",
   "metadata": {},
   "source": [
    "#### 72. How to swap two rows of an array?"
   ]
  },
  {
   "cell_type": "code",
   "metadata": {
    "tags": [
     "student"
    ],
    "ExecuteTime": {
     "end_time": "2024-09-24T14:08:21.234580Z",
     "start_time": "2024-09-24T14:08:21.231732Z"
    }
   },
   "source": [
    "import numpy as np\n",
    "\n",
    "C = np.array([\n",
    "    [1, 2, 3],\n",
    "    [4, 5, 6],\n",
    "    [7, 8, 9]\n",
    "])\n",
    "\n",
    "row1, row2 = 0, 2\n",
    "C[[row1, row2]] = C[[row2, row1]]\n",
    "print(C)"
   ],
   "outputs": [
    {
     "name": "stdout",
     "output_type": "stream",
     "text": [
      "[[7 8 9]\n",
      " [4 5 6]\n",
      " [1 2 3]]\n"
     ]
    }
   ],
   "execution_count": 92
  },
  {
   "cell_type": "markdown",
   "metadata": {},
   "source": [
    "#### 77. How to negate a boolean, or to change the sign of a float inplace?"
   ]
  },
  {
   "cell_type": "code",
   "metadata": {
    "tags": [
     "student"
    ],
    "ExecuteTime": {
     "end_time": "2024-09-24T14:09:02.486006Z",
     "start_time": "2024-09-24T14:09:02.483588Z"
    }
   },
   "source": [
    "D = np.array([True, False, True, False])\n",
    "np.logical_not(D, out=D)\n",
    "print(\"Negated boolean array:\", D)\n",
    "\n",
    "float_array = np.array([1.0, -2.0, 3.0, -4.0])\n",
    "float_array *= -1\n",
    "print(\"Sign-changed float array:\", float_array)"
   ],
   "outputs": [
    {
     "name": "stdout",
     "output_type": "stream",
     "text": [
      "Negated boolean array: [False  True False  True]\n",
      "Sign-changed float array: [-1.  2. -3.  4.]\n"
     ]
    }
   ],
   "execution_count": 93
  },
  {
   "cell_type": "markdown",
   "metadata": {},
   "source": [
    "#### 83. How to find the most frequent value in an array?"
   ]
  },
  {
   "cell_type": "code",
   "metadata": {
    "tags": [
     "student"
    ],
    "ExecuteTime": {
     "end_time": "2024-09-24T14:12:08.173090Z",
     "start_time": "2024-09-24T14:12:08.170432Z"
    }
   },
   "source": [
    "E = np.array([1, 2, 2, 3, 3, 3, 4, 4, 4, 4])\n",
    "most_frequent_value = np.bincount(E).argmax()\n",
    "print(\"Most frequent value:\", most_frequent_value)"
   ],
   "outputs": [
    {
     "name": "stdout",
     "output_type": "stream",
     "text": [
      "Most frequent value: 4\n"
     ]
    }
   ],
   "execution_count": 96
  },
  {
   "cell_type": "markdown",
   "metadata": {},
   "source": [
    "#### 89. How to get the n largest values of an array"
   ]
  },
  {
   "cell_type": "code",
   "metadata": {
    "tags": [
     "student"
    ],
    "ExecuteTime": {
     "end_time": "2024-09-24T14:12:34.431336Z",
     "start_time": "2024-09-24T14:12:34.428938Z"
    }
   },
   "source": [
    "F = np.array([1, 3, 5, 7, 9, 2, 4, 6, 8, 0])\n",
    "n = 3\n",
    "\n",
    "n_largest_values = np.partition(F, -n)[-n:]\n",
    "n_largest_values = np.sort(n_largest_values)[::-1]\n",
    "\n",
    "print(\"The\", n, \"largest values are:\", n_largest_values)"
   ],
   "outputs": [
    {
     "name": "stdout",
     "output_type": "stream",
     "text": [
      "The 3 largest values are: [9 8 7]\n"
     ]
    }
   ],
   "execution_count": 97
  }
 ],
 "metadata": {
  "celltoolbar": "Tags",
  "kernelspec": {
   "display_name": "Python 3 (ipykernel)",
   "language": "python",
   "name": "python3"
  },
  "language_info": {
   "codemirror_mode": {
    "name": "ipython",
    "version": 3
   },
   "file_extension": ".py",
   "mimetype": "text/x-python",
   "name": "python",
   "nbconvert_exporter": "python",
   "pygments_lexer": "ipython3",
   "version": "3.11.9"
  }
 },
 "nbformat": 4,
 "nbformat_minor": 4
}
