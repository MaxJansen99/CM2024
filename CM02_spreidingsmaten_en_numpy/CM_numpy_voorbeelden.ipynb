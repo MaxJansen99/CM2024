{
 "cells": [
  {
   "cell_type": "markdown",
   "id": "026a0a08-757d-4a85-b55d-b6c0abd5ca2f",
   "metadata": {
    "tags": []
   },
   "source": "    ## Introductie NumPy"
  },
  {
   "cell_type": "markdown",
   "id": "58b8d045-b5bf-4a78-b37d-acbf8aee55ce",
   "metadata": {
    "tags": []
   },
   "source": [
    "### Doel van  NumPy\n",
    "Efficiënt grote verzamelingen nummerieke gegevens (arrays) verwerken. Veel efficiënter dan dat jezelf via for / while lussen kunt doen"
   ]
  },
  {
   "cell_type": "code",
   "id": "fe29e401-4664-4c59-9727-7db937199c00",
   "metadata": {
    "tags": [],
    "ExecuteTime": {
     "end_time": "2024-09-24T13:03:15.357159Z",
     "start_time": "2024-09-24T13:03:15.275922Z"
    }
   },
   "source": [
    "# gebruik library\n",
    "import numpy as np"
   ],
   "outputs": [],
   "execution_count": 1
  },
  {
   "cell_type": "code",
   "id": "2651d04a-6e5b-47d0-a328-10d548702eec",
   "metadata": {
    "ExecuteTime": {
     "end_time": "2024-09-24T13:03:15.386928Z",
     "start_time": "2024-09-24T13:03:15.383885Z"
    }
   },
   "source": [
    "# Gebruik np.<TAB><TAB> voor documentatie"
   ],
   "outputs": [],
   "execution_count": 2
  },
  {
   "cell_type": "markdown",
   "id": "7a25c261-0dc7-4147-9114-226b25638fdf",
   "metadata": {},
   "source": [
    "### Aanmaken NumPy Arrays"
   ]
  },
  {
   "cell_type": "code",
   "id": "4163d7a8-3e7b-4353-b69f-fbff7cf51810",
   "metadata": {
    "ExecuteTime": {
     "end_time": "2024-09-24T13:03:15.433491Z",
     "start_time": "2024-09-24T13:03:15.430381Z"
    }
   },
   "source": [
    "# aanmaken van Arrays\n",
    "# uit een Python List\n",
    "np1 = np.array([1,4,2,5,3])\n",
    "print(np1)"
   ],
   "outputs": [
    {
     "name": "stdout",
     "output_type": "stream",
     "text": [
      "[1 4 2 5 3]\n"
     ]
    }
   ],
   "execution_count": 3
  },
  {
   "cell_type": "code",
   "id": "78fdd1c1-288e-47c1-9003-cfb2a579a2d1",
   "metadata": {
    "ExecuteTime": {
     "end_time": "2024-09-24T13:03:15.542190Z",
     "start_time": "2024-09-24T13:03:15.538046Z"
    }
   },
   "source": [
    "# uit een range definitie\n",
    "np2 = np.arange(0,20,2)  # van 0 tot 20 per 2\n",
    "np2"
   ],
   "outputs": [
    {
     "data": {
      "text/plain": [
       "array([ 0,  2,  4,  6,  8, 10, 12, 14, 16, 18])"
      ]
     },
     "execution_count": 4,
     "metadata": {},
     "output_type": "execute_result"
    }
   ],
   "execution_count": 4
  },
  {
   "cell_type": "code",
   "id": "e7991445-513f-477f-a849-e3f10759c5b6",
   "metadata": {
    "ExecuteTime": {
     "end_time": "2024-09-24T13:03:15.684393Z",
     "start_time": "2024-09-24T13:03:15.671015Z"
    }
   },
   "source": [
    "# meerdere dimensions random gevuld\n",
    "np.random.seed(0)  # seed for reproducibility\n",
    "\n",
    "x1 = np.random.randint(10, size=6)  # One-dimensional array\n",
    "x2 = np.random.randint(10, size=(3, 4))  # Two-dimensional array\n",
    "x3 = np.random.randint(10, size=(3, 4, 5))  # Three-dimensional array\n",
    "print(x1); print(x2); print(x3)"
   ],
   "outputs": [
    {
     "name": "stdout",
     "output_type": "stream",
     "text": [
      "[5 0 3 3 7 9]\n",
      "[[3 5 2 4]\n",
      " [7 6 8 8]\n",
      " [1 6 7 7]]\n",
      "[[[8 1 5 9 8]\n",
      "  [9 4 3 0 3]\n",
      "  [5 0 2 3 8]\n",
      "  [1 3 3 3 7]]\n",
      "\n",
      " [[0 1 9 9 0]\n",
      "  [4 7 3 2 7]\n",
      "  [2 0 0 4 5]\n",
      "  [5 6 8 4 1]]\n",
      "\n",
      " [[4 9 8 1 1]\n",
      "  [7 9 9 3 6]\n",
      "  [7 2 0 3 5]\n",
      "  [9 4 4 6 4]]]\n"
     ]
    }
   ],
   "execution_count": 5
  },
  {
   "cell_type": "markdown",
   "id": "4033a69b-a328-476c-892e-a197c1de9c8d",
   "metadata": {},
   "source": [
    "### Slicing (deel van array bepalen)"
   ]
  },
  {
   "cell_type": "code",
   "id": "bf01c662-9562-4c6e-84be-a17b7be194a4",
   "metadata": {
    "ExecuteTime": {
     "end_time": "2024-09-24T13:03:15.743205Z",
     "start_time": "2024-09-24T13:03:15.739529Z"
    }
   },
   "source": [
    "x = np.array(([5, 10, 15], [4, 14, 24], [3, 11, 19]))\n",
    "x"
   ],
   "outputs": [
    {
     "data": {
      "text/plain": [
       "array([[ 5, 10, 15],\n",
       "       [ 4, 14, 24],\n",
       "       [ 3, 11, 19]])"
      ]
     },
     "execution_count": 6,
     "metadata": {},
     "output_type": "execute_result"
    }
   ],
   "execution_count": 6
  },
  {
   "cell_type": "code",
   "id": "2192a782-63b5-4a63-9c28-f98b8eb01538",
   "metadata": {
    "ExecuteTime": {
     "end_time": "2024-09-24T13:03:15.803984Z",
     "start_time": "2024-09-24T13:03:15.799943Z"
    }
   },
   "source": [
    "x[:,1] # alle rijen, 2e kolom"
   ],
   "outputs": [
    {
     "data": {
      "text/plain": [
       "array([10, 14, 11])"
      ]
     },
     "execution_count": 7,
     "metadata": {},
     "output_type": "execute_result"
    }
   ],
   "execution_count": 7
  },
  {
   "cell_type": "code",
   "id": "3f3faa21-97d9-4a72-8b84-91f412e4db0a",
   "metadata": {
    "ExecuteTime": {
     "end_time": "2024-09-24T13:03:16.045100Z",
     "start_time": "2024-09-24T13:03:16.041797Z"
    }
   },
   "source": [
    "x[1,:] # tweede rij, alle kolommen\n"
   ],
   "outputs": [
    {
     "data": {
      "text/plain": [
       "array([ 4, 14, 24])"
      ]
     },
     "execution_count": 8,
     "metadata": {},
     "output_type": "execute_result"
    }
   ],
   "execution_count": 8
  },
  {
   "cell_type": "code",
   "id": "384c755e-8d5a-4789-bd78-4db42aacb166",
   "metadata": {
    "ExecuteTime": {
     "end_time": "2024-09-24T13:03:16.157400Z",
     "start_time": "2024-09-24T13:03:16.153803Z"
    }
   },
   "source": [
    "x[:2,1:]  # 1e en 2e rij, vanaf 2e kolom"
   ],
   "outputs": [
    {
     "data": {
      "text/plain": [
       "array([[10, 15],\n",
       "       [14, 24]])"
      ]
     },
     "execution_count": 9,
     "metadata": {},
     "output_type": "execute_result"
    }
   ],
   "execution_count": 9
  },
  {
   "cell_type": "markdown",
   "id": "c6aa32f8-c8fc-4054-9d52-099d897376d2",
   "metadata": {},
   "source": [
    "### Berekeningen"
   ]
  },
  {
   "cell_type": "code",
   "id": "f070519e-db90-4019-982d-83152398607e",
   "metadata": {
    "ExecuteTime": {
     "end_time": "2024-09-24T13:03:16.370254Z",
     "start_time": "2024-09-24T13:03:16.366842Z"
    }
   },
   "source": [
    "x = np.array(([10,20,30], [40,50,60]))\n",
    "y = np.array(([1,2,3], [4,5,6]))\n",
    "print(x); print(y)"
   ],
   "outputs": [
    {
     "name": "stdout",
     "output_type": "stream",
     "text": [
      "[[10 20 30]\n",
      " [40 50 60]]\n",
      "[[1 2 3]\n",
      " [4 5 6]]\n"
     ]
    }
   ],
   "execution_count": 10
  },
  {
   "cell_type": "code",
   "id": "39f67927-a5e5-4535-b079-47d7f05be5bb",
   "metadata": {
    "ExecuteTime": {
     "end_time": "2024-09-24T13:03:16.727404Z",
     "start_time": "2024-09-24T13:03:16.724337Z"
    }
   },
   "source": [
    "# Vergelijking tussen 2 arrays\n",
    "print(x>y)"
   ],
   "outputs": [
    {
     "name": "stdout",
     "output_type": "stream",
     "text": [
      "[[ True  True  True]\n",
      " [ True  True  True]]\n"
     ]
    }
   ],
   "execution_count": 11
  },
  {
   "cell_type": "code",
   "id": "142fbe0b-c9c4-4fb7-8243-258525290aae",
   "metadata": {
    "ExecuteTime": {
     "end_time": "2024-09-24T13:03:16.808768Z",
     "start_time": "2024-09-24T13:03:16.806089Z"
    }
   },
   "source": [
    "# Berekenen met 'enkel' getal\n",
    "print(x*2)"
   ],
   "outputs": [
    {
     "name": "stdout",
     "output_type": "stream",
     "text": [
      "[[ 20  40  60]\n",
      " [ 80 100 120]]\n"
     ]
    }
   ],
   "execution_count": 12
  },
  {
   "cell_type": "code",
   "id": "6afbf274-7b85-40f3-b8bf-c842415a2fbb",
   "metadata": {
    "ExecuteTime": {
     "end_time": "2024-09-24T13:03:16.881394Z",
     "start_time": "2024-09-24T13:03:16.877887Z"
    }
   },
   "source": [
    "# UFunc: universele functies op alle elemementen\n",
    "print(np.multiply(x,2))"
   ],
   "outputs": [
    {
     "name": "stdout",
     "output_type": "stream",
     "text": [
      "[[ 20  40  60]\n",
      " [ 80 100 120]]\n"
     ]
    }
   ],
   "execution_count": 13
  },
  {
   "cell_type": "code",
   "id": "a9be1961-d841-463d-8132-802ff97678e7",
   "metadata": {
    "ExecuteTime": {
     "end_time": "2024-09-24T13:03:17.007809Z",
     "start_time": "2024-09-24T13:03:17.004042Z"
    }
   },
   "source": [
    "# Aggregatie functies\n",
    "print(np.min(x))"
   ],
   "outputs": [
    {
     "name": "stdout",
     "output_type": "stream",
     "text": [
      "10\n"
     ]
    }
   ],
   "execution_count": 14
  },
  {
   "cell_type": "code",
   "id": "2feec34e-5861-4815-a7bf-1437d21e19c1",
   "metadata": {
    "ExecuteTime": {
     "end_time": "2024-09-24T13:03:17.119003Z",
     "start_time": "2024-09-24T13:03:17.115815Z"
    }
   },
   "source": [
    "print(np.sum(x))"
   ],
   "outputs": [
    {
     "name": "stdout",
     "output_type": "stream",
     "text": [
      "210\n"
     ]
    }
   ],
   "execution_count": 15
  },
  {
   "cell_type": "markdown",
   "id": "ee2d9d27-a5aa-44d6-942c-ea0fe3425d85",
   "metadata": {},
   "source": [
    "### Fancy indexing\n"
   ]
  },
  {
   "cell_type": "code",
   "id": "75ebec02-2b62-4df4-914c-c43a139e5ee6",
   "metadata": {
    "ExecuteTime": {
     "end_time": "2024-09-24T13:03:17.203556Z",
     "start_time": "2024-09-24T13:03:17.199613Z"
    }
   },
   "source": [
    "z = np.array(([15,20,35], [45,50,55]))\n",
    "x<z"
   ],
   "outputs": [
    {
     "data": {
      "text/plain": [
       "array([[ True, False,  True],\n",
       "       [ True, False, False]])"
      ]
     },
     "execution_count": 16,
     "metadata": {},
     "output_type": "execute_result"
    }
   ],
   "execution_count": 16
  },
  {
   "cell_type": "code",
   "id": "312933c8-b1c6-4064-9f49-92c28b573823",
   "metadata": {
    "ExecuteTime": {
     "end_time": "2024-09-24T13:03:17.274705Z",
     "start_time": "2024-09-24T13:03:17.271330Z"
    }
   },
   "source": [
    "x[x<z]"
   ],
   "outputs": [
    {
     "data": {
      "text/plain": [
       "array([10, 30, 40])"
      ]
     },
     "execution_count": 17,
     "metadata": {},
     "output_type": "execute_result"
    }
   ],
   "execution_count": 17
  },
  {
   "cell_type": "code",
   "id": "dafb3e41-5970-4bbd-9ea6-7e9c9617bdbf",
   "metadata": {
    "ExecuteTime": {
     "end_time": "2024-09-24T13:03:17.379790Z",
     "start_time": "2024-09-24T13:03:17.377390Z"
    }
   },
   "source": [
    "# Einde"
   ],
   "outputs": [],
   "execution_count": 18
  }
 ],
 "metadata": {
  "kernelspec": {
   "display_name": "Python 3 (ipykernel)",
   "language": "python",
   "name": "python3"
  },
  "language_info": {
   "codemirror_mode": {
    "name": "ipython",
    "version": 3
   },
   "file_extension": ".py",
   "mimetype": "text/x-python",
   "name": "python",
   "nbconvert_exporter": "python",
   "pygments_lexer": "ipython3",
   "version": "3.12.4"
  }
 },
 "nbformat": 4,
 "nbformat_minor": 5
}
