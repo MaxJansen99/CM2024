{
 "cells": [
  {
   "cell_type": "markdown",
   "id": "3118654e-051d-4bd3-9817-a500827e9f40",
   "metadata": {},
   "source": [
    "# Lineaire regressie - opdrachten"
   ]
  },
  {
   "cell_type": "markdown",
   "id": "b16ed498-8c88-4342-b8a1-aa4762905d95",
   "metadata": {},
   "source": [
    "In dit notebook vind je 2 opdrachten over lineaire regressie. \n",
    "\n",
    "- <a href = \"#linreg_opdracht1\"> Opdracht 1 </a> bestaat uit 2 oefeningen die je maakt ter voorbereiding van het college.\n",
    "- <a href = \"#linreg_opdracht2\"> Opdracht 2 </a> bestaat uit 6 stappen en die maak je tijdens het college."
   ]
  },
  {
   "cell_type": "markdown",
   "id": "64e8489a-ae15-4f62-ab45-f408878d502c",
   "metadata": {},
   "source": [
    "<a id=\"linreg_opdracht1\"></a>\n",
    "## Opdracht 1"
   ]
  },
  {
   "cell_type": "code",
   "id": "9c2209e2-a2f3-480b-85ab-3e8d3f3e31e6",
   "metadata": {
    "ExecuteTime": {
     "end_time": "2024-10-06T12:25:32.368724Z",
     "start_time": "2024-10-06T12:25:32.276870Z"
    }
   },
   "source": [
    "import numpy as np\n",
    "import pandas as pd\n",
    "import matplotlib.pyplot as plt\n",
    "import matplotlib.patches as patches\n",
    "import seaborn as sns\n",
    "from sklearn import linear_model"
   ],
   "outputs": [],
   "execution_count": 1
  },
  {
   "cell_type": "code",
   "id": "12d65e1d-281b-4f31-a153-031cf035dbf3",
   "metadata": {
    "ExecuteTime": {
     "end_time": "2024-10-06T12:25:32.432184Z",
     "start_time": "2024-10-06T12:25:32.429399Z"
    }
   },
   "source": [
    "personen = pd.DataFrame({'lengte': [1.678, 1.755, 1.764, 1.821, 1.809, 1.851, 1.848, 1.902], \n",
    "                         'gewicht': [62.2, 67.2, 72.7, 76.4, 75.2, 81.3, 87.4, 90.4]})"
   ],
   "outputs": [],
   "execution_count": 2
  },
  {
   "cell_type": "code",
   "id": "224fc323-6e6d-4cce-9290-eadd7b362788",
   "metadata": {
    "ExecuteTime": {
     "end_time": "2024-10-06T12:25:32.482041Z",
     "start_time": "2024-10-06T12:25:32.470088Z"
    }
   },
   "source": [
    "r = personen['gewicht'].corr(personen['lengte'])\n",
    "print(f'Pearsons correlatiecoëfficient r = {r}')"
   ],
   "outputs": [
    {
     "name": "stdout",
     "output_type": "stream",
     "text": [
      "Pearsons correlatiecoëfficient r = 0.9573607425326734\n"
     ]
    }
   ],
   "execution_count": 3
  },
  {
   "cell_type": "markdown",
   "id": "d7232374-c636-4d26-bf96-d6822c3dd1ee",
   "metadata": {},
   "source": [
    "### Lineaire formule\n",
    "\n",
    "Zoek de _beste_ lineaire formule die het gewicht $y$ voorspelt gegeven lengte $x$ met richtingscoëfficient $a$ en intercept $b$. Je vindt de beste formule door de _sum of squared residuals_ (SSR, de som van het kwadraat van de residuen) te minimaliseren. Maak hiervoor gebruik van de grafiek die hieronder getekend wordt. De verticale rode lijnen representeren het residu bij elke meetwaarde."
   ]
  },
  {
   "cell_type": "code",
   "id": "6c3137fb-adc2-4680-88d6-e5650a8f9b44",
   "metadata": {
    "ExecuteTime": {
     "end_time": "2024-10-06T12:25:32.598354Z",
     "start_time": "2024-10-06T12:25:32.594466Z"
    }
   },
   "source": [
    "# x-as loopt van minimum van lengte tot maximum van lengte\n",
    "x = np.linspace((personen[['lengte']].min()-.03), personen[['lengte']].max()+.03)"
   ],
   "outputs": [],
   "execution_count": 4
  },
  {
   "cell_type": "markdown",
   "id": "6cb12220-8760-46f8-b8af-ab39d8d06099",
   "metadata": {},
   "source": [
    "Bij _simple linear regression_ geldt: \n",
    "\n",
    "$$ a = \\frac{ \\sum_{i=1}^{n} (x_{i}-\\bar{x})(y_{i}-\\bar{y}) }{ \\sum_{i=1}^{n}(x_{i}-\\bar{x})^{2}} \n",
    "     = \\frac{Cov[x,y]}{Var[x]} $$\n",
    "\n",
    "en \n",
    "\n",
    "$$ b = \\bar{y} - a \\bar{x} $$"
   ]
  },
  {
   "cell_type": "code",
   "id": "6670fc8f-d1fa-47a3-bf9c-b51a801b3524",
   "metadata": {
    "ExecuteTime": {
     "end_time": "2024-10-06T12:25:32.683954Z",
     "start_time": "2024-10-06T12:25:32.681457Z"
    }
   },
   "source": [
    "cov_xy = np.cov(personen['lengte'], personen['gewicht'], bias=True)[0][1]\n",
    "var_x = np.var(personen['lengte'])\n",
    "mean_x = personen['lengte'].mean()\n",
    "mean_y = personen['gewicht'].mean()\n",
    "\n",
    "a = cov_xy / var_x\n",
    "b = mean_y - a * mean_x\n",
    "y = a*x+b\n",
    "\n",
    "print(f'y = {a} x + {b}')"
   ],
   "outputs": [
    {
     "name": "stdout",
     "output_type": "stream",
     "text": [
      "y = 131.6842477458896 x + -160.8925408097119\n"
     ]
    }
   ],
   "execution_count": 5
  },
  {
   "cell_type": "code",
   "id": "b988594d-8b93-421d-adfe-8038ca816263",
   "metadata": {
    "scrolled": true,
    "ExecuteTime": {
     "end_time": "2024-10-06T12:25:32.789032Z",
     "start_time": "2024-10-06T12:25:32.786094Z"
    }
   },
   "source": [
    "a = ((personen['lengte'] - mean_x) * (personen['gewicht'] - mean_y)).sum() / ((personen['lengte'] - mean_x)**2).sum()\n",
    "b = mean_y - a * mean_x\n",
    "\n",
    "y = a*x+b\n",
    "\n",
    "print(f'y = {a} x + {b}')"
   ],
   "outputs": [
    {
     "name": "stdout",
     "output_type": "stream",
     "text": [
      "y = 131.6842477458896 x + -160.8925408097119\n"
     ]
    }
   ],
   "execution_count": 6
  },
  {
   "cell_type": "code",
   "id": "9a611311-58b4-40fc-9a76-120a7bf4ec1d",
   "metadata": {
    "ExecuteTime": {
     "end_time": "2024-10-06T12:25:32.851749Z",
     "start_time": "2024-10-06T12:25:32.841082Z"
    }
   },
   "source": [
    "reg = linear_model.LinearRegression()\n",
    "reg.fit(personen[['lengte']], personen[['gewicht']])\n",
    "print(f'y = {reg.coef_[0][0]} x + {reg.intercept_[0]}')\n",
    "personen['gewicht_linreg'] = reg.predict(personen[['lengte']])\n",
    "\n",
    "a, b = reg.coef_[0][0], reg.intercept_[0]\n",
    "y = a*x+b\n",
    "# geeft ssr = 53.59"
   ],
   "outputs": [
    {
     "name": "stdout",
     "output_type": "stream",
     "text": [
      "y = 131.68424774588954 x + -160.8925408097118\n"
     ]
    }
   ],
   "execution_count": 7
  },
  {
   "cell_type": "markdown",
   "id": "2d2ff7d2-a13c-415d-b8eb-1d3750af315d",
   "metadata": {},
   "source": [
    "### Opdracht 1a: bepaal handmatig de beste coëfficienten\n",
    "Pas a en b zodanig aan dat je de 'Sum of squared residuals (SSR)' minimaliseert\n",
    "Pas in deze cel a en b aan, run deze cel en de volgende cel en analyseer het resultaat aan de hand van de score die \n",
    "boven in de visualisatie getoond wordt\n",
    "\n",
    " - Tip 1: je kunt als eerste gok de coëfficienten uitrekenen op basis van een van de gegeven punten\n",
    " - Tip 2: je kunt de helling van de lijn aanpassen met a\n",
    " - Tip 3: je kunt de hoogte van de lijn aanpassen met b"
   ]
  },
  {
   "cell_type": "code",
   "id": "2e5bc84c-5498-4cd8-8615-542eba35cb01",
   "metadata": {
    "tags": [
     "student"
    ],
    "ExecuteTime": {
     "end_time": "2024-10-06T12:25:32.903399Z",
     "start_time": "2024-10-06T12:25:32.901908Z"
    }
   },
   "source": [],
   "outputs": [],
   "execution_count": null
  },
  {
   "cell_type": "markdown",
   "id": "a6bbe56f-fe80-4910-a99f-ecf65829f23a",
   "metadata": {},
   "source": [
    "### Opdracht 1b: bepaal de beste coëfficienten met behulp van Lineaire Regressie\n",
    "We gaan nu de computer coëfficienten a en b laten bepalen met behulp van Lineaire Regressie. Voer de volgende stappen uit:\n",
    "\n",
    " - Kies het juiste modeltype\n",
    " - Kies de features en targetvariabele\n",
    " - Maak een train en testset\n",
    " - Kies de hyperparameters\n",
    " - Train het model\n",
    " - Valideer de resultaten\n",
    " \n",
    "Ga daarna verschillende iteraties uitvoeren om tot een beter model te komen. Er zijn meerdere mogelijkheden om het model te verbeteren:\n",
    "\n",
    " - Andere instellingen\n",
    " - Andere features\n",
    " - Features normaliseren"
   ]
  },
  {
   "cell_type": "code",
   "id": "38d3afc7-f15a-454b-adcf-a58bf50be0dd",
   "metadata": {
    "tags": [
     "student"
    ],
    "ExecuteTime": {
     "end_time": "2024-10-06T12:25:32.954042Z",
     "start_time": "2024-10-06T12:25:32.951816Z"
    }
   },
   "source": [],
   "outputs": [],
   "execution_count": null
  },
  {
   "cell_type": "markdown",
   "id": "98415c26-3a16-4163-9563-a7d0a7f288f0",
   "metadata": {},
   "source": [
    "<a id=\"linreg_opdracht2\"></a>\n",
    "## Opdracht 2"
   ]
  },
  {
   "cell_type": "markdown",
   "id": "a41d409e-785b-45b2-ac93-90844de17703",
   "metadata": {},
   "source": [
    "In deze oefening gaan we onderzoeken of het verbruik van auto's is te voorspellen aan de hand van diverse kenmerken. Er worden eerst een aantal analyses en bewerkingen op de data uitgevoerd, voordat we starten met enkele opdrachten."
   ]
  },
  {
   "cell_type": "code",
   "id": "74258554-03ed-454a-837c-81efe08748ab",
   "metadata": {
    "ExecuteTime": {
     "end_time": "2024-10-06T12:25:33.006287Z",
     "start_time": "2024-10-06T12:25:33.004483Z"
    }
   },
   "source": [
    "# Bronnen\n",
    "# Dowload: https://archive.ics.uci.edu/ml/datasets/Auto+MPG \n",
    "# Omvormen naar csv: http://fatihsarigoz.com/autompg-data.html \n",
    "# Lineaire regressie: http://benalexkeen.com/linear-regression-in-python-using-scikit-learn/ "
   ],
   "outputs": [],
   "execution_count": 8
  },
  {
   "cell_type": "code",
   "id": "ffbbbcd5-ab3b-44f3-b1d3-682312fbea6a",
   "metadata": {
    "ExecuteTime": {
     "end_time": "2024-10-06T12:25:33.050566Z",
     "start_time": "2024-10-06T12:25:33.048599Z"
    }
   },
   "source": [
    "# Libraries importeren\n",
    "\n",
    "import pandas as pd\n",
    "import numpy as np\n",
    "from sklearn.model_selection import train_test_split\n",
    "from sklearn.linear_model import LinearRegression\n",
    "from sklearn.metrics import mean_squared_error\n",
    "from sklearn.metrics import r2_score\n",
    "import math\n",
    "import matplotlib.pyplot as plt"
   ],
   "outputs": [],
   "execution_count": 9
  },
  {
   "cell_type": "code",
   "id": "770de064-664d-44fc-8e23-601b50d6ae67",
   "metadata": {
    "ExecuteTime": {
     "end_time": "2024-10-06T12:25:33.103288Z",
     "start_time": "2024-10-06T12:25:33.094827Z"
    }
   },
   "source": [
    "# Analyseren welke attributen er in de dataset zitten. Als je de inhoud niet snapt, is het handig om ff te Googlen!\n",
    "\n",
    "df = pd.read_csv('lineaire_regressie_auto_mpg.csv')\n",
    "df.head()"
   ],
   "outputs": [
    {
     "data": {
      "text/plain": [
       "    mpg  cylinders  displacement  horsepower  weight  acceleration  year  \\\n",
       "0  18.0          8         307.0       130.0  3504.0          12.0    70   \n",
       "1  15.0          8         350.0       165.0  3693.0          11.5    70   \n",
       "2  18.0          8         318.0       150.0  3436.0          11.0    70   \n",
       "3  16.0          8         304.0       150.0  3433.0          12.0    70   \n",
       "4  17.0          8         302.0       140.0  3449.0          10.5    70   \n",
       "\n",
       "   origin                       name  \n",
       "0       1  chevrolet chevelle malibu  \n",
       "1       1          buick skylark 320  \n",
       "2       1         plymouth satellite  \n",
       "3       1              amc rebel sst  \n",
       "4       1                ford torino  "
      ],
      "text/html": [
       "<div>\n",
       "<style scoped>\n",
       "    .dataframe tbody tr th:only-of-type {\n",
       "        vertical-align: middle;\n",
       "    }\n",
       "\n",
       "    .dataframe tbody tr th {\n",
       "        vertical-align: top;\n",
       "    }\n",
       "\n",
       "    .dataframe thead th {\n",
       "        text-align: right;\n",
       "    }\n",
       "</style>\n",
       "<table border=\"1\" class=\"dataframe\">\n",
       "  <thead>\n",
       "    <tr style=\"text-align: right;\">\n",
       "      <th></th>\n",
       "      <th>mpg</th>\n",
       "      <th>cylinders</th>\n",
       "      <th>displacement</th>\n",
       "      <th>horsepower</th>\n",
       "      <th>weight</th>\n",
       "      <th>acceleration</th>\n",
       "      <th>year</th>\n",
       "      <th>origin</th>\n",
       "      <th>name</th>\n",
       "    </tr>\n",
       "  </thead>\n",
       "  <tbody>\n",
       "    <tr>\n",
       "      <th>0</th>\n",
       "      <td>18.0</td>\n",
       "      <td>8</td>\n",
       "      <td>307.0</td>\n",
       "      <td>130.0</td>\n",
       "      <td>3504.0</td>\n",
       "      <td>12.0</td>\n",
       "      <td>70</td>\n",
       "      <td>1</td>\n",
       "      <td>chevrolet chevelle malibu</td>\n",
       "    </tr>\n",
       "    <tr>\n",
       "      <th>1</th>\n",
       "      <td>15.0</td>\n",
       "      <td>8</td>\n",
       "      <td>350.0</td>\n",
       "      <td>165.0</td>\n",
       "      <td>3693.0</td>\n",
       "      <td>11.5</td>\n",
       "      <td>70</td>\n",
       "      <td>1</td>\n",
       "      <td>buick skylark 320</td>\n",
       "    </tr>\n",
       "    <tr>\n",
       "      <th>2</th>\n",
       "      <td>18.0</td>\n",
       "      <td>8</td>\n",
       "      <td>318.0</td>\n",
       "      <td>150.0</td>\n",
       "      <td>3436.0</td>\n",
       "      <td>11.0</td>\n",
       "      <td>70</td>\n",
       "      <td>1</td>\n",
       "      <td>plymouth satellite</td>\n",
       "    </tr>\n",
       "    <tr>\n",
       "      <th>3</th>\n",
       "      <td>16.0</td>\n",
       "      <td>8</td>\n",
       "      <td>304.0</td>\n",
       "      <td>150.0</td>\n",
       "      <td>3433.0</td>\n",
       "      <td>12.0</td>\n",
       "      <td>70</td>\n",
       "      <td>1</td>\n",
       "      <td>amc rebel sst</td>\n",
       "    </tr>\n",
       "    <tr>\n",
       "      <th>4</th>\n",
       "      <td>17.0</td>\n",
       "      <td>8</td>\n",
       "      <td>302.0</td>\n",
       "      <td>140.0</td>\n",
       "      <td>3449.0</td>\n",
       "      <td>10.5</td>\n",
       "      <td>70</td>\n",
       "      <td>1</td>\n",
       "      <td>ford torino</td>\n",
       "    </tr>\n",
       "  </tbody>\n",
       "</table>\n",
       "</div>"
      ]
     },
     "execution_count": 10,
     "metadata": {},
     "output_type": "execute_result"
    }
   ],
   "execution_count": 10
  },
  {
   "cell_type": "code",
   "id": "295267ba-4725-48fc-91da-0cb06ffadb53",
   "metadata": {
    "ExecuteTime": {
     "end_time": "2024-10-06T12:25:33.173264Z",
     "start_time": "2024-10-06T12:25:33.161502Z"
    }
   },
   "source": [
    "# Inhoud van de attributen analyseren, check wat describe() doet met het attribuut `origin`\n",
    "\n",
    "df.describe()"
   ],
   "outputs": [
    {
     "data": {
      "text/plain": [
       "              mpg   cylinders  displacement  horsepower       weight  \\\n",
       "count  392.000000  392.000000    392.000000  392.000000   392.000000   \n",
       "mean    23.445918    5.471939    194.411990  104.469388  2977.584184   \n",
       "std      7.805007    1.705783    104.644004   38.491160   849.402560   \n",
       "min      9.000000    3.000000     68.000000   46.000000  1613.000000   \n",
       "25%     17.000000    4.000000    105.000000   75.000000  2225.250000   \n",
       "50%     22.750000    4.000000    151.000000   93.500000  2803.500000   \n",
       "75%     29.000000    8.000000    275.750000  126.000000  3614.750000   \n",
       "max     46.600000    8.000000    455.000000  230.000000  5140.000000   \n",
       "\n",
       "       acceleration        year      origin  \n",
       "count    392.000000  392.000000  392.000000  \n",
       "mean      15.541327   75.979592    1.576531  \n",
       "std        2.758864    3.683737    0.805518  \n",
       "min        8.000000   70.000000    1.000000  \n",
       "25%       13.775000   73.000000    1.000000  \n",
       "50%       15.500000   76.000000    1.000000  \n",
       "75%       17.025000   79.000000    2.000000  \n",
       "max       24.800000   82.000000    3.000000  "
      ],
      "text/html": [
       "<div>\n",
       "<style scoped>\n",
       "    .dataframe tbody tr th:only-of-type {\n",
       "        vertical-align: middle;\n",
       "    }\n",
       "\n",
       "    .dataframe tbody tr th {\n",
       "        vertical-align: top;\n",
       "    }\n",
       "\n",
       "    .dataframe thead th {\n",
       "        text-align: right;\n",
       "    }\n",
       "</style>\n",
       "<table border=\"1\" class=\"dataframe\">\n",
       "  <thead>\n",
       "    <tr style=\"text-align: right;\">\n",
       "      <th></th>\n",
       "      <th>mpg</th>\n",
       "      <th>cylinders</th>\n",
       "      <th>displacement</th>\n",
       "      <th>horsepower</th>\n",
       "      <th>weight</th>\n",
       "      <th>acceleration</th>\n",
       "      <th>year</th>\n",
       "      <th>origin</th>\n",
       "    </tr>\n",
       "  </thead>\n",
       "  <tbody>\n",
       "    <tr>\n",
       "      <th>count</th>\n",
       "      <td>392.000000</td>\n",
       "      <td>392.000000</td>\n",
       "      <td>392.000000</td>\n",
       "      <td>392.000000</td>\n",
       "      <td>392.000000</td>\n",
       "      <td>392.000000</td>\n",
       "      <td>392.000000</td>\n",
       "      <td>392.000000</td>\n",
       "    </tr>\n",
       "    <tr>\n",
       "      <th>mean</th>\n",
       "      <td>23.445918</td>\n",
       "      <td>5.471939</td>\n",
       "      <td>194.411990</td>\n",
       "      <td>104.469388</td>\n",
       "      <td>2977.584184</td>\n",
       "      <td>15.541327</td>\n",
       "      <td>75.979592</td>\n",
       "      <td>1.576531</td>\n",
       "    </tr>\n",
       "    <tr>\n",
       "      <th>std</th>\n",
       "      <td>7.805007</td>\n",
       "      <td>1.705783</td>\n",
       "      <td>104.644004</td>\n",
       "      <td>38.491160</td>\n",
       "      <td>849.402560</td>\n",
       "      <td>2.758864</td>\n",
       "      <td>3.683737</td>\n",
       "      <td>0.805518</td>\n",
       "    </tr>\n",
       "    <tr>\n",
       "      <th>min</th>\n",
       "      <td>9.000000</td>\n",
       "      <td>3.000000</td>\n",
       "      <td>68.000000</td>\n",
       "      <td>46.000000</td>\n",
       "      <td>1613.000000</td>\n",
       "      <td>8.000000</td>\n",
       "      <td>70.000000</td>\n",
       "      <td>1.000000</td>\n",
       "    </tr>\n",
       "    <tr>\n",
       "      <th>25%</th>\n",
       "      <td>17.000000</td>\n",
       "      <td>4.000000</td>\n",
       "      <td>105.000000</td>\n",
       "      <td>75.000000</td>\n",
       "      <td>2225.250000</td>\n",
       "      <td>13.775000</td>\n",
       "      <td>73.000000</td>\n",
       "      <td>1.000000</td>\n",
       "    </tr>\n",
       "    <tr>\n",
       "      <th>50%</th>\n",
       "      <td>22.750000</td>\n",
       "      <td>4.000000</td>\n",
       "      <td>151.000000</td>\n",
       "      <td>93.500000</td>\n",
       "      <td>2803.500000</td>\n",
       "      <td>15.500000</td>\n",
       "      <td>76.000000</td>\n",
       "      <td>1.000000</td>\n",
       "    </tr>\n",
       "    <tr>\n",
       "      <th>75%</th>\n",
       "      <td>29.000000</td>\n",
       "      <td>8.000000</td>\n",
       "      <td>275.750000</td>\n",
       "      <td>126.000000</td>\n",
       "      <td>3614.750000</td>\n",
       "      <td>17.025000</td>\n",
       "      <td>79.000000</td>\n",
       "      <td>2.000000</td>\n",
       "    </tr>\n",
       "    <tr>\n",
       "      <th>max</th>\n",
       "      <td>46.600000</td>\n",
       "      <td>8.000000</td>\n",
       "      <td>455.000000</td>\n",
       "      <td>230.000000</td>\n",
       "      <td>5140.000000</td>\n",
       "      <td>24.800000</td>\n",
       "      <td>82.000000</td>\n",
       "      <td>3.000000</td>\n",
       "    </tr>\n",
       "  </tbody>\n",
       "</table>\n",
       "</div>"
      ]
     },
     "execution_count": 11,
     "metadata": {},
     "output_type": "execute_result"
    }
   ],
   "execution_count": 11
  },
  {
   "cell_type": "code",
   "id": "5c4a28fd-401f-4c79-937b-78a4cfe78034",
   "metadata": {
    "ExecuteTime": {
     "end_time": "2024-10-06T12:25:33.220430Z",
     "start_time": "2024-10-06T12:25:33.218427Z"
    }
   },
   "source": [
    "# Drop name: die hebben we niet nodig \n",
    "\n",
    "df = df.drop('name', axis=1)"
   ],
   "outputs": [],
   "execution_count": 12
  },
  {
   "cell_type": "code",
   "id": "b80b8394-eb32-41ce-8182-324b463f9bb8",
   "metadata": {
    "ExecuteTime": {
     "end_time": "2024-10-06T12:25:33.347902Z",
     "start_time": "2024-10-06T12:25:33.341636Z"
    }
   },
   "source": [
    "# Origin lijkt een numerieke waarde, maar het is een categorie. \n",
    "# Dit attribuut moeten we aanpassen voordat we het kunnen gebruiken voor lineaire regressie\n",
    "\n",
    "df = pd.get_dummies(df, columns=['origin'])\n",
    "df.head()"
   ],
   "outputs": [
    {
     "data": {
      "text/plain": [
       "    mpg  cylinders  displacement  horsepower  weight  acceleration  year  \\\n",
       "0  18.0          8         307.0       130.0  3504.0          12.0    70   \n",
       "1  15.0          8         350.0       165.0  3693.0          11.5    70   \n",
       "2  18.0          8         318.0       150.0  3436.0          11.0    70   \n",
       "3  16.0          8         304.0       150.0  3433.0          12.0    70   \n",
       "4  17.0          8         302.0       140.0  3449.0          10.5    70   \n",
       "\n",
       "   origin_1  origin_2  origin_3  \n",
       "0      True     False     False  \n",
       "1      True     False     False  \n",
       "2      True     False     False  \n",
       "3      True     False     False  \n",
       "4      True     False     False  "
      ],
      "text/html": [
       "<div>\n",
       "<style scoped>\n",
       "    .dataframe tbody tr th:only-of-type {\n",
       "        vertical-align: middle;\n",
       "    }\n",
       "\n",
       "    .dataframe tbody tr th {\n",
       "        vertical-align: top;\n",
       "    }\n",
       "\n",
       "    .dataframe thead th {\n",
       "        text-align: right;\n",
       "    }\n",
       "</style>\n",
       "<table border=\"1\" class=\"dataframe\">\n",
       "  <thead>\n",
       "    <tr style=\"text-align: right;\">\n",
       "      <th></th>\n",
       "      <th>mpg</th>\n",
       "      <th>cylinders</th>\n",
       "      <th>displacement</th>\n",
       "      <th>horsepower</th>\n",
       "      <th>weight</th>\n",
       "      <th>acceleration</th>\n",
       "      <th>year</th>\n",
       "      <th>origin_1</th>\n",
       "      <th>origin_2</th>\n",
       "      <th>origin_3</th>\n",
       "    </tr>\n",
       "  </thead>\n",
       "  <tbody>\n",
       "    <tr>\n",
       "      <th>0</th>\n",
       "      <td>18.0</td>\n",
       "      <td>8</td>\n",
       "      <td>307.0</td>\n",
       "      <td>130.0</td>\n",
       "      <td>3504.0</td>\n",
       "      <td>12.0</td>\n",
       "      <td>70</td>\n",
       "      <td>True</td>\n",
       "      <td>False</td>\n",
       "      <td>False</td>\n",
       "    </tr>\n",
       "    <tr>\n",
       "      <th>1</th>\n",
       "      <td>15.0</td>\n",
       "      <td>8</td>\n",
       "      <td>350.0</td>\n",
       "      <td>165.0</td>\n",
       "      <td>3693.0</td>\n",
       "      <td>11.5</td>\n",
       "      <td>70</td>\n",
       "      <td>True</td>\n",
       "      <td>False</td>\n",
       "      <td>False</td>\n",
       "    </tr>\n",
       "    <tr>\n",
       "      <th>2</th>\n",
       "      <td>18.0</td>\n",
       "      <td>8</td>\n",
       "      <td>318.0</td>\n",
       "      <td>150.0</td>\n",
       "      <td>3436.0</td>\n",
       "      <td>11.0</td>\n",
       "      <td>70</td>\n",
       "      <td>True</td>\n",
       "      <td>False</td>\n",
       "      <td>False</td>\n",
       "    </tr>\n",
       "    <tr>\n",
       "      <th>3</th>\n",
       "      <td>16.0</td>\n",
       "      <td>8</td>\n",
       "      <td>304.0</td>\n",
       "      <td>150.0</td>\n",
       "      <td>3433.0</td>\n",
       "      <td>12.0</td>\n",
       "      <td>70</td>\n",
       "      <td>True</td>\n",
       "      <td>False</td>\n",
       "      <td>False</td>\n",
       "    </tr>\n",
       "    <tr>\n",
       "      <th>4</th>\n",
       "      <td>17.0</td>\n",
       "      <td>8</td>\n",
       "      <td>302.0</td>\n",
       "      <td>140.0</td>\n",
       "      <td>3449.0</td>\n",
       "      <td>10.5</td>\n",
       "      <td>70</td>\n",
       "      <td>True</td>\n",
       "      <td>False</td>\n",
       "      <td>False</td>\n",
       "    </tr>\n",
       "  </tbody>\n",
       "</table>\n",
       "</div>"
      ]
     },
     "execution_count": 13,
     "metadata": {},
     "output_type": "execute_result"
    }
   ],
   "execution_count": 13
  },
  {
   "cell_type": "code",
   "id": "03191593-7cd8-45b1-939e-672aa4a64c2a",
   "metadata": {
    "tags": [
     "student"
    ],
    "ExecuteTime": {
     "end_time": "2024-10-06T12:25:33.729053Z",
     "start_time": "2024-10-06T12:25:33.643173Z"
    }
   },
   "source": [
    "# Verkenning van de correlaties\n",
    "\n",
    "print(df.corr()['mpg'])\n",
    "\n",
    "plt.subplots(dpi=100)\n",
    "plt.scatter(df.displacement, df.mpg)\n",
    "plt.show()"
   ],
   "outputs": [
    {
     "name": "stdout",
     "output_type": "stream",
     "text": [
      "mpg             1.000000\n",
      "cylinders      -0.777618\n",
      "displacement   -0.805127\n",
      "horsepower     -0.778427\n",
      "weight         -0.832244\n",
      "acceleration    0.423329\n",
      "year            0.580541\n",
      "origin_1       -0.565161\n",
      "origin_2        0.244313\n",
      "origin_3        0.451454\n",
      "Name: mpg, dtype: float64\n"
     ]
    },
    {
     "data": {
      "text/plain": [
       "<Figure size 640x480 with 1 Axes>"
      ],
      "image/png": "[encoded data removed]"
     },
     "metadata": {},
     "output_type": "display_data"
    }
   ],
   "execution_count": 14
  },
  {
   "cell_type": "markdown",
   "id": "efaec84b-5628-4951-9c56-832820302038",
   "metadata": {},
   "source": [
    "1. Kies het juiste modeltype"
   ]
  },
  {
   "cell_type": "code",
   "id": "974c1bb1-bd24-496f-963e-8f0af55c35b0",
   "metadata": {
    "tags": [
     "student"
    ],
    "ExecuteTime": {
     "end_time": "2024-10-06T12:25:33.795616Z",
     "start_time": "2024-10-06T12:25:33.794137Z"
    }
   },
   "source": [],
   "outputs": [],
   "execution_count": null
  },
  {
   "cell_type": "markdown",
   "id": "9bc05ba9-0ff9-435a-ac09-bfdd2f0c51a5",
   "metadata": {},
   "source": [
    "2. Kies de hyperparameters"
   ]
  },
  {
   "cell_type": "code",
   "id": "cee62068-52e5-432b-9ad6-70bf62080469",
   "metadata": {
    "tags": [
     "student"
    ],
    "ExecuteTime": {
     "end_time": "2024-10-06T12:25:33.850695Z",
     "start_time": "2024-10-06T12:25:33.848972Z"
    }
   },
   "source": [],
   "outputs": [],
   "execution_count": null
  },
  {
   "cell_type": "markdown",
   "id": "9f3814c5-2a1b-4ace-926e-818c794c0c79",
   "metadata": {},
   "source": [
    "3. Organiseer de data: _features_ (eigenschappen) en _target_ (resultaat)"
   ]
  },
  {
   "cell_type": "code",
   "id": "52abac49-6100-43f6-a917-db7445361e95",
   "metadata": {
    "tags": [
     "student"
    ],
    "ExecuteTime": {
     "end_time": "2024-10-06T12:25:33.897498Z",
     "start_time": "2024-10-06T12:25:33.895941Z"
    }
   },
   "source": [],
   "outputs": [],
   "execution_count": null
  },
  {
   "cell_type": "markdown",
   "id": "72e8f437-e3c0-4da6-868d-88e28e5c5703",
   "metadata": {},
   "source": [
    "4. Creëer een training- en validatieset"
   ]
  },
  {
   "cell_type": "code",
   "id": "7a6d590b-a980-43a3-82dc-ed2df9179df0",
   "metadata": {
    "tags": [
     "student"
    ],
    "ExecuteTime": {
     "end_time": "2024-10-06T12:25:33.945821Z",
     "start_time": "2024-10-06T12:25:33.944345Z"
    }
   },
   "source": [],
   "outputs": [],
   "execution_count": null
  },
  {
   "cell_type": "markdown",
   "id": "45c41ad6-285e-43ec-9af0-8494d2f3e72c",
   "metadata": {},
   "source": [
    "5. Start het leerproces"
   ]
  },
  {
   "cell_type": "code",
   "id": "9b6e9fac-66ca-40a6-bccb-5b8681e1b64a",
   "metadata": {
    "tags": [
     "student"
    ],
    "ExecuteTime": {
     "end_time": "2024-10-06T12:25:33.994172Z",
     "start_time": "2024-10-06T12:25:33.991134Z"
    }
   },
   "source": [],
   "outputs": [],
   "execution_count": null
  },
  {
   "cell_type": "markdown",
   "id": "4ee5f3f4-ba5c-4dc0-9865-f7d0e9e0cbe5",
   "metadata": {},
   "source": [
    "6. Valideer het model\n",
    "\n",
    "Bereken de determinatiecoëfficient $r^2$."
   ]
  },
  {
   "cell_type": "code",
   "id": "1308d6dc-e3c2-4f47-ad14-3f6e290a556d",
   "metadata": {
    "tags": [
     "student"
    ],
    "ExecuteTime": {
     "end_time": "2024-10-06T12:25:34.042675Z",
     "start_time": "2024-10-06T12:25:34.041191Z"
    }
   },
   "source": [],
   "outputs": [],
   "execution_count": null
  },
  {
   "cell_type": "markdown",
   "id": "93a5143f-b055-497d-a02f-4fd2ec9b1b1f",
   "metadata": {},
   "source": [
    "Bereken de *root mean squared error*, gebruik makend van `mean_squared_error()`."
   ]
  },
  {
   "cell_type": "code",
   "id": "8f391990-f045-4762-81a4-3de1835aa995",
   "metadata": {
    "tags": [
     "student"
    ],
    "ExecuteTime": {
     "end_time": "2024-10-06T12:25:34.094310Z",
     "start_time": "2024-10-06T12:25:34.092771Z"
    }
   },
   "source": [],
   "outputs": [],
   "execution_count": null
  },
  {
   "cell_type": "markdown",
   "id": "daaaf3d5-e97d-4d02-a64d-7ed9e1717629",
   "metadata": {},
   "source": [
    "Wat is de betekenis van dit getal?"
   ]
  },
  {
   "cell_type": "markdown",
   "id": "df85cefd-16a0-4bfa-a433-e647ad570bcc",
   "metadata": {
    "tags": [
     "student"
    ]
   },
   "source": []
  },
  {
   "cell_type": "markdown",
   "id": "44c1b5b3-beb5-466b-a45c-90b894b149be",
   "metadata": {},
   "source": [
    "Wat gebeurt er met de lineaire regressie als je andere _features_ kiest? Welke deelverzameling van kenmerken is het beste?\n"
   ]
  },
  {
   "cell_type": "code",
   "id": "b688401b-9946-42a7-bb64-c5861a5daa84",
   "metadata": {
    "tags": [
     "student"
    ],
    "ExecuteTime": {
     "end_time": "2024-10-06T12:25:34.140051Z",
     "start_time": "2024-10-06T12:25:34.138335Z"
    }
   },
   "source": [],
   "outputs": [],
   "execution_count": null
  }
 ],
 "metadata": {
  "kernelspec": {
   "display_name": "Python 3 (ipykernel)",
   "language": "python",
   "name": "python3"
  },
  "language_info": {
   "codemirror_mode": {
    "name": "ipython",
    "version": 3
   },
   "file_extension": ".py",
   "mimetype": "text/x-python",
   "name": "python",
   "nbconvert_exporter": "python",
   "pygments_lexer": "ipython3",
   "version": "3.8.2"
  }
 },
 "nbformat": 4,
 "nbformat_minor": 5
}
